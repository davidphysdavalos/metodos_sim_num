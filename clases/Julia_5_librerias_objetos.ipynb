{
 "cells": [
  {
   "cell_type": "markdown",
   "metadata": {},
   "source": [
    "# Modulos en Julia (librerias)"
   ]
  },
  {
   "cell_type": "markdown",
   "metadata": {},
   "source": [
    "Para mayor información consulten la documentación: https://docs.julialang.org/en/v1/manual/documentation/"
   ]
  },
  {
   "cell_type": "code",
   "execution_count": 1,
   "metadata": {},
   "outputs": [
    {
     "data": {
      "text/plain": [
       "Main.herramientas"
      ]
     },
     "metadata": {},
     "output_type": "display_data"
    }
   ],
   "source": [
    "__precompile__() # Este comando es para que julia precompile el paquete\n",
    "\n",
    "module herramientas\n",
    "\n",
    "export original_integer, base_2\n",
    "\n",
    "@doc \"original integer input: list of binary digits output: integer\"\n",
    "function original_integer(list)\n",
    "    return parse(Int, join(list); base=2)\n",
    "end\n",
    "\n",
    "@doc \"base_2 input: integer and pad optional output: list of binary digits\"\n",
    "function base_2(integer; pad= nothing)\n",
    "    if pad == nothing\n",
    "        return reverse(digits(integer, base = 2))\n",
    "    else\n",
    "        return reverse(digits(integer, base = 2, pad = pad))\n",
    "    end\n",
    "end\n",
    "\n",
    "end"
   ]
  },
  {
   "cell_type": "markdown",
   "metadata": {},
   "source": [
    "Accediendo a la documentación:"
   ]
  },
  {
   "cell_type": "code",
   "execution_count": 3,
   "metadata": {},
   "outputs": [
    {
     "data": {
      "text/latex": [
       "base\\_2 input: integer and pad optional output: list of binary digits\n",
       "\n"
      ],
      "text/markdown": [
       "base_2 input: integer and pad optional output: list of binary digits\n"
      ],
      "text/plain": [
       "  base_2 input: integer and pad optional output: list of binary digits"
      ]
     },
     "metadata": {},
     "output_type": "display_data"
    }
   ],
   "source": [
    "@doc herramientas.base_2"
   ]
  },
  {
   "cell_type": "code",
   "execution_count": 4,
   "metadata": {},
   "outputs": [
    {
     "data": {
      "text/latex": [
       "original integer input: list of binary digits output: integer\n",
       "\n"
      ],
      "text/markdown": [
       "original integer input: list of binary digits output: integer\n"
      ],
      "text/plain": [
       "  original integer input: list of binary digits output: integer"
      ]
     },
     "metadata": {},
     "output_type": "display_data"
    }
   ],
   "source": [
    "@doc herramientas.original_integer"
   ]
  },
  {
   "cell_type": "markdown",
   "metadata": {},
   "source": [
    "Al evaluar la celda donde está el módulo, de acuerdo a la documentación, estamos obteniendo el comportamiento de `import`"
   ]
  },
  {
   "cell_type": "code",
   "execution_count": 9,
   "metadata": {},
   "outputs": [
    {
     "name": "stderr",
     "output_type": "stream",
     "text": [
      "WARNING: could not import Main.herramientas into Main\n"
     ]
    }
   ],
   "source": [
    "import .herramientas"
   ]
  },
  {
   "cell_type": "markdown",
   "metadata": {},
   "source": [
    "Para ver como funciona `using` debemos hacer la libreria propiamente en su propio archivo."
   ]
  },
  {
   "cell_type": "code",
   "execution_count": 1,
   "metadata": {},
   "outputs": [],
   "source": [
    "include(\"herramientas.jl\") # Necesario para hacerle saber a Julia que el archivo existe. Hay formas de automatizar esto.\n",
    "using .herramientas"
   ]
  },
  {
   "cell_type": "code",
   "execution_count": 2,
   "metadata": {},
   "outputs": [
    {
     "data": {
      "text/latex": [
       "custom\\_unique input: list output: list with unique elements. This function aims to correct the behavior of unique that selects -0.0 and 0.0 as different numbers\n",
       "\n"
      ],
      "text/markdown": [
       "custom_unique input: list output: list with unique elements. This function aims to correct the behavior of unique that selects -0.0 and 0.0 as different numbers\n"
      ],
      "text/plain": [
       "  custom_unique input: list output: list with unique elements. This function\n",
       "  aims to correct the behavior of unique that selects -0.0 and 0.0 as\n",
       "  different numbers"
      ]
     },
     "metadata": {},
     "output_type": "display_data"
    }
   ],
   "source": [
    "@doc custom_unique"
   ]
  },
  {
   "cell_type": "code",
   "execution_count": 3,
   "metadata": {},
   "outputs": [
    {
     "data": {
      "text/latex": [
       "original integer input: list of binary digits output: integer\n",
       "\n"
      ],
      "text/markdown": [
       "original integer input: list of binary digits output: integer\n"
      ],
      "text/plain": [
       "  original integer input: list of binary digits output: integer"
      ]
     },
     "metadata": {},
     "output_type": "display_data"
    }
   ],
   "source": [
    "@doc original_integer"
   ]
  },
  {
   "cell_type": "code",
   "execution_count": 5,
   "metadata": {},
   "outputs": [
    {
     "ename": "UndefVarError",
     "evalue": "UndefVarError: `is_approx_equal` not defined in `Main`\nSuggestion: check for spelling errors or missing imports.",
     "output_type": "error",
     "traceback": [
      "UndefVarError: `is_approx_equal` not defined in `Main`\n",
      "Suggestion: check for spelling errors or missing imports.\n",
      "\n",
      "Stacktrace:\n",
      " [1] macro expansion\n",
      "   @ show.jl:1232 [inlined]\n",
      " [2] top-level scope\n",
      "   @ ~/Escritorio/Maestria/Proyectos/clases/metodos_sim_num/clases/jl_notebook_cell_df34fa98e69747e1a8f8a730347b8e2f_X30sZmlsZQ==.jl:1"
     ]
    }
   ],
   "source": [
    "@show is_approx_equal"
   ]
  },
  {
   "cell_type": "code",
   "execution_count": 6,
   "metadata": {},
   "outputs": [
    {
     "name": "stdout",
     "output_type": "stream",
     "text": [
      "herramientas.is_approx_equal = Main.herramientas.is_approx_equal\n"
     ]
    },
    {
     "data": {
      "text/plain": [
       "is_approx_equal (generic function with 1 method)"
      ]
     },
     "metadata": {},
     "output_type": "display_data"
    }
   ],
   "source": [
    "@show herramientas.is_approx_equal"
   ]
  },
  {
   "cell_type": "markdown",
   "metadata": {},
   "source": [
    "Cabe señalar que `import` deja el _workspace_ limpio, ya que lo que hace es importar solo hace disponible el modulo"
   ]
  }
 ],
 "metadata": {
  "kernelspec": {
   "display_name": "Julia 1.11.3",
   "language": "julia",
   "name": "julia-1.11"
  },
  "language_info": {
   "file_extension": ".jl",
   "mimetype": "application/julia",
   "name": "julia",
   "version": "1.11.3"
  }
 },
 "nbformat": 4,
 "nbformat_minor": 2
}
