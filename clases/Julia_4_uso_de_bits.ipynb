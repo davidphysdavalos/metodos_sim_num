{
 "cells": [
  {
   "cell_type": "markdown",
   "metadata": {},
   "source": [
    "# Programando compuertas de forma bruta"
   ]
  },
  {
   "cell_type": "markdown",
   "metadata": {},
   "source": [
    "En clase ya hicimos todo esto, aquí pongo mis versiones improvisadas para ilustrar algunas cosas"
   ]
  },
  {
   "cell_type": "code",
   "execution_count": 104,
   "metadata": {},
   "outputs": [
    {
     "data": {
      "text/plain": [
       "Dict{Int64, Matrix} with 4 entries:\n",
       "  0 => [1.0 0.0; 0.0 1.0]\n",
       "  2 => Complex{Int64}[0+0im 0-1im; 0+1im 0+0im]\n",
       "  3 => [1 0; 0 -1]\n",
       "  1 => [0 1; 1 0]"
      ]
     },
     "metadata": {},
     "output_type": "display_data"
    }
   ],
   "source": [
    "# Dictionary with Pauli matrices\n",
    "sigmas = Dict(0 => [1.0 0; 0 1], 1 => [0 1; 1 0], 2 => [0 -im; im 0], 3 => [1 0; 0 -1])"
   ]
  },
  {
   "cell_type": "code",
   "execution_count": 121,
   "metadata": {},
   "outputs": [
    {
     "data": {
      "text/plain": [
       "pauli (generic function with 1 method)"
      ]
     },
     "metadata": {},
     "output_type": "display_data"
    }
   ],
   "source": [
    "function pauli(index, target, particles)\n",
    "    list = []\n",
    "    for i in 1:particles\n",
    "        if i == target\n",
    "            push!(list, sigmas[index])\n",
    "        else\n",
    "            push!(list, sigmas[0])\n",
    "        end\n",
    "    end\n",
    "    return kron(list...)\n",
    "end"
   ]
  },
  {
   "cell_type": "code",
   "execution_count": 122,
   "metadata": {},
   "outputs": [
    {
     "data": {
      "text/plain": [
       "4×4 Matrix{Float64}:\n",
       " 0.0  0.0  1.0  0.0\n",
       " 0.0  0.0  0.0  1.0\n",
       " 1.0  0.0  0.0  0.0\n",
       " 0.0  1.0  0.0  0.0"
      ]
     },
     "metadata": {},
     "output_type": "display_data"
    }
   ],
   "source": [
    "pauli(1, 1, 2)"
   ]
  },
  {
   "cell_type": "markdown",
   "metadata": {},
   "source": [
    "Operador de paridad ${\\mathcal P}=\\prod_i^N \\sigma^x_i$"
   ]
  },
  {
   "cell_type": "code",
   "execution_count": 130,
   "metadata": {},
   "outputs": [
    {
     "data": {
      "text/plain": [
       "parity (generic function with 1 method)"
      ]
     },
     "metadata": {},
     "output_type": "display_data"
    }
   ],
   "source": [
    "function parity(particles)\n",
    "    list = [sigmas[1] for _ in 1:particles]\n",
    "    return kron(list...)\n",
    "end"
   ]
  },
  {
   "cell_type": "code",
   "execution_count": 133,
   "metadata": {},
   "outputs": [
    {
     "data": {
      "text/plain": [
       "8×8 Matrix{Int64}:\n",
       " 0  0  0  0  0  0  0  1\n",
       " 0  0  0  0  0  0  1  0\n",
       " 0  0  0  0  0  1  0  0\n",
       " 0  0  0  0  1  0  0  0\n",
       " 0  0  0  1  0  0  0  0\n",
       " 0  0  1  0  0  0  0  0\n",
       " 0  1  0  0  0  0  0  0\n",
       " 1  0  0  0  0  0  0  0"
      ]
     },
     "metadata": {},
     "output_type": "display_data"
    }
   ],
   "source": [
    "parity(3)"
   ]
  },
  {
   "cell_type": "code",
   "execution_count": 136,
   "metadata": {},
   "outputs": [],
   "source": [
    "using LinearAlgebra"
   ]
  },
  {
   "cell_type": "code",
   "execution_count": 139,
   "metadata": {},
   "outputs": [
    {
     "data": {
      "text/plain": [
       "Eigen{Float64, Float64, Matrix{Float64}, Vector{Float64}}\n",
       "values:\n",
       "4-element Vector{Float64}:\n",
       " -0.9999999999999989\n",
       " -0.9999999999999989\n",
       "  1.0\n",
       "  1.0\n",
       "vectors:\n",
       "4×4 Matrix{Float64}:\n",
       "  0.0       -0.707107  0.0       0.707107\n",
       "  0.707107   0.0       0.707107  0.0\n",
       " -0.707107   0.0       0.707107  0.0\n",
       "  0.0        0.707107  0.0       0.707107"
      ]
     },
     "metadata": {},
     "output_type": "display_data"
    }
   ],
   "source": [
    "vals, vecs = eigen(parity(2))"
   ]
  },
  {
   "cell_type": "markdown",
   "metadata": {},
   "source": [
    "Si este operador es una simetría del Hamiltoniano, podemos diagonalizar el Hamiltoniano por bloques de paridad."
   ]
  },
  {
   "cell_type": "code",
   "execution_count": 156,
   "metadata": {},
   "outputs": [
    {
     "data": {
      "text/plain": [
       "-0.9999999999999989"
      ]
     },
     "metadata": {},
     "output_type": "display_data"
    }
   ],
   "source": [
    "vals[1]"
   ]
  },
  {
   "cell_type": "code",
   "execution_count": 165,
   "metadata": {},
   "outputs": [
    {
     "name": "stdout",
     "output_type": "stream",
     "text": [
      "findall(vals .== 1) = [3, 4]\n"
     ]
    },
    {
     "data": {
      "text/plain": [
       "2-element Vector{Int64}:\n",
       " 3\n",
       " 4"
      ]
     },
     "metadata": {},
     "output_type": "display_data"
    }
   ],
   "source": [
    "# Para filtrar todos los eigenvectores con eigenvalor 1, hacemos lo siguiente para encontrar los índices\n",
    "@show findall(vals .== 1)"
   ]
  },
  {
   "cell_type": "code",
   "execution_count": 167,
   "metadata": {},
   "outputs": [
    {
     "data": {
      "text/plain": [
       "4×2 Matrix{Float64}:\n",
       " 0.0       0.707107\n",
       " 0.707107  0.0\n",
       " 0.707107  0.0\n",
       " 0.0       0.707107"
      ]
     },
     "metadata": {},
     "output_type": "display_data"
    }
   ],
   "source": [
    "#O simplemente dentro de la matriz de eigenvectores\n",
    "vec = vecs[:, findall(vals .== 1)]"
   ]
  },
  {
   "cell_type": "markdown",
   "metadata": {},
   "source": [
    "## Ejercicios"
   ]
  },
  {
   "cell_type": "markdown",
   "metadata": {},
   "source": [
    "### 1\n",
    "* Diagonalizar por bloques el Hamiltoniano de Ising con Js aleatorias. Es decir, teniendo los eigenvectores con un eigenvalor de paridad determinado, digamos $\\{ |v_i\\rangle \\}$, donde ${\\mathcal P}|v_i\\rangle=|v_i\\rangle$, el bloque del Hamiltoniano es simplemente $H^+_{i,j}=\\langle v_i |H |v_j\\rangle$, donde el $+$ indica que es el bloque con paridad positiva.\n",
    "* Graficar de nuevo el espectro respecto al campo $b$, pero ahora con los eigenvalores de diferente paridad con diferente color (claramente tendremos solo dos colores).\n",
    "### 2\n",
    "* Definir el operador de _traslación_ de qubits. Es decir, considerando una cadena cerrada, definan el operador $K$ tal que $K|000100\\rangle=|000010\\rangle$, etc. La idea de este operador es que las etiquetas de los qubits, digamos $i$ se manden a $i\\to i+1$."
   ]
  },
  {
   "cell_type": "markdown",
   "metadata": {},
   "source": [
    "# Uso de bits para aplicar compuertas cuánticas eficientemente"
   ]
  },
  {
   "cell_type": "markdown",
   "metadata": {},
   "source": [
    "* En lo que sigue, utilizaremos la notación de base 2: 0=[0], [1], 2=[10], 3=[11], etc, y si se usa algún _padding_, hablamos de lo siguiente: 0=[000] (en este ejemplo el padding igual a 3, es decir, siempre veremos todo con tres dígitos, usualmente se utilizará esto con fines didacticos y de claridad).\n",
    "* Nota importante, independientemente de como indexe Julia, siempre contaremos los qubits de derecha a izquierda y comenzando del 0. Es decir, si tenemos 3 qubits, el de la derecha es el 0 y el de la izquierda el 2."
   ]
  },
  {
   "cell_type": "markdown",
   "metadata": {},
   "source": [
    "Como ya vimos en clase, los componentes de los estados de muchos qubits en la base computacional (la base que se construye con los eigenestados de $\\sigma_z^{\\otimes n}$, por ej $| 0 0 0 0 \\rangle$, $| 0 0 0 1 \\rangle$ etc.) están convenientemente indexados por números enteros en notación binaria, es decir, el componente tercer componente de un estado de 3 qubits (comenzando a contar desde el $0$) corresponde a 3=[011], lo cual correspondería a la amplitud de probabilidad de medir $|011\\rangle$."
   ]
  },
  {
   "cell_type": "markdown",
   "metadata": {},
   "source": [
    "En clase también vimos que usualmente tendremos _indices untouched_ e _indices target_, donde los últimos son los indices relevantes donde se aplicaría una unitaria. Para controlar sobre que índices iterar utilizando solo los enteros que indexan a los vectores en Julia, es útil hacer operaciones directamente en los bits de los mismos. En la clase remota nos fuimos paso a paso con el suigente ejemplo:"
   ]
  },
  {
   "cell_type": "code",
   "execution_count": 1,
   "metadata": {},
   "outputs": [
    {
     "data": {
      "text/plain": [
       "base_2 (generic function with 1 method)"
      ]
     },
     "metadata": {},
     "output_type": "display_data"
    }
   ],
   "source": [
    "# Primero definimos algunas funciones auxiliares que nos ayudarán a convertir de un número a una lista de bits y viceversa.\n",
    "function original_integer(list)\n",
    "    return parse(Int, join(list); base=2)\n",
    "end\n",
    "\n",
    "function base_2(integer; pad= nothing)\n",
    "    if pad == nothing\n",
    "        return reverse(digits(integer, base = 2))\n",
    "    else\n",
    "        return reverse(digits(integer, base = 2, pad = pad))\n",
    "    end\n",
    "end"
   ]
  },
  {
   "cell_type": "markdown",
   "metadata": {},
   "source": [
    "## Merge Two Integers"
   ]
  },
  {
   "cell_type": "markdown",
   "metadata": {},
   "source": [
    "La función que queremos contruir es ``merge_two_integers``, la cual recibe 3 enteros ``merge_two_integers(a, b, mask)``, la idea es que los dígitos binarios de ``a`` se colocan en los 1s de ``mask``. \n",
    "\n",
    "Por ejemplo: Si la mascara es 2=[010] (mask), target es ${\\color{red} 0=[0] (a)}$ y untouched es ${\\color{blue} 2=[10] (b)}$, la función nos debe de regresar el entero que surge al \"repartir\" los indices target sobre los 1s de la mascara, y los untouched sobre los 0s. Es decir, nos debe regresar $[{\\color{blue}1}{\\color{red} 0}{\\color{blue} 0}]=4$. Puse el 0 del target en medio y el 10 en donde están los ceros. Hay que pensar en como hacerlo eficientemente."
   ]
  },
  {
   "cell_type": "markdown",
   "metadata": {},
   "source": [
    "A continuación, veremos como serían dos iteraciones (más o menos, hay que hacerlo con cuidado). Observen también lo que hacen los bit-wise operators."
   ]
  },
  {
   "cell_type": "code",
   "execution_count": 52,
   "metadata": {},
   "outputs": [
    {
     "data": {
      "text/plain": [
       "(12, 3, 5)"
      ]
     },
     "metadata": {},
     "output_type": "display_data"
    }
   ],
   "source": [
    "mask = original_integer([0,1,1,0,0])\n",
    "a = original_integer([1,1])\n",
    "b = original_integer([1,0,1])\n",
    "mask, a , b"
   ]
  },
  {
   "cell_type": "code",
   "execution_count": 53,
   "metadata": {},
   "outputs": [
    {
     "data": {
      "text/plain": [
       "29"
      ]
     },
     "metadata": {},
     "output_type": "display_data"
    }
   ],
   "source": [
    "original_integer([1,1,1,0,1])"
   ]
  },
  {
   "cell_type": "code",
   "execution_count": 54,
   "metadata": {},
   "outputs": [
    {
     "data": {
      "text/plain": [
       "0"
      ]
     },
     "metadata": {},
     "output_type": "display_data"
    }
   ],
   "source": [
    "mask & 1"
   ]
  },
  {
   "cell_type": "markdown",
   "metadata": {},
   "source": [
    "Utilizar con lo anterior un ``if`` para revisar si toca poner un digito de $a$ o uno de $b$. En este caso toca de $b$, por supuesto."
   ]
  },
  {
   "cell_type": "code",
   "execution_count": 55,
   "metadata": {},
   "outputs": [
    {
     "data": {
      "text/plain": [
       "1"
      ]
     },
     "metadata": {},
     "output_type": "display_data"
    }
   ],
   "source": [
    "result = 0 # definimos la variable donde escribiremos lo que nos dará merge_two_integers\n",
    "bit = b & 1 # Esto nos dice si el último bit de b es 1 o 0\n",
    "result = result | bit # Esto nos hace que el último bit de result sea igual al último bit de b"
   ]
  },
  {
   "cell_type": "code",
   "execution_count": 56,
   "metadata": {},
   "outputs": [
    {
     "data": {
      "text/plain": [
       "5-element Vector{Int64}:\n",
       " 0\n",
       " 0\n",
       " 0\n",
       " 0\n",
       " 1"
      ]
     },
     "metadata": {},
     "output_type": "display_data"
    }
   ],
   "source": [
    "base_2(result, pad = 5)"
   ]
  },
  {
   "cell_type": "code",
   "execution_count": 57,
   "metadata": {},
   "outputs": [
    {
     "data": {
      "text/plain": [
       "5-element Vector{Int64}:\n",
       " 0\n",
       " 1\n",
       " 1\n",
       " 0\n",
       " 0"
      ]
     },
     "metadata": {},
     "output_type": "display_data"
    }
   ],
   "source": [
    "base_2(mask, pad = 5) # Teniendo en mente que esta es la mascara, hay que pasarnos al siguiente bit, eliminando el último bit de mask"
   ]
  },
  {
   "cell_type": "code",
   "execution_count": 58,
   "metadata": {},
   "outputs": [
    {
     "data": {
      "text/plain": [
       "4-element Vector{Int64}:\n",
       " 0\n",
       " 1\n",
       " 1\n",
       " 0"
      ]
     },
     "metadata": {},
     "output_type": "display_data"
    }
   ],
   "source": [
    "new_mask = mask >> 1\n",
    "base_2(new_mask, pad = 4) # A sabiendas que eliminé un bit, uso pad = 4, recuerden que el pad es solo para visualiar, el número subyacente no cambia, es para fines ilustrativos"
   ]
  },
  {
   "cell_type": "markdown",
   "metadata": {},
   "source": [
    "Antes de proseguir, observen también que ya se utilizó el último dígito de b, por lo tanto hay que quitarlo."
   ]
  },
  {
   "cell_type": "code",
   "execution_count": 59,
   "metadata": {},
   "outputs": [
    {
     "data": {
      "text/plain": [
       "2-element Vector{Int64}:\n",
       " 1\n",
       " 0"
      ]
     },
     "metadata": {},
     "output_type": "display_data"
    }
   ],
   "source": [
    "new_b = b >> 1\n",
    "base_2(new_b, pad = 2) # A sabiendas que eliminé un bit, uso pad = 2, recuerden que el pad es solo para visualiar, el número subyacente no cambia, es para fines ilustrativos"
   ]
  },
  {
   "cell_type": "code",
   "execution_count": 60,
   "metadata": {},
   "outputs": [
    {
     "data": {
      "text/plain": [
       "0"
      ]
     },
     "metadata": {},
     "output_type": "display_data"
    }
   ],
   "source": [
    "new_mask & 1 # Vemos que el último bit de la máscara es también cero, por lo tanto de nuevo hay que colocar el último bit de new_b en result"
   ]
  },
  {
   "cell_type": "code",
   "execution_count": 63,
   "metadata": {},
   "outputs": [
    {
     "data": {
      "text/plain": [
       "0"
      ]
     },
     "metadata": {},
     "output_type": "display_data"
    }
   ],
   "source": [
    "bit = new_b & 1 # El segundo bit de b es cero."
   ]
  },
  {
   "cell_type": "markdown",
   "metadata": {},
   "source": [
    "__Nota importante:__ En lo siguiente, hay que comparar el segundo digito de result con bit, o equivalentemente, recorrer bit por uno y comparar con result. Es decir: result en la primera iteración es 0 = [00001], el 1 a la derecha ya fue añadido de b. Ahora hay que añadir el 0 de b:"
   ]
  },
  {
   "cell_type": "code",
   "execution_count": 64,
   "metadata": {},
   "outputs": [
    {
     "data": {
      "text/plain": [
       "1"
      ]
     },
     "metadata": {},
     "output_type": "display_data"
    }
   ],
   "source": [
    "result = result | bit<<1"
   ]
  },
  {
   "cell_type": "code",
   "execution_count": 67,
   "metadata": {},
   "outputs": [
    {
     "data": {
      "text/plain": [
       "(0, 0)"
      ]
     },
     "metadata": {},
     "output_type": "display_data"
    }
   ],
   "source": [
    "bit<<1, bit # En este caso no cambia nada si recorremos bit, ya que igual es cero, pero será relevante cuando el bit a agregar a result sea 1, por ejemplo:"
   ]
  },
  {
   "cell_type": "code",
   "execution_count": 69,
   "metadata": {},
   "outputs": [
    {
     "data": {
      "text/plain": [
       "4"
      ]
     },
     "metadata": {},
     "output_type": "display_data"
    }
   ],
   "source": [
    "1<<2 # Aquí recorremos el primer dígito de $1$ dos veces: es decir, mandamos [001] a [100]"
   ]
  },
  {
   "cell_type": "markdown",
   "metadata": {},
   "source": [
    "El siguiente dígito a añadir es el de $a$:"
   ]
  },
  {
   "cell_type": "code",
   "execution_count": 73,
   "metadata": {},
   "outputs": [
    {
     "data": {
      "text/plain": [
       "3-element Vector{Int64}:\n",
       " 0\n",
       " 1\n",
       " 1"
      ]
     },
     "metadata": {},
     "output_type": "display_data"
    }
   ],
   "source": [
    "new_mask = mask>>2 # primero recorremos la mascara dos veces\n",
    "base_2(new_mask, pad = 3)"
   ]
  },
  {
   "cell_type": "code",
   "execution_count": 75,
   "metadata": {},
   "outputs": [
    {
     "data": {
      "text/plain": [
       "1"
      ]
     },
     "metadata": {},
     "output_type": "display_data"
    }
   ],
   "source": [
    "# Chequemos si toca a o toca b:\n",
    "new_mask & 1 # Viendo la máscara, claramente toca a"
   ]
  },
  {
   "cell_type": "code",
   "execution_count": 76,
   "metadata": {},
   "outputs": [
    {
     "data": {
      "text/plain": [
       "1"
      ]
     },
     "metadata": {},
     "output_type": "display_data"
    }
   ],
   "source": [
    "bit = a & 1 # Como no hemos usado a, no hay new_a"
   ]
  },
  {
   "cell_type": "code",
   "execution_count": 83,
   "metadata": {},
   "outputs": [
    {
     "data": {
      "text/plain": [
       "5-element Vector{Int64}:\n",
       " 0\n",
       " 0\n",
       " 1\n",
       " 0\n",
       " 1"
      ]
     },
     "metadata": {},
     "output_type": "display_data"
    }
   ],
   "source": [
    "result = result | bit << 2\n",
    "base_2(result | bit << 2, pad = 5) # Agregamos el bit recorrido dos veces"
   ]
  },
  {
   "cell_type": "code",
   "execution_count": 84,
   "metadata": {},
   "outputs": [
    {
     "data": {
      "text/plain": [
       "1"
      ]
     },
     "metadata": {},
     "output_type": "display_data"
    }
   ],
   "source": [
    "new_a = a>>1 # Como ya usamos el primer dígito de a, lo recorremos"
   ]
  },
  {
   "cell_type": "code",
   "execution_count": 85,
   "metadata": {},
   "outputs": [
    {
     "data": {
      "text/plain": [
       "5"
      ]
     },
     "metadata": {},
     "output_type": "display_data"
    }
   ],
   "source": [
    "result"
   ]
  },
  {
   "cell_type": "markdown",
   "metadata": {},
   "source": [
    "## Ejercicios\n",
    "### 1\n",
    "* Crear la función ``merge_two_integers`` utilizando los operadores bit-wise mostrados arriba.\n",
    "* Testear la función y asegurarse de que funcione correctamente.\n",
    "### 2\n",
    "* Crear una función que se llame ``apply_qubit_unitary(u,target,particles)`` utilizando ``merge_two_integers``. Esta nueva función deberá aplicar una unitaria de $2\\times 2$ al qubit target."
   ]
  }
 ],
 "metadata": {
  "kernelspec": {
   "display_name": "Julia 1.11.3",
   "language": "julia",
   "name": "julia-1.11"
  },
  "language_info": {
   "file_extension": ".jl",
   "mimetype": "application/julia",
   "name": "julia",
   "version": "1.11.3"
  }
 },
 "nbformat": 4,
 "nbformat_minor": 2
}
