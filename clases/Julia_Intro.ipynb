{
 "cells": [
  {
   "cell_type": "markdown",
   "metadata": {},
   "source": [
    "# Introducción a Julia y Jupyter-notebook"
   ]
  },
  {
   "cell_type": "markdown",
   "metadata": {},
   "source": [
    "El texto canónico es el [manual de Julia](https://docs.julialang.org/en/v1/)"
   ]
  },
  {
   "cell_type": "markdown",
   "metadata": {},
   "source": [
    "[Julia](http://julialang.org/) es un lenguaje concebido para hacer cómputo científico, y por gente que tiene experiencia en eso. Incorpora muchos elementos modernos del diseño de lenguajes de cómputo."
   ]
  },
  {
   "cell_type": "markdown",
   "metadata": {},
   "source": [
    "Por ejemplo, cosas como \"pi\" y kron (producto de kronecker) están definidas."
   ]
  },
  {
   "cell_type": "markdown",
   "metadata": {},
   "source": [
    "Uso de Jupyter-notebook\n",
    "============================\n",
    "\n",
    "Jupyter es una herramienta muy util para desarrollar código de Julia y Python, entre muchos otros lenguajes. Tiene elementos que recuerdan los notebooks de Mathematica.\n",
    "\n",
    "Modo Esc:\n",
    "----------------------\n",
    "\n",
    "* Presionando \"a\"/\"b\" abre una celda arriba arriba/abajo __above/bottom__ de la que actualmente esta seleccionada.\n",
    "\n",
    "* presionando \"d\" dos veces se borra la celda seleccionada.\n",
    "\n",
    "* \"m\" cambia la celda a Markdown\n",
    "\n",
    "Presionando Enter se cambia al modo de edición de celda\n",
    "------------------------------------------------------------\n",
    "\n",
    "* Las celdas se evaluan con \"shift+Enter\" (como en mathematica, solo que aqui no funciona el Intro)\n",
    "\n",
    "* Las celdas aceptan diversos lenguajes tales como `MarkDown`, el mismo lenguaje en el que fue escrita esta celda.\n",
    "\n",
    "* El notebook permite varios modos interesantes, por ej. presionando ctrl y haciendo click con el mouse en diferentes partes del codigo, el notebook nos brinda muchos cursores.\n",
    "\n",
    "\n"
   ]
  },
  {
   "cell_type": "markdown",
   "metadata": {},
   "source": [
    "## Instalacion y uso de paqueterias de Julia\n",
    "\n",
    "* El comando Pkg.update() actualiza la información de los repositorios de Julia\n",
    "* Pkg.add(\"Nombre del paquete\") instala el paquete deseado, por ejemplo, si queremos instalar PyPlot para poder hacer graficas:\n",
    "* __Nota:__ La primera vez que el kernel de Julia se ejecuta en un nuevo note"
   ]
  },
  {
   "cell_type": "code",
   "execution_count": 2,
   "metadata": {},
   "outputs": [
    {
     "name": "stderr",
     "output_type": "stream",
     "text": [
      "\u001b[32m\u001b[1m    Updating\u001b[22m\u001b[39m registry at `~/.julia/registries/General.toml`\n",
      "\u001b[32m\u001b[1m   Installed\u001b[22m\u001b[39m libpng_jll ─ v1.6.46+0\n",
      "\u001b[32m\u001b[1m  No Changes\u001b[22m\u001b[39m to `~/.julia/environments/v1.11/Project.toml`\n",
      "\u001b[32m\u001b[1m    Updating\u001b[22m\u001b[39m `~/.julia/environments/v1.11/Manifest.toml`\n",
      "  \u001b[90m[b53b4c65] \u001b[39m\u001b[93m↑ libpng_jll v1.6.45+1 ⇒ v1.6.46+0\u001b[39m\n",
      "\u001b[92m\u001b[1mPrecompiling\u001b[22m\u001b[39m project...\n",
      "   1091.5 ms\u001b[32m  ✓ \u001b[39m\u001b[90mlibpng_jll\u001b[39m\n",
      "   1094.2 ms\u001b[32m  ✓ \u001b[39m\u001b[90mCairo_jll\u001b[39m\n",
      "    776.5 ms\u001b[32m  ✓ \u001b[39m\u001b[90mHarfBuzz_jll\u001b[39m\n",
      "    889.8 ms\u001b[32m  ✓ \u001b[39m\u001b[90mPango_jll\u001b[39m\n",
      "    939.8 ms\u001b[32m  ✓ \u001b[39m\u001b[90mlibass_jll\u001b[39m\n",
      "   1143.0 ms\u001b[32m  ✓ \u001b[39m\u001b[90mlibdecor_jll\u001b[39m\n",
      "   1419.2 ms\u001b[32m  ✓ \u001b[39m\u001b[90mFFMPEG_jll\u001b[39m\n",
      "   1196.7 ms\u001b[32m  ✓ \u001b[39m\u001b[90mGLFW_jll\u001b[39m\n",
      "   1145.6 ms\u001b[32m  ✓ \u001b[39m\u001b[90mFFMPEG\u001b[39m\n",
      "   1334.6 ms\u001b[32m  ✓ \u001b[39m\u001b[90mGR_jll\u001b[39m\n",
      "   5448.6 ms\u001b[32m  ✓ \u001b[39m\u001b[90mGR\u001b[39m\n",
      "  74923.7 ms\u001b[32m  ✓ \u001b[39mPlots\n",
      "   3978.1 ms\u001b[32m  ✓ \u001b[39mPlots → UnitfulExt\n",
      "  13 dependencies successfully precompiled in 94 seconds. 180 already precompiled.\n",
      "\u001b[32m\u001b[1m   Resolving\u001b[22m\u001b[39m package versions...\n",
      "\u001b[32m\u001b[1m  No Changes\u001b[22m\u001b[39m to `~/.julia/environments/v1.11/Project.toml`\n",
      "\u001b[32m\u001b[1m  No Changes\u001b[22m\u001b[39m to `~/.julia/environments/v1.11/Manifest.toml`\n"
     ]
    }
   ],
   "source": [
    "using Pkg\n",
    "Pkg.update()\n",
    "Pkg.add(\"PyPlot\")"
   ]
  },
  {
   "cell_type": "markdown",
   "metadata": {},
   "source": [
    "# Lo básico"
   ]
  },
  {
   "cell_type": "markdown",
   "metadata": {
    "collapsed": true
   },
   "source": [
    "Originalmente las funciones especiales estaban precargadas en el kernel de Julia, sin embargo, luego de el lanzamiento de la versión 1 de Julia, este ya no es el caso. Como por ejemplo la función $J_0$ de Bessel:"
   ]
  },
  {
   "cell_type": "markdown",
   "metadata": {},
   "source": [
    "Antes de intentar ejecutar las funciones, importemos el paquete necesario. Es importante observar que al trabajar en un notebook, los paquetes y variables que carguemos son globales en todo el notebook."
   ]
  },
  {
   "cell_type": "code",
   "execution_count": 3,
   "metadata": {},
   "outputs": [
    {
     "name": "stderr",
     "output_type": "stream",
     "text": [
      "\u001b[32m\u001b[1m   Resolving\u001b[22m\u001b[39m package versions...\n",
      "\u001b[32m\u001b[1m  No Changes\u001b[22m\u001b[39m to `~/.julia/environments/v1.11/Project.toml`\n",
      "\u001b[32m\u001b[1m  No Changes\u001b[22m\u001b[39m to `~/.julia/environments/v1.11/Manifest.toml`\n"
     ]
    }
   ],
   "source": [
    "# Importamos la librería con funciones especiales\n",
    "Pkg.add(\"SpecialFunctions\") # Esto solo es necesario la primera vez, por supuesto.\n",
    "using SpecialFunctions"
   ]
  },
  {
   "cell_type": "code",
   "execution_count": 4,
   "metadata": {
    "collapsed": true
   },
   "outputs": [
    {
     "data": {
      "text/plain": [
       "0.8516319137048081"
      ]
     },
     "metadata": {},
     "output_type": "display_data"
    }
   ],
   "source": [
    "besselj0(pi/4)"
   ]
  },
  {
   "cell_type": "code",
   "execution_count": 5,
   "metadata": {
    "collapsed": true
   },
   "outputs": [
    {
     "data": {
      "text/plain": [
       "10.584448464950801"
      ]
     },
     "metadata": {},
     "output_type": "display_data"
    }
   ],
   "source": [
    "zeta(1.1) # Zeta de Riemann"
   ]
  },
  {
   "cell_type": "code",
   "execution_count": 6,
   "metadata": {
    "collapsed": true
   },
   "outputs": [
    {
     "data": {
      "text/latex": [
       "\\begin{verbatim}\n",
       "zeta(s, z)\n",
       "\\end{verbatim}\n",
       "Generalized zeta function defined by\n",
       "\n",
       "$$\\zeta(s, z) = \\sum_{k=0}^\\infty \\frac{1}{((k+z)^2)^{s/2}},$$\n",
       "where any term with $k+z = 0$ is excluded.  For $\\Re z > 0$, this definition is equivalent to the Hurwitz zeta function $\\sum_{k=0}^\\infty (k+z)^{-s}$.\n",
       "\n",
       "The Riemann zeta function is recovered as $\\zeta(s) = \\zeta(s,1)$.\n",
       "\n",
       "External links: \\href{https://en.wikipedia.org/wiki/Riemann_zeta_function}{Riemann zeta function}, \\href{https://en.wikipedia.org/wiki/Hurwitz_zeta_function}{Hurwitz zeta function}\n",
       "\n",
       "\\begin{verbatim}\n",
       "zeta(s)\n",
       "\\end{verbatim}\n",
       "Riemann zeta function\n",
       "\n",
       "$$\\zeta(s) = \\sum_{n=1}^\\infty \\frac{1}{n^s}\\quad\\text{for}\\quad s\\in\\mathbb{C}.$$\n",
       "External links: \\href{https://en.wikipedia.org/wiki/Riemann_zeta_function}{Wikipedia}\n",
       "\n"
      ],
      "text/markdown": [
       "```\n",
       "zeta(s, z)\n",
       "```\n",
       "\n",
       "Generalized zeta function defined by\n",
       "\n",
       "$$\n",
       "\\zeta(s, z) = \\sum_{k=0}^\\infty \\frac{1}{((k+z)^2)^{s/2}},\n",
       "$$\n",
       "\n",
       "where any term with $k+z = 0$ is excluded.  For $\\Re z > 0$, this definition is equivalent to the Hurwitz zeta function $\\sum_{k=0}^\\infty (k+z)^{-s}$.\n",
       "\n",
       "The Riemann zeta function is recovered as $\\zeta(s) = \\zeta(s,1)$.\n",
       "\n",
       "External links: [Riemann zeta function](https://en.wikipedia.org/wiki/Riemann_zeta_function), [Hurwitz zeta function](https://en.wikipedia.org/wiki/Hurwitz_zeta_function)\n",
       "\n",
       "```\n",
       "zeta(s)\n",
       "```\n",
       "\n",
       "Riemann zeta function\n",
       "\n",
       "$$\n",
       "\\zeta(s) = \\sum_{n=1}^\\infty \\frac{1}{n^s}\\quad\\text{for}\\quad s\\in\\mathbb{C}.\n",
       "$$\n",
       "\n",
       "External links: [Wikipedia](https://en.wikipedia.org/wiki/Riemann_zeta_function)\n"
      ],
      "text/plain": [
       "\u001b[36m  zeta(s, z)\u001b[39m\n",
       "\n",
       "  Generalized zeta function defined by\n",
       "\n",
       "\u001b[35m  \\zeta(s, z) = \\sum_{k=0}^\\infty \\frac{1}{((k+z)^2)^{s/2}},\u001b[39m\n",
       "\n",
       "  where any term with \u001b[35mk+z = 0\u001b[39m is excluded. For \u001b[35m\\Re z > 0\u001b[39m, this definition is\n",
       "  equivalent to the Hurwitz zeta function \u001b[35m\\sum_{k=0}^\\infty (k+z)^{-s}\u001b[39m.\n",
       "\n",
       "  The Riemann zeta function is recovered as \u001b[35m\\zeta(s) = \\zeta(s,1)\u001b[39m.\n",
       "\n",
       "  External links: Riemann zeta function\n",
       "  (https://en.wikipedia.org/wiki/Riemann_zeta_function), Hurwitz zeta function\n",
       "  (https://en.wikipedia.org/wiki/Hurwitz_zeta_function)\n",
       "\n",
       "\u001b[36m  zeta(s)\u001b[39m\n",
       "\n",
       "  Riemann zeta function\n",
       "\n",
       "\u001b[35m  \\zeta(s) = \\sum_{n=1}^\\infty \\frac{1}{n^s}\\quad\\text{for}\\quad s\\in\\mathbb{C}.\u001b[39m\n",
       "\n",
       "  External links: Wikipedia\n",
       "  (https://en.wikipedia.org/wiki/Riemann_zeta_function)"
      ]
     },
     "metadata": {},
     "output_type": "display_data"
    }
   ],
   "source": [
    "@doc zeta # Para pedir ayuda"
   ]
  },
  {
   "cell_type": "code",
   "execution_count": 7,
   "metadata": {
    "collapsed": true
   },
   "outputs": [
    {
     "data": {
      "text/plain": [
       "π = 3.1415926535897..."
      ]
     },
     "metadata": {},
     "output_type": "display_data"
    }
   ],
   "source": [
    "pi"
   ]
  },
  {
   "cell_type": "markdown",
   "metadata": {},
   "source": [
    "__Nota:__"
   ]
  },
  {
   "cell_type": "code",
   "execution_count": 8,
   "metadata": {
    "collapsed": true
   },
   "outputs": [
    {
     "data": {
      "text/plain": [
       "π = 3.1415926535897..."
      ]
     },
     "metadata": {},
     "output_type": "display_data"
    }
   ],
   "source": [
    "π # se genera excribiendo `\\pi<TAB>`"
   ]
  },
  {
   "cell_type": "code",
   "execution_count": 9,
   "metadata": {
    "collapsed": true
   },
   "outputs": [
    {
     "data": {
      "text/plain": [
       "0.5"
      ]
     },
     "metadata": {},
     "output_type": "display_data"
    }
   ],
   "source": [
    "1/2"
   ]
  },
  {
   "cell_type": "code",
   "execution_count": 10,
   "metadata": {
    "collapsed": true
   },
   "outputs": [
    {
     "data": {
      "text/plain": [
       "true"
      ]
     },
     "metadata": {},
     "output_type": "display_data"
    }
   ],
   "source": [
    "1/2==0.5"
   ]
  },
  {
   "cell_type": "code",
   "execution_count": 11,
   "metadata": {},
   "outputs": [
    {
     "data": {
      "text/plain": [
       "Float64"
      ]
     },
     "metadata": {},
     "output_type": "display_data"
    }
   ],
   "source": [
    "typeof(1/2)"
   ]
  },
  {
   "cell_type": "markdown",
   "metadata": {},
   "source": [
    "Julia admite racionales:"
   ]
  },
  {
   "cell_type": "code",
   "execution_count": 12,
   "metadata": {
    "collapsed": true
   },
   "outputs": [
    {
     "data": {
      "text/plain": [
       "5//6"
      ]
     },
     "metadata": {},
     "output_type": "display_data"
    }
   ],
   "source": [
    "1//2+1//3"
   ]
  },
  {
   "cell_type": "code",
   "execution_count": 13,
   "metadata": {},
   "outputs": [
    {
     "data": {
      "text/plain": [
       "Rational{Int64}"
      ]
     },
     "metadata": {},
     "output_type": "display_data"
    }
   ],
   "source": [
    "typeof(1//2)"
   ]
  },
  {
   "cell_type": "code",
   "execution_count": 14,
   "metadata": {
    "collapsed": true
   },
   "outputs": [
    {
     "data": {
      "text/plain": [
       "true"
      ]
     },
     "metadata": {},
     "output_type": "display_data"
    }
   ],
   "source": [
    "1//2==0.5"
   ]
  },
  {
   "cell_type": "markdown",
   "metadata": {},
   "source": [
    "### Números complejos"
   ]
  },
  {
   "cell_type": "code",
   "execution_count": 15,
   "metadata": {
    "collapsed": true
   },
   "outputs": [
    {
     "data": {
      "text/plain": [
       "1 + 1im"
      ]
     },
     "metadata": {},
     "output_type": "display_data"
    }
   ],
   "source": [
    "1+im"
   ]
  },
  {
   "cell_type": "code",
   "execution_count": 16,
   "metadata": {
    "collapsed": true
   },
   "outputs": [
    {
     "data": {
      "text/plain": [
       "Nothing"
      ]
     },
     "metadata": {},
     "output_type": "display_data"
    }
   ],
   "source": [
    "typeof(ans)"
   ]
  },
  {
   "cell_type": "code",
   "execution_count": 17,
   "metadata": {
    "collapsed": true
   },
   "outputs": [
    {
     "data": {
      "text/plain": [
       "0.1 + 1.0im"
      ]
     },
     "metadata": {},
     "output_type": "display_data"
    }
   ],
   "source": [
    "0.1+im"
   ]
  },
  {
   "cell_type": "code",
   "execution_count": 18,
   "metadata": {
    "collapsed": true
   },
   "outputs": [
    {
     "data": {
      "text/plain": [
       "Nothing"
      ]
     },
     "metadata": {},
     "output_type": "display_data"
    }
   ],
   "source": [
    "typeof(ans)"
   ]
  },
  {
   "cell_type": "code",
   "execution_count": 19,
   "metadata": {
    "collapsed": true
   },
   "outputs": [
    {
     "data": {
      "text/plain": [
       "0.0 + 3.141592653589793im"
      ]
     },
     "metadata": {},
     "output_type": "display_data"
    }
   ],
   "source": [
    "π*im"
   ]
  },
  {
   "cell_type": "code",
   "execution_count": 20,
   "metadata": {
    "collapsed": true
   },
   "outputs": [
    {
     "data": {
      "text/plain": [
       "Nothing"
      ]
     },
     "metadata": {},
     "output_type": "display_data"
    }
   ],
   "source": [
    "typeof(ans)"
   ]
  },
  {
   "cell_type": "markdown",
   "metadata": {},
   "source": [
    "Julia también soporta números irracionales (está equipado con el tipo Irrational)"
   ]
  },
  {
   "cell_type": "code",
   "execution_count": 21,
   "metadata": {},
   "outputs": [
    {
     "data": {
      "text/plain": [
       "2.718281828459045"
      ]
     },
     "metadata": {},
     "output_type": "display_data"
    }
   ],
   "source": [
    "exp(1)"
   ]
  },
  {
   "cell_type": "code",
   "execution_count": 22,
   "metadata": {},
   "outputs": [
    {
     "data": {
      "text/plain": [
       "ℯ = 2.7182818284590..."
      ]
     },
     "metadata": {},
     "output_type": "display_data"
    }
   ],
   "source": [
    "ℯ"
   ]
  },
  {
   "cell_type": "code",
   "execution_count": 23,
   "metadata": {},
   "outputs": [
    {
     "data": {
      "text/plain": [
       "(Irrational{:π}, Irrational{:ℯ})"
      ]
     },
     "metadata": {},
     "output_type": "display_data"
    }
   ],
   "source": [
    "typeof(π), typeof(ℯ)"
   ]
  },
  {
   "cell_type": "markdown",
   "metadata": {},
   "source": [
    "### Definición de variables"
   ]
  },
  {
   "cell_type": "code",
   "execution_count": 24,
   "metadata": {
    "collapsed": true
   },
   "outputs": [
    {
     "data": {
      "text/plain": [
       "π = 3.1415926535897..."
      ]
     },
     "metadata": {},
     "output_type": "display_data"
    }
   ],
   "source": [
    "x=π # se hace de la manera usual"
   ]
  },
  {
   "cell_type": "code",
   "execution_count": 25,
   "metadata": {
    "collapsed": true
   },
   "outputs": [
    {
     "data": {
      "text/plain": [
       "π = 3.1415926535897..."
      ]
     },
     "metadata": {},
     "output_type": "display_data"
    }
   ],
   "source": [
    "x"
   ]
  },
  {
   "cell_type": "code",
   "execution_count": 26,
   "metadata": {
    "collapsed": true
   },
   "outputs": [
    {
     "data": {
      "text/plain": [
       "6.283185307179586"
      ]
     },
     "metadata": {},
     "output_type": "display_data"
    }
   ],
   "source": [
    "2x"
   ]
  },
  {
   "cell_type": "markdown",
   "metadata": {},
   "source": [
    "## Copiado de variables"
   ]
  },
  {
   "cell_type": "markdown",
   "metadata": {},
   "source": [
    "Observar con cuidado lo siguiente:"
   ]
  },
  {
   "cell_type": "code",
   "execution_count": 27,
   "metadata": {},
   "outputs": [
    {
     "data": {
      "text/plain": [
       "2"
      ]
     },
     "metadata": {},
     "output_type": "display_data"
    }
   ],
   "source": [
    "x = 2"
   ]
  },
  {
   "cell_type": "code",
   "execution_count": 28,
   "metadata": {},
   "outputs": [
    {
     "data": {
      "text/plain": [
       "2"
      ]
     },
     "metadata": {},
     "output_type": "display_data"
    }
   ],
   "source": [
    "a = x"
   ]
  },
  {
   "cell_type": "code",
   "execution_count": 29,
   "metadata": {},
   "outputs": [
    {
     "data": {
      "text/plain": [
       "3"
      ]
     },
     "metadata": {},
     "output_type": "display_data"
    }
   ],
   "source": [
    "x = 3"
   ]
  },
  {
   "cell_type": "code",
   "execution_count": 30,
   "metadata": {},
   "outputs": [
    {
     "data": {
      "text/plain": [
       "2"
      ]
     },
     "metadata": {},
     "output_type": "display_data"
    }
   ],
   "source": [
    "a"
   ]
  },
  {
   "cell_type": "code",
   "execution_count": 31,
   "metadata": {},
   "outputs": [
    {
     "name": "stdout",
     "output_type": "stream",
     "text": [
      "Original array: [[1, 2, 3], [4, 5, 6]]\n",
      "Shallow copy: [[1, 2, 3], [4, 5, 6]]\n",
      "After modifying the original:\n",
      "Original array: [[10, 2, 3], [4, 5, 6]]\n",
      "Shallow copy: [[10, 2, 3], [4, 5, 6]]\n"
     ]
    }
   ],
   "source": [
    "# Shallow copy example\n",
    "original_array = [[1, 2, 3], [4, 5, 6]]\n",
    "shallow_copy = copy(original_array)\n",
    "\n",
    "println(\"Original array: \", original_array)\n",
    "println(\"Shallow copy: \", shallow_copy)\n",
    "\n",
    "# Modify the deep copy\n",
    "original_array[1][1] = 10\n",
    "\n",
    "println(\"After modifying the original:\")\n",
    "println(\"Original array: \", original_array)\n",
    "println(\"Shallow copy: \", shallow_copy)"
   ]
  },
  {
   "cell_type": "code",
   "execution_count": 32,
   "metadata": {},
   "outputs": [
    {
     "name": "stdout",
     "output_type": "stream",
     "text": [
      "Original array: [[1, 2, 3], [4, 5, 6]]\n",
      "Deep copy: [[1, 2, 3], [4, 5, 6]]\n",
      "After modifying the original:\n",
      "Original array: [[10, 2, 3], [4, 5, 6]]\n",
      "Deep copy: [[1, 2, 3], [4, 5, 6]]\n"
     ]
    }
   ],
   "source": [
    "# Deep copy example\n",
    "original_array = [[1, 2, 3], [4, 5, 6]]\n",
    "deep_copy = deepcopy(original_array)\n",
    "\n",
    "println(\"Original array: \", original_array)\n",
    "println(\"Deep copy: \", deep_copy)\n",
    "\n",
    "# Modify the deep copy\n",
    "original_array[1][1] = 10\n",
    "\n",
    "println(\"After modifying the original:\")\n",
    "println(\"Original array: \", original_array)\n",
    "println(\"Deep copy: \", deep_copy)"
   ]
  },
  {
   "cell_type": "markdown",
   "metadata": {},
   "source": [
    "deepcopy es recursivo, pero no así copy. Que pasa con arreglos de una dimensión? (Ejercicio)"
   ]
  },
  {
   "cell_type": "markdown",
   "metadata": {},
   "source": [
    "## Precisión extendida"
   ]
  },
  {
   "cell_type": "code",
   "execution_count": 33,
   "metadata": {},
   "outputs": [
    {
     "data": {
      "text/plain": [
       "3.140000000000000000000000000000000000000000000000000000000000000000000000000008"
      ]
     },
     "metadata": {},
     "output_type": "display_data"
    }
   ],
   "source": [
    "BigFloat(\"3.14\")"
   ]
  },
  {
   "cell_type": "code",
   "execution_count": 34,
   "metadata": {},
   "outputs": [
    {
     "data": {
      "text/plain": [
       "2.0001"
      ]
     },
     "metadata": {},
     "output_type": "display_data"
    }
   ],
   "source": [
    "a = BigFloat(\"2.0001\")"
   ]
  },
  {
   "cell_type": "code",
   "execution_count": 35,
   "metadata": {},
   "outputs": [
    {
     "data": {
      "text/plain": [
       "BigFloat"
      ]
     },
     "metadata": {},
     "output_type": "display_data"
    }
   ],
   "source": [
    "typeof(a)"
   ]
  },
  {
   "cell_type": "markdown",
   "metadata": {},
   "source": [
    "# Precisión de la maquina y números representables"
   ]
  },
  {
   "cell_type": "code",
   "execution_count": 36,
   "metadata": {},
   "outputs": [
    {
     "name": "stdout",
     "output_type": "stream",
     "text": [
      "Float64:\n",
      "Machine precision: 2.220446049250313e-16\n",
      "Smallest representable number: 2.2250738585072014e-308\n",
      "Largest representable number: 1.7976931348623157e308\n",
      "\n",
      "BigFloat:\n",
      "Machine precision: 1.727233711018888925077270372560079914223200072887256277004740694033718360632485e-77\n",
      "Smallest representable number: 8.50969131174083613912978790962048280567755996982969624908264897850135431080301e-1388255822130839284\n",
      "Largest representable number: 5.875653789111587590936911998878442589938516392745498308333779606469323584389875e+1388255822130839282\n"
     ]
    }
   ],
   "source": [
    "# Machine precision for Float64\n",
    "eps_float64 = eps(Float64)\n",
    "# Smallest representable number for Float64\n",
    "min_float64 = floatmin(Float64)\n",
    "# Largest representable number for Float64\n",
    "max_float64 = floatmax(Float64)\n",
    "\n",
    "# Machine precision for BigFloat\n",
    "eps_bigfloat = eps(BigFloat)\n",
    "# Smallest representable number for BigFloat\n",
    "min_bigfloat = floatmin(BigFloat)\n",
    "# Largest representable number for BigFloat\n",
    "max_bigfloat = floatmax(BigFloat)\n",
    "\n",
    "# Print the results\n",
    "println(\"Float64:\")\n",
    "println(\"Machine precision: \", eps_float64)\n",
    "println(\"Smallest representable number: \", min_float64)\n",
    "println(\"Largest representable number: \", max_float64)\n",
    "\n",
    "println(\"\\nBigFloat:\")\n",
    "println(\"Machine precision: \", eps_bigfloat)\n",
    "println(\"Smallest representable number: \", min_bigfloat)\n",
    "println(\"Largest representable number: \", max_bigfloat)"
   ]
  },
  {
   "cell_type": "markdown",
   "metadata": {},
   "source": [
    "# Vectores, matrices y otras estructuras"
   ]
  },
  {
   "cell_type": "code",
   "execution_count": 37,
   "metadata": {},
   "outputs": [
    {
     "data": {
      "text/plain": [
       "3-element Vector{Float64}:\n",
       " 3.0\n",
       " 2.0\n",
       " 1.0"
      ]
     },
     "metadata": {},
     "output_type": "display_data"
    }
   ],
   "source": [
    "a = [3, 2.0, 1.0]"
   ]
  },
  {
   "cell_type": "code",
   "execution_count": 38,
   "metadata": {},
   "outputs": [
    {
     "data": {
      "text/plain": [
       "Vector{Float64}\u001b[90m (alias for \u001b[39m\u001b[90mArray{Float64, 1}\u001b[39m\u001b[90m)\u001b[39m"
      ]
     },
     "metadata": {},
     "output_type": "display_data"
    }
   ],
   "source": [
    "typeof(a)"
   ]
  },
  {
   "cell_type": "code",
   "execution_count": 39,
   "metadata": {},
   "outputs": [
    {
     "data": {
      "text/plain": [
       "3-element Vector{Any}:\n",
       "   \"foo\"\n",
       "   \"bar\"\n",
       " 10"
      ]
     },
     "metadata": {},
     "output_type": "display_data"
    }
   ],
   "source": [
    "a = [\"foo\", \"bar\", 10]"
   ]
  },
  {
   "cell_type": "code",
   "execution_count": 40,
   "metadata": {},
   "outputs": [
    {
     "data": {
      "text/plain": [
       "Vector{Any}\u001b[90m (alias for \u001b[39m\u001b[90mArray{Any, 1}\u001b[39m\u001b[90m)\u001b[39m"
      ]
     },
     "metadata": {},
     "output_type": "display_data"
    }
   ],
   "source": [
    "typeof(a)"
   ]
  },
  {
   "cell_type": "code",
   "execution_count": 41,
   "metadata": {},
   "outputs": [
    {
     "data": {
      "text/plain": [
       "10-element Vector{Float64}:\n",
       " 0.0\n",
       " 0.0\n",
       " 0.0\n",
       " 0.0\n",
       " 0.0\n",
       " 0.0\n",
       " 0.0\n",
       " 0.0\n",
       " 0.0\n",
       " 0.0"
      ]
     },
     "metadata": {},
     "output_type": "display_data"
    }
   ],
   "source": [
    "zeros(10)"
   ]
  },
  {
   "cell_type": "markdown",
   "metadata": {},
   "source": [
    "Matriz en ceros"
   ]
  },
  {
   "cell_type": "code",
   "execution_count": 42,
   "metadata": {},
   "outputs": [
    {
     "data": {
      "text/plain": [
       "2×3 Matrix{Float64}:\n",
       " 0.0  0.0  0.0\n",
       " 0.0  0.0  0.0"
      ]
     },
     "metadata": {},
     "output_type": "display_data"
    }
   ],
   "source": [
    "ze=zeros(2,3)"
   ]
  },
  {
   "cell_type": "markdown",
   "metadata": {},
   "source": [
    "Creando vectores en ceros especificando el tipo."
   ]
  },
  {
   "cell_type": "code",
   "execution_count": 43,
   "metadata": {},
   "outputs": [
    {
     "data": {
      "text/plain": [
       "10-element Vector{Int8}:\n",
       " 0\n",
       " 0\n",
       " 0\n",
       " 0\n",
       " 0\n",
       " 0\n",
       " 0\n",
       " 0\n",
       " 0\n",
       " 0"
      ]
     },
     "metadata": {},
     "output_type": "display_data"
    }
   ],
   "source": [
    "zeros(Int8,10)"
   ]
  },
  {
   "cell_type": "code",
   "execution_count": 44,
   "metadata": {},
   "outputs": [],
   "source": [
    "using LinearAlgebra"
   ]
  },
  {
   "cell_type": "code",
   "execution_count": 45,
   "metadata": {},
   "outputs": [
    {
     "data": {
      "text/latex": [
       "Linear algebra module. Provides array arithmetic, matrix factorizations and other linear algebra related functionality.\n",
       "\n"
      ],
      "text/markdown": [
       "Linear algebra module. Provides array arithmetic, matrix factorizations and other linear algebra related functionality.\n"
      ],
      "text/plain": [
       "  Linear algebra module. Provides array arithmetic, matrix factorizations and\n",
       "  other linear algebra related functionality."
      ]
     },
     "metadata": {},
     "output_type": "display_data"
    }
   ],
   "source": [
    "@doc LinearAlgebra"
   ]
  },
  {
   "cell_type": "code",
   "execution_count": 46,
   "metadata": {},
   "outputs": [
    {
     "data": {
      "text/plain": [
       "UniformScaling{Bool}\n",
       "true*I"
      ]
     },
     "metadata": {},
     "output_type": "display_data"
    }
   ],
   "source": [
    "I"
   ]
  },
  {
   "cell_type": "code",
   "execution_count": 47,
   "metadata": {},
   "outputs": [
    {
     "data": {
      "text/plain": [
       "UniformScaling{Int64}\n",
       "2*I"
      ]
     },
     "metadata": {},
     "output_type": "display_data"
    }
   ],
   "source": [
    "2*I"
   ]
  },
  {
   "cell_type": "code",
   "execution_count": 48,
   "metadata": {},
   "outputs": [
    {
     "data": {
      "text/plain": [
       "2×2 Matrix{Float64}:\n",
       " 1.0  0.0\n",
       " 0.0  1.0"
      ]
     },
     "metadata": {},
     "output_type": "display_data"
    }
   ],
   "source": [
    "id = Matrix{Float64}(I, 2, 2)"
   ]
  },
  {
   "cell_type": "code",
   "execution_count": 49,
   "metadata": {},
   "outputs": [
    {
     "data": {
      "text/plain": [
       "0.0"
      ]
     },
     "metadata": {},
     "output_type": "display_data"
    }
   ],
   "source": [
    "id[1,2]"
   ]
  },
  {
   "cell_type": "code",
   "execution_count": 50,
   "metadata": {},
   "outputs": [
    {
     "data": {
      "text/plain": [
       "1.0"
      ]
     },
     "metadata": {},
     "output_type": "display_data"
    }
   ],
   "source": [
    "id[1,1]"
   ]
  },
  {
   "cell_type": "code",
   "execution_count": 51,
   "metadata": {},
   "outputs": [
    {
     "data": {
      "text/plain": [
       "1.0"
      ]
     },
     "metadata": {},
     "output_type": "display_data"
    }
   ],
   "source": [
    "id[1]"
   ]
  },
  {
   "cell_type": "code",
   "execution_count": 52,
   "metadata": {},
   "outputs": [
    {
     "data": {
      "text/plain": [
       "1.0"
      ]
     },
     "metadata": {},
     "output_type": "display_data"
    }
   ],
   "source": [
    "id[4]"
   ]
  },
  {
   "cell_type": "markdown",
   "metadata": {},
   "source": [
    "Julia comienza a contar desde el 1, cosa que es poco usual en los lenguajes de programación comunes."
   ]
  },
  {
   "cell_type": "markdown",
   "metadata": {},
   "source": [
    "Otra forma de crear matrices:"
   ]
  },
  {
   "cell_type": "code",
   "execution_count": 53,
   "metadata": {},
   "outputs": [
    {
     "data": {
      "text/plain": [
       "2×2 Matrix{Int64}:\n",
       " 1  2\n",
       " 3  4"
      ]
     },
     "metadata": {},
     "output_type": "display_data"
    }
   ],
   "source": [
    "[1 2; 3 4]"
   ]
  },
  {
   "cell_type": "markdown",
   "metadata": {},
   "source": [
    "Covectores:"
   ]
  },
  {
   "cell_type": "code",
   "execution_count": 54,
   "metadata": {},
   "outputs": [
    {
     "data": {
      "text/plain": [
       "1×4 Matrix{Int64}:\n",
       " 1  2  3  4"
      ]
     },
     "metadata": {},
     "output_type": "display_data"
    }
   ],
   "source": [
    "co = [1 2 3 4]"
   ]
  },
  {
   "cell_type": "markdown",
   "metadata": {},
   "source": [
    "vectores"
   ]
  },
  {
   "cell_type": "code",
   "execution_count": 55,
   "metadata": {},
   "outputs": [
    {
     "data": {
      "text/plain": [
       "4×1 transpose(::Matrix{Int64}) with eltype Int64:\n",
       " 1\n",
       " 2\n",
       " 3\n",
       " 4"
      ]
     },
     "metadata": {},
     "output_type": "display_data"
    }
   ],
   "source": [
    "transpose(co)"
   ]
  },
  {
   "cell_type": "code",
   "execution_count": 56,
   "metadata": {},
   "outputs": [
    {
     "data": {
      "text/plain": [
       "Matrix{Int64}\u001b[90m (alias for \u001b[39m\u001b[90mArray{Int64, 2}\u001b[39m\u001b[90m)\u001b[39m"
      ]
     },
     "metadata": {},
     "output_type": "display_data"
    }
   ],
   "source": [
    "typeof(co)"
   ]
  },
  {
   "cell_type": "code",
   "execution_count": 57,
   "metadata": {},
   "outputs": [
    {
     "data": {
      "text/plain": [
       "3×3 Matrix{Bool}:\n",
       " 1  0  0\n",
       " 0  1  0\n",
       " 0  0  1"
      ]
     },
     "metadata": {},
     "output_type": "display_data"
    }
   ],
   "source": [
    "Matrix(1I, 3, 3)    # Identity matrix of Int type\n",
    "Matrix(1.0I, 3, 3)  # Identity matrix of Float64 type\n",
    "Matrix(I, 3, 3)     # Identity matrix of Bool type"
   ]
  },
  {
   "cell_type": "code",
   "execution_count": 58,
   "metadata": {},
   "outputs": [
    {
     "data": {
      "text/plain": [
       "3×3 Matrix{Bool}:\n",
       " 1  0  0\n",
       " 0  1  0\n",
       " 0  0  1"
      ]
     },
     "metadata": {},
     "output_type": "display_data"
    }
   ],
   "source": [
    "Matrix{Int}(I, 3, 3)      # Identity matrix of Int type\n",
    "Matrix{Float64}(I, 3, 3)  # Identity matrix of Float64 type\n",
    "Matrix{Bool}(I, 3, 3)     # Identity matrix of Bool type"
   ]
  },
  {
   "cell_type": "markdown",
   "metadata": {},
   "source": [
    "__Creación de vectores en blanco__"
   ]
  },
  {
   "cell_type": "markdown",
   "metadata": {},
   "source": [
    "Si queremos por ejemplo un vector de enteros sin especificar las entradas, pero con dimensión fija, podemos hacer:"
   ]
  },
  {
   "cell_type": "code",
   "execution_count": 59,
   "metadata": {},
   "outputs": [
    {
     "data": {
      "text/plain": [
       "5-element Vector{Int64}:\n",
       " 13510798882111488\n",
       "   135780316410704\n",
       "   135780235232848\n",
       "   135780960482320\n",
       "   135780958960944"
      ]
     },
     "metadata": {},
     "output_type": "display_data"
    }
   ],
   "source": [
    "array = Array{Int64}(undef, 5)"
   ]
  },
  {
   "cell_type": "code",
   "execution_count": 60,
   "metadata": {},
   "outputs": [
    {
     "data": {
      "text/plain": [
       "5×6 Matrix{Int64}:\n",
       " 135780918273376  135780918273376  …  135780918273376  135780918273376\n",
       " 135780918273376  135780918273376     135780918273376  135780918273376\n",
       " 135780918273376  135780918273376     135780918273376  135780918273376\n",
       " 135780918273376  135780918273376     135780918273376  135780918273376\n",
       " 135780918273376  135780918273376     135780918273376  135780918273376"
      ]
     },
     "metadata": {},
     "output_type": "display_data"
    }
   ],
   "source": [
    "array = Array{Int64}(undef, 5,6)"
   ]
  },
  {
   "cell_type": "code",
   "execution_count": 61,
   "metadata": {},
   "outputs": [
    {
     "data": {
      "text/plain": [
       "10×100 Matrix{Vector{Float64}}:\n",
       " #undef  #undef  #undef  #undef  #undef  …  #undef  #undef  #undef  #undef\n",
       " #undef  #undef  #undef  #undef  #undef     #undef  #undef  #undef  #undef\n",
       " #undef  #undef  #undef  #undef  #undef     #undef  #undef  #undef  #undef\n",
       " #undef  #undef  #undef  #undef  #undef     #undef  #undef  #undef  #undef\n",
       " #undef  #undef  #undef  #undef  #undef     #undef  #undef  #undef  #undef\n",
       " #undef  #undef  #undef  #undef  #undef  …  #undef  #undef  #undef  #undef\n",
       " #undef  #undef  #undef  #undef  #undef     #undef  #undef  #undef  #undef\n",
       " #undef  #undef  #undef  #undef  #undef     #undef  #undef  #undef  #undef\n",
       " #undef  #undef  #undef  #undef  #undef     #undef  #undef  #undef  #undef\n",
       " #undef  #undef  #undef  #undef  #undef     #undef  #undef  #undef  #undef"
      ]
     },
     "metadata": {},
     "output_type": "display_data"
    }
   ],
   "source": [
    "z= Array{Vector{Float64}}(undef, 10, 100)"
   ]
  },
  {
   "cell_type": "code",
   "execution_count": 62,
   "metadata": {},
   "outputs": [
    {
     "data": {
      "text/plain": [
       "10×100 Matrix{Float64}:\n",
       " 0.0             8.70018e-313  …    0.0           NaN\n",
       " 0.0             8.48798e-314       0.0             1.07625e247\n",
       " 4.81788e-316  NaN                  2.88218e-316    5.234e245\n",
       " 6.70848e-310    5.28163e-315       9.72767e-315   -1.05577e201\n",
       " 5.28163e-315    0.0              NaN               2.90536e-316\n",
       " 5.28163e-315    5.28911e-315  …    6.54764e-292    8.34335e-292\n",
       " 4.24399e-314    5.34689e-315       8.79779e-318  NaN\n",
       " 5.30754e-315    5.28163e-315       1.37131e-289  NaN\n",
       " 5.28163e-315    1.6976e-313      NaN               0.0\n",
       " 5.26458e-315    6.70848e-310       4.83595e86     -8.9298e82"
      ]
     },
     "metadata": {},
     "output_type": "display_data"
    }
   ],
   "source": [
    "z= Array{Float64}(undef, 10, 100)"
   ]
  },
  {
   "cell_type": "markdown",
   "metadata": {},
   "source": [
    "# Esturcturas basicas"
   ]
  },
  {
   "cell_type": "markdown",
   "metadata": {},
   "source": [
    "## bucles y expresiones condicionales"
   ]
  },
  {
   "cell_type": "code",
   "execution_count": 63,
   "metadata": {},
   "outputs": [
    {
     "name": "stdout",
     "output_type": "stream",
     "text": [
      "-1\n",
      "0\n",
      "1\n",
      "2\n",
      "3\n"
     ]
    }
   ],
   "source": [
    "# for simple\n",
    "for i in -1:3\n",
    "    println(i)\n",
    "end"
   ]
  },
  {
   "cell_type": "code",
   "execution_count": 64,
   "metadata": {},
   "outputs": [
    {
     "data": {
      "text/plain": [
       "UnitRange{Int64}"
      ]
     },
     "metadata": {},
     "output_type": "display_data"
    }
   ],
   "source": [
    "typeof(-1:3)"
   ]
  },
  {
   "cell_type": "code",
   "execution_count": 65,
   "metadata": {},
   "outputs": [
    {
     "ename": "UndefVarError",
     "evalue": "UndefVarError: `i` not defined in `Main`\nSuggestion: check for spelling errors or missing imports.",
     "output_type": "error",
     "traceback": [
      "UndefVarError: `i` not defined in `Main`\n",
      "Suggestion: check for spelling errors or missing imports.\n"
     ]
    }
   ],
   "source": [
    "i # i es una variable local"
   ]
  },
  {
   "cell_type": "code",
   "execution_count": 66,
   "metadata": {},
   "outputs": [
    {
     "name": "stdout",
     "output_type": "stream",
     "text": [
      "1\n",
      "2\n",
      "3\n"
     ]
    }
   ],
   "source": [
    "for i in 1:3\n",
    "    r = i\n",
    "    println(r)\n",
    "end"
   ]
  },
  {
   "cell_type": "code",
   "execution_count": 67,
   "metadata": {},
   "outputs": [
    {
     "ename": "UndefVarError",
     "evalue": "UndefVarError: `r` not defined in `Main`\nSuggestion: check for spelling errors or missing imports.",
     "output_type": "error",
     "traceback": [
      "UndefVarError: `r` not defined in `Main`\n",
      "Suggestion: check for spelling errors or missing imports.\n"
     ]
    }
   ],
   "source": [
    "r # esta es local también, esta dentro del for"
   ]
  },
  {
   "cell_type": "code",
   "execution_count": 68,
   "metadata": {},
   "outputs": [
    {
     "name": "stdout",
     "output_type": "stream",
     "text": [
      "1\n",
      "3\n",
      "5\n",
      "7\n",
      "9\n"
     ]
    }
   ],
   "source": [
    "r = 0\n",
    "for i in 1:2:10\n",
    "    r = i\n",
    "    println(r)\n",
    "end"
   ]
  },
  {
   "cell_type": "code",
   "execution_count": 69,
   "metadata": {},
   "outputs": [
    {
     "data": {
      "text/plain": [
       "9"
      ]
     },
     "metadata": {},
     "output_type": "display_data"
    }
   ],
   "source": [
    "r #Aqui ya no es local, está definida como global, pues se definió fuera del bucle."
   ]
  },
  {
   "cell_type": "code",
   "execution_count": 70,
   "metadata": {},
   "outputs": [
    {
     "name": "stdout",
     "output_type": "stream",
     "text": [
      "true & true = true\n",
      "true | true = true\n",
      "true & false = false\n",
      "true | false = true\n",
      "false & true = false\n",
      "false | true = true\n",
      "false & false = false\n",
      "false | false = false\n"
     ]
    }
   ],
   "source": [
    "for ib = (true, false)\n",
    "    for jb = (true,false)\n",
    "        println( \"$ib & $jb = \", ib & jb)\n",
    "        println( \"$ib | $jb = \", ib | jb)\n",
    "    end\n",
    "end"
   ]
  },
  {
   "cell_type": "markdown",
   "metadata": {},
   "source": [
    "* While"
   ]
  },
  {
   "cell_type": "code",
   "execution_count": 71,
   "metadata": {},
   "outputs": [
    {
     "name": "stdout",
     "output_type": "stream",
     "text": [
      "0\n",
      "1\n",
      "2\n",
      "3\n",
      "4\n",
      "5\n"
     ]
    }
   ],
   "source": [
    "i=0;\n",
    "while i <= 5\n",
    "         println(i)\n",
    "         i += 1\n",
    "end"
   ]
  },
  {
   "cell_type": "markdown",
   "metadata": {},
   "source": [
    "* If"
   ]
  },
  {
   "cell_type": "code",
   "execution_count": 72,
   "metadata": {},
   "outputs": [
    {
     "name": "stdout",
     "output_type": "stream",
     "text": [
      "x is greater than y\n"
     ]
    }
   ],
   "source": [
    "y=5;\n",
    "x=6;\n",
    "if x < y\n",
    "  println(\"x is less than y\")\n",
    "elseif x > y\n",
    "  println(\"x is greater than y\")\n",
    "else\n",
    "  println(\"x is equal to y\")\n",
    "end"
   ]
  },
  {
   "cell_type": "markdown",
   "metadata": {},
   "source": [
    "## Creacion de funciones"
   ]
  },
  {
   "cell_type": "code",
   "execution_count": 73,
   "metadata": {},
   "outputs": [
    {
     "data": {
      "text/plain": [
       "sphere_vol (generic function with 1 method)"
      ]
     },
     "metadata": {},
     "output_type": "display_data"
    }
   ],
   "source": [
    "# Calculo del volumen de una esfera de radio r\n",
    "function sphere_vol(r)\n",
    "    return 4/3*pi*r^3\n",
    "end"
   ]
  },
  {
   "cell_type": "code",
   "execution_count": 74,
   "metadata": {},
   "outputs": [
    {
     "data": {
      "text/plain": [
       "typeof(sphere_vol) (singleton type of function sphere_vol, subtype of Function)"
      ]
     },
     "metadata": {},
     "output_type": "display_data"
    }
   ],
   "source": [
    "typeof(sphere_vol)"
   ]
  },
  {
   "cell_type": "code",
   "execution_count": 75,
   "metadata": {},
   "outputs": [
    {
     "data": {
      "text/plain": [
       "4.1887902047863905"
      ]
     },
     "metadata": {},
     "output_type": "display_data"
    }
   ],
   "source": [
    "sphere_vol(1)"
   ]
  },
  {
   "cell_type": "markdown",
   "metadata": {},
   "source": [
    "### Ejemplo : Método de Newton para calcular raices cuadradas (Método Babilónico)\n",
    "\n",
    "* Para calcular la raiz cuadrada de $S$ un método bastante conocido es el de los Babilonios (derivable del método de newton para buscar ceros). El algoritmo puede ser presentado como un sistema dinámico discreto:\n",
    "$$x_{n+1}=\\frac{1}{2} \\left( x_n+\\frac{S}{x_n} \\right), \\hspace{5 pt} \\lim_{n\\to\\infty} x_n\\to \\sqrt{S}.$$\n",
    "Donde $x_0$ es una condicion inicial cualquiera, finita y acotada. Típicamente uno escoge una buena condicion inicial para que el metodo converja rapido.\n",
    "\n",
    "__Nota:__ Por favor entiendan que para encontrar la fórmula anterior solo se sustituyó: \n",
    "$$f(x)=x^2-S \\hspace{10 pt} \\text{y} \\hspace{10 pt} f'(x)=2x.$$"
   ]
  },
  {
   "cell_type": "code",
   "execution_count": 76,
   "metadata": {},
   "outputs": [
    {
     "data": {
      "text/plain": [
       "sqrt_root"
      ]
     },
     "metadata": {},
     "output_type": "display_data"
    }
   ],
   "source": [
    "\"\"\"\n",
    "Esta función calcula la raiz cuadrada\n",
    "\"\"\"\n",
    "function sqrt_root(S)\n",
    "    x=S/2;\n",
    "    for i in 1:20\n",
    "       x=0.5(x+S/x)\n",
    "    end\n",
    "    return x\n",
    "end"
   ]
  },
  {
   "cell_type": "code",
   "execution_count": 77,
   "metadata": {},
   "outputs": [
    {
     "data": {
      "text/plain": [
       "1.414213562373095"
      ]
     },
     "metadata": {},
     "output_type": "display_data"
    }
   ],
   "source": [
    "sqrt_root(2)"
   ]
  },
  {
   "cell_type": "code",
   "execution_count": 78,
   "metadata": {},
   "outputs": [
    {
     "data": {
      "text/plain": [
       "1.4142135623730951"
      ]
     },
     "metadata": {},
     "output_type": "display_data"
    }
   ],
   "source": [
    "sqrt(2)"
   ]
  },
  {
   "cell_type": "markdown",
   "metadata": {},
   "source": [
    "* Podemos mirar la documentación que agregamos a nuestra función como cualquier otra función de Julia:"
   ]
  },
  {
   "cell_type": "code",
   "execution_count": 79,
   "metadata": {},
   "outputs": [
    {
     "ename": "Base.Meta.ParseError",
     "evalue": "ParseError:\n# Error @ /home/david/Dropbox/postdoc_gorin/clases/metodos/metodos_sim_num/clases/jl_notebook_cell_df34fa98e69747e1a8f8a730347b8e2f_Y344sZmlsZQ==.jl:1:1\n?sqrt_root\n╙ ── not a unary operator",
     "output_type": "error",
     "traceback": [
      "ParseError:\n",
      "# Error @ /home/david/Dropbox/postdoc_gorin/clases/metodos/metodos_sim_num/clases/jl_notebook_cell_df34fa98e69747e1a8f8a730347b8e2f_Y344sZmlsZQ==.jl:1:1\n",
      "?sqrt_root\n",
      "╙ ── not a unary operator\n",
      "\n",
      "Stacktrace:\n",
      " [1] top-level scope\n",
      "   @ ~/Dropbox/postdoc_gorin/clases/metodos/metodos_sim_num/clases/jl_notebook_cell_df34fa98e69747e1a8f8a730347b8e2f_Y344sZmlsZQ==.jl:1"
     ]
    }
   ],
   "source": [
    "?sqrt_root"
   ]
  },
  {
   "cell_type": "markdown",
   "metadata": {},
   "source": [
    "__Ejercicio 1:__ Crear una rutina que calcule las raices de la siguiente ecuación trascendental: \n",
    "$$x \\tan(x)=\\sqrt{A-x^2},$$\n",
    "esta ecuación tiene interes en la física cuántica de particulas en una dimensión, en particular, sus soluciones estan directamente relacionadas con las eigenenergias del _pozo finito cuadrado_, y el número de soluciones posibles es precisamente el número de estados _ligados_ que caben en el pozo.\n",
    "\n",
    "__Nota:__ Usar varias condiciones iniciales $x_0$."
   ]
  }
 ],
 "metadata": {
  "kernelspec": {
   "display_name": "Julia 1.11.3",
   "language": "julia",
   "name": "julia-1.11"
  },
  "language_info": {
   "file_extension": ".jl",
   "mimetype": "application/julia",
   "name": "julia",
   "version": "1.11.3"
  },
  "latex_envs": {
   "bibliofile": "biblio.bib",
   "cite_by": "apalike",
   "current_citInitial": 1,
   "eqLabelWithNumbers": true,
   "eqNumInitial": 0
  }
 },
 "nbformat": 4,
 "nbformat_minor": 1
}
