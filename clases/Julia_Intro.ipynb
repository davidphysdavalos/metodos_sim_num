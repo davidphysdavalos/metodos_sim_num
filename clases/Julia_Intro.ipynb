{
 "cells": [
  {
   "cell_type": "markdown",
   "metadata": {},
   "source": [
    "# Introducción a Julia y Jupyter-notebook"
   ]
  },
  {
   "cell_type": "markdown",
   "metadata": {},
   "source": [
    "El texto canónico es el [manual de Julia](https://docs.julialang.org/en/v1/)"
   ]
  },
  {
   "cell_type": "markdown",
   "metadata": {},
   "source": [
    "[Julia](http://julialang.org/) es un lenguaje concebido para hacer cómputo científico, y por gente que tiene experiencia en eso. Incorpora muchos elementos modernos del diseño de lenguajes de cómputo."
   ]
  },
  {
   "cell_type": "markdown",
   "metadata": {},
   "source": [
    "Por ejemplo, cosas como \"pi\" y kron (producto de kronecker) están definidas."
   ]
  },
  {
   "cell_type": "markdown",
   "metadata": {},
   "source": [
    "Uso de Jupyter-notebook\n",
    "============================\n",
    "\n",
    "Jupyter es una herramienta muy util para desarrollar código de Julia y Python, entre muchos otros lenguajes. Tiene elementos que recuerdan los notebooks de Mathematica.\n",
    "\n",
    "Modo Esc:\n",
    "----------------------\n",
    "\n",
    "* Presionando \"a\"/\"b\" abre una celda arriba arriba/abajo __above/bottom__ de la que actualmente esta seleccionada.\n",
    "\n",
    "* presionando \"d\" dos veces se borra la celda seleccionada.\n",
    "\n",
    "* \"m\" cambia la celda a Markdown\n",
    "\n",
    "Presionando Enter se cambia al modo de edición de celda\n",
    "------------------------------------------------------------\n",
    "\n",
    "* Las celdas se evaluan con \"shift+Enter\" (como en mathematica, solo que aqui no funciona el Intro)\n",
    "\n",
    "* Las celdas aceptan diversos lenguajes tales como `MarkDown`, el mismo lenguaje en el que fue escrita esta celda.\n",
    "\n",
    "* El notebook permite varios modos interesantes, por ej. presionando ctrl y haciendo click con el mouse en diferentes partes del codigo, el notebook nos brinda muchos cursores.\n",
    "\n",
    "\n"
   ]
  },
  {
   "cell_type": "markdown",
   "metadata": {},
   "source": [
    "## Instalacion y uso de paqueterias de Julia\n",
    "\n",
    "* El comando Pkg.update() actualiza la información de los repositorios de Julia\n",
    "* Pkg.add(\"Nombre del paquete\") instala el paquete deseado, por ejemplo, si queremos instalar PyPlot para poder hacer graficas:\n",
    "* __Nota:__ La primera vez que el kernel de Julia se ejecuta en un nuevo note"
   ]
  },
  {
   "cell_type": "code",
   "execution_count": 2,
   "metadata": {},
   "outputs": [
    {
     "name": "stderr",
     "output_type": "stream",
     "text": [
      "\u001b[32m\u001b[1m    Updating\u001b[22m\u001b[39m registry at `~/.julia/registries/General.toml`\n",
      "\u001b[32m\u001b[1m   Installed\u001b[22m\u001b[39m libpng_jll ─ v1.6.46+0\n",
      "\u001b[32m\u001b[1m  No Changes\u001b[22m\u001b[39m to `~/.julia/environments/v1.11/Project.toml`\n",
      "\u001b[32m\u001b[1m    Updating\u001b[22m\u001b[39m `~/.julia/environments/v1.11/Manifest.toml`\n",
      "  \u001b[90m[b53b4c65] \u001b[39m\u001b[93m↑ libpng_jll v1.6.45+1 ⇒ v1.6.46+0\u001b[39m\n",
      "\u001b[92m\u001b[1mPrecompiling\u001b[22m\u001b[39m project...\n",
      "   1091.5 ms\u001b[32m  ✓ \u001b[39m\u001b[90mlibpng_jll\u001b[39m\n",
      "   1094.2 ms\u001b[32m  ✓ \u001b[39m\u001b[90mCairo_jll\u001b[39m\n",
      "    776.5 ms\u001b[32m  ✓ \u001b[39m\u001b[90mHarfBuzz_jll\u001b[39m\n",
      "    889.8 ms\u001b[32m  ✓ \u001b[39m\u001b[90mPango_jll\u001b[39m\n",
      "    939.8 ms\u001b[32m  ✓ \u001b[39m\u001b[90mlibass_jll\u001b[39m\n",
      "   1143.0 ms\u001b[32m  ✓ \u001b[39m\u001b[90mlibdecor_jll\u001b[39m\n",
      "   1419.2 ms\u001b[32m  ✓ \u001b[39m\u001b[90mFFMPEG_jll\u001b[39m\n",
      "   1196.7 ms\u001b[32m  ✓ \u001b[39m\u001b[90mGLFW_jll\u001b[39m\n",
      "   1145.6 ms\u001b[32m  ✓ \u001b[39m\u001b[90mFFMPEG\u001b[39m\n",
      "   1334.6 ms\u001b[32m  ✓ \u001b[39m\u001b[90mGR_jll\u001b[39m\n",
      "   5448.6 ms\u001b[32m  ✓ \u001b[39m\u001b[90mGR\u001b[39m\n",
      "  74923.7 ms\u001b[32m  ✓ \u001b[39mPlots\n",
      "   3978.1 ms\u001b[32m  ✓ \u001b[39mPlots → UnitfulExt\n",
      "  13 dependencies successfully precompiled in 94 seconds. 180 already precompiled.\n",
      "\u001b[32m\u001b[1m   Resolving\u001b[22m\u001b[39m package versions...\n",
      "\u001b[32m\u001b[1m  No Changes\u001b[22m\u001b[39m to `~/.julia/environments/v1.11/Project.toml`\n",
      "\u001b[32m\u001b[1m  No Changes\u001b[22m\u001b[39m to `~/.julia/environments/v1.11/Manifest.toml`\n"
     ]
    }
   ],
   "source": [
    "using Pkg\n",
    "Pkg.update()\n",
    "Pkg.add(\"PyPlot\")"
   ]
  },
  {
   "cell_type": "markdown",
   "metadata": {},
   "source": [
    "# Lo básico"
   ]
  },
  {
   "cell_type": "markdown",
   "metadata": {
    "collapsed": true
   },
   "source": [
    "Originalmente las funciones especiales estaban precargadas en el kernel de Julia, sin embargo, luego de el lanzamiento de la versión 1 de Julia, este ya no es el caso. Como por ejemplo la función $J_0$ de Bessel:"
   ]
  },
  {
   "cell_type": "markdown",
   "metadata": {},
   "source": [
    "Antes de intentar ejecutar las funciones, importemos el paquete necesario. Es importante observar que al trabajar en un notebook, los paquetes y variables que carguemos son globales en todo el notebook."
   ]
  },
  {
   "cell_type": "code",
   "execution_count": 3,
   "metadata": {},
   "outputs": [
    {
     "name": "stderr",
     "output_type": "stream",
     "text": [
      "\u001b[32m\u001b[1m   Resolving\u001b[22m\u001b[39m package versions...\n",
      "\u001b[32m\u001b[1m  No Changes\u001b[22m\u001b[39m to `~/.julia/environments/v1.11/Project.toml`\n",
      "\u001b[32m\u001b[1m  No Changes\u001b[22m\u001b[39m to `~/.julia/environments/v1.11/Manifest.toml`\n"
     ]
    }
   ],
   "source": [
    "# Importamos la librería con funciones especiales\n",
    "Pkg.add(\"SpecialFunctions\") # Esto solo es necesario la primera vez, por supuesto.\n",
    "using SpecialFunctions"
   ]
  },
  {
   "cell_type": "code",
   "execution_count": 4,
   "metadata": {
    "collapsed": true
   },
   "outputs": [
    {
     "data": {
      "text/plain": [
       "0.8516319137048081"
      ]
     },
     "metadata": {},
     "output_type": "display_data"
    }
   ],
   "source": [
    "besselj0(pi/4)"
   ]
  },
  {
   "cell_type": "code",
   "execution_count": 5,
   "metadata": {
    "collapsed": true
   },
   "outputs": [
    {
     "data": {
      "text/plain": [
       "10.584448464950801"
      ]
     },
     "metadata": {},
     "output_type": "display_data"
    }
   ],
   "source": [
    "zeta(1.1) # Zeta de Riemann"
   ]
  },
  {
   "cell_type": "code",
   "execution_count": 6,
   "metadata": {
    "collapsed": true
   },
   "outputs": [
    {
     "data": {
      "text/latex": [
       "\\begin{verbatim}\n",
       "zeta(s, z)\n",
       "\\end{verbatim}\n",
       "Generalized zeta function defined by\n",
       "\n",
       "$$\\zeta(s, z) = \\sum_{k=0}^\\infty \\frac{1}{((k+z)^2)^{s/2}},$$\n",
       "where any term with $k+z = 0$ is excluded.  For $\\Re z > 0$, this definition is equivalent to the Hurwitz zeta function $\\sum_{k=0}^\\infty (k+z)^{-s}$.\n",
       "\n",
       "The Riemann zeta function is recovered as $\\zeta(s) = \\zeta(s,1)$.\n",
       "\n",
       "External links: \\href{https://en.wikipedia.org/wiki/Riemann_zeta_function}{Riemann zeta function}, \\href{https://en.wikipedia.org/wiki/Hurwitz_zeta_function}{Hurwitz zeta function}\n",
       "\n",
       "\\begin{verbatim}\n",
       "zeta(s)\n",
       "\\end{verbatim}\n",
       "Riemann zeta function\n",
       "\n",
       "$$\\zeta(s) = \\sum_{n=1}^\\infty \\frac{1}{n^s}\\quad\\text{for}\\quad s\\in\\mathbb{C}.$$\n",
       "External links: \\href{https://en.wikipedia.org/wiki/Riemann_zeta_function}{Wikipedia}\n",
       "\n"
      ],
      "text/markdown": [
       "```\n",
       "zeta(s, z)\n",
       "```\n",
       "\n",
       "Generalized zeta function defined by\n",
       "\n",
       "$$\n",
       "\\zeta(s, z) = \\sum_{k=0}^\\infty \\frac{1}{((k+z)^2)^{s/2}},\n",
       "$$\n",
       "\n",
       "where any term with $k+z = 0$ is excluded.  For $\\Re z > 0$, this definition is equivalent to the Hurwitz zeta function $\\sum_{k=0}^\\infty (k+z)^{-s}$.\n",
       "\n",
       "The Riemann zeta function is recovered as $\\zeta(s) = \\zeta(s,1)$.\n",
       "\n",
       "External links: [Riemann zeta function](https://en.wikipedia.org/wiki/Riemann_zeta_function), [Hurwitz zeta function](https://en.wikipedia.org/wiki/Hurwitz_zeta_function)\n",
       "\n",
       "```\n",
       "zeta(s)\n",
       "```\n",
       "\n",
       "Riemann zeta function\n",
       "\n",
       "$$\n",
       "\\zeta(s) = \\sum_{n=1}^\\infty \\frac{1}{n^s}\\quad\\text{for}\\quad s\\in\\mathbb{C}.\n",
       "$$\n",
       "\n",
       "External links: [Wikipedia](https://en.wikipedia.org/wiki/Riemann_zeta_function)\n"
      ],
      "text/plain": [
       "\u001b[36m  zeta(s, z)\u001b[39m\n",
       "\n",
       "  Generalized zeta function defined by\n",
       "\n",
       "\u001b[35m  \\zeta(s, z) = \\sum_{k=0}^\\infty \\frac{1}{((k+z)^2)^{s/2}},\u001b[39m\n",
       "\n",
       "  where any term with \u001b[35mk+z = 0\u001b[39m is excluded. For \u001b[35m\\Re z > 0\u001b[39m, this definition is\n",
       "  equivalent to the Hurwitz zeta function \u001b[35m\\sum_{k=0}^\\infty (k+z)^{-s}\u001b[39m.\n",
       "\n",
       "  The Riemann zeta function is recovered as \u001b[35m\\zeta(s) = \\zeta(s,1)\u001b[39m.\n",
       "\n",
       "  External links: Riemann zeta function\n",
       "  (https://en.wikipedia.org/wiki/Riemann_zeta_function), Hurwitz zeta function\n",
       "  (https://en.wikipedia.org/wiki/Hurwitz_zeta_function)\n",
       "\n",
       "\u001b[36m  zeta(s)\u001b[39m\n",
       "\n",
       "  Riemann zeta function\n",
       "\n",
       "\u001b[35m  \\zeta(s) = \\sum_{n=1}^\\infty \\frac{1}{n^s}\\quad\\text{for}\\quad s\\in\\mathbb{C}.\u001b[39m\n",
       "\n",
       "  External links: Wikipedia\n",
       "  (https://en.wikipedia.org/wiki/Riemann_zeta_function)"
      ]
     },
     "metadata": {},
     "output_type": "display_data"
    }
   ],
   "source": [
    "@doc zeta # Para pedir ayuda"
   ]
  },
  {
   "cell_type": "code",
   "execution_count": 7,
   "metadata": {
    "collapsed": true
   },
   "outputs": [
    {
     "data": {
      "text/plain": [
       "π = 3.1415926535897..."
      ]
     },
     "metadata": {},
     "output_type": "display_data"
    }
   ],
   "source": [
    "pi"
   ]
  },
  {
   "cell_type": "markdown",
   "metadata": {},
   "source": [
    "__Nota:__"
   ]
  },
  {
   "cell_type": "code",
   "execution_count": 8,
   "metadata": {
    "collapsed": true
   },
   "outputs": [
    {
     "data": {
      "text/plain": [
       "π = 3.1415926535897..."
      ]
     },
     "metadata": {},
     "output_type": "display_data"
    }
   ],
   "source": [
    "π # se genera excribiendo `\\pi<TAB>`"
   ]
  },
  {
   "cell_type": "code",
   "execution_count": 9,
   "metadata": {
    "collapsed": true
   },
   "outputs": [
    {
     "data": {
      "text/plain": [
       "0.5"
      ]
     },
     "metadata": {},
     "output_type": "display_data"
    }
   ],
   "source": [
    "1/2"
   ]
  },
  {
   "cell_type": "code",
   "execution_count": 10,
   "metadata": {
    "collapsed": true
   },
   "outputs": [
    {
     "data": {
      "text/plain": [
       "true"
      ]
     },
     "metadata": {},
     "output_type": "display_data"
    }
   ],
   "source": [
    "1/2==0.5"
   ]
  },
  {
   "cell_type": "code",
   "execution_count": 11,
   "metadata": {},
   "outputs": [
    {
     "data": {
      "text/plain": [
       "Float64"
      ]
     },
     "metadata": {},
     "output_type": "display_data"
    }
   ],
   "source": [
    "typeof(1/2)"
   ]
  },
  {
   "cell_type": "markdown",
   "metadata": {},
   "source": [
    "Julia admite racionales:"
   ]
  },
  {
   "cell_type": "code",
   "execution_count": 12,
   "metadata": {
    "collapsed": true
   },
   "outputs": [
    {
     "data": {
      "text/plain": [
       "5//6"
      ]
     },
     "metadata": {},
     "output_type": "display_data"
    }
   ],
   "source": [
    "1//2+1//3"
   ]
  },
  {
   "cell_type": "code",
   "execution_count": 13,
   "metadata": {},
   "outputs": [
    {
     "data": {
      "text/plain": [
       "Rational{Int64}"
      ]
     },
     "metadata": {},
     "output_type": "display_data"
    }
   ],
   "source": [
    "typeof(1//2)"
   ]
  },
  {
   "cell_type": "code",
   "execution_count": 14,
   "metadata": {
    "collapsed": true
   },
   "outputs": [
    {
     "data": {
      "text/plain": [
       "true"
      ]
     },
     "metadata": {},
     "output_type": "display_data"
    }
   ],
   "source": [
    "1//2==0.5"
   ]
  },
  {
   "cell_type": "markdown",
   "metadata": {},
   "source": [
    "### Números complejos"
   ]
  },
  {
   "cell_type": "code",
   "execution_count": 15,
   "metadata": {
    "collapsed": true
   },
   "outputs": [
    {
     "data": {
      "text/plain": [
       "1 + 1im"
      ]
     },
     "metadata": {},
     "output_type": "display_data"
    }
   ],
   "source": [
    "1+im"
   ]
  },
  {
   "cell_type": "code",
   "execution_count": 16,
   "metadata": {
    "collapsed": true
   },
   "outputs": [
    {
     "data": {
      "text/plain": [
       "Nothing"
      ]
     },
     "metadata": {},
     "output_type": "display_data"
    }
   ],
   "source": [
    "typeof(ans)"
   ]
  },
  {
   "cell_type": "code",
   "execution_count": 17,
   "metadata": {
    "collapsed": true
   },
   "outputs": [
    {
     "data": {
      "text/plain": [
       "0.1 + 1.0im"
      ]
     },
     "metadata": {},
     "output_type": "display_data"
    }
   ],
   "source": [
    "0.1+im"
   ]
  },
  {
   "cell_type": "code",
   "execution_count": 18,
   "metadata": {
    "collapsed": true
   },
   "outputs": [
    {
     "data": {
      "text/plain": [
       "Nothing"
      ]
     },
     "metadata": {},
     "output_type": "display_data"
    }
   ],
   "source": [
    "typeof(ans)"
   ]
  },
  {
   "cell_type": "code",
   "execution_count": 19,
   "metadata": {
    "collapsed": true
   },
   "outputs": [
    {
     "data": {
      "text/plain": [
       "0.0 + 3.141592653589793im"
      ]
     },
     "metadata": {},
     "output_type": "display_data"
    }
   ],
   "source": [
    "π*im"
   ]
  },
  {
   "cell_type": "code",
   "execution_count": 20,
   "metadata": {
    "collapsed": true
   },
   "outputs": [
    {
     "data": {
      "text/plain": [
       "Nothing"
      ]
     },
     "metadata": {},
     "output_type": "display_data"
    }
   ],
   "source": [
    "typeof(ans)"
   ]
  },
  {
   "cell_type": "markdown",
   "metadata": {},
   "source": [
    "Julia también soporta números irracionales (está equipado con el tipo Irrational)"
   ]
  },
  {
   "cell_type": "code",
   "execution_count": 21,
   "metadata": {},
   "outputs": [
    {
     "data": {
      "text/plain": [
       "2.718281828459045"
      ]
     },
     "metadata": {},
     "output_type": "display_data"
    }
   ],
   "source": [
    "exp(1)"
   ]
  },
  {
   "cell_type": "code",
   "execution_count": 22,
   "metadata": {},
   "outputs": [
    {
     "data": {
      "text/plain": [
       "ℯ = 2.7182818284590..."
      ]
     },
     "metadata": {},
     "output_type": "display_data"
    }
   ],
   "source": [
    "ℯ"
   ]
  },
  {
   "cell_type": "code",
   "execution_count": 23,
   "metadata": {},
   "outputs": [
    {
     "data": {
      "text/plain": [
       "(Irrational{:π}, Irrational{:ℯ})"
      ]
     },
     "metadata": {},
     "output_type": "display_data"
    }
   ],
   "source": [
    "typeof(π), typeof(ℯ)"
   ]
  },
  {
   "cell_type": "markdown",
   "metadata": {},
   "source": [
    "### Definición de variables"
   ]
  },
  {
   "cell_type": "code",
   "execution_count": 24,
   "metadata": {
    "collapsed": true
   },
   "outputs": [
    {
     "data": {
      "text/plain": [
       "π = 3.1415926535897..."
      ]
     },
     "metadata": {},
     "output_type": "display_data"
    }
   ],
   "source": [
    "x=π # se hace de la manera usual"
   ]
  },
  {
   "cell_type": "code",
   "execution_count": 25,
   "metadata": {
    "collapsed": true
   },
   "outputs": [
    {
     "data": {
      "text/plain": [
       "π = 3.1415926535897..."
      ]
     },
     "metadata": {},
     "output_type": "display_data"
    }
   ],
   "source": [
    "x"
   ]
  },
  {
   "cell_type": "code",
   "execution_count": 26,
   "metadata": {
    "collapsed": true
   },
   "outputs": [
    {
     "data": {
      "text/plain": [
       "6.283185307179586"
      ]
     },
     "metadata": {},
     "output_type": "display_data"
    }
   ],
   "source": [
    "2x"
   ]
  },
  {
   "cell_type": "markdown",
   "metadata": {},
   "source": [
    "## Copiado de variables"
   ]
  },
  {
   "cell_type": "markdown",
   "metadata": {},
   "source": [
    "Observar con cuidado lo siguiente:"
   ]
  },
  {
   "cell_type": "code",
   "execution_count": 27,
   "metadata": {},
   "outputs": [
    {
     "data": {
      "text/plain": [
       "2"
      ]
     },
     "metadata": {},
     "output_type": "display_data"
    }
   ],
   "source": [
    "x = 2"
   ]
  },
  {
   "cell_type": "code",
   "execution_count": 28,
   "metadata": {},
   "outputs": [
    {
     "data": {
      "text/plain": [
       "2"
      ]
     },
     "metadata": {},
     "output_type": "display_data"
    }
   ],
   "source": [
    "a = x"
   ]
  },
  {
   "cell_type": "code",
   "execution_count": 29,
   "metadata": {},
   "outputs": [
    {
     "data": {
      "text/plain": [
       "3"
      ]
     },
     "metadata": {},
     "output_type": "display_data"
    }
   ],
   "source": [
    "x = 3"
   ]
  },
  {
   "cell_type": "code",
   "execution_count": 30,
   "metadata": {},
   "outputs": [
    {
     "data": {
      "text/plain": [
       "2"
      ]
     },
     "metadata": {},
     "output_type": "display_data"
    }
   ],
   "source": [
    "a"
   ]
  },
  {
   "cell_type": "code",
   "execution_count": 31,
   "metadata": {},
   "outputs": [
    {
     "name": "stdout",
     "output_type": "stream",
     "text": [
      "Original array: [[1, 2, 3], [4, 5, 6]]\n",
      "Shallow copy: [[1, 2, 3], [4, 5, 6]]\n",
      "After modifying the original:\n",
      "Original array: [[10, 2, 3], [4, 5, 6]]\n",
      "Shallow copy: [[10, 2, 3], [4, 5, 6]]\n"
     ]
    }
   ],
   "source": [
    "# Shallow copy example\n",
    "original_array = [[1, 2, 3], [4, 5, 6]]\n",
    "shallow_copy = copy(original_array)\n",
    "\n",
    "println(\"Original array: \", original_array)\n",
    "println(\"Shallow copy: \", shallow_copy)\n",
    "\n",
    "# Modify the deep copy\n",
    "original_array[1][1] = 10\n",
    "\n",
    "println(\"After modifying the original:\")\n",
    "println(\"Original array: \", original_array)\n",
    "println(\"Shallow copy: \", shallow_copy)"
   ]
  },
  {
   "cell_type": "code",
   "execution_count": 32,
   "metadata": {},
   "outputs": [
    {
     "name": "stdout",
     "output_type": "stream",
     "text": [
      "Original array: [[1, 2, 3], [4, 5, 6]]\n",
      "Deep copy: [[1, 2, 3], [4, 5, 6]]\n",
      "After modifying the original:\n",
      "Original array: [[10, 2, 3], [4, 5, 6]]\n",
      "Deep copy: [[1, 2, 3], [4, 5, 6]]\n"
     ]
    }
   ],
   "source": [
    "# Deep copy example\n",
    "original_array = [[1, 2, 3], [4, 5, 6]]\n",
    "deep_copy = deepcopy(original_array)\n",
    "\n",
    "println(\"Original array: \", original_array)\n",
    "println(\"Deep copy: \", deep_copy)\n",
    "\n",
    "# Modify the deep copy\n",
    "original_array[1][1] = 10\n",
    "\n",
    "println(\"After modifying the original:\")\n",
    "println(\"Original array: \", original_array)\n",
    "println(\"Deep copy: \", deep_copy)"
   ]
  },
  {
   "cell_type": "markdown",
   "metadata": {},
   "source": [
    "deepcopy es recursivo, pero no así copy. Que pasa con arreglos de una dimensión? (Ejercicio)"
   ]
  },
  {
   "cell_type": "markdown",
   "metadata": {},
   "source": [
    "## Precisión extendida"
   ]
  },
  {
   "cell_type": "code",
   "execution_count": 33,
   "metadata": {},
   "outputs": [
    {
     "data": {
      "text/plain": [
       "3.140000000000000000000000000000000000000000000000000000000000000000000000000008"
      ]
     },
     "metadata": {},
     "output_type": "display_data"
    }
   ],
   "source": [
    "BigFloat(\"3.14\")"
   ]
  },
  {
   "cell_type": "code",
   "execution_count": 34,
   "metadata": {},
   "outputs": [
    {
     "data": {
      "text/plain": [
       "2.0001"
      ]
     },
     "metadata": {},
     "output_type": "display_data"
    }
   ],
   "source": [
    "a = BigFloat(\"2.0001\")"
   ]
  },
  {
   "cell_type": "code",
   "execution_count": 35,
   "metadata": {},
   "outputs": [
    {
     "data": {
      "text/plain": [
       "BigFloat"
      ]
     },
     "metadata": {},
     "output_type": "display_data"
    }
   ],
   "source": [
    "typeof(a)"
   ]
  },
  {
   "cell_type": "markdown",
   "metadata": {},
   "source": [
    "# Precisión de la maquina y números representables"
   ]
  },
  {
   "cell_type": "code",
   "execution_count": 36,
   "metadata": {},
   "outputs": [
    {
     "name": "stdout",
     "output_type": "stream",
     "text": [
      "Float64:\n",
      "Machine precision: 2.220446049250313e-16\n",
      "Smallest representable number: 2.2250738585072014e-308\n",
      "Largest representable number: 1.7976931348623157e308\n",
      "\n",
      "BigFloat:\n",
      "Machine precision: 1.727233711018888925077270372560079914223200072887256277004740694033718360632485e-77\n",
      "Smallest representable number: 8.50969131174083613912978790962048280567755996982969624908264897850135431080301e-1388255822130839284\n",
      "Largest representable number: 5.875653789111587590936911998878442589938516392745498308333779606469323584389875e+1388255822130839282\n"
     ]
    }
   ],
   "source": [
    "# Machine precision for Float64\n",
    "eps_float64 = eps(Float64)\n",
    "# Smallest representable number for Float64\n",
    "min_float64 = floatmin(Float64)\n",
    "# Largest representable number for Float64\n",
    "max_float64 = floatmax(Float64)\n",
    "\n",
    "# Machine precision for BigFloat\n",
    "eps_bigfloat = eps(BigFloat)\n",
    "# Smallest representable number for BigFloat\n",
    "min_bigfloat = floatmin(BigFloat)\n",
    "# Largest representable number for BigFloat\n",
    "max_bigfloat = floatmax(BigFloat)\n",
    "\n",
    "# Print the results\n",
    "println(\"Float64:\")\n",
    "println(\"Machine precision: \", eps_float64)\n",
    "println(\"Smallest representable number: \", min_float64)\n",
    "println(\"Largest representable number: \", max_float64)\n",
    "\n",
    "println(\"\\nBigFloat:\")\n",
    "println(\"Machine precision: \", eps_bigfloat)\n",
    "println(\"Smallest representable number: \", min_bigfloat)\n",
    "println(\"Largest representable number: \", max_bigfloat)"
   ]
  },
  {
   "cell_type": "markdown",
   "metadata": {},
   "source": [
    "# Vectores, matrices y otras estructuras"
   ]
  },
  {
   "cell_type": "code",
   "execution_count": 37,
   "metadata": {},
   "outputs": [
    {
     "data": {
      "text/plain": [
       "3-element Vector{Float64}:\n",
       " 3.0\n",
       " 2.0\n",
       " 1.0"
      ]
     },
     "metadata": {},
     "output_type": "display_data"
    }
   ],
   "source": [
    "a = [3, 2.0, 1.0]"
   ]
  },
  {
   "cell_type": "code",
   "execution_count": 38,
   "metadata": {},
   "outputs": [
    {
     "data": {
      "text/plain": [
       "Vector{Float64}\u001b[90m (alias for \u001b[39m\u001b[90mArray{Float64, 1}\u001b[39m\u001b[90m)\u001b[39m"
      ]
     },
     "metadata": {},
     "output_type": "display_data"
    }
   ],
   "source": [
    "typeof(a)"
   ]
  },
  {
   "cell_type": "code",
   "execution_count": 39,
   "metadata": {},
   "outputs": [
    {
     "data": {
      "text/plain": [
       "3-element Vector{Any}:\n",
       "   \"foo\"\n",
       "   \"bar\"\n",
       " 10"
      ]
     },
     "metadata": {},
     "output_type": "display_data"
    }
   ],
   "source": [
    "a = [\"foo\", \"bar\", 10]"
   ]
  },
  {
   "cell_type": "code",
   "execution_count": 40,
   "metadata": {},
   "outputs": [
    {
     "data": {
      "text/plain": [
       "Vector{Any}\u001b[90m (alias for \u001b[39m\u001b[90mArray{Any, 1}\u001b[39m\u001b[90m)\u001b[39m"
      ]
     },
     "metadata": {},
     "output_type": "display_data"
    }
   ],
   "source": [
    "typeof(a)"
   ]
  },
  {
   "cell_type": "code",
   "execution_count": 41,
   "metadata": {},
   "outputs": [
    {
     "data": {
      "text/plain": [
       "10-element Vector{Float64}:\n",
       " 0.0\n",
       " 0.0\n",
       " 0.0\n",
       " 0.0\n",
       " 0.0\n",
       " 0.0\n",
       " 0.0\n",
       " 0.0\n",
       " 0.0\n",
       " 0.0"
      ]
     },
     "metadata": {},
     "output_type": "display_data"
    }
   ],
   "source": [
    "zeros(10)"
   ]
  },
  {
   "cell_type": "markdown",
   "metadata": {},
   "source": [
    "Matriz en ceros"
   ]
  },
  {
   "cell_type": "code",
   "execution_count": 42,
   "metadata": {},
   "outputs": [
    {
     "data": {
      "text/plain": [
       "2×3 Matrix{Float64}:\n",
       " 0.0  0.0  0.0\n",
       " 0.0  0.0  0.0"
      ]
     },
     "metadata": {},
     "output_type": "display_data"
    }
   ],
   "source": [
    "ze=zeros(2,3)"
   ]
  },
  {
   "cell_type": "markdown",
   "metadata": {},
   "source": [
    "Creando vectores en ceros especificando el tipo."
   ]
  },
  {
   "cell_type": "code",
   "execution_count": 43,
   "metadata": {},
   "outputs": [
    {
     "data": {
      "text/plain": [
       "10-element Vector{Int8}:\n",
       " 0\n",
       " 0\n",
       " 0\n",
       " 0\n",
       " 0\n",
       " 0\n",
       " 0\n",
       " 0\n",
       " 0\n",
       " 0"
      ]
     },
     "metadata": {},
     "output_type": "display_data"
    }
   ],
   "source": [
    "zeros(Int8,10)"
   ]
  },
  {
   "cell_type": "code",
   "execution_count": 44,
   "metadata": {},
   "outputs": [],
   "source": [
    "using LinearAlgebra"
   ]
  },
  {
   "cell_type": "code",
   "execution_count": 45,
   "metadata": {},
   "outputs": [
    {
     "data": {
      "text/latex": [
       "Linear algebra module. Provides array arithmetic, matrix factorizations and other linear algebra related functionality.\n",
       "\n"
      ],
      "text/markdown": [
       "Linear algebra module. Provides array arithmetic, matrix factorizations and other linear algebra related functionality.\n"
      ],
      "text/plain": [
       "  Linear algebra module. Provides array arithmetic, matrix factorizations and\n",
       "  other linear algebra related functionality."
      ]
     },
     "metadata": {},
     "output_type": "display_data"
    }
   ],
   "source": [
    "@doc LinearAlgebra"
   ]
  },
  {
   "cell_type": "code",
   "execution_count": 46,
   "metadata": {},
   "outputs": [
    {
     "data": {
      "text/plain": [
       "UniformScaling{Bool}\n",
       "true*I"
      ]
     },
     "metadata": {},
     "output_type": "display_data"
    }
   ],
   "source": [
    "I"
   ]
  },
  {
   "cell_type": "code",
   "execution_count": 47,
   "metadata": {},
   "outputs": [
    {
     "data": {
      "text/plain": [
       "UniformScaling{Int64}\n",
       "2*I"
      ]
     },
     "metadata": {},
     "output_type": "display_data"
    }
   ],
   "source": [
    "2*I"
   ]
  },
  {
   "cell_type": "code",
   "execution_count": 48,
   "metadata": {},
   "outputs": [
    {
     "data": {
      "text/plain": [
       "2×2 Matrix{Float64}:\n",
       " 1.0  0.0\n",
       " 0.0  1.0"
      ]
     },
     "metadata": {},
     "output_type": "display_data"
    }
   ],
   "source": [
    "id = Matrix{Float64}(I, 2, 2)"
   ]
  },
  {
   "cell_type": "code",
   "execution_count": 49,
   "metadata": {},
   "outputs": [
    {
     "data": {
      "text/plain": [
       "0.0"
      ]
     },
     "metadata": {},
     "output_type": "display_data"
    }
   ],
   "source": [
    "id[1,2]"
   ]
  },
  {
   "cell_type": "code",
   "execution_count": 50,
   "metadata": {},
   "outputs": [
    {
     "data": {
      "text/plain": [
       "1.0"
      ]
     },
     "metadata": {},
     "output_type": "display_data"
    }
   ],
   "source": [
    "id[1,1]"
   ]
  },
  {
   "cell_type": "code",
   "execution_count": 51,
   "metadata": {},
   "outputs": [
    {
     "data": {
      "text/plain": [
       "1.0"
      ]
     },
     "metadata": {},
     "output_type": "display_data"
    }
   ],
   "source": [
    "id[1]"
   ]
  },
  {
   "cell_type": "code",
   "execution_count": 52,
   "metadata": {},
   "outputs": [
    {
     "data": {
      "text/plain": [
       "1.0"
      ]
     },
     "metadata": {},
     "output_type": "display_data"
    }
   ],
   "source": [
    "id[4]"
   ]
  },
  {
   "cell_type": "markdown",
   "metadata": {},
   "source": [
    "Julia comienza a contar desde el 1, cosa que es poco usual en los lenguajes de programación comunes."
   ]
  },
  {
   "cell_type": "markdown",
   "metadata": {},
   "source": [
    "Otra forma de crear matrices:"
   ]
  },
  {
   "cell_type": "code",
   "execution_count": 53,
   "metadata": {},
   "outputs": [
    {
     "data": {
      "text/plain": [
       "2×2 Matrix{Int64}:\n",
       " 1  2\n",
       " 3  4"
      ]
     },
     "metadata": {},
     "output_type": "display_data"
    }
   ],
   "source": [
    "[1 2; 3 4]"
   ]
  },
  {
   "cell_type": "markdown",
   "metadata": {},
   "source": [
    "Covectores:"
   ]
  },
  {
   "cell_type": "code",
   "execution_count": 54,
   "metadata": {},
   "outputs": [
    {
     "data": {
      "text/plain": [
       "1×4 Matrix{Int64}:\n",
       " 1  2  3  4"
      ]
     },
     "metadata": {},
     "output_type": "display_data"
    }
   ],
   "source": [
    "co = [1 2 3 4]"
   ]
  },
  {
   "cell_type": "markdown",
   "metadata": {},
   "source": [
    "vectores"
   ]
  },
  {
   "cell_type": "code",
   "execution_count": 55,
   "metadata": {},
   "outputs": [
    {
     "data": {
      "text/plain": [
       "4×1 transpose(::Matrix{Int64}) with eltype Int64:\n",
       " 1\n",
       " 2\n",
       " 3\n",
       " 4"
      ]
     },
     "metadata": {},
     "output_type": "display_data"
    }
   ],
   "source": [
    "transpose(co)"
   ]
  },
  {
   "cell_type": "code",
   "execution_count": 56,
   "metadata": {},
   "outputs": [
    {
     "data": {
      "text/plain": [
       "Matrix{Int64}\u001b[90m (alias for \u001b[39m\u001b[90mArray{Int64, 2}\u001b[39m\u001b[90m)\u001b[39m"
      ]
     },
     "metadata": {},
     "output_type": "display_data"
    }
   ],
   "source": [
    "typeof(co)"
   ]
  },
  {
   "cell_type": "code",
   "execution_count": 57,
   "metadata": {},
   "outputs": [
    {
     "data": {
      "text/plain": [
       "3×3 Matrix{Bool}:\n",
       " 1  0  0\n",
       " 0  1  0\n",
       " 0  0  1"
      ]
     },
     "metadata": {},
     "output_type": "display_data"
    }
   ],
   "source": [
    "Matrix(1I, 3, 3)    # Identity matrix of Int type\n",
    "Matrix(1.0I, 3, 3)  # Identity matrix of Float64 type\n",
    "Matrix(I, 3, 3)     # Identity matrix of Bool type"
   ]
  },
  {
   "cell_type": "code",
   "execution_count": 58,
   "metadata": {},
   "outputs": [
    {
     "data": {
      "text/plain": [
       "3×3 Matrix{Bool}:\n",
       " 1  0  0\n",
       " 0  1  0\n",
       " 0  0  1"
      ]
     },
     "metadata": {},
     "output_type": "display_data"
    }
   ],
   "source": [
    "Matrix{Int}(I, 3, 3)      # Identity matrix of Int type\n",
    "Matrix{Float64}(I, 3, 3)  # Identity matrix of Float64 type\n",
    "Matrix{Bool}(I, 3, 3)     # Identity matrix of Bool type"
   ]
  },
  {
   "cell_type": "markdown",
   "metadata": {},
   "source": [
    "__Creación de vectores en blanco__"
   ]
  },
  {
   "cell_type": "markdown",
   "metadata": {},
   "source": [
    "Si queremos por ejemplo un vector de enteros sin especificar las entradas, pero con dimensión fija, podemos hacer:"
   ]
  },
  {
   "cell_type": "code",
   "execution_count": 59,
   "metadata": {},
   "outputs": [
    {
     "data": {
      "text/plain": [
       "5-element Vector{Int64}:\n",
       " 13510798882111488\n",
       "   135780316410704\n",
       "   135780235232848\n",
       "   135780960482320\n",
       "   135780958960944"
      ]
     },
     "metadata": {},
     "output_type": "display_data"
    }
   ],
   "source": [
    "array = Array{Int64}(undef, 5)"
   ]
  },
  {
   "cell_type": "code",
   "execution_count": 60,
   "metadata": {},
   "outputs": [
    {
     "data": {
      "text/plain": [
       "5×6 Matrix{Int64}:\n",
       " 135780918273376  135780918273376  …  135780918273376  135780918273376\n",
       " 135780918273376  135780918273376     135780918273376  135780918273376\n",
       " 135780918273376  135780918273376     135780918273376  135780918273376\n",
       " 135780918273376  135780918273376     135780918273376  135780918273376\n",
       " 135780918273376  135780918273376     135780918273376  135780918273376"
      ]
     },
     "metadata": {},
     "output_type": "display_data"
    }
   ],
   "source": [
    "array = Array{Int64}(undef, 5,6)"
   ]
  },
  {
   "cell_type": "code",
   "execution_count": 17,
   "metadata": {},
   "outputs": [
    {
     "data": {
      "text/plain": [
       "10×100 Matrix{Vector{Float64}}:\n",
       " #undef  #undef  #undef  #undef  #undef  …  #undef  #undef  #undef  #undef\n",
       " #undef  #undef  #undef  #undef  #undef     #undef  #undef  #undef  #undef\n",
       " #undef  #undef  #undef  #undef  #undef     #undef  #undef  #undef  #undef\n",
       " #undef  #undef  #undef  #undef  #undef     #undef  #undef  #undef  #undef\n",
       " #undef  #undef  #undef  #undef  #undef     #undef  #undef  #undef  #undef\n",
       " #undef  #undef  #undef  #undef  #undef  …  #undef  #undef  #undef  #undef\n",
       " #undef  #undef  #undef  #undef  #undef     #undef  #undef  #undef  #undef\n",
       " #undef  #undef  #undef  #undef  #undef     #undef  #undef  #undef  #undef\n",
       " #undef  #undef  #undef  #undef  #undef     #undef  #undef  #undef  #undef\n",
       " #undef  #undef  #undef  #undef  #undef     #undef  #undef  #undef  #undef"
      ]
     },
     "metadata": {},
     "output_type": "display_data"
    }
   ],
   "source": [
    "z= Array{Vector{Float64}}(undef, 10, 100)"
   ]
  },
  {
   "cell_type": "code",
   "execution_count": 18,
   "metadata": {},
   "outputs": [
    {
     "ename": "MethodError",
     "evalue": "MethodError: Cannot `convert` an object of type Int64 to an object of type Vector{Float64}\nThe function `convert` exists, but no method is defined for this combination of argument types.\n\nClosest candidates are:\n  convert(::Type{T}, !Matched::AbstractArray) where T<:Array\n   @ Base array.jl:618\n  convert(::Type{T}, !Matched::T) where T\n   @ Base Base.jl:126\n  convert(::Type{T}, !Matched::LinearAlgebra.Factorization) where T<:AbstractArray\n   @ LinearAlgebra ~/.julia/juliaup/julia-1.11.3+0.x64.linux.gnu/share/julia/stdlib/v1.11/LinearAlgebra/src/factorization.jl:104\n  ...\n",
     "output_type": "error",
     "traceback": [
      "MethodError: Cannot `convert` an object of type Int64 to an object of type Vector{Float64}\n",
      "The function `convert` exists, but no method is defined for this combination of argument types.\n",
      "\n",
      "Closest candidates are:\n",
      "  convert(::Type{T}, !Matched::AbstractArray) where T<:Array\n",
      "   @ Base array.jl:618\n",
      "  convert(::Type{T}, !Matched::T) where T\n",
      "   @ Base Base.jl:126\n",
      "  convert(::Type{T}, !Matched::LinearAlgebra.Factorization) where T<:AbstractArray\n",
      "   @ LinearAlgebra ~/.julia/juliaup/julia-1.11.3+0.x64.linux.gnu/share/julia/stdlib/v1.11/LinearAlgebra/src/factorization.jl:104\n",
      "  ...\n",
      "\n",
      "\n",
      "Stacktrace:\n",
      " [1] setindex!(A::Matrix{Vector{Float64}}, x::Int64, i::Int64)\n",
      "   @ Base ./array.jl:987\n",
      " [2] top-level scope\n",
      "   @ ~/Dropbox/postdoc_gorin/clases/metodos/metodos_sim_num/clases/jl_notebook_cell_df34fa98e69747e1a8f8a730347b8e2f_Y251sZmlsZQ==.jl:1"
     ]
    }
   ],
   "source": [
    "z[1]=0"
   ]
  },
  {
   "cell_type": "code",
   "execution_count": 16,
   "metadata": {},
   "outputs": [
    {
     "data": {
      "text/plain": [
       "10×100 Matrix{Float64}:\n",
       " 4.16656e-315  0.0           …  0.0  0.0  0.0  0.0  0.0  0.0  0.0\n",
       " 4.683e-315    4.683e-315       0.0  0.0  0.0  0.0  0.0  0.0  0.0\n",
       " 4.683e-315    4.28859e-315     0.0  0.0  0.0  0.0  0.0  0.0  0.0\n",
       " 0.0           4.28859e-315     0.0  0.0  0.0  0.0  0.0  0.0  0.0\n",
       " 4.683e-315    4.28859e-315     0.0  0.0  0.0  0.0  0.0  0.0  0.0\n",
       " 4.28816e-315  4.683e-315    …  0.0  0.0  0.0  0.0  0.0  0.0  0.0\n",
       " 4.28816e-315  4.683e-315       0.0  0.0  0.0  0.0  0.0  0.0  0.0\n",
       " 4.28816e-315  0.0              0.0  0.0  0.0  0.0  0.0  0.0  0.0\n",
       " 4.683e-315    4.683e-315       0.0  0.0  0.0  0.0  0.0  0.0  0.0\n",
       " 4.683e-315    4.20802e-315     0.0  0.0  0.0  0.0  0.0  0.0  0.0"
      ]
     },
     "metadata": {},
     "output_type": "display_data"
    }
   ],
   "source": [
    "z= Array{Float64}(undef, 10, 100)"
   ]
  },
  {
   "cell_type": "markdown",
   "metadata": {},
   "source": [
    "# Esturcturas basicas"
   ]
  },
  {
   "cell_type": "markdown",
   "metadata": {},
   "source": [
    "## bucles y expresiones condicionales"
   ]
  },
  {
   "cell_type": "code",
   "execution_count": 63,
   "metadata": {},
   "outputs": [
    {
     "name": "stdout",
     "output_type": "stream",
     "text": [
      "-1\n",
      "0\n",
      "1\n",
      "2\n",
      "3\n"
     ]
    }
   ],
   "source": [
    "# for simple\n",
    "for i in -1:3\n",
    "    println(i)\n",
    "end"
   ]
  },
  {
   "cell_type": "code",
   "execution_count": 64,
   "metadata": {},
   "outputs": [
    {
     "data": {
      "text/plain": [
       "UnitRange{Int64}"
      ]
     },
     "metadata": {},
     "output_type": "display_data"
    }
   ],
   "source": [
    "typeof(-1:3)"
   ]
  },
  {
   "cell_type": "code",
   "execution_count": 65,
   "metadata": {},
   "outputs": [
    {
     "ename": "UndefVarError",
     "evalue": "UndefVarError: `i` not defined in `Main`\nSuggestion: check for spelling errors or missing imports.",
     "output_type": "error",
     "traceback": [
      "UndefVarError: `i` not defined in `Main`\n",
      "Suggestion: check for spelling errors or missing imports.\n"
     ]
    }
   ],
   "source": [
    "i # i es una variable local"
   ]
  },
  {
   "cell_type": "code",
   "execution_count": 66,
   "metadata": {},
   "outputs": [
    {
     "name": "stdout",
     "output_type": "stream",
     "text": [
      "1\n",
      "2\n",
      "3\n"
     ]
    }
   ],
   "source": [
    "for i in 1:3\n",
    "    r = i\n",
    "    println(r)\n",
    "end"
   ]
  },
  {
   "cell_type": "code",
   "execution_count": 67,
   "metadata": {},
   "outputs": [
    {
     "ename": "UndefVarError",
     "evalue": "UndefVarError: `r` not defined in `Main`\nSuggestion: check for spelling errors or missing imports.",
     "output_type": "error",
     "traceback": [
      "UndefVarError: `r` not defined in `Main`\n",
      "Suggestion: check for spelling errors or missing imports.\n"
     ]
    }
   ],
   "source": [
    "r # esta es local también, esta dentro del for"
   ]
  },
  {
   "cell_type": "code",
   "execution_count": 68,
   "metadata": {},
   "outputs": [
    {
     "name": "stdout",
     "output_type": "stream",
     "text": [
      "1\n",
      "3\n",
      "5\n",
      "7\n",
      "9\n"
     ]
    }
   ],
   "source": [
    "r = 0\n",
    "for i in 1:2:10\n",
    "    r = i\n",
    "    println(r)\n",
    "end"
   ]
  },
  {
   "cell_type": "code",
   "execution_count": 69,
   "metadata": {},
   "outputs": [
    {
     "data": {
      "text/plain": [
       "9"
      ]
     },
     "metadata": {},
     "output_type": "display_data"
    }
   ],
   "source": [
    "r #Aqui ya no es local, está definida como global, pues se definió fuera del bucle."
   ]
  },
  {
   "cell_type": "code",
   "execution_count": 70,
   "metadata": {},
   "outputs": [
    {
     "name": "stdout",
     "output_type": "stream",
     "text": [
      "true & true = true\n",
      "true | true = true\n",
      "true & false = false\n",
      "true | false = true\n",
      "false & true = false\n",
      "false | true = true\n",
      "false & false = false\n",
      "false | false = false\n"
     ]
    }
   ],
   "source": [
    "for ib = (true, false)\n",
    "    for jb = (true,false)\n",
    "        println( \"$ib & $jb = \", ib & jb)\n",
    "        println( \"$ib | $jb = \", ib | jb)\n",
    "    end\n",
    "end"
   ]
  },
  {
   "cell_type": "markdown",
   "metadata": {},
   "source": [
    "* While"
   ]
  },
  {
   "cell_type": "code",
   "execution_count": 71,
   "metadata": {},
   "outputs": [
    {
     "name": "stdout",
     "output_type": "stream",
     "text": [
      "0\n",
      "1\n",
      "2\n",
      "3\n",
      "4\n",
      "5\n"
     ]
    }
   ],
   "source": [
    "i=0;\n",
    "while i <= 5\n",
    "         println(i)\n",
    "         i += 1\n",
    "end"
   ]
  },
  {
   "cell_type": "markdown",
   "metadata": {},
   "source": [
    "* If"
   ]
  },
  {
   "cell_type": "code",
   "execution_count": 72,
   "metadata": {},
   "outputs": [
    {
     "name": "stdout",
     "output_type": "stream",
     "text": [
      "x is greater than y\n"
     ]
    }
   ],
   "source": [
    "y=5;\n",
    "x=6;\n",
    "if x < y\n",
    "  println(\"x is less than y\")\n",
    "elseif x > y\n",
    "  println(\"x is greater than y\")\n",
    "else\n",
    "  println(\"x is equal to y\")\n",
    "end"
   ]
  },
  {
   "cell_type": "markdown",
   "metadata": {},
   "source": [
    "## Creacion de funciones"
   ]
  },
  {
   "cell_type": "code",
   "execution_count": 73,
   "metadata": {},
   "outputs": [
    {
     "data": {
      "text/plain": [
       "sphere_vol (generic function with 1 method)"
      ]
     },
     "metadata": {},
     "output_type": "display_data"
    }
   ],
   "source": [
    "# Calculo del volumen de una esfera de radio r\n",
    "function sphere_vol(r)\n",
    "    return 4/3*pi*r^3\n",
    "end"
   ]
  },
  {
   "cell_type": "code",
   "execution_count": 74,
   "metadata": {},
   "outputs": [
    {
     "data": {
      "text/plain": [
       "typeof(sphere_vol) (singleton type of function sphere_vol, subtype of Function)"
      ]
     },
     "metadata": {},
     "output_type": "display_data"
    }
   ],
   "source": [
    "typeof(sphere_vol)"
   ]
  },
  {
   "cell_type": "code",
   "execution_count": 75,
   "metadata": {},
   "outputs": [
    {
     "data": {
      "text/plain": [
       "4.1887902047863905"
      ]
     },
     "metadata": {},
     "output_type": "display_data"
    }
   ],
   "source": [
    "sphere_vol(1)"
   ]
  },
  {
   "cell_type": "markdown",
   "metadata": {},
   "source": [
    "### Ejemplo : Método de Newton para calcular raices cuadradas (Método Babilónico)\n",
    "\n",
    "* Para calcular la raiz cuadrada de $S$ un método bastante conocido es el de los Babilonios (derivable del método de newton para buscar ceros). El algoritmo puede ser presentado como un sistema dinámico discreto:\n",
    "$$x_{n+1}=\\frac{1}{2} \\left( x_n+\\frac{S}{x_n} \\right), \\hspace{5 pt} \\lim_{n\\to\\infty} x_n\\to \\sqrt{S}.$$\n",
    "Donde $x_0$ es una condicion inicial cualquiera, finita y acotada. Típicamente uno escoge una buena condicion inicial para que el metodo converja rapido.\n",
    "\n",
    "__Nota:__ Por favor entiendan que para encontrar la fórmula anterior solo se sustituyó: \n",
    "$$f(x)=x^2-S \\hspace{10 pt} \\text{y} \\hspace{10 pt} f'(x)=2x.$$"
   ]
  },
  {
   "cell_type": "code",
   "execution_count": 13,
   "metadata": {},
   "outputs": [
    {
     "data": {
      "text/plain": [
       "sqrt_root"
      ]
     },
     "metadata": {},
     "output_type": "display_data"
    }
   ],
   "source": [
    "\"\"\"\n",
    "Esta función calcula la raiz cuadrada\n",
    "\"\"\"\n",
    "function sqrt_root(S)\n",
    "    x=S/2;\n",
    "    for i in 1:20\n",
    "       x=0.5(x+S/x)\n",
    "    end\n",
    "    return x\n",
    "end"
   ]
  },
  {
   "cell_type": "code",
   "execution_count": 77,
   "metadata": {},
   "outputs": [
    {
     "data": {
      "text/plain": [
       "1.414213562373095"
      ]
     },
     "metadata": {},
     "output_type": "display_data"
    }
   ],
   "source": [
    "sqrt_root(2)"
   ]
  },
  {
   "cell_type": "code",
   "execution_count": 78,
   "metadata": {},
   "outputs": [
    {
     "data": {
      "text/plain": [
       "1.4142135623730951"
      ]
     },
     "metadata": {},
     "output_type": "display_data"
    }
   ],
   "source": [
    "sqrt(2)"
   ]
  },
  {
   "cell_type": "markdown",
   "metadata": {},
   "source": [
    "* Podemos mirar la documentación que agregamos a nuestra función como cualquier otra función de Julia:"
   ]
  },
  {
   "cell_type": "code",
   "execution_count": 14,
   "metadata": {},
   "outputs": [
    {
     "data": {
      "text/latex": [
       "Esta función calcula la raiz cuadrada\n",
       "\n"
      ],
      "text/markdown": [
       "Esta función calcula la raiz cuadrada\n"
      ],
      "text/plain": [
       "  Esta función calcula la raiz cuadrada"
      ]
     },
     "metadata": {},
     "output_type": "display_data"
    }
   ],
   "source": [
    "@doc sqrt_root"
   ]
  },
  {
   "cell_type": "markdown",
   "metadata": {},
   "source": [
    "# Graficar en Julia"
   ]
  },
  {
   "cell_type": "code",
   "execution_count": 80,
   "metadata": {},
   "outputs": [
    {
     "data": {
      "image/png": "[encoded data removed]",
      "image/svg+xml": [
       "<?xml version=\"1.0\" encoding=\"utf-8\"?>\n",
       "<svg xmlns=\"http://www.w3.org/2000/svg\" xmlns:xlink=\"http://www.w3.org/1999/xlink\" width=\"600\" height=\"400\" viewBox=\"0 0 2400 1600\">\n",
       "<defs>\n",
       "  <clipPath id=\"clip350\">\n",
       "    <rect x=\"0\" y=\"0\" width=\"2400\" height=\"1600\"/>\n",
       "  </clipPath>\n",
       "</defs>\n",
       "<path clip-path=\"url(#clip350)\" d=\"M0 1600 L2400 1600 L2400 0 L0 0  Z\" fill=\"#ffffff\" fill-rule=\"evenodd\" fill-opacity=\"1\"/>\n",
       "<defs>\n",
       "  <clipPath id=\"clip351\">\n",
       "    <rect x=\"480\" y=\"0\" width=\"1681\" height=\"1600\"/>\n",
       "  </clipPath>\n",
       "</defs>\n",
       "<path clip-path=\"url(#clip350)\" d=\"M219.866 1423.18 L2352.76 1423.18 L2352.76 123.472 L219.866 123.472  Z\" fill=\"#ffffff\" fill-rule=\"evenodd\" fill-opacity=\"1\"/>\n",
       "<defs>\n",
       "  <clipPath id=\"clip352\">\n",
       "    <rect x=\"219\" y=\"123\" width=\"2134\" height=\"1301\"/>\n",
       "  </clipPath>\n",
       "</defs>\n",
       "<polyline clip-path=\"url(#clip352)\" style=\"stroke:#000000; stroke-linecap:round; stroke-linejoin:round; stroke-width:2; stroke-opacity:0.1; fill:none\" points=\"503.804,1423.18 503.804,123.472 \"/>\n",
       "<polyline clip-path=\"url(#clip352)\" style=\"stroke:#000000; stroke-linecap:round; stroke-linejoin:round; stroke-width:2; stroke-opacity:0.1; fill:none\" points=\"950.951,1423.18 950.951,123.472 \"/>\n",
       "<polyline clip-path=\"url(#clip352)\" style=\"stroke:#000000; stroke-linecap:round; stroke-linejoin:round; stroke-width:2; stroke-opacity:0.1; fill:none\" points=\"1398.1,1423.18 1398.1,123.472 \"/>\n",
       "<polyline clip-path=\"url(#clip352)\" style=\"stroke:#000000; stroke-linecap:round; stroke-linejoin:round; stroke-width:2; stroke-opacity:0.1; fill:none\" points=\"1845.24,1423.18 1845.24,123.472 \"/>\n",
       "<polyline clip-path=\"url(#clip352)\" style=\"stroke:#000000; stroke-linecap:round; stroke-linejoin:round; stroke-width:2; stroke-opacity:0.1; fill:none\" points=\"2292.39,1423.18 2292.39,123.472 \"/>\n",
       "<polyline clip-path=\"url(#clip352)\" style=\"stroke:#000000; stroke-linecap:round; stroke-linejoin:round; stroke-width:2; stroke-opacity:0.1; fill:none\" points=\"219.866,1129.81 2352.76,1129.81 \"/>\n",
       "<polyline clip-path=\"url(#clip352)\" style=\"stroke:#000000; stroke-linecap:round; stroke-linejoin:round; stroke-width:2; stroke-opacity:0.1; fill:none\" points=\"219.866,794.612 2352.76,794.612 \"/>\n",
       "<polyline clip-path=\"url(#clip352)\" style=\"stroke:#000000; stroke-linecap:round; stroke-linejoin:round; stroke-width:2; stroke-opacity:0.1; fill:none\" points=\"219.866,459.414 2352.76,459.414 \"/>\n",
       "<polyline clip-path=\"url(#clip352)\" style=\"stroke:#000000; stroke-linecap:round; stroke-linejoin:round; stroke-width:2; stroke-opacity:0.1; fill:none\" points=\"219.866,124.216 2352.76,124.216 \"/>\n",
       "<polyline clip-path=\"url(#clip350)\" style=\"stroke:#000000; stroke-linecap:round; stroke-linejoin:round; stroke-width:4; stroke-opacity:1; fill:none\" points=\"219.866,1423.18 2352.76,1423.18 \"/>\n",
       "<polyline clip-path=\"url(#clip350)\" style=\"stroke:#000000; stroke-linecap:round; stroke-linejoin:round; stroke-width:4; stroke-opacity:1; fill:none\" points=\"503.804,1423.18 503.804,1404.28 \"/>\n",
       "<polyline clip-path=\"url(#clip350)\" style=\"stroke:#000000; stroke-linecap:round; stroke-linejoin:round; stroke-width:4; stroke-opacity:1; fill:none\" points=\"950.951,1423.18 950.951,1404.28 \"/>\n",
       "<polyline clip-path=\"url(#clip350)\" style=\"stroke:#000000; stroke-linecap:round; stroke-linejoin:round; stroke-width:4; stroke-opacity:1; fill:none\" points=\"1398.1,1423.18 1398.1,1404.28 \"/>\n",
       "<polyline clip-path=\"url(#clip350)\" style=\"stroke:#000000; stroke-linecap:round; stroke-linejoin:round; stroke-width:4; stroke-opacity:1; fill:none\" points=\"1845.24,1423.18 1845.24,1404.28 \"/>\n",
       "<polyline clip-path=\"url(#clip350)\" style=\"stroke:#000000; stroke-linecap:round; stroke-linejoin:round; stroke-width:4; stroke-opacity:1; fill:none\" points=\"2292.39,1423.18 2292.39,1404.28 \"/>\n",
       "<path clip-path=\"url(#clip350)\" d=\"M498.457 1481.64 L514.777 1481.64 L514.777 1485.58 L492.832 1485.58 L492.832 1481.64 Q495.494 1478.89 500.078 1474.26 Q504.684 1469.61 505.865 1468.27 Q508.11 1465.74 508.99 1464.01 Q509.892 1462.25 509.892 1460.56 Q509.892 1457.8 507.948 1456.07 Q506.027 1454.33 502.925 1454.33 Q500.726 1454.33 498.272 1455.09 Q495.841 1455.86 493.064 1457.41 L493.064 1452.69 Q495.888 1451.55 498.341 1450.97 Q500.795 1450.39 502.832 1450.39 Q508.203 1450.39 511.397 1453.08 Q514.591 1455.77 514.591 1460.26 Q514.591 1462.39 513.781 1464.31 Q512.994 1466.2 510.888 1468.8 Q510.309 1469.47 507.207 1472.69 Q504.105 1475.88 498.457 1481.64 Z\" fill=\"#000000\" fill-rule=\"nonzero\" fill-opacity=\"1\" /><path clip-path=\"url(#clip350)\" d=\"M953.96 1455.09 L942.155 1473.54 L953.96 1473.54 L953.96 1455.09 M952.733 1451.02 L958.613 1451.02 L958.613 1473.54 L963.544 1473.54 L963.544 1477.43 L958.613 1477.43 L958.613 1485.58 L953.96 1485.58 L953.96 1477.43 L938.359 1477.43 L938.359 1472.92 L952.733 1451.02 Z\" fill=\"#000000\" fill-rule=\"nonzero\" fill-opacity=\"1\" /><path clip-path=\"url(#clip350)\" d=\"M1398.5 1466.44 Q1395.35 1466.44 1393.5 1468.59 Q1391.67 1470.74 1391.67 1474.49 Q1391.67 1478.22 1393.5 1480.39 Q1395.35 1482.55 1398.5 1482.55 Q1401.65 1482.55 1403.48 1480.39 Q1405.33 1478.22 1405.33 1474.49 Q1405.33 1470.74 1403.48 1468.59 Q1401.65 1466.44 1398.5 1466.44 M1407.79 1451.78 L1407.79 1456.04 Q1406.03 1455.21 1404.22 1454.77 Q1402.44 1454.33 1400.68 1454.33 Q1396.05 1454.33 1393.6 1457.45 Q1391.16 1460.58 1390.82 1466.9 Q1392.18 1464.89 1394.24 1463.82 Q1396.3 1462.73 1398.78 1462.73 Q1403.99 1462.73 1407 1465.9 Q1410.03 1469.05 1410.03 1474.49 Q1410.03 1479.82 1406.88 1483.03 Q1403.73 1486.25 1398.5 1486.25 Q1392.51 1486.25 1389.34 1481.67 Q1386.16 1477.06 1386.16 1468.33 Q1386.16 1460.14 1390.05 1455.28 Q1393.94 1450.39 1400.49 1450.39 Q1402.25 1450.39 1404.04 1450.74 Q1405.84 1451.09 1407.79 1451.78 Z\" fill=\"#000000\" fill-rule=\"nonzero\" fill-opacity=\"1\" /><path clip-path=\"url(#clip350)\" d=\"M1845.24 1469.17 Q1841.91 1469.17 1839.99 1470.95 Q1838.09 1472.73 1838.09 1475.86 Q1838.09 1478.98 1839.99 1480.77 Q1841.91 1482.55 1845.24 1482.55 Q1848.58 1482.55 1850.5 1480.77 Q1852.42 1478.96 1852.42 1475.86 Q1852.42 1472.73 1850.5 1470.95 Q1848.6 1469.17 1845.24 1469.17 M1840.57 1467.18 Q1837.56 1466.44 1835.87 1464.38 Q1834.2 1462.32 1834.2 1459.35 Q1834.2 1455.21 1837.14 1452.8 Q1840.11 1450.39 1845.24 1450.39 Q1850.41 1450.39 1853.35 1452.8 Q1856.29 1455.21 1856.29 1459.35 Q1856.29 1462.32 1854.6 1464.38 Q1852.93 1466.44 1849.94 1467.18 Q1853.32 1467.96 1855.2 1470.26 Q1857.1 1472.55 1857.1 1475.86 Q1857.1 1480.88 1854.02 1483.57 Q1850.96 1486.25 1845.24 1486.25 Q1839.53 1486.25 1836.45 1483.57 Q1833.39 1480.88 1833.39 1475.86 Q1833.39 1472.55 1835.29 1470.26 Q1837.19 1467.96 1840.57 1467.18 M1838.86 1459.79 Q1838.86 1462.48 1840.52 1463.98 Q1842.21 1465.49 1845.24 1465.49 Q1848.25 1465.49 1849.94 1463.98 Q1851.66 1462.48 1851.66 1459.79 Q1851.66 1457.11 1849.94 1455.6 Q1848.25 1454.1 1845.24 1454.1 Q1842.21 1454.1 1840.52 1455.6 Q1838.86 1457.11 1838.86 1459.79 Z\" fill=\"#000000\" fill-rule=\"nonzero\" fill-opacity=\"1\" /><path clip-path=\"url(#clip350)\" d=\"M2267.08 1481.64 L2274.72 1481.64 L2274.72 1455.28 L2266.41 1456.95 L2266.41 1452.69 L2274.67 1451.02 L2279.35 1451.02 L2279.35 1481.64 L2286.99 1481.64 L2286.99 1485.58 L2267.08 1485.58 L2267.08 1481.64 Z\" fill=\"#000000\" fill-rule=\"nonzero\" fill-opacity=\"1\" /><path clip-path=\"url(#clip350)\" d=\"M2306.43 1454.1 Q2302.82 1454.1 2300.99 1457.66 Q2299.19 1461.2 2299.19 1468.33 Q2299.19 1475.44 2300.99 1479.01 Q2302.82 1482.55 2306.43 1482.55 Q2310.06 1482.55 2311.87 1479.01 Q2313.7 1475.44 2313.7 1468.33 Q2313.7 1461.2 2311.87 1457.66 Q2310.06 1454.1 2306.43 1454.1 M2306.43 1450.39 Q2312.24 1450.39 2315.3 1455 Q2318.37 1459.58 2318.37 1468.33 Q2318.37 1477.06 2315.3 1481.67 Q2312.24 1486.25 2306.43 1486.25 Q2300.62 1486.25 2297.54 1481.67 Q2294.49 1477.06 2294.49 1468.33 Q2294.49 1459.58 2297.54 1455 Q2300.62 1450.39 2306.43 1450.39 Z\" fill=\"#000000\" fill-rule=\"nonzero\" fill-opacity=\"1\" /><path clip-path=\"url(#clip350)\" d=\"M1193.28 1520.52 L1200.18 1520.52 L1211.99 1538.19 L1223.86 1520.52 L1230.77 1520.52 L1215.49 1543.34 L1231.79 1568.04 L1224.88 1568.04 L1211.51 1547.83 L1198.05 1568.04 L1191.11 1568.04 L1208.08 1542.68 L1193.28 1520.52 Z\" fill=\"#000000\" fill-rule=\"nonzero\" fill-opacity=\"1\" /><path clip-path=\"url(#clip350)\" d=\"M1233.76 1547.58 L1250.92 1547.58 L1250.92 1552.8 L1233.76 1552.8 L1233.76 1547.58 Z\" fill=\"#000000\" fill-rule=\"nonzero\" fill-opacity=\"1\" /><path clip-path=\"url(#clip350)\" d=\"M1276.44 1550.12 Q1269.35 1550.12 1266.61 1551.75 Q1263.87 1553.37 1263.87 1557.29 Q1263.87 1560.4 1265.91 1562.25 Q1267.98 1564.07 1271.51 1564.07 Q1276.38 1564.07 1279.31 1560.63 Q1282.27 1557.16 1282.27 1551.43 L1282.27 1550.12 L1276.44 1550.12 M1288.13 1547.71 L1288.13 1568.04 L1282.27 1568.04 L1282.27 1562.63 Q1280.26 1565.88 1277.27 1567.44 Q1274.28 1568.97 1269.95 1568.97 Q1264.48 1568.97 1261.23 1565.91 Q1258.02 1562.82 1258.02 1557.67 Q1258.02 1551.65 1262.03 1548.6 Q1266.07 1545.54 1274.06 1545.54 L1282.27 1545.54 L1282.27 1544.97 Q1282.27 1540.93 1279.6 1538.73 Q1276.95 1536.5 1272.15 1536.5 Q1269.09 1536.5 1266.2 1537.23 Q1263.3 1537.97 1260.63 1539.43 L1260.63 1534.02 Q1263.84 1532.78 1266.86 1532.17 Q1269.89 1531.54 1272.75 1531.54 Q1280.49 1531.54 1284.31 1535.55 Q1288.13 1539.56 1288.13 1547.71 Z\" fill=\"#000000\" fill-rule=\"nonzero\" fill-opacity=\"1\" /><path clip-path=\"url(#clip350)\" d=\"M1329.82 1532.4 L1316.93 1549.74 L1330.49 1568.04 L1323.58 1568.04 L1313.21 1554.04 L1302.83 1568.04 L1295.92 1568.04 L1309.77 1549.39 L1297.1 1532.4 L1304.01 1532.4 L1313.46 1545.1 L1322.91 1532.4 L1329.82 1532.4 Z\" fill=\"#000000\" fill-rule=\"nonzero\" fill-opacity=\"1\" /><path clip-path=\"url(#clip350)\" d=\"M1338.76 1532.4 L1344.62 1532.4 L1344.62 1568.04 L1338.76 1568.04 L1338.76 1532.4 M1338.76 1518.52 L1344.62 1518.52 L1344.62 1525.93 L1338.76 1525.93 L1338.76 1518.52 Z\" fill=\"#000000\" fill-rule=\"nonzero\" fill-opacity=\"1\" /><path clip-path=\"url(#clip350)\" d=\"M1379.6 1533.45 L1379.6 1538.98 Q1377.12 1537.71 1374.44 1537.07 Q1371.77 1536.44 1368.91 1536.44 Q1364.55 1536.44 1362.35 1537.77 Q1360.19 1539.11 1360.19 1541.79 Q1360.19 1543.82 1361.74 1545 Q1363.3 1546.15 1368.01 1547.2 L1370.02 1547.64 Q1376.26 1548.98 1378.87 1551.43 Q1381.51 1553.85 1381.51 1558.21 Q1381.51 1563.17 1377.56 1566.07 Q1373.65 1568.97 1366.77 1568.97 Q1363.91 1568.97 1360.79 1568.39 Q1357.7 1567.85 1354.27 1566.74 L1354.27 1560.69 Q1357.51 1562.38 1360.66 1563.24 Q1363.81 1564.07 1366.9 1564.07 Q1371.04 1564.07 1373.27 1562.66 Q1375.49 1561.23 1375.49 1558.65 Q1375.49 1556.27 1373.87 1554.99 Q1372.28 1553.72 1366.84 1552.54 L1364.8 1552.07 Q1359.36 1550.92 1356.94 1548.56 Q1354.52 1546.18 1354.52 1542.04 Q1354.52 1537.01 1358.08 1534.27 Q1361.65 1531.54 1368.21 1531.54 Q1371.45 1531.54 1374.32 1532.01 Q1377.18 1532.49 1379.6 1533.45 Z\" fill=\"#000000\" fill-rule=\"nonzero\" fill-opacity=\"1\" /><polyline clip-path=\"url(#clip350)\" style=\"stroke:#000000; stroke-linecap:round; stroke-linejoin:round; stroke-width:4; stroke-opacity:1; fill:none\" points=\"219.866,1423.18 219.866,123.472 \"/>\n",
       "<polyline clip-path=\"url(#clip350)\" style=\"stroke:#000000; stroke-linecap:round; stroke-linejoin:round; stroke-width:4; stroke-opacity:1; fill:none\" points=\"219.866,1129.81 238.764,1129.81 \"/>\n",
       "<polyline clip-path=\"url(#clip350)\" style=\"stroke:#000000; stroke-linecap:round; stroke-linejoin:round; stroke-width:4; stroke-opacity:1; fill:none\" points=\"219.866,794.612 238.764,794.612 \"/>\n",
       "<polyline clip-path=\"url(#clip350)\" style=\"stroke:#000000; stroke-linecap:round; stroke-linejoin:round; stroke-width:4; stroke-opacity:1; fill:none\" points=\"219.866,459.414 238.764,459.414 \"/>\n",
       "<polyline clip-path=\"url(#clip350)\" style=\"stroke:#000000; stroke-linecap:round; stroke-linejoin:round; stroke-width:4; stroke-opacity:1; fill:none\" points=\"219.866,124.216 238.764,124.216 \"/>\n",
       "<path clip-path=\"url(#clip350)\" d=\"M128.288 1115.61 Q124.677 1115.61 122.848 1119.17 Q121.043 1122.71 121.043 1129.84 Q121.043 1136.95 122.848 1140.52 Q124.677 1144.06 128.288 1144.06 Q131.922 1144.06 133.728 1140.52 Q135.556 1136.95 135.556 1129.84 Q135.556 1122.71 133.728 1119.17 Q131.922 1115.61 128.288 1115.61 M128.288 1111.9 Q134.098 1111.9 137.154 1116.51 Q140.232 1121.09 140.232 1129.84 Q140.232 1138.57 137.154 1143.18 Q134.098 1147.76 128.288 1147.76 Q122.478 1147.76 119.399 1143.18 Q116.343 1138.57 116.343 1129.84 Q116.343 1121.09 119.399 1116.51 Q122.478 1111.9 128.288 1111.9 Z\" fill=\"#000000\" fill-rule=\"nonzero\" fill-opacity=\"1\" /><path clip-path=\"url(#clip350)\" d=\"M148.45 1141.21 L153.334 1141.21 L153.334 1147.09 L148.45 1147.09 L148.45 1141.21 Z\" fill=\"#000000\" fill-rule=\"nonzero\" fill-opacity=\"1\" /><path clip-path=\"url(#clip350)\" d=\"M167.547 1143.15 L183.866 1143.15 L183.866 1147.09 L161.922 1147.09 L161.922 1143.15 Q164.584 1140.4 169.167 1135.77 Q173.774 1131.12 174.954 1129.77 Q177.2 1127.25 178.079 1125.52 Q178.982 1123.76 178.982 1122.07 Q178.982 1119.31 177.038 1117.58 Q175.116 1115.84 172.014 1115.84 Q169.815 1115.84 167.362 1116.6 Q164.931 1117.37 162.153 1118.92 L162.153 1114.2 Q164.977 1113.06 167.431 1112.48 Q169.885 1111.9 171.922 1111.9 Q177.292 1111.9 180.487 1114.59 Q183.681 1117.28 183.681 1121.77 Q183.681 1123.9 182.871 1125.82 Q182.084 1127.71 179.977 1130.31 Q179.399 1130.98 176.297 1134.2 Q173.195 1137.39 167.547 1143.15 Z\" fill=\"#000000\" fill-rule=\"nonzero\" fill-opacity=\"1\" /><path clip-path=\"url(#clip350)\" d=\"M126.205 780.41 Q122.593 780.41 120.765 783.975 Q118.959 787.517 118.959 794.646 Q118.959 801.753 120.765 805.318 Q122.593 808.859 126.205 808.859 Q129.839 808.859 131.644 805.318 Q133.473 801.753 133.473 794.646 Q133.473 787.517 131.644 783.975 Q129.839 780.41 126.205 780.41 M126.205 776.707 Q132.015 776.707 135.07 781.313 Q138.149 785.896 138.149 794.646 Q138.149 803.373 135.07 807.98 Q132.015 812.563 126.205 812.563 Q120.394 812.563 117.316 807.98 Q114.26 803.373 114.26 794.646 Q114.26 785.896 117.316 781.313 Q120.394 776.707 126.205 776.707 Z\" fill=\"#000000\" fill-rule=\"nonzero\" fill-opacity=\"1\" /><path clip-path=\"url(#clip350)\" d=\"M146.366 806.012 L151.251 806.012 L151.251 811.892 L146.366 811.892 L146.366 806.012 Z\" fill=\"#000000\" fill-rule=\"nonzero\" fill-opacity=\"1\" /><path clip-path=\"url(#clip350)\" d=\"M174.283 781.406 L162.477 799.855 L174.283 799.855 L174.283 781.406 M173.056 777.332 L178.936 777.332 L178.936 799.855 L183.866 799.855 L183.866 803.744 L178.936 803.744 L178.936 811.892 L174.283 811.892 L174.283 803.744 L158.681 803.744 L158.681 799.23 L173.056 777.332 Z\" fill=\"#000000\" fill-rule=\"nonzero\" fill-opacity=\"1\" /><path clip-path=\"url(#clip350)\" d=\"M126.529 445.212 Q122.918 445.212 121.089 448.777 Q119.283 452.319 119.283 459.448 Q119.283 466.555 121.089 470.12 Q122.918 473.661 126.529 473.661 Q130.163 473.661 131.968 470.12 Q133.797 466.555 133.797 459.448 Q133.797 452.319 131.968 448.777 Q130.163 445.212 126.529 445.212 M126.529 441.509 Q132.339 441.509 135.394 446.115 Q138.473 450.698 138.473 459.448 Q138.473 468.175 135.394 472.782 Q132.339 477.365 126.529 477.365 Q120.718 477.365 117.64 472.782 Q114.584 468.175 114.584 459.448 Q114.584 450.698 117.64 446.115 Q120.718 441.509 126.529 441.509 Z\" fill=\"#000000\" fill-rule=\"nonzero\" fill-opacity=\"1\" /><path clip-path=\"url(#clip350)\" d=\"M146.691 470.814 L151.575 470.814 L151.575 476.694 L146.691 476.694 L146.691 470.814 Z\" fill=\"#000000\" fill-rule=\"nonzero\" fill-opacity=\"1\" /><path clip-path=\"url(#clip350)\" d=\"M172.339 457.55 Q169.19 457.55 167.339 459.703 Q165.51 461.856 165.51 465.606 Q165.51 469.333 167.339 471.509 Q169.19 473.661 172.339 473.661 Q175.487 473.661 177.315 471.509 Q179.167 469.333 179.167 465.606 Q179.167 461.856 177.315 459.703 Q175.487 457.55 172.339 457.55 M181.621 442.898 L181.621 447.157 Q179.862 446.323 178.056 445.884 Q176.274 445.444 174.514 445.444 Q169.885 445.444 167.431 448.569 Q165.001 451.694 164.653 458.013 Q166.019 455.999 168.079 454.935 Q170.139 453.847 172.616 453.847 Q177.825 453.847 180.834 457.018 Q183.866 460.166 183.866 465.606 Q183.866 470.93 180.718 474.147 Q177.57 477.365 172.339 477.365 Q166.343 477.365 163.172 472.782 Q160.001 468.175 160.001 459.448 Q160.001 451.254 163.89 446.393 Q167.778 441.509 174.329 441.509 Q176.089 441.509 177.871 441.856 Q179.676 442.203 181.621 442.898 Z\" fill=\"#000000\" fill-rule=\"nonzero\" fill-opacity=\"1\" /><path clip-path=\"url(#clip350)\" d=\"M126.783 110.014 Q123.172 110.014 121.343 113.579 Q119.538 117.121 119.538 124.25 Q119.538 131.357 121.343 134.922 Q123.172 138.463 126.783 138.463 Q130.417 138.463 132.223 134.922 Q134.052 131.357 134.052 124.25 Q134.052 117.121 132.223 113.579 Q130.417 110.014 126.783 110.014 M126.783 106.311 Q132.593 106.311 135.649 110.917 Q138.728 115.5 138.728 124.25 Q138.728 132.977 135.649 137.584 Q132.593 142.167 126.783 142.167 Q120.973 142.167 117.894 137.584 Q114.839 132.977 114.839 124.25 Q114.839 115.5 117.894 110.917 Q120.973 106.311 126.783 106.311 Z\" fill=\"#000000\" fill-rule=\"nonzero\" fill-opacity=\"1\" /><path clip-path=\"url(#clip350)\" d=\"M146.945 135.616 L151.829 135.616 L151.829 141.496 L146.945 141.496 L146.945 135.616 Z\" fill=\"#000000\" fill-rule=\"nonzero\" fill-opacity=\"1\" /><path clip-path=\"url(#clip350)\" d=\"M172.014 125.084 Q168.681 125.084 166.76 126.866 Q164.862 128.649 164.862 131.774 Q164.862 134.898 166.76 136.681 Q168.681 138.463 172.014 138.463 Q175.348 138.463 177.269 136.681 Q179.19 134.875 179.19 131.774 Q179.19 128.649 177.269 126.866 Q175.371 125.084 172.014 125.084 M167.339 123.093 Q164.329 122.352 162.64 120.292 Q160.973 118.232 160.973 115.269 Q160.973 111.125 163.913 108.718 Q166.876 106.311 172.014 106.311 Q177.176 106.311 180.116 108.718 Q183.056 111.125 183.056 115.269 Q183.056 118.232 181.366 120.292 Q179.7 122.352 176.714 123.093 Q180.093 123.88 181.968 126.172 Q183.866 128.463 183.866 131.774 Q183.866 136.797 180.788 139.482 Q177.732 142.167 172.014 142.167 Q166.297 142.167 163.218 139.482 Q160.163 136.797 160.163 131.774 Q160.163 128.463 162.061 126.172 Q163.959 123.88 167.339 123.093 M165.626 115.709 Q165.626 118.394 167.292 119.899 Q168.982 121.403 172.014 121.403 Q175.024 121.403 176.714 119.899 Q178.426 118.394 178.426 115.709 Q178.426 113.024 176.714 111.519 Q175.024 110.014 172.014 110.014 Q168.982 110.014 167.292 111.519 Q165.626 113.024 165.626 115.709 Z\" fill=\"#000000\" fill-rule=\"nonzero\" fill-opacity=\"1\" /><path clip-path=\"url(#clip350)\" d=\"M16.4842 864.897 L16.4842 857.99 L36.0269 844.813 L16.4842 831.731 L16.4842 824.825 L41.3741 841.63 L64.0042 841.63 L64.0042 848.091 L41.3741 848.091 L16.4842 864.897 Z\" fill=\"#000000\" fill-rule=\"nonzero\" fill-opacity=\"1\" /><path clip-path=\"url(#clip350)\" d=\"M43.5384 829.503 L43.5384 812.348 L48.7583 812.348 L48.7583 829.503 L43.5384 829.503 Z\" fill=\"#000000\" fill-rule=\"nonzero\" fill-opacity=\"1\" /><path clip-path=\"url(#clip350)\" d=\"M46.0847 786.821 Q46.0847 793.919 47.7079 796.656 Q49.3312 799.394 53.2461 799.394 Q56.3653 799.394 58.2114 797.357 Q60.0256 795.288 60.0256 791.755 Q60.0256 786.885 56.5881 783.957 Q53.1188 780.997 47.3897 780.997 L46.0847 780.997 L46.0847 786.821 M43.6657 775.14 L64.0042 775.14 L64.0042 780.997 L58.5933 780.997 Q61.8398 783.002 63.3994 785.994 Q64.9272 788.986 64.9272 793.314 Q64.9272 798.789 61.8716 802.035 Q58.7843 805.25 53.6281 805.25 Q47.6125 805.25 44.5569 801.24 Q41.5014 797.197 41.5014 789.208 L41.5014 780.997 L40.9285 780.997 Q36.8862 780.997 34.6901 783.67 Q32.4621 786.312 32.4621 791.118 Q32.4621 794.174 33.1941 797.07 Q33.9262 799.966 35.3903 802.64 L29.9795 802.64 Q28.7381 799.425 28.1334 796.402 Q27.4968 793.378 27.4968 790.513 Q27.4968 782.779 31.5072 778.96 Q35.5176 775.14 43.6657 775.14 Z\" fill=\"#000000\" fill-rule=\"nonzero\" fill-opacity=\"1\" /><path clip-path=\"url(#clip350)\" d=\"M28.3562 733.445 L45.7028 746.335 L64.0042 732.776 L64.0042 739.683 L49.9996 750.059 L64.0042 760.435 L64.0042 767.342 L45.3526 753.497 L28.3562 766.165 L28.3562 759.258 L41.0558 749.805 L28.3562 740.352 L28.3562 733.445 Z\" fill=\"#000000\" fill-rule=\"nonzero\" fill-opacity=\"1\" /><path clip-path=\"url(#clip350)\" d=\"M28.3562 724.501 L28.3562 718.645 L64.0042 718.645 L64.0042 724.501 L28.3562 724.501 M14.479 724.501 L14.479 718.645 L21.895 718.645 L21.895 724.501 L14.479 724.501 Z\" fill=\"#000000\" fill-rule=\"nonzero\" fill-opacity=\"1\" /><path clip-path=\"url(#clip350)\" d=\"M29.4065 683.665 L34.9447 683.665 Q33.6716 686.148 33.035 688.821 Q32.3984 691.495 32.3984 694.359 Q32.3984 698.72 33.7352 700.916 Q35.072 703.08 37.7456 703.08 Q39.7826 703.08 40.9603 701.521 Q42.1061 699.961 43.1565 695.251 L43.6021 693.245 Q44.9389 687.007 47.3897 684.397 Q49.8086 681.755 54.1691 681.755 Q59.1344 681.755 62.0308 685.702 Q64.9272 689.617 64.9272 696.492 Q64.9272 699.356 64.3543 702.476 Q63.8132 705.563 62.6992 709.001 L56.6518 709.001 Q58.3387 705.754 59.198 702.603 Q60.0256 699.452 60.0256 696.365 Q60.0256 692.227 58.6251 689.999 Q57.1929 687.771 54.6147 687.771 Q52.2276 687.771 50.9545 689.394 Q49.6813 690.986 48.5037 696.428 L48.0262 698.465 Q46.8804 703.908 44.5251 706.327 Q42.138 708.746 38.0002 708.746 Q32.9713 708.746 30.2341 705.181 Q27.4968 701.616 27.4968 695.06 Q27.4968 691.813 27.9743 688.949 Q28.4517 686.084 29.4065 683.665 Z\" fill=\"#000000\" fill-rule=\"nonzero\" fill-opacity=\"1\" /><path clip-path=\"url(#clip350)\" d=\"M998.737 43.6931 L998.737 65.8515 L1011.86 65.8515 Q1018.47 65.8515 1021.63 63.1374 Q1024.83 60.3828 1024.83 54.752 Q1024.83 49.0808 1021.63 46.4072 Q1018.47 43.6931 1011.86 43.6931 L998.737 43.6931 M998.737 18.8205 L998.737 37.0496 L1010.85 37.0496 Q1016.84 37.0496 1019.76 34.8216 Q1022.72 32.5531 1022.72 27.935 Q1022.72 23.3575 1019.76 21.089 Q1016.84 18.8205 1010.85 18.8205 L998.737 18.8205 M990.555 12.096 L1011.46 12.096 Q1020.81 12.096 1025.88 15.9849 Q1030.94 19.8737 1030.94 27.0438 Q1030.94 32.5936 1028.35 35.8748 Q1025.76 39.156 1020.73 39.9662 Q1026.77 41.2625 1030.09 45.3944 Q1033.45 49.4858 1033.45 55.6432 Q1033.45 63.745 1027.94 68.1605 Q1022.44 72.576 1012.27 72.576 L990.555 72.576 L990.555 12.096 Z\" fill=\"#000000\" fill-rule=\"nonzero\" fill-opacity=\"1\" /><path clip-path=\"url(#clip350)\" d=\"M1067.76 49.7694 Q1058.73 49.7694 1055.25 51.8354 Q1051.76 53.9013 1051.76 58.8839 Q1051.76 62.8538 1054.36 65.2034 Q1056.99 67.5124 1061.49 67.5124 Q1067.68 67.5124 1071.41 63.1374 Q1075.18 58.7219 1075.18 51.4303 L1075.18 49.7694 L1067.76 49.7694 M1082.63 46.6907 L1082.63 72.576 L1075.18 72.576 L1075.18 65.6895 Q1072.63 69.8214 1068.82 71.8063 Q1065.01 73.7508 1059.5 73.7508 Q1052.53 73.7508 1048.4 69.8619 Q1044.31 65.9325 1044.31 59.3701 Q1044.31 51.7138 1049.41 47.825 Q1054.56 43.9361 1064.73 43.9361 L1075.18 43.9361 L1075.18 43.2069 Q1075.18 38.0623 1071.78 35.2672 Q1068.41 32.4315 1062.3 32.4315 Q1058.41 32.4315 1054.72 33.3632 Q1051.03 34.295 1047.63 36.1584 L1047.63 29.2718 Q1051.72 27.692 1055.57 26.9223 Q1059.42 26.1121 1063.07 26.1121 Q1072.91 26.1121 1077.77 31.2163 Q1082.63 36.3204 1082.63 46.6907 Z\" fill=\"#000000\" fill-rule=\"nonzero\" fill-opacity=\"1\" /><path clip-path=\"url(#clip350)\" d=\"M1126.91 28.5427 L1126.91 35.5912 Q1123.75 33.9709 1120.35 33.1607 Q1116.94 32.3505 1113.3 32.3505 Q1107.75 32.3505 1104.95 34.0519 Q1102.2 35.7533 1102.2 39.156 Q1102.2 41.7486 1104.18 43.2475 Q1106.17 44.7058 1112.16 46.0426 L1114.71 46.6097 Q1122.65 48.3111 1125.98 51.4303 Q1129.34 54.509 1129.34 60.0587 Q1129.34 66.3781 1124.32 70.0644 Q1119.33 73.7508 1110.58 73.7508 Q1106.94 73.7508 1102.97 73.0216 Q1099.04 72.3329 1094.66 70.9151 L1094.66 63.2184 Q1098.79 65.3654 1102.81 66.4591 Q1106.82 67.5124 1110.74 67.5124 Q1116.01 67.5124 1118.85 65.73 Q1121.68 63.9071 1121.68 60.6258 Q1121.68 57.5877 1119.62 55.9673 Q1117.59 54.3469 1110.66 52.8481 L1108.07 52.2405 Q1101.14 50.7821 1098.07 47.7845 Q1094.99 44.7463 1094.99 39.4801 Q1094.99 33.0797 1099.52 29.5959 Q1104.06 26.1121 1112.41 26.1121 Q1116.54 26.1121 1120.18 26.7198 Q1123.83 27.3274 1126.91 28.5427 Z\" fill=\"#000000\" fill-rule=\"nonzero\" fill-opacity=\"1\" /><path clip-path=\"url(#clip350)\" d=\"M1141.21 27.2059 L1148.66 27.2059 L1148.66 72.576 L1141.21 72.576 L1141.21 27.2059 M1141.21 9.54393 L1148.66 9.54393 L1148.66 18.9825 L1141.21 18.9825 L1141.21 9.54393 Z\" fill=\"#000000\" fill-rule=\"nonzero\" fill-opacity=\"1\" /><path clip-path=\"url(#clip350)\" d=\"M1196.91 28.9478 L1196.91 35.9153 Q1193.75 34.1734 1190.55 33.3227 Q1187.39 32.4315 1184.15 32.4315 Q1176.9 32.4315 1172.89 37.0496 Q1168.88 41.6271 1168.88 49.9314 Q1168.88 58.2358 1172.89 62.8538 Q1176.9 67.4314 1184.15 67.4314 Q1187.39 67.4314 1190.55 66.5807 Q1193.75 65.6895 1196.91 63.9476 L1196.91 70.8341 Q1193.79 72.2924 1190.43 73.0216 Q1187.1 73.7508 1183.34 73.7508 Q1173.09 73.7508 1167.05 67.3098 Q1161.02 60.8689 1161.02 49.9314 Q1161.02 38.832 1167.09 32.472 Q1173.21 26.1121 1183.82 26.1121 Q1187.27 26.1121 1190.55 26.8413 Q1193.83 27.5299 1196.91 28.9478 Z\" fill=\"#000000\" fill-rule=\"nonzero\" fill-opacity=\"1\" /><path clip-path=\"url(#clip350)\" d=\"M1236.57 12.096 L1244.75 12.096 L1244.75 65.6895 L1274.2 65.6895 L1274.2 72.576 L1236.57 72.576 L1236.57 12.096 Z\" fill=\"#000000\" fill-rule=\"nonzero\" fill-opacity=\"1\" /><path clip-path=\"url(#clip350)\" d=\"M1282.46 27.2059 L1289.92 27.2059 L1289.92 72.576 L1282.46 72.576 L1282.46 27.2059 M1282.46 9.54393 L1289.92 9.54393 L1289.92 18.9825 L1282.46 18.9825 L1282.46 9.54393 Z\" fill=\"#000000\" fill-rule=\"nonzero\" fill-opacity=\"1\" /><path clip-path=\"url(#clip350)\" d=\"M1343.23 45.1919 L1343.23 72.576 L1335.77 72.576 L1335.77 45.4349 Q1335.77 38.994 1333.26 35.7938 Q1330.75 32.5936 1325.73 32.5936 Q1319.69 32.5936 1316.21 36.4419 Q1312.72 40.2903 1312.72 46.9338 L1312.72 72.576 L1305.23 72.576 L1305.23 27.2059 L1312.72 27.2059 L1312.72 34.2544 Q1315.4 30.163 1319 28.1376 Q1322.65 26.1121 1327.39 26.1121 Q1335.21 26.1121 1339.22 30.9732 Q1343.23 35.7938 1343.23 45.1919 Z\" fill=\"#000000\" fill-rule=\"nonzero\" fill-opacity=\"1\" /><path clip-path=\"url(#clip350)\" d=\"M1396.9 48.0275 L1396.9 51.6733 L1362.63 51.6733 Q1363.12 59.3701 1367.25 63.421 Q1371.42 67.4314 1378.83 67.4314 Q1383.13 67.4314 1387.14 66.3781 Q1391.19 65.3249 1395.16 63.2184 L1395.16 70.267 Q1391.15 71.9684 1386.94 72.8596 Q1382.72 73.7508 1378.39 73.7508 Q1367.53 73.7508 1361.17 67.4314 Q1354.85 61.1119 1354.85 50.3365 Q1354.85 39.1965 1360.85 32.6746 Q1366.88 26.1121 1377.09 26.1121 Q1386.25 26.1121 1391.55 32.0264 Q1396.9 37.9003 1396.9 48.0275 M1389.45 45.84 Q1389.37 39.7232 1386 36.0774 Q1382.68 32.4315 1377.17 32.4315 Q1370.93 32.4315 1367.17 35.9558 Q1363.44 39.4801 1362.87 45.8805 L1389.45 45.84 Z\" fill=\"#000000\" fill-rule=\"nonzero\" fill-opacity=\"1\" /><path clip-path=\"url(#clip350)\" d=\"M1444.01 18.8205 L1444.01 41.5461 L1454.3 41.5461 Q1460.01 41.5461 1463.13 38.5889 Q1466.25 35.6318 1466.25 30.163 Q1466.25 24.7348 1463.13 21.7777 Q1460.01 18.8205 1454.3 18.8205 L1444.01 18.8205 M1435.83 12.096 L1454.3 12.096 Q1464.47 12.096 1469.66 16.714 Q1474.88 21.2916 1474.88 30.163 Q1474.88 39.1155 1469.66 43.6931 Q1464.47 48.2706 1454.3 48.2706 L1444.01 48.2706 L1444.01 72.576 L1435.83 72.576 L1435.83 12.096 Z\" fill=\"#000000\" fill-rule=\"nonzero\" fill-opacity=\"1\" /><path clip-path=\"url(#clip350)\" d=\"M1485.53 9.54393 L1492.99 9.54393 L1492.99 72.576 L1485.53 72.576 L1485.53 9.54393 Z\" fill=\"#000000\" fill-rule=\"nonzero\" fill-opacity=\"1\" /><path clip-path=\"url(#clip350)\" d=\"M1526.17 32.4315 Q1520.17 32.4315 1516.69 37.1306 Q1513.2 41.7891 1513.2 49.9314 Q1513.2 58.0738 1516.65 62.7728 Q1520.13 67.4314 1526.17 67.4314 Q1532.12 67.4314 1535.6 62.7323 Q1539.09 58.0333 1539.09 49.9314 Q1539.09 41.8701 1535.6 37.1711 Q1532.12 32.4315 1526.17 32.4315 M1526.17 26.1121 Q1535.89 26.1121 1541.44 32.4315 Q1546.99 38.7509 1546.99 49.9314 Q1546.99 61.0714 1541.44 67.4314 Q1535.89 73.7508 1526.17 73.7508 Q1516.4 73.7508 1510.85 67.4314 Q1505.34 61.0714 1505.34 49.9314 Q1505.34 38.7509 1510.85 32.4315 Q1516.4 26.1121 1526.17 26.1121 Z\" fill=\"#000000\" fill-rule=\"nonzero\" fill-opacity=\"1\" /><path clip-path=\"url(#clip350)\" d=\"M1566.71 14.324 L1566.71 27.2059 L1582.07 27.2059 L1582.07 32.9987 L1566.71 32.9987 L1566.71 57.6282 Q1566.71 63.1779 1568.21 64.7578 Q1569.75 66.3376 1574.41 66.3376 L1582.07 66.3376 L1582.07 72.576 L1574.41 72.576 Q1565.78 72.576 1562.5 69.3758 Q1559.22 66.1351 1559.22 57.6282 L1559.22 32.9987 L1553.75 32.9987 L1553.75 27.2059 L1559.22 27.2059 L1559.22 14.324 L1566.71 14.324 Z\" fill=\"#000000\" fill-rule=\"nonzero\" fill-opacity=\"1\" /><polyline clip-path=\"url(#clip352)\" style=\"stroke:#009af9; stroke-linecap:round; stroke-linejoin:round; stroke-width:8; stroke-opacity:1; fill:none\" points=\"280.231,417.594 503.804,837.02 727.378,1386.4 950.951,1091.31 1174.52,1040.69 1398.1,160.256 1621.67,448.665 1845.24,479.88 2068.82,358.452 2292.39,213.681 \"/>\n",
       "<path clip-path=\"url(#clip350)\" d=\"M1976.75 1379.86 L2281.66 1379.86 L2281.66 1276.18 L1976.75 1276.18  Z\" fill=\"#ffffff\" fill-rule=\"evenodd\" fill-opacity=\"1\"/>\n",
       "<polyline clip-path=\"url(#clip350)\" style=\"stroke:#000000; stroke-linecap:round; stroke-linejoin:round; stroke-width:4; stroke-opacity:1; fill:none\" points=\"1976.75,1379.86 2281.66,1379.86 2281.66,1276.18 1976.75,1276.18 1976.75,1379.86 \"/>\n",
       "<polyline clip-path=\"url(#clip350)\" style=\"stroke:#009af9; stroke-linecap:round; stroke-linejoin:round; stroke-width:8; stroke-opacity:1; fill:none\" points=\"2000.45,1328.02 2142.64,1328.02 \"/>\n",
       "<path clip-path=\"url(#clip350)\" d=\"M2166.34 1310.74 L2171.02 1310.74 L2171.02 1341.36 L2187.85 1341.36 L2187.85 1345.3 L2166.34 1345.3 L2166.34 1310.74 Z\" fill=\"#000000\" fill-rule=\"nonzero\" fill-opacity=\"1\" /><path clip-path=\"url(#clip350)\" d=\"M2192.57 1319.37 L2196.83 1319.37 L2196.83 1345.3 L2192.57 1345.3 L2192.57 1319.37 M2192.57 1309.28 L2196.83 1309.28 L2196.83 1314.67 L2192.57 1314.67 L2192.57 1309.28 Z\" fill=\"#000000\" fill-rule=\"nonzero\" fill-opacity=\"1\" /><path clip-path=\"url(#clip350)\" d=\"M2227.29 1329.65 L2227.29 1345.3 L2223.03 1345.3 L2223.03 1329.79 Q2223.03 1326.11 2221.6 1324.28 Q2220.16 1322.45 2217.29 1322.45 Q2213.84 1322.45 2211.85 1324.65 Q2209.86 1326.85 2209.86 1330.64 L2209.86 1345.3 L2205.58 1345.3 L2205.58 1319.37 L2209.86 1319.37 L2209.86 1323.4 Q2211.39 1321.06 2213.45 1319.9 Q2215.53 1318.75 2218.24 1318.75 Q2222.71 1318.75 2225 1321.52 Q2227.29 1324.28 2227.29 1329.65 Z\" fill=\"#000000\" fill-rule=\"nonzero\" fill-opacity=\"1\" /><path clip-path=\"url(#clip350)\" d=\"M2257.96 1331.27 L2257.96 1333.35 L2238.38 1333.35 Q2238.66 1337.75 2241.02 1340.06 Q2243.4 1342.36 2247.64 1342.36 Q2250.09 1342.36 2252.38 1341.75 Q2254.7 1341.15 2256.97 1339.95 L2256.97 1343.98 Q2254.67 1344.95 2252.27 1345.46 Q2249.86 1345.97 2247.38 1345.97 Q2241.18 1345.97 2237.54 1342.36 Q2233.93 1338.75 2233.93 1332.59 Q2233.93 1326.22 2237.36 1322.5 Q2240.81 1318.75 2246.64 1318.75 Q2251.87 1318.75 2254.91 1322.13 Q2257.96 1325.48 2257.96 1331.27 M2253.7 1330.02 Q2253.66 1326.52 2251.73 1324.44 Q2249.84 1322.36 2246.69 1322.36 Q2243.12 1322.36 2240.97 1324.37 Q2238.84 1326.38 2238.52 1330.04 L2253.7 1330.02 Z\" fill=\"#000000\" fill-rule=\"nonzero\" fill-opacity=\"1\" /></svg>\n"
      ],
      "text/html": [
       "<?xml version=\"1.0\" encoding=\"utf-8\"?>\n",
       "<svg xmlns=\"http://www.w3.org/2000/svg\" xmlns:xlink=\"http://www.w3.org/1999/xlink\" width=\"600\" height=\"400\" viewBox=\"0 0 2400 1600\">\n",
       "<defs>\n",
       "  <clipPath id=\"clip400\">\n",
       "    <rect x=\"0\" y=\"0\" width=\"2400\" height=\"1600\"/>\n",
       "  </clipPath>\n",
       "</defs>\n",
       "<path clip-path=\"url(#clip400)\" d=\"M0 1600 L2400 1600 L2400 0 L0 0  Z\" fill=\"#ffffff\" fill-rule=\"evenodd\" fill-opacity=\"1\"/>\n",
       "<defs>\n",
       "  <clipPath id=\"clip401\">\n",
       "    <rect x=\"480\" y=\"0\" width=\"1681\" height=\"1600\"/>\n",
       "  </clipPath>\n",
       "</defs>\n",
       "<path clip-path=\"url(#clip400)\" d=\"M219.866 1423.18 L2352.76 1423.18 L2352.76 123.472 L219.866 123.472  Z\" fill=\"#ffffff\" fill-rule=\"evenodd\" fill-opacity=\"1\"/>\n",
       "<defs>\n",
       "  <clipPath id=\"clip402\">\n",
       "    <rect x=\"219\" y=\"123\" width=\"2134\" height=\"1301\"/>\n",
       "  </clipPath>\n",
       "</defs>\n",
       "<polyline clip-path=\"url(#clip402)\" style=\"stroke:#000000; stroke-linecap:round; stroke-linejoin:round; stroke-width:2; stroke-opacity:0.1; fill:none\" points=\"503.804,1423.18 503.804,123.472 \"/>\n",
       "<polyline clip-path=\"url(#clip402)\" style=\"stroke:#000000; stroke-linecap:round; stroke-linejoin:round; stroke-width:2; stroke-opacity:0.1; fill:none\" points=\"950.951,1423.18 950.951,123.472 \"/>\n",
       "<polyline clip-path=\"url(#clip402)\" style=\"stroke:#000000; stroke-linecap:round; stroke-linejoin:round; stroke-width:2; stroke-opacity:0.1; fill:none\" points=\"1398.1,1423.18 1398.1,123.472 \"/>\n",
       "<polyline clip-path=\"url(#clip402)\" style=\"stroke:#000000; stroke-linecap:round; stroke-linejoin:round; stroke-width:2; stroke-opacity:0.1; fill:none\" points=\"1845.24,1423.18 1845.24,123.472 \"/>\n",
       "<polyline clip-path=\"url(#clip402)\" style=\"stroke:#000000; stroke-linecap:round; stroke-linejoin:round; stroke-width:2; stroke-opacity:0.1; fill:none\" points=\"2292.39,1423.18 2292.39,123.472 \"/>\n",
       "<polyline clip-path=\"url(#clip402)\" style=\"stroke:#000000; stroke-linecap:round; stroke-linejoin:round; stroke-width:2; stroke-opacity:0.1; fill:none\" points=\"219.866,1129.81 2352.76,1129.81 \"/>\n",
       "<polyline clip-path=\"url(#clip402)\" style=\"stroke:#000000; stroke-linecap:round; stroke-linejoin:round; stroke-width:2; stroke-opacity:0.1; fill:none\" points=\"219.866,794.612 2352.76,794.612 \"/>\n",
       "<polyline clip-path=\"url(#clip402)\" style=\"stroke:#000000; stroke-linecap:round; stroke-linejoin:round; stroke-width:2; stroke-opacity:0.1; fill:none\" points=\"219.866,459.414 2352.76,459.414 \"/>\n",
       "<polyline clip-path=\"url(#clip402)\" style=\"stroke:#000000; stroke-linecap:round; stroke-linejoin:round; stroke-width:2; stroke-opacity:0.1; fill:none\" points=\"219.866,124.216 2352.76,124.216 \"/>\n",
       "<polyline clip-path=\"url(#clip400)\" style=\"stroke:#000000; stroke-linecap:round; stroke-linejoin:round; stroke-width:4; stroke-opacity:1; fill:none\" points=\"219.866,1423.18 2352.76,1423.18 \"/>\n",
       "<polyline clip-path=\"url(#clip400)\" style=\"stroke:#000000; stroke-linecap:round; stroke-linejoin:round; stroke-width:4; stroke-opacity:1; fill:none\" points=\"503.804,1423.18 503.804,1404.28 \"/>\n",
       "<polyline clip-path=\"url(#clip400)\" style=\"stroke:#000000; stroke-linecap:round; stroke-linejoin:round; stroke-width:4; stroke-opacity:1; fill:none\" points=\"950.951,1423.18 950.951,1404.28 \"/>\n",
       "<polyline clip-path=\"url(#clip400)\" style=\"stroke:#000000; stroke-linecap:round; stroke-linejoin:round; stroke-width:4; stroke-opacity:1; fill:none\" points=\"1398.1,1423.18 1398.1,1404.28 \"/>\n",
       "<polyline clip-path=\"url(#clip400)\" style=\"stroke:#000000; stroke-linecap:round; stroke-linejoin:round; stroke-width:4; stroke-opacity:1; fill:none\" points=\"1845.24,1423.18 1845.24,1404.28 \"/>\n",
       "<polyline clip-path=\"url(#clip400)\" style=\"stroke:#000000; stroke-linecap:round; stroke-linejoin:round; stroke-width:4; stroke-opacity:1; fill:none\" points=\"2292.39,1423.18 2292.39,1404.28 \"/>\n",
       "<path clip-path=\"url(#clip400)\" d=\"M498.457 1481.64 L514.777 1481.64 L514.777 1485.58 L492.832 1485.58 L492.832 1481.64 Q495.494 1478.89 500.078 1474.26 Q504.684 1469.61 505.865 1468.27 Q508.11 1465.74 508.99 1464.01 Q509.892 1462.25 509.892 1460.56 Q509.892 1457.8 507.948 1456.07 Q506.027 1454.33 502.925 1454.33 Q500.726 1454.33 498.272 1455.09 Q495.841 1455.86 493.064 1457.41 L493.064 1452.69 Q495.888 1451.55 498.341 1450.97 Q500.795 1450.39 502.832 1450.39 Q508.203 1450.39 511.397 1453.08 Q514.591 1455.77 514.591 1460.26 Q514.591 1462.39 513.781 1464.31 Q512.994 1466.2 510.888 1468.8 Q510.309 1469.47 507.207 1472.69 Q504.105 1475.88 498.457 1481.64 Z\" fill=\"#000000\" fill-rule=\"nonzero\" fill-opacity=\"1\" /><path clip-path=\"url(#clip400)\" d=\"M953.96 1455.09 L942.155 1473.54 L953.96 1473.54 L953.96 1455.09 M952.733 1451.02 L958.613 1451.02 L958.613 1473.54 L963.544 1473.54 L963.544 1477.43 L958.613 1477.43 L958.613 1485.58 L953.96 1485.58 L953.96 1477.43 L938.359 1477.43 L938.359 1472.92 L952.733 1451.02 Z\" fill=\"#000000\" fill-rule=\"nonzero\" fill-opacity=\"1\" /><path clip-path=\"url(#clip400)\" d=\"M1398.5 1466.44 Q1395.35 1466.44 1393.5 1468.59 Q1391.67 1470.74 1391.67 1474.49 Q1391.67 1478.22 1393.5 1480.39 Q1395.35 1482.55 1398.5 1482.55 Q1401.65 1482.55 1403.48 1480.39 Q1405.33 1478.22 1405.33 1474.49 Q1405.33 1470.74 1403.48 1468.59 Q1401.65 1466.44 1398.5 1466.44 M1407.79 1451.78 L1407.79 1456.04 Q1406.03 1455.21 1404.22 1454.77 Q1402.44 1454.33 1400.68 1454.33 Q1396.05 1454.33 1393.6 1457.45 Q1391.16 1460.58 1390.82 1466.9 Q1392.18 1464.89 1394.24 1463.82 Q1396.3 1462.73 1398.78 1462.73 Q1403.99 1462.73 1407 1465.9 Q1410.03 1469.05 1410.03 1474.49 Q1410.03 1479.82 1406.88 1483.03 Q1403.73 1486.25 1398.5 1486.25 Q1392.51 1486.25 1389.34 1481.67 Q1386.16 1477.06 1386.16 1468.33 Q1386.16 1460.14 1390.05 1455.28 Q1393.94 1450.39 1400.49 1450.39 Q1402.25 1450.39 1404.04 1450.74 Q1405.84 1451.09 1407.79 1451.78 Z\" fill=\"#000000\" fill-rule=\"nonzero\" fill-opacity=\"1\" /><path clip-path=\"url(#clip400)\" d=\"M1845.24 1469.17 Q1841.91 1469.17 1839.99 1470.95 Q1838.09 1472.73 1838.09 1475.86 Q1838.09 1478.98 1839.99 1480.77 Q1841.91 1482.55 1845.24 1482.55 Q1848.58 1482.55 1850.5 1480.77 Q1852.42 1478.96 1852.42 1475.86 Q1852.42 1472.73 1850.5 1470.95 Q1848.6 1469.17 1845.24 1469.17 M1840.57 1467.18 Q1837.56 1466.44 1835.87 1464.38 Q1834.2 1462.32 1834.2 1459.35 Q1834.2 1455.21 1837.14 1452.8 Q1840.11 1450.39 1845.24 1450.39 Q1850.41 1450.39 1853.35 1452.8 Q1856.29 1455.21 1856.29 1459.35 Q1856.29 1462.32 1854.6 1464.38 Q1852.93 1466.44 1849.94 1467.18 Q1853.32 1467.96 1855.2 1470.26 Q1857.1 1472.55 1857.1 1475.86 Q1857.1 1480.88 1854.02 1483.57 Q1850.96 1486.25 1845.24 1486.25 Q1839.53 1486.25 1836.45 1483.57 Q1833.39 1480.88 1833.39 1475.86 Q1833.39 1472.55 1835.29 1470.26 Q1837.19 1467.96 1840.57 1467.18 M1838.86 1459.79 Q1838.86 1462.48 1840.52 1463.98 Q1842.21 1465.49 1845.24 1465.49 Q1848.25 1465.49 1849.94 1463.98 Q1851.66 1462.48 1851.66 1459.79 Q1851.66 1457.11 1849.94 1455.6 Q1848.25 1454.1 1845.24 1454.1 Q1842.21 1454.1 1840.52 1455.6 Q1838.86 1457.11 1838.86 1459.79 Z\" fill=\"#000000\" fill-rule=\"nonzero\" fill-opacity=\"1\" /><path clip-path=\"url(#clip400)\" d=\"M2267.08 1481.64 L2274.72 1481.64 L2274.72 1455.28 L2266.41 1456.95 L2266.41 1452.69 L2274.67 1451.02 L2279.35 1451.02 L2279.35 1481.64 L2286.99 1481.64 L2286.99 1485.58 L2267.08 1485.58 L2267.08 1481.64 Z\" fill=\"#000000\" fill-rule=\"nonzero\" fill-opacity=\"1\" /><path clip-path=\"url(#clip400)\" d=\"M2306.43 1454.1 Q2302.82 1454.1 2300.99 1457.66 Q2299.19 1461.2 2299.19 1468.33 Q2299.19 1475.44 2300.99 1479.01 Q2302.82 1482.55 2306.43 1482.55 Q2310.06 1482.55 2311.87 1479.01 Q2313.7 1475.44 2313.7 1468.33 Q2313.7 1461.2 2311.87 1457.66 Q2310.06 1454.1 2306.43 1454.1 M2306.43 1450.39 Q2312.24 1450.39 2315.3 1455 Q2318.37 1459.58 2318.37 1468.33 Q2318.37 1477.06 2315.3 1481.67 Q2312.24 1486.25 2306.43 1486.25 Q2300.62 1486.25 2297.54 1481.67 Q2294.49 1477.06 2294.49 1468.33 Q2294.49 1459.58 2297.54 1455 Q2300.62 1450.39 2306.43 1450.39 Z\" fill=\"#000000\" fill-rule=\"nonzero\" fill-opacity=\"1\" /><path clip-path=\"url(#clip400)\" d=\"M1193.28 1520.52 L1200.18 1520.52 L1211.99 1538.19 L1223.86 1520.52 L1230.77 1520.52 L1215.49 1543.34 L1231.79 1568.04 L1224.88 1568.04 L1211.51 1547.83 L1198.05 1568.04 L1191.11 1568.04 L1208.08 1542.68 L1193.28 1520.52 Z\" fill=\"#000000\" fill-rule=\"nonzero\" fill-opacity=\"1\" /><path clip-path=\"url(#clip400)\" d=\"M1233.76 1547.58 L1250.92 1547.58 L1250.92 1552.8 L1233.76 1552.8 L1233.76 1547.58 Z\" fill=\"#000000\" fill-rule=\"nonzero\" fill-opacity=\"1\" /><path clip-path=\"url(#clip400)\" d=\"M1276.44 1550.12 Q1269.35 1550.12 1266.61 1551.75 Q1263.87 1553.37 1263.87 1557.29 Q1263.87 1560.4 1265.91 1562.25 Q1267.98 1564.07 1271.51 1564.07 Q1276.38 1564.07 1279.31 1560.63 Q1282.27 1557.16 1282.27 1551.43 L1282.27 1550.12 L1276.44 1550.12 M1288.13 1547.71 L1288.13 1568.04 L1282.27 1568.04 L1282.27 1562.63 Q1280.26 1565.88 1277.27 1567.44 Q1274.28 1568.97 1269.95 1568.97 Q1264.48 1568.97 1261.23 1565.91 Q1258.02 1562.82 1258.02 1557.67 Q1258.02 1551.65 1262.03 1548.6 Q1266.07 1545.54 1274.06 1545.54 L1282.27 1545.54 L1282.27 1544.97 Q1282.27 1540.93 1279.6 1538.73 Q1276.95 1536.5 1272.15 1536.5 Q1269.09 1536.5 1266.2 1537.23 Q1263.3 1537.97 1260.63 1539.43 L1260.63 1534.02 Q1263.84 1532.78 1266.86 1532.17 Q1269.89 1531.54 1272.75 1531.54 Q1280.49 1531.54 1284.31 1535.55 Q1288.13 1539.56 1288.13 1547.71 Z\" fill=\"#000000\" fill-rule=\"nonzero\" fill-opacity=\"1\" /><path clip-path=\"url(#clip400)\" d=\"M1329.82 1532.4 L1316.93 1549.74 L1330.49 1568.04 L1323.58 1568.04 L1313.21 1554.04 L1302.83 1568.04 L1295.92 1568.04 L1309.77 1549.39 L1297.1 1532.4 L1304.01 1532.4 L1313.46 1545.1 L1322.91 1532.4 L1329.82 1532.4 Z\" fill=\"#000000\" fill-rule=\"nonzero\" fill-opacity=\"1\" /><path clip-path=\"url(#clip400)\" d=\"M1338.76 1532.4 L1344.62 1532.4 L1344.62 1568.04 L1338.76 1568.04 L1338.76 1532.4 M1338.76 1518.52 L1344.62 1518.52 L1344.62 1525.93 L1338.76 1525.93 L1338.76 1518.52 Z\" fill=\"#000000\" fill-rule=\"nonzero\" fill-opacity=\"1\" /><path clip-path=\"url(#clip400)\" d=\"M1379.6 1533.45 L1379.6 1538.98 Q1377.12 1537.71 1374.44 1537.07 Q1371.77 1536.44 1368.91 1536.44 Q1364.55 1536.44 1362.35 1537.77 Q1360.19 1539.11 1360.19 1541.79 Q1360.19 1543.82 1361.74 1545 Q1363.3 1546.15 1368.01 1547.2 L1370.02 1547.64 Q1376.26 1548.98 1378.87 1551.43 Q1381.51 1553.85 1381.51 1558.21 Q1381.51 1563.17 1377.56 1566.07 Q1373.65 1568.97 1366.77 1568.97 Q1363.91 1568.97 1360.79 1568.39 Q1357.7 1567.85 1354.27 1566.74 L1354.27 1560.69 Q1357.51 1562.38 1360.66 1563.24 Q1363.81 1564.07 1366.9 1564.07 Q1371.04 1564.07 1373.27 1562.66 Q1375.49 1561.23 1375.49 1558.65 Q1375.49 1556.27 1373.87 1554.99 Q1372.28 1553.72 1366.84 1552.54 L1364.8 1552.07 Q1359.36 1550.92 1356.94 1548.56 Q1354.52 1546.18 1354.52 1542.04 Q1354.52 1537.01 1358.08 1534.27 Q1361.65 1531.54 1368.21 1531.54 Q1371.45 1531.54 1374.32 1532.01 Q1377.18 1532.49 1379.6 1533.45 Z\" fill=\"#000000\" fill-rule=\"nonzero\" fill-opacity=\"1\" /><polyline clip-path=\"url(#clip400)\" style=\"stroke:#000000; stroke-linecap:round; stroke-linejoin:round; stroke-width:4; stroke-opacity:1; fill:none\" points=\"219.866,1423.18 219.866,123.472 \"/>\n",
       "<polyline clip-path=\"url(#clip400)\" style=\"stroke:#000000; stroke-linecap:round; stroke-linejoin:round; stroke-width:4; stroke-opacity:1; fill:none\" points=\"219.866,1129.81 238.764,1129.81 \"/>\n",
       "<polyline clip-path=\"url(#clip400)\" style=\"stroke:#000000; stroke-linecap:round; stroke-linejoin:round; stroke-width:4; stroke-opacity:1; fill:none\" points=\"219.866,794.612 238.764,794.612 \"/>\n",
       "<polyline clip-path=\"url(#clip400)\" style=\"stroke:#000000; stroke-linecap:round; stroke-linejoin:round; stroke-width:4; stroke-opacity:1; fill:none\" points=\"219.866,459.414 238.764,459.414 \"/>\n",
       "<polyline clip-path=\"url(#clip400)\" style=\"stroke:#000000; stroke-linecap:round; stroke-linejoin:round; stroke-width:4; stroke-opacity:1; fill:none\" points=\"219.866,124.216 238.764,124.216 \"/>\n",
       "<path clip-path=\"url(#clip400)\" d=\"M128.288 1115.61 Q124.677 1115.61 122.848 1119.17 Q121.043 1122.71 121.043 1129.84 Q121.043 1136.95 122.848 1140.52 Q124.677 1144.06 128.288 1144.06 Q131.922 1144.06 133.728 1140.52 Q135.556 1136.95 135.556 1129.84 Q135.556 1122.71 133.728 1119.17 Q131.922 1115.61 128.288 1115.61 M128.288 1111.9 Q134.098 1111.9 137.154 1116.51 Q140.232 1121.09 140.232 1129.84 Q140.232 1138.57 137.154 1143.18 Q134.098 1147.76 128.288 1147.76 Q122.478 1147.76 119.399 1143.18 Q116.343 1138.57 116.343 1129.84 Q116.343 1121.09 119.399 1116.51 Q122.478 1111.9 128.288 1111.9 Z\" fill=\"#000000\" fill-rule=\"nonzero\" fill-opacity=\"1\" /><path clip-path=\"url(#clip400)\" d=\"M148.45 1141.21 L153.334 1141.21 L153.334 1147.09 L148.45 1147.09 L148.45 1141.21 Z\" fill=\"#000000\" fill-rule=\"nonzero\" fill-opacity=\"1\" /><path clip-path=\"url(#clip400)\" d=\"M167.547 1143.15 L183.866 1143.15 L183.866 1147.09 L161.922 1147.09 L161.922 1143.15 Q164.584 1140.4 169.167 1135.77 Q173.774 1131.12 174.954 1129.77 Q177.2 1127.25 178.079 1125.52 Q178.982 1123.76 178.982 1122.07 Q178.982 1119.31 177.038 1117.58 Q175.116 1115.84 172.014 1115.84 Q169.815 1115.84 167.362 1116.6 Q164.931 1117.37 162.153 1118.92 L162.153 1114.2 Q164.977 1113.06 167.431 1112.48 Q169.885 1111.9 171.922 1111.9 Q177.292 1111.9 180.487 1114.59 Q183.681 1117.28 183.681 1121.77 Q183.681 1123.9 182.871 1125.82 Q182.084 1127.71 179.977 1130.31 Q179.399 1130.98 176.297 1134.2 Q173.195 1137.39 167.547 1143.15 Z\" fill=\"#000000\" fill-rule=\"nonzero\" fill-opacity=\"1\" /><path clip-path=\"url(#clip400)\" d=\"M126.205 780.41 Q122.593 780.41 120.765 783.975 Q118.959 787.517 118.959 794.646 Q118.959 801.753 120.765 805.318 Q122.593 808.859 126.205 808.859 Q129.839 808.859 131.644 805.318 Q133.473 801.753 133.473 794.646 Q133.473 787.517 131.644 783.975 Q129.839 780.41 126.205 780.41 M126.205 776.707 Q132.015 776.707 135.07 781.313 Q138.149 785.896 138.149 794.646 Q138.149 803.373 135.07 807.98 Q132.015 812.563 126.205 812.563 Q120.394 812.563 117.316 807.98 Q114.26 803.373 114.26 794.646 Q114.26 785.896 117.316 781.313 Q120.394 776.707 126.205 776.707 Z\" fill=\"#000000\" fill-rule=\"nonzero\" fill-opacity=\"1\" /><path clip-path=\"url(#clip400)\" d=\"M146.366 806.012 L151.251 806.012 L151.251 811.892 L146.366 811.892 L146.366 806.012 Z\" fill=\"#000000\" fill-rule=\"nonzero\" fill-opacity=\"1\" /><path clip-path=\"url(#clip400)\" d=\"M174.283 781.406 L162.477 799.855 L174.283 799.855 L174.283 781.406 M173.056 777.332 L178.936 777.332 L178.936 799.855 L183.866 799.855 L183.866 803.744 L178.936 803.744 L178.936 811.892 L174.283 811.892 L174.283 803.744 L158.681 803.744 L158.681 799.23 L173.056 777.332 Z\" fill=\"#000000\" fill-rule=\"nonzero\" fill-opacity=\"1\" /><path clip-path=\"url(#clip400)\" d=\"M126.529 445.212 Q122.918 445.212 121.089 448.777 Q119.283 452.319 119.283 459.448 Q119.283 466.555 121.089 470.12 Q122.918 473.661 126.529 473.661 Q130.163 473.661 131.968 470.12 Q133.797 466.555 133.797 459.448 Q133.797 452.319 131.968 448.777 Q130.163 445.212 126.529 445.212 M126.529 441.509 Q132.339 441.509 135.394 446.115 Q138.473 450.698 138.473 459.448 Q138.473 468.175 135.394 472.782 Q132.339 477.365 126.529 477.365 Q120.718 477.365 117.64 472.782 Q114.584 468.175 114.584 459.448 Q114.584 450.698 117.64 446.115 Q120.718 441.509 126.529 441.509 Z\" fill=\"#000000\" fill-rule=\"nonzero\" fill-opacity=\"1\" /><path clip-path=\"url(#clip400)\" d=\"M146.691 470.814 L151.575 470.814 L151.575 476.694 L146.691 476.694 L146.691 470.814 Z\" fill=\"#000000\" fill-rule=\"nonzero\" fill-opacity=\"1\" /><path clip-path=\"url(#clip400)\" d=\"M172.339 457.55 Q169.19 457.55 167.339 459.703 Q165.51 461.856 165.51 465.606 Q165.51 469.333 167.339 471.509 Q169.19 473.661 172.339 473.661 Q175.487 473.661 177.315 471.509 Q179.167 469.333 179.167 465.606 Q179.167 461.856 177.315 459.703 Q175.487 457.55 172.339 457.55 M181.621 442.898 L181.621 447.157 Q179.862 446.323 178.056 445.884 Q176.274 445.444 174.514 445.444 Q169.885 445.444 167.431 448.569 Q165.001 451.694 164.653 458.013 Q166.019 455.999 168.079 454.935 Q170.139 453.847 172.616 453.847 Q177.825 453.847 180.834 457.018 Q183.866 460.166 183.866 465.606 Q183.866 470.93 180.718 474.147 Q177.57 477.365 172.339 477.365 Q166.343 477.365 163.172 472.782 Q160.001 468.175 160.001 459.448 Q160.001 451.254 163.89 446.393 Q167.778 441.509 174.329 441.509 Q176.089 441.509 177.871 441.856 Q179.676 442.203 181.621 442.898 Z\" fill=\"#000000\" fill-rule=\"nonzero\" fill-opacity=\"1\" /><path clip-path=\"url(#clip400)\" d=\"M126.783 110.014 Q123.172 110.014 121.343 113.579 Q119.538 117.121 119.538 124.25 Q119.538 131.357 121.343 134.922 Q123.172 138.463 126.783 138.463 Q130.417 138.463 132.223 134.922 Q134.052 131.357 134.052 124.25 Q134.052 117.121 132.223 113.579 Q130.417 110.014 126.783 110.014 M126.783 106.311 Q132.593 106.311 135.649 110.917 Q138.728 115.5 138.728 124.25 Q138.728 132.977 135.649 137.584 Q132.593 142.167 126.783 142.167 Q120.973 142.167 117.894 137.584 Q114.839 132.977 114.839 124.25 Q114.839 115.5 117.894 110.917 Q120.973 106.311 126.783 106.311 Z\" fill=\"#000000\" fill-rule=\"nonzero\" fill-opacity=\"1\" /><path clip-path=\"url(#clip400)\" d=\"M146.945 135.616 L151.829 135.616 L151.829 141.496 L146.945 141.496 L146.945 135.616 Z\" fill=\"#000000\" fill-rule=\"nonzero\" fill-opacity=\"1\" /><path clip-path=\"url(#clip400)\" d=\"M172.014 125.084 Q168.681 125.084 166.76 126.866 Q164.862 128.649 164.862 131.774 Q164.862 134.898 166.76 136.681 Q168.681 138.463 172.014 138.463 Q175.348 138.463 177.269 136.681 Q179.19 134.875 179.19 131.774 Q179.19 128.649 177.269 126.866 Q175.371 125.084 172.014 125.084 M167.339 123.093 Q164.329 122.352 162.64 120.292 Q160.973 118.232 160.973 115.269 Q160.973 111.125 163.913 108.718 Q166.876 106.311 172.014 106.311 Q177.176 106.311 180.116 108.718 Q183.056 111.125 183.056 115.269 Q183.056 118.232 181.366 120.292 Q179.7 122.352 176.714 123.093 Q180.093 123.88 181.968 126.172 Q183.866 128.463 183.866 131.774 Q183.866 136.797 180.788 139.482 Q177.732 142.167 172.014 142.167 Q166.297 142.167 163.218 139.482 Q160.163 136.797 160.163 131.774 Q160.163 128.463 162.061 126.172 Q163.959 123.88 167.339 123.093 M165.626 115.709 Q165.626 118.394 167.292 119.899 Q168.982 121.403 172.014 121.403 Q175.024 121.403 176.714 119.899 Q178.426 118.394 178.426 115.709 Q178.426 113.024 176.714 111.519 Q175.024 110.014 172.014 110.014 Q168.982 110.014 167.292 111.519 Q165.626 113.024 165.626 115.709 Z\" fill=\"#000000\" fill-rule=\"nonzero\" fill-opacity=\"1\" /><path clip-path=\"url(#clip400)\" d=\"M16.4842 864.897 L16.4842 857.99 L36.0269 844.813 L16.4842 831.731 L16.4842 824.825 L41.3741 841.63 L64.0042 841.63 L64.0042 848.091 L41.3741 848.091 L16.4842 864.897 Z\" fill=\"#000000\" fill-rule=\"nonzero\" fill-opacity=\"1\" /><path clip-path=\"url(#clip400)\" d=\"M43.5384 829.503 L43.5384 812.348 L48.7583 812.348 L48.7583 829.503 L43.5384 829.503 Z\" fill=\"#000000\" fill-rule=\"nonzero\" fill-opacity=\"1\" /><path clip-path=\"url(#clip400)\" d=\"M46.0847 786.821 Q46.0847 793.919 47.7079 796.656 Q49.3312 799.394 53.2461 799.394 Q56.3653 799.394 58.2114 797.357 Q60.0256 795.288 60.0256 791.755 Q60.0256 786.885 56.5881 783.957 Q53.1188 780.997 47.3897 780.997 L46.0847 780.997 L46.0847 786.821 M43.6657 775.14 L64.0042 775.14 L64.0042 780.997 L58.5933 780.997 Q61.8398 783.002 63.3994 785.994 Q64.9272 788.986 64.9272 793.314 Q64.9272 798.789 61.8716 802.035 Q58.7843 805.25 53.6281 805.25 Q47.6125 805.25 44.5569 801.24 Q41.5014 797.197 41.5014 789.208 L41.5014 780.997 L40.9285 780.997 Q36.8862 780.997 34.6901 783.67 Q32.4621 786.312 32.4621 791.118 Q32.4621 794.174 33.1941 797.07 Q33.9262 799.966 35.3903 802.64 L29.9795 802.64 Q28.7381 799.425 28.1334 796.402 Q27.4968 793.378 27.4968 790.513 Q27.4968 782.779 31.5072 778.96 Q35.5176 775.14 43.6657 775.14 Z\" fill=\"#000000\" fill-rule=\"nonzero\" fill-opacity=\"1\" /><path clip-path=\"url(#clip400)\" d=\"M28.3562 733.445 L45.7028 746.335 L64.0042 732.776 L64.0042 739.683 L49.9996 750.059 L64.0042 760.435 L64.0042 767.342 L45.3526 753.497 L28.3562 766.165 L28.3562 759.258 L41.0558 749.805 L28.3562 740.352 L28.3562 733.445 Z\" fill=\"#000000\" fill-rule=\"nonzero\" fill-opacity=\"1\" /><path clip-path=\"url(#clip400)\" d=\"M28.3562 724.501 L28.3562 718.645 L64.0042 718.645 L64.0042 724.501 L28.3562 724.501 M14.479 724.501 L14.479 718.645 L21.895 718.645 L21.895 724.501 L14.479 724.501 Z\" fill=\"#000000\" fill-rule=\"nonzero\" fill-opacity=\"1\" /><path clip-path=\"url(#clip400)\" d=\"M29.4065 683.665 L34.9447 683.665 Q33.6716 686.148 33.035 688.821 Q32.3984 691.495 32.3984 694.359 Q32.3984 698.72 33.7352 700.916 Q35.072 703.08 37.7456 703.08 Q39.7826 703.08 40.9603 701.521 Q42.1061 699.961 43.1565 695.251 L43.6021 693.245 Q44.9389 687.007 47.3897 684.397 Q49.8086 681.755 54.1691 681.755 Q59.1344 681.755 62.0308 685.702 Q64.9272 689.617 64.9272 696.492 Q64.9272 699.356 64.3543 702.476 Q63.8132 705.563 62.6992 709.001 L56.6518 709.001 Q58.3387 705.754 59.198 702.603 Q60.0256 699.452 60.0256 696.365 Q60.0256 692.227 58.6251 689.999 Q57.1929 687.771 54.6147 687.771 Q52.2276 687.771 50.9545 689.394 Q49.6813 690.986 48.5037 696.428 L48.0262 698.465 Q46.8804 703.908 44.5251 706.327 Q42.138 708.746 38.0002 708.746 Q32.9713 708.746 30.2341 705.181 Q27.4968 701.616 27.4968 695.06 Q27.4968 691.813 27.9743 688.949 Q28.4517 686.084 29.4065 683.665 Z\" fill=\"#000000\" fill-rule=\"nonzero\" fill-opacity=\"1\" /><path clip-path=\"url(#clip400)\" d=\"M998.737 43.6931 L998.737 65.8515 L1011.86 65.8515 Q1018.47 65.8515 1021.63 63.1374 Q1024.83 60.3828 1024.83 54.752 Q1024.83 49.0808 1021.63 46.4072 Q1018.47 43.6931 1011.86 43.6931 L998.737 43.6931 M998.737 18.8205 L998.737 37.0496 L1010.85 37.0496 Q1016.84 37.0496 1019.76 34.8216 Q1022.72 32.5531 1022.72 27.935 Q1022.72 23.3575 1019.76 21.089 Q1016.84 18.8205 1010.85 18.8205 L998.737 18.8205 M990.555 12.096 L1011.46 12.096 Q1020.81 12.096 1025.88 15.9849 Q1030.94 19.8737 1030.94 27.0438 Q1030.94 32.5936 1028.35 35.8748 Q1025.76 39.156 1020.73 39.9662 Q1026.77 41.2625 1030.09 45.3944 Q1033.45 49.4858 1033.45 55.6432 Q1033.45 63.745 1027.94 68.1605 Q1022.44 72.576 1012.27 72.576 L990.555 72.576 L990.555 12.096 Z\" fill=\"#000000\" fill-rule=\"nonzero\" fill-opacity=\"1\" /><path clip-path=\"url(#clip400)\" d=\"M1067.76 49.7694 Q1058.73 49.7694 1055.25 51.8354 Q1051.76 53.9013 1051.76 58.8839 Q1051.76 62.8538 1054.36 65.2034 Q1056.99 67.5124 1061.49 67.5124 Q1067.68 67.5124 1071.41 63.1374 Q1075.18 58.7219 1075.18 51.4303 L1075.18 49.7694 L1067.76 49.7694 M1082.63 46.6907 L1082.63 72.576 L1075.18 72.576 L1075.18 65.6895 Q1072.63 69.8214 1068.82 71.8063 Q1065.01 73.7508 1059.5 73.7508 Q1052.53 73.7508 1048.4 69.8619 Q1044.31 65.9325 1044.31 59.3701 Q1044.31 51.7138 1049.41 47.825 Q1054.56 43.9361 1064.73 43.9361 L1075.18 43.9361 L1075.18 43.2069 Q1075.18 38.0623 1071.78 35.2672 Q1068.41 32.4315 1062.3 32.4315 Q1058.41 32.4315 1054.72 33.3632 Q1051.03 34.295 1047.63 36.1584 L1047.63 29.2718 Q1051.72 27.692 1055.57 26.9223 Q1059.42 26.1121 1063.07 26.1121 Q1072.91 26.1121 1077.77 31.2163 Q1082.63 36.3204 1082.63 46.6907 Z\" fill=\"#000000\" fill-rule=\"nonzero\" fill-opacity=\"1\" /><path clip-path=\"url(#clip400)\" d=\"M1126.91 28.5427 L1126.91 35.5912 Q1123.75 33.9709 1120.35 33.1607 Q1116.94 32.3505 1113.3 32.3505 Q1107.75 32.3505 1104.95 34.0519 Q1102.2 35.7533 1102.2 39.156 Q1102.2 41.7486 1104.18 43.2475 Q1106.17 44.7058 1112.16 46.0426 L1114.71 46.6097 Q1122.65 48.3111 1125.98 51.4303 Q1129.34 54.509 1129.34 60.0587 Q1129.34 66.3781 1124.32 70.0644 Q1119.33 73.7508 1110.58 73.7508 Q1106.94 73.7508 1102.97 73.0216 Q1099.04 72.3329 1094.66 70.9151 L1094.66 63.2184 Q1098.79 65.3654 1102.81 66.4591 Q1106.82 67.5124 1110.74 67.5124 Q1116.01 67.5124 1118.85 65.73 Q1121.68 63.9071 1121.68 60.6258 Q1121.68 57.5877 1119.62 55.9673 Q1117.59 54.3469 1110.66 52.8481 L1108.07 52.2405 Q1101.14 50.7821 1098.07 47.7845 Q1094.99 44.7463 1094.99 39.4801 Q1094.99 33.0797 1099.52 29.5959 Q1104.06 26.1121 1112.41 26.1121 Q1116.54 26.1121 1120.18 26.7198 Q1123.83 27.3274 1126.91 28.5427 Z\" fill=\"#000000\" fill-rule=\"nonzero\" fill-opacity=\"1\" /><path clip-path=\"url(#clip400)\" d=\"M1141.21 27.2059 L1148.66 27.2059 L1148.66 72.576 L1141.21 72.576 L1141.21 27.2059 M1141.21 9.54393 L1148.66 9.54393 L1148.66 18.9825 L1141.21 18.9825 L1141.21 9.54393 Z\" fill=\"#000000\" fill-rule=\"nonzero\" fill-opacity=\"1\" /><path clip-path=\"url(#clip400)\" d=\"M1196.91 28.9478 L1196.91 35.9153 Q1193.75 34.1734 1190.55 33.3227 Q1187.39 32.4315 1184.15 32.4315 Q1176.9 32.4315 1172.89 37.0496 Q1168.88 41.6271 1168.88 49.9314 Q1168.88 58.2358 1172.89 62.8538 Q1176.9 67.4314 1184.15 67.4314 Q1187.39 67.4314 1190.55 66.5807 Q1193.75 65.6895 1196.91 63.9476 L1196.91 70.8341 Q1193.79 72.2924 1190.43 73.0216 Q1187.1 73.7508 1183.34 73.7508 Q1173.09 73.7508 1167.05 67.3098 Q1161.02 60.8689 1161.02 49.9314 Q1161.02 38.832 1167.09 32.472 Q1173.21 26.1121 1183.82 26.1121 Q1187.27 26.1121 1190.55 26.8413 Q1193.83 27.5299 1196.91 28.9478 Z\" fill=\"#000000\" fill-rule=\"nonzero\" fill-opacity=\"1\" /><path clip-path=\"url(#clip400)\" d=\"M1236.57 12.096 L1244.75 12.096 L1244.75 65.6895 L1274.2 65.6895 L1274.2 72.576 L1236.57 72.576 L1236.57 12.096 Z\" fill=\"#000000\" fill-rule=\"nonzero\" fill-opacity=\"1\" /><path clip-path=\"url(#clip400)\" d=\"M1282.46 27.2059 L1289.92 27.2059 L1289.92 72.576 L1282.46 72.576 L1282.46 27.2059 M1282.46 9.54393 L1289.92 9.54393 L1289.92 18.9825 L1282.46 18.9825 L1282.46 9.54393 Z\" fill=\"#000000\" fill-rule=\"nonzero\" fill-opacity=\"1\" /><path clip-path=\"url(#clip400)\" d=\"M1343.23 45.1919 L1343.23 72.576 L1335.77 72.576 L1335.77 45.4349 Q1335.77 38.994 1333.26 35.7938 Q1330.75 32.5936 1325.73 32.5936 Q1319.69 32.5936 1316.21 36.4419 Q1312.72 40.2903 1312.72 46.9338 L1312.72 72.576 L1305.23 72.576 L1305.23 27.2059 L1312.72 27.2059 L1312.72 34.2544 Q1315.4 30.163 1319 28.1376 Q1322.65 26.1121 1327.39 26.1121 Q1335.21 26.1121 1339.22 30.9732 Q1343.23 35.7938 1343.23 45.1919 Z\" fill=\"#000000\" fill-rule=\"nonzero\" fill-opacity=\"1\" /><path clip-path=\"url(#clip400)\" d=\"M1396.9 48.0275 L1396.9 51.6733 L1362.63 51.6733 Q1363.12 59.3701 1367.25 63.421 Q1371.42 67.4314 1378.83 67.4314 Q1383.13 67.4314 1387.14 66.3781 Q1391.19 65.3249 1395.16 63.2184 L1395.16 70.267 Q1391.15 71.9684 1386.94 72.8596 Q1382.72 73.7508 1378.39 73.7508 Q1367.53 73.7508 1361.17 67.4314 Q1354.85 61.1119 1354.85 50.3365 Q1354.85 39.1965 1360.85 32.6746 Q1366.88 26.1121 1377.09 26.1121 Q1386.25 26.1121 1391.55 32.0264 Q1396.9 37.9003 1396.9 48.0275 M1389.45 45.84 Q1389.37 39.7232 1386 36.0774 Q1382.68 32.4315 1377.17 32.4315 Q1370.93 32.4315 1367.17 35.9558 Q1363.44 39.4801 1362.87 45.8805 L1389.45 45.84 Z\" fill=\"#000000\" fill-rule=\"nonzero\" fill-opacity=\"1\" /><path clip-path=\"url(#clip400)\" d=\"M1444.01 18.8205 L1444.01 41.5461 L1454.3 41.5461 Q1460.01 41.5461 1463.13 38.5889 Q1466.25 35.6318 1466.25 30.163 Q1466.25 24.7348 1463.13 21.7777 Q1460.01 18.8205 1454.3 18.8205 L1444.01 18.8205 M1435.83 12.096 L1454.3 12.096 Q1464.47 12.096 1469.66 16.714 Q1474.88 21.2916 1474.88 30.163 Q1474.88 39.1155 1469.66 43.6931 Q1464.47 48.2706 1454.3 48.2706 L1444.01 48.2706 L1444.01 72.576 L1435.83 72.576 L1435.83 12.096 Z\" fill=\"#000000\" fill-rule=\"nonzero\" fill-opacity=\"1\" /><path clip-path=\"url(#clip400)\" d=\"M1485.53 9.54393 L1492.99 9.54393 L1492.99 72.576 L1485.53 72.576 L1485.53 9.54393 Z\" fill=\"#000000\" fill-rule=\"nonzero\" fill-opacity=\"1\" /><path clip-path=\"url(#clip400)\" d=\"M1526.17 32.4315 Q1520.17 32.4315 1516.69 37.1306 Q1513.2 41.7891 1513.2 49.9314 Q1513.2 58.0738 1516.65 62.7728 Q1520.13 67.4314 1526.17 67.4314 Q1532.12 67.4314 1535.6 62.7323 Q1539.09 58.0333 1539.09 49.9314 Q1539.09 41.8701 1535.6 37.1711 Q1532.12 32.4315 1526.17 32.4315 M1526.17 26.1121 Q1535.89 26.1121 1541.44 32.4315 Q1546.99 38.7509 1546.99 49.9314 Q1546.99 61.0714 1541.44 67.4314 Q1535.89 73.7508 1526.17 73.7508 Q1516.4 73.7508 1510.85 67.4314 Q1505.34 61.0714 1505.34 49.9314 Q1505.34 38.7509 1510.85 32.4315 Q1516.4 26.1121 1526.17 26.1121 Z\" fill=\"#000000\" fill-rule=\"nonzero\" fill-opacity=\"1\" /><path clip-path=\"url(#clip400)\" d=\"M1566.71 14.324 L1566.71 27.2059 L1582.07 27.2059 L1582.07 32.9987 L1566.71 32.9987 L1566.71 57.6282 Q1566.71 63.1779 1568.21 64.7578 Q1569.75 66.3376 1574.41 66.3376 L1582.07 66.3376 L1582.07 72.576 L1574.41 72.576 Q1565.78 72.576 1562.5 69.3758 Q1559.22 66.1351 1559.22 57.6282 L1559.22 32.9987 L1553.75 32.9987 L1553.75 27.2059 L1559.22 27.2059 L1559.22 14.324 L1566.71 14.324 Z\" fill=\"#000000\" fill-rule=\"nonzero\" fill-opacity=\"1\" /><polyline clip-path=\"url(#clip402)\" style=\"stroke:#009af9; stroke-linecap:round; stroke-linejoin:round; stroke-width:8; stroke-opacity:1; fill:none\" points=\"280.231,417.594 503.804,837.02 727.378,1386.4 950.951,1091.31 1174.52,1040.69 1398.1,160.256 1621.67,448.665 1845.24,479.88 2068.82,358.452 2292.39,213.681 \"/>\n",
       "<path clip-path=\"url(#clip400)\" d=\"M1976.75 1379.86 L2281.66 1379.86 L2281.66 1276.18 L1976.75 1276.18  Z\" fill=\"#ffffff\" fill-rule=\"evenodd\" fill-opacity=\"1\"/>\n",
       "<polyline clip-path=\"url(#clip400)\" style=\"stroke:#000000; stroke-linecap:round; stroke-linejoin:round; stroke-width:4; stroke-opacity:1; fill:none\" points=\"1976.75,1379.86 2281.66,1379.86 2281.66,1276.18 1976.75,1276.18 1976.75,1379.86 \"/>\n",
       "<polyline clip-path=\"url(#clip400)\" style=\"stroke:#009af9; stroke-linecap:round; stroke-linejoin:round; stroke-width:8; stroke-opacity:1; fill:none\" points=\"2000.45,1328.02 2142.64,1328.02 \"/>\n",
       "<path clip-path=\"url(#clip400)\" d=\"M2166.34 1310.74 L2171.02 1310.74 L2171.02 1341.36 L2187.85 1341.36 L2187.85 1345.3 L2166.34 1345.3 L2166.34 1310.74 Z\" fill=\"#000000\" fill-rule=\"nonzero\" fill-opacity=\"1\" /><path clip-path=\"url(#clip400)\" d=\"M2192.57 1319.37 L2196.83 1319.37 L2196.83 1345.3 L2192.57 1345.3 L2192.57 1319.37 M2192.57 1309.28 L2196.83 1309.28 L2196.83 1314.67 L2192.57 1314.67 L2192.57 1309.28 Z\" fill=\"#000000\" fill-rule=\"nonzero\" fill-opacity=\"1\" /><path clip-path=\"url(#clip400)\" d=\"M2227.29 1329.65 L2227.29 1345.3 L2223.03 1345.3 L2223.03 1329.79 Q2223.03 1326.11 2221.6 1324.28 Q2220.16 1322.45 2217.29 1322.45 Q2213.84 1322.45 2211.85 1324.65 Q2209.86 1326.85 2209.86 1330.64 L2209.86 1345.3 L2205.58 1345.3 L2205.58 1319.37 L2209.86 1319.37 L2209.86 1323.4 Q2211.39 1321.06 2213.45 1319.9 Q2215.53 1318.75 2218.24 1318.75 Q2222.71 1318.75 2225 1321.52 Q2227.29 1324.28 2227.29 1329.65 Z\" fill=\"#000000\" fill-rule=\"nonzero\" fill-opacity=\"1\" /><path clip-path=\"url(#clip400)\" d=\"M2257.96 1331.27 L2257.96 1333.35 L2238.38 1333.35 Q2238.66 1337.75 2241.02 1340.06 Q2243.4 1342.36 2247.64 1342.36 Q2250.09 1342.36 2252.38 1341.75 Q2254.7 1341.15 2256.97 1339.95 L2256.97 1343.98 Q2254.67 1344.95 2252.27 1345.46 Q2249.86 1345.97 2247.38 1345.97 Q2241.18 1345.97 2237.54 1342.36 Q2233.93 1338.75 2233.93 1332.59 Q2233.93 1326.22 2237.36 1322.5 Q2240.81 1318.75 2246.64 1318.75 Q2251.87 1318.75 2254.91 1322.13 Q2257.96 1325.48 2257.96 1331.27 M2253.7 1330.02 Q2253.66 1326.52 2251.73 1324.44 Q2249.84 1322.36 2246.69 1322.36 Q2243.12 1322.36 2240.97 1324.37 Q2238.84 1326.38 2238.52 1330.04 L2253.7 1330.02 Z\" fill=\"#000000\" fill-rule=\"nonzero\" fill-opacity=\"1\" /></svg>\n"
      ]
     },
     "metadata": {},
     "output_type": "display_data"
    }
   ],
   "source": [
    "using Plots\n",
    "\n",
    "# Data\n",
    "x = 1:10\n",
    "y = rand(10)\n",
    "\n",
    "# Basic line plot\n",
    "plot(x, y, title=\"Basic Line Plot\", xlabel=\"X-axis\", ylabel=\"Y-axis\", label=\"Line\", lw=2)"
   ]
  },
  {
   "cell_type": "code",
   "execution_count": 81,
   "metadata": {},
   "outputs": [
    {
     "data": {
      "image/png": "[encoded data removed]",
      "image/svg+xml": [
       "<?xml version=\"1.0\" encoding=\"utf-8\"?>\n",
       "<svg xmlns=\"http://www.w3.org/2000/svg\" xmlns:xlink=\"http://www.w3.org/1999/xlink\" width=\"600\" height=\"400\" viewBox=\"0 0 2400 1600\">\n",
       "<defs>\n",
       "  <clipPath id=\"clip440\">\n",
       "    <rect x=\"0\" y=\"0\" width=\"2400\" height=\"1600\"/>\n",
       "  </clipPath>\n",
       "</defs>\n",
       "<path clip-path=\"url(#clip440)\" d=\"M0 1600 L2400 1600 L2400 0 L0 0  Z\" fill=\"#ffffff\" fill-rule=\"evenodd\" fill-opacity=\"1\"/>\n",
       "<defs>\n",
       "  <clipPath id=\"clip441\">\n",
       "    <rect x=\"480\" y=\"0\" width=\"1681\" height=\"1600\"/>\n",
       "  </clipPath>\n",
       "</defs>\n",
       "<path clip-path=\"url(#clip440)\" d=\"M219.866 1423.18 L2352.76 1423.18 L2352.76 123.472 L219.866 123.472  Z\" fill=\"#ffffff\" fill-rule=\"evenodd\" fill-opacity=\"1\"/>\n",
       "<defs>\n",
       "  <clipPath id=\"clip442\">\n",
       "    <rect x=\"219\" y=\"123\" width=\"2134\" height=\"1301\"/>\n",
       "  </clipPath>\n",
       "</defs>\n",
       "<polyline clip-path=\"url(#clip442)\" style=\"stroke:#000000; stroke-linecap:round; stroke-linejoin:round; stroke-width:2; stroke-opacity:0.1; fill:none\" points=\"269.311,1423.18 269.311,123.472 \"/>\n",
       "<polyline clip-path=\"url(#clip442)\" style=\"stroke:#000000; stroke-linecap:round; stroke-linejoin:round; stroke-width:2; stroke-opacity:0.1; fill:none\" points=\"734.018,1423.18 734.018,123.472 \"/>\n",
       "<polyline clip-path=\"url(#clip442)\" style=\"stroke:#000000; stroke-linecap:round; stroke-linejoin:round; stroke-width:2; stroke-opacity:0.1; fill:none\" points=\"1198.72,1423.18 1198.72,123.472 \"/>\n",
       "<polyline clip-path=\"url(#clip442)\" style=\"stroke:#000000; stroke-linecap:round; stroke-linejoin:round; stroke-width:2; stroke-opacity:0.1; fill:none\" points=\"1663.43,1423.18 1663.43,123.472 \"/>\n",
       "<polyline clip-path=\"url(#clip442)\" style=\"stroke:#000000; stroke-linecap:round; stroke-linejoin:round; stroke-width:2; stroke-opacity:0.1; fill:none\" points=\"2128.14,1423.18 2128.14,123.472 \"/>\n",
       "<polyline clip-path=\"url(#clip442)\" style=\"stroke:#000000; stroke-linecap:round; stroke-linejoin:round; stroke-width:2; stroke-opacity:0.1; fill:none\" points=\"219.866,1197.98 2352.76,1197.98 \"/>\n",
       "<polyline clip-path=\"url(#clip442)\" style=\"stroke:#000000; stroke-linecap:round; stroke-linejoin:round; stroke-width:2; stroke-opacity:0.1; fill:none\" points=\"219.866,882.955 2352.76,882.955 \"/>\n",
       "<polyline clip-path=\"url(#clip442)\" style=\"stroke:#000000; stroke-linecap:round; stroke-linejoin:round; stroke-width:2; stroke-opacity:0.1; fill:none\" points=\"219.866,567.926 2352.76,567.926 \"/>\n",
       "<polyline clip-path=\"url(#clip442)\" style=\"stroke:#000000; stroke-linecap:round; stroke-linejoin:round; stroke-width:2; stroke-opacity:0.1; fill:none\" points=\"219.866,252.898 2352.76,252.898 \"/>\n",
       "<polyline clip-path=\"url(#clip440)\" style=\"stroke:#000000; stroke-linecap:round; stroke-linejoin:round; stroke-width:4; stroke-opacity:1; fill:none\" points=\"219.866,1423.18 2352.76,1423.18 \"/>\n",
       "<polyline clip-path=\"url(#clip440)\" style=\"stroke:#000000; stroke-linecap:round; stroke-linejoin:round; stroke-width:4; stroke-opacity:1; fill:none\" points=\"269.311,1423.18 269.311,1404.28 \"/>\n",
       "<polyline clip-path=\"url(#clip440)\" style=\"stroke:#000000; stroke-linecap:round; stroke-linejoin:round; stroke-width:4; stroke-opacity:1; fill:none\" points=\"734.018,1423.18 734.018,1404.28 \"/>\n",
       "<polyline clip-path=\"url(#clip440)\" style=\"stroke:#000000; stroke-linecap:round; stroke-linejoin:round; stroke-width:4; stroke-opacity:1; fill:none\" points=\"1198.72,1423.18 1198.72,1404.28 \"/>\n",
       "<polyline clip-path=\"url(#clip440)\" style=\"stroke:#000000; stroke-linecap:round; stroke-linejoin:round; stroke-width:4; stroke-opacity:1; fill:none\" points=\"1663.43,1423.18 1663.43,1404.28 \"/>\n",
       "<polyline clip-path=\"url(#clip440)\" style=\"stroke:#000000; stroke-linecap:round; stroke-linejoin:round; stroke-width:4; stroke-opacity:1; fill:none\" points=\"2128.14,1423.18 2128.14,1404.28 \"/>\n",
       "<path clip-path=\"url(#clip440)\" d=\"M246.696 1454.1 Q243.084 1454.1 241.256 1457.66 Q239.45 1461.2 239.45 1468.33 Q239.45 1475.44 241.256 1479.01 Q243.084 1482.55 246.696 1482.55 Q250.33 1482.55 252.135 1479.01 Q253.964 1475.44 253.964 1468.33 Q253.964 1461.2 252.135 1457.66 Q250.33 1454.1 246.696 1454.1 M246.696 1450.39 Q252.506 1450.39 255.561 1455 Q258.64 1459.58 258.64 1468.33 Q258.64 1477.06 255.561 1481.67 Q252.506 1486.25 246.696 1486.25 Q240.885 1486.25 237.807 1481.67 Q234.751 1477.06 234.751 1468.33 Q234.751 1459.58 237.807 1455 Q240.885 1450.39 246.696 1450.39 Z\" fill=\"#000000\" fill-rule=\"nonzero\" fill-opacity=\"1\" /><path clip-path=\"url(#clip440)\" d=\"M266.858 1479.7 L271.742 1479.7 L271.742 1485.58 L266.858 1485.58 L266.858 1479.7 Z\" fill=\"#000000\" fill-rule=\"nonzero\" fill-opacity=\"1\" /><path clip-path=\"url(#clip440)\" d=\"M291.927 1454.1 Q288.316 1454.1 286.487 1457.66 Q284.681 1461.2 284.681 1468.33 Q284.681 1475.44 286.487 1479.01 Q288.316 1482.55 291.927 1482.55 Q295.561 1482.55 297.367 1479.01 Q299.195 1475.44 299.195 1468.33 Q299.195 1461.2 297.367 1457.66 Q295.561 1454.1 291.927 1454.1 M291.927 1450.39 Q297.737 1450.39 300.793 1455 Q303.871 1459.58 303.871 1468.33 Q303.871 1477.06 300.793 1481.67 Q297.737 1486.25 291.927 1486.25 Q286.117 1486.25 283.038 1481.67 Q279.982 1477.06 279.982 1468.33 Q279.982 1459.58 283.038 1455 Q286.117 1450.39 291.927 1450.39 Z\" fill=\"#000000\" fill-rule=\"nonzero\" fill-opacity=\"1\" /><path clip-path=\"url(#clip440)\" d=\"M712.201 1454.1 Q708.59 1454.1 706.761 1457.66 Q704.955 1461.2 704.955 1468.33 Q704.955 1475.44 706.761 1479.01 Q708.59 1482.55 712.201 1482.55 Q715.835 1482.55 717.641 1479.01 Q719.469 1475.44 719.469 1468.33 Q719.469 1461.2 717.641 1457.66 Q715.835 1454.1 712.201 1454.1 M712.201 1450.39 Q718.011 1450.39 721.067 1455 Q724.145 1459.58 724.145 1468.33 Q724.145 1477.06 721.067 1481.67 Q718.011 1486.25 712.201 1486.25 Q706.391 1486.25 703.312 1481.67 Q700.256 1477.06 700.256 1468.33 Q700.256 1459.58 703.312 1455 Q706.391 1450.39 712.201 1450.39 Z\" fill=\"#000000\" fill-rule=\"nonzero\" fill-opacity=\"1\" /><path clip-path=\"url(#clip440)\" d=\"M732.363 1479.7 L737.247 1479.7 L737.247 1485.58 L732.363 1485.58 L732.363 1479.7 Z\" fill=\"#000000\" fill-rule=\"nonzero\" fill-opacity=\"1\" /><path clip-path=\"url(#clip440)\" d=\"M751.46 1481.64 L767.779 1481.64 L767.779 1485.58 L745.835 1485.58 L745.835 1481.64 Q748.497 1478.89 753.08 1474.26 Q757.687 1469.61 758.867 1468.27 Q761.113 1465.74 761.992 1464.01 Q762.895 1462.25 762.895 1460.56 Q762.895 1457.8 760.951 1456.07 Q759.029 1454.33 755.927 1454.33 Q753.728 1454.33 751.275 1455.09 Q748.844 1455.86 746.066 1457.41 L746.066 1452.69 Q748.89 1451.55 751.344 1450.97 Q753.798 1450.39 755.835 1450.39 Q761.205 1450.39 764.4 1453.08 Q767.594 1455.77 767.594 1460.26 Q767.594 1462.39 766.784 1464.31 Q765.997 1466.2 763.89 1468.8 Q763.312 1469.47 760.21 1472.69 Q757.108 1475.88 751.46 1481.64 Z\" fill=\"#000000\" fill-rule=\"nonzero\" fill-opacity=\"1\" /><path clip-path=\"url(#clip440)\" d=\"M1175.87 1454.1 Q1172.25 1454.1 1170.43 1457.66 Q1168.62 1461.2 1168.62 1468.33 Q1168.62 1475.44 1170.43 1479.01 Q1172.25 1482.55 1175.87 1482.55 Q1179.5 1482.55 1181.31 1479.01 Q1183.13 1475.44 1183.13 1468.33 Q1183.13 1461.2 1181.31 1457.66 Q1179.5 1454.1 1175.87 1454.1 M1175.87 1450.39 Q1181.68 1450.39 1184.73 1455 Q1187.81 1459.58 1187.81 1468.33 Q1187.81 1477.06 1184.73 1481.67 Q1181.68 1486.25 1175.87 1486.25 Q1170.06 1486.25 1166.98 1481.67 Q1163.92 1477.06 1163.92 1468.33 Q1163.92 1459.58 1166.98 1455 Q1170.06 1450.39 1175.87 1450.39 Z\" fill=\"#000000\" fill-rule=\"nonzero\" fill-opacity=\"1\" /><path clip-path=\"url(#clip440)\" d=\"M1196.03 1479.7 L1200.91 1479.7 L1200.91 1485.58 L1196.03 1485.58 L1196.03 1479.7 Z\" fill=\"#000000\" fill-rule=\"nonzero\" fill-opacity=\"1\" /><path clip-path=\"url(#clip440)\" d=\"M1223.94 1455.09 L1212.14 1473.54 L1223.94 1473.54 L1223.94 1455.09 M1222.72 1451.02 L1228.6 1451.02 L1228.6 1473.54 L1233.53 1473.54 L1233.53 1477.43 L1228.6 1477.43 L1228.6 1485.58 L1223.94 1485.58 L1223.94 1477.43 L1208.34 1477.43 L1208.34 1472.92 L1222.72 1451.02 Z\" fill=\"#000000\" fill-rule=\"nonzero\" fill-opacity=\"1\" /><path clip-path=\"url(#clip440)\" d=\"M1640.73 1454.1 Q1637.12 1454.1 1635.29 1457.66 Q1633.49 1461.2 1633.49 1468.33 Q1633.49 1475.44 1635.29 1479.01 Q1637.12 1482.55 1640.73 1482.55 Q1644.37 1482.55 1646.17 1479.01 Q1648 1475.44 1648 1468.33 Q1648 1461.2 1646.17 1457.66 Q1644.37 1454.1 1640.73 1454.1 M1640.73 1450.39 Q1646.54 1450.39 1649.6 1455 Q1652.68 1459.58 1652.68 1468.33 Q1652.68 1477.06 1649.6 1481.67 Q1646.54 1486.25 1640.73 1486.25 Q1634.92 1486.25 1631.85 1481.67 Q1628.79 1477.06 1628.79 1468.33 Q1628.79 1459.58 1631.85 1455 Q1634.92 1450.39 1640.73 1450.39 Z\" fill=\"#000000\" fill-rule=\"nonzero\" fill-opacity=\"1\" /><path clip-path=\"url(#clip440)\" d=\"M1660.9 1479.7 L1665.78 1479.7 L1665.78 1485.58 L1660.9 1485.58 L1660.9 1479.7 Z\" fill=\"#000000\" fill-rule=\"nonzero\" fill-opacity=\"1\" /><path clip-path=\"url(#clip440)\" d=\"M1686.54 1466.44 Q1683.4 1466.44 1681.54 1468.59 Q1679.72 1470.74 1679.72 1474.49 Q1679.72 1478.22 1681.54 1480.39 Q1683.4 1482.55 1686.54 1482.55 Q1689.69 1482.55 1691.52 1480.39 Q1693.37 1478.22 1693.37 1474.49 Q1693.37 1470.74 1691.52 1468.59 Q1689.69 1466.44 1686.54 1466.44 M1695.83 1451.78 L1695.83 1456.04 Q1694.07 1455.21 1692.26 1454.77 Q1690.48 1454.33 1688.72 1454.33 Q1684.09 1454.33 1681.64 1457.45 Q1679.21 1460.58 1678.86 1466.9 Q1680.22 1464.89 1682.29 1463.82 Q1684.35 1462.73 1686.82 1462.73 Q1692.03 1462.73 1695.04 1465.9 Q1698.07 1469.05 1698.07 1474.49 Q1698.07 1479.82 1694.92 1483.03 Q1691.78 1486.25 1686.54 1486.25 Q1680.55 1486.25 1677.38 1481.67 Q1674.21 1477.06 1674.21 1468.33 Q1674.21 1460.14 1678.1 1455.28 Q1681.98 1450.39 1688.54 1450.39 Q1690.29 1450.39 1692.08 1450.74 Q1693.88 1451.09 1695.83 1451.78 Z\" fill=\"#000000\" fill-rule=\"nonzero\" fill-opacity=\"1\" /><path clip-path=\"url(#clip440)\" d=\"M2105.57 1454.1 Q2101.96 1454.1 2100.13 1457.66 Q2098.32 1461.2 2098.32 1468.33 Q2098.32 1475.44 2100.13 1479.01 Q2101.96 1482.55 2105.57 1482.55 Q2109.2 1482.55 2111.01 1479.01 Q2112.84 1475.44 2112.84 1468.33 Q2112.84 1461.2 2111.01 1457.66 Q2109.2 1454.1 2105.57 1454.1 M2105.57 1450.39 Q2111.38 1450.39 2114.43 1455 Q2117.51 1459.58 2117.51 1468.33 Q2117.51 1477.06 2114.43 1481.67 Q2111.38 1486.25 2105.57 1486.25 Q2099.76 1486.25 2096.68 1481.67 Q2093.62 1477.06 2093.62 1468.33 Q2093.62 1459.58 2096.68 1455 Q2099.76 1450.39 2105.57 1450.39 Z\" fill=\"#000000\" fill-rule=\"nonzero\" fill-opacity=\"1\" /><path clip-path=\"url(#clip440)\" d=\"M2125.73 1479.7 L2130.61 1479.7 L2130.61 1485.58 L2125.73 1485.58 L2125.73 1479.7 Z\" fill=\"#000000\" fill-rule=\"nonzero\" fill-opacity=\"1\" /><path clip-path=\"url(#clip440)\" d=\"M2150.8 1469.17 Q2147.47 1469.17 2145.55 1470.95 Q2143.65 1472.73 2143.65 1475.86 Q2143.65 1478.98 2145.55 1480.77 Q2147.47 1482.55 2150.8 1482.55 Q2154.13 1482.55 2156.05 1480.77 Q2157.98 1478.96 2157.98 1475.86 Q2157.98 1472.73 2156.05 1470.95 Q2154.16 1469.17 2150.8 1469.17 M2146.12 1467.18 Q2143.11 1466.44 2141.42 1464.38 Q2139.76 1462.32 2139.76 1459.35 Q2139.76 1455.21 2142.7 1452.8 Q2145.66 1450.39 2150.8 1450.39 Q2155.96 1450.39 2158.9 1452.8 Q2161.84 1455.21 2161.84 1459.35 Q2161.84 1462.32 2160.15 1464.38 Q2158.48 1466.44 2155.5 1467.18 Q2158.88 1467.96 2160.75 1470.26 Q2162.65 1472.55 2162.65 1475.86 Q2162.65 1480.88 2159.57 1483.57 Q2156.52 1486.25 2150.8 1486.25 Q2145.08 1486.25 2142 1483.57 Q2138.95 1480.88 2138.95 1475.86 Q2138.95 1472.55 2140.85 1470.26 Q2142.74 1467.96 2146.12 1467.18 M2144.41 1459.79 Q2144.41 1462.48 2146.08 1463.98 Q2147.77 1465.49 2150.8 1465.49 Q2153.81 1465.49 2155.5 1463.98 Q2157.21 1462.48 2157.21 1459.79 Q2157.21 1457.11 2155.5 1455.6 Q2153.81 1454.1 2150.8 1454.1 Q2147.77 1454.1 2146.08 1455.6 Q2144.41 1457.11 2144.41 1459.79 Z\" fill=\"#000000\" fill-rule=\"nonzero\" fill-opacity=\"1\" /><path clip-path=\"url(#clip440)\" d=\"M1193.28 1520.52 L1200.18 1520.52 L1211.99 1538.19 L1223.86 1520.52 L1230.77 1520.52 L1215.49 1543.34 L1231.79 1568.04 L1224.88 1568.04 L1211.51 1547.83 L1198.05 1568.04 L1191.11 1568.04 L1208.08 1542.68 L1193.28 1520.52 Z\" fill=\"#000000\" fill-rule=\"nonzero\" fill-opacity=\"1\" /><path clip-path=\"url(#clip440)\" d=\"M1233.76 1547.58 L1250.92 1547.58 L1250.92 1552.8 L1233.76 1552.8 L1233.76 1547.58 Z\" fill=\"#000000\" fill-rule=\"nonzero\" fill-opacity=\"1\" /><path clip-path=\"url(#clip440)\" d=\"M1276.44 1550.12 Q1269.35 1550.12 1266.61 1551.75 Q1263.87 1553.37 1263.87 1557.29 Q1263.87 1560.4 1265.91 1562.25 Q1267.98 1564.07 1271.51 1564.07 Q1276.38 1564.07 1279.31 1560.63 Q1282.27 1557.16 1282.27 1551.43 L1282.27 1550.12 L1276.44 1550.12 M1288.13 1547.71 L1288.13 1568.04 L1282.27 1568.04 L1282.27 1562.63 Q1280.26 1565.88 1277.27 1567.44 Q1274.28 1568.97 1269.95 1568.97 Q1264.48 1568.97 1261.23 1565.91 Q1258.02 1562.82 1258.02 1557.67 Q1258.02 1551.65 1262.03 1548.6 Q1266.07 1545.54 1274.06 1545.54 L1282.27 1545.54 L1282.27 1544.97 Q1282.27 1540.93 1279.6 1538.73 Q1276.95 1536.5 1272.15 1536.5 Q1269.09 1536.5 1266.2 1537.23 Q1263.3 1537.97 1260.63 1539.43 L1260.63 1534.02 Q1263.84 1532.78 1266.86 1532.17 Q1269.89 1531.54 1272.75 1531.54 Q1280.49 1531.54 1284.31 1535.55 Q1288.13 1539.56 1288.13 1547.71 Z\" fill=\"#000000\" fill-rule=\"nonzero\" fill-opacity=\"1\" /><path clip-path=\"url(#clip440)\" d=\"M1329.82 1532.4 L1316.93 1549.74 L1330.49 1568.04 L1323.58 1568.04 L1313.21 1554.04 L1302.83 1568.04 L1295.92 1568.04 L1309.77 1549.39 L1297.1 1532.4 L1304.01 1532.4 L1313.46 1545.1 L1322.91 1532.4 L1329.82 1532.4 Z\" fill=\"#000000\" fill-rule=\"nonzero\" fill-opacity=\"1\" /><path clip-path=\"url(#clip440)\" d=\"M1338.76 1532.4 L1344.62 1532.4 L1344.62 1568.04 L1338.76 1568.04 L1338.76 1532.4 M1338.76 1518.52 L1344.62 1518.52 L1344.62 1525.93 L1338.76 1525.93 L1338.76 1518.52 Z\" fill=\"#000000\" fill-rule=\"nonzero\" fill-opacity=\"1\" /><path clip-path=\"url(#clip440)\" d=\"M1379.6 1533.45 L1379.6 1538.98 Q1377.12 1537.71 1374.44 1537.07 Q1371.77 1536.44 1368.91 1536.44 Q1364.55 1536.44 1362.35 1537.77 Q1360.19 1539.11 1360.19 1541.79 Q1360.19 1543.82 1361.74 1545 Q1363.3 1546.15 1368.01 1547.2 L1370.02 1547.64 Q1376.26 1548.98 1378.87 1551.43 Q1381.51 1553.85 1381.51 1558.21 Q1381.51 1563.17 1377.56 1566.07 Q1373.65 1568.97 1366.77 1568.97 Q1363.91 1568.97 1360.79 1568.39 Q1357.7 1567.85 1354.27 1566.74 L1354.27 1560.69 Q1357.51 1562.38 1360.66 1563.24 Q1363.81 1564.07 1366.9 1564.07 Q1371.04 1564.07 1373.27 1562.66 Q1375.49 1561.23 1375.49 1558.65 Q1375.49 1556.27 1373.87 1554.99 Q1372.28 1553.72 1366.84 1552.54 L1364.8 1552.07 Q1359.36 1550.92 1356.94 1548.56 Q1354.52 1546.18 1354.52 1542.04 Q1354.52 1537.01 1358.08 1534.27 Q1361.65 1531.54 1368.21 1531.54 Q1371.45 1531.54 1374.32 1532.01 Q1377.18 1532.49 1379.6 1533.45 Z\" fill=\"#000000\" fill-rule=\"nonzero\" fill-opacity=\"1\" /><polyline clip-path=\"url(#clip440)\" style=\"stroke:#000000; stroke-linecap:round; stroke-linejoin:round; stroke-width:4; stroke-opacity:1; fill:none\" points=\"219.866,1423.18 219.866,123.472 \"/>\n",
       "<polyline clip-path=\"url(#clip440)\" style=\"stroke:#000000; stroke-linecap:round; stroke-linejoin:round; stroke-width:4; stroke-opacity:1; fill:none\" points=\"219.866,1197.98 238.764,1197.98 \"/>\n",
       "<polyline clip-path=\"url(#clip440)\" style=\"stroke:#000000; stroke-linecap:round; stroke-linejoin:round; stroke-width:4; stroke-opacity:1; fill:none\" points=\"219.866,882.955 238.764,882.955 \"/>\n",
       "<polyline clip-path=\"url(#clip440)\" style=\"stroke:#000000; stroke-linecap:round; stroke-linejoin:round; stroke-width:4; stroke-opacity:1; fill:none\" points=\"219.866,567.926 238.764,567.926 \"/>\n",
       "<polyline clip-path=\"url(#clip440)\" style=\"stroke:#000000; stroke-linecap:round; stroke-linejoin:round; stroke-width:4; stroke-opacity:1; fill:none\" points=\"219.866,252.898 238.764,252.898 \"/>\n",
       "<path clip-path=\"url(#clip440)\" d=\"M128.288 1183.78 Q124.677 1183.78 122.848 1187.35 Q121.043 1190.89 121.043 1198.02 Q121.043 1205.13 122.848 1208.69 Q124.677 1212.23 128.288 1212.23 Q131.922 1212.23 133.728 1208.69 Q135.556 1205.13 135.556 1198.02 Q135.556 1190.89 133.728 1187.35 Q131.922 1183.78 128.288 1183.78 M128.288 1180.08 Q134.098 1180.08 137.154 1184.69 Q140.232 1189.27 140.232 1198.02 Q140.232 1206.75 137.154 1211.35 Q134.098 1215.94 128.288 1215.94 Q122.478 1215.94 119.399 1211.35 Q116.343 1206.75 116.343 1198.02 Q116.343 1189.27 119.399 1184.69 Q122.478 1180.08 128.288 1180.08 Z\" fill=\"#000000\" fill-rule=\"nonzero\" fill-opacity=\"1\" /><path clip-path=\"url(#clip440)\" d=\"M148.45 1209.38 L153.334 1209.38 L153.334 1215.26 L148.45 1215.26 L148.45 1209.38 Z\" fill=\"#000000\" fill-rule=\"nonzero\" fill-opacity=\"1\" /><path clip-path=\"url(#clip440)\" d=\"M167.547 1211.33 L183.866 1211.33 L183.866 1215.26 L161.922 1215.26 L161.922 1211.33 Q164.584 1208.57 169.167 1203.94 Q173.774 1199.29 174.954 1197.95 Q177.2 1195.43 178.079 1193.69 Q178.982 1191.93 178.982 1190.24 Q178.982 1187.49 177.038 1185.75 Q175.116 1184.01 172.014 1184.01 Q169.815 1184.01 167.362 1184.78 Q164.931 1185.54 162.153 1187.09 L162.153 1182.37 Q164.977 1181.24 167.431 1180.66 Q169.885 1180.08 171.922 1180.08 Q177.292 1180.08 180.487 1182.76 Q183.681 1185.45 183.681 1189.94 Q183.681 1192.07 182.871 1193.99 Q182.084 1195.89 179.977 1198.48 Q179.399 1199.15 176.297 1202.37 Q173.195 1205.57 167.547 1211.33 Z\" fill=\"#000000\" fill-rule=\"nonzero\" fill-opacity=\"1\" /><path clip-path=\"url(#clip440)\" d=\"M126.205 868.754 Q122.593 868.754 120.765 872.319 Q118.959 875.86 118.959 882.99 Q118.959 890.096 120.765 893.661 Q122.593 897.203 126.205 897.203 Q129.839 897.203 131.644 893.661 Q133.473 890.096 133.473 882.99 Q133.473 875.86 131.644 872.319 Q129.839 868.754 126.205 868.754 M126.205 865.05 Q132.015 865.05 135.07 869.657 Q138.149 874.24 138.149 882.99 Q138.149 891.717 135.07 896.323 Q132.015 900.907 126.205 900.907 Q120.394 900.907 117.316 896.323 Q114.26 891.717 114.26 882.99 Q114.26 874.24 117.316 869.657 Q120.394 865.05 126.205 865.05 Z\" fill=\"#000000\" fill-rule=\"nonzero\" fill-opacity=\"1\" /><path clip-path=\"url(#clip440)\" d=\"M146.366 894.356 L151.251 894.356 L151.251 900.235 L146.366 900.235 L146.366 894.356 Z\" fill=\"#000000\" fill-rule=\"nonzero\" fill-opacity=\"1\" /><path clip-path=\"url(#clip440)\" d=\"M174.283 869.749 L162.477 888.198 L174.283 888.198 L174.283 869.749 M173.056 865.675 L178.936 865.675 L178.936 888.198 L183.866 888.198 L183.866 892.087 L178.936 892.087 L178.936 900.235 L174.283 900.235 L174.283 892.087 L158.681 892.087 L158.681 887.573 L173.056 865.675 Z\" fill=\"#000000\" fill-rule=\"nonzero\" fill-opacity=\"1\" /><path clip-path=\"url(#clip440)\" d=\"M126.529 553.725 Q122.918 553.725 121.089 557.29 Q119.283 560.832 119.283 567.961 Q119.283 575.068 121.089 578.632 Q122.918 582.174 126.529 582.174 Q130.163 582.174 131.968 578.632 Q133.797 575.068 133.797 567.961 Q133.797 560.832 131.968 557.29 Q130.163 553.725 126.529 553.725 M126.529 550.021 Q132.339 550.021 135.394 554.628 Q138.473 559.211 138.473 567.961 Q138.473 576.688 135.394 581.294 Q132.339 585.878 126.529 585.878 Q120.718 585.878 117.64 581.294 Q114.584 576.688 114.584 567.961 Q114.584 559.211 117.64 554.628 Q120.718 550.021 126.529 550.021 Z\" fill=\"#000000\" fill-rule=\"nonzero\" fill-opacity=\"1\" /><path clip-path=\"url(#clip440)\" d=\"M146.691 579.327 L151.575 579.327 L151.575 585.206 L146.691 585.206 L146.691 579.327 Z\" fill=\"#000000\" fill-rule=\"nonzero\" fill-opacity=\"1\" /><path clip-path=\"url(#clip440)\" d=\"M172.339 566.063 Q169.19 566.063 167.339 568.216 Q165.51 570.369 165.51 574.118 Q165.51 577.845 167.339 580.021 Q169.19 582.174 172.339 582.174 Q175.487 582.174 177.315 580.021 Q179.167 577.845 179.167 574.118 Q179.167 570.369 177.315 568.216 Q175.487 566.063 172.339 566.063 M181.621 551.41 L181.621 555.67 Q179.862 554.836 178.056 554.396 Q176.274 553.957 174.514 553.957 Q169.885 553.957 167.431 557.082 Q165.001 560.207 164.653 566.526 Q166.019 564.512 168.079 563.447 Q170.139 562.359 172.616 562.359 Q177.825 562.359 180.834 565.531 Q183.866 568.679 183.866 574.118 Q183.866 579.443 180.718 582.66 Q177.57 585.878 172.339 585.878 Q166.343 585.878 163.172 581.294 Q160.001 576.688 160.001 567.961 Q160.001 559.767 163.89 554.906 Q167.778 550.021 174.329 550.021 Q176.089 550.021 177.871 550.369 Q179.676 550.716 181.621 551.41 Z\" fill=\"#000000\" fill-rule=\"nonzero\" fill-opacity=\"1\" /><path clip-path=\"url(#clip440)\" d=\"M126.783 238.696 Q123.172 238.696 121.343 242.261 Q119.538 245.803 119.538 252.932 Q119.538 260.039 121.343 263.603 Q123.172 267.145 126.783 267.145 Q130.417 267.145 132.223 263.603 Q134.052 260.039 134.052 252.932 Q134.052 245.803 132.223 242.261 Q130.417 238.696 126.783 238.696 M126.783 234.993 Q132.593 234.993 135.649 239.599 Q138.728 244.182 138.728 252.932 Q138.728 261.659 135.649 266.265 Q132.593 270.849 126.783 270.849 Q120.973 270.849 117.894 266.265 Q114.839 261.659 114.839 252.932 Q114.839 244.182 117.894 239.599 Q120.973 234.993 126.783 234.993 Z\" fill=\"#000000\" fill-rule=\"nonzero\" fill-opacity=\"1\" /><path clip-path=\"url(#clip440)\" d=\"M146.945 264.298 L151.829 264.298 L151.829 270.178 L146.945 270.178 L146.945 264.298 Z\" fill=\"#000000\" fill-rule=\"nonzero\" fill-opacity=\"1\" /><path clip-path=\"url(#clip440)\" d=\"M172.014 253.766 Q168.681 253.766 166.76 255.548 Q164.862 257.33 164.862 260.455 Q164.862 263.58 166.76 265.363 Q168.681 267.145 172.014 267.145 Q175.348 267.145 177.269 265.363 Q179.19 263.557 179.19 260.455 Q179.19 257.33 177.269 255.548 Q175.371 253.766 172.014 253.766 M167.339 251.775 Q164.329 251.034 162.64 248.974 Q160.973 246.914 160.973 243.951 Q160.973 239.807 163.913 237.4 Q166.876 234.993 172.014 234.993 Q177.176 234.993 180.116 237.4 Q183.056 239.807 183.056 243.951 Q183.056 246.914 181.366 248.974 Q179.7 251.034 176.714 251.775 Q180.093 252.562 181.968 254.854 Q183.866 257.145 183.866 260.455 Q183.866 265.478 180.788 268.164 Q177.732 270.849 172.014 270.849 Q166.297 270.849 163.218 268.164 Q160.163 265.478 160.163 260.455 Q160.163 257.145 162.061 254.854 Q163.959 252.562 167.339 251.775 M165.626 244.391 Q165.626 247.076 167.292 248.58 Q168.982 250.085 172.014 250.085 Q175.024 250.085 176.714 248.58 Q178.426 247.076 178.426 244.391 Q178.426 241.705 176.714 240.201 Q175.024 238.696 172.014 238.696 Q168.982 238.696 167.292 240.201 Q165.626 241.705 165.626 244.391 Z\" fill=\"#000000\" fill-rule=\"nonzero\" fill-opacity=\"1\" /><path clip-path=\"url(#clip440)\" d=\"M16.4842 864.897 L16.4842 857.99 L36.0269 844.813 L16.4842 831.731 L16.4842 824.825 L41.3741 841.63 L64.0042 841.63 L64.0042 848.091 L41.3741 848.091 L16.4842 864.897 Z\" fill=\"#000000\" fill-rule=\"nonzero\" fill-opacity=\"1\" /><path clip-path=\"url(#clip440)\" d=\"M43.5384 829.503 L43.5384 812.348 L48.7583 812.348 L48.7583 829.503 L43.5384 829.503 Z\" fill=\"#000000\" fill-rule=\"nonzero\" fill-opacity=\"1\" /><path clip-path=\"url(#clip440)\" d=\"M46.0847 786.821 Q46.0847 793.919 47.7079 796.656 Q49.3312 799.394 53.2461 799.394 Q56.3653 799.394 58.2114 797.357 Q60.0256 795.288 60.0256 791.755 Q60.0256 786.885 56.5881 783.957 Q53.1188 780.997 47.3897 780.997 L46.0847 780.997 L46.0847 786.821 M43.6657 775.14 L64.0042 775.14 L64.0042 780.997 L58.5933 780.997 Q61.8398 783.002 63.3994 785.994 Q64.9272 788.986 64.9272 793.314 Q64.9272 798.789 61.8716 802.035 Q58.7843 805.25 53.6281 805.25 Q47.6125 805.25 44.5569 801.24 Q41.5014 797.197 41.5014 789.208 L41.5014 780.997 L40.9285 780.997 Q36.8862 780.997 34.6901 783.67 Q32.4621 786.312 32.4621 791.118 Q32.4621 794.174 33.1941 797.07 Q33.9262 799.966 35.3903 802.64 L29.9795 802.64 Q28.7381 799.425 28.1334 796.402 Q27.4968 793.378 27.4968 790.513 Q27.4968 782.779 31.5072 778.96 Q35.5176 775.14 43.6657 775.14 Z\" fill=\"#000000\" fill-rule=\"nonzero\" fill-opacity=\"1\" /><path clip-path=\"url(#clip440)\" d=\"M28.3562 733.445 L45.7028 746.335 L64.0042 732.776 L64.0042 739.683 L49.9996 750.059 L64.0042 760.435 L64.0042 767.342 L45.3526 753.497 L28.3562 766.165 L28.3562 759.258 L41.0558 749.805 L28.3562 740.352 L28.3562 733.445 Z\" fill=\"#000000\" fill-rule=\"nonzero\" fill-opacity=\"1\" /><path clip-path=\"url(#clip440)\" d=\"M28.3562 724.501 L28.3562 718.645 L64.0042 718.645 L64.0042 724.501 L28.3562 724.501 M14.479 724.501 L14.479 718.645 L21.895 718.645 L21.895 724.501 L14.479 724.501 Z\" fill=\"#000000\" fill-rule=\"nonzero\" fill-opacity=\"1\" /><path clip-path=\"url(#clip440)\" d=\"M29.4065 683.665 L34.9447 683.665 Q33.6716 686.148 33.035 688.821 Q32.3984 691.495 32.3984 694.359 Q32.3984 698.72 33.7352 700.916 Q35.072 703.08 37.7456 703.08 Q39.7826 703.08 40.9603 701.521 Q42.1061 699.961 43.1565 695.251 L43.6021 693.245 Q44.9389 687.007 47.3897 684.397 Q49.8086 681.755 54.1691 681.755 Q59.1344 681.755 62.0308 685.702 Q64.9272 689.617 64.9272 696.492 Q64.9272 699.356 64.3543 702.476 Q63.8132 705.563 62.6992 709.001 L56.6518 709.001 Q58.3387 705.754 59.198 702.603 Q60.0256 699.452 60.0256 696.365 Q60.0256 692.227 58.6251 689.999 Q57.1929 687.771 54.6147 687.771 Q52.2276 687.771 50.9545 689.394 Q49.6813 690.986 48.5037 696.428 L48.0262 698.465 Q46.8804 703.908 44.5251 706.327 Q42.138 708.746 38.0002 708.746 Q32.9713 708.746 30.2341 705.181 Q27.4968 701.616 27.4968 695.06 Q27.4968 691.813 27.9743 688.949 Q28.4517 686.084 29.4065 683.665 Z\" fill=\"#000000\" fill-rule=\"nonzero\" fill-opacity=\"1\" /><path clip-path=\"url(#clip440)\" d=\"M1087.94 14.0809 L1087.94 22.0612 Q1083.28 19.8332 1079.15 18.7395 Q1075.02 17.6457 1071.17 17.6457 Q1064.48 17.6457 1060.84 20.2383 Q1057.23 22.8309 1057.23 27.611 Q1057.23 31.6214 1059.62 33.6873 Q1062.05 35.7128 1068.78 36.9686 L1073.72 37.9813 Q1082.87 39.7232 1087.21 44.1387 Q1091.58 48.5136 1091.58 55.8863 Q1091.58 64.6767 1085.67 69.2137 Q1079.8 73.7508 1068.41 73.7508 Q1064.12 73.7508 1059.26 72.7785 Q1054.44 71.8063 1049.25 69.9024 L1049.25 61.4765 Q1054.23 64.2716 1059.01 65.6895 Q1063.79 67.1073 1068.41 67.1073 Q1075.42 67.1073 1079.23 64.3527 Q1083.04 61.598 1083.04 56.4939 Q1083.04 52.0379 1080.28 49.5264 Q1077.57 47.0148 1071.33 45.759 L1066.35 44.7868 Q1057.19 42.9639 1053.1 39.075 Q1049.01 35.1862 1049.01 28.2591 Q1049.01 20.2383 1054.64 15.6203 Q1060.31 11.0023 1070.24 11.0023 Q1074.49 11.0023 1078.9 11.7719 Q1083.32 12.5416 1087.94 14.0809 Z\" fill=\"#000000\" fill-rule=\"nonzero\" fill-opacity=\"1\" /><path clip-path=\"url(#clip440)\" d=\"M1136.67 28.9478 L1136.67 35.9153 Q1133.51 34.1734 1130.31 33.3227 Q1127.15 32.4315 1123.91 32.4315 Q1116.66 32.4315 1112.65 37.0496 Q1108.64 41.6271 1108.64 49.9314 Q1108.64 58.2358 1112.65 62.8538 Q1116.66 67.4314 1123.91 67.4314 Q1127.15 67.4314 1130.31 66.5807 Q1133.51 65.6895 1136.67 63.9476 L1136.67 70.8341 Q1133.55 72.2924 1130.19 73.0216 Q1126.87 73.7508 1123.1 73.7508 Q1112.85 73.7508 1106.82 67.3098 Q1100.78 60.8689 1100.78 49.9314 Q1100.78 38.832 1106.86 32.472 Q1112.97 26.1121 1123.59 26.1121 Q1127.03 26.1121 1130.31 26.8413 Q1133.59 27.5299 1136.67 28.9478 Z\" fill=\"#000000\" fill-rule=\"nonzero\" fill-opacity=\"1\" /><path clip-path=\"url(#clip440)\" d=\"M1170.25 49.7694 Q1161.22 49.7694 1157.74 51.8354 Q1154.25 53.9013 1154.25 58.8839 Q1154.25 62.8538 1156.84 65.2034 Q1159.48 67.5124 1163.97 67.5124 Q1170.17 67.5124 1173.9 63.1374 Q1177.67 58.7219 1177.67 51.4303 L1177.67 49.7694 L1170.25 49.7694 M1185.12 46.6907 L1185.12 72.576 L1177.67 72.576 L1177.67 65.6895 Q1175.11 69.8214 1171.31 71.8063 Q1167.5 73.7508 1161.99 73.7508 Q1155.02 73.7508 1150.89 69.8619 Q1146.8 65.9325 1146.8 59.3701 Q1146.8 51.7138 1151.9 47.825 Q1157.05 43.9361 1167.21 43.9361 L1177.67 43.9361 L1177.67 43.2069 Q1177.67 38.0623 1174.26 35.2672 Q1170.9 32.4315 1164.78 32.4315 Q1160.9 32.4315 1157.21 33.3632 Q1153.52 34.295 1150.12 36.1584 L1150.12 29.2718 Q1154.21 27.692 1158.06 26.9223 Q1161.91 26.1121 1165.55 26.1121 Q1175.4 26.1121 1180.26 31.2163 Q1185.12 36.3204 1185.12 46.6907 Z\" fill=\"#000000\" fill-rule=\"nonzero\" fill-opacity=\"1\" /><path clip-path=\"url(#clip440)\" d=\"M1207.85 14.324 L1207.85 27.2059 L1223.2 27.2059 L1223.2 32.9987 L1207.85 32.9987 L1207.85 57.6282 Q1207.85 63.1779 1209.34 64.7578 Q1210.88 66.3376 1215.54 66.3376 L1223.2 66.3376 L1223.2 72.576 L1215.54 72.576 Q1206.91 72.576 1203.63 69.3758 Q1200.35 66.1351 1200.35 57.6282 L1200.35 32.9987 L1194.88 32.9987 L1194.88 27.2059 L1200.35 27.2059 L1200.35 14.324 L1207.85 14.324 Z\" fill=\"#000000\" fill-rule=\"nonzero\" fill-opacity=\"1\" /><path clip-path=\"url(#clip440)\" d=\"M1240.37 14.324 L1240.37 27.2059 L1255.73 27.2059 L1255.73 32.9987 L1240.37 32.9987 L1240.37 57.6282 Q1240.37 63.1779 1241.87 64.7578 Q1243.41 66.3376 1248.07 66.3376 L1255.73 66.3376 L1255.73 72.576 L1248.07 72.576 Q1239.44 72.576 1236.16 69.3758 Q1232.88 66.1351 1232.88 57.6282 L1232.88 32.9987 L1227.41 32.9987 L1227.41 27.2059 L1232.88 27.2059 L1232.88 14.324 L1240.37 14.324 Z\" fill=\"#000000\" fill-rule=\"nonzero\" fill-opacity=\"1\" /><path clip-path=\"url(#clip440)\" d=\"M1304.34 48.0275 L1304.34 51.6733 L1270.07 51.6733 Q1270.55 59.3701 1274.68 63.421 Q1278.86 67.4314 1286.27 67.4314 Q1290.56 67.4314 1294.57 66.3781 Q1298.63 65.3249 1302.6 63.2184 L1302.6 70.267 Q1298.59 71.9684 1294.37 72.8596 Q1290.16 73.7508 1285.82 73.7508 Q1274.97 73.7508 1268.61 67.4314 Q1262.29 61.1119 1262.29 50.3365 Q1262.29 39.1965 1268.28 32.6746 Q1274.32 26.1121 1284.53 26.1121 Q1293.68 26.1121 1298.99 32.0264 Q1304.34 37.9003 1304.34 48.0275 M1296.88 45.84 Q1296.8 39.7232 1293.44 36.0774 Q1290.12 32.4315 1284.61 32.4315 Q1278.37 32.4315 1274.6 35.9558 Q1270.88 39.4801 1270.31 45.8805 L1296.88 45.84 Z\" fill=\"#000000\" fill-rule=\"nonzero\" fill-opacity=\"1\" /><path clip-path=\"url(#clip440)\" d=\"M1342.86 34.1734 Q1341.61 33.4443 1340.11 33.1202 Q1338.65 32.7556 1336.87 32.7556 Q1330.55 32.7556 1327.14 36.8875 Q1323.78 40.9789 1323.78 48.6757 L1323.78 72.576 L1316.29 72.576 L1316.29 27.2059 L1323.78 27.2059 L1323.78 34.2544 Q1326.13 30.1225 1329.9 28.1376 Q1333.67 26.1121 1339.05 26.1121 Q1339.82 26.1121 1340.76 26.2337 Q1341.69 26.3147 1342.82 26.5172 L1342.86 34.1734 Z\" fill=\"#000000\" fill-rule=\"nonzero\" fill-opacity=\"1\" /><path clip-path=\"url(#clip440)\" d=\"M1385.56 18.8205 L1385.56 41.5461 L1395.85 41.5461 Q1401.56 41.5461 1404.68 38.5889 Q1407.8 35.6318 1407.8 30.163 Q1407.8 24.7348 1404.68 21.7777 Q1401.56 18.8205 1395.85 18.8205 L1385.56 18.8205 M1377.38 12.096 L1395.85 12.096 Q1406.02 12.096 1411.2 16.714 Q1416.43 21.2916 1416.43 30.163 Q1416.43 39.1155 1411.2 43.6931 Q1406.02 48.2706 1395.85 48.2706 L1385.56 48.2706 L1385.56 72.576 L1377.38 72.576 L1377.38 12.096 Z\" fill=\"#000000\" fill-rule=\"nonzero\" fill-opacity=\"1\" /><path clip-path=\"url(#clip440)\" d=\"M1427.08 9.54393 L1434.53 9.54393 L1434.53 72.576 L1427.08 72.576 L1427.08 9.54393 Z\" fill=\"#000000\" fill-rule=\"nonzero\" fill-opacity=\"1\" /><path clip-path=\"url(#clip440)\" d=\"M1467.71 32.4315 Q1461.72 32.4315 1458.23 37.1306 Q1454.75 41.7891 1454.75 49.9314 Q1454.75 58.0738 1458.19 62.7728 Q1461.67 67.4314 1467.71 67.4314 Q1473.67 67.4314 1477.15 62.7323 Q1480.63 58.0333 1480.63 49.9314 Q1480.63 41.8701 1477.15 37.1711 Q1473.67 32.4315 1467.71 32.4315 M1467.71 26.1121 Q1477.43 26.1121 1482.98 32.4315 Q1488.53 38.7509 1488.53 49.9314 Q1488.53 61.0714 1482.98 67.4314 Q1477.43 73.7508 1467.71 73.7508 Q1457.95 73.7508 1452.4 67.4314 Q1446.89 61.0714 1446.89 49.9314 Q1446.89 38.7509 1452.4 32.4315 Q1457.95 26.1121 1467.71 26.1121 Z\" fill=\"#000000\" fill-rule=\"nonzero\" fill-opacity=\"1\" /><path clip-path=\"url(#clip440)\" d=\"M1508.26 14.324 L1508.26 27.2059 L1523.61 27.2059 L1523.61 32.9987 L1508.26 32.9987 L1508.26 57.6282 Q1508.26 63.1779 1509.76 64.7578 Q1511.3 66.3376 1515.96 66.3376 L1523.61 66.3376 L1523.61 72.576 L1515.96 72.576 Q1507.33 72.576 1504.05 69.3758 Q1500.77 66.1351 1500.77 57.6282 L1500.77 32.9987 L1495.3 32.9987 L1495.3 27.2059 L1500.77 27.2059 L1500.77 14.324 L1508.26 14.324 Z\" fill=\"#000000\" fill-rule=\"nonzero\" fill-opacity=\"1\" /><circle clip-path=\"url(#clip442)\" cx=\"1108.14\" cy=\"1319.23\" r=\"14.4\" fill=\"#009af9\" fill-rule=\"evenodd\" fill-opacity=\"1\" stroke=\"#000000\" stroke-opacity=\"1\" stroke-width=\"3.2\"/>\n",
       "<circle clip-path=\"url(#clip442)\" cx=\"293.71\" cy=\"666.905\" r=\"14.4\" fill=\"#009af9\" fill-rule=\"evenodd\" fill-opacity=\"1\" stroke=\"#000000\" stroke-opacity=\"1\" stroke-width=\"3.2\"/>\n",
       "<circle clip-path=\"url(#clip442)\" cx=\"1771.62\" cy=\"1048.01\" r=\"14.4\" fill=\"#009af9\" fill-rule=\"evenodd\" fill-opacity=\"1\" stroke=\"#000000\" stroke-opacity=\"1\" stroke-width=\"3.2\"/>\n",
       "<circle clip-path=\"url(#clip442)\" cx=\"595.451\" cy=\"1386.4\" r=\"14.4\" fill=\"#009af9\" fill-rule=\"evenodd\" fill-opacity=\"1\" stroke=\"#000000\" stroke-opacity=\"1\" stroke-width=\"3.2\"/>\n",
       "<circle clip-path=\"url(#clip442)\" cx=\"280.231\" cy=\"1080.61\" r=\"14.4\" fill=\"#009af9\" fill-rule=\"evenodd\" fill-opacity=\"1\" stroke=\"#000000\" stroke-opacity=\"1\" stroke-width=\"3.2\"/>\n",
       "<circle clip-path=\"url(#clip442)\" cx=\"1497.37\" cy=\"1173.46\" r=\"14.4\" fill=\"#009af9\" fill-rule=\"evenodd\" fill-opacity=\"1\" stroke=\"#000000\" stroke-opacity=\"1\" stroke-width=\"3.2\"/>\n",
       "<circle clip-path=\"url(#clip442)\" cx=\"1623.33\" cy=\"160.256\" r=\"14.4\" fill=\"#009af9\" fill-rule=\"evenodd\" fill-opacity=\"1\" stroke=\"#000000\" stroke-opacity=\"1\" stroke-width=\"3.2\"/>\n",
       "<circle clip-path=\"url(#clip442)\" cx=\"631.538\" cy=\"773.656\" r=\"14.4\" fill=\"#009af9\" fill-rule=\"evenodd\" fill-opacity=\"1\" stroke=\"#000000\" stroke-opacity=\"1\" stroke-width=\"3.2\"/>\n",
       "<circle clip-path=\"url(#clip442)\" cx=\"333.321\" cy=\"553.678\" r=\"14.4\" fill=\"#009af9\" fill-rule=\"evenodd\" fill-opacity=\"1\" stroke=\"#000000\" stroke-opacity=\"1\" stroke-width=\"3.2\"/>\n",
       "<circle clip-path=\"url(#clip442)\" cx=\"2292.39\" cy=\"1246.57\" r=\"14.4\" fill=\"#009af9\" fill-rule=\"evenodd\" fill-opacity=\"1\" stroke=\"#000000\" stroke-opacity=\"1\" stroke-width=\"3.2\"/>\n",
       "<path clip-path=\"url(#clip440)\" d=\"M1932.93 270.476 L2281.66 270.476 L2281.66 166.796 L1932.93 166.796  Z\" fill=\"#ffffff\" fill-rule=\"evenodd\" fill-opacity=\"1\"/>\n",
       "<polyline clip-path=\"url(#clip440)\" style=\"stroke:#000000; stroke-linecap:round; stroke-linejoin:round; stroke-width:4; stroke-opacity:1; fill:none\" points=\"1932.93,270.476 2281.66,270.476 2281.66,166.796 1932.93,166.796 1932.93,270.476 \"/>\n",
       "<circle clip-path=\"url(#clip440)\" cx=\"2027.73\" cy=\"218.636\" r=\"20.48\" fill=\"#009af9\" fill-rule=\"evenodd\" fill-opacity=\"1\" stroke=\"#000000\" stroke-opacity=\"1\" stroke-width=\"4.55111\"/>\n",
       "<path clip-path=\"url(#clip440)\" d=\"M2127.2 205.198 L2127.2 218.184 L2133.08 218.184 Q2136.34 218.184 2138.12 216.495 Q2139.91 214.805 2139.91 211.68 Q2139.91 208.578 2138.12 206.888 Q2136.34 205.198 2133.08 205.198 L2127.2 205.198 M2122.52 201.356 L2133.08 201.356 Q2138.89 201.356 2141.85 203.995 Q2144.84 206.61 2144.84 211.68 Q2144.84 216.795 2141.85 219.411 Q2138.89 222.027 2133.08 222.027 L2127.2 222.027 L2127.2 235.916 L2122.52 235.916 L2122.52 201.356 Z\" fill=\"#000000\" fill-rule=\"nonzero\" fill-opacity=\"1\" /><path clip-path=\"url(#clip440)\" d=\"M2159.28 212.976 Q2155.85 212.976 2153.86 215.661 Q2151.87 218.323 2151.87 222.976 Q2151.87 227.629 2153.84 230.314 Q2155.83 232.976 2159.28 232.976 Q2162.68 232.976 2164.67 230.291 Q2166.67 227.606 2166.67 222.976 Q2166.67 218.37 2164.67 215.684 Q2162.68 212.976 2159.28 212.976 M2159.28 209.365 Q2164.84 209.365 2168.01 212.976 Q2171.18 216.587 2171.18 222.976 Q2171.18 229.342 2168.01 232.976 Q2164.84 236.587 2159.28 236.587 Q2153.7 236.587 2150.53 232.976 Q2147.38 229.342 2147.38 222.976 Q2147.38 216.587 2150.53 212.976 Q2153.7 209.365 2159.28 209.365 Z\" fill=\"#000000\" fill-rule=\"nonzero\" fill-opacity=\"1\" /><path clip-path=\"url(#clip440)\" d=\"M2178.24 209.99 L2182.5 209.99 L2182.5 235.916 L2178.24 235.916 L2178.24 209.99 M2178.24 199.897 L2182.5 199.897 L2182.5 205.291 L2178.24 205.291 L2178.24 199.897 Z\" fill=\"#000000\" fill-rule=\"nonzero\" fill-opacity=\"1\" /><path clip-path=\"url(#clip440)\" d=\"M2212.96 220.268 L2212.96 235.916 L2208.7 235.916 L2208.7 220.407 Q2208.7 216.726 2207.27 214.897 Q2205.83 213.069 2202.96 213.069 Q2199.51 213.069 2197.52 215.268 Q2195.53 217.467 2195.53 221.263 L2195.53 235.916 L2191.25 235.916 L2191.25 209.99 L2195.53 209.99 L2195.53 214.018 Q2197.06 211.68 2199.12 210.522 Q2201.2 209.365 2203.91 209.365 Q2208.38 209.365 2210.67 212.143 Q2212.96 214.897 2212.96 220.268 Z\" fill=\"#000000\" fill-rule=\"nonzero\" fill-opacity=\"1\" /><path clip-path=\"url(#clip440)\" d=\"M2225.67 202.629 L2225.67 209.99 L2234.44 209.99 L2234.44 213.3 L2225.67 213.3 L2225.67 227.374 Q2225.67 230.545 2226.53 231.448 Q2227.41 232.351 2230.07 232.351 L2234.44 232.351 L2234.44 235.916 L2230.07 235.916 Q2225.14 235.916 2223.26 234.087 Q2221.39 232.235 2221.39 227.374 L2221.39 213.3 L2218.26 213.3 L2218.26 209.99 L2221.39 209.99 L2221.39 202.629 L2225.67 202.629 Z\" fill=\"#000000\" fill-rule=\"nonzero\" fill-opacity=\"1\" /><path clip-path=\"url(#clip440)\" d=\"M2256.57 210.754 L2256.57 214.782 Q2254.77 213.856 2252.82 213.393 Q2250.88 212.93 2248.79 212.93 Q2245.62 212.93 2244.03 213.902 Q2242.45 214.874 2242.45 216.819 Q2242.45 218.3 2243.59 219.157 Q2244.72 219.99 2248.15 220.754 L2249.6 221.078 Q2254.14 222.05 2256.04 223.832 Q2257.96 225.592 2257.96 228.763 Q2257.96 232.374 2255.09 234.481 Q2252.24 236.587 2247.24 236.587 Q2245.16 236.587 2242.89 236.17 Q2240.65 235.777 2238.15 234.967 L2238.15 230.569 Q2240.51 231.795 2242.8 232.42 Q2245.09 233.022 2247.34 233.022 Q2250.35 233.022 2251.97 232.004 Q2253.59 230.962 2253.59 229.087 Q2253.59 227.351 2252.41 226.425 Q2251.25 225.499 2247.29 224.643 L2245.81 224.295 Q2241.85 223.462 2240.09 221.749 Q2238.33 220.013 2238.33 217.004 Q2238.33 213.346 2240.92 211.356 Q2243.52 209.365 2248.28 209.365 Q2250.65 209.365 2252.73 209.712 Q2254.81 210.059 2256.57 210.754 Z\" fill=\"#000000\" fill-rule=\"nonzero\" fill-opacity=\"1\" /></svg>\n"
      ],
      "text/html": [
       "<?xml version=\"1.0\" encoding=\"utf-8\"?>\n",
       "<svg xmlns=\"http://www.w3.org/2000/svg\" xmlns:xlink=\"http://www.w3.org/1999/xlink\" width=\"600\" height=\"400\" viewBox=\"0 0 2400 1600\">\n",
       "<defs>\n",
       "  <clipPath id=\"clip490\">\n",
       "    <rect x=\"0\" y=\"0\" width=\"2400\" height=\"1600\"/>\n",
       "  </clipPath>\n",
       "</defs>\n",
       "<path clip-path=\"url(#clip490)\" d=\"M0 1600 L2400 1600 L2400 0 L0 0  Z\" fill=\"#ffffff\" fill-rule=\"evenodd\" fill-opacity=\"1\"/>\n",
       "<defs>\n",
       "  <clipPath id=\"clip491\">\n",
       "    <rect x=\"480\" y=\"0\" width=\"1681\" height=\"1600\"/>\n",
       "  </clipPath>\n",
       "</defs>\n",
       "<path clip-path=\"url(#clip490)\" d=\"M219.866 1423.18 L2352.76 1423.18 L2352.76 123.472 L219.866 123.472  Z\" fill=\"#ffffff\" fill-rule=\"evenodd\" fill-opacity=\"1\"/>\n",
       "<defs>\n",
       "  <clipPath id=\"clip492\">\n",
       "    <rect x=\"219\" y=\"123\" width=\"2134\" height=\"1301\"/>\n",
       "  </clipPath>\n",
       "</defs>\n",
       "<polyline clip-path=\"url(#clip492)\" style=\"stroke:#000000; stroke-linecap:round; stroke-linejoin:round; stroke-width:2; stroke-opacity:0.1; fill:none\" points=\"269.311,1423.18 269.311,123.472 \"/>\n",
       "<polyline clip-path=\"url(#clip492)\" style=\"stroke:#000000; stroke-linecap:round; stroke-linejoin:round; stroke-width:2; stroke-opacity:0.1; fill:none\" points=\"734.018,1423.18 734.018,123.472 \"/>\n",
       "<polyline clip-path=\"url(#clip492)\" style=\"stroke:#000000; stroke-linecap:round; stroke-linejoin:round; stroke-width:2; stroke-opacity:0.1; fill:none\" points=\"1198.72,1423.18 1198.72,123.472 \"/>\n",
       "<polyline clip-path=\"url(#clip492)\" style=\"stroke:#000000; stroke-linecap:round; stroke-linejoin:round; stroke-width:2; stroke-opacity:0.1; fill:none\" points=\"1663.43,1423.18 1663.43,123.472 \"/>\n",
       "<polyline clip-path=\"url(#clip492)\" style=\"stroke:#000000; stroke-linecap:round; stroke-linejoin:round; stroke-width:2; stroke-opacity:0.1; fill:none\" points=\"2128.14,1423.18 2128.14,123.472 \"/>\n",
       "<polyline clip-path=\"url(#clip492)\" style=\"stroke:#000000; stroke-linecap:round; stroke-linejoin:round; stroke-width:2; stroke-opacity:0.1; fill:none\" points=\"219.866,1197.98 2352.76,1197.98 \"/>\n",
       "<polyline clip-path=\"url(#clip492)\" style=\"stroke:#000000; stroke-linecap:round; stroke-linejoin:round; stroke-width:2; stroke-opacity:0.1; fill:none\" points=\"219.866,882.955 2352.76,882.955 \"/>\n",
       "<polyline clip-path=\"url(#clip492)\" style=\"stroke:#000000; stroke-linecap:round; stroke-linejoin:round; stroke-width:2; stroke-opacity:0.1; fill:none\" points=\"219.866,567.926 2352.76,567.926 \"/>\n",
       "<polyline clip-path=\"url(#clip492)\" style=\"stroke:#000000; stroke-linecap:round; stroke-linejoin:round; stroke-width:2; stroke-opacity:0.1; fill:none\" points=\"219.866,252.898 2352.76,252.898 \"/>\n",
       "<polyline clip-path=\"url(#clip490)\" style=\"stroke:#000000; stroke-linecap:round; stroke-linejoin:round; stroke-width:4; stroke-opacity:1; fill:none\" points=\"219.866,1423.18 2352.76,1423.18 \"/>\n",
       "<polyline clip-path=\"url(#clip490)\" style=\"stroke:#000000; stroke-linecap:round; stroke-linejoin:round; stroke-width:4; stroke-opacity:1; fill:none\" points=\"269.311,1423.18 269.311,1404.28 \"/>\n",
       "<polyline clip-path=\"url(#clip490)\" style=\"stroke:#000000; stroke-linecap:round; stroke-linejoin:round; stroke-width:4; stroke-opacity:1; fill:none\" points=\"734.018,1423.18 734.018,1404.28 \"/>\n",
       "<polyline clip-path=\"url(#clip490)\" style=\"stroke:#000000; stroke-linecap:round; stroke-linejoin:round; stroke-width:4; stroke-opacity:1; fill:none\" points=\"1198.72,1423.18 1198.72,1404.28 \"/>\n",
       "<polyline clip-path=\"url(#clip490)\" style=\"stroke:#000000; stroke-linecap:round; stroke-linejoin:round; stroke-width:4; stroke-opacity:1; fill:none\" points=\"1663.43,1423.18 1663.43,1404.28 \"/>\n",
       "<polyline clip-path=\"url(#clip490)\" style=\"stroke:#000000; stroke-linecap:round; stroke-linejoin:round; stroke-width:4; stroke-opacity:1; fill:none\" points=\"2128.14,1423.18 2128.14,1404.28 \"/>\n",
       "<path clip-path=\"url(#clip490)\" d=\"M246.696 1454.1 Q243.084 1454.1 241.256 1457.66 Q239.45 1461.2 239.45 1468.33 Q239.45 1475.44 241.256 1479.01 Q243.084 1482.55 246.696 1482.55 Q250.33 1482.55 252.135 1479.01 Q253.964 1475.44 253.964 1468.33 Q253.964 1461.2 252.135 1457.66 Q250.33 1454.1 246.696 1454.1 M246.696 1450.39 Q252.506 1450.39 255.561 1455 Q258.64 1459.58 258.64 1468.33 Q258.64 1477.06 255.561 1481.67 Q252.506 1486.25 246.696 1486.25 Q240.885 1486.25 237.807 1481.67 Q234.751 1477.06 234.751 1468.33 Q234.751 1459.58 237.807 1455 Q240.885 1450.39 246.696 1450.39 Z\" fill=\"#000000\" fill-rule=\"nonzero\" fill-opacity=\"1\" /><path clip-path=\"url(#clip490)\" d=\"M266.858 1479.7 L271.742 1479.7 L271.742 1485.58 L266.858 1485.58 L266.858 1479.7 Z\" fill=\"#000000\" fill-rule=\"nonzero\" fill-opacity=\"1\" /><path clip-path=\"url(#clip490)\" d=\"M291.927 1454.1 Q288.316 1454.1 286.487 1457.66 Q284.681 1461.2 284.681 1468.33 Q284.681 1475.44 286.487 1479.01 Q288.316 1482.55 291.927 1482.55 Q295.561 1482.55 297.367 1479.01 Q299.195 1475.44 299.195 1468.33 Q299.195 1461.2 297.367 1457.66 Q295.561 1454.1 291.927 1454.1 M291.927 1450.39 Q297.737 1450.39 300.793 1455 Q303.871 1459.58 303.871 1468.33 Q303.871 1477.06 300.793 1481.67 Q297.737 1486.25 291.927 1486.25 Q286.117 1486.25 283.038 1481.67 Q279.982 1477.06 279.982 1468.33 Q279.982 1459.58 283.038 1455 Q286.117 1450.39 291.927 1450.39 Z\" fill=\"#000000\" fill-rule=\"nonzero\" fill-opacity=\"1\" /><path clip-path=\"url(#clip490)\" d=\"M712.201 1454.1 Q708.59 1454.1 706.761 1457.66 Q704.955 1461.2 704.955 1468.33 Q704.955 1475.44 706.761 1479.01 Q708.59 1482.55 712.201 1482.55 Q715.835 1482.55 717.641 1479.01 Q719.469 1475.44 719.469 1468.33 Q719.469 1461.2 717.641 1457.66 Q715.835 1454.1 712.201 1454.1 M712.201 1450.39 Q718.011 1450.39 721.067 1455 Q724.145 1459.58 724.145 1468.33 Q724.145 1477.06 721.067 1481.67 Q718.011 1486.25 712.201 1486.25 Q706.391 1486.25 703.312 1481.67 Q700.256 1477.06 700.256 1468.33 Q700.256 1459.58 703.312 1455 Q706.391 1450.39 712.201 1450.39 Z\" fill=\"#000000\" fill-rule=\"nonzero\" fill-opacity=\"1\" /><path clip-path=\"url(#clip490)\" d=\"M732.363 1479.7 L737.247 1479.7 L737.247 1485.58 L732.363 1485.58 L732.363 1479.7 Z\" fill=\"#000000\" fill-rule=\"nonzero\" fill-opacity=\"1\" /><path clip-path=\"url(#clip490)\" d=\"M751.46 1481.64 L767.779 1481.64 L767.779 1485.58 L745.835 1485.58 L745.835 1481.64 Q748.497 1478.89 753.08 1474.26 Q757.687 1469.61 758.867 1468.27 Q761.113 1465.74 761.992 1464.01 Q762.895 1462.25 762.895 1460.56 Q762.895 1457.8 760.951 1456.07 Q759.029 1454.33 755.927 1454.33 Q753.728 1454.33 751.275 1455.09 Q748.844 1455.86 746.066 1457.41 L746.066 1452.69 Q748.89 1451.55 751.344 1450.97 Q753.798 1450.39 755.835 1450.39 Q761.205 1450.39 764.4 1453.08 Q767.594 1455.77 767.594 1460.26 Q767.594 1462.39 766.784 1464.31 Q765.997 1466.2 763.89 1468.8 Q763.312 1469.47 760.21 1472.69 Q757.108 1475.88 751.46 1481.64 Z\" fill=\"#000000\" fill-rule=\"nonzero\" fill-opacity=\"1\" /><path clip-path=\"url(#clip490)\" d=\"M1175.87 1454.1 Q1172.25 1454.1 1170.43 1457.66 Q1168.62 1461.2 1168.62 1468.33 Q1168.62 1475.44 1170.43 1479.01 Q1172.25 1482.55 1175.87 1482.55 Q1179.5 1482.55 1181.31 1479.01 Q1183.13 1475.44 1183.13 1468.33 Q1183.13 1461.2 1181.31 1457.66 Q1179.5 1454.1 1175.87 1454.1 M1175.87 1450.39 Q1181.68 1450.39 1184.73 1455 Q1187.81 1459.58 1187.81 1468.33 Q1187.81 1477.06 1184.73 1481.67 Q1181.68 1486.25 1175.87 1486.25 Q1170.06 1486.25 1166.98 1481.67 Q1163.92 1477.06 1163.92 1468.33 Q1163.92 1459.58 1166.98 1455 Q1170.06 1450.39 1175.87 1450.39 Z\" fill=\"#000000\" fill-rule=\"nonzero\" fill-opacity=\"1\" /><path clip-path=\"url(#clip490)\" d=\"M1196.03 1479.7 L1200.91 1479.7 L1200.91 1485.58 L1196.03 1485.58 L1196.03 1479.7 Z\" fill=\"#000000\" fill-rule=\"nonzero\" fill-opacity=\"1\" /><path clip-path=\"url(#clip490)\" d=\"M1223.94 1455.09 L1212.14 1473.54 L1223.94 1473.54 L1223.94 1455.09 M1222.72 1451.02 L1228.6 1451.02 L1228.6 1473.54 L1233.53 1473.54 L1233.53 1477.43 L1228.6 1477.43 L1228.6 1485.58 L1223.94 1485.58 L1223.94 1477.43 L1208.34 1477.43 L1208.34 1472.92 L1222.72 1451.02 Z\" fill=\"#000000\" fill-rule=\"nonzero\" fill-opacity=\"1\" /><path clip-path=\"url(#clip490)\" d=\"M1640.73 1454.1 Q1637.12 1454.1 1635.29 1457.66 Q1633.49 1461.2 1633.49 1468.33 Q1633.49 1475.44 1635.29 1479.01 Q1637.12 1482.55 1640.73 1482.55 Q1644.37 1482.55 1646.17 1479.01 Q1648 1475.44 1648 1468.33 Q1648 1461.2 1646.17 1457.66 Q1644.37 1454.1 1640.73 1454.1 M1640.73 1450.39 Q1646.54 1450.39 1649.6 1455 Q1652.68 1459.58 1652.68 1468.33 Q1652.68 1477.06 1649.6 1481.67 Q1646.54 1486.25 1640.73 1486.25 Q1634.92 1486.25 1631.85 1481.67 Q1628.79 1477.06 1628.79 1468.33 Q1628.79 1459.58 1631.85 1455 Q1634.92 1450.39 1640.73 1450.39 Z\" fill=\"#000000\" fill-rule=\"nonzero\" fill-opacity=\"1\" /><path clip-path=\"url(#clip490)\" d=\"M1660.9 1479.7 L1665.78 1479.7 L1665.78 1485.58 L1660.9 1485.58 L1660.9 1479.7 Z\" fill=\"#000000\" fill-rule=\"nonzero\" fill-opacity=\"1\" /><path clip-path=\"url(#clip490)\" d=\"M1686.54 1466.44 Q1683.4 1466.44 1681.54 1468.59 Q1679.72 1470.74 1679.72 1474.49 Q1679.72 1478.22 1681.54 1480.39 Q1683.4 1482.55 1686.54 1482.55 Q1689.69 1482.55 1691.52 1480.39 Q1693.37 1478.22 1693.37 1474.49 Q1693.37 1470.74 1691.52 1468.59 Q1689.69 1466.44 1686.54 1466.44 M1695.83 1451.78 L1695.83 1456.04 Q1694.07 1455.21 1692.26 1454.77 Q1690.48 1454.33 1688.72 1454.33 Q1684.09 1454.33 1681.64 1457.45 Q1679.21 1460.58 1678.86 1466.9 Q1680.22 1464.89 1682.29 1463.82 Q1684.35 1462.73 1686.82 1462.73 Q1692.03 1462.73 1695.04 1465.9 Q1698.07 1469.05 1698.07 1474.49 Q1698.07 1479.82 1694.92 1483.03 Q1691.78 1486.25 1686.54 1486.25 Q1680.55 1486.25 1677.38 1481.67 Q1674.21 1477.06 1674.21 1468.33 Q1674.21 1460.14 1678.1 1455.28 Q1681.98 1450.39 1688.54 1450.39 Q1690.29 1450.39 1692.08 1450.74 Q1693.88 1451.09 1695.83 1451.78 Z\" fill=\"#000000\" fill-rule=\"nonzero\" fill-opacity=\"1\" /><path clip-path=\"url(#clip490)\" d=\"M2105.57 1454.1 Q2101.96 1454.1 2100.13 1457.66 Q2098.32 1461.2 2098.32 1468.33 Q2098.32 1475.44 2100.13 1479.01 Q2101.96 1482.55 2105.57 1482.55 Q2109.2 1482.55 2111.01 1479.01 Q2112.84 1475.44 2112.84 1468.33 Q2112.84 1461.2 2111.01 1457.66 Q2109.2 1454.1 2105.57 1454.1 M2105.57 1450.39 Q2111.38 1450.39 2114.43 1455 Q2117.51 1459.58 2117.51 1468.33 Q2117.51 1477.06 2114.43 1481.67 Q2111.38 1486.25 2105.57 1486.25 Q2099.76 1486.25 2096.68 1481.67 Q2093.62 1477.06 2093.62 1468.33 Q2093.62 1459.58 2096.68 1455 Q2099.76 1450.39 2105.57 1450.39 Z\" fill=\"#000000\" fill-rule=\"nonzero\" fill-opacity=\"1\" /><path clip-path=\"url(#clip490)\" d=\"M2125.73 1479.7 L2130.61 1479.7 L2130.61 1485.58 L2125.73 1485.58 L2125.73 1479.7 Z\" fill=\"#000000\" fill-rule=\"nonzero\" fill-opacity=\"1\" /><path clip-path=\"url(#clip490)\" d=\"M2150.8 1469.17 Q2147.47 1469.17 2145.55 1470.95 Q2143.65 1472.73 2143.65 1475.86 Q2143.65 1478.98 2145.55 1480.77 Q2147.47 1482.55 2150.8 1482.55 Q2154.13 1482.55 2156.05 1480.77 Q2157.98 1478.96 2157.98 1475.86 Q2157.98 1472.73 2156.05 1470.95 Q2154.16 1469.17 2150.8 1469.17 M2146.12 1467.18 Q2143.11 1466.44 2141.42 1464.38 Q2139.76 1462.32 2139.76 1459.35 Q2139.76 1455.21 2142.7 1452.8 Q2145.66 1450.39 2150.8 1450.39 Q2155.96 1450.39 2158.9 1452.8 Q2161.84 1455.21 2161.84 1459.35 Q2161.84 1462.32 2160.15 1464.38 Q2158.48 1466.44 2155.5 1467.18 Q2158.88 1467.96 2160.75 1470.26 Q2162.65 1472.55 2162.65 1475.86 Q2162.65 1480.88 2159.57 1483.57 Q2156.52 1486.25 2150.8 1486.25 Q2145.08 1486.25 2142 1483.57 Q2138.95 1480.88 2138.95 1475.86 Q2138.95 1472.55 2140.85 1470.26 Q2142.74 1467.96 2146.12 1467.18 M2144.41 1459.79 Q2144.41 1462.48 2146.08 1463.98 Q2147.77 1465.49 2150.8 1465.49 Q2153.81 1465.49 2155.5 1463.98 Q2157.21 1462.48 2157.21 1459.79 Q2157.21 1457.11 2155.5 1455.6 Q2153.81 1454.1 2150.8 1454.1 Q2147.77 1454.1 2146.08 1455.6 Q2144.41 1457.11 2144.41 1459.79 Z\" fill=\"#000000\" fill-rule=\"nonzero\" fill-opacity=\"1\" /><path clip-path=\"url(#clip490)\" d=\"M1193.28 1520.52 L1200.18 1520.52 L1211.99 1538.19 L1223.86 1520.52 L1230.77 1520.52 L1215.49 1543.34 L1231.79 1568.04 L1224.88 1568.04 L1211.51 1547.83 L1198.05 1568.04 L1191.11 1568.04 L1208.08 1542.68 L1193.28 1520.52 Z\" fill=\"#000000\" fill-rule=\"nonzero\" fill-opacity=\"1\" /><path clip-path=\"url(#clip490)\" d=\"M1233.76 1547.58 L1250.92 1547.58 L1250.92 1552.8 L1233.76 1552.8 L1233.76 1547.58 Z\" fill=\"#000000\" fill-rule=\"nonzero\" fill-opacity=\"1\" /><path clip-path=\"url(#clip490)\" d=\"M1276.44 1550.12 Q1269.35 1550.12 1266.61 1551.75 Q1263.87 1553.37 1263.87 1557.29 Q1263.87 1560.4 1265.91 1562.25 Q1267.98 1564.07 1271.51 1564.07 Q1276.38 1564.07 1279.31 1560.63 Q1282.27 1557.16 1282.27 1551.43 L1282.27 1550.12 L1276.44 1550.12 M1288.13 1547.71 L1288.13 1568.04 L1282.27 1568.04 L1282.27 1562.63 Q1280.26 1565.88 1277.27 1567.44 Q1274.28 1568.97 1269.95 1568.97 Q1264.48 1568.97 1261.23 1565.91 Q1258.02 1562.82 1258.02 1557.67 Q1258.02 1551.65 1262.03 1548.6 Q1266.07 1545.54 1274.06 1545.54 L1282.27 1545.54 L1282.27 1544.97 Q1282.27 1540.93 1279.6 1538.73 Q1276.95 1536.5 1272.15 1536.5 Q1269.09 1536.5 1266.2 1537.23 Q1263.3 1537.97 1260.63 1539.43 L1260.63 1534.02 Q1263.84 1532.78 1266.86 1532.17 Q1269.89 1531.54 1272.75 1531.54 Q1280.49 1531.54 1284.31 1535.55 Q1288.13 1539.56 1288.13 1547.71 Z\" fill=\"#000000\" fill-rule=\"nonzero\" fill-opacity=\"1\" /><path clip-path=\"url(#clip490)\" d=\"M1329.82 1532.4 L1316.93 1549.74 L1330.49 1568.04 L1323.58 1568.04 L1313.21 1554.04 L1302.83 1568.04 L1295.92 1568.04 L1309.77 1549.39 L1297.1 1532.4 L1304.01 1532.4 L1313.46 1545.1 L1322.91 1532.4 L1329.82 1532.4 Z\" fill=\"#000000\" fill-rule=\"nonzero\" fill-opacity=\"1\" /><path clip-path=\"url(#clip490)\" d=\"M1338.76 1532.4 L1344.62 1532.4 L1344.62 1568.04 L1338.76 1568.04 L1338.76 1532.4 M1338.76 1518.52 L1344.62 1518.52 L1344.62 1525.93 L1338.76 1525.93 L1338.76 1518.52 Z\" fill=\"#000000\" fill-rule=\"nonzero\" fill-opacity=\"1\" /><path clip-path=\"url(#clip490)\" d=\"M1379.6 1533.45 L1379.6 1538.98 Q1377.12 1537.71 1374.44 1537.07 Q1371.77 1536.44 1368.91 1536.44 Q1364.55 1536.44 1362.35 1537.77 Q1360.19 1539.11 1360.19 1541.79 Q1360.19 1543.82 1361.74 1545 Q1363.3 1546.15 1368.01 1547.2 L1370.02 1547.64 Q1376.26 1548.98 1378.87 1551.43 Q1381.51 1553.85 1381.51 1558.21 Q1381.51 1563.17 1377.56 1566.07 Q1373.65 1568.97 1366.77 1568.97 Q1363.91 1568.97 1360.79 1568.39 Q1357.7 1567.85 1354.27 1566.74 L1354.27 1560.69 Q1357.51 1562.38 1360.66 1563.24 Q1363.81 1564.07 1366.9 1564.07 Q1371.04 1564.07 1373.27 1562.66 Q1375.49 1561.23 1375.49 1558.65 Q1375.49 1556.27 1373.87 1554.99 Q1372.28 1553.72 1366.84 1552.54 L1364.8 1552.07 Q1359.36 1550.92 1356.94 1548.56 Q1354.52 1546.18 1354.52 1542.04 Q1354.52 1537.01 1358.08 1534.27 Q1361.65 1531.54 1368.21 1531.54 Q1371.45 1531.54 1374.32 1532.01 Q1377.18 1532.49 1379.6 1533.45 Z\" fill=\"#000000\" fill-rule=\"nonzero\" fill-opacity=\"1\" /><polyline clip-path=\"url(#clip490)\" style=\"stroke:#000000; stroke-linecap:round; stroke-linejoin:round; stroke-width:4; stroke-opacity:1; fill:none\" points=\"219.866,1423.18 219.866,123.472 \"/>\n",
       "<polyline clip-path=\"url(#clip490)\" style=\"stroke:#000000; stroke-linecap:round; stroke-linejoin:round; stroke-width:4; stroke-opacity:1; fill:none\" points=\"219.866,1197.98 238.764,1197.98 \"/>\n",
       "<polyline clip-path=\"url(#clip490)\" style=\"stroke:#000000; stroke-linecap:round; stroke-linejoin:round; stroke-width:4; stroke-opacity:1; fill:none\" points=\"219.866,882.955 238.764,882.955 \"/>\n",
       "<polyline clip-path=\"url(#clip490)\" style=\"stroke:#000000; stroke-linecap:round; stroke-linejoin:round; stroke-width:4; stroke-opacity:1; fill:none\" points=\"219.866,567.926 238.764,567.926 \"/>\n",
       "<polyline clip-path=\"url(#clip490)\" style=\"stroke:#000000; stroke-linecap:round; stroke-linejoin:round; stroke-width:4; stroke-opacity:1; fill:none\" points=\"219.866,252.898 238.764,252.898 \"/>\n",
       "<path clip-path=\"url(#clip490)\" d=\"M128.288 1183.78 Q124.677 1183.78 122.848 1187.35 Q121.043 1190.89 121.043 1198.02 Q121.043 1205.13 122.848 1208.69 Q124.677 1212.23 128.288 1212.23 Q131.922 1212.23 133.728 1208.69 Q135.556 1205.13 135.556 1198.02 Q135.556 1190.89 133.728 1187.35 Q131.922 1183.78 128.288 1183.78 M128.288 1180.08 Q134.098 1180.08 137.154 1184.69 Q140.232 1189.27 140.232 1198.02 Q140.232 1206.75 137.154 1211.35 Q134.098 1215.94 128.288 1215.94 Q122.478 1215.94 119.399 1211.35 Q116.343 1206.75 116.343 1198.02 Q116.343 1189.27 119.399 1184.69 Q122.478 1180.08 128.288 1180.08 Z\" fill=\"#000000\" fill-rule=\"nonzero\" fill-opacity=\"1\" /><path clip-path=\"url(#clip490)\" d=\"M148.45 1209.38 L153.334 1209.38 L153.334 1215.26 L148.45 1215.26 L148.45 1209.38 Z\" fill=\"#000000\" fill-rule=\"nonzero\" fill-opacity=\"1\" /><path clip-path=\"url(#clip490)\" d=\"M167.547 1211.33 L183.866 1211.33 L183.866 1215.26 L161.922 1215.26 L161.922 1211.33 Q164.584 1208.57 169.167 1203.94 Q173.774 1199.29 174.954 1197.95 Q177.2 1195.43 178.079 1193.69 Q178.982 1191.93 178.982 1190.24 Q178.982 1187.49 177.038 1185.75 Q175.116 1184.01 172.014 1184.01 Q169.815 1184.01 167.362 1184.78 Q164.931 1185.54 162.153 1187.09 L162.153 1182.37 Q164.977 1181.24 167.431 1180.66 Q169.885 1180.08 171.922 1180.08 Q177.292 1180.08 180.487 1182.76 Q183.681 1185.45 183.681 1189.94 Q183.681 1192.07 182.871 1193.99 Q182.084 1195.89 179.977 1198.48 Q179.399 1199.15 176.297 1202.37 Q173.195 1205.57 167.547 1211.33 Z\" fill=\"#000000\" fill-rule=\"nonzero\" fill-opacity=\"1\" /><path clip-path=\"url(#clip490)\" d=\"M126.205 868.754 Q122.593 868.754 120.765 872.319 Q118.959 875.86 118.959 882.99 Q118.959 890.096 120.765 893.661 Q122.593 897.203 126.205 897.203 Q129.839 897.203 131.644 893.661 Q133.473 890.096 133.473 882.99 Q133.473 875.86 131.644 872.319 Q129.839 868.754 126.205 868.754 M126.205 865.05 Q132.015 865.05 135.07 869.657 Q138.149 874.24 138.149 882.99 Q138.149 891.717 135.07 896.323 Q132.015 900.907 126.205 900.907 Q120.394 900.907 117.316 896.323 Q114.26 891.717 114.26 882.99 Q114.26 874.24 117.316 869.657 Q120.394 865.05 126.205 865.05 Z\" fill=\"#000000\" fill-rule=\"nonzero\" fill-opacity=\"1\" /><path clip-path=\"url(#clip490)\" d=\"M146.366 894.356 L151.251 894.356 L151.251 900.235 L146.366 900.235 L146.366 894.356 Z\" fill=\"#000000\" fill-rule=\"nonzero\" fill-opacity=\"1\" /><path clip-path=\"url(#clip490)\" d=\"M174.283 869.749 L162.477 888.198 L174.283 888.198 L174.283 869.749 M173.056 865.675 L178.936 865.675 L178.936 888.198 L183.866 888.198 L183.866 892.087 L178.936 892.087 L178.936 900.235 L174.283 900.235 L174.283 892.087 L158.681 892.087 L158.681 887.573 L173.056 865.675 Z\" fill=\"#000000\" fill-rule=\"nonzero\" fill-opacity=\"1\" /><path clip-path=\"url(#clip490)\" d=\"M126.529 553.725 Q122.918 553.725 121.089 557.29 Q119.283 560.832 119.283 567.961 Q119.283 575.068 121.089 578.632 Q122.918 582.174 126.529 582.174 Q130.163 582.174 131.968 578.632 Q133.797 575.068 133.797 567.961 Q133.797 560.832 131.968 557.29 Q130.163 553.725 126.529 553.725 M126.529 550.021 Q132.339 550.021 135.394 554.628 Q138.473 559.211 138.473 567.961 Q138.473 576.688 135.394 581.294 Q132.339 585.878 126.529 585.878 Q120.718 585.878 117.64 581.294 Q114.584 576.688 114.584 567.961 Q114.584 559.211 117.64 554.628 Q120.718 550.021 126.529 550.021 Z\" fill=\"#000000\" fill-rule=\"nonzero\" fill-opacity=\"1\" /><path clip-path=\"url(#clip490)\" d=\"M146.691 579.327 L151.575 579.327 L151.575 585.206 L146.691 585.206 L146.691 579.327 Z\" fill=\"#000000\" fill-rule=\"nonzero\" fill-opacity=\"1\" /><path clip-path=\"url(#clip490)\" d=\"M172.339 566.063 Q169.19 566.063 167.339 568.216 Q165.51 570.369 165.51 574.118 Q165.51 577.845 167.339 580.021 Q169.19 582.174 172.339 582.174 Q175.487 582.174 177.315 580.021 Q179.167 577.845 179.167 574.118 Q179.167 570.369 177.315 568.216 Q175.487 566.063 172.339 566.063 M181.621 551.41 L181.621 555.67 Q179.862 554.836 178.056 554.396 Q176.274 553.957 174.514 553.957 Q169.885 553.957 167.431 557.082 Q165.001 560.207 164.653 566.526 Q166.019 564.512 168.079 563.447 Q170.139 562.359 172.616 562.359 Q177.825 562.359 180.834 565.531 Q183.866 568.679 183.866 574.118 Q183.866 579.443 180.718 582.66 Q177.57 585.878 172.339 585.878 Q166.343 585.878 163.172 581.294 Q160.001 576.688 160.001 567.961 Q160.001 559.767 163.89 554.906 Q167.778 550.021 174.329 550.021 Q176.089 550.021 177.871 550.369 Q179.676 550.716 181.621 551.41 Z\" fill=\"#000000\" fill-rule=\"nonzero\" fill-opacity=\"1\" /><path clip-path=\"url(#clip490)\" d=\"M126.783 238.696 Q123.172 238.696 121.343 242.261 Q119.538 245.803 119.538 252.932 Q119.538 260.039 121.343 263.603 Q123.172 267.145 126.783 267.145 Q130.417 267.145 132.223 263.603 Q134.052 260.039 134.052 252.932 Q134.052 245.803 132.223 242.261 Q130.417 238.696 126.783 238.696 M126.783 234.993 Q132.593 234.993 135.649 239.599 Q138.728 244.182 138.728 252.932 Q138.728 261.659 135.649 266.265 Q132.593 270.849 126.783 270.849 Q120.973 270.849 117.894 266.265 Q114.839 261.659 114.839 252.932 Q114.839 244.182 117.894 239.599 Q120.973 234.993 126.783 234.993 Z\" fill=\"#000000\" fill-rule=\"nonzero\" fill-opacity=\"1\" /><path clip-path=\"url(#clip490)\" d=\"M146.945 264.298 L151.829 264.298 L151.829 270.178 L146.945 270.178 L146.945 264.298 Z\" fill=\"#000000\" fill-rule=\"nonzero\" fill-opacity=\"1\" /><path clip-path=\"url(#clip490)\" d=\"M172.014 253.766 Q168.681 253.766 166.76 255.548 Q164.862 257.33 164.862 260.455 Q164.862 263.58 166.76 265.363 Q168.681 267.145 172.014 267.145 Q175.348 267.145 177.269 265.363 Q179.19 263.557 179.19 260.455 Q179.19 257.33 177.269 255.548 Q175.371 253.766 172.014 253.766 M167.339 251.775 Q164.329 251.034 162.64 248.974 Q160.973 246.914 160.973 243.951 Q160.973 239.807 163.913 237.4 Q166.876 234.993 172.014 234.993 Q177.176 234.993 180.116 237.4 Q183.056 239.807 183.056 243.951 Q183.056 246.914 181.366 248.974 Q179.7 251.034 176.714 251.775 Q180.093 252.562 181.968 254.854 Q183.866 257.145 183.866 260.455 Q183.866 265.478 180.788 268.164 Q177.732 270.849 172.014 270.849 Q166.297 270.849 163.218 268.164 Q160.163 265.478 160.163 260.455 Q160.163 257.145 162.061 254.854 Q163.959 252.562 167.339 251.775 M165.626 244.391 Q165.626 247.076 167.292 248.58 Q168.982 250.085 172.014 250.085 Q175.024 250.085 176.714 248.58 Q178.426 247.076 178.426 244.391 Q178.426 241.705 176.714 240.201 Q175.024 238.696 172.014 238.696 Q168.982 238.696 167.292 240.201 Q165.626 241.705 165.626 244.391 Z\" fill=\"#000000\" fill-rule=\"nonzero\" fill-opacity=\"1\" /><path clip-path=\"url(#clip490)\" d=\"M16.4842 864.897 L16.4842 857.99 L36.0269 844.813 L16.4842 831.731 L16.4842 824.825 L41.3741 841.63 L64.0042 841.63 L64.0042 848.091 L41.3741 848.091 L16.4842 864.897 Z\" fill=\"#000000\" fill-rule=\"nonzero\" fill-opacity=\"1\" /><path clip-path=\"url(#clip490)\" d=\"M43.5384 829.503 L43.5384 812.348 L48.7583 812.348 L48.7583 829.503 L43.5384 829.503 Z\" fill=\"#000000\" fill-rule=\"nonzero\" fill-opacity=\"1\" /><path clip-path=\"url(#clip490)\" d=\"M46.0847 786.821 Q46.0847 793.919 47.7079 796.656 Q49.3312 799.394 53.2461 799.394 Q56.3653 799.394 58.2114 797.357 Q60.0256 795.288 60.0256 791.755 Q60.0256 786.885 56.5881 783.957 Q53.1188 780.997 47.3897 780.997 L46.0847 780.997 L46.0847 786.821 M43.6657 775.14 L64.0042 775.14 L64.0042 780.997 L58.5933 780.997 Q61.8398 783.002 63.3994 785.994 Q64.9272 788.986 64.9272 793.314 Q64.9272 798.789 61.8716 802.035 Q58.7843 805.25 53.6281 805.25 Q47.6125 805.25 44.5569 801.24 Q41.5014 797.197 41.5014 789.208 L41.5014 780.997 L40.9285 780.997 Q36.8862 780.997 34.6901 783.67 Q32.4621 786.312 32.4621 791.118 Q32.4621 794.174 33.1941 797.07 Q33.9262 799.966 35.3903 802.64 L29.9795 802.64 Q28.7381 799.425 28.1334 796.402 Q27.4968 793.378 27.4968 790.513 Q27.4968 782.779 31.5072 778.96 Q35.5176 775.14 43.6657 775.14 Z\" fill=\"#000000\" fill-rule=\"nonzero\" fill-opacity=\"1\" /><path clip-path=\"url(#clip490)\" d=\"M28.3562 733.445 L45.7028 746.335 L64.0042 732.776 L64.0042 739.683 L49.9996 750.059 L64.0042 760.435 L64.0042 767.342 L45.3526 753.497 L28.3562 766.165 L28.3562 759.258 L41.0558 749.805 L28.3562 740.352 L28.3562 733.445 Z\" fill=\"#000000\" fill-rule=\"nonzero\" fill-opacity=\"1\" /><path clip-path=\"url(#clip490)\" d=\"M28.3562 724.501 L28.3562 718.645 L64.0042 718.645 L64.0042 724.501 L28.3562 724.501 M14.479 724.501 L14.479 718.645 L21.895 718.645 L21.895 724.501 L14.479 724.501 Z\" fill=\"#000000\" fill-rule=\"nonzero\" fill-opacity=\"1\" /><path clip-path=\"url(#clip490)\" d=\"M29.4065 683.665 L34.9447 683.665 Q33.6716 686.148 33.035 688.821 Q32.3984 691.495 32.3984 694.359 Q32.3984 698.72 33.7352 700.916 Q35.072 703.08 37.7456 703.08 Q39.7826 703.08 40.9603 701.521 Q42.1061 699.961 43.1565 695.251 L43.6021 693.245 Q44.9389 687.007 47.3897 684.397 Q49.8086 681.755 54.1691 681.755 Q59.1344 681.755 62.0308 685.702 Q64.9272 689.617 64.9272 696.492 Q64.9272 699.356 64.3543 702.476 Q63.8132 705.563 62.6992 709.001 L56.6518 709.001 Q58.3387 705.754 59.198 702.603 Q60.0256 699.452 60.0256 696.365 Q60.0256 692.227 58.6251 689.999 Q57.1929 687.771 54.6147 687.771 Q52.2276 687.771 50.9545 689.394 Q49.6813 690.986 48.5037 696.428 L48.0262 698.465 Q46.8804 703.908 44.5251 706.327 Q42.138 708.746 38.0002 708.746 Q32.9713 708.746 30.2341 705.181 Q27.4968 701.616 27.4968 695.06 Q27.4968 691.813 27.9743 688.949 Q28.4517 686.084 29.4065 683.665 Z\" fill=\"#000000\" fill-rule=\"nonzero\" fill-opacity=\"1\" /><path clip-path=\"url(#clip490)\" d=\"M1087.94 14.0809 L1087.94 22.0612 Q1083.28 19.8332 1079.15 18.7395 Q1075.02 17.6457 1071.17 17.6457 Q1064.48 17.6457 1060.84 20.2383 Q1057.23 22.8309 1057.23 27.611 Q1057.23 31.6214 1059.62 33.6873 Q1062.05 35.7128 1068.78 36.9686 L1073.72 37.9813 Q1082.87 39.7232 1087.21 44.1387 Q1091.58 48.5136 1091.58 55.8863 Q1091.58 64.6767 1085.67 69.2137 Q1079.8 73.7508 1068.41 73.7508 Q1064.12 73.7508 1059.26 72.7785 Q1054.44 71.8063 1049.25 69.9024 L1049.25 61.4765 Q1054.23 64.2716 1059.01 65.6895 Q1063.79 67.1073 1068.41 67.1073 Q1075.42 67.1073 1079.23 64.3527 Q1083.04 61.598 1083.04 56.4939 Q1083.04 52.0379 1080.28 49.5264 Q1077.57 47.0148 1071.33 45.759 L1066.35 44.7868 Q1057.19 42.9639 1053.1 39.075 Q1049.01 35.1862 1049.01 28.2591 Q1049.01 20.2383 1054.64 15.6203 Q1060.31 11.0023 1070.24 11.0023 Q1074.49 11.0023 1078.9 11.7719 Q1083.32 12.5416 1087.94 14.0809 Z\" fill=\"#000000\" fill-rule=\"nonzero\" fill-opacity=\"1\" /><path clip-path=\"url(#clip490)\" d=\"M1136.67 28.9478 L1136.67 35.9153 Q1133.51 34.1734 1130.31 33.3227 Q1127.15 32.4315 1123.91 32.4315 Q1116.66 32.4315 1112.65 37.0496 Q1108.64 41.6271 1108.64 49.9314 Q1108.64 58.2358 1112.65 62.8538 Q1116.66 67.4314 1123.91 67.4314 Q1127.15 67.4314 1130.31 66.5807 Q1133.51 65.6895 1136.67 63.9476 L1136.67 70.8341 Q1133.55 72.2924 1130.19 73.0216 Q1126.87 73.7508 1123.1 73.7508 Q1112.85 73.7508 1106.82 67.3098 Q1100.78 60.8689 1100.78 49.9314 Q1100.78 38.832 1106.86 32.472 Q1112.97 26.1121 1123.59 26.1121 Q1127.03 26.1121 1130.31 26.8413 Q1133.59 27.5299 1136.67 28.9478 Z\" fill=\"#000000\" fill-rule=\"nonzero\" fill-opacity=\"1\" /><path clip-path=\"url(#clip490)\" d=\"M1170.25 49.7694 Q1161.22 49.7694 1157.74 51.8354 Q1154.25 53.9013 1154.25 58.8839 Q1154.25 62.8538 1156.84 65.2034 Q1159.48 67.5124 1163.97 67.5124 Q1170.17 67.5124 1173.9 63.1374 Q1177.67 58.7219 1177.67 51.4303 L1177.67 49.7694 L1170.25 49.7694 M1185.12 46.6907 L1185.12 72.576 L1177.67 72.576 L1177.67 65.6895 Q1175.11 69.8214 1171.31 71.8063 Q1167.5 73.7508 1161.99 73.7508 Q1155.02 73.7508 1150.89 69.8619 Q1146.8 65.9325 1146.8 59.3701 Q1146.8 51.7138 1151.9 47.825 Q1157.05 43.9361 1167.21 43.9361 L1177.67 43.9361 L1177.67 43.2069 Q1177.67 38.0623 1174.26 35.2672 Q1170.9 32.4315 1164.78 32.4315 Q1160.9 32.4315 1157.21 33.3632 Q1153.52 34.295 1150.12 36.1584 L1150.12 29.2718 Q1154.21 27.692 1158.06 26.9223 Q1161.91 26.1121 1165.55 26.1121 Q1175.4 26.1121 1180.26 31.2163 Q1185.12 36.3204 1185.12 46.6907 Z\" fill=\"#000000\" fill-rule=\"nonzero\" fill-opacity=\"1\" /><path clip-path=\"url(#clip490)\" d=\"M1207.85 14.324 L1207.85 27.2059 L1223.2 27.2059 L1223.2 32.9987 L1207.85 32.9987 L1207.85 57.6282 Q1207.85 63.1779 1209.34 64.7578 Q1210.88 66.3376 1215.54 66.3376 L1223.2 66.3376 L1223.2 72.576 L1215.54 72.576 Q1206.91 72.576 1203.63 69.3758 Q1200.35 66.1351 1200.35 57.6282 L1200.35 32.9987 L1194.88 32.9987 L1194.88 27.2059 L1200.35 27.2059 L1200.35 14.324 L1207.85 14.324 Z\" fill=\"#000000\" fill-rule=\"nonzero\" fill-opacity=\"1\" /><path clip-path=\"url(#clip490)\" d=\"M1240.37 14.324 L1240.37 27.2059 L1255.73 27.2059 L1255.73 32.9987 L1240.37 32.9987 L1240.37 57.6282 Q1240.37 63.1779 1241.87 64.7578 Q1243.41 66.3376 1248.07 66.3376 L1255.73 66.3376 L1255.73 72.576 L1248.07 72.576 Q1239.44 72.576 1236.16 69.3758 Q1232.88 66.1351 1232.88 57.6282 L1232.88 32.9987 L1227.41 32.9987 L1227.41 27.2059 L1232.88 27.2059 L1232.88 14.324 L1240.37 14.324 Z\" fill=\"#000000\" fill-rule=\"nonzero\" fill-opacity=\"1\" /><path clip-path=\"url(#clip490)\" d=\"M1304.34 48.0275 L1304.34 51.6733 L1270.07 51.6733 Q1270.55 59.3701 1274.68 63.421 Q1278.86 67.4314 1286.27 67.4314 Q1290.56 67.4314 1294.57 66.3781 Q1298.63 65.3249 1302.6 63.2184 L1302.6 70.267 Q1298.59 71.9684 1294.37 72.8596 Q1290.16 73.7508 1285.82 73.7508 Q1274.97 73.7508 1268.61 67.4314 Q1262.29 61.1119 1262.29 50.3365 Q1262.29 39.1965 1268.28 32.6746 Q1274.32 26.1121 1284.53 26.1121 Q1293.68 26.1121 1298.99 32.0264 Q1304.34 37.9003 1304.34 48.0275 M1296.88 45.84 Q1296.8 39.7232 1293.44 36.0774 Q1290.12 32.4315 1284.61 32.4315 Q1278.37 32.4315 1274.6 35.9558 Q1270.88 39.4801 1270.31 45.8805 L1296.88 45.84 Z\" fill=\"#000000\" fill-rule=\"nonzero\" fill-opacity=\"1\" /><path clip-path=\"url(#clip490)\" d=\"M1342.86 34.1734 Q1341.61 33.4443 1340.11 33.1202 Q1338.65 32.7556 1336.87 32.7556 Q1330.55 32.7556 1327.14 36.8875 Q1323.78 40.9789 1323.78 48.6757 L1323.78 72.576 L1316.29 72.576 L1316.29 27.2059 L1323.78 27.2059 L1323.78 34.2544 Q1326.13 30.1225 1329.9 28.1376 Q1333.67 26.1121 1339.05 26.1121 Q1339.82 26.1121 1340.76 26.2337 Q1341.69 26.3147 1342.82 26.5172 L1342.86 34.1734 Z\" fill=\"#000000\" fill-rule=\"nonzero\" fill-opacity=\"1\" /><path clip-path=\"url(#clip490)\" d=\"M1385.56 18.8205 L1385.56 41.5461 L1395.85 41.5461 Q1401.56 41.5461 1404.68 38.5889 Q1407.8 35.6318 1407.8 30.163 Q1407.8 24.7348 1404.68 21.7777 Q1401.56 18.8205 1395.85 18.8205 L1385.56 18.8205 M1377.38 12.096 L1395.85 12.096 Q1406.02 12.096 1411.2 16.714 Q1416.43 21.2916 1416.43 30.163 Q1416.43 39.1155 1411.2 43.6931 Q1406.02 48.2706 1395.85 48.2706 L1385.56 48.2706 L1385.56 72.576 L1377.38 72.576 L1377.38 12.096 Z\" fill=\"#000000\" fill-rule=\"nonzero\" fill-opacity=\"1\" /><path clip-path=\"url(#clip490)\" d=\"M1427.08 9.54393 L1434.53 9.54393 L1434.53 72.576 L1427.08 72.576 L1427.08 9.54393 Z\" fill=\"#000000\" fill-rule=\"nonzero\" fill-opacity=\"1\" /><path clip-path=\"url(#clip490)\" d=\"M1467.71 32.4315 Q1461.72 32.4315 1458.23 37.1306 Q1454.75 41.7891 1454.75 49.9314 Q1454.75 58.0738 1458.19 62.7728 Q1461.67 67.4314 1467.71 67.4314 Q1473.67 67.4314 1477.15 62.7323 Q1480.63 58.0333 1480.63 49.9314 Q1480.63 41.8701 1477.15 37.1711 Q1473.67 32.4315 1467.71 32.4315 M1467.71 26.1121 Q1477.43 26.1121 1482.98 32.4315 Q1488.53 38.7509 1488.53 49.9314 Q1488.53 61.0714 1482.98 67.4314 Q1477.43 73.7508 1467.71 73.7508 Q1457.95 73.7508 1452.4 67.4314 Q1446.89 61.0714 1446.89 49.9314 Q1446.89 38.7509 1452.4 32.4315 Q1457.95 26.1121 1467.71 26.1121 Z\" fill=\"#000000\" fill-rule=\"nonzero\" fill-opacity=\"1\" /><path clip-path=\"url(#clip490)\" d=\"M1508.26 14.324 L1508.26 27.2059 L1523.61 27.2059 L1523.61 32.9987 L1508.26 32.9987 L1508.26 57.6282 Q1508.26 63.1779 1509.76 64.7578 Q1511.3 66.3376 1515.96 66.3376 L1523.61 66.3376 L1523.61 72.576 L1515.96 72.576 Q1507.33 72.576 1504.05 69.3758 Q1500.77 66.1351 1500.77 57.6282 L1500.77 32.9987 L1495.3 32.9987 L1495.3 27.2059 L1500.77 27.2059 L1500.77 14.324 L1508.26 14.324 Z\" fill=\"#000000\" fill-rule=\"nonzero\" fill-opacity=\"1\" /><circle clip-path=\"url(#clip492)\" cx=\"1108.14\" cy=\"1319.23\" r=\"14.4\" fill=\"#009af9\" fill-rule=\"evenodd\" fill-opacity=\"1\" stroke=\"#000000\" stroke-opacity=\"1\" stroke-width=\"3.2\"/>\n",
       "<circle clip-path=\"url(#clip492)\" cx=\"293.71\" cy=\"666.905\" r=\"14.4\" fill=\"#009af9\" fill-rule=\"evenodd\" fill-opacity=\"1\" stroke=\"#000000\" stroke-opacity=\"1\" stroke-width=\"3.2\"/>\n",
       "<circle clip-path=\"url(#clip492)\" cx=\"1771.62\" cy=\"1048.01\" r=\"14.4\" fill=\"#009af9\" fill-rule=\"evenodd\" fill-opacity=\"1\" stroke=\"#000000\" stroke-opacity=\"1\" stroke-width=\"3.2\"/>\n",
       "<circle clip-path=\"url(#clip492)\" cx=\"595.451\" cy=\"1386.4\" r=\"14.4\" fill=\"#009af9\" fill-rule=\"evenodd\" fill-opacity=\"1\" stroke=\"#000000\" stroke-opacity=\"1\" stroke-width=\"3.2\"/>\n",
       "<circle clip-path=\"url(#clip492)\" cx=\"280.231\" cy=\"1080.61\" r=\"14.4\" fill=\"#009af9\" fill-rule=\"evenodd\" fill-opacity=\"1\" stroke=\"#000000\" stroke-opacity=\"1\" stroke-width=\"3.2\"/>\n",
       "<circle clip-path=\"url(#clip492)\" cx=\"1497.37\" cy=\"1173.46\" r=\"14.4\" fill=\"#009af9\" fill-rule=\"evenodd\" fill-opacity=\"1\" stroke=\"#000000\" stroke-opacity=\"1\" stroke-width=\"3.2\"/>\n",
       "<circle clip-path=\"url(#clip492)\" cx=\"1623.33\" cy=\"160.256\" r=\"14.4\" fill=\"#009af9\" fill-rule=\"evenodd\" fill-opacity=\"1\" stroke=\"#000000\" stroke-opacity=\"1\" stroke-width=\"3.2\"/>\n",
       "<circle clip-path=\"url(#clip492)\" cx=\"631.538\" cy=\"773.656\" r=\"14.4\" fill=\"#009af9\" fill-rule=\"evenodd\" fill-opacity=\"1\" stroke=\"#000000\" stroke-opacity=\"1\" stroke-width=\"3.2\"/>\n",
       "<circle clip-path=\"url(#clip492)\" cx=\"333.321\" cy=\"553.678\" r=\"14.4\" fill=\"#009af9\" fill-rule=\"evenodd\" fill-opacity=\"1\" stroke=\"#000000\" stroke-opacity=\"1\" stroke-width=\"3.2\"/>\n",
       "<circle clip-path=\"url(#clip492)\" cx=\"2292.39\" cy=\"1246.57\" r=\"14.4\" fill=\"#009af9\" fill-rule=\"evenodd\" fill-opacity=\"1\" stroke=\"#000000\" stroke-opacity=\"1\" stroke-width=\"3.2\"/>\n",
       "<path clip-path=\"url(#clip490)\" d=\"M1932.93 270.476 L2281.66 270.476 L2281.66 166.796 L1932.93 166.796  Z\" fill=\"#ffffff\" fill-rule=\"evenodd\" fill-opacity=\"1\"/>\n",
       "<polyline clip-path=\"url(#clip490)\" style=\"stroke:#000000; stroke-linecap:round; stroke-linejoin:round; stroke-width:4; stroke-opacity:1; fill:none\" points=\"1932.93,270.476 2281.66,270.476 2281.66,166.796 1932.93,166.796 1932.93,270.476 \"/>\n",
       "<circle clip-path=\"url(#clip490)\" cx=\"2027.73\" cy=\"218.636\" r=\"20.48\" fill=\"#009af9\" fill-rule=\"evenodd\" fill-opacity=\"1\" stroke=\"#000000\" stroke-opacity=\"1\" stroke-width=\"4.55111\"/>\n",
       "<path clip-path=\"url(#clip490)\" d=\"M2127.2 205.198 L2127.2 218.184 L2133.08 218.184 Q2136.34 218.184 2138.12 216.495 Q2139.91 214.805 2139.91 211.68 Q2139.91 208.578 2138.12 206.888 Q2136.34 205.198 2133.08 205.198 L2127.2 205.198 M2122.52 201.356 L2133.08 201.356 Q2138.89 201.356 2141.85 203.995 Q2144.84 206.61 2144.84 211.68 Q2144.84 216.795 2141.85 219.411 Q2138.89 222.027 2133.08 222.027 L2127.2 222.027 L2127.2 235.916 L2122.52 235.916 L2122.52 201.356 Z\" fill=\"#000000\" fill-rule=\"nonzero\" fill-opacity=\"1\" /><path clip-path=\"url(#clip490)\" d=\"M2159.28 212.976 Q2155.85 212.976 2153.86 215.661 Q2151.87 218.323 2151.87 222.976 Q2151.87 227.629 2153.84 230.314 Q2155.83 232.976 2159.28 232.976 Q2162.68 232.976 2164.67 230.291 Q2166.67 227.606 2166.67 222.976 Q2166.67 218.37 2164.67 215.684 Q2162.68 212.976 2159.28 212.976 M2159.28 209.365 Q2164.84 209.365 2168.01 212.976 Q2171.18 216.587 2171.18 222.976 Q2171.18 229.342 2168.01 232.976 Q2164.84 236.587 2159.28 236.587 Q2153.7 236.587 2150.53 232.976 Q2147.38 229.342 2147.38 222.976 Q2147.38 216.587 2150.53 212.976 Q2153.7 209.365 2159.28 209.365 Z\" fill=\"#000000\" fill-rule=\"nonzero\" fill-opacity=\"1\" /><path clip-path=\"url(#clip490)\" d=\"M2178.24 209.99 L2182.5 209.99 L2182.5 235.916 L2178.24 235.916 L2178.24 209.99 M2178.24 199.897 L2182.5 199.897 L2182.5 205.291 L2178.24 205.291 L2178.24 199.897 Z\" fill=\"#000000\" fill-rule=\"nonzero\" fill-opacity=\"1\" /><path clip-path=\"url(#clip490)\" d=\"M2212.96 220.268 L2212.96 235.916 L2208.7 235.916 L2208.7 220.407 Q2208.7 216.726 2207.27 214.897 Q2205.83 213.069 2202.96 213.069 Q2199.51 213.069 2197.52 215.268 Q2195.53 217.467 2195.53 221.263 L2195.53 235.916 L2191.25 235.916 L2191.25 209.99 L2195.53 209.99 L2195.53 214.018 Q2197.06 211.68 2199.12 210.522 Q2201.2 209.365 2203.91 209.365 Q2208.38 209.365 2210.67 212.143 Q2212.96 214.897 2212.96 220.268 Z\" fill=\"#000000\" fill-rule=\"nonzero\" fill-opacity=\"1\" /><path clip-path=\"url(#clip490)\" d=\"M2225.67 202.629 L2225.67 209.99 L2234.44 209.99 L2234.44 213.3 L2225.67 213.3 L2225.67 227.374 Q2225.67 230.545 2226.53 231.448 Q2227.41 232.351 2230.07 232.351 L2234.44 232.351 L2234.44 235.916 L2230.07 235.916 Q2225.14 235.916 2223.26 234.087 Q2221.39 232.235 2221.39 227.374 L2221.39 213.3 L2218.26 213.3 L2218.26 209.99 L2221.39 209.99 L2221.39 202.629 L2225.67 202.629 Z\" fill=\"#000000\" fill-rule=\"nonzero\" fill-opacity=\"1\" /><path clip-path=\"url(#clip490)\" d=\"M2256.57 210.754 L2256.57 214.782 Q2254.77 213.856 2252.82 213.393 Q2250.88 212.93 2248.79 212.93 Q2245.62 212.93 2244.03 213.902 Q2242.45 214.874 2242.45 216.819 Q2242.45 218.3 2243.59 219.157 Q2244.72 219.99 2248.15 220.754 L2249.6 221.078 Q2254.14 222.05 2256.04 223.832 Q2257.96 225.592 2257.96 228.763 Q2257.96 232.374 2255.09 234.481 Q2252.24 236.587 2247.24 236.587 Q2245.16 236.587 2242.89 236.17 Q2240.65 235.777 2238.15 234.967 L2238.15 230.569 Q2240.51 231.795 2242.8 232.42 Q2245.09 233.022 2247.34 233.022 Q2250.35 233.022 2251.97 232.004 Q2253.59 230.962 2253.59 229.087 Q2253.59 227.351 2252.41 226.425 Q2251.25 225.499 2247.29 224.643 L2245.81 224.295 Q2241.85 223.462 2240.09 221.749 Q2238.33 220.013 2238.33 217.004 Q2238.33 213.346 2240.92 211.356 Q2243.52 209.365 2248.28 209.365 Q2250.65 209.365 2252.73 209.712 Q2254.81 210.059 2256.57 210.754 Z\" fill=\"#000000\" fill-rule=\"nonzero\" fill-opacity=\"1\" /></svg>\n"
      ]
     },
     "metadata": {},
     "output_type": "display_data"
    }
   ],
   "source": [
    "\n",
    "# Data\n",
    "x = rand(10)\n",
    "y = rand(10)\n",
    "\n",
    "# Scatter plot\n",
    "scatter(x, y, title=\"Scatter Plot\", xlabel=\"X-axis\", ylabel=\"Y-axis\", label=\"Points\", marker=:circle)"
   ]
  },
  {
   "cell_type": "code",
   "execution_count": 82,
   "metadata": {},
   "outputs": [
    {
     "data": {
      "image/png": "[encoded data removed]",
      "image/svg+xml": [
       "<?xml version=\"1.0\" encoding=\"utf-8\"?>\n",
       "<svg xmlns=\"http://www.w3.org/2000/svg\" xmlns:xlink=\"http://www.w3.org/1999/xlink\" width=\"600\" height=\"400\" viewBox=\"0 0 2400 1600\">\n",
       "<defs>\n",
       "  <clipPath id=\"clip530\">\n",
       "    <rect x=\"0\" y=\"0\" width=\"2400\" height=\"1600\"/>\n",
       "  </clipPath>\n",
       "</defs>\n",
       "<path clip-path=\"url(#clip530)\" d=\"M0 1600 L2400 1600 L2400 0 L0 0  Z\" fill=\"#ffffff\" fill-rule=\"evenodd\" fill-opacity=\"1\"/>\n",
       "<defs>\n",
       "  <clipPath id=\"clip531\">\n",
       "    <rect x=\"480\" y=\"0\" width=\"1681\" height=\"1600\"/>\n",
       "  </clipPath>\n",
       "</defs>\n",
       "<path clip-path=\"url(#clip530)\" d=\"M234.125 1423.18 L2352.76 1423.18 L2352.76 123.472 L234.125 123.472  Z\" fill=\"#ffffff\" fill-rule=\"evenodd\" fill-opacity=\"1\"/>\n",
       "<defs>\n",
       "  <clipPath id=\"clip532\">\n",
       "    <rect x=\"234\" y=\"123\" width=\"2120\" height=\"1301\"/>\n",
       "  </clipPath>\n",
       "</defs>\n",
       "<polyline clip-path=\"url(#clip532)\" style=\"stroke:#000000; stroke-linecap:round; stroke-linejoin:round; stroke-width:2; stroke-opacity:0.1; fill:none\" points=\"350.654,1423.18 350.654,123.472 \"/>\n",
       "<polyline clip-path=\"url(#clip532)\" style=\"stroke:#000000; stroke-linecap:round; stroke-linejoin:round; stroke-width:2; stroke-opacity:0.1; fill:none\" points=\"853.474,1423.18 853.474,123.472 \"/>\n",
       "<polyline clip-path=\"url(#clip532)\" style=\"stroke:#000000; stroke-linecap:round; stroke-linejoin:round; stroke-width:2; stroke-opacity:0.1; fill:none\" points=\"1356.29,1423.18 1356.29,123.472 \"/>\n",
       "<polyline clip-path=\"url(#clip532)\" style=\"stroke:#000000; stroke-linecap:round; stroke-linejoin:round; stroke-width:2; stroke-opacity:0.1; fill:none\" points=\"1859.11,1423.18 1859.11,123.472 \"/>\n",
       "<polyline clip-path=\"url(#clip532)\" style=\"stroke:#000000; stroke-linecap:round; stroke-linejoin:round; stroke-width:2; stroke-opacity:0.1; fill:none\" points=\"234.125,1423.18 2352.76,1423.18 \"/>\n",
       "<polyline clip-path=\"url(#clip532)\" style=\"stroke:#000000; stroke-linecap:round; stroke-linejoin:round; stroke-width:2; stroke-opacity:0.1; fill:none\" points=\"234.125,1119.51 2352.76,1119.51 \"/>\n",
       "<polyline clip-path=\"url(#clip532)\" style=\"stroke:#000000; stroke-linecap:round; stroke-linejoin:round; stroke-width:2; stroke-opacity:0.1; fill:none\" points=\"234.125,815.84 2352.76,815.84 \"/>\n",
       "<polyline clip-path=\"url(#clip532)\" style=\"stroke:#000000; stroke-linecap:round; stroke-linejoin:round; stroke-width:2; stroke-opacity:0.1; fill:none\" points=\"234.125,512.17 2352.76,512.17 \"/>\n",
       "<polyline clip-path=\"url(#clip532)\" style=\"stroke:#000000; stroke-linecap:round; stroke-linejoin:round; stroke-width:2; stroke-opacity:0.1; fill:none\" points=\"234.125,208.5 2352.76,208.5 \"/>\n",
       "<polyline clip-path=\"url(#clip530)\" style=\"stroke:#000000; stroke-linecap:round; stroke-linejoin:round; stroke-width:4; stroke-opacity:1; fill:none\" points=\"234.125,1423.18 2352.76,1423.18 \"/>\n",
       "<polyline clip-path=\"url(#clip530)\" style=\"stroke:#000000; stroke-linecap:round; stroke-linejoin:round; stroke-width:4; stroke-opacity:1; fill:none\" points=\"350.654,1423.18 350.654,1404.28 \"/>\n",
       "<polyline clip-path=\"url(#clip530)\" style=\"stroke:#000000; stroke-linecap:round; stroke-linejoin:round; stroke-width:4; stroke-opacity:1; fill:none\" points=\"853.474,1423.18 853.474,1404.28 \"/>\n",
       "<polyline clip-path=\"url(#clip530)\" style=\"stroke:#000000; stroke-linecap:round; stroke-linejoin:round; stroke-width:4; stroke-opacity:1; fill:none\" points=\"1356.29,1423.18 1356.29,1404.28 \"/>\n",
       "<polyline clip-path=\"url(#clip530)\" style=\"stroke:#000000; stroke-linecap:round; stroke-linejoin:round; stroke-width:4; stroke-opacity:1; fill:none\" points=\"1859.11,1423.18 1859.11,1404.28 \"/>\n",
       "<path clip-path=\"url(#clip530)\" d=\"M319.555 1468.75 L349.23 1468.75 L349.23 1472.69 L319.555 1472.69 L319.555 1468.75 Z\" fill=\"#000000\" fill-rule=\"nonzero\" fill-opacity=\"1\" /><path clip-path=\"url(#clip530)\" d=\"M372.17 1455.09 L360.364 1473.54 L372.17 1473.54 L372.17 1455.09 M370.943 1451.02 L376.823 1451.02 L376.823 1473.54 L381.753 1473.54 L381.753 1477.43 L376.823 1477.43 L376.823 1485.58 L372.17 1485.58 L372.17 1477.43 L356.568 1477.43 L356.568 1472.92 L370.943 1451.02 Z\" fill=\"#000000\" fill-rule=\"nonzero\" fill-opacity=\"1\" /><path clip-path=\"url(#clip530)\" d=\"M823.416 1468.75 L853.092 1468.75 L853.092 1472.69 L823.416 1472.69 L823.416 1468.75 Z\" fill=\"#000000\" fill-rule=\"nonzero\" fill-opacity=\"1\" /><path clip-path=\"url(#clip530)\" d=\"M867.212 1481.64 L883.531 1481.64 L883.531 1485.58 L861.587 1485.58 L861.587 1481.64 Q864.249 1478.89 868.832 1474.26 Q873.439 1469.61 874.619 1468.27 Q876.865 1465.74 877.744 1464.01 Q878.647 1462.25 878.647 1460.56 Q878.647 1457.8 876.703 1456.07 Q874.781 1454.33 871.679 1454.33 Q869.48 1454.33 867.027 1455.09 Q864.596 1455.86 861.818 1457.41 L861.818 1452.69 Q864.642 1451.55 867.096 1450.97 Q869.55 1450.39 871.587 1450.39 Q876.957 1450.39 880.152 1453.08 Q883.346 1455.77 883.346 1460.26 Q883.346 1462.39 882.536 1464.31 Q881.749 1466.2 879.642 1468.8 Q879.064 1469.47 875.962 1472.69 Q872.86 1475.88 867.212 1481.64 Z\" fill=\"#000000\" fill-rule=\"nonzero\" fill-opacity=\"1\" /><path clip-path=\"url(#clip530)\" d=\"M1356.29 1454.1 Q1352.68 1454.1 1350.85 1457.66 Q1349.05 1461.2 1349.05 1468.33 Q1349.05 1475.44 1350.85 1479.01 Q1352.68 1482.55 1356.29 1482.55 Q1359.93 1482.55 1361.73 1479.01 Q1363.56 1475.44 1363.56 1468.33 Q1363.56 1461.2 1361.73 1457.66 Q1359.93 1454.1 1356.29 1454.1 M1356.29 1450.39 Q1362.1 1450.39 1365.16 1455 Q1368.24 1459.58 1368.24 1468.33 Q1368.24 1477.06 1365.16 1481.67 Q1362.1 1486.25 1356.29 1486.25 Q1350.48 1486.25 1347.4 1481.67 Q1344.35 1477.06 1344.35 1468.33 Q1344.35 1459.58 1347.4 1455 Q1350.48 1450.39 1356.29 1450.39 Z\" fill=\"#000000\" fill-rule=\"nonzero\" fill-opacity=\"1\" /><path clip-path=\"url(#clip530)\" d=\"M1853.77 1481.64 L1870.08 1481.64 L1870.08 1485.58 L1848.14 1485.58 L1848.14 1481.64 Q1850.8 1478.89 1855.39 1474.26 Q1859.99 1469.61 1861.17 1468.27 Q1863.42 1465.74 1864.3 1464.01 Q1865.2 1462.25 1865.2 1460.56 Q1865.2 1457.8 1863.26 1456.07 Q1861.33 1454.33 1858.23 1454.33 Q1856.03 1454.33 1853.58 1455.09 Q1851.15 1455.86 1848.37 1457.41 L1848.37 1452.69 Q1851.2 1451.55 1853.65 1450.97 Q1856.1 1450.39 1858.14 1450.39 Q1863.51 1450.39 1866.71 1453.08 Q1869.9 1455.77 1869.9 1460.26 Q1869.9 1462.39 1869.09 1464.31 Q1868.3 1466.2 1866.2 1468.8 Q1865.62 1469.47 1862.52 1472.69 Q1859.41 1475.88 1853.77 1481.64 Z\" fill=\"#000000\" fill-rule=\"nonzero\" fill-opacity=\"1\" /><path clip-path=\"url(#clip530)\" d=\"M1224.07 1568.04 L1205.93 1520.52 L1212.64 1520.52 L1227.7 1560.53 L1242.79 1520.52 L1249.47 1520.52 L1231.36 1568.04 L1224.07 1568.04 Z\" fill=\"#000000\" fill-rule=\"nonzero\" fill-opacity=\"1\" /><path clip-path=\"url(#clip530)\" d=\"M1267.29 1550.12 Q1260.2 1550.12 1257.46 1551.75 Q1254.72 1553.37 1254.72 1557.29 Q1254.72 1560.4 1256.76 1562.25 Q1258.83 1564.07 1262.36 1564.07 Q1267.23 1564.07 1270.16 1560.63 Q1273.12 1557.16 1273.12 1551.43 L1273.12 1550.12 L1267.29 1550.12 M1278.97 1547.71 L1278.97 1568.04 L1273.12 1568.04 L1273.12 1562.63 Q1271.11 1565.88 1268.12 1567.44 Q1265.13 1568.97 1260.8 1568.97 Q1255.33 1568.97 1252.08 1565.91 Q1248.86 1562.82 1248.86 1557.67 Q1248.86 1551.65 1252.88 1548.6 Q1256.92 1545.54 1264.91 1545.54 L1273.12 1545.54 L1273.12 1544.97 Q1273.12 1540.93 1270.44 1538.73 Q1267.8 1536.5 1263 1536.5 Q1259.94 1536.5 1257.04 1537.23 Q1254.15 1537.97 1251.47 1539.43 L1251.47 1534.02 Q1254.69 1532.78 1257.71 1532.17 Q1260.74 1531.54 1263.6 1531.54 Q1271.34 1531.54 1275.16 1535.55 Q1278.97 1539.56 1278.97 1547.71 Z\" fill=\"#000000\" fill-rule=\"nonzero\" fill-opacity=\"1\" /><path clip-path=\"url(#clip530)\" d=\"M1291.04 1518.52 L1296.89 1518.52 L1296.89 1568.04 L1291.04 1568.04 L1291.04 1518.52 Z\" fill=\"#000000\" fill-rule=\"nonzero\" fill-opacity=\"1\" /><path clip-path=\"url(#clip530)\" d=\"M1308.54 1553.98 L1308.54 1532.4 L1314.4 1532.4 L1314.4 1553.75 Q1314.4 1558.81 1316.37 1561.36 Q1318.35 1563.87 1322.29 1563.87 Q1327.04 1563.87 1329.77 1560.85 Q1332.54 1557.83 1332.54 1552.61 L1332.54 1532.4 L1338.4 1532.4 L1338.4 1568.04 L1332.54 1568.04 L1332.54 1562.57 Q1330.41 1565.82 1327.58 1567.41 Q1324.78 1568.97 1321.05 1568.97 Q1314.91 1568.97 1311.73 1565.15 Q1308.54 1561.33 1308.54 1553.98 M1323.28 1531.54 L1323.28 1531.54 Z\" fill=\"#000000\" fill-rule=\"nonzero\" fill-opacity=\"1\" /><path clip-path=\"url(#clip530)\" d=\"M1380.95 1548.76 L1380.95 1551.62 L1354.03 1551.62 Q1354.41 1557.67 1357.65 1560.85 Q1360.93 1564 1366.76 1564 Q1370.13 1564 1373.28 1563.17 Q1376.47 1562.35 1379.58 1560.69 L1379.58 1566.23 Q1376.43 1567.57 1373.12 1568.27 Q1369.81 1568.97 1366.41 1568.97 Q1357.88 1568.97 1352.88 1564 Q1347.92 1559.04 1347.92 1550.57 Q1347.92 1541.82 1352.63 1536.69 Q1357.37 1531.54 1365.39 1531.54 Q1372.58 1531.54 1376.75 1536.18 Q1380.95 1540.8 1380.95 1548.76 M1375.1 1547.04 Q1375.03 1542.23 1372.39 1539.37 Q1369.78 1536.5 1365.45 1536.5 Q1360.55 1536.5 1357.59 1539.27 Q1354.66 1542.04 1354.22 1547.07 L1375.1 1547.04 Z\" fill=\"#000000\" fill-rule=\"nonzero\" fill-opacity=\"1\" /><polyline clip-path=\"url(#clip530)\" style=\"stroke:#000000; stroke-linecap:round; stroke-linejoin:round; stroke-width:4; stroke-opacity:1; fill:none\" points=\"234.125,1423.18 234.125,123.472 \"/>\n",
       "<polyline clip-path=\"url(#clip530)\" style=\"stroke:#000000; stroke-linecap:round; stroke-linejoin:round; stroke-width:4; stroke-opacity:1; fill:none\" points=\"234.125,1423.18 253.023,1423.18 \"/>\n",
       "<polyline clip-path=\"url(#clip530)\" style=\"stroke:#000000; stroke-linecap:round; stroke-linejoin:round; stroke-width:4; stroke-opacity:1; fill:none\" points=\"234.125,1119.51 253.023,1119.51 \"/>\n",
       "<polyline clip-path=\"url(#clip530)\" style=\"stroke:#000000; stroke-linecap:round; stroke-linejoin:round; stroke-width:4; stroke-opacity:1; fill:none\" points=\"234.125,815.84 253.023,815.84 \"/>\n",
       "<polyline clip-path=\"url(#clip530)\" style=\"stroke:#000000; stroke-linecap:round; stroke-linejoin:round; stroke-width:4; stroke-opacity:1; fill:none\" points=\"234.125,512.17 253.023,512.17 \"/>\n",
       "<polyline clip-path=\"url(#clip530)\" style=\"stroke:#000000; stroke-linecap:round; stroke-linejoin:round; stroke-width:4; stroke-opacity:1; fill:none\" points=\"234.125,208.5 253.023,208.5 \"/>\n",
       "<path clip-path=\"url(#clip530)\" d=\"M186.181 1408.98 Q182.57 1408.98 180.741 1412.54 Q178.936 1416.08 178.936 1423.21 Q178.936 1430.32 180.741 1433.89 Q182.57 1437.43 186.181 1437.43 Q189.815 1437.43 191.621 1433.89 Q193.45 1430.32 193.45 1423.21 Q193.45 1416.08 191.621 1412.54 Q189.815 1408.98 186.181 1408.98 M186.181 1405.27 Q191.991 1405.27 195.047 1409.88 Q198.125 1414.46 198.125 1423.21 Q198.125 1431.94 195.047 1436.55 Q191.991 1441.13 186.181 1441.13 Q180.371 1441.13 177.292 1436.55 Q174.237 1431.94 174.237 1423.21 Q174.237 1414.46 177.292 1409.88 Q180.371 1405.27 186.181 1405.27 Z\" fill=\"#000000\" fill-rule=\"nonzero\" fill-opacity=\"1\" /><path clip-path=\"url(#clip530)\" d=\"M146.066 1102.23 L164.422 1102.23 L164.422 1106.16 L150.348 1106.16 L150.348 1114.64 Q151.366 1114.29 152.385 1114.13 Q153.403 1113.94 154.422 1113.94 Q160.209 1113.94 163.589 1117.11 Q166.968 1120.29 166.968 1125.7 Q166.968 1131.28 163.496 1134.38 Q160.024 1137.46 153.704 1137.46 Q151.528 1137.46 149.26 1137.09 Q147.015 1136.72 144.607 1135.98 L144.607 1131.28 Q146.691 1132.41 148.913 1132.97 Q151.135 1133.53 153.612 1133.53 Q157.616 1133.53 159.954 1131.42 Q162.292 1129.31 162.292 1125.7 Q162.292 1122.09 159.954 1119.98 Q157.616 1117.88 153.612 1117.88 Q151.737 1117.88 149.862 1118.29 Q148.01 1118.71 146.066 1119.59 L146.066 1102.23 Z\" fill=\"#000000\" fill-rule=\"nonzero\" fill-opacity=\"1\" /><path clip-path=\"url(#clip530)\" d=\"M186.181 1105.31 Q182.57 1105.31 180.741 1108.87 Q178.936 1112.41 178.936 1119.54 Q178.936 1126.65 180.741 1130.22 Q182.57 1133.76 186.181 1133.76 Q189.815 1133.76 191.621 1130.22 Q193.45 1126.65 193.45 1119.54 Q193.45 1112.41 191.621 1108.87 Q189.815 1105.31 186.181 1105.31 M186.181 1101.6 Q191.991 1101.6 195.047 1106.21 Q198.125 1110.79 198.125 1119.54 Q198.125 1128.27 195.047 1132.88 Q191.991 1137.46 186.181 1137.46 Q180.371 1137.46 177.292 1132.88 Q174.237 1128.27 174.237 1119.54 Q174.237 1110.79 177.292 1106.21 Q180.371 1101.6 186.181 1101.6 Z\" fill=\"#000000\" fill-rule=\"nonzero\" fill-opacity=\"1\" /><path clip-path=\"url(#clip530)\" d=\"M116.668 829.185 L124.306 829.185 L124.306 802.819 L115.996 804.486 L115.996 800.226 L124.26 798.56 L128.936 798.56 L128.936 829.185 L136.575 829.185 L136.575 833.12 L116.668 833.12 L116.668 829.185 Z\" fill=\"#000000\" fill-rule=\"nonzero\" fill-opacity=\"1\" /><path clip-path=\"url(#clip530)\" d=\"M156.019 801.638 Q152.408 801.638 150.579 805.203 Q148.774 808.745 148.774 815.875 Q148.774 822.981 150.579 826.546 Q152.408 830.087 156.019 830.087 Q159.653 830.087 161.459 826.546 Q163.288 822.981 163.288 815.875 Q163.288 808.745 161.459 805.203 Q159.653 801.638 156.019 801.638 M156.019 797.935 Q161.829 797.935 164.885 802.541 Q167.964 807.125 167.964 815.875 Q167.964 824.601 164.885 829.208 Q161.829 833.791 156.019 833.791 Q150.209 833.791 147.13 829.208 Q144.075 824.601 144.075 815.875 Q144.075 807.125 147.13 802.541 Q150.209 797.935 156.019 797.935 Z\" fill=\"#000000\" fill-rule=\"nonzero\" fill-opacity=\"1\" /><path clip-path=\"url(#clip530)\" d=\"M186.181 801.638 Q182.57 801.638 180.741 805.203 Q178.936 808.745 178.936 815.875 Q178.936 822.981 180.741 826.546 Q182.57 830.087 186.181 830.087 Q189.815 830.087 191.621 826.546 Q193.45 822.981 193.45 815.875 Q193.45 808.745 191.621 805.203 Q189.815 801.638 186.181 801.638 M186.181 797.935 Q191.991 797.935 195.047 802.541 Q198.125 807.125 198.125 815.875 Q198.125 824.601 195.047 829.208 Q191.991 833.791 186.181 833.791 Q180.371 833.791 177.292 829.208 Q174.237 824.601 174.237 815.875 Q174.237 807.125 177.292 802.541 Q180.371 797.935 186.181 797.935 Z\" fill=\"#000000\" fill-rule=\"nonzero\" fill-opacity=\"1\" /><path clip-path=\"url(#clip530)\" d=\"M116.668 525.515 L124.306 525.515 L124.306 499.149 L115.996 500.816 L115.996 496.556 L124.26 494.89 L128.936 494.89 L128.936 525.515 L136.575 525.515 L136.575 529.45 L116.668 529.45 L116.668 525.515 Z\" fill=\"#000000\" fill-rule=\"nonzero\" fill-opacity=\"1\" /><path clip-path=\"url(#clip530)\" d=\"M146.066 494.89 L164.422 494.89 L164.422 498.825 L150.348 498.825 L150.348 507.297 Q151.366 506.95 152.385 506.788 Q153.403 506.603 154.422 506.603 Q160.209 506.603 163.589 509.774 Q166.968 512.945 166.968 518.362 Q166.968 523.941 163.496 527.042 Q160.024 530.121 153.704 530.121 Q151.528 530.121 149.26 529.751 Q147.015 529.38 144.607 528.64 L144.607 523.941 Q146.691 525.075 148.913 525.63 Q151.135 526.186 153.612 526.186 Q157.616 526.186 159.954 524.079 Q162.292 521.973 162.292 518.362 Q162.292 514.751 159.954 512.644 Q157.616 510.538 153.612 510.538 Q151.737 510.538 149.862 510.954 Q148.01 511.371 146.066 512.251 L146.066 494.89 Z\" fill=\"#000000\" fill-rule=\"nonzero\" fill-opacity=\"1\" /><path clip-path=\"url(#clip530)\" d=\"M186.181 497.968 Q182.57 497.968 180.741 501.533 Q178.936 505.075 178.936 512.204 Q178.936 519.311 180.741 522.876 Q182.57 526.417 186.181 526.417 Q189.815 526.417 191.621 522.876 Q193.45 519.311 193.45 512.204 Q193.45 505.075 191.621 501.533 Q189.815 497.968 186.181 497.968 M186.181 494.265 Q191.991 494.265 195.047 498.871 Q198.125 503.455 198.125 512.204 Q198.125 520.931 195.047 525.538 Q191.991 530.121 186.181 530.121 Q180.371 530.121 177.292 525.538 Q174.237 520.931 174.237 512.204 Q174.237 503.455 177.292 498.871 Q180.371 494.265 186.181 494.265 Z\" fill=\"#000000\" fill-rule=\"nonzero\" fill-opacity=\"1\" /><path clip-path=\"url(#clip530)\" d=\"M119.885 221.845 L136.204 221.845 L136.204 225.78 L114.26 225.78 L114.26 221.845 Q116.922 219.09 121.505 214.46 Q126.112 209.808 127.292 208.465 Q129.538 205.942 130.417 204.206 Q131.32 202.447 131.32 200.757 Q131.32 198.002 129.376 196.266 Q127.455 194.53 124.353 194.53 Q122.154 194.53 119.7 195.294 Q117.269 196.058 114.492 197.609 L114.492 192.886 Q117.316 191.752 119.769 191.173 Q122.223 190.595 124.26 190.595 Q129.63 190.595 132.825 193.28 Q136.019 195.965 136.019 200.456 Q136.019 202.585 135.209 204.507 Q134.422 206.405 132.316 208.997 Q131.737 209.669 128.635 212.886 Q125.533 216.081 119.885 221.845 Z\" fill=\"#000000\" fill-rule=\"nonzero\" fill-opacity=\"1\" /><path clip-path=\"url(#clip530)\" d=\"M156.019 194.298 Q152.408 194.298 150.579 197.863 Q148.774 201.405 148.774 208.534 Q148.774 215.641 150.579 219.206 Q152.408 222.747 156.019 222.747 Q159.653 222.747 161.459 219.206 Q163.288 215.641 163.288 208.534 Q163.288 201.405 161.459 197.863 Q159.653 194.298 156.019 194.298 M156.019 190.595 Q161.829 190.595 164.885 195.201 Q167.964 199.785 167.964 208.534 Q167.964 217.261 164.885 221.868 Q161.829 226.451 156.019 226.451 Q150.209 226.451 147.13 221.868 Q144.075 217.261 144.075 208.534 Q144.075 199.785 147.13 195.201 Q150.209 190.595 156.019 190.595 Z\" fill=\"#000000\" fill-rule=\"nonzero\" fill-opacity=\"1\" /><path clip-path=\"url(#clip530)\" d=\"M186.181 194.298 Q182.57 194.298 180.741 197.863 Q178.936 201.405 178.936 208.534 Q178.936 215.641 180.741 219.206 Q182.57 222.747 186.181 222.747 Q189.815 222.747 191.621 219.206 Q193.45 215.641 193.45 208.534 Q193.45 201.405 191.621 197.863 Q189.815 194.298 186.181 194.298 M186.181 190.595 Q191.991 190.595 195.047 195.201 Q198.125 199.785 198.125 208.534 Q198.125 217.261 195.047 221.868 Q191.991 226.451 186.181 226.451 Q180.371 226.451 177.292 221.868 Q174.237 217.261 174.237 208.534 Q174.237 199.785 177.292 195.201 Q180.371 190.595 186.181 190.595 Z\" fill=\"#000000\" fill-rule=\"nonzero\" fill-opacity=\"1\" /><path clip-path=\"url(#clip530)\" d=\"M16.4842 937.529 L16.4842 910.221 L21.895 910.221 L21.895 931.1 L35.8996 931.1 L35.8996 912.258 L41.3104 912.258 L41.3104 931.1 L64.0042 931.1 L64.0042 937.529 L16.4842 937.529 Z\" fill=\"#000000\" fill-rule=\"nonzero\" fill-opacity=\"1\" /><path clip-path=\"url(#clip530)\" d=\"M33.8307 884.376 Q33.2578 885.362 33.0032 886.54 Q32.7167 887.686 32.7167 889.086 Q32.7167 894.052 35.9632 896.725 Q39.1779 899.367 45.2253 899.367 L64.0042 899.367 L64.0042 905.255 L28.3562 905.255 L28.3562 899.367 L33.8944 899.367 Q30.6479 897.521 29.0883 894.561 Q27.4968 891.601 27.4968 887.368 Q27.4968 886.763 27.5923 886.031 Q27.656 885.299 27.8151 884.408 L33.8307 884.376 Z\" fill=\"#000000\" fill-rule=\"nonzero\" fill-opacity=\"1\" /><path clip-path=\"url(#clip530)\" d=\"M44.7161 849.173 L47.5806 849.173 L47.5806 876.1 Q53.6281 875.718 56.8109 872.472 Q59.9619 869.194 59.9619 863.369 Q59.9619 859.995 59.1344 856.844 Q58.3069 853.661 56.6518 850.542 L62.1899 850.542 Q63.5267 853.693 64.227 857.003 Q64.9272 860.313 64.9272 863.719 Q64.9272 872.249 59.9619 877.246 Q54.9967 882.211 46.5303 882.211 Q37.7774 882.211 32.6531 877.501 Q27.4968 872.758 27.4968 864.738 Q27.4968 857.544 32.1438 853.375 Q36.7589 849.173 44.7161 849.173 M42.9973 855.03 Q38.1912 855.093 35.3266 857.735 Q32.4621 860.345 32.4621 864.674 Q32.4621 869.575 35.2312 872.536 Q38.0002 875.464 43.0292 875.909 L42.9973 855.03 Z\" fill=\"#000000\" fill-rule=\"nonzero\" fill-opacity=\"1\" /><path clip-path=\"url(#clip530)\" d=\"M46.212 836.06 Q52.6732 836.06 56.3653 833.418 Q60.0256 830.745 60.0256 826.098 Q60.0256 821.451 56.3653 818.777 Q52.6732 816.104 46.212 816.104 Q39.7508 816.104 36.0905 818.777 Q32.3984 821.451 32.3984 826.098 Q32.3984 830.745 36.0905 833.418 Q39.7508 836.06 46.212 836.06 M58.657 816.104 Q61.8398 817.95 63.3994 820.782 Q64.9272 823.583 64.9272 827.53 Q64.9272 833.991 59.771 838.065 Q54.6147 842.107 46.212 842.107 Q37.8093 842.107 32.6531 838.065 Q27.4968 833.991 27.4968 827.53 Q27.4968 823.583 29.0564 820.782 Q30.5842 817.95 33.7671 816.104 L28.3562 816.104 L28.3562 810.247 L77.5631 810.247 L77.5631 816.104 L58.657 816.104 Z\" fill=\"#000000\" fill-rule=\"nonzero\" fill-opacity=\"1\" /><path clip-path=\"url(#clip530)\" d=\"M49.9359 798.789 L28.3562 798.789 L28.3562 792.932 L49.7131 792.932 Q54.7739 792.932 57.3202 790.959 Q59.8346 788.986 59.8346 785.039 Q59.8346 780.296 56.8109 777.559 Q53.7872 774.79 48.5673 774.79 L28.3562 774.79 L28.3562 768.934 L64.0042 768.934 L64.0042 774.79 L58.5296 774.79 Q61.7762 776.923 63.3676 779.755 Q64.9272 782.556 64.9272 786.28 Q64.9272 792.423 61.1078 795.606 Q57.2883 798.789 49.9359 798.789 M27.4968 784.052 L27.4968 784.052 Z\" fill=\"#000000\" fill-rule=\"nonzero\" fill-opacity=\"1\" /><path clip-path=\"url(#clip530)\" d=\"M44.7161 726.379 L47.5806 726.379 L47.5806 753.306 Q53.6281 752.924 56.8109 749.677 Q59.9619 746.399 59.9619 740.574 Q59.9619 737.201 59.1344 734.05 Q58.3069 730.867 56.6518 727.748 L62.1899 727.748 Q63.5267 730.899 64.227 734.209 Q64.9272 737.519 64.9272 740.925 Q64.9272 749.455 59.9619 754.452 Q54.9967 759.417 46.5303 759.417 Q37.7774 759.417 32.6531 754.706 Q27.4968 749.964 27.4968 741.943 Q27.4968 734.75 32.1438 730.58 Q36.7589 726.379 44.7161 726.379 M42.9973 732.235 Q38.1912 732.299 35.3266 734.941 Q32.4621 737.551 32.4621 741.879 Q32.4621 746.781 35.2312 749.741 Q38.0002 752.669 43.0292 753.115 L42.9973 732.235 Z\" fill=\"#000000\" fill-rule=\"nonzero\" fill-opacity=\"1\" /><path clip-path=\"url(#clip530)\" d=\"M42.4881 687.134 L64.0042 687.134 L64.0042 692.991 L42.679 692.991 Q37.6183 692.991 35.1038 694.964 Q32.5894 696.938 32.5894 700.884 Q32.5894 705.627 35.6131 708.364 Q38.6368 711.101 43.8567 711.101 L64.0042 711.101 L64.0042 716.989 L28.3562 716.989 L28.3562 711.101 L33.8944 711.101 Q30.6797 709.001 29.0883 706.168 Q27.4968 703.303 27.4968 699.579 Q27.4968 693.436 31.3163 690.285 Q35.1038 687.134 42.4881 687.134 Z\" fill=\"#000000\" fill-rule=\"nonzero\" fill-opacity=\"1\" /><path clip-path=\"url(#clip530)\" d=\"M29.7248 649.799 L35.1993 649.799 Q33.8307 652.282 33.1623 654.797 Q32.4621 657.279 32.4621 659.825 Q32.4621 665.523 36.0905 668.674 Q39.6872 671.825 46.212 671.825 Q52.7369 671.825 56.3653 668.674 Q59.9619 665.523 59.9619 659.825 Q59.9619 657.279 59.2935 654.797 Q58.5933 652.282 57.2247 649.799 L62.6355 649.799 Q63.7814 652.25 64.3543 654.892 Q64.9272 657.502 64.9272 660.462 Q64.9272 668.515 59.8664 673.257 Q54.8057 678 46.212 678 Q37.491 678 32.4939 673.225 Q27.4968 668.419 27.4968 660.08 Q27.4968 657.375 28.0697 654.797 Q28.6108 652.218 29.7248 649.799 Z\" fill=\"#000000\" fill-rule=\"nonzero\" fill-opacity=\"1\" /><path clip-path=\"url(#clip530)\" d=\"M67.3143 624.782 Q73.68 627.265 75.6216 629.62 Q77.5631 631.975 77.5631 635.922 L77.5631 640.601 L72.6615 640.601 L72.6615 637.164 Q72.6615 634.745 71.5157 633.408 Q70.3699 632.071 66.1048 630.448 L63.4312 629.397 L28.3562 643.816 L28.3562 637.609 L56.238 626.469 L28.3562 615.329 L28.3562 609.123 L67.3143 624.782 Z\" fill=\"#000000\" fill-rule=\"nonzero\" fill-opacity=\"1\" /><path clip-path=\"url(#clip530)\" d=\"M1085.85 12.096 L1094.03 12.096 L1094.03 36.8875 L1123.77 36.8875 L1123.77 12.096 L1131.95 12.096 L1131.95 72.576 L1123.77 72.576 L1123.77 43.7741 L1094.03 43.7741 L1094.03 72.576 L1085.85 72.576 L1085.85 12.096 Z\" fill=\"#000000\" fill-rule=\"nonzero\" fill-opacity=\"1\" /><path clip-path=\"url(#clip530)\" d=\"M1147.91 27.2059 L1155.37 27.2059 L1155.37 72.576 L1147.91 72.576 L1147.91 27.2059 M1147.91 9.54393 L1155.37 9.54393 L1155.37 18.9825 L1147.91 18.9825 L1147.91 9.54393 Z\" fill=\"#000000\" fill-rule=\"nonzero\" fill-opacity=\"1\" /><path clip-path=\"url(#clip530)\" d=\"M1199.89 28.5427 L1199.89 35.5912 Q1196.73 33.9709 1193.32 33.1607 Q1189.92 32.3505 1186.27 32.3505 Q1180.72 32.3505 1177.93 34.0519 Q1175.17 35.7533 1175.17 39.156 Q1175.17 41.7486 1177.16 43.2475 Q1179.14 44.7058 1185.14 46.0426 L1187.69 46.6097 Q1195.63 48.3111 1198.95 51.4303 Q1202.32 54.509 1202.32 60.0587 Q1202.32 66.3781 1197.29 70.0644 Q1192.31 73.7508 1183.56 73.7508 Q1179.91 73.7508 1175.94 73.0216 Q1172.01 72.3329 1167.64 70.9151 L1167.64 63.2184 Q1171.77 65.3654 1175.78 66.4591 Q1179.79 67.5124 1183.72 67.5124 Q1188.99 67.5124 1191.82 65.73 Q1194.66 63.9071 1194.66 60.6258 Q1194.66 57.5877 1192.59 55.9673 Q1190.57 54.3469 1183.64 52.8481 L1181.05 52.2405 Q1174.12 50.7821 1171.04 47.7845 Q1167.96 44.7463 1167.96 39.4801 Q1167.96 33.0797 1172.5 29.5959 Q1177.04 26.1121 1185.38 26.1121 Q1189.51 26.1121 1193.16 26.7198 Q1196.81 27.3274 1199.89 28.5427 Z\" fill=\"#000000\" fill-rule=\"nonzero\" fill-opacity=\"1\" /><path clip-path=\"url(#clip530)\" d=\"M1221.56 14.324 L1221.56 27.2059 L1236.91 27.2059 L1236.91 32.9987 L1221.56 32.9987 L1221.56 57.6282 Q1221.56 63.1779 1223.06 64.7578 Q1224.6 66.3376 1229.25 66.3376 L1236.91 66.3376 L1236.91 72.576 L1229.25 72.576 Q1220.63 72.576 1217.34 69.3758 Q1214.06 66.1351 1214.06 57.6282 L1214.06 32.9987 L1208.59 32.9987 L1208.59 27.2059 L1214.06 27.2059 L1214.06 14.324 L1221.56 14.324 Z\" fill=\"#000000\" fill-rule=\"nonzero\" fill-opacity=\"1\" /><path clip-path=\"url(#clip530)\" d=\"M1264.29 32.4315 Q1258.3 32.4315 1254.82 37.1306 Q1251.33 41.7891 1251.33 49.9314 Q1251.33 58.0738 1254.77 62.7728 Q1258.26 67.4314 1264.29 67.4314 Q1270.25 67.4314 1273.73 62.7323 Q1277.22 58.0333 1277.22 49.9314 Q1277.22 41.8701 1273.73 37.1711 Q1270.25 32.4315 1264.29 32.4315 M1264.29 26.1121 Q1274.02 26.1121 1279.57 32.4315 Q1285.12 38.7509 1285.12 49.9314 Q1285.12 61.0714 1279.57 67.4314 Q1274.02 73.7508 1264.29 73.7508 Q1254.53 73.7508 1248.98 67.4314 Q1243.47 61.0714 1243.47 49.9314 Q1243.47 38.7509 1248.98 32.4315 Q1254.53 26.1121 1264.29 26.1121 Z\" fill=\"#000000\" fill-rule=\"nonzero\" fill-opacity=\"1\" /><path clip-path=\"url(#clip530)\" d=\"M1327.33 49.3643 Q1327.33 41.2625 1323.96 36.8065 Q1320.64 32.3505 1314.61 32.3505 Q1308.61 32.3505 1305.25 36.8065 Q1301.93 41.2625 1301.93 49.3643 Q1301.93 57.4256 1305.25 61.8816 Q1308.61 66.3376 1314.61 66.3376 Q1320.64 66.3376 1323.96 61.8816 Q1327.33 57.4256 1327.33 49.3643 M1334.78 66.9452 Q1334.78 78.5308 1329.64 84.1616 Q1324.49 89.8329 1313.88 89.8329 Q1309.95 89.8329 1306.46 89.2252 Q1302.98 88.6581 1299.7 87.4428 L1299.7 80.1917 Q1302.98 81.9741 1306.18 82.8248 Q1309.38 83.6755 1312.7 83.6755 Q1320.03 83.6755 1323.68 79.8271 Q1327.33 76.0193 1327.33 68.282 L1327.33 64.5957 Q1325.02 68.6061 1321.41 70.5911 Q1317.81 72.576 1312.78 72.576 Q1304.44 72.576 1299.33 66.2161 Q1294.23 59.8562 1294.23 49.3643 Q1294.23 38.832 1299.33 32.472 Q1304.44 26.1121 1312.78 26.1121 Q1317.81 26.1121 1321.41 28.0971 Q1325.02 30.082 1327.33 34.0924 L1327.33 27.2059 L1334.78 27.2059 L1334.78 66.9452 Z\" fill=\"#000000\" fill-rule=\"nonzero\" fill-opacity=\"1\" /><path clip-path=\"url(#clip530)\" d=\"M1376.42 34.1734 Q1375.17 33.4443 1373.67 33.1202 Q1372.21 32.7556 1370.43 32.7556 Q1364.11 32.7556 1360.71 36.8875 Q1357.34 40.9789 1357.34 48.6757 L1357.34 72.576 L1349.85 72.576 L1349.85 27.2059 L1357.34 27.2059 L1357.34 34.2544 Q1359.69 30.1225 1363.46 28.1376 Q1367.23 26.1121 1372.62 26.1121 Q1373.39 26.1121 1374.32 26.2337 Q1375.25 26.3147 1376.38 26.5172 L1376.42 34.1734 Z\" fill=\"#000000\" fill-rule=\"nonzero\" fill-opacity=\"1\" /><path clip-path=\"url(#clip530)\" d=\"M1404.86 49.7694 Q1395.83 49.7694 1392.34 51.8354 Q1388.86 53.9013 1388.86 58.8839 Q1388.86 62.8538 1391.45 65.2034 Q1394.09 67.5124 1398.58 67.5124 Q1404.78 67.5124 1408.51 63.1374 Q1412.27 58.7219 1412.27 51.4303 L1412.27 49.7694 L1404.86 49.7694 M1419.73 46.6907 L1419.73 72.576 L1412.27 72.576 L1412.27 65.6895 Q1409.72 69.8214 1405.91 71.8063 Q1402.11 73.7508 1396.6 73.7508 Q1389.63 73.7508 1385.5 69.8619 Q1381.41 65.9325 1381.41 59.3701 Q1381.41 51.7138 1386.51 47.825 Q1391.65 43.9361 1401.82 43.9361 L1412.27 43.9361 L1412.27 43.2069 Q1412.27 38.0623 1408.87 35.2672 Q1405.51 32.4315 1399.39 32.4315 Q1395.5 32.4315 1391.82 33.3632 Q1388.13 34.295 1384.73 36.1584 L1384.73 29.2718 Q1388.82 27.692 1392.67 26.9223 Q1396.52 26.1121 1400.16 26.1121 Q1410.01 26.1121 1414.87 31.2163 Q1419.73 36.3204 1419.73 46.6907 Z\" fill=\"#000000\" fill-rule=\"nonzero\" fill-opacity=\"1\" /><path clip-path=\"url(#clip530)\" d=\"M1470.4 35.9153 Q1473.2 30.8922 1477.09 28.5022 Q1480.98 26.1121 1486.24 26.1121 Q1493.33 26.1121 1497.18 31.0947 Q1501.03 36.0368 1501.03 45.1919 L1501.03 72.576 L1493.54 72.576 L1493.54 45.4349 Q1493.54 38.913 1491.23 35.7533 Q1488.92 32.5936 1484.18 32.5936 Q1478.38 32.5936 1475.02 36.4419 Q1471.66 40.2903 1471.66 46.9338 L1471.66 72.576 L1464.17 72.576 L1464.17 45.4349 Q1464.17 38.8725 1461.86 35.7533 Q1459.55 32.5936 1454.73 32.5936 Q1449.02 32.5936 1445.65 36.4824 Q1442.29 40.3308 1442.29 46.9338 L1442.29 72.576 L1434.8 72.576 L1434.8 27.2059 L1442.29 27.2059 L1442.29 34.2544 Q1444.84 30.082 1448.41 28.0971 Q1451.97 26.1121 1456.87 26.1121 Q1461.82 26.1121 1465.26 28.6237 Q1468.74 31.1352 1470.4 35.9153 Z\" fill=\"#000000\" fill-rule=\"nonzero\" fill-opacity=\"1\" /><path clip-path=\"url(#clip532)\" d=\"M350.654 1417.11 L350.654 1423.18 L476.359 1423.18 L476.359 1417.11 L350.654 1417.11 L350.654 1417.11  Z\" fill=\"#009af9\" fill-rule=\"evenodd\" fill-opacity=\"1\"/>\n",
       "<polyline clip-path=\"url(#clip532)\" style=\"stroke:#000000; stroke-linecap:round; stroke-linejoin:round; stroke-width:4; stroke-opacity:1; fill:none\" points=\"350.654,1417.11 350.654,1423.18 476.359,1423.18 476.359,1417.11 350.654,1417.11 \"/>\n",
       "<path clip-path=\"url(#clip532)\" d=\"M476.359 1417.11 L476.359 1423.18 L602.064 1423.18 L602.064 1417.11 L476.359 1417.11 L476.359 1417.11  Z\" fill=\"#009af9\" fill-rule=\"evenodd\" fill-opacity=\"1\"/>\n",
       "<polyline clip-path=\"url(#clip532)\" style=\"stroke:#000000; stroke-linecap:round; stroke-linejoin:round; stroke-width:4; stroke-opacity:1; fill:none\" points=\"476.359,1417.11 476.359,1423.18 602.064,1423.18 602.064,1417.11 476.359,1417.11 \"/>\n",
       "<path clip-path=\"url(#clip532)\" d=\"M602.064 1392.81 L602.064 1423.18 L727.769 1423.18 L727.769 1392.81 L602.064 1392.81 L602.064 1392.81  Z\" fill=\"#009af9\" fill-rule=\"evenodd\" fill-opacity=\"1\"/>\n",
       "<polyline clip-path=\"url(#clip532)\" style=\"stroke:#000000; stroke-linecap:round; stroke-linejoin:round; stroke-width:4; stroke-opacity:1; fill:none\" points=\"602.064,1392.81 602.064,1423.18 727.769,1423.18 727.769,1392.81 602.064,1392.81 \"/>\n",
       "<path clip-path=\"url(#clip532)\" d=\"M727.769 1332.08 L727.769 1423.18 L853.474 1423.18 L853.474 1332.08 L727.769 1332.08 L727.769 1332.08  Z\" fill=\"#009af9\" fill-rule=\"evenodd\" fill-opacity=\"1\"/>\n",
       "<polyline clip-path=\"url(#clip532)\" style=\"stroke:#000000; stroke-linecap:round; stroke-linejoin:round; stroke-width:4; stroke-opacity:1; fill:none\" points=\"727.769,1332.08 727.769,1423.18 853.474,1423.18 853.474,1332.08 727.769,1332.08 \"/>\n",
       "<path clip-path=\"url(#clip532)\" d=\"M853.474 1168.1 L853.474 1423.18 L979.178 1423.18 L979.178 1168.1 L853.474 1168.1 L853.474 1168.1  Z\" fill=\"#009af9\" fill-rule=\"evenodd\" fill-opacity=\"1\"/>\n",
       "<polyline clip-path=\"url(#clip532)\" style=\"stroke:#000000; stroke-linecap:round; stroke-linejoin:round; stroke-width:4; stroke-opacity:1; fill:none\" points=\"853.474,1168.1 853.474,1423.18 979.178,1423.18 979.178,1168.1 853.474,1168.1 \"/>\n",
       "<path clip-path=\"url(#clip532)\" d=\"M979.178 858.354 L979.178 1423.18 L1104.88 1423.18 L1104.88 858.354 L979.178 858.354 L979.178 858.354  Z\" fill=\"#009af9\" fill-rule=\"evenodd\" fill-opacity=\"1\"/>\n",
       "<polyline clip-path=\"url(#clip532)\" style=\"stroke:#000000; stroke-linecap:round; stroke-linejoin:round; stroke-width:4; stroke-opacity:1; fill:none\" points=\"979.178,858.354 979.178,1423.18 1104.88,1423.18 1104.88,858.354 979.178,858.354 \"/>\n",
       "<path clip-path=\"url(#clip532)\" d=\"M1104.88 463.583 L1104.88 1423.18 L1230.59 1423.18 L1230.59 463.583 L1104.88 463.583 L1104.88 463.583  Z\" fill=\"#009af9\" fill-rule=\"evenodd\" fill-opacity=\"1\"/>\n",
       "<polyline clip-path=\"url(#clip532)\" style=\"stroke:#000000; stroke-linecap:round; stroke-linejoin:round; stroke-width:4; stroke-opacity:1; fill:none\" points=\"1104.88,463.583 1104.88,1423.18 1230.59,1423.18 1230.59,463.583 1104.88,463.583 \"/>\n",
       "<path clip-path=\"url(#clip532)\" d=\"M1230.59 414.995 L1230.59 1423.18 L1356.29 1423.18 L1356.29 414.995 L1230.59 414.995 L1230.59 414.995  Z\" fill=\"#009af9\" fill-rule=\"evenodd\" fill-opacity=\"1\"/>\n",
       "<polyline clip-path=\"url(#clip532)\" style=\"stroke:#000000; stroke-linecap:round; stroke-linejoin:round; stroke-width:4; stroke-opacity:1; fill:none\" points=\"1230.59,414.995 1230.59,1423.18 1356.29,1423.18 1356.29,414.995 1230.59,414.995 \"/>\n",
       "<path clip-path=\"url(#clip532)\" d=\"M1356.29 123.472 L1356.29 1423.18 L1482 1423.18 L1482 123.472 L1356.29 123.472 L1356.29 123.472  Z\" fill=\"#009af9\" fill-rule=\"evenodd\" fill-opacity=\"1\"/>\n",
       "<polyline clip-path=\"url(#clip532)\" style=\"stroke:#000000; stroke-linecap:round; stroke-linejoin:round; stroke-width:4; stroke-opacity:1; fill:none\" points=\"1356.29,123.472 1356.29,1423.18 1482,1423.18 1482,123.472 1356.29,123.472 \"/>\n",
       "<path clip-path=\"url(#clip532)\" d=\"M1482 463.583 L1482 1423.18 L1607.7 1423.18 L1607.7 463.583 L1482 463.583 L1482 463.583  Z\" fill=\"#009af9\" fill-rule=\"evenodd\" fill-opacity=\"1\"/>\n",
       "<polyline clip-path=\"url(#clip532)\" style=\"stroke:#000000; stroke-linecap:round; stroke-linejoin:round; stroke-width:4; stroke-opacity:1; fill:none\" points=\"1482,463.583 1482,1423.18 1607.7,1423.18 1607.7,463.583 1482,463.583 \"/>\n",
       "<path clip-path=\"url(#clip532)\" d=\"M1607.7 1010.19 L1607.7 1423.18 L1733.41 1423.18 L1733.41 1010.19 L1607.7 1010.19 L1607.7 1010.19  Z\" fill=\"#009af9\" fill-rule=\"evenodd\" fill-opacity=\"1\"/>\n",
       "<polyline clip-path=\"url(#clip532)\" style=\"stroke:#000000; stroke-linecap:round; stroke-linejoin:round; stroke-width:4; stroke-opacity:1; fill:none\" points=\"1607.7,1010.19 1607.7,1423.18 1733.41,1423.18 1733.41,1010.19 1607.7,1010.19 \"/>\n",
       "<path clip-path=\"url(#clip532)\" d=\"M1733.41 1149.88 L1733.41 1423.18 L1859.11 1423.18 L1859.11 1149.88 L1733.41 1149.88 L1733.41 1149.88  Z\" fill=\"#009af9\" fill-rule=\"evenodd\" fill-opacity=\"1\"/>\n",
       "<polyline clip-path=\"url(#clip532)\" style=\"stroke:#000000; stroke-linecap:round; stroke-linejoin:round; stroke-width:4; stroke-opacity:1; fill:none\" points=\"1733.41,1149.88 1733.41,1423.18 1859.11,1423.18 1859.11,1149.88 1733.41,1149.88 \"/>\n",
       "<path clip-path=\"url(#clip532)\" d=\"M1859.11 1259.2 L1859.11 1423.18 L1984.82 1423.18 L1984.82 1259.2 L1859.11 1259.2 L1859.11 1259.2  Z\" fill=\"#009af9\" fill-rule=\"evenodd\" fill-opacity=\"1\"/>\n",
       "<polyline clip-path=\"url(#clip532)\" style=\"stroke:#000000; stroke-linecap:round; stroke-linejoin:round; stroke-width:4; stroke-opacity:1; fill:none\" points=\"1859.11,1259.2 1859.11,1423.18 1984.82,1423.18 1984.82,1259.2 1859.11,1259.2 \"/>\n",
       "<path clip-path=\"url(#clip532)\" d=\"M1984.82 1404.96 L1984.82 1423.18 L2110.52 1423.18 L2110.52 1404.96 L1984.82 1404.96 L1984.82 1404.96  Z\" fill=\"#009af9\" fill-rule=\"evenodd\" fill-opacity=\"1\"/>\n",
       "<polyline clip-path=\"url(#clip532)\" style=\"stroke:#000000; stroke-linecap:round; stroke-linejoin:round; stroke-width:4; stroke-opacity:1; fill:none\" points=\"1984.82,1404.96 1984.82,1423.18 2110.52,1423.18 2110.52,1404.96 1984.82,1404.96 \"/>\n",
       "<path clip-path=\"url(#clip532)\" d=\"M2110.52 1398.89 L2110.52 1423.18 L2236.23 1423.18 L2236.23 1398.89 L2110.52 1398.89 L2110.52 1398.89  Z\" fill=\"#009af9\" fill-rule=\"evenodd\" fill-opacity=\"1\"/>\n",
       "<polyline clip-path=\"url(#clip532)\" style=\"stroke:#000000; stroke-linecap:round; stroke-linejoin:round; stroke-width:4; stroke-opacity:1; fill:none\" points=\"2110.52,1398.89 2110.52,1423.18 2236.23,1423.18 2236.23,1398.89 2110.52,1398.89 \"/>\n",
       "<circle clip-path=\"url(#clip532)\" style=\"fill:#009af9; stroke:none; fill-opacity:0\" cx=\"413.506\" cy=\"1417.11\" r=\"2\"/>\n",
       "<circle clip-path=\"url(#clip532)\" style=\"fill:#009af9; stroke:none; fill-opacity:0\" cx=\"539.211\" cy=\"1417.11\" r=\"2\"/>\n",
       "<circle clip-path=\"url(#clip532)\" style=\"fill:#009af9; stroke:none; fill-opacity:0\" cx=\"664.916\" cy=\"1392.81\" r=\"2\"/>\n",
       "<circle clip-path=\"url(#clip532)\" style=\"fill:#009af9; stroke:none; fill-opacity:0\" cx=\"790.621\" cy=\"1332.08\" r=\"2\"/>\n",
       "<circle clip-path=\"url(#clip532)\" style=\"fill:#009af9; stroke:none; fill-opacity:0\" cx=\"916.326\" cy=\"1168.1\" r=\"2\"/>\n",
       "<circle clip-path=\"url(#clip532)\" style=\"fill:#009af9; stroke:none; fill-opacity:0\" cx=\"1042.03\" cy=\"858.354\" r=\"2\"/>\n",
       "<circle clip-path=\"url(#clip532)\" style=\"fill:#009af9; stroke:none; fill-opacity:0\" cx=\"1167.74\" cy=\"463.583\" r=\"2\"/>\n",
       "<circle clip-path=\"url(#clip532)\" style=\"fill:#009af9; stroke:none; fill-opacity:0\" cx=\"1293.44\" cy=\"414.995\" r=\"2\"/>\n",
       "<circle clip-path=\"url(#clip532)\" style=\"fill:#009af9; stroke:none; fill-opacity:0\" cx=\"1419.15\" cy=\"123.472\" r=\"2\"/>\n",
       "<circle clip-path=\"url(#clip532)\" style=\"fill:#009af9; stroke:none; fill-opacity:0\" cx=\"1544.85\" cy=\"463.583\" r=\"2\"/>\n",
       "<circle clip-path=\"url(#clip532)\" style=\"fill:#009af9; stroke:none; fill-opacity:0\" cx=\"1670.56\" cy=\"1010.19\" r=\"2\"/>\n",
       "<circle clip-path=\"url(#clip532)\" style=\"fill:#009af9; stroke:none; fill-opacity:0\" cx=\"1796.26\" cy=\"1149.88\" r=\"2\"/>\n",
       "<circle clip-path=\"url(#clip532)\" style=\"fill:#009af9; stroke:none; fill-opacity:0\" cx=\"1921.97\" cy=\"1259.2\" r=\"2\"/>\n",
       "<circle clip-path=\"url(#clip532)\" style=\"fill:#009af9; stroke:none; fill-opacity:0\" cx=\"2047.67\" cy=\"1404.96\" r=\"2\"/>\n",
       "<circle clip-path=\"url(#clip532)\" style=\"fill:#009af9; stroke:none; fill-opacity:0\" cx=\"2173.38\" cy=\"1398.89\" r=\"2\"/>\n",
       "<path clip-path=\"url(#clip530)\" d=\"M1966.04 270.476 L2282.13 270.476 L2282.13 166.796 L1966.04 166.796  Z\" fill=\"#ffffff\" fill-rule=\"evenodd\" fill-opacity=\"1\"/>\n",
       "<polyline clip-path=\"url(#clip530)\" style=\"stroke:#000000; stroke-linecap:round; stroke-linejoin:round; stroke-width:4; stroke-opacity:1; fill:none\" points=\"1966.04,270.476 2282.13,270.476 2282.13,166.796 1966.04,166.796 1966.04,270.476 \"/>\n",
       "<path clip-path=\"url(#clip530)\" d=\"M1989.58 239.372 L2130.82 239.372 L2130.82 197.9 L1989.58 197.9 L1989.58 239.372  Z\" fill=\"#009af9\" fill-rule=\"evenodd\" fill-opacity=\"1\"/>\n",
       "<polyline clip-path=\"url(#clip530)\" style=\"stroke:#000000; stroke-linecap:round; stroke-linejoin:round; stroke-width:4; stroke-opacity:1; fill:none\" points=\"1989.58,239.372 2130.82,239.372 2130.82,197.9 1989.58,197.9 1989.58,239.372 \"/>\n",
       "<path clip-path=\"url(#clip530)\" d=\"M2159.03 205.198 L2159.03 232.073 L2164.68 232.073 Q2171.84 232.073 2175.15 228.832 Q2178.48 225.592 2178.48 218.601 Q2178.48 211.657 2175.15 208.439 Q2171.84 205.198 2164.68 205.198 L2159.03 205.198 M2154.36 201.356 L2163.97 201.356 Q2174.01 201.356 2178.71 205.546 Q2183.41 209.712 2183.41 218.601 Q2183.41 227.536 2178.69 231.726 Q2173.97 235.916 2163.97 235.916 L2154.36 235.916 L2154.36 201.356 Z\" fill=\"#000000\" fill-rule=\"nonzero\" fill-opacity=\"1\" /><path clip-path=\"url(#clip530)\" d=\"M2202.46 222.883 Q2197.3 222.883 2195.31 224.064 Q2193.32 225.244 2193.32 228.092 Q2193.32 230.36 2194.8 231.703 Q2196.3 233.022 2198.87 233.022 Q2202.41 233.022 2204.54 230.522 Q2206.7 227.999 2206.7 223.832 L2206.7 222.883 L2202.46 222.883 M2210.96 221.124 L2210.96 235.916 L2206.7 235.916 L2206.7 231.981 Q2205.24 234.342 2203.06 235.476 Q2200.89 236.587 2197.74 236.587 Q2193.76 236.587 2191.4 234.365 Q2189.06 232.119 2189.06 228.369 Q2189.06 223.994 2191.97 221.772 Q2194.91 219.55 2200.72 219.55 L2206.7 219.55 L2206.7 219.133 Q2206.7 216.194 2204.75 214.596 Q2202.83 212.976 2199.34 212.976 Q2197.11 212.976 2195.01 213.508 Q2192.9 214.041 2190.96 215.106 L2190.96 211.17 Q2193.29 210.268 2195.49 209.828 Q2197.69 209.365 2199.78 209.365 Q2205.4 209.365 2208.18 212.282 Q2210.96 215.198 2210.96 221.124 Z\" fill=\"#000000\" fill-rule=\"nonzero\" fill-opacity=\"1\" /><path clip-path=\"url(#clip530)\" d=\"M2223.94 202.629 L2223.94 209.99 L2232.72 209.99 L2232.72 213.3 L2223.94 213.3 L2223.94 227.374 Q2223.94 230.545 2224.8 231.448 Q2225.68 232.351 2228.34 232.351 L2232.72 232.351 L2232.72 235.916 L2228.34 235.916 Q2223.41 235.916 2221.53 234.087 Q2219.66 232.235 2219.66 227.374 L2219.66 213.3 L2216.53 213.3 L2216.53 209.99 L2219.66 209.99 L2219.66 202.629 L2223.94 202.629 Z\" fill=\"#000000\" fill-rule=\"nonzero\" fill-opacity=\"1\" /><path clip-path=\"url(#clip530)\" d=\"M2250.1 222.883 Q2244.94 222.883 2242.95 224.064 Q2240.96 225.244 2240.96 228.092 Q2240.96 230.36 2242.44 231.703 Q2243.94 233.022 2246.51 233.022 Q2250.05 233.022 2252.18 230.522 Q2254.34 227.999 2254.34 223.832 L2254.34 222.883 L2250.1 222.883 M2258.59 221.124 L2258.59 235.916 L2254.34 235.916 L2254.34 231.981 Q2252.88 234.342 2250.7 235.476 Q2248.53 236.587 2245.38 236.587 Q2241.4 236.587 2239.03 234.365 Q2236.7 232.119 2236.7 228.369 Q2236.7 223.994 2239.61 221.772 Q2242.55 219.55 2248.36 219.55 L2254.34 219.55 L2254.34 219.133 Q2254.34 216.194 2252.39 214.596 Q2250.47 212.976 2246.97 212.976 Q2244.75 212.976 2242.65 213.508 Q2240.54 214.041 2238.59 215.106 L2238.59 211.17 Q2240.93 210.268 2243.13 209.828 Q2245.33 209.365 2247.41 209.365 Q2253.04 209.365 2255.82 212.282 Q2258.59 215.198 2258.59 221.124 Z\" fill=\"#000000\" fill-rule=\"nonzero\" fill-opacity=\"1\" /></svg>\n"
      ],
      "text/html": [
       "<?xml version=\"1.0\" encoding=\"utf-8\"?>\n",
       "<svg xmlns=\"http://www.w3.org/2000/svg\" xmlns:xlink=\"http://www.w3.org/1999/xlink\" width=\"600\" height=\"400\" viewBox=\"0 0 2400 1600\">\n",
       "<defs>\n",
       "  <clipPath id=\"clip580\">\n",
       "    <rect x=\"0\" y=\"0\" width=\"2400\" height=\"1600\"/>\n",
       "  </clipPath>\n",
       "</defs>\n",
       "<path clip-path=\"url(#clip580)\" d=\"M0 1600 L2400 1600 L2400 0 L0 0  Z\" fill=\"#ffffff\" fill-rule=\"evenodd\" fill-opacity=\"1\"/>\n",
       "<defs>\n",
       "  <clipPath id=\"clip581\">\n",
       "    <rect x=\"480\" y=\"0\" width=\"1681\" height=\"1600\"/>\n",
       "  </clipPath>\n",
       "</defs>\n",
       "<path clip-path=\"url(#clip580)\" d=\"M234.125 1423.18 L2352.76 1423.18 L2352.76 123.472 L234.125 123.472  Z\" fill=\"#ffffff\" fill-rule=\"evenodd\" fill-opacity=\"1\"/>\n",
       "<defs>\n",
       "  <clipPath id=\"clip582\">\n",
       "    <rect x=\"234\" y=\"123\" width=\"2120\" height=\"1301\"/>\n",
       "  </clipPath>\n",
       "</defs>\n",
       "<polyline clip-path=\"url(#clip582)\" style=\"stroke:#000000; stroke-linecap:round; stroke-linejoin:round; stroke-width:2; stroke-opacity:0.1; fill:none\" points=\"350.654,1423.18 350.654,123.472 \"/>\n",
       "<polyline clip-path=\"url(#clip582)\" style=\"stroke:#000000; stroke-linecap:round; stroke-linejoin:round; stroke-width:2; stroke-opacity:0.1; fill:none\" points=\"853.474,1423.18 853.474,123.472 \"/>\n",
       "<polyline clip-path=\"url(#clip582)\" style=\"stroke:#000000; stroke-linecap:round; stroke-linejoin:round; stroke-width:2; stroke-opacity:0.1; fill:none\" points=\"1356.29,1423.18 1356.29,123.472 \"/>\n",
       "<polyline clip-path=\"url(#clip582)\" style=\"stroke:#000000; stroke-linecap:round; stroke-linejoin:round; stroke-width:2; stroke-opacity:0.1; fill:none\" points=\"1859.11,1423.18 1859.11,123.472 \"/>\n",
       "<polyline clip-path=\"url(#clip582)\" style=\"stroke:#000000; stroke-linecap:round; stroke-linejoin:round; stroke-width:2; stroke-opacity:0.1; fill:none\" points=\"234.125,1423.18 2352.76,1423.18 \"/>\n",
       "<polyline clip-path=\"url(#clip582)\" style=\"stroke:#000000; stroke-linecap:round; stroke-linejoin:round; stroke-width:2; stroke-opacity:0.1; fill:none\" points=\"234.125,1119.51 2352.76,1119.51 \"/>\n",
       "<polyline clip-path=\"url(#clip582)\" style=\"stroke:#000000; stroke-linecap:round; stroke-linejoin:round; stroke-width:2; stroke-opacity:0.1; fill:none\" points=\"234.125,815.84 2352.76,815.84 \"/>\n",
       "<polyline clip-path=\"url(#clip582)\" style=\"stroke:#000000; stroke-linecap:round; stroke-linejoin:round; stroke-width:2; stroke-opacity:0.1; fill:none\" points=\"234.125,512.17 2352.76,512.17 \"/>\n",
       "<polyline clip-path=\"url(#clip582)\" style=\"stroke:#000000; stroke-linecap:round; stroke-linejoin:round; stroke-width:2; stroke-opacity:0.1; fill:none\" points=\"234.125,208.5 2352.76,208.5 \"/>\n",
       "<polyline clip-path=\"url(#clip580)\" style=\"stroke:#000000; stroke-linecap:round; stroke-linejoin:round; stroke-width:4; stroke-opacity:1; fill:none\" points=\"234.125,1423.18 2352.76,1423.18 \"/>\n",
       "<polyline clip-path=\"url(#clip580)\" style=\"stroke:#000000; stroke-linecap:round; stroke-linejoin:round; stroke-width:4; stroke-opacity:1; fill:none\" points=\"350.654,1423.18 350.654,1404.28 \"/>\n",
       "<polyline clip-path=\"url(#clip580)\" style=\"stroke:#000000; stroke-linecap:round; stroke-linejoin:round; stroke-width:4; stroke-opacity:1; fill:none\" points=\"853.474,1423.18 853.474,1404.28 \"/>\n",
       "<polyline clip-path=\"url(#clip580)\" style=\"stroke:#000000; stroke-linecap:round; stroke-linejoin:round; stroke-width:4; stroke-opacity:1; fill:none\" points=\"1356.29,1423.18 1356.29,1404.28 \"/>\n",
       "<polyline clip-path=\"url(#clip580)\" style=\"stroke:#000000; stroke-linecap:round; stroke-linejoin:round; stroke-width:4; stroke-opacity:1; fill:none\" points=\"1859.11,1423.18 1859.11,1404.28 \"/>\n",
       "<path clip-path=\"url(#clip580)\" d=\"M319.555 1468.75 L349.23 1468.75 L349.23 1472.69 L319.555 1472.69 L319.555 1468.75 Z\" fill=\"#000000\" fill-rule=\"nonzero\" fill-opacity=\"1\" /><path clip-path=\"url(#clip580)\" d=\"M372.17 1455.09 L360.364 1473.54 L372.17 1473.54 L372.17 1455.09 M370.943 1451.02 L376.823 1451.02 L376.823 1473.54 L381.753 1473.54 L381.753 1477.43 L376.823 1477.43 L376.823 1485.58 L372.17 1485.58 L372.17 1477.43 L356.568 1477.43 L356.568 1472.92 L370.943 1451.02 Z\" fill=\"#000000\" fill-rule=\"nonzero\" fill-opacity=\"1\" /><path clip-path=\"url(#clip580)\" d=\"M823.416 1468.75 L853.092 1468.75 L853.092 1472.69 L823.416 1472.69 L823.416 1468.75 Z\" fill=\"#000000\" fill-rule=\"nonzero\" fill-opacity=\"1\" /><path clip-path=\"url(#clip580)\" d=\"M867.212 1481.64 L883.531 1481.64 L883.531 1485.58 L861.587 1485.58 L861.587 1481.64 Q864.249 1478.89 868.832 1474.26 Q873.439 1469.61 874.619 1468.27 Q876.865 1465.74 877.744 1464.01 Q878.647 1462.25 878.647 1460.56 Q878.647 1457.8 876.703 1456.07 Q874.781 1454.33 871.679 1454.33 Q869.48 1454.33 867.027 1455.09 Q864.596 1455.86 861.818 1457.41 L861.818 1452.69 Q864.642 1451.55 867.096 1450.97 Q869.55 1450.39 871.587 1450.39 Q876.957 1450.39 880.152 1453.08 Q883.346 1455.77 883.346 1460.26 Q883.346 1462.39 882.536 1464.31 Q881.749 1466.2 879.642 1468.8 Q879.064 1469.47 875.962 1472.69 Q872.86 1475.88 867.212 1481.64 Z\" fill=\"#000000\" fill-rule=\"nonzero\" fill-opacity=\"1\" /><path clip-path=\"url(#clip580)\" d=\"M1356.29 1454.1 Q1352.68 1454.1 1350.85 1457.66 Q1349.05 1461.2 1349.05 1468.33 Q1349.05 1475.44 1350.85 1479.01 Q1352.68 1482.55 1356.29 1482.55 Q1359.93 1482.55 1361.73 1479.01 Q1363.56 1475.44 1363.56 1468.33 Q1363.56 1461.2 1361.73 1457.66 Q1359.93 1454.1 1356.29 1454.1 M1356.29 1450.39 Q1362.1 1450.39 1365.16 1455 Q1368.24 1459.58 1368.24 1468.33 Q1368.24 1477.06 1365.16 1481.67 Q1362.1 1486.25 1356.29 1486.25 Q1350.48 1486.25 1347.4 1481.67 Q1344.35 1477.06 1344.35 1468.33 Q1344.35 1459.58 1347.4 1455 Q1350.48 1450.39 1356.29 1450.39 Z\" fill=\"#000000\" fill-rule=\"nonzero\" fill-opacity=\"1\" /><path clip-path=\"url(#clip580)\" d=\"M1853.77 1481.64 L1870.08 1481.64 L1870.08 1485.58 L1848.14 1485.58 L1848.14 1481.64 Q1850.8 1478.89 1855.39 1474.26 Q1859.99 1469.61 1861.17 1468.27 Q1863.42 1465.74 1864.3 1464.01 Q1865.2 1462.25 1865.2 1460.56 Q1865.2 1457.8 1863.26 1456.07 Q1861.33 1454.33 1858.23 1454.33 Q1856.03 1454.33 1853.58 1455.09 Q1851.15 1455.86 1848.37 1457.41 L1848.37 1452.69 Q1851.2 1451.55 1853.65 1450.97 Q1856.1 1450.39 1858.14 1450.39 Q1863.51 1450.39 1866.71 1453.08 Q1869.9 1455.77 1869.9 1460.26 Q1869.9 1462.39 1869.09 1464.31 Q1868.3 1466.2 1866.2 1468.8 Q1865.62 1469.47 1862.52 1472.69 Q1859.41 1475.88 1853.77 1481.64 Z\" fill=\"#000000\" fill-rule=\"nonzero\" fill-opacity=\"1\" /><path clip-path=\"url(#clip580)\" d=\"M1224.07 1568.04 L1205.93 1520.52 L1212.64 1520.52 L1227.7 1560.53 L1242.79 1520.52 L1249.47 1520.52 L1231.36 1568.04 L1224.07 1568.04 Z\" fill=\"#000000\" fill-rule=\"nonzero\" fill-opacity=\"1\" /><path clip-path=\"url(#clip580)\" d=\"M1267.29 1550.12 Q1260.2 1550.12 1257.46 1551.75 Q1254.72 1553.37 1254.72 1557.29 Q1254.72 1560.4 1256.76 1562.25 Q1258.83 1564.07 1262.36 1564.07 Q1267.23 1564.07 1270.16 1560.63 Q1273.12 1557.16 1273.12 1551.43 L1273.12 1550.12 L1267.29 1550.12 M1278.97 1547.71 L1278.97 1568.04 L1273.12 1568.04 L1273.12 1562.63 Q1271.11 1565.88 1268.12 1567.44 Q1265.13 1568.97 1260.8 1568.97 Q1255.33 1568.97 1252.08 1565.91 Q1248.86 1562.82 1248.86 1557.67 Q1248.86 1551.65 1252.88 1548.6 Q1256.92 1545.54 1264.91 1545.54 L1273.12 1545.54 L1273.12 1544.97 Q1273.12 1540.93 1270.44 1538.73 Q1267.8 1536.5 1263 1536.5 Q1259.94 1536.5 1257.04 1537.23 Q1254.15 1537.97 1251.47 1539.43 L1251.47 1534.02 Q1254.69 1532.78 1257.71 1532.17 Q1260.74 1531.54 1263.6 1531.54 Q1271.34 1531.54 1275.16 1535.55 Q1278.97 1539.56 1278.97 1547.71 Z\" fill=\"#000000\" fill-rule=\"nonzero\" fill-opacity=\"1\" /><path clip-path=\"url(#clip580)\" d=\"M1291.04 1518.52 L1296.89 1518.52 L1296.89 1568.04 L1291.04 1568.04 L1291.04 1518.52 Z\" fill=\"#000000\" fill-rule=\"nonzero\" fill-opacity=\"1\" /><path clip-path=\"url(#clip580)\" d=\"M1308.54 1553.98 L1308.54 1532.4 L1314.4 1532.4 L1314.4 1553.75 Q1314.4 1558.81 1316.37 1561.36 Q1318.35 1563.87 1322.29 1563.87 Q1327.04 1563.87 1329.77 1560.85 Q1332.54 1557.83 1332.54 1552.61 L1332.54 1532.4 L1338.4 1532.4 L1338.4 1568.04 L1332.54 1568.04 L1332.54 1562.57 Q1330.41 1565.82 1327.58 1567.41 Q1324.78 1568.97 1321.05 1568.97 Q1314.91 1568.97 1311.73 1565.15 Q1308.54 1561.33 1308.54 1553.98 M1323.28 1531.54 L1323.28 1531.54 Z\" fill=\"#000000\" fill-rule=\"nonzero\" fill-opacity=\"1\" /><path clip-path=\"url(#clip580)\" d=\"M1380.95 1548.76 L1380.95 1551.62 L1354.03 1551.62 Q1354.41 1557.67 1357.65 1560.85 Q1360.93 1564 1366.76 1564 Q1370.13 1564 1373.28 1563.17 Q1376.47 1562.35 1379.58 1560.69 L1379.58 1566.23 Q1376.43 1567.57 1373.12 1568.27 Q1369.81 1568.97 1366.41 1568.97 Q1357.88 1568.97 1352.88 1564 Q1347.92 1559.04 1347.92 1550.57 Q1347.92 1541.82 1352.63 1536.69 Q1357.37 1531.54 1365.39 1531.54 Q1372.58 1531.54 1376.75 1536.18 Q1380.95 1540.8 1380.95 1548.76 M1375.1 1547.04 Q1375.03 1542.23 1372.39 1539.37 Q1369.78 1536.5 1365.45 1536.5 Q1360.55 1536.5 1357.59 1539.27 Q1354.66 1542.04 1354.22 1547.07 L1375.1 1547.04 Z\" fill=\"#000000\" fill-rule=\"nonzero\" fill-opacity=\"1\" /><polyline clip-path=\"url(#clip580)\" style=\"stroke:#000000; stroke-linecap:round; stroke-linejoin:round; stroke-width:4; stroke-opacity:1; fill:none\" points=\"234.125,1423.18 234.125,123.472 \"/>\n",
       "<polyline clip-path=\"url(#clip580)\" style=\"stroke:#000000; stroke-linecap:round; stroke-linejoin:round; stroke-width:4; stroke-opacity:1; fill:none\" points=\"234.125,1423.18 253.023,1423.18 \"/>\n",
       "<polyline clip-path=\"url(#clip580)\" style=\"stroke:#000000; stroke-linecap:round; stroke-linejoin:round; stroke-width:4; stroke-opacity:1; fill:none\" points=\"234.125,1119.51 253.023,1119.51 \"/>\n",
       "<polyline clip-path=\"url(#clip580)\" style=\"stroke:#000000; stroke-linecap:round; stroke-linejoin:round; stroke-width:4; stroke-opacity:1; fill:none\" points=\"234.125,815.84 253.023,815.84 \"/>\n",
       "<polyline clip-path=\"url(#clip580)\" style=\"stroke:#000000; stroke-linecap:round; stroke-linejoin:round; stroke-width:4; stroke-opacity:1; fill:none\" points=\"234.125,512.17 253.023,512.17 \"/>\n",
       "<polyline clip-path=\"url(#clip580)\" style=\"stroke:#000000; stroke-linecap:round; stroke-linejoin:round; stroke-width:4; stroke-opacity:1; fill:none\" points=\"234.125,208.5 253.023,208.5 \"/>\n",
       "<path clip-path=\"url(#clip580)\" d=\"M186.181 1408.98 Q182.57 1408.98 180.741 1412.54 Q178.936 1416.08 178.936 1423.21 Q178.936 1430.32 180.741 1433.89 Q182.57 1437.43 186.181 1437.43 Q189.815 1437.43 191.621 1433.89 Q193.45 1430.32 193.45 1423.21 Q193.45 1416.08 191.621 1412.54 Q189.815 1408.98 186.181 1408.98 M186.181 1405.27 Q191.991 1405.27 195.047 1409.88 Q198.125 1414.46 198.125 1423.21 Q198.125 1431.94 195.047 1436.55 Q191.991 1441.13 186.181 1441.13 Q180.371 1441.13 177.292 1436.55 Q174.237 1431.94 174.237 1423.21 Q174.237 1414.46 177.292 1409.88 Q180.371 1405.27 186.181 1405.27 Z\" fill=\"#000000\" fill-rule=\"nonzero\" fill-opacity=\"1\" /><path clip-path=\"url(#clip580)\" d=\"M146.066 1102.23 L164.422 1102.23 L164.422 1106.16 L150.348 1106.16 L150.348 1114.64 Q151.366 1114.29 152.385 1114.13 Q153.403 1113.94 154.422 1113.94 Q160.209 1113.94 163.589 1117.11 Q166.968 1120.29 166.968 1125.7 Q166.968 1131.28 163.496 1134.38 Q160.024 1137.46 153.704 1137.46 Q151.528 1137.46 149.26 1137.09 Q147.015 1136.72 144.607 1135.98 L144.607 1131.28 Q146.691 1132.41 148.913 1132.97 Q151.135 1133.53 153.612 1133.53 Q157.616 1133.53 159.954 1131.42 Q162.292 1129.31 162.292 1125.7 Q162.292 1122.09 159.954 1119.98 Q157.616 1117.88 153.612 1117.88 Q151.737 1117.88 149.862 1118.29 Q148.01 1118.71 146.066 1119.59 L146.066 1102.23 Z\" fill=\"#000000\" fill-rule=\"nonzero\" fill-opacity=\"1\" /><path clip-path=\"url(#clip580)\" d=\"M186.181 1105.31 Q182.57 1105.31 180.741 1108.87 Q178.936 1112.41 178.936 1119.54 Q178.936 1126.65 180.741 1130.22 Q182.57 1133.76 186.181 1133.76 Q189.815 1133.76 191.621 1130.22 Q193.45 1126.65 193.45 1119.54 Q193.45 1112.41 191.621 1108.87 Q189.815 1105.31 186.181 1105.31 M186.181 1101.6 Q191.991 1101.6 195.047 1106.21 Q198.125 1110.79 198.125 1119.54 Q198.125 1128.27 195.047 1132.88 Q191.991 1137.46 186.181 1137.46 Q180.371 1137.46 177.292 1132.88 Q174.237 1128.27 174.237 1119.54 Q174.237 1110.79 177.292 1106.21 Q180.371 1101.6 186.181 1101.6 Z\" fill=\"#000000\" fill-rule=\"nonzero\" fill-opacity=\"1\" /><path clip-path=\"url(#clip580)\" d=\"M116.668 829.185 L124.306 829.185 L124.306 802.819 L115.996 804.486 L115.996 800.226 L124.26 798.56 L128.936 798.56 L128.936 829.185 L136.575 829.185 L136.575 833.12 L116.668 833.12 L116.668 829.185 Z\" fill=\"#000000\" fill-rule=\"nonzero\" fill-opacity=\"1\" /><path clip-path=\"url(#clip580)\" d=\"M156.019 801.638 Q152.408 801.638 150.579 805.203 Q148.774 808.745 148.774 815.875 Q148.774 822.981 150.579 826.546 Q152.408 830.087 156.019 830.087 Q159.653 830.087 161.459 826.546 Q163.288 822.981 163.288 815.875 Q163.288 808.745 161.459 805.203 Q159.653 801.638 156.019 801.638 M156.019 797.935 Q161.829 797.935 164.885 802.541 Q167.964 807.125 167.964 815.875 Q167.964 824.601 164.885 829.208 Q161.829 833.791 156.019 833.791 Q150.209 833.791 147.13 829.208 Q144.075 824.601 144.075 815.875 Q144.075 807.125 147.13 802.541 Q150.209 797.935 156.019 797.935 Z\" fill=\"#000000\" fill-rule=\"nonzero\" fill-opacity=\"1\" /><path clip-path=\"url(#clip580)\" d=\"M186.181 801.638 Q182.57 801.638 180.741 805.203 Q178.936 808.745 178.936 815.875 Q178.936 822.981 180.741 826.546 Q182.57 830.087 186.181 830.087 Q189.815 830.087 191.621 826.546 Q193.45 822.981 193.45 815.875 Q193.45 808.745 191.621 805.203 Q189.815 801.638 186.181 801.638 M186.181 797.935 Q191.991 797.935 195.047 802.541 Q198.125 807.125 198.125 815.875 Q198.125 824.601 195.047 829.208 Q191.991 833.791 186.181 833.791 Q180.371 833.791 177.292 829.208 Q174.237 824.601 174.237 815.875 Q174.237 807.125 177.292 802.541 Q180.371 797.935 186.181 797.935 Z\" fill=\"#000000\" fill-rule=\"nonzero\" fill-opacity=\"1\" /><path clip-path=\"url(#clip580)\" d=\"M116.668 525.515 L124.306 525.515 L124.306 499.149 L115.996 500.816 L115.996 496.556 L124.26 494.89 L128.936 494.89 L128.936 525.515 L136.575 525.515 L136.575 529.45 L116.668 529.45 L116.668 525.515 Z\" fill=\"#000000\" fill-rule=\"nonzero\" fill-opacity=\"1\" /><path clip-path=\"url(#clip580)\" d=\"M146.066 494.89 L164.422 494.89 L164.422 498.825 L150.348 498.825 L150.348 507.297 Q151.366 506.95 152.385 506.788 Q153.403 506.603 154.422 506.603 Q160.209 506.603 163.589 509.774 Q166.968 512.945 166.968 518.362 Q166.968 523.941 163.496 527.042 Q160.024 530.121 153.704 530.121 Q151.528 530.121 149.26 529.751 Q147.015 529.38 144.607 528.64 L144.607 523.941 Q146.691 525.075 148.913 525.63 Q151.135 526.186 153.612 526.186 Q157.616 526.186 159.954 524.079 Q162.292 521.973 162.292 518.362 Q162.292 514.751 159.954 512.644 Q157.616 510.538 153.612 510.538 Q151.737 510.538 149.862 510.954 Q148.01 511.371 146.066 512.251 L146.066 494.89 Z\" fill=\"#000000\" fill-rule=\"nonzero\" fill-opacity=\"1\" /><path clip-path=\"url(#clip580)\" d=\"M186.181 497.968 Q182.57 497.968 180.741 501.533 Q178.936 505.075 178.936 512.204 Q178.936 519.311 180.741 522.876 Q182.57 526.417 186.181 526.417 Q189.815 526.417 191.621 522.876 Q193.45 519.311 193.45 512.204 Q193.45 505.075 191.621 501.533 Q189.815 497.968 186.181 497.968 M186.181 494.265 Q191.991 494.265 195.047 498.871 Q198.125 503.455 198.125 512.204 Q198.125 520.931 195.047 525.538 Q191.991 530.121 186.181 530.121 Q180.371 530.121 177.292 525.538 Q174.237 520.931 174.237 512.204 Q174.237 503.455 177.292 498.871 Q180.371 494.265 186.181 494.265 Z\" fill=\"#000000\" fill-rule=\"nonzero\" fill-opacity=\"1\" /><path clip-path=\"url(#clip580)\" d=\"M119.885 221.845 L136.204 221.845 L136.204 225.78 L114.26 225.78 L114.26 221.845 Q116.922 219.09 121.505 214.46 Q126.112 209.808 127.292 208.465 Q129.538 205.942 130.417 204.206 Q131.32 202.447 131.32 200.757 Q131.32 198.002 129.376 196.266 Q127.455 194.53 124.353 194.53 Q122.154 194.53 119.7 195.294 Q117.269 196.058 114.492 197.609 L114.492 192.886 Q117.316 191.752 119.769 191.173 Q122.223 190.595 124.26 190.595 Q129.63 190.595 132.825 193.28 Q136.019 195.965 136.019 200.456 Q136.019 202.585 135.209 204.507 Q134.422 206.405 132.316 208.997 Q131.737 209.669 128.635 212.886 Q125.533 216.081 119.885 221.845 Z\" fill=\"#000000\" fill-rule=\"nonzero\" fill-opacity=\"1\" /><path clip-path=\"url(#clip580)\" d=\"M156.019 194.298 Q152.408 194.298 150.579 197.863 Q148.774 201.405 148.774 208.534 Q148.774 215.641 150.579 219.206 Q152.408 222.747 156.019 222.747 Q159.653 222.747 161.459 219.206 Q163.288 215.641 163.288 208.534 Q163.288 201.405 161.459 197.863 Q159.653 194.298 156.019 194.298 M156.019 190.595 Q161.829 190.595 164.885 195.201 Q167.964 199.785 167.964 208.534 Q167.964 217.261 164.885 221.868 Q161.829 226.451 156.019 226.451 Q150.209 226.451 147.13 221.868 Q144.075 217.261 144.075 208.534 Q144.075 199.785 147.13 195.201 Q150.209 190.595 156.019 190.595 Z\" fill=\"#000000\" fill-rule=\"nonzero\" fill-opacity=\"1\" /><path clip-path=\"url(#clip580)\" d=\"M186.181 194.298 Q182.57 194.298 180.741 197.863 Q178.936 201.405 178.936 208.534 Q178.936 215.641 180.741 219.206 Q182.57 222.747 186.181 222.747 Q189.815 222.747 191.621 219.206 Q193.45 215.641 193.45 208.534 Q193.45 201.405 191.621 197.863 Q189.815 194.298 186.181 194.298 M186.181 190.595 Q191.991 190.595 195.047 195.201 Q198.125 199.785 198.125 208.534 Q198.125 217.261 195.047 221.868 Q191.991 226.451 186.181 226.451 Q180.371 226.451 177.292 221.868 Q174.237 217.261 174.237 208.534 Q174.237 199.785 177.292 195.201 Q180.371 190.595 186.181 190.595 Z\" fill=\"#000000\" fill-rule=\"nonzero\" fill-opacity=\"1\" /><path clip-path=\"url(#clip580)\" d=\"M16.4842 937.529 L16.4842 910.221 L21.895 910.221 L21.895 931.1 L35.8996 931.1 L35.8996 912.258 L41.3104 912.258 L41.3104 931.1 L64.0042 931.1 L64.0042 937.529 L16.4842 937.529 Z\" fill=\"#000000\" fill-rule=\"nonzero\" fill-opacity=\"1\" /><path clip-path=\"url(#clip580)\" d=\"M33.8307 884.376 Q33.2578 885.362 33.0032 886.54 Q32.7167 887.686 32.7167 889.086 Q32.7167 894.052 35.9632 896.725 Q39.1779 899.367 45.2253 899.367 L64.0042 899.367 L64.0042 905.255 L28.3562 905.255 L28.3562 899.367 L33.8944 899.367 Q30.6479 897.521 29.0883 894.561 Q27.4968 891.601 27.4968 887.368 Q27.4968 886.763 27.5923 886.031 Q27.656 885.299 27.8151 884.408 L33.8307 884.376 Z\" fill=\"#000000\" fill-rule=\"nonzero\" fill-opacity=\"1\" /><path clip-path=\"url(#clip580)\" d=\"M44.7161 849.173 L47.5806 849.173 L47.5806 876.1 Q53.6281 875.718 56.8109 872.472 Q59.9619 869.194 59.9619 863.369 Q59.9619 859.995 59.1344 856.844 Q58.3069 853.661 56.6518 850.542 L62.1899 850.542 Q63.5267 853.693 64.227 857.003 Q64.9272 860.313 64.9272 863.719 Q64.9272 872.249 59.9619 877.246 Q54.9967 882.211 46.5303 882.211 Q37.7774 882.211 32.6531 877.501 Q27.4968 872.758 27.4968 864.738 Q27.4968 857.544 32.1438 853.375 Q36.7589 849.173 44.7161 849.173 M42.9973 855.03 Q38.1912 855.093 35.3266 857.735 Q32.4621 860.345 32.4621 864.674 Q32.4621 869.575 35.2312 872.536 Q38.0002 875.464 43.0292 875.909 L42.9973 855.03 Z\" fill=\"#000000\" fill-rule=\"nonzero\" fill-opacity=\"1\" /><path clip-path=\"url(#clip580)\" d=\"M46.212 836.06 Q52.6732 836.06 56.3653 833.418 Q60.0256 830.745 60.0256 826.098 Q60.0256 821.451 56.3653 818.777 Q52.6732 816.104 46.212 816.104 Q39.7508 816.104 36.0905 818.777 Q32.3984 821.451 32.3984 826.098 Q32.3984 830.745 36.0905 833.418 Q39.7508 836.06 46.212 836.06 M58.657 816.104 Q61.8398 817.95 63.3994 820.782 Q64.9272 823.583 64.9272 827.53 Q64.9272 833.991 59.771 838.065 Q54.6147 842.107 46.212 842.107 Q37.8093 842.107 32.6531 838.065 Q27.4968 833.991 27.4968 827.53 Q27.4968 823.583 29.0564 820.782 Q30.5842 817.95 33.7671 816.104 L28.3562 816.104 L28.3562 810.247 L77.5631 810.247 L77.5631 816.104 L58.657 816.104 Z\" fill=\"#000000\" fill-rule=\"nonzero\" fill-opacity=\"1\" /><path clip-path=\"url(#clip580)\" d=\"M49.9359 798.789 L28.3562 798.789 L28.3562 792.932 L49.7131 792.932 Q54.7739 792.932 57.3202 790.959 Q59.8346 788.986 59.8346 785.039 Q59.8346 780.296 56.8109 777.559 Q53.7872 774.79 48.5673 774.79 L28.3562 774.79 L28.3562 768.934 L64.0042 768.934 L64.0042 774.79 L58.5296 774.79 Q61.7762 776.923 63.3676 779.755 Q64.9272 782.556 64.9272 786.28 Q64.9272 792.423 61.1078 795.606 Q57.2883 798.789 49.9359 798.789 M27.4968 784.052 L27.4968 784.052 Z\" fill=\"#000000\" fill-rule=\"nonzero\" fill-opacity=\"1\" /><path clip-path=\"url(#clip580)\" d=\"M44.7161 726.379 L47.5806 726.379 L47.5806 753.306 Q53.6281 752.924 56.8109 749.677 Q59.9619 746.399 59.9619 740.574 Q59.9619 737.201 59.1344 734.05 Q58.3069 730.867 56.6518 727.748 L62.1899 727.748 Q63.5267 730.899 64.227 734.209 Q64.9272 737.519 64.9272 740.925 Q64.9272 749.455 59.9619 754.452 Q54.9967 759.417 46.5303 759.417 Q37.7774 759.417 32.6531 754.706 Q27.4968 749.964 27.4968 741.943 Q27.4968 734.75 32.1438 730.58 Q36.7589 726.379 44.7161 726.379 M42.9973 732.235 Q38.1912 732.299 35.3266 734.941 Q32.4621 737.551 32.4621 741.879 Q32.4621 746.781 35.2312 749.741 Q38.0002 752.669 43.0292 753.115 L42.9973 732.235 Z\" fill=\"#000000\" fill-rule=\"nonzero\" fill-opacity=\"1\" /><path clip-path=\"url(#clip580)\" d=\"M42.4881 687.134 L64.0042 687.134 L64.0042 692.991 L42.679 692.991 Q37.6183 692.991 35.1038 694.964 Q32.5894 696.938 32.5894 700.884 Q32.5894 705.627 35.6131 708.364 Q38.6368 711.101 43.8567 711.101 L64.0042 711.101 L64.0042 716.989 L28.3562 716.989 L28.3562 711.101 L33.8944 711.101 Q30.6797 709.001 29.0883 706.168 Q27.4968 703.303 27.4968 699.579 Q27.4968 693.436 31.3163 690.285 Q35.1038 687.134 42.4881 687.134 Z\" fill=\"#000000\" fill-rule=\"nonzero\" fill-opacity=\"1\" /><path clip-path=\"url(#clip580)\" d=\"M29.7248 649.799 L35.1993 649.799 Q33.8307 652.282 33.1623 654.797 Q32.4621 657.279 32.4621 659.825 Q32.4621 665.523 36.0905 668.674 Q39.6872 671.825 46.212 671.825 Q52.7369 671.825 56.3653 668.674 Q59.9619 665.523 59.9619 659.825 Q59.9619 657.279 59.2935 654.797 Q58.5933 652.282 57.2247 649.799 L62.6355 649.799 Q63.7814 652.25 64.3543 654.892 Q64.9272 657.502 64.9272 660.462 Q64.9272 668.515 59.8664 673.257 Q54.8057 678 46.212 678 Q37.491 678 32.4939 673.225 Q27.4968 668.419 27.4968 660.08 Q27.4968 657.375 28.0697 654.797 Q28.6108 652.218 29.7248 649.799 Z\" fill=\"#000000\" fill-rule=\"nonzero\" fill-opacity=\"1\" /><path clip-path=\"url(#clip580)\" d=\"M67.3143 624.782 Q73.68 627.265 75.6216 629.62 Q77.5631 631.975 77.5631 635.922 L77.5631 640.601 L72.6615 640.601 L72.6615 637.164 Q72.6615 634.745 71.5157 633.408 Q70.3699 632.071 66.1048 630.448 L63.4312 629.397 L28.3562 643.816 L28.3562 637.609 L56.238 626.469 L28.3562 615.329 L28.3562 609.123 L67.3143 624.782 Z\" fill=\"#000000\" fill-rule=\"nonzero\" fill-opacity=\"1\" /><path clip-path=\"url(#clip580)\" d=\"M1085.85 12.096 L1094.03 12.096 L1094.03 36.8875 L1123.77 36.8875 L1123.77 12.096 L1131.95 12.096 L1131.95 72.576 L1123.77 72.576 L1123.77 43.7741 L1094.03 43.7741 L1094.03 72.576 L1085.85 72.576 L1085.85 12.096 Z\" fill=\"#000000\" fill-rule=\"nonzero\" fill-opacity=\"1\" /><path clip-path=\"url(#clip580)\" d=\"M1147.91 27.2059 L1155.37 27.2059 L1155.37 72.576 L1147.91 72.576 L1147.91 27.2059 M1147.91 9.54393 L1155.37 9.54393 L1155.37 18.9825 L1147.91 18.9825 L1147.91 9.54393 Z\" fill=\"#000000\" fill-rule=\"nonzero\" fill-opacity=\"1\" /><path clip-path=\"url(#clip580)\" d=\"M1199.89 28.5427 L1199.89 35.5912 Q1196.73 33.9709 1193.32 33.1607 Q1189.92 32.3505 1186.27 32.3505 Q1180.72 32.3505 1177.93 34.0519 Q1175.17 35.7533 1175.17 39.156 Q1175.17 41.7486 1177.16 43.2475 Q1179.14 44.7058 1185.14 46.0426 L1187.69 46.6097 Q1195.63 48.3111 1198.95 51.4303 Q1202.32 54.509 1202.32 60.0587 Q1202.32 66.3781 1197.29 70.0644 Q1192.31 73.7508 1183.56 73.7508 Q1179.91 73.7508 1175.94 73.0216 Q1172.01 72.3329 1167.64 70.9151 L1167.64 63.2184 Q1171.77 65.3654 1175.78 66.4591 Q1179.79 67.5124 1183.72 67.5124 Q1188.99 67.5124 1191.82 65.73 Q1194.66 63.9071 1194.66 60.6258 Q1194.66 57.5877 1192.59 55.9673 Q1190.57 54.3469 1183.64 52.8481 L1181.05 52.2405 Q1174.12 50.7821 1171.04 47.7845 Q1167.96 44.7463 1167.96 39.4801 Q1167.96 33.0797 1172.5 29.5959 Q1177.04 26.1121 1185.38 26.1121 Q1189.51 26.1121 1193.16 26.7198 Q1196.81 27.3274 1199.89 28.5427 Z\" fill=\"#000000\" fill-rule=\"nonzero\" fill-opacity=\"1\" /><path clip-path=\"url(#clip580)\" d=\"M1221.56 14.324 L1221.56 27.2059 L1236.91 27.2059 L1236.91 32.9987 L1221.56 32.9987 L1221.56 57.6282 Q1221.56 63.1779 1223.06 64.7578 Q1224.6 66.3376 1229.25 66.3376 L1236.91 66.3376 L1236.91 72.576 L1229.25 72.576 Q1220.63 72.576 1217.34 69.3758 Q1214.06 66.1351 1214.06 57.6282 L1214.06 32.9987 L1208.59 32.9987 L1208.59 27.2059 L1214.06 27.2059 L1214.06 14.324 L1221.56 14.324 Z\" fill=\"#000000\" fill-rule=\"nonzero\" fill-opacity=\"1\" /><path clip-path=\"url(#clip580)\" d=\"M1264.29 32.4315 Q1258.3 32.4315 1254.82 37.1306 Q1251.33 41.7891 1251.33 49.9314 Q1251.33 58.0738 1254.77 62.7728 Q1258.26 67.4314 1264.29 67.4314 Q1270.25 67.4314 1273.73 62.7323 Q1277.22 58.0333 1277.22 49.9314 Q1277.22 41.8701 1273.73 37.1711 Q1270.25 32.4315 1264.29 32.4315 M1264.29 26.1121 Q1274.02 26.1121 1279.57 32.4315 Q1285.12 38.7509 1285.12 49.9314 Q1285.12 61.0714 1279.57 67.4314 Q1274.02 73.7508 1264.29 73.7508 Q1254.53 73.7508 1248.98 67.4314 Q1243.47 61.0714 1243.47 49.9314 Q1243.47 38.7509 1248.98 32.4315 Q1254.53 26.1121 1264.29 26.1121 Z\" fill=\"#000000\" fill-rule=\"nonzero\" fill-opacity=\"1\" /><path clip-path=\"url(#clip580)\" d=\"M1327.33 49.3643 Q1327.33 41.2625 1323.96 36.8065 Q1320.64 32.3505 1314.61 32.3505 Q1308.61 32.3505 1305.25 36.8065 Q1301.93 41.2625 1301.93 49.3643 Q1301.93 57.4256 1305.25 61.8816 Q1308.61 66.3376 1314.61 66.3376 Q1320.64 66.3376 1323.96 61.8816 Q1327.33 57.4256 1327.33 49.3643 M1334.78 66.9452 Q1334.78 78.5308 1329.64 84.1616 Q1324.49 89.8329 1313.88 89.8329 Q1309.95 89.8329 1306.46 89.2252 Q1302.98 88.6581 1299.7 87.4428 L1299.7 80.1917 Q1302.98 81.9741 1306.18 82.8248 Q1309.38 83.6755 1312.7 83.6755 Q1320.03 83.6755 1323.68 79.8271 Q1327.33 76.0193 1327.33 68.282 L1327.33 64.5957 Q1325.02 68.6061 1321.41 70.5911 Q1317.81 72.576 1312.78 72.576 Q1304.44 72.576 1299.33 66.2161 Q1294.23 59.8562 1294.23 49.3643 Q1294.23 38.832 1299.33 32.472 Q1304.44 26.1121 1312.78 26.1121 Q1317.81 26.1121 1321.41 28.0971 Q1325.02 30.082 1327.33 34.0924 L1327.33 27.2059 L1334.78 27.2059 L1334.78 66.9452 Z\" fill=\"#000000\" fill-rule=\"nonzero\" fill-opacity=\"1\" /><path clip-path=\"url(#clip580)\" d=\"M1376.42 34.1734 Q1375.17 33.4443 1373.67 33.1202 Q1372.21 32.7556 1370.43 32.7556 Q1364.11 32.7556 1360.71 36.8875 Q1357.34 40.9789 1357.34 48.6757 L1357.34 72.576 L1349.85 72.576 L1349.85 27.2059 L1357.34 27.2059 L1357.34 34.2544 Q1359.69 30.1225 1363.46 28.1376 Q1367.23 26.1121 1372.62 26.1121 Q1373.39 26.1121 1374.32 26.2337 Q1375.25 26.3147 1376.38 26.5172 L1376.42 34.1734 Z\" fill=\"#000000\" fill-rule=\"nonzero\" fill-opacity=\"1\" /><path clip-path=\"url(#clip580)\" d=\"M1404.86 49.7694 Q1395.83 49.7694 1392.34 51.8354 Q1388.86 53.9013 1388.86 58.8839 Q1388.86 62.8538 1391.45 65.2034 Q1394.09 67.5124 1398.58 67.5124 Q1404.78 67.5124 1408.51 63.1374 Q1412.27 58.7219 1412.27 51.4303 L1412.27 49.7694 L1404.86 49.7694 M1419.73 46.6907 L1419.73 72.576 L1412.27 72.576 L1412.27 65.6895 Q1409.72 69.8214 1405.91 71.8063 Q1402.11 73.7508 1396.6 73.7508 Q1389.63 73.7508 1385.5 69.8619 Q1381.41 65.9325 1381.41 59.3701 Q1381.41 51.7138 1386.51 47.825 Q1391.65 43.9361 1401.82 43.9361 L1412.27 43.9361 L1412.27 43.2069 Q1412.27 38.0623 1408.87 35.2672 Q1405.51 32.4315 1399.39 32.4315 Q1395.5 32.4315 1391.82 33.3632 Q1388.13 34.295 1384.73 36.1584 L1384.73 29.2718 Q1388.82 27.692 1392.67 26.9223 Q1396.52 26.1121 1400.16 26.1121 Q1410.01 26.1121 1414.87 31.2163 Q1419.73 36.3204 1419.73 46.6907 Z\" fill=\"#000000\" fill-rule=\"nonzero\" fill-opacity=\"1\" /><path clip-path=\"url(#clip580)\" d=\"M1470.4 35.9153 Q1473.2 30.8922 1477.09 28.5022 Q1480.98 26.1121 1486.24 26.1121 Q1493.33 26.1121 1497.18 31.0947 Q1501.03 36.0368 1501.03 45.1919 L1501.03 72.576 L1493.54 72.576 L1493.54 45.4349 Q1493.54 38.913 1491.23 35.7533 Q1488.92 32.5936 1484.18 32.5936 Q1478.38 32.5936 1475.02 36.4419 Q1471.66 40.2903 1471.66 46.9338 L1471.66 72.576 L1464.17 72.576 L1464.17 45.4349 Q1464.17 38.8725 1461.86 35.7533 Q1459.55 32.5936 1454.73 32.5936 Q1449.02 32.5936 1445.65 36.4824 Q1442.29 40.3308 1442.29 46.9338 L1442.29 72.576 L1434.8 72.576 L1434.8 27.2059 L1442.29 27.2059 L1442.29 34.2544 Q1444.84 30.082 1448.41 28.0971 Q1451.97 26.1121 1456.87 26.1121 Q1461.82 26.1121 1465.26 28.6237 Q1468.74 31.1352 1470.4 35.9153 Z\" fill=\"#000000\" fill-rule=\"nonzero\" fill-opacity=\"1\" /><path clip-path=\"url(#clip582)\" d=\"M350.654 1417.11 L350.654 1423.18 L476.359 1423.18 L476.359 1417.11 L350.654 1417.11 L350.654 1417.11  Z\" fill=\"#009af9\" fill-rule=\"evenodd\" fill-opacity=\"1\"/>\n",
       "<polyline clip-path=\"url(#clip582)\" style=\"stroke:#000000; stroke-linecap:round; stroke-linejoin:round; stroke-width:4; stroke-opacity:1; fill:none\" points=\"350.654,1417.11 350.654,1423.18 476.359,1423.18 476.359,1417.11 350.654,1417.11 \"/>\n",
       "<path clip-path=\"url(#clip582)\" d=\"M476.359 1417.11 L476.359 1423.18 L602.064 1423.18 L602.064 1417.11 L476.359 1417.11 L476.359 1417.11  Z\" fill=\"#009af9\" fill-rule=\"evenodd\" fill-opacity=\"1\"/>\n",
       "<polyline clip-path=\"url(#clip582)\" style=\"stroke:#000000; stroke-linecap:round; stroke-linejoin:round; stroke-width:4; stroke-opacity:1; fill:none\" points=\"476.359,1417.11 476.359,1423.18 602.064,1423.18 602.064,1417.11 476.359,1417.11 \"/>\n",
       "<path clip-path=\"url(#clip582)\" d=\"M602.064 1392.81 L602.064 1423.18 L727.769 1423.18 L727.769 1392.81 L602.064 1392.81 L602.064 1392.81  Z\" fill=\"#009af9\" fill-rule=\"evenodd\" fill-opacity=\"1\"/>\n",
       "<polyline clip-path=\"url(#clip582)\" style=\"stroke:#000000; stroke-linecap:round; stroke-linejoin:round; stroke-width:4; stroke-opacity:1; fill:none\" points=\"602.064,1392.81 602.064,1423.18 727.769,1423.18 727.769,1392.81 602.064,1392.81 \"/>\n",
       "<path clip-path=\"url(#clip582)\" d=\"M727.769 1332.08 L727.769 1423.18 L853.474 1423.18 L853.474 1332.08 L727.769 1332.08 L727.769 1332.08  Z\" fill=\"#009af9\" fill-rule=\"evenodd\" fill-opacity=\"1\"/>\n",
       "<polyline clip-path=\"url(#clip582)\" style=\"stroke:#000000; stroke-linecap:round; stroke-linejoin:round; stroke-width:4; stroke-opacity:1; fill:none\" points=\"727.769,1332.08 727.769,1423.18 853.474,1423.18 853.474,1332.08 727.769,1332.08 \"/>\n",
       "<path clip-path=\"url(#clip582)\" d=\"M853.474 1168.1 L853.474 1423.18 L979.178 1423.18 L979.178 1168.1 L853.474 1168.1 L853.474 1168.1  Z\" fill=\"#009af9\" fill-rule=\"evenodd\" fill-opacity=\"1\"/>\n",
       "<polyline clip-path=\"url(#clip582)\" style=\"stroke:#000000; stroke-linecap:round; stroke-linejoin:round; stroke-width:4; stroke-opacity:1; fill:none\" points=\"853.474,1168.1 853.474,1423.18 979.178,1423.18 979.178,1168.1 853.474,1168.1 \"/>\n",
       "<path clip-path=\"url(#clip582)\" d=\"M979.178 858.354 L979.178 1423.18 L1104.88 1423.18 L1104.88 858.354 L979.178 858.354 L979.178 858.354  Z\" fill=\"#009af9\" fill-rule=\"evenodd\" fill-opacity=\"1\"/>\n",
       "<polyline clip-path=\"url(#clip582)\" style=\"stroke:#000000; stroke-linecap:round; stroke-linejoin:round; stroke-width:4; stroke-opacity:1; fill:none\" points=\"979.178,858.354 979.178,1423.18 1104.88,1423.18 1104.88,858.354 979.178,858.354 \"/>\n",
       "<path clip-path=\"url(#clip582)\" d=\"M1104.88 463.583 L1104.88 1423.18 L1230.59 1423.18 L1230.59 463.583 L1104.88 463.583 L1104.88 463.583  Z\" fill=\"#009af9\" fill-rule=\"evenodd\" fill-opacity=\"1\"/>\n",
       "<polyline clip-path=\"url(#clip582)\" style=\"stroke:#000000; stroke-linecap:round; stroke-linejoin:round; stroke-width:4; stroke-opacity:1; fill:none\" points=\"1104.88,463.583 1104.88,1423.18 1230.59,1423.18 1230.59,463.583 1104.88,463.583 \"/>\n",
       "<path clip-path=\"url(#clip582)\" d=\"M1230.59 414.995 L1230.59 1423.18 L1356.29 1423.18 L1356.29 414.995 L1230.59 414.995 L1230.59 414.995  Z\" fill=\"#009af9\" fill-rule=\"evenodd\" fill-opacity=\"1\"/>\n",
       "<polyline clip-path=\"url(#clip582)\" style=\"stroke:#000000; stroke-linecap:round; stroke-linejoin:round; stroke-width:4; stroke-opacity:1; fill:none\" points=\"1230.59,414.995 1230.59,1423.18 1356.29,1423.18 1356.29,414.995 1230.59,414.995 \"/>\n",
       "<path clip-path=\"url(#clip582)\" d=\"M1356.29 123.472 L1356.29 1423.18 L1482 1423.18 L1482 123.472 L1356.29 123.472 L1356.29 123.472  Z\" fill=\"#009af9\" fill-rule=\"evenodd\" fill-opacity=\"1\"/>\n",
       "<polyline clip-path=\"url(#clip582)\" style=\"stroke:#000000; stroke-linecap:round; stroke-linejoin:round; stroke-width:4; stroke-opacity:1; fill:none\" points=\"1356.29,123.472 1356.29,1423.18 1482,1423.18 1482,123.472 1356.29,123.472 \"/>\n",
       "<path clip-path=\"url(#clip582)\" d=\"M1482 463.583 L1482 1423.18 L1607.7 1423.18 L1607.7 463.583 L1482 463.583 L1482 463.583  Z\" fill=\"#009af9\" fill-rule=\"evenodd\" fill-opacity=\"1\"/>\n",
       "<polyline clip-path=\"url(#clip582)\" style=\"stroke:#000000; stroke-linecap:round; stroke-linejoin:round; stroke-width:4; stroke-opacity:1; fill:none\" points=\"1482,463.583 1482,1423.18 1607.7,1423.18 1607.7,463.583 1482,463.583 \"/>\n",
       "<path clip-path=\"url(#clip582)\" d=\"M1607.7 1010.19 L1607.7 1423.18 L1733.41 1423.18 L1733.41 1010.19 L1607.7 1010.19 L1607.7 1010.19  Z\" fill=\"#009af9\" fill-rule=\"evenodd\" fill-opacity=\"1\"/>\n",
       "<polyline clip-path=\"url(#clip582)\" style=\"stroke:#000000; stroke-linecap:round; stroke-linejoin:round; stroke-width:4; stroke-opacity:1; fill:none\" points=\"1607.7,1010.19 1607.7,1423.18 1733.41,1423.18 1733.41,1010.19 1607.7,1010.19 \"/>\n",
       "<path clip-path=\"url(#clip582)\" d=\"M1733.41 1149.88 L1733.41 1423.18 L1859.11 1423.18 L1859.11 1149.88 L1733.41 1149.88 L1733.41 1149.88  Z\" fill=\"#009af9\" fill-rule=\"evenodd\" fill-opacity=\"1\"/>\n",
       "<polyline clip-path=\"url(#clip582)\" style=\"stroke:#000000; stroke-linecap:round; stroke-linejoin:round; stroke-width:4; stroke-opacity:1; fill:none\" points=\"1733.41,1149.88 1733.41,1423.18 1859.11,1423.18 1859.11,1149.88 1733.41,1149.88 \"/>\n",
       "<path clip-path=\"url(#clip582)\" d=\"M1859.11 1259.2 L1859.11 1423.18 L1984.82 1423.18 L1984.82 1259.2 L1859.11 1259.2 L1859.11 1259.2  Z\" fill=\"#009af9\" fill-rule=\"evenodd\" fill-opacity=\"1\"/>\n",
       "<polyline clip-path=\"url(#clip582)\" style=\"stroke:#000000; stroke-linecap:round; stroke-linejoin:round; stroke-width:4; stroke-opacity:1; fill:none\" points=\"1859.11,1259.2 1859.11,1423.18 1984.82,1423.18 1984.82,1259.2 1859.11,1259.2 \"/>\n",
       "<path clip-path=\"url(#clip582)\" d=\"M1984.82 1404.96 L1984.82 1423.18 L2110.52 1423.18 L2110.52 1404.96 L1984.82 1404.96 L1984.82 1404.96  Z\" fill=\"#009af9\" fill-rule=\"evenodd\" fill-opacity=\"1\"/>\n",
       "<polyline clip-path=\"url(#clip582)\" style=\"stroke:#000000; stroke-linecap:round; stroke-linejoin:round; stroke-width:4; stroke-opacity:1; fill:none\" points=\"1984.82,1404.96 1984.82,1423.18 2110.52,1423.18 2110.52,1404.96 1984.82,1404.96 \"/>\n",
       "<path clip-path=\"url(#clip582)\" d=\"M2110.52 1398.89 L2110.52 1423.18 L2236.23 1423.18 L2236.23 1398.89 L2110.52 1398.89 L2110.52 1398.89  Z\" fill=\"#009af9\" fill-rule=\"evenodd\" fill-opacity=\"1\"/>\n",
       "<polyline clip-path=\"url(#clip582)\" style=\"stroke:#000000; stroke-linecap:round; stroke-linejoin:round; stroke-width:4; stroke-opacity:1; fill:none\" points=\"2110.52,1398.89 2110.52,1423.18 2236.23,1423.18 2236.23,1398.89 2110.52,1398.89 \"/>\n",
       "<circle clip-path=\"url(#clip582)\" style=\"fill:#009af9; stroke:none; fill-opacity:0\" cx=\"413.506\" cy=\"1417.11\" r=\"2\"/>\n",
       "<circle clip-path=\"url(#clip582)\" style=\"fill:#009af9; stroke:none; fill-opacity:0\" cx=\"539.211\" cy=\"1417.11\" r=\"2\"/>\n",
       "<circle clip-path=\"url(#clip582)\" style=\"fill:#009af9; stroke:none; fill-opacity:0\" cx=\"664.916\" cy=\"1392.81\" r=\"2\"/>\n",
       "<circle clip-path=\"url(#clip582)\" style=\"fill:#009af9; stroke:none; fill-opacity:0\" cx=\"790.621\" cy=\"1332.08\" r=\"2\"/>\n",
       "<circle clip-path=\"url(#clip582)\" style=\"fill:#009af9; stroke:none; fill-opacity:0\" cx=\"916.326\" cy=\"1168.1\" r=\"2\"/>\n",
       "<circle clip-path=\"url(#clip582)\" style=\"fill:#009af9; stroke:none; fill-opacity:0\" cx=\"1042.03\" cy=\"858.354\" r=\"2\"/>\n",
       "<circle clip-path=\"url(#clip582)\" style=\"fill:#009af9; stroke:none; fill-opacity:0\" cx=\"1167.74\" cy=\"463.583\" r=\"2\"/>\n",
       "<circle clip-path=\"url(#clip582)\" style=\"fill:#009af9; stroke:none; fill-opacity:0\" cx=\"1293.44\" cy=\"414.995\" r=\"2\"/>\n",
       "<circle clip-path=\"url(#clip582)\" style=\"fill:#009af9; stroke:none; fill-opacity:0\" cx=\"1419.15\" cy=\"123.472\" r=\"2\"/>\n",
       "<circle clip-path=\"url(#clip582)\" style=\"fill:#009af9; stroke:none; fill-opacity:0\" cx=\"1544.85\" cy=\"463.583\" r=\"2\"/>\n",
       "<circle clip-path=\"url(#clip582)\" style=\"fill:#009af9; stroke:none; fill-opacity:0\" cx=\"1670.56\" cy=\"1010.19\" r=\"2\"/>\n",
       "<circle clip-path=\"url(#clip582)\" style=\"fill:#009af9; stroke:none; fill-opacity:0\" cx=\"1796.26\" cy=\"1149.88\" r=\"2\"/>\n",
       "<circle clip-path=\"url(#clip582)\" style=\"fill:#009af9; stroke:none; fill-opacity:0\" cx=\"1921.97\" cy=\"1259.2\" r=\"2\"/>\n",
       "<circle clip-path=\"url(#clip582)\" style=\"fill:#009af9; stroke:none; fill-opacity:0\" cx=\"2047.67\" cy=\"1404.96\" r=\"2\"/>\n",
       "<circle clip-path=\"url(#clip582)\" style=\"fill:#009af9; stroke:none; fill-opacity:0\" cx=\"2173.38\" cy=\"1398.89\" r=\"2\"/>\n",
       "<path clip-path=\"url(#clip580)\" d=\"M1966.04 270.476 L2282.13 270.476 L2282.13 166.796 L1966.04 166.796  Z\" fill=\"#ffffff\" fill-rule=\"evenodd\" fill-opacity=\"1\"/>\n",
       "<polyline clip-path=\"url(#clip580)\" style=\"stroke:#000000; stroke-linecap:round; stroke-linejoin:round; stroke-width:4; stroke-opacity:1; fill:none\" points=\"1966.04,270.476 2282.13,270.476 2282.13,166.796 1966.04,166.796 1966.04,270.476 \"/>\n",
       "<path clip-path=\"url(#clip580)\" d=\"M1989.58 239.372 L2130.82 239.372 L2130.82 197.9 L1989.58 197.9 L1989.58 239.372  Z\" fill=\"#009af9\" fill-rule=\"evenodd\" fill-opacity=\"1\"/>\n",
       "<polyline clip-path=\"url(#clip580)\" style=\"stroke:#000000; stroke-linecap:round; stroke-linejoin:round; stroke-width:4; stroke-opacity:1; fill:none\" points=\"1989.58,239.372 2130.82,239.372 2130.82,197.9 1989.58,197.9 1989.58,239.372 \"/>\n",
       "<path clip-path=\"url(#clip580)\" d=\"M2159.03 205.198 L2159.03 232.073 L2164.68 232.073 Q2171.84 232.073 2175.15 228.832 Q2178.48 225.592 2178.48 218.601 Q2178.48 211.657 2175.15 208.439 Q2171.84 205.198 2164.68 205.198 L2159.03 205.198 M2154.36 201.356 L2163.97 201.356 Q2174.01 201.356 2178.71 205.546 Q2183.41 209.712 2183.41 218.601 Q2183.41 227.536 2178.69 231.726 Q2173.97 235.916 2163.97 235.916 L2154.36 235.916 L2154.36 201.356 Z\" fill=\"#000000\" fill-rule=\"nonzero\" fill-opacity=\"1\" /><path clip-path=\"url(#clip580)\" d=\"M2202.46 222.883 Q2197.3 222.883 2195.31 224.064 Q2193.32 225.244 2193.32 228.092 Q2193.32 230.36 2194.8 231.703 Q2196.3 233.022 2198.87 233.022 Q2202.41 233.022 2204.54 230.522 Q2206.7 227.999 2206.7 223.832 L2206.7 222.883 L2202.46 222.883 M2210.96 221.124 L2210.96 235.916 L2206.7 235.916 L2206.7 231.981 Q2205.24 234.342 2203.06 235.476 Q2200.89 236.587 2197.74 236.587 Q2193.76 236.587 2191.4 234.365 Q2189.06 232.119 2189.06 228.369 Q2189.06 223.994 2191.97 221.772 Q2194.91 219.55 2200.72 219.55 L2206.7 219.55 L2206.7 219.133 Q2206.7 216.194 2204.75 214.596 Q2202.83 212.976 2199.34 212.976 Q2197.11 212.976 2195.01 213.508 Q2192.9 214.041 2190.96 215.106 L2190.96 211.17 Q2193.29 210.268 2195.49 209.828 Q2197.69 209.365 2199.78 209.365 Q2205.4 209.365 2208.18 212.282 Q2210.96 215.198 2210.96 221.124 Z\" fill=\"#000000\" fill-rule=\"nonzero\" fill-opacity=\"1\" /><path clip-path=\"url(#clip580)\" d=\"M2223.94 202.629 L2223.94 209.99 L2232.72 209.99 L2232.72 213.3 L2223.94 213.3 L2223.94 227.374 Q2223.94 230.545 2224.8 231.448 Q2225.68 232.351 2228.34 232.351 L2232.72 232.351 L2232.72 235.916 L2228.34 235.916 Q2223.41 235.916 2221.53 234.087 Q2219.66 232.235 2219.66 227.374 L2219.66 213.3 L2216.53 213.3 L2216.53 209.99 L2219.66 209.99 L2219.66 202.629 L2223.94 202.629 Z\" fill=\"#000000\" fill-rule=\"nonzero\" fill-opacity=\"1\" /><path clip-path=\"url(#clip580)\" d=\"M2250.1 222.883 Q2244.94 222.883 2242.95 224.064 Q2240.96 225.244 2240.96 228.092 Q2240.96 230.36 2242.44 231.703 Q2243.94 233.022 2246.51 233.022 Q2250.05 233.022 2252.18 230.522 Q2254.34 227.999 2254.34 223.832 L2254.34 222.883 L2250.1 222.883 M2258.59 221.124 L2258.59 235.916 L2254.34 235.916 L2254.34 231.981 Q2252.88 234.342 2250.7 235.476 Q2248.53 236.587 2245.38 236.587 Q2241.4 236.587 2239.03 234.365 Q2236.7 232.119 2236.7 228.369 Q2236.7 223.994 2239.61 221.772 Q2242.55 219.55 2248.36 219.55 L2254.34 219.55 L2254.34 219.133 Q2254.34 216.194 2252.39 214.596 Q2250.47 212.976 2246.97 212.976 Q2244.75 212.976 2242.65 213.508 Q2240.54 214.041 2238.59 215.106 L2238.59 211.17 Q2240.93 210.268 2243.13 209.828 Q2245.33 209.365 2247.41 209.365 Q2253.04 209.365 2255.82 212.282 Q2258.59 215.198 2258.59 221.124 Z\" fill=\"#000000\" fill-rule=\"nonzero\" fill-opacity=\"1\" /></svg>\n"
      ]
     },
     "metadata": {},
     "output_type": "display_data"
    }
   ],
   "source": [
    "\n",
    "# Data\n",
    "data = randn(1000)\n",
    "\n",
    "# Histogram\n",
    "histogram(data, bins=30, title=\"Histogram\", xlabel=\"Value\", ylabel=\"Frequency\", label=\"Data\")"
   ]
  },
  {
   "cell_type": "code",
   "execution_count": 83,
   "metadata": {},
   "outputs": [
    {
     "data": {
      "image/png": "[encoded data removed]",
      "image/svg+xml": [
       "<?xml version=\"1.0\" encoding=\"utf-8\"?>\n",
       "<svg xmlns=\"http://www.w3.org/2000/svg\" xmlns:xlink=\"http://www.w3.org/1999/xlink\" width=\"600\" height=\"400\" viewBox=\"0 0 2400 1600\">\n",
       "<defs>\n",
       "  <clipPath id=\"clip620\">\n",
       "    <rect x=\"0\" y=\"0\" width=\"2400\" height=\"1600\"/>\n",
       "  </clipPath>\n",
       "</defs>\n",
       "<path clip-path=\"url(#clip620)\" d=\"M0 1600 L2400 1600 L2400 0 L0 0  Z\" fill=\"#ffffff\" fill-rule=\"evenodd\" fill-opacity=\"1\"/>\n",
       "<defs>\n",
       "  <clipPath id=\"clip621\">\n",
       "    <rect x=\"480\" y=\"0\" width=\"1681\" height=\"1600\"/>\n",
       "  </clipPath>\n",
       "</defs>\n",
       "<path clip-path=\"url(#clip620)\" d=\"M202.227 1423.18 L2112.76 1423.18 L2112.76 123.472 L202.227 123.472  Z\" fill=\"#ffffff\" fill-rule=\"evenodd\" fill-opacity=\"1\"/>\n",
       "<defs>\n",
       "  <clipPath id=\"clip622\">\n",
       "    <rect x=\"202\" y=\"123\" width=\"1912\" height=\"1301\"/>\n",
       "  </clipPath>\n",
       "</defs>\n",
       "<polyline clip-path=\"url(#clip622)\" style=\"stroke:#000000; stroke-linecap:round; stroke-linejoin:round; stroke-width:2; stroke-opacity:0.1; fill:none\" points=\"488.807,1423.18 488.807,123.472 \"/>\n",
       "<polyline clip-path=\"url(#clip622)\" style=\"stroke:#000000; stroke-linecap:round; stroke-linejoin:round; stroke-width:2; stroke-opacity:0.1; fill:none\" points=\"870.912,1423.18 870.912,123.472 \"/>\n",
       "<polyline clip-path=\"url(#clip622)\" style=\"stroke:#000000; stroke-linecap:round; stroke-linejoin:round; stroke-width:2; stroke-opacity:0.1; fill:none\" points=\"1253.02,1423.18 1253.02,123.472 \"/>\n",
       "<polyline clip-path=\"url(#clip622)\" style=\"stroke:#000000; stroke-linecap:round; stroke-linejoin:round; stroke-width:2; stroke-opacity:0.1; fill:none\" points=\"1635.12,1423.18 1635.12,123.472 \"/>\n",
       "<polyline clip-path=\"url(#clip622)\" style=\"stroke:#000000; stroke-linecap:round; stroke-linejoin:round; stroke-width:2; stroke-opacity:0.1; fill:none\" points=\"2017.23,1423.18 2017.23,123.472 \"/>\n",
       "<polyline clip-path=\"url(#clip622)\" style=\"stroke:#000000; stroke-linecap:round; stroke-linejoin:round; stroke-width:2; stroke-opacity:0.1; fill:none\" points=\"202.227,1228.22 2112.76,1228.22 \"/>\n",
       "<polyline clip-path=\"url(#clip622)\" style=\"stroke:#000000; stroke-linecap:round; stroke-linejoin:round; stroke-width:2; stroke-opacity:0.1; fill:none\" points=\"202.227,968.282 2112.76,968.282 \"/>\n",
       "<polyline clip-path=\"url(#clip622)\" style=\"stroke:#000000; stroke-linecap:round; stroke-linejoin:round; stroke-width:2; stroke-opacity:0.1; fill:none\" points=\"202.227,708.341 2112.76,708.341 \"/>\n",
       "<polyline clip-path=\"url(#clip622)\" style=\"stroke:#000000; stroke-linecap:round; stroke-linejoin:round; stroke-width:2; stroke-opacity:0.1; fill:none\" points=\"202.227,448.399 2112.76,448.399 \"/>\n",
       "<polyline clip-path=\"url(#clip622)\" style=\"stroke:#000000; stroke-linecap:round; stroke-linejoin:round; stroke-width:2; stroke-opacity:0.1; fill:none\" points=\"202.227,188.458 2112.76,188.458 \"/>\n",
       "<polyline clip-path=\"url(#clip620)\" style=\"stroke:#000000; stroke-linecap:round; stroke-linejoin:round; stroke-width:4; stroke-opacity:1; fill:none\" points=\"202.227,1423.18 2112.76,1423.18 \"/>\n",
       "<polyline clip-path=\"url(#clip620)\" style=\"stroke:#000000; stroke-linecap:round; stroke-linejoin:round; stroke-width:4; stroke-opacity:1; fill:none\" points=\"488.807,1423.18 488.807,1404.28 \"/>\n",
       "<polyline clip-path=\"url(#clip620)\" style=\"stroke:#000000; stroke-linecap:round; stroke-linejoin:round; stroke-width:4; stroke-opacity:1; fill:none\" points=\"870.912,1423.18 870.912,1404.28 \"/>\n",
       "<polyline clip-path=\"url(#clip620)\" style=\"stroke:#000000; stroke-linecap:round; stroke-linejoin:round; stroke-width:4; stroke-opacity:1; fill:none\" points=\"1253.02,1423.18 1253.02,1404.28 \"/>\n",
       "<polyline clip-path=\"url(#clip620)\" style=\"stroke:#000000; stroke-linecap:round; stroke-linejoin:round; stroke-width:4; stroke-opacity:1; fill:none\" points=\"1635.12,1423.18 1635.12,1404.28 \"/>\n",
       "<polyline clip-path=\"url(#clip620)\" style=\"stroke:#000000; stroke-linecap:round; stroke-linejoin:round; stroke-width:4; stroke-opacity:1; fill:none\" points=\"2017.23,1423.18 2017.23,1404.28 \"/>\n",
       "<path clip-path=\"url(#clip620)\" d=\"M483.46 1481.64 L499.779 1481.64 L499.779 1485.58 L477.835 1485.58 L477.835 1481.64 Q480.497 1478.89 485.08 1474.26 Q489.686 1469.61 490.867 1468.27 Q493.112 1465.74 493.992 1464.01 Q494.895 1462.25 494.895 1460.56 Q494.895 1457.8 492.95 1456.07 Q491.029 1454.33 487.927 1454.33 Q485.728 1454.33 483.274 1455.09 Q480.844 1455.86 478.066 1457.41 L478.066 1452.69 Q480.89 1451.55 483.344 1450.97 Q485.797 1450.39 487.835 1450.39 Q493.205 1450.39 496.399 1453.08 Q499.594 1455.77 499.594 1460.26 Q499.594 1462.39 498.784 1464.31 Q497.997 1466.2 495.89 1468.8 Q495.311 1469.47 492.209 1472.69 Q489.108 1475.88 483.46 1481.64 Z\" fill=\"#000000\" fill-rule=\"nonzero\" fill-opacity=\"1\" /><path clip-path=\"url(#clip620)\" d=\"M873.922 1455.09 L862.116 1473.54 L873.922 1473.54 L873.922 1455.09 M872.695 1451.02 L878.574 1451.02 L878.574 1473.54 L883.505 1473.54 L883.505 1477.43 L878.574 1477.43 L878.574 1485.58 L873.922 1485.58 L873.922 1477.43 L858.32 1477.43 L858.32 1472.92 L872.695 1451.02 Z\" fill=\"#000000\" fill-rule=\"nonzero\" fill-opacity=\"1\" /><path clip-path=\"url(#clip620)\" d=\"M1253.42 1466.44 Q1250.28 1466.44 1248.42 1468.59 Q1246.59 1470.74 1246.59 1474.49 Q1246.59 1478.22 1248.42 1480.39 Q1250.28 1482.55 1253.42 1482.55 Q1256.57 1482.55 1258.4 1480.39 Q1260.25 1478.22 1260.25 1474.49 Q1260.25 1470.74 1258.4 1468.59 Q1256.57 1466.44 1253.42 1466.44 M1262.71 1451.78 L1262.71 1456.04 Q1260.95 1455.21 1259.14 1454.77 Q1257.36 1454.33 1255.6 1454.33 Q1250.97 1454.33 1248.52 1457.45 Q1246.09 1460.58 1245.74 1466.9 Q1247.1 1464.89 1249.16 1463.82 Q1251.22 1462.73 1253.7 1462.73 Q1258.91 1462.73 1261.92 1465.9 Q1264.95 1469.05 1264.95 1474.49 Q1264.95 1479.82 1261.8 1483.03 Q1258.65 1486.25 1253.42 1486.25 Q1247.43 1486.25 1244.26 1481.67 Q1241.09 1477.06 1241.09 1468.33 Q1241.09 1460.14 1244.97 1455.28 Q1248.86 1450.39 1255.41 1450.39 Q1257.17 1450.39 1258.96 1450.74 Q1260.76 1451.09 1262.71 1451.78 Z\" fill=\"#000000\" fill-rule=\"nonzero\" fill-opacity=\"1\" /><path clip-path=\"url(#clip620)\" d=\"M1635.12 1469.17 Q1631.79 1469.17 1629.87 1470.95 Q1627.97 1472.73 1627.97 1475.86 Q1627.97 1478.98 1629.87 1480.77 Q1631.79 1482.55 1635.12 1482.55 Q1638.46 1482.55 1640.38 1480.77 Q1642.3 1478.96 1642.3 1475.86 Q1642.3 1472.73 1640.38 1470.95 Q1638.48 1469.17 1635.12 1469.17 M1630.45 1467.18 Q1627.44 1466.44 1625.75 1464.38 Q1624.08 1462.32 1624.08 1459.35 Q1624.08 1455.21 1627.02 1452.8 Q1629.98 1450.39 1635.12 1450.39 Q1640.29 1450.39 1643.23 1452.8 Q1646.17 1455.21 1646.17 1459.35 Q1646.17 1462.32 1644.48 1464.38 Q1642.81 1466.44 1639.82 1467.18 Q1643.2 1467.96 1645.08 1470.26 Q1646.98 1472.55 1646.98 1475.86 Q1646.98 1480.88 1643.9 1483.57 Q1640.84 1486.25 1635.12 1486.25 Q1629.41 1486.25 1626.33 1483.57 Q1623.27 1480.88 1623.27 1475.86 Q1623.27 1472.55 1625.17 1470.26 Q1627.07 1467.96 1630.45 1467.18 M1628.73 1459.79 Q1628.73 1462.48 1630.4 1463.98 Q1632.09 1465.49 1635.12 1465.49 Q1638.13 1465.49 1639.82 1463.98 Q1641.54 1462.48 1641.54 1459.79 Q1641.54 1457.11 1639.82 1455.6 Q1638.13 1454.1 1635.12 1454.1 Q1632.09 1454.1 1630.4 1455.6 Q1628.73 1457.11 1628.73 1459.79 Z\" fill=\"#000000\" fill-rule=\"nonzero\" fill-opacity=\"1\" /><path clip-path=\"url(#clip620)\" d=\"M1991.92 1481.64 L1999.56 1481.64 L1999.56 1455.28 L1991.25 1456.95 L1991.25 1452.69 L1999.51 1451.02 L2004.19 1451.02 L2004.19 1481.64 L2011.82 1481.64 L2011.82 1485.58 L1991.92 1485.58 L1991.92 1481.64 Z\" fill=\"#000000\" fill-rule=\"nonzero\" fill-opacity=\"1\" /><path clip-path=\"url(#clip620)\" d=\"M2031.27 1454.1 Q2027.66 1454.1 2025.83 1457.66 Q2024.02 1461.2 2024.02 1468.33 Q2024.02 1475.44 2025.83 1479.01 Q2027.66 1482.55 2031.27 1482.55 Q2034.9 1482.55 2036.71 1479.01 Q2038.54 1475.44 2038.54 1468.33 Q2038.54 1461.2 2036.71 1457.66 Q2034.9 1454.1 2031.27 1454.1 M2031.27 1450.39 Q2037.08 1450.39 2040.13 1455 Q2043.21 1459.58 2043.21 1468.33 Q2043.21 1477.06 2040.13 1481.67 Q2037.08 1486.25 2031.27 1486.25 Q2025.46 1486.25 2022.38 1481.67 Q2019.32 1477.06 2019.32 1468.33 Q2019.32 1459.58 2022.38 1455 Q2025.46 1450.39 2031.27 1450.39 Z\" fill=\"#000000\" fill-rule=\"nonzero\" fill-opacity=\"1\" /><path clip-path=\"url(#clip620)\" d=\"M1064.46 1520.52 L1071.36 1520.52 L1083.17 1538.19 L1095.04 1520.52 L1101.95 1520.52 L1086.67 1543.34 L1102.97 1568.04 L1096.06 1568.04 L1082.69 1547.83 L1069.23 1568.04 L1062.29 1568.04 L1079.26 1542.68 L1064.46 1520.52 Z\" fill=\"#000000\" fill-rule=\"nonzero\" fill-opacity=\"1\" /><path clip-path=\"url(#clip620)\" d=\"M1104.94 1547.58 L1122.1 1547.58 L1122.1 1552.8 L1104.94 1552.8 L1104.94 1547.58 Z\" fill=\"#000000\" fill-rule=\"nonzero\" fill-opacity=\"1\" /><path clip-path=\"url(#clip620)\" d=\"M1147.62 1550.12 Q1140.53 1550.12 1137.79 1551.75 Q1135.05 1553.37 1135.05 1557.29 Q1135.05 1560.4 1137.09 1562.25 Q1139.16 1564.07 1142.69 1564.07 Q1147.56 1564.07 1150.49 1560.63 Q1153.45 1557.16 1153.45 1551.43 L1153.45 1550.12 L1147.62 1550.12 M1159.31 1547.71 L1159.31 1568.04 L1153.45 1568.04 L1153.45 1562.63 Q1151.44 1565.88 1148.45 1567.44 Q1145.46 1568.97 1141.13 1568.97 Q1135.66 1568.97 1132.41 1565.91 Q1129.2 1562.82 1129.2 1557.67 Q1129.2 1551.65 1133.21 1548.6 Q1137.25 1545.54 1145.24 1545.54 L1153.45 1545.54 L1153.45 1544.97 Q1153.45 1540.93 1150.78 1538.73 Q1148.13 1536.5 1143.33 1536.5 Q1140.27 1536.5 1137.38 1537.23 Q1134.48 1537.97 1131.81 1539.43 L1131.81 1534.02 Q1135.02 1532.78 1138.04 1532.17 Q1141.07 1531.54 1143.93 1531.54 Q1151.67 1531.54 1155.49 1535.55 Q1159.31 1539.56 1159.31 1547.71 Z\" fill=\"#000000\" fill-rule=\"nonzero\" fill-opacity=\"1\" /><path clip-path=\"url(#clip620)\" d=\"M1201 1532.4 L1188.11 1549.74 L1201.67 1568.04 L1194.76 1568.04 L1184.39 1554.04 L1174.01 1568.04 L1167.1 1568.04 L1180.95 1549.39 L1168.28 1532.4 L1175.19 1532.4 L1184.64 1545.1 L1194.09 1532.4 L1201 1532.4 Z\" fill=\"#000000\" fill-rule=\"nonzero\" fill-opacity=\"1\" /><path clip-path=\"url(#clip620)\" d=\"M1209.95 1532.4 L1215.8 1532.4 L1215.8 1568.04 L1209.95 1568.04 L1209.95 1532.4 M1209.95 1518.52 L1215.8 1518.52 L1215.8 1525.93 L1209.95 1525.93 L1209.95 1518.52 Z\" fill=\"#000000\" fill-rule=\"nonzero\" fill-opacity=\"1\" /><path clip-path=\"url(#clip620)\" d=\"M1250.78 1533.45 L1250.78 1538.98 Q1248.3 1537.71 1245.62 1537.07 Q1242.95 1536.44 1240.09 1536.44 Q1235.73 1536.44 1233.53 1537.77 Q1231.37 1539.11 1231.37 1541.79 Q1231.37 1543.82 1232.93 1545 Q1234.48 1546.15 1239.2 1547.2 L1241.2 1547.64 Q1247.44 1548.98 1250.05 1551.43 Q1252.69 1553.85 1252.69 1558.21 Q1252.69 1563.17 1248.74 1566.07 Q1244.83 1568.97 1237.95 1568.97 Q1235.09 1568.97 1231.97 1568.39 Q1228.88 1567.85 1225.45 1566.74 L1225.45 1560.69 Q1228.69 1562.38 1231.84 1563.24 Q1234.99 1564.07 1238.08 1564.07 Q1242.22 1564.07 1244.45 1562.66 Q1246.68 1561.23 1246.68 1558.65 Q1246.68 1556.27 1245.05 1554.99 Q1243.46 1553.72 1238.02 1552.54 L1235.98 1552.07 Q1230.54 1550.92 1228.12 1548.56 Q1225.7 1546.18 1225.7 1542.04 Q1225.7 1537.01 1229.27 1534.27 Q1232.83 1531.54 1239.39 1531.54 Q1242.63 1531.54 1245.5 1532.01 Q1248.36 1532.49 1250.78 1533.45 Z\" fill=\"#000000\" fill-rule=\"nonzero\" fill-opacity=\"1\" /><polyline clip-path=\"url(#clip620)\" style=\"stroke:#000000; stroke-linecap:round; stroke-linejoin:round; stroke-width:4; stroke-opacity:1; fill:none\" points=\"202.227,1423.18 202.227,123.472 \"/>\n",
       "<polyline clip-path=\"url(#clip620)\" style=\"stroke:#000000; stroke-linecap:round; stroke-linejoin:round; stroke-width:4; stroke-opacity:1; fill:none\" points=\"202.227,1228.22 219.016,1228.22 \"/>\n",
       "<polyline clip-path=\"url(#clip620)\" style=\"stroke:#000000; stroke-linecap:round; stroke-linejoin:round; stroke-width:4; stroke-opacity:1; fill:none\" points=\"202.227,968.282 219.016,968.282 \"/>\n",
       "<polyline clip-path=\"url(#clip620)\" style=\"stroke:#000000; stroke-linecap:round; stroke-linejoin:round; stroke-width:4; stroke-opacity:1; fill:none\" points=\"202.227,708.341 219.016,708.341 \"/>\n",
       "<polyline clip-path=\"url(#clip620)\" style=\"stroke:#000000; stroke-linecap:round; stroke-linejoin:round; stroke-width:4; stroke-opacity:1; fill:none\" points=\"202.227,448.399 219.016,448.399 \"/>\n",
       "<polyline clip-path=\"url(#clip620)\" style=\"stroke:#000000; stroke-linecap:round; stroke-linejoin:round; stroke-width:4; stroke-opacity:1; fill:none\" points=\"202.227,188.458 219.016,188.458 \"/>\n",
       "<path clip-path=\"url(#clip620)\" d=\"M149.908 1241.57 L166.227 1241.57 L166.227 1245.5 L144.283 1245.5 L144.283 1241.57 Q146.945 1238.81 151.528 1234.18 Q156.135 1229.53 157.315 1228.19 Q159.561 1225.67 160.44 1223.93 Q161.343 1222.17 161.343 1220.48 Q161.343 1217.73 159.399 1215.99 Q157.478 1214.25 154.376 1214.25 Q152.177 1214.25 149.723 1215.02 Q147.292 1215.78 144.515 1217.33 L144.515 1212.61 Q147.339 1211.48 149.792 1210.9 Q152.246 1210.32 154.283 1210.32 Q159.653 1210.32 162.848 1213 Q166.042 1215.69 166.042 1220.18 Q166.042 1222.31 165.232 1224.23 Q164.445 1226.13 162.339 1228.72 Q161.76 1229.39 158.658 1232.61 Q155.556 1235.8 149.908 1241.57 Z\" fill=\"#000000\" fill-rule=\"nonzero\" fill-opacity=\"1\" /><path clip-path=\"url(#clip620)\" d=\"M156.644 955.076 L144.839 973.525 L156.644 973.525 L156.644 955.076 M155.417 951.002 L161.297 951.002 L161.297 973.525 L166.227 973.525 L166.227 977.414 L161.297 977.414 L161.297 985.562 L156.644 985.562 L156.644 977.414 L141.042 977.414 L141.042 972.9 L155.417 951.002 Z\" fill=\"#000000\" fill-rule=\"nonzero\" fill-opacity=\"1\" /><path clip-path=\"url(#clip620)\" d=\"M154.7 706.477 Q151.552 706.477 149.7 708.63 Q147.871 710.783 147.871 714.533 Q147.871 718.26 149.7 720.435 Q151.552 722.588 154.7 722.588 Q157.848 722.588 159.677 720.435 Q161.528 718.26 161.528 714.533 Q161.528 710.783 159.677 708.63 Q157.848 706.477 154.7 706.477 M163.982 691.824 L163.982 696.084 Q162.223 695.25 160.417 694.811 Q158.635 694.371 156.876 694.371 Q152.246 694.371 149.792 697.496 Q147.362 700.621 147.015 706.94 Q148.38 704.926 150.441 703.861 Q152.501 702.773 154.978 702.773 Q160.186 702.773 163.195 705.945 Q166.227 709.093 166.227 714.533 Q166.227 719.857 163.079 723.074 Q159.931 726.292 154.7 726.292 Q148.704 726.292 145.533 721.709 Q142.362 717.102 142.362 708.375 Q142.362 700.181 146.251 695.32 Q150.14 690.436 156.69 690.436 Q158.45 690.436 160.232 690.783 Q162.038 691.13 163.982 691.824 Z\" fill=\"#000000\" fill-rule=\"nonzero\" fill-opacity=\"1\" /><path clip-path=\"url(#clip620)\" d=\"M154.376 449.267 Q151.042 449.267 149.121 451.05 Q147.223 452.832 147.223 455.957 Q147.223 459.082 149.121 460.864 Q151.042 462.647 154.376 462.647 Q157.709 462.647 159.63 460.864 Q161.552 459.059 161.552 455.957 Q161.552 452.832 159.63 451.05 Q157.732 449.267 154.376 449.267 M149.7 447.276 Q146.691 446.536 145.001 444.475 Q143.334 442.415 143.334 439.452 Q143.334 435.309 146.274 432.901 Q149.237 430.494 154.376 430.494 Q159.538 430.494 162.477 432.901 Q165.417 435.309 165.417 439.452 Q165.417 442.415 163.727 444.475 Q162.061 446.536 159.075 447.276 Q162.454 448.063 164.329 450.355 Q166.227 452.647 166.227 455.957 Q166.227 460.98 163.149 463.665 Q160.093 466.35 154.376 466.35 Q148.658 466.35 145.579 463.665 Q142.524 460.98 142.524 455.957 Q142.524 452.647 144.422 450.355 Q146.32 448.063 149.7 447.276 M147.987 439.892 Q147.987 442.577 149.653 444.082 Q151.343 445.587 154.376 445.587 Q157.385 445.587 159.075 444.082 Q160.788 442.577 160.788 439.892 Q160.788 437.207 159.075 435.702 Q157.385 434.198 154.376 434.198 Q151.343 434.198 149.653 435.702 Q147.987 437.207 147.987 439.892 Z\" fill=\"#000000\" fill-rule=\"nonzero\" fill-opacity=\"1\" /><path clip-path=\"url(#clip620)\" d=\"M114.931 201.802 L122.57 201.802 L122.57 175.437 L114.26 177.103 L114.26 172.844 L122.524 171.178 L127.2 171.178 L127.2 201.802 L134.839 201.802 L134.839 205.738 L114.931 205.738 L114.931 201.802 Z\" fill=\"#000000\" fill-rule=\"nonzero\" fill-opacity=\"1\" /><path clip-path=\"url(#clip620)\" d=\"M154.283 174.256 Q150.672 174.256 148.843 177.821 Q147.038 181.363 147.038 188.492 Q147.038 195.599 148.843 199.163 Q150.672 202.705 154.283 202.705 Q157.917 202.705 159.723 199.163 Q161.552 195.599 161.552 188.492 Q161.552 181.363 159.723 177.821 Q157.917 174.256 154.283 174.256 M154.283 170.553 Q160.093 170.553 163.149 175.159 Q166.227 179.742 166.227 188.492 Q166.227 197.219 163.149 201.825 Q160.093 206.409 154.283 206.409 Q148.473 206.409 145.394 201.825 Q142.339 197.219 142.339 188.492 Q142.339 179.742 145.394 175.159 Q148.473 170.553 154.283 170.553 Z\" fill=\"#000000\" fill-rule=\"nonzero\" fill-opacity=\"1\" /><path clip-path=\"url(#clip620)\" d=\"M16.4842 864.897 L16.4842 857.99 L36.0269 844.813 L16.4842 831.731 L16.4842 824.825 L41.3741 841.63 L64.0042 841.63 L64.0042 848.091 L41.3741 848.091 L16.4842 864.897 Z\" fill=\"#000000\" fill-rule=\"nonzero\" fill-opacity=\"1\" /><path clip-path=\"url(#clip620)\" d=\"M43.5384 829.503 L43.5384 812.348 L48.7583 812.348 L48.7583 829.503 L43.5384 829.503 Z\" fill=\"#000000\" fill-rule=\"nonzero\" fill-opacity=\"1\" /><path clip-path=\"url(#clip620)\" d=\"M46.0847 786.821 Q46.0847 793.919 47.7079 796.656 Q49.3312 799.394 53.2461 799.394 Q56.3653 799.394 58.2114 797.357 Q60.0256 795.288 60.0256 791.755 Q60.0256 786.885 56.5881 783.957 Q53.1188 780.997 47.3897 780.997 L46.0847 780.997 L46.0847 786.821 M43.6657 775.14 L64.0042 775.14 L64.0042 780.997 L58.5933 780.997 Q61.8398 783.002 63.3994 785.994 Q64.9272 788.986 64.9272 793.314 Q64.9272 798.789 61.8716 802.035 Q58.7843 805.25 53.6281 805.25 Q47.6125 805.25 44.5569 801.24 Q41.5014 797.197 41.5014 789.208 L41.5014 780.997 L40.9285 780.997 Q36.8862 780.997 34.6901 783.67 Q32.4621 786.312 32.4621 791.118 Q32.4621 794.174 33.1941 797.07 Q33.9262 799.966 35.3903 802.64 L29.9795 802.64 Q28.7381 799.425 28.1334 796.402 Q27.4968 793.378 27.4968 790.513 Q27.4968 782.779 31.5072 778.96 Q35.5176 775.14 43.6657 775.14 Z\" fill=\"#000000\" fill-rule=\"nonzero\" fill-opacity=\"1\" /><path clip-path=\"url(#clip620)\" d=\"M28.3562 733.445 L45.7028 746.335 L64.0042 732.776 L64.0042 739.683 L49.9996 750.059 L64.0042 760.435 L64.0042 767.342 L45.3526 753.497 L28.3562 766.165 L28.3562 759.258 L41.0558 749.805 L28.3562 740.352 L28.3562 733.445 Z\" fill=\"#000000\" fill-rule=\"nonzero\" fill-opacity=\"1\" /><path clip-path=\"url(#clip620)\" d=\"M28.3562 724.501 L28.3562 718.645 L64.0042 718.645 L64.0042 724.501 L28.3562 724.501 M14.479 724.501 L14.479 718.645 L21.895 718.645 L21.895 724.501 L14.479 724.501 Z\" fill=\"#000000\" fill-rule=\"nonzero\" fill-opacity=\"1\" /><path clip-path=\"url(#clip620)\" d=\"M29.4065 683.665 L34.9447 683.665 Q33.6716 686.148 33.035 688.821 Q32.3984 691.495 32.3984 694.359 Q32.3984 698.72 33.7352 700.916 Q35.072 703.08 37.7456 703.08 Q39.7826 703.08 40.9603 701.521 Q42.1061 699.961 43.1565 695.251 L43.6021 693.245 Q44.9389 687.007 47.3897 684.397 Q49.8086 681.755 54.1691 681.755 Q59.1344 681.755 62.0308 685.702 Q64.9272 689.617 64.9272 696.492 Q64.9272 699.356 64.3543 702.476 Q63.8132 705.563 62.6992 709.001 L56.6518 709.001 Q58.3387 705.754 59.198 702.603 Q60.0256 699.452 60.0256 696.365 Q60.0256 692.227 58.6251 689.999 Q57.1929 687.771 54.6147 687.771 Q52.2276 687.771 50.9545 689.394 Q49.6813 690.986 48.5037 696.428 L48.0262 698.465 Q46.8804 703.908 44.5251 706.327 Q42.138 708.746 38.0002 708.746 Q32.9713 708.746 30.2341 705.181 Q27.4968 701.616 27.4968 695.06 Q27.4968 691.813 27.9743 688.949 Q28.4517 686.084 29.4065 683.665 Z\" fill=\"#000000\" fill-rule=\"nonzero\" fill-opacity=\"1\" /><path clip-path=\"url(#clip620)\" d=\"M973.277 12.096 L981.46 12.096 L981.46 36.8875 L1011.19 36.8875 L1011.19 12.096 L1019.38 12.096 L1019.38 72.576 L1011.19 72.576 L1011.19 43.7741 L981.46 43.7741 L981.46 72.576 L973.277 72.576 L973.277 12.096 Z\" fill=\"#000000\" fill-rule=\"nonzero\" fill-opacity=\"1\" /><path clip-path=\"url(#clip620)\" d=\"M1074.14 48.0275 L1074.14 51.6733 L1039.87 51.6733 Q1040.36 59.3701 1044.49 63.421 Q1048.66 67.4314 1056.08 67.4314 Q1060.37 67.4314 1064.38 66.3781 Q1068.43 65.3249 1072.4 63.2184 L1072.4 70.267 Q1068.39 71.9684 1064.18 72.8596 Q1059.97 73.7508 1055.63 73.7508 Q1044.78 73.7508 1038.42 67.4314 Q1032.1 61.1119 1032.1 50.3365 Q1032.1 39.1965 1038.09 32.6746 Q1044.13 26.1121 1054.34 26.1121 Q1063.49 26.1121 1068.8 32.0264 Q1074.14 37.9003 1074.14 48.0275 M1066.69 45.84 Q1066.61 39.7232 1063.25 36.0774 Q1059.93 32.4315 1054.42 32.4315 Q1048.18 32.4315 1044.41 35.9558 Q1040.68 39.4801 1040.12 45.8805 L1066.69 45.84 Z\" fill=\"#000000\" fill-rule=\"nonzero\" fill-opacity=\"1\" /><path clip-path=\"url(#clip620)\" d=\"M1107 49.7694 Q1097.96 49.7694 1094.48 51.8354 Q1091 53.9013 1091 58.8839 Q1091 62.8538 1093.59 65.2034 Q1096.22 67.5124 1100.72 67.5124 Q1106.92 67.5124 1110.64 63.1374 Q1114.41 58.7219 1114.41 51.4303 L1114.41 49.7694 L1107 49.7694 M1121.86 46.6907 L1121.86 72.576 L1114.41 72.576 L1114.41 65.6895 Q1111.86 69.8214 1108.05 71.8063 Q1104.24 73.7508 1098.73 73.7508 Q1091.77 73.7508 1087.63 69.8619 Q1083.54 65.9325 1083.54 59.3701 Q1083.54 51.7138 1088.65 47.825 Q1093.79 43.9361 1103.96 43.9361 L1114.41 43.9361 L1114.41 43.2069 Q1114.41 38.0623 1111.01 35.2672 Q1107.65 32.4315 1101.53 32.4315 Q1097.64 32.4315 1093.95 33.3632 Q1090.27 34.295 1086.86 36.1584 L1086.86 29.2718 Q1090.96 27.692 1094.8 26.9223 Q1098.65 26.1121 1102.3 26.1121 Q1112.14 26.1121 1117 31.2163 Q1121.86 36.3204 1121.86 46.6907 Z\" fill=\"#000000\" fill-rule=\"nonzero\" fill-opacity=\"1\" /><path clip-path=\"url(#clip620)\" d=\"M1144.59 14.324 L1144.59 27.2059 L1159.94 27.2059 L1159.94 32.9987 L1144.59 32.9987 L1144.59 57.6282 Q1144.59 63.1779 1146.09 64.7578 Q1147.63 66.3376 1152.29 66.3376 L1159.94 66.3376 L1159.94 72.576 L1152.29 72.576 Q1143.66 72.576 1140.38 69.3758 Q1137.1 66.1351 1137.1 57.6282 L1137.1 32.9987 L1131.63 32.9987 L1131.63 27.2059 L1137.1 27.2059 L1137.1 14.324 L1144.59 14.324 Z\" fill=\"#000000\" fill-rule=\"nonzero\" fill-opacity=\"1\" /><path clip-path=\"url(#clip620)\" d=\"M1205.07 35.9153 Q1207.86 30.8922 1211.75 28.5022 Q1215.64 26.1121 1220.91 26.1121 Q1228 26.1121 1231.85 31.0947 Q1235.69 36.0368 1235.69 45.1919 L1235.69 72.576 L1228.2 72.576 L1228.2 45.4349 Q1228.2 38.913 1225.89 35.7533 Q1223.58 32.5936 1218.84 32.5936 Q1213.05 32.5936 1209.69 36.4419 Q1206.33 40.2903 1206.33 46.9338 L1206.33 72.576 L1198.83 72.576 L1198.83 45.4349 Q1198.83 38.8725 1196.52 35.7533 Q1194.21 32.5936 1189.39 32.5936 Q1183.68 32.5936 1180.32 36.4824 Q1176.96 40.3308 1176.96 46.9338 L1176.96 72.576 L1169.46 72.576 L1169.46 27.2059 L1176.96 27.2059 L1176.96 34.2544 Q1179.51 30.082 1183.07 28.0971 Q1186.64 26.1121 1191.54 26.1121 Q1196.48 26.1121 1199.92 28.6237 Q1203.41 31.1352 1205.07 35.9153 Z\" fill=\"#000000\" fill-rule=\"nonzero\" fill-opacity=\"1\" /><path clip-path=\"url(#clip620)\" d=\"M1271.18 49.7694 Q1262.15 49.7694 1258.66 51.8354 Q1255.18 53.9013 1255.18 58.8839 Q1255.18 62.8538 1257.77 65.2034 Q1260.4 67.5124 1264.9 67.5124 Q1271.1 67.5124 1274.83 63.1374 Q1278.59 58.7219 1278.59 51.4303 L1278.59 49.7694 L1271.18 49.7694 M1286.05 46.6907 L1286.05 72.576 L1278.59 72.576 L1278.59 65.6895 Q1276.04 69.8214 1272.23 71.8063 Q1268.43 73.7508 1262.92 73.7508 Q1255.95 73.7508 1251.82 69.8619 Q1247.73 65.9325 1247.73 59.3701 Q1247.73 51.7138 1252.83 47.825 Q1257.97 43.9361 1268.14 43.9361 L1278.59 43.9361 L1278.59 43.2069 Q1278.59 38.0623 1275.19 35.2672 Q1271.83 32.4315 1265.71 32.4315 Q1261.82 32.4315 1258.14 33.3632 Q1254.45 34.295 1251.05 36.1584 L1251.05 29.2718 Q1255.14 27.692 1258.99 26.9223 Q1262.84 26.1121 1266.48 26.1121 Q1276.32 26.1121 1281.19 31.2163 Q1286.05 36.3204 1286.05 46.6907 Z\" fill=\"#000000\" fill-rule=\"nonzero\" fill-opacity=\"1\" /><path clip-path=\"url(#clip620)\" d=\"M1308.61 65.7705 L1308.61 89.8329 L1301.12 89.8329 L1301.12 27.2059 L1308.61 27.2059 L1308.61 34.0924 Q1310.96 30.0415 1314.52 28.0971 Q1318.13 26.1121 1323.11 26.1121 Q1331.38 26.1121 1336.52 32.6746 Q1341.71 39.2371 1341.71 49.9314 Q1341.71 60.6258 1336.52 67.1883 Q1331.38 73.7508 1323.11 73.7508 Q1318.13 73.7508 1314.52 71.8063 Q1310.96 69.8214 1308.61 65.7705 M1333.97 49.9314 Q1333.97 41.7081 1330.57 37.0496 Q1327.2 32.3505 1321.29 32.3505 Q1315.38 32.3505 1311.97 37.0496 Q1308.61 41.7081 1308.61 49.9314 Q1308.61 58.1548 1311.97 62.8538 Q1315.38 67.5124 1321.29 67.5124 Q1327.2 67.5124 1330.57 62.8538 Q1333.97 58.1548 1333.97 49.9314 Z\" fill=\"#000000\" fill-rule=\"nonzero\" fill-opacity=\"1\" /><g clip-path=\"url(#clip622)\">\n",
       "<image width=\"1911\" height=\"1300\" xlink:href=\"data:image/png;base64,\n",
       "iVBORw0KGgoAAAANSUhEUgAAB3cAAAUUCAYAAADMWphaAAAgAElEQVR4nOzbvQsgchzHcaeLWzyE\n",
       "RUzyEDeQyaAkAwsTGciEkqSYzoAy2CyKzZ0YFJKSXJE/weKiroweLkndQ8lx/gTjp3f3ev0Fn/HX\n",
       "7933wC1vvHXhErhI/fj0u+sJMPHT+TPrCTDx/CPPrCfAxM+vrxfAxuWfX7WeABMvH/loPQEmjj75\n",
       "8HoCbHz3w3oBTFx66NB6Akxcuh4AAAAAAAAAwP8TdwEAAAAAAAACxF0AAAAAAACAAHEXAAAAAAAA\n",
       "IEDcBQAAAAAAAAgQdwEAAAAAAAACxF0AAAAAAACAAHEXAAAAAAAAIEDcBQAAAAAAAAgQdwEAAAAA\n",
       "AAACxF0AAAAAAACAAHEXAAAAAAAAIEDcBQAAAAAAAAgQdwEAAAAAAAACxF0AAAAAAACAAHEXAAAA\n",
       "AAAAIEDcBQAAAAAAAAgQdwEAAAAAAAACxF0AAAAAAACAAHEXAAAAAAAAIEDcBQAAAAAAAAgQdwEA\n",
       "AAAAAAACxF0AAAAAAACAAHEXAAAAAAAAIEDcBQAAAAAAAAgQdwEAAAAAAAACxF0AAAAAAACAAHEX\n",
       "AAAAAAAAIEDcBQAAAAAAAAgQdwEAAAAAAAACxF0AAAAAAACAAHEXAAAAAAAAIEDcBQAAAAAAAAgQ\n",
       "dwEAAAAAAAACxF0AAAAAAACAAHEXAAAAAAAAIEDcBQAAAAAAAAgQdwEAAAAAAAACxF0AAAAAAACA\n",
       "AHEXAAAAAAAAIEDcBQAAAAAAAAgQdwEAAAAAAAACxF0AAAAAAACAAHEXAAAAAAAAIEDcBQAAAAAA\n",
       "AAgQdwEAAAAAAAACxF0AAAAAAACAAHEXAAAAAAAAIEDcBQAAAAAAAAgQdwEAAAAAAAACxF0AAAAA\n",
       "AACAAHEXAAAAAAAAIEDcBQAAAAAAAAgQdwEAAAAAAAACxF0AAAAAAACAAHEXAAAAAAAAIEDcBQAA\n",
       "AAAAAAgQdwEAAAAAAAACxF0AAAAAAACAAHEXAAAAAAAAIEDcBQAAAAAAAAgQdwEAAAAAAAACxF0A\n",
       "AAAAAACAAHEXAAAAAAAAIEDcBQAAAAAAAAgQdwEAAAAAAAACxF0AAAAAAACAAHEXAAAAAAAAIEDc\n",
       "BQAAAAAAAAgQdwEAAAAAAAACxF0AAAAAAACAAHEXAAAAAAAAIEDcBQAAAAAAAAgQdwEAAAAAAAAC\n",
       "xF0AAAAAAACAAHEXAAAAAAAAIEDcBQAAAAAAAAgQdwEAAAAAAAACxF0AAAAAAACAAHEXAAAAAAAA\n",
       "IEDcBQAAAAAAAAgQdwEAAAAAAAACxF0AAAAAAACAAHEXAAAAAAAAIEDcBQAAAAAAAAgQdwEAAAAA\n",
       "AAACxF0AAAAAAACAAHEXAAAAAAAAIEDcBQAAAAAAAAgQdwEAAAAAAAACxF0AAAAAAACAAHEXAAAA\n",
       "AAAAIEDcBQAAAAAAAAgQdwEAAAAAAAACxF0AAAAAAACAAHEXAAAAAAAAIEDcBQAAAAAAAAgQdwEA\n",
       "AAAAAAACxF0AAAAAAACAAHEXAAAAAAAAIEDcBQAAAAAAAAgQdwEAAAAAAAACxF0AAAAAAACAAHEX\n",
       "AAAAAAAAIEDcBQAAAAAAAAgQdwEAAAAAAAACxF0AAAAAAACAAHEXAAAAAAAAIEDcBQAAAAAAAAgQ\n",
       "dwEAAAAAAAACxF0AAAAAAACAAHEXAAAAAAAAIEDcBQAAAAAAAAgQdwEAAAAAAAACxF0AAAAAAACA\n",
       "AHEXAAAAAAAAIEDcBQAAAAAAAAgQdwEAAAAAAAACxF0AAAAAAACAAHEXAAAAAAAAIEDcBQAAAAAA\n",
       "AAgQdwEAAAAAAAACxF0AAAAAAACAAHEXAAAAAAAAIEDcBQAAAAAAAAgQdwEAAAAAAAACxF0AAAAA\n",
       "AACAAHEXAAAAAAAAIEDcBQAAAAAAAAg4eOO3f603wMzddz2+ngATZ09cs54AE9fd+u96Akyc/uXC\n",
       "egJM3PDpifUEmDhyz2PrCTBx3Wt/rifAxLWv3raeABOvfPzhegJMuNwFAAAAAAAACBB3AQAAAAAA\n",
       "AALEXQAAAAAAAIAAcRcAAAAAAAAgQNwFAAAAAAAACBB3AQAAAAAAAALEXQAAAAAAAIAAcRcAAAAA\n",
       "AAAgQNwFAAAAAAAACBB3AQAAAAAAAALEXQAAAAAAAIAAcRcAAAAAAAAgQNwFAAAAAAAACBB3AQAA\n",
       "AAAAAALEXQAAAAAAAIAAcRcAAAAAAAAgQNwFAAAAAAAACBB3AQAAAAAAAALEXQAAAAAAAIAAcRcA\n",
       "AAAAAAAgQNwFAAAAAAAACBB3AQAAAAAAAALEXQAAAAAAAIAAcRcAAAAAAAAgQNwFAAAAAAAACBB3\n",
       "AQAAAAAAAALEXQAAAAAAAIAAcRcAAAAAAAAgQNwFAAAAAAAACBB3AQAAAAAAAALEXQAAAAAAAIAA\n",
       "cRcAAAAAAAAgQNwFAAAAAAAACBB3AQAAAAAAAALEXQAAAAAAAIAAcRcAAAAAAAAgQNwFAAAAAAAA\n",
       "CBB3AQAAAAAAAALEXQAAAAAAAIAAcRcAAAAAAAAgQNwFAAAAAAAACBB3AQAAAAAAAALEXQAAAAAA\n",
       "AIAAcRcAAAAAAAAgQNwFAAAAAAAACBB3AQAAAAAAAALEXQAAAAAAAIAAcRcAAAAAAAAgQNwFAAAA\n",
       "AAAACBB3AQAAAAAAAALEXQAAAAAAAIAAcRcAAAAAAAAgQNwFAAAAAAAACBB3AQAAAAAAAALEXQAA\n",
       "AAAAAIAAcRcAAAAAAAAgQNwFAAAAAAAACBB3AQAAAAAAAALEXQAAAAAAAIAAcRcAAAAAAAAgQNwF\n",
       "AAAAAAAACBB3AQAAAAAAAALEXQAAAAAAAIAAcRcAAAAAAAAgQNwFAAAAAAAACBB3AQAAAAAAAALE\n",
       "XQAAAAAAAIAAcRcAAAAAAAAgQNwFAAAAAAAACBB3AQAAAAAAAALEXQAAAAAAAIAAcRcAAAAAAAAg\n",
       "QNwFAAAAAAAACBB3AQAAAAAAAALEXQAAAAAAAIAAcRcAAAAAAAAgQNwFAAAAAAAACBB3AQAAAAAA\n",
       "AALEXQAAAAAAAIAAcRcAAAAAAAAgQNwFAAAAAAAACBB3AQAAAAAAAALEXQAAAAAAAIAAcRcAAAAA\n",
       "AAAgQNwFAAAAAAAACBB3AQAAAAAAAALEXQAAAAAAAIAAcRcAAAAAAAAgQNwFAAAAAAAACBB3AQAA\n",
       "AAAAAALEXQAAAAAAAIAAcRcAAAAAAAAgQNwFAAAAAAAACBB3AQAAAAAAAALEXQAAAAAAAIAAcRcA\n",
       "AAAAAAAgQNwFAAAAAAAACBB3AQAAAAAAAALEXQAAAAAAAIAAcRcAAAAAAAAgQNwFAAAAAAAACBB3\n",
       "AQAAAAAAAALEXQAAAAAAAIAAcRcAAAAAAAAgQNwFAAAAAAAACBB3AQAAAAAAAALEXQAAAAAAAIAA\n",
       "cRcAAAAAAAAgQNwFAAAAAAAACBB3AQAAAAAAAALEXQAAAAAAAIAAcRcAAAAAAAAgQNwFAAAAAAAA\n",
       "CBB3AQAAAAAAAALEXQAAAAAAAIAAcRcAAAAAAAAgQNwFAAAAAAAACBB3AQAAAAAAAALEXQAAAAAA\n",
       "AIAAcRcAAAAAAAAgQNwFAAAAAAAACBB3AQAAAAAAAALEXQAAAAAAAIAAcRcAAAAAAAAgQNwFAAAA\n",
       "AAAACBB3AQAAAAAAAALEXQAAAAAAAIAAcRcAAAAAAAAgQNwFAAAAAAAACDhw/KfbL6xHwMpznz29\n",
       "ngATzzz09XoCTHz10n3rCTBx6u7L1hNg4u+r1gtg48RTb68nwMTh919YT4CJm4/+up4AE4feO7Oe\n",
       "ABMudwEAAAAAAAACxF0AAAAAAACAAHEXAAAAAAAAIEDcBQAAAAAAAAgQdwEAAAAAAAACxF0AAAAA\n",
       "AACAAHEXAAAAAAAAIEDcBQAAAAAAAAgQdwEAAAAAAAACxF0AAAAAAACAAHEXAAAAAAAAIEDcBQAA\n",
       "AAAAAAgQdwEAAAAAAAACxF0AAAAAAACAAHEXAAAAAAAAIEDcBQAAAAAAAAgQdwEAAAAAAAACxF0A\n",
       "AAAAAACAAHEXAAAAAAAAIEDcBQAAAAAAAAgQdwEAAAAAAAACxF0AAAAAAACAAHEXAAAAAAAAIEDc\n",
       "BQAAAAAAAAgQdwEAAAAAAAACxF0AAAAAAACAAHEXAAAAAAAAIEDcBQAAAAAAAAgQdwEAAAAAAAAC\n",
       "xF0AAAAAAACAAHEXAAAAAAAAIEDcBQAAAAAAAAgQdwEAAAAAAAACxF0AAAAAAACAAHEXAAAAAAAA\n",
       "IEDcBQAAAAAAAAgQdwEAAAAAAAACxF0AAAAAAACAAHEXAAAAAAAAIEDcBQAAAAAAAAgQdwEAAAAA\n",
       "AAACxF0AAAAAAACAAHEXAAAAAAAAIEDcBQAAAAAAAAgQdwEAAAAAAAACxF0AAAAAAACAAHEXAAAA\n",
       "AAAAIEDcBQAAAAAAAAgQdwEAAAAAAAACxF0AAAAAAACAAHEXAAAAAAAAIEDcBQAAAAAAAAgQdwEA\n",
       "AAAAAAACxF0AAAAAAACAAHEXAAAAAAAAIEDcBQAAAAAAAAgQdwEAAAAAAAACxF0AAAAAAACAAHEX\n",
       "AAAAAAAAIEDcBQAAAAAAAAgQdwEAAAAAAAACxF0AAAAAAACAAHEXAAAAAAAAIEDcBQAAAAAAAAgQ\n",
       "dwEAAAAAAAACxF0AAAAAAACAAHEXAAAAAAAAIEDcBQAAAAAAAAgQdwEAAAAAAAACxF0AAAAAAACA\n",
       "AHEXAAAAAAAAIEDcBQAAAAAAAAgQdwEAAAAAAAACxF0AAAAAAACAAHEXAAAAAAAAIEDcBQAAAAAA\n",
       "AAgQdwEAAAAAAAACxF0AAAAAAACAAHEXAAAAAAAAIEDcBQAAAAAAAAgQdwEAAAAAAAACxF0AAAAA\n",
       "AACAAHEXAAAAAAAAIEDcBQAAAAAAAAgQdwEAAAAAAAACxF0AAAAAAACAAHEXAAAAAAAAIEDcBQAA\n",
       "AAAAAAgQdwEAAAAAAAACxF0AAAAAAACAAHEXAAAAAAAAIEDcBQAAAAAAAAgQdwEAAAAAAAACxF0A\n",
       "AAAAAACAAHEXAAAAAAAAIEDcBQAAAAAAAAgQdwEAAAAAAAACxF0AAAAAAACAAHEXAAAAAAAAIEDc\n",
       "BQAAAAAAAAgQdwEAAAAAAAACxF0AAAAAAACAAHEXAAAAAAAAIEDcBQAAAAAAAAgQdwEAAAAAAAAC\n",
       "xF0AAAAAAACAAHEXAAAAAAAAIEDcBQAAAAAAAAgQdwEAAAAAAAACxF0AAAAAAACAAHEXAAAAAAAA\n",
       "IEDcBQAAAAAAAAgQdwEAAAAAAAACxF0AAAAAAACAAHEXAAAAAAAAIEDcBQAAAAAAAAgQdwEAAAAA\n",
       "AAACxF0AAAAAAACAAHEXAAAAAAAAIEDcBQAAAAAAAAgQdwEAAAAAAAACxF0AAAAAAACAAHEXAAAA\n",
       "AAAAIEDcBQAAAAAAAAgQdwEAAAAAAAACxF0AAAAAAACAAHEXAAAAAAAAIEDcBQAAAAAAAAgQdwEA\n",
       "AAAAAAACDh777d71Bpi56ZNz6wkw8eCj368nwMSxZ+9ZT4CJ668+tZ4AE6dOX7GeABOPPPTEegJM\n",
       "/Hj8nfUEmDj5xNn1BJj44E//PFycXO4CAAAAAAAABIi7AAAAAAAAAAHiLgAAAAAAAECAuAsAAAAA\n",
       "AAAQIO4CAAAAAAAABIi7AAAAAAAAAAHiLgAAAAAAAECAuAsAAAAAAAAQIO4CAAAAAAAABIi7AAAA\n",
       "AAAAAAHiLgAAAAAAAECAuAsAAAAAAAAQIO4CAAAAAAAABIi7AAAAAAAAAAHiLgAAAAAAAECAuAsA\n",
       "AAAAAAAQIO4CAAAAAAAABIi7AAAAAAAAAAHiLgAAAAAAAECAuAsAAAAAAAAQIO4CAAAAAAAABIi7\n",
       "AAAAAAAAAAHiLgAAAAAAAECAuAsAAAAAAAAQIO4CAAAAAAAABIi7AAAAAAAAAAHiLgAAAAAAAECA\n",
       "uAsAAAAAAAAQIO4CAAAAAAAABIi7AAAAAAAAAAHiLgAAAAAAAECAuAsAAAAAAAAQIO4CAAAAAAAA\n",
       "BIi7AAAAAAAAAAHiLgAAAAAAAECAuAsAAAAAAAAQIO4CAAAAAAAABIi7AAAAAAAAAAHiLgAAAAAA\n",
       "AECAuAsAAAAAAAAQIO4CAAAAAAAABIi7AAAAAAAAAAHiLgAAAAAAAECAuAsAAAAAAAAQIO4CAAAA\n",
       "AAAABIi7AAAAAAAAAAHiLgAAAAAAAECAuAsAAAAAAAAQIO4CAAAAAAAABIi7AAAAAAAAAAHiLgAA\n",
       "AAAAAECAuAsAAAAAAAAQIO4CAAAAAAAABIi7AAAAAAAAAAHiLgAAAAAAAECAuAsAAAAAAAAQIO4C\n",
       "AAAAAAAABIi7AAAAAAAAAAHiLgAAAAAAAECAuAsAAAAAAAAQIO4CAAAAAAAABIi7AAAAAAAAAAHi\n",
       "LgAAAAAAAECAuAsAAAAAAAAQIO4CAAAAAAAABIi7AAAAAAAAAAHiLgAAAAAAAECAuAsAAAAAAAAQ\n",
       "IO4CAAAAAAAABIi7AAAAAAAAAAHiLgAAAAAAAECAuAsAAAAAAAAQIO4CAAAAAAAABIi7AAAAAAAA\n",
       "AAHiLgAAAAAAAECAuAsAAAAAAAAQIO4CAAAAAAAABIi7AAAAAAAAAAHiLgAAAAAAAECAuAsAAAAA\n",
       "AAAQIO4CAAAAAAAABIi7AAAAAAAAAAHiLgAAAAAAAECAuAsAAAAAAAAQIO4CAAAAAAAABIi7AAAA\n",
       "AAAAAAHiLgAAAAAAAECAuAsAAAAAAAAQIO4CAAAAAAAABIi7AAAAAAAAAAHiLgAAAAAAAECAuAsA\n",
       "AAAAAAAQIO4CAAAAAAAABIi7AAAAAAAAAAHiLgAAAAAAAECAuAsAAAAAAAAQIO4CAAAAAAAABIi7\n",
       "AAAAAAAAAAHiLgAAAAAAAECAuAsAAAAAAAAQIO4CAAAAAAAABIi7AAAAAAAAAAHiLgAAAAAAAECA\n",
       "uAsAAAAAAAAQIO4CAAAAAAAABIi7AAAAAAAAAAHiLgAAAAAAAECAuAsAAAAAAAAQIO4CAAAAAAAA\n",
       "BIi7AAAAAAAAAAHiLgAAAAAAAECAuAsAAAAAAAAQIO4CAAAAAAAABIi7AAAAAAAAAAHiLgAAAAAA\n",
       "AECAuAsAAAAAAAAQIO4CAAAAAAAABIi7AAAAAAAAAAHiLgAAAAAAAECAuAsAAAAAAAAQIO4CAAAA\n",
       "AAAABIi7AAAAAAAAAAHiLgAAAAAAAECAuAsAAAAAAAAQIO4CAAAAAAAABIi7AAAAAAAAAAHiLgAA\n",
       "AAAAAECAuAsAAAAAAAAQIO4CAAAAAAAABBy4/4E3L6xHwMrvL55bT4CJ1+74Yj0BJr784871BBjx\n",
       "5Ofi9M13h9cTYOPAegBsXPnDwfUEmLj65Pn1BJg4eO6f9QSYcLkLAAAAAAAAECDuAgAAAAAAAASI\n",
       "uwAAAAAAAAAB4i4AAAAAAABAgLgLAAAAAAAAECDuAgAAAAAAAASIuwAAAAAAAAAB4i4AAAAAAABA\n",
       "gLgLAAAAAAAAECDuAgAAAAAAAASIuwAAAAAAAAAB4i4AAAAAAABAgLgLAAAAAAAAECDuAgAAAAAA\n",
       "AASIuwAAAAAAAAAB4i4AAAAAAABAgLgLAAAAAAAAECDuAgAAAAAAAASIuwAAAPzHvt2yilnHcRjn\n",
       "6OGccDygrmgRBIeKqGARFFmZcYggBovVJ1CDbcEgvgRZMA+jQTC6NGSCDyAYfAgWYQZhGAai82V8\n",
       "uTifzyv4xj/3df8AAACAAHEXAAAAAAAAIEDcBQAAAAAAAAgQdwEAAAAAAAACxF0AAAAAAACAAHEX\n",
       "AAAAAAAAIEDcBQAAAAAAAAgQdwEAAAAAAAACxF0AAAAAAACAAHEXAAAAAAAAIEDcBQAAAAAAAAgQ\n",
       "dwEAAAAAAAACxF0AAAAAAACAAHEXAAAAAAAAIEDcBQAAAAAAAAgQdwEAAAAAAAACxF0AAAAAAACA\n",
       "AHEXAAAAAAAAIEDcBQAAAAAAAAgQdwEAAAAAAAACxF0AAAAAAACAAHEXAAAAAAAAIEDcBQAAAAAA\n",
       "AAgQdwEAAAAAAAACxF0AAAAAAACAAHEXAAAAAAAAIEDcBQAAAAAAAAgQdwEAAAAAAAACxF0AAAAA\n",
       "AACAAHEXAAAAAAAAIEDcBQAAAAAAAAgQdwEAAAAAAAACxF0AAAAAAACAAHEXAAAAAAAAIEDcBQAA\n",
       "AAAAAAgQdwEAAAAAAAACxF0AAAAAAACAAHEXAAAAAAAAIEDcBQAAAAAAAAgQdwEAAAAAAAACxF0A\n",
       "AAAAAACAAHEXAAAAAAAAIEDcBQAAAAAAAAgQdwEAAAAAAAACxF0AAAAAAACAAHEXAAAAAAAAIEDc\n",
       "BQAAAAAAAAgQdwEAAAAAAAACxF0AAAAAAACAAHEXAAAAAAAAIEDcBQAAAAAAAAgQdwEAAAAAAAAC\n",
       "xF0AAAAAAACAAHEXAAAAAAAAIEDcBQAAAAAAAAgQdwEAAAAAAAACxF0AAAAAAACAAHEXAAAAAAAA\n",
       "IEDcBQAAAAAAAAgQdwEAAAAAAAACxF0AAAAAAACAAHEXAAAAAAAAIEDcBQAAAAAAAAgQdwEAAAAA\n",
       "AAACxF0AAAAAAACAAHEXAAAAAAAAIEDcBQAAAAAAAAgQdwEAAAAAAAACxF0AAAAAAACAAHEXAAAA\n",
       "AAAAIEDcBQAAAAAAAAgQdwEAAAAAAAACxF0AAAAAAACAAHEXAAAAAAAAIEDcBQAAAAAAAAgQdwEA\n",
       "AAAAAAACxF0AAAAAAACAAHEXAAAAAAAAIEDcBQAAAAAAAAgQdwEAAAAAAAACxF0AAAAAAACAAHEX\n",
       "AAAAAAAAIEDcBQAAAAAAAAgQdwEAAAAAAAACxF0AAAAAAACAAHEXAAAAAAAAIEDcBQAAAAAAAAgQ\n",
       "dwEAAAAAAAACxF0AAAAAAACAAHEXAAAAAAAAIEDcBQAAAAAAAAgQdwEAAAAAAAACxF0AAAAAAACA\n",
       "AHEXAAAAAAAAIEDcBQAAAAAAAAgQdwEAAAAAAAACxF0AAAAAAACAAHEXAAAAAAAAIEDcBQAAAAAA\n",
       "AAgQdwEAAAAAAAACxF0AAAAAAACAAHEXAAAAAAAAIEDcBQAAAAAAAAgQdwEAAAAAAAACxF0AAAAA\n",
       "AACAAHEXAAAAAAAAIEDcBQAAAAAAAAgQdwEAAAAAAAACxF0AAAAAAACAAHEXAAAAAAAAIEDcBQAA\n",
       "AAAAAAg4+PzXp+6sR8DK00c31xNg4uL1t9cTYOLBq8frCTDx+yVPfs6mg/8O1hNg4p5fDtcTYOLf\n",
       "o/UC2Lj92O31BJg4//r36wkw4XIXAAAAAAAAIEDcBQAAAAAAAAgQdwEAAAAAAAACxF0AAAAAAACA\n",
       "AHEXAAAAAAAAIEDcBQAAAAAAAAgQdwEAAAAAAAACxF0AAAAAAACAAHEXAAAAAAAAIEDcBQAAAAAA\n",
       "AAgQdwEAAAAAAAACxF0AAAAAAACAAHEXAAAAAAAAIEDcBQAAAAAAAAgQdwEAAAAAAAACxF0AAAAA\n",
       "AACAAHEXAAAAAAAAIEDcBQAAAAAAAAgQdwEAAAAAAAACxF0AAAAAAACAAHEXAAAAAAAAIEDcBQAA\n",
       "AAAAAAgQdwEAAAAAAAACxF0AAAAAAACAAHEXAAAAAAAAIEDcBQAAAAAAAAgQdwEAAAAAAAACxF0A\n",
       "AAAAAACAAHEXAAAAAAAAIEDcBQAAAAAAAAgQdwEAAAAAAAACxF0AAAAAAACAAHEXAAAAAAAAIEDc\n",
       "BQAAAAAAAAgQdwEAAAAAAAACxF0AAAAAAACAAHEXAAAAAAAAIEDcBQAAAAAAAAgQdwEAAAAAAAAC\n",
       "xF0AAAAAAACAAHEXAAAAAAAAIEDcBQAAAAAAAAgQdwEAAAAAAAACxF0AAAAAAACAAHEXAAAAAAAA\n",
       "IEDcBQAAAAAAAAgQdwEAAAAAAAACxF0AAAAAAACAAHEXAAAAAAAAIEDcBQAAAAAAAAgQdwEAAAAA\n",
       "AAACxF0AAAAAAACAAHEXAAAAAAAAIEDcBQAAAAAAAAgQdwEAAAAAAAACxF0AAAAAAACAAHEXAAAA\n",
       "AAAAIEDcBQAAAAAAAAgQdwEAAAAAAAACxF0AAAAAAACAAHEXAAAAAAAAIEDcBQAAAAAAAAgQdwEA\n",
       "AAAAAAACxF0AAAAAAACAAHEXAAAAAAAAIEDcBQAAAAAAAAgQdwEAAAAAAAACxF0AAAAAAACAAHEX\n",
       "AAAAAAAAIEDcBQAAAAAAAAgQdwEAAAAAAAACxF0AAAAAAACAAHEXAAAAAAAAIEDcBQAAAAAAAAgQ\n",
       "dwEAAAAAAAACxF0AAAAAAACAAHEXAAAAAAAAIEDcBQAAAAAAAAgQdwEAAAAAAAACxF0AAAAAAACA\n",
       "AHEXAAAAAAAAIEDcBQAAAAAAAAgQdwEAAAAAAAACxF0AAAAAAACAAHEXAAAAAAAAIEDcBQAAAAAA\n",
       "AAgQdwEAAAAAAAACxF0AAAAAAACAAHEXAAAAAAAAIEDcBQAAAAAAAAgQdwEAAAAAAAACxF0AAAAA\n",
       "AACAAHEXAAAAAAAAIEDcBQAAAAAAAAgQdwEAAAAAAAACxF0AAAAAAACAAHEXAAAAAAAAIEDcBQAA\n",
       "AAAAAAgQdwEAAAAAAAACxF0AAAAAAACAAHEXAAAAAAAAIEDcBQAAAAAAAAgQdwEAAAAAAAACxF0A\n",
       "AAAAAACAAHEXAAAAAAAAIEDcBQAAAAAAAAgQdwEAAAAAAAACxF0AAAAAAACAAHEXAAAAAAAAIEDc\n",
       "BQAAAAAAAAgQdwEAAAAAAAACxF0AAAAAAACAAHEXAAAAAAAAIEDcBQAAAAAAAAgQdwEAAAAAAAAC\n",
       "xF0AAAAAAACAAHEXAAAAAAAAIEDcBQAAAAAAAAgQdwEAAAAAAAACxF0AAAAAAACAAHEXAAAAAAAA\n",
       "IEDcBQAAAAAAAAgQdwEAAAAAAAACxF0AAAAAAACAAHEXAAAAAAAAIEDcBQAAAAAAAAgQdwEAAAAA\n",
       "AAACxF0AAAAAAACAAHEXAAAAAAAAIODw3N1/rzfAzCsffrCeABPH5w7WE2Di2pVP1hNg4tnLb64n\n",
       "wMSNj66sJ8DE+atvrCfAxIsXvltPgInHT5sfLaAAABS6SURBVP5YT4CJL08eWk+ACZe7AAAAAAAA\n",
       "AAHiLgAAAAAAAECAuAsAAAAAAAAQIO4CAAAAAAAABIi7AAAAAAAAAAHiLgAAAAAAAECAuAsAAAAA\n",
       "AAAQIO4CAAAAAAAABIi7AAAAAAAAAAHiLgAAAAAAAECAuAsAAAAAAAAQIO4CAAAAAAAABIi7AAAA\n",
       "AAAAAAHiLgAAAAAAAECAuAsAAAAAAAAQIO4CAAAAAAAABIi7AAAAAAAAAAHiLgAAAAAAAECAuAsA\n",
       "AAAAAAAQIO4CAAAAAAAABIi7AAAAAAAAAAHiLgAAAAAAAECAuAsAAAAAAAAQIO4CAAAAAAAABIi7\n",
       "AAAAAAAAAAHiLgAAAAAAAECAuAsAAAAAAAAQIO4CAAAAAAAABIi7AAAAAAAAAAHiLgAAAAAAAECA\n",
       "uAsAAAAAAAAQIO4CAAAAAAAABIi7AAAAAAAAAAHiLgAAAAAAAECAuAsAAAAAAAAQIO4CAAAAAAAA\n",
       "BIi7AAAAAAAAAAHiLgAAAAAAAECAuAsAAAAAAAAQIO4CAAAAAAAABIi7AAAAAAAAAAHiLgAAAAAA\n",
       "AECAuAsAAAAAAAAQIO4CAAAAAAAABIi7AAAAAAAAAAHiLgAAAAAAAECAuAsAAAAAAAAQIO4CAAAA\n",
       "AAAABIi7AAAAAAAAAAHiLgAAAAAAAECAuAsAAAAAAAAQIO4CAAAAAAAABIi7AAAAAAAAAAHiLgAA\n",
       "AAAAAECAuAsAAAAAAAAQIO4CAAAAAAAABIi7AAAAAAAAAAHiLgAAAAAAAECAuAsAAAAAAAAQIO4C\n",
       "AAAAAAAABIi7AAAAAAAAAAHiLgAAAAAAAECAuAsAAAAAAAAQIO4CAAAAAAAABIi7AAAAAAAAAAHi\n",
       "LgAAAAAAAECAuAsAAAAAAAAQIO4CAAAAAAAABIi7AAAAAAAAAAHiLgAAAAAAAECAuAsAAAAAAAAQ\n",
       "IO4CAAAAAAAABIi7AAAAAAAAAAHiLgAAAAAAAECAuAsAAAAAAAAQIO4CAAAAAAAABIi7AAAAAAAA\n",
       "AAHiLgAAAAAAAECAuAsAAAAAAAAQIO4CAAAAAAAABIi7AAAAAAAAAAHiLgAAAAAAAECAuAsAAAAA\n",
       "AAAQIO4CAAAAAAAABIi7AAAAAAAAAAHiLgAAAAAAAECAuAsAAAAAAAAQIO4CAAAAAAAABIi7AAAA\n",
       "AAAAAAHiLgAAAAAAAECAuAsAAAAAAAAQIO4CAAAAAAAABIi7AAAAAAAAAAHiLgAAAAAAAECAuAsA\n",
       "AAAAAAAQIO4CAAAAAAAABIi7AAAAAAAAAAHiLgAAAAAAAECAuAsAAAAAAAAQIO4CAAAAAAAABIi7\n",
       "AAAAAAAAAAHiLgAAAAAAAECAuAsAAAAAAAAQIO4CAAAAAAAABIi7AAAAAAAAAAHiLgAAAAAAAECA\n",
       "uAsAAAAAAAAQIO4CAAAAAAAABIi7AAAAAAAAAAHiLgAAAAAAAECAuAsAAAAAAAAQIO4CAAAAAAAA\n",
       "BIi7AAAAAAAAAAHiLgAAAAAAAECAuAsAAAAAAAAQIO4CAAAAAAAABIi7AAAAAAAAAAHiLgAAAAAA\n",
       "AECAuAsAAAAAAAAQIO4CAAAAAAAABIi7AAAAAAAAAAHiLgAAAAAAAECAuAsAAAAAAAAQIO4CAAAA\n",
       "AAAABIi7AAAAAAAAAAHiLgAAAAAAAECAuAsAAAAAAAAQIO4CAAAAAAAABIi7AAAAAAAAAAGHJwf/\n",
       "rDfAzAvv3FhPgIkf33piPQEmXn3p4noCTBzdurOeABOXbz65ngATp4/+tZ4AE9e+eGY9ASa+/nO9\n",
       "ADYeeNibh7PJ5S4AAAAAAABAgLgLAAAAAAAAECDuAgAAAAAAAASIuwAAAAAAAAAB4i4AAAAAAABA\n",
       "gLgLAAAAAAAAECDuAgAAAAAAAASIuwAAAAAAAAAB4i4AAAAAAABAgLgLAAAAAAAAECDuAgAAAAAA\n",
       "AASIuwAAAAAAAAAB4i4AAAAAAABAgLgLAAAAAAAAECDuAgAAAAAAAASIuwAAAAAAAAAB4i4AAAAA\n",
       "AABAgLgLAAAAAAAAECDuAgAAAAAAAASIuwAAAAAAAAAB4i4AAAAAAABAgLgLAAAAAAAAECDuAgAA\n",
       "AAAAAASIuwAAAAAAAAAB4i4AAAAAAABAgLgLAAAAAAAAECDuAgAAAAAAAASIuwAAAAAAAAAB4i4A\n",
       "AAAAAABAgLgLAAAAAAAAECDuAgAAAAAAAASIuwAAAAAAAAAB4i4AAAAAAABAgLgLAAAAAAAAECDu\n",
       "AgAAAAAAAASIuwAAAAAAAAAB4i4AAAAAAABAgLgLAAAAAAAAECDuAgAAAAAAAASIuwAAAAAAAAAB\n",
       "4i4AAAAAAABAgLgLAAAAAAAAECDuAgAAAAAAAASIuwAAAAAAAAAB4i4AAAAAAABAgLgLAAAAAAAA\n",
       "ECDuAgAAAAAAAASIuwAAAAAAAAAB4i4AAAAAAABAgLgLAAAAAAAAECDuAgAAAAAAAASIuwAAAAAA\n",
       "AAAB4i4AAAAAAABAgLgLAAAAAAAAECDuAgAAAAAAAASIuwAAAAAAAAAB4i4AAAAAAABAgLgLAAAA\n",
       "AAAAECDuAgAAAAAAAASIuwAAAAAAAAAB4i4AAAAAAABAgLgLAAAAAAAAECDuAgAAAAAAAASIuwAA\n",
       "AAAAAAAB4i4AAAAAAABAgLgLAAAAAAAAECDuAgAAAAAAAASIuwAAAAAAAAAB4i4AAAAAAABAgLgL\n",
       "AAAAAAAAECDuAgAAAAAAAASIuwAAAAAAAAAB4i4AAAAAAABAgLgLAAAAAAAAECDuAgAAAAAAAASI\n",
       "uwAAAAAAAAAB4i4AAAAAAABAgLgLAAAAAAAAECDuAgAAAAAAAASIuwAAAAAAAAAB4i4AAAAAAABA\n",
       "gLgLAAAAAAAAECDuAgAAAAAAAASIuwAAAAAAAAAB4i4AAAAAAABAgLgLAAAAAAAAECDuAgAAAAAA\n",
       "AASIuwAAAAAAAAAB4i4AAAAAAABAgLgLAAAAAAAAECDuAgAAAAAAAASIuwAAAAAAAAAB4i4AAAAA\n",
       "AABAgLgLAAAAAAAAECDuAgAAAAAAAASIuwAAAAAAAAAB4i4AAAAAAABAgLgLAAAAAAAAECDuAgAA\n",
       "AAAAAASIuwAAAAAAAAAB4i4AAAAAAABAgLgLAAAAAAAAECDuAgAAAAAAAASIuwAAAAAAAAAB4i4A\n",
       "AAAAAABAgLgLAAAAAAAAECDuAgAAAAAAAASIuwAAAAAAAAAB4i4AAAAAAABAgLgLAAAAAAAAECDu\n",
       "AgAAAAAAAASIuwAAAAAAAAAB4i4AAAAAAABAgLgLAAAAAAAAECDuAgAAAAAAAASIuwAAAAAAAAAB\n",
       "4i4AAAAAAABAgLgLAAAAAAAAECDuAgAAAAAAAASIuwAAAAAAAAAB4i4AAAAAAABAgLgLAAAAAAAA\n",
       "ECDuAgAAAAAAAASIuwAAAAAAAAAB4i4AAAAAAABAgLgLAAAAAAAAECDuAgAAAAAAAASIuwAAAAAA\n",
       "AAAB4i4AAAAAAABAwOFrn76/3gAzz136YT0BJn571789nE3337pvPQEm7jo+WE+AiQunP60nwMRn\n",
       "Pz+/ngATj3z8zXoCTJx+de96Aky8/N636wkw4es+AAAAAAAAQIC4CwAAAAAAABAg7gIAAAAAAAAE\n",
       "iLsAAAAAAAAAAeIuAAAAAAAAQIC4CwAAAAAAABAg7gIAAAAAAAAEiLsAAAAAAAAAAeIuAAAAAAAA\n",
       "QIC4CwAAAAAAABAg7gIAAAAAAAAEiLsAAAAAAAAAAeIuAAAAAAAAQIC4CwAAAAAAABAg7gIAAAAA\n",
       "AAAEiLsAAAAAAAAAAeIuAAAAAAAAQIC4CwAAAAAAABAg7gIAAAAAAAAEiLsAAAAAAAAAAeIuAAAA\n",
       "AAAAQIC4CwAAAAAAABAg7gIAAAAAAAAEiLsAAAAAAAAAAeIuAAAAAAAAQIC4CwAAAAAAABAg7gIA\n",
       "AAAAAAAEiLsAAAAAAAAAAeIuAAAAAAAAQIC4CwAAAAAAABAg7gIAAAAAAAAEiLsAAAAAAAAAAeIu\n",
       "AAAAAAAAQIC4CwAAAAAAABAg7gIAAAAAAAAEiLsAAAAAAAAAAeIuAAAAAAAAQIC4CwAAAAAAABAg\n",
       "7gIAAAAAAAAEiLsAAPzfvh2TVAAAUBTlTyZwFizwJxPY4oMRTGABNws4u4kF7ODqIi6CIRQ0xuPC\n",
       "OQnefnkAAAAAQIC4CwAAAAAAABAg7gIAAAAAAAAEiLsAAAAAAAAAAeIuAAAAAAAAQIC4CwAAAAAA\n",
       "ABAg7gIAAAAAAAAEiLsAAAAAAAAAAeIuAAAAAAAAQIC4CwAAAAAAABAg7gIAAAAAAAAEiLsAAAAA\n",
       "AAAAAeIuAAAAAAAAQIC4CwAAAAAAABAg7gIAAAAAAAAEiLsAAAAAAAAAAeIuAAAAAAAAQIC4CwAA\n",
       "AAAAABAg7gIAAAAAAAAEiLsAAAAAAAAAAeIuAAAAAAAAQIC4CwAAAAAAABAg7gIAAAAAAAAEiLsA\n",
       "AAAAAAAAAeIuAAAAAAAAQIC4CwAAAAAAABAg7gIAAAAAAAAEiLsAAAAAAAAAAeIuAAAAAAAAQIC4\n",
       "CwAAAAAAABAg7gIAAAAAAAAEiLsAAAAAAAAAAeIuAAAAAAAAQIC4CwAAAAAAABAg7gIAAAAAAAAE\n",
       "iLsAAAAAAAAAAeIuAAAAAAAAQIC4CwAAAAAAABAg7gIAAAAAAAAEiLsAAAAAAAAAAeIuAAAAAAAA\n",
       "QIC4CwAAAAAAABAg7gIAAAAAAAAEiLsAAAAAAAAAAeIuAAAAAAAAQIC4CwAAAAAAABAg7gIAAAAA\n",
       "AAAEiLsAAAAAAAAAAeIuAAAAAAAAQIC4CwAAAAAAABAg7gIAAAAAAAAEiLsAAAAAAAAAAeIuAAAA\n",
       "AAAAQIC4CwAAAAAAABAg7gIAAAAAAAAEiLsAAAAAAAAAAeIuAAAAAAAAQIC4CwAAAAAAABAg7gIA\n",
       "AAAAAAAEiLsAAAAAAAAAAeIuAAAAAAAAQIC4CwAAAAAAABAg7gIAAAAAAAAEiLsAAAAAAAAAAeIu\n",
       "AAAAAAAAQIC4CwAAAAAAABAg7gIAAAAAAAAEiLsAAAAAAAAAAeIuAAAAAAAAQIC4CwAAAAAAABAg\n",
       "7gIAAAAAAAAEiLsAAAAAAAAAAeIuAAAAAAAAQIC4CwAAAAAAABAg7gIAAAAAAAAEiLsAAAAAAAAA\n",
       "AeIuAAAAAAAAQIC4CwAAAAAAABAg7gIAAAAAAAAEiLsAAAAAAAAAAeIuAAAAAAAAQIC4CwAAAAAA\n",
       "ABAg7gIAAAAAAAAEiLsAAAAAAAAAAeIuAAAAAAAAQIC4CwAAAAAAABAg7gIAAAAAAAAEiLsAAAAA\n",
       "AAAAAeIuAAAAAAAAQIC4CwAAAAAAABBwePk4/q1HwMrD7Wk9ASa+bn7XE2Di8vS2ngATP68X6wkw\n",
       "cbg/X0+AibO77/UEmLg+f19PgImnz6v1BJh4Pj6uJ8CE5y4AAAAAAABAgLgLAAAAAAAAECDuAgAA\n",
       "AAAAAASIuwAAAAAAAAAB4i4AAAAAAABAgLgLAAAAAAAAECDuAgAAAAAAAASIuwAAAAAAAAAB4i4A\n",
       "AAAAAABAgLgLAAAAAAAAECDuAgAAAAAAAASIuwAAAAAAAAAB4i4AAAAAAABAgLgLAAAAAAAAECDu\n",
       "AgAAAAAAAASIuwAAAAAAAAAB4i4AAAAAAABAgLgLAAAAAAAAECDuAgAAAAAAAASIuwAAAAAAAAAB\n",
       "4i4AAAAAAABAgLgLAAAAAAAAECDuAgAAAAAAAASIuwAAAAAAAAAB4i4AAAAAAABAgLgLAAAAAAAA\n",
       "ECDuAgAAAAAAAASIuwAAAAAAAAAB4i4AAAAAAABAgLgLAAAAAAAAECDuAgAAAAAAAASIuwAAAAAA\n",
       "AAAB4i4AAAAAAABAgLgLAAAAAAAAECDuAgAAAAAAAASIuwAAAAAAAAAB4i4AAAAAAABAgLgLAAAA\n",
       "AAAAECDuAgAAAAAAAASIuwAAAAAAAAAB4i4AAAAAAABAgLgLAAAAAAAAECDuAgAAAAAAAASIuwAA\n",
       "AAAAAAAB4i4AAAAAAABAgLgLAAAAAAAAECDuAgAAAAAAAASIuwAAAAAAAAAB4i4AAAAAAABAgLgL\n",
       "AAAAAAAAECDuAgAAAAAAAASIuwAAAAAAAAAB4i4AAAAAAABAgLgLAAAAAAAAECDuAgAAAAAAAASI\n",
       "uwAAAAAAAAAB4i4AAAAAAABAgLgLAAAAAAAAECDuAgAAAAAAAASIuwAAAAAAAAAB4i4AAAAAAABA\n",
       "gLgLAAAAAAAAECDuAgAAAAAAAASIuwAAAAAAAAAB4i4AAAAAAABAgLgLAAAAAAAAECDuAgAAAAAA\n",
       "AASIuwAAAAAAAAAB4i4AAAAAAABAgLgLAAAAAAAAECDuAgAAAAAAAASIuwAAAAAAAAAB4i4AAAAA\n",
       "AABAgLgLAAAAAAAAECDuAgAAAAAAAASIuwAAAAAAAAAB4i4AAAAAAABAgLgLAAAAAAAAECDuAgAA\n",
       "AAAAAASIuwAAAAAAAAAB4i4AAAAAAABAgLgLAAAAAAAAECDuAgAAAAAAAASIuwAAAAAAAAAB4i4A\n",
       "AAAAAABAgLgLAAAAAAAAECDuAgAAAAAAAASIuwAAAAAAAAAB4i4AAAAAAABAgLgLAAAAAAAAECDu\n",
       "AgAAAAAAAASIuwAAAAAAAAAB4i4AAAAAAABAgLgLAAAAAAAAECDuAgAAAAAAAASIuwAAAAAAAAAB\n",
       "4i4AAAAAAABAgLgLAAAAAAAAECDuAgAAAAAAAASIuwAAAAAAAAAB4i4AAAAAAABAgLgLAAAAAAAA\n",
       "ECDuAgAAAAAAAASIuwAAAAAAAAAB4i4AAAAAAABAgLgLAAAAAAAAECDuAgAAAAAAAASIuwAAAAAA\n",
       "AAAB4i4AAAAAAABAgLgLAAAAAAAAECDuAgAAAAAAAASIuwAAAAAAAAAB4i4AAAAAAABAgLgLAAAA\n",
       "AAAAECDuAgAAAAAAAASIuwAAAAAAAAAB4i4AAAAAAABAgLgLAAAAAAAAECDuAgAAAAAAAASIuwAA\n",
       "AAAAAAAB4i4AAAAAAABAgLgLAAAAAAAAECDuAgAAAAAAAASIuwAAAAAAAAAB4i4AAAAAAABAgLgL\n",
       "AAAAAAAAECDuAgAAAAAAAASIuwAAAAAAAAAB4i4AAAAAAABAwD8dx5sGKStDvAAAAABJRU5ErkJg\n",
       "gg==\n",
       "\" transform=\"translate(202, 123)\"/>\n",
       "</g>\n",
       "<defs>\n",
       "  <clipPath id=\"clip623\">\n",
       "    <rect x=\"2160\" y=\"123\" width=\"73\" height=\"1301\"/>\n",
       "  </clipPath>\n",
       "</defs>\n",
       "<g clip-path=\"url(#clip623)\">\n",
       "<image width=\"72\" height=\"1300\" xlink:href=\"data:image/png;base64,\n",
       "iVBORw0KGgoAAAANSUhEUgAAAEgAAAUUCAYAAAB8mVRsAAALH0lEQVR4nO3dy63cSBBFQVJIU8Z/\n",
       "t2QFi7Jg8izZiwgLHg4uqOrqj+7n73/vxf/68/Uf8OsECgIFgYJAYZ73fP03/DQLCgIFgYJAYc7l\n",
       "lcbGgoJAQaAgUJhzOUlvLCgIFAQKAoV5XifpjQUFgYJAQaDgJB0sKAgUBAoChXncSa8sKAgUBAoC\n",
       "hTmuO1YWFAQKAgWBgpN0sKAgUBAoCBTGjfTOgoJAQaAgUPDpjmBBQaAgUBAozPP1X/DjLCgIFAQK\n",
       "AgXXHcGCgkBBoCBQECjM4zpoZUFBoCBQECh4qREsKAgUBAoChXmu++u/4adZUBAoCBQECvO8HtIb\n",
       "CwoCBYGCQGGOk/TKgoJAQaAgUHDdESwoCBQECgKFOa47VhYUBAoCBYGCk3SwoCBQECgIFDykgwUF\n",
       "gYJAQaAw59Voo04QKAgUBApO0sGCgkBBoCBQmEejlTpBoCBQECi47gjqBIGCQEGgIFBwHxQsKAgU\n",
       "BAoChXm81FipEwQKAgWBwhyNVuoEgYJAQaDguiNYUBAoCBQECq47gjpBoCBQECi47gjqBIGCQEGg\n",
       "4CQd1AkCBYGCQMGddLCgIFAQKAgUfNsnqBMECgIFgYLvzQd1gkBBoCBQ8J9ABgsKAgWBgkDBpzuC\n",
       "OkGgIFAQKPh0R1AnCBQECgIFgYJL+6BOECgIFAQK/ivjYEFBoCBQECg4SQd1gkBBoCBQ8EHyoE4Q\n",
       "KAgUBAq+khksKAgUBAoCBSfpoE4QKAgUBApO0sGCgkBBoCBQcJIO6gSBgkBBoODbPkGdIFAQKAgU\n",
       "5rjuWFlQECgIFAQKTtJBnSBQECgIFJykgwUFgYJAQaDgJB3UCQIFgYJAQaDgx02CBQWBgkBBoODH\n",
       "TYI6QaAgUBAoOEkHCwoCBYGCQMFDOlhQECgIFAQKrjuCOkGgIFAQKDhJBwsKAgWBgkDBj5sEdYJA\n",
       "QaAgUPBtn2BBQaAgUBAozOO6Y2VBQaAgUBAouO4I6gSBgkBBoOCNw2BBQaAgUBAouJMOFhQECgIF\n",
       "gYI76WBBQaAgUBAoCBRc2gd1gkBBoCBQcGkfLCgIFAQKAgWX9sGCgkBBoCBQcJIOFhQECgIFgYKH\n",
       "dLCgIFAQKAgUPKSDBQWBgkBBoODTHUGdIFAQKAgUvHEYLCgIFAQKAgXXHcGCgkBBoCBQ8JAOFhQE\n",
       "CgIFgYKHdLCgIFAQKAgU5vWQXllQECgIFAQKAgXvrAYLCgIFgYJAwX1QsKAgUBAoCBQ8pIMFBYGC\n",
       "QEGg4NI+WFAQKAgUBApO0sGCgkBBoCBQ8JAOFhQECgIFgcK8X/8FP86CgkBBoCBQcJIOFhQECgIF\n",
       "gYI3DoMFBYGCQEGg4CQdLCgIFAQKAgUn6WBBQaAgUBAozPHO4cqCgkBBoCBQcJIOFhQECgIFgYJA\n",
       "wb9iwYKCQEGgIFDwzmqwoCBQECgIFHzbJ1hQECgIFAQKrjuCBQWBgkBBoOAhHSwoCBQECgKFed13\n",
       "rCwoCBQECgIFJ+lgQUGgIFAQKHhIBwsKAgWBgkDBdUewoCBQECgIFJykgwUFgYJAQaDgJB0sKAgU\n",
       "BAoChbmcpFcWFAQKAgWBguuOYEFBoCBQECgIFHxvPlhQECgIFAQK7oOCBQWBgkBBoOCd1WBBQaAg\n",
       "UBAozOUhvbKgIFAQKAgUvLMaLCgIFAQKAgUn6WBBQaAgUBAoeOMwWFAQKAgUBAreOAwWFAQKAgWB\n",
       "gpN0sKAgUBAoCBTcSQcLCgIFgYJAwUM6WFAQKAgUBAquO4IFBYGCQEGg4CQdLCgIFAQKAgWBgn/F\n",
       "ggUFgYJAQaDgPihYUBAoCBQECgIFgYJAQaAgUHDdESwoCBQECgIFD+lgQUGgIFAQKMztTnplQUGg\n",
       "IFAQKDhJBwsKAgWBgkDBQzpYUBAoCBQECh7SwYKCQEGgIFDwOelgQUGgIFAQKMztJL2yoCBQECgI\n",
       "FFx3BAsKAgWBgkDBQzpYUBAoCBQECgIF90HBgoJAQaAgUPBSI1hQECgIFAQKPv4SLCgIFAQKAgXX\n",
       "HcGCgkBBoCBQcN0RLCgIFAQKAgUP6WBBQaAgUBAojBvpnQUFgYJAQaDgJB0sKAgUBAoCBQ/pYEFB\n",
       "oCBQECj4dEewoCBQECgIFJykgwUFgYJAQaDgIR0sKAgUBAoCBYGC+6BgQUGgIFAQKPjefLCgIFAQ\n",
       "KAgUnKSDBQWBgkBBoODSPlhQECgIFAQKHtLBgoJAQaAgUHDdESwoCBQECgIFJ+lgQUGgIFAQKHhI\n",
       "BwsKAgWBgkDBdUewoCBQECgIFJykgwUFgYJAQaAgUBAoCBQECgIF1x3BgoJAQaAgUHDdESwoCBQE\n",
       "CgIFgYKXGsGCgkBBoCBQ8FIjWFAQKAgUBAoe0sGCgkBBoCBQcN0RLCgIFAQKAgUn6WBBQaAgUBAo\n",
       "OEkHCwoCBYGCQMFJOlhQECgIFAQKHtLBgoJAQaAgUHDdESwoCBQECgIFJ+lgQUGgIFAQKDhJBwsK\n",
       "AgWBgkDBSTpYUBAoCBQECh7SwYKCQEGgIFAQKMz9+mdsY0FBoCBQECh4qREsKAgUBAoCBe+sBgsK\n",
       "AgWBgkDBSTpYUBAoCBQECk7SwYKCQEGgIFBwkg4WFAQKAgWBgod0sKAgUBAoCBRcdwQLCgIFgYJA\n",
       "wUk6WFAQKAgUBApO0sGCgkBBoCBQcJIOFhQECgIFgYKTdLCgIFAQKAgUnKSDBQWBgkBBoCBQ8AtU\n",
       "wYKCQEGgIFDwUiNYUBAoCBQECi7tgwUFgYJAQaDgJB0sKAgUBAoCBSfpYEFBoCBQECg4SQcLCgIF\n",
       "gYJAwUk6WFAQKAgUBApz+QjeyoKCQEGgIFBwkg4WFAQKAgWBgjvpYEFBoCBQECg4SQcLCgIFgYJA\n",
       "wUk6WFAQKAgUBAp+uyNYUBAoCBQECgIFLzWCBQWBgkBBoDD3+fpP+G0WFAQKAgWBgpN0sKAgUBAo\n",
       "CBRc2gcLCgIFgYJAwUk6WFAQKAgUBAoe0sGCgkBBoCBQ8G2fYEFBoCBQECj4BapgQUGgIFAQKDhJ\n",
       "BwsKAgWBgkBhruMpvbGgIFAQKAgUnKSDBQWBgkBBoODTHcGCgkBBoCBQECj4tk+woCBQECgIFLzU\n",
       "CBYUBAoCBYGCk3SwoCBQECgIFObyM4ErCwoCBYGCQMG3fYIFBYGCQEGg4DOKwYKCQEGgIFBwkg4W\n",
       "FAQKAgWBgk93BAsKAgWBgkDBpzuCBQWBgkBBoODHTYIFBYGCQEGg4I3DYEFBoCBQECh44zBYUBAo\n",
       "CBQECh7SwYKCQEGgIFAQKPhKZrCgIFAQKAgUfPwlWFAQKAgUBArug4IFBYGCQEGg4CEdLCgIFAQK\n",
       "AgV30sGCgkBBoCBQcCcdLCgIFAQKAgXXHcGCgkBBoCBQ8JAOFhQECgIFgYIfNwkWFAQKAgWBgpN0\n",
       "sKAgUBAoCBQ8pIMFBYGCQEGg4CEdLCgIFAQKAoW53UmvLCgIFAQKAgWBgpcawYKCQEGgIFDwkA4W\n",
       "FAQKAgWBgod0sKAgUBAoCBR8kDxYUBAoCBQECk7SwYKCQEGgIFDwkA4WFAQKAgWBwlzHj7luLCgI\n",
       "FAQKAgUn6WBBQaAgUBAozOshvbKgIFAQKAgUfLojWFAQKAgUBApzve6kNxYUBAoCBYGCO+lgQUGg\n",
       "IFAQKLjuCBYUBAoCBYGCQMF9ULCgIFAQKAgUvNQIFhQECgIFgYLPKAYLCgIFgYJAwVcygwUFgYJA\n",
       "QaDg4y/BgoJAQaAgUHCSDhYUBAoCBYGCO+lgQUGgIFAQKPh0R7CgIFAQKAgUfE46WFAQKAgUBArz\n",
       "OkmvLCgIFAQKAgUn6WBBQaAgUBAo+AhesKAgUBAoCBT+Ab5ci8mCk+XpAAAAAElFTkSuQmCC\n",
       "\" transform=\"translate(2161, 123)\"/>\n",
       "</g>\n",
       "<path clip-path=\"url(#clip620)\" d=\"M2280.7 1292.62 Q2277.09 1292.62 2275.26 1296.18 Q2273.45 1299.73 2273.45 1306.85 Q2273.45 1313.96 2275.26 1317.53 Q2277.09 1321.07 2280.7 1321.07 Q2284.33 1321.07 2286.14 1317.53 Q2287.97 1313.96 2287.97 1306.85 Q2287.97 1299.73 2286.14 1296.18 Q2284.33 1292.62 2280.7 1292.62 M2280.7 1288.92 Q2286.51 1288.92 2289.57 1293.52 Q2292.64 1298.1 2292.64 1306.85 Q2292.64 1315.58 2289.57 1320.19 Q2286.51 1324.77 2280.7 1324.77 Q2274.89 1324.77 2271.81 1320.19 Q2268.76 1315.58 2268.76 1306.85 Q2268.76 1298.1 2271.81 1293.52 Q2274.89 1288.92 2280.7 1288.92 Z\" fill=\"#000000\" fill-rule=\"nonzero\" fill-opacity=\"1\" /><path clip-path=\"url(#clip620)\" d=\"M2300.86 1318.22 L2305.75 1318.22 L2305.75 1324.1 L2300.86 1324.1 L2300.86 1318.22 Z\" fill=\"#000000\" fill-rule=\"nonzero\" fill-opacity=\"1\" /><path clip-path=\"url(#clip620)\" d=\"M2316.74 1320.16 L2324.38 1320.16 L2324.38 1293.8 L2316.07 1295.47 L2316.07 1291.21 L2324.33 1289.54 L2329.01 1289.54 L2329.01 1320.16 L2336.65 1320.16 L2336.65 1324.1 L2316.74 1324.1 L2316.74 1320.16 Z\" fill=\"#000000\" fill-rule=\"nonzero\" fill-opacity=\"1\" /><polyline clip-path=\"url(#clip620)\" style=\"stroke:#000000; stroke-linecap:round; stroke-linejoin:round; stroke-width:4; stroke-opacity:1; fill:none\" points=\"2232.76,1310.45 2256.76,1310.45 \"/>\n",
       "<path clip-path=\"url(#clip620)\" d=\"M2280.7 1159.53 Q2277.09 1159.53 2275.26 1163.1 Q2273.45 1166.64 2273.45 1173.77 Q2273.45 1180.88 2275.26 1184.44 Q2277.09 1187.98 2280.7 1187.98 Q2284.33 1187.98 2286.14 1184.44 Q2287.97 1180.88 2287.97 1173.77 Q2287.97 1166.64 2286.14 1163.1 Q2284.33 1159.53 2280.7 1159.53 M2280.7 1155.83 Q2286.51 1155.83 2289.57 1160.44 Q2292.64 1165.02 2292.64 1173.77 Q2292.64 1182.5 2289.57 1187.1 Q2286.51 1191.69 2280.7 1191.69 Q2274.89 1191.69 2271.81 1187.1 Q2268.76 1182.5 2268.76 1173.77 Q2268.76 1165.02 2271.81 1160.44 Q2274.89 1155.83 2280.7 1155.83 Z\" fill=\"#000000\" fill-rule=\"nonzero\" fill-opacity=\"1\" /><path clip-path=\"url(#clip620)\" d=\"M2300.86 1185.13 L2305.75 1185.13 L2305.75 1191.01 L2300.86 1191.01 L2300.86 1185.13 Z\" fill=\"#000000\" fill-rule=\"nonzero\" fill-opacity=\"1\" /><path clip-path=\"url(#clip620)\" d=\"M2319.96 1187.08 L2336.28 1187.08 L2336.28 1191.01 L2314.33 1191.01 L2314.33 1187.08 Q2317 1184.32 2321.58 1179.69 Q2326.19 1175.04 2327.37 1173.7 Q2329.61 1171.18 2330.49 1169.44 Q2331.39 1167.68 2331.39 1165.99 Q2331.39 1163.24 2329.45 1161.5 Q2327.53 1159.76 2324.43 1159.76 Q2322.23 1159.76 2319.77 1160.53 Q2317.34 1161.29 2314.57 1162.84 L2314.57 1158.12 Q2317.39 1156.99 2319.84 1156.41 Q2322.3 1155.83 2324.33 1155.83 Q2329.7 1155.83 2332.9 1158.51 Q2336.09 1161.2 2336.09 1165.69 Q2336.09 1167.82 2335.28 1169.74 Q2334.5 1171.64 2332.39 1174.23 Q2331.81 1174.9 2328.71 1178.12 Q2325.61 1181.31 2319.96 1187.08 Z\" fill=\"#000000\" fill-rule=\"nonzero\" fill-opacity=\"1\" /><polyline clip-path=\"url(#clip620)\" style=\"stroke:#000000; stroke-linecap:round; stroke-linejoin:round; stroke-width:4; stroke-opacity:1; fill:none\" points=\"2232.76,1177.36 2256.76,1177.36 \"/>\n",
       "<path clip-path=\"url(#clip620)\" d=\"M2280.7 1026.45 Q2277.09 1026.45 2275.26 1030.01 Q2273.45 1033.55 2273.45 1040.68 Q2273.45 1047.79 2275.26 1051.35 Q2277.09 1054.9 2280.7 1054.9 Q2284.33 1054.9 2286.14 1051.35 Q2287.97 1047.79 2287.97 1040.68 Q2287.97 1033.55 2286.14 1030.01 Q2284.33 1026.45 2280.7 1026.45 M2280.7 1022.74 Q2286.51 1022.74 2289.57 1027.35 Q2292.64 1031.93 2292.64 1040.68 Q2292.64 1049.41 2289.57 1054.02 Q2286.51 1058.6 2280.7 1058.6 Q2274.89 1058.6 2271.81 1054.02 Q2268.76 1049.41 2268.76 1040.68 Q2268.76 1031.93 2271.81 1027.35 Q2274.89 1022.74 2280.7 1022.74 Z\" fill=\"#000000\" fill-rule=\"nonzero\" fill-opacity=\"1\" /><path clip-path=\"url(#clip620)\" d=\"M2300.86 1052.05 L2305.75 1052.05 L2305.75 1057.93 L2300.86 1057.93 L2300.86 1052.05 Z\" fill=\"#000000\" fill-rule=\"nonzero\" fill-opacity=\"1\" /><path clip-path=\"url(#clip620)\" d=\"M2330.1 1039.29 Q2333.45 1040.01 2335.33 1042.28 Q2337.23 1044.55 2337.23 1047.88 Q2337.23 1053 2333.71 1055.8 Q2330.19 1058.6 2323.71 1058.6 Q2321.53 1058.6 2319.22 1058.16 Q2316.93 1057.74 2314.47 1056.89 L2314.47 1052.37 Q2316.42 1053.51 2318.73 1054.09 Q2321.05 1054.66 2323.57 1054.66 Q2327.97 1054.66 2330.26 1052.93 Q2332.58 1051.19 2332.58 1047.88 Q2332.58 1044.83 2330.42 1043.11 Q2328.29 1041.38 2324.47 1041.38 L2320.45 1041.38 L2320.45 1037.53 L2324.66 1037.53 Q2328.11 1037.53 2329.94 1036.17 Q2331.76 1034.78 2331.76 1032.19 Q2331.76 1029.53 2329.87 1028.11 Q2327.99 1026.68 2324.47 1026.68 Q2322.55 1026.68 2320.35 1027.09 Q2318.15 1027.51 2315.51 1028.39 L2315.51 1024.22 Q2318.18 1023.48 2320.49 1023.11 Q2322.83 1022.74 2324.89 1022.74 Q2330.21 1022.74 2333.32 1025.17 Q2336.42 1027.58 2336.42 1031.7 Q2336.42 1034.57 2334.77 1036.56 Q2333.13 1038.53 2330.1 1039.29 Z\" fill=\"#000000\" fill-rule=\"nonzero\" fill-opacity=\"1\" /><polyline clip-path=\"url(#clip620)\" style=\"stroke:#000000; stroke-linecap:round; stroke-linejoin:round; stroke-width:4; stroke-opacity:1; fill:none\" points=\"2232.76,1044.28 2256.76,1044.28 \"/>\n",
       "<path clip-path=\"url(#clip620)\" d=\"M2280.7 893.36 Q2277.09 893.36 2275.26 896.925 Q2273.45 900.467 2273.45 907.596 Q2273.45 914.703 2275.26 918.267 Q2277.09 921.809 2280.7 921.809 Q2284.33 921.809 2286.14 918.267 Q2287.97 914.703 2287.97 907.596 Q2287.97 900.467 2286.14 896.925 Q2284.33 893.36 2280.7 893.36 M2280.7 889.657 Q2286.51 889.657 2289.57 894.263 Q2292.64 898.846 2292.64 907.596 Q2292.64 916.323 2289.57 920.929 Q2286.51 925.513 2280.7 925.513 Q2274.89 925.513 2271.81 920.929 Q2268.76 916.323 2268.76 907.596 Q2268.76 898.846 2271.81 894.263 Q2274.89 889.657 2280.7 889.657 Z\" fill=\"#000000\" fill-rule=\"nonzero\" fill-opacity=\"1\" /><path clip-path=\"url(#clip620)\" d=\"M2300.86 918.962 L2305.75 918.962 L2305.75 924.842 L2300.86 924.842 L2300.86 918.962 Z\" fill=\"#000000\" fill-rule=\"nonzero\" fill-opacity=\"1\" /><path clip-path=\"url(#clip620)\" d=\"M2328.78 894.356 L2316.97 912.805 L2328.78 912.805 L2328.78 894.356 M2327.55 890.282 L2333.43 890.282 L2333.43 912.805 L2338.36 912.805 L2338.36 916.693 L2333.43 916.693 L2333.43 924.842 L2328.78 924.842 L2328.78 916.693 L2313.18 916.693 L2313.18 912.18 L2327.55 890.282 Z\" fill=\"#000000\" fill-rule=\"nonzero\" fill-opacity=\"1\" /><polyline clip-path=\"url(#clip620)\" style=\"stroke:#000000; stroke-linecap:round; stroke-linejoin:round; stroke-width:4; stroke-opacity:1; fill:none\" points=\"2232.76,911.19 2256.76,911.19 \"/>\n",
       "<path clip-path=\"url(#clip620)\" d=\"M2280.7 760.274 Q2277.09 760.274 2275.26 763.839 Q2273.45 767.38 2273.45 774.51 Q2273.45 781.616 2275.26 785.181 Q2277.09 788.723 2280.7 788.723 Q2284.33 788.723 2286.14 785.181 Q2287.97 781.616 2287.97 774.51 Q2287.97 767.38 2286.14 763.839 Q2284.33 760.274 2280.7 760.274 M2280.7 756.57 Q2286.51 756.57 2289.57 761.177 Q2292.64 765.76 2292.64 774.51 Q2292.64 783.237 2289.57 787.843 Q2286.51 792.427 2280.7 792.427 Q2274.89 792.427 2271.81 787.843 Q2268.76 783.237 2268.76 774.51 Q2268.76 765.76 2271.81 761.177 Q2274.89 756.57 2280.7 756.57 Z\" fill=\"#000000\" fill-rule=\"nonzero\" fill-opacity=\"1\" /><path clip-path=\"url(#clip620)\" d=\"M2300.86 785.876 L2305.75 785.876 L2305.75 791.755 L2300.86 791.755 L2300.86 785.876 Z\" fill=\"#000000\" fill-rule=\"nonzero\" fill-opacity=\"1\" /><path clip-path=\"url(#clip620)\" d=\"M2315.98 757.195 L2334.33 757.195 L2334.33 761.13 L2320.26 761.13 L2320.26 769.603 Q2321.28 769.255 2322.3 769.093 Q2323.32 768.908 2324.33 768.908 Q2330.12 768.908 2333.5 772.079 Q2336.88 775.251 2336.88 780.667 Q2336.88 786.246 2333.41 789.348 Q2329.94 792.427 2323.62 792.427 Q2321.44 792.427 2319.17 792.056 Q2316.93 791.686 2314.52 790.945 L2314.52 786.246 Q2316.6 787.38 2318.83 787.936 Q2321.05 788.491 2323.52 788.491 Q2327.53 788.491 2329.87 786.385 Q2332.2 784.278 2332.2 780.667 Q2332.2 777.056 2329.87 774.95 Q2327.53 772.843 2323.52 772.843 Q2321.65 772.843 2319.77 773.26 Q2317.92 773.677 2315.98 774.556 L2315.98 757.195 Z\" fill=\"#000000\" fill-rule=\"nonzero\" fill-opacity=\"1\" /><polyline clip-path=\"url(#clip620)\" style=\"stroke:#000000; stroke-linecap:round; stroke-linejoin:round; stroke-width:4; stroke-opacity:1; fill:none\" points=\"2232.76,778.104 2256.76,778.104 \"/>\n",
       "<path clip-path=\"url(#clip620)\" d=\"M2280.7 627.188 Q2277.09 627.188 2275.26 630.753 Q2273.45 634.294 2273.45 641.424 Q2273.45 648.53 2275.26 652.095 Q2277.09 655.637 2280.7 655.637 Q2284.33 655.637 2286.14 652.095 Q2287.97 648.53 2287.97 641.424 Q2287.97 634.294 2286.14 630.753 Q2284.33 627.188 2280.7 627.188 M2280.7 623.484 Q2286.51 623.484 2289.57 628.091 Q2292.64 632.674 2292.64 641.424 Q2292.64 650.151 2289.57 654.757 Q2286.51 659.34 2280.7 659.34 Q2274.89 659.34 2271.81 654.757 Q2268.76 650.151 2268.76 641.424 Q2268.76 632.674 2271.81 628.091 Q2274.89 623.484 2280.7 623.484 Z\" fill=\"#000000\" fill-rule=\"nonzero\" fill-opacity=\"1\" /><path clip-path=\"url(#clip620)\" d=\"M2300.86 652.789 L2305.75 652.789 L2305.75 658.669 L2300.86 658.669 L2300.86 652.789 Z\" fill=\"#000000\" fill-rule=\"nonzero\" fill-opacity=\"1\" /><path clip-path=\"url(#clip620)\" d=\"M2326.51 639.526 Q2323.36 639.526 2321.51 641.678 Q2319.68 643.831 2319.68 647.581 Q2319.68 651.308 2321.51 653.484 Q2323.36 655.637 2326.51 655.637 Q2329.66 655.637 2331.49 653.484 Q2333.34 651.308 2333.34 647.581 Q2333.34 643.831 2331.49 641.678 Q2329.66 639.526 2326.51 639.526 M2335.79 624.873 L2335.79 629.132 Q2334.03 628.299 2332.23 627.859 Q2330.45 627.419 2328.69 627.419 Q2324.06 627.419 2321.6 630.544 Q2319.17 633.669 2318.83 639.989 Q2320.19 637.975 2322.25 636.91 Q2324.31 635.822 2326.79 635.822 Q2332 635.822 2335.01 638.993 Q2338.04 642.141 2338.04 647.581 Q2338.04 652.905 2334.89 656.123 Q2331.74 659.34 2326.51 659.34 Q2320.51 659.34 2317.34 654.757 Q2314.17 650.151 2314.17 641.424 Q2314.17 633.229 2318.06 628.368 Q2321.95 623.484 2328.5 623.484 Q2330.26 623.484 2332.04 623.831 Q2333.85 624.179 2335.79 624.873 Z\" fill=\"#000000\" fill-rule=\"nonzero\" fill-opacity=\"1\" /><polyline clip-path=\"url(#clip620)\" style=\"stroke:#000000; stroke-linecap:round; stroke-linejoin:round; stroke-width:4; stroke-opacity:1; fill:none\" points=\"2232.76,645.018 2256.76,645.018 \"/>\n",
       "<path clip-path=\"url(#clip620)\" d=\"M2280.7 494.102 Q2277.09 494.102 2275.26 497.666 Q2273.45 501.208 2273.45 508.338 Q2273.45 515.444 2275.26 519.009 Q2277.09 522.55 2280.7 522.55 Q2284.33 522.55 2286.14 519.009 Q2287.97 515.444 2287.97 508.338 Q2287.97 501.208 2286.14 497.666 Q2284.33 494.102 2280.7 494.102 M2280.7 490.398 Q2286.51 490.398 2289.57 495.004 Q2292.64 499.588 2292.64 508.338 Q2292.64 517.064 2289.57 521.671 Q2286.51 526.254 2280.7 526.254 Q2274.89 526.254 2271.81 521.671 Q2268.76 517.064 2268.76 508.338 Q2268.76 499.588 2271.81 495.004 Q2274.89 490.398 2280.7 490.398 Z\" fill=\"#000000\" fill-rule=\"nonzero\" fill-opacity=\"1\" /><path clip-path=\"url(#clip620)\" d=\"M2300.86 519.703 L2305.75 519.703 L2305.75 525.583 L2300.86 525.583 L2300.86 519.703 Z\" fill=\"#000000\" fill-rule=\"nonzero\" fill-opacity=\"1\" /><path clip-path=\"url(#clip620)\" d=\"M2314.75 491.023 L2336.97 491.023 L2336.97 493.014 L2324.43 525.583 L2319.54 525.583 L2331.35 494.958 L2314.75 494.958 L2314.75 491.023 Z\" fill=\"#000000\" fill-rule=\"nonzero\" fill-opacity=\"1\" /><polyline clip-path=\"url(#clip620)\" style=\"stroke:#000000; stroke-linecap:round; stroke-linejoin:round; stroke-width:4; stroke-opacity:1; fill:none\" points=\"2232.76,511.932 2256.76,511.932 \"/>\n",
       "<path clip-path=\"url(#clip620)\" d=\"M2280.7 361.015 Q2277.09 361.015 2275.26 364.58 Q2273.45 368.122 2273.45 375.251 Q2273.45 382.358 2275.26 385.923 Q2277.09 389.464 2280.7 389.464 Q2284.33 389.464 2286.14 385.923 Q2287.97 382.358 2287.97 375.251 Q2287.97 368.122 2286.14 364.58 Q2284.33 361.015 2280.7 361.015 M2280.7 357.312 Q2286.51 357.312 2289.57 361.918 Q2292.64 366.501 2292.64 375.251 Q2292.64 383.978 2289.57 388.585 Q2286.51 393.168 2280.7 393.168 Q2274.89 393.168 2271.81 388.585 Q2268.76 383.978 2268.76 375.251 Q2268.76 366.501 2271.81 361.918 Q2274.89 357.312 2280.7 357.312 Z\" fill=\"#000000\" fill-rule=\"nonzero\" fill-opacity=\"1\" /><path clip-path=\"url(#clip620)\" d=\"M2300.86 386.617 L2305.75 386.617 L2305.75 392.497 L2300.86 392.497 L2300.86 386.617 Z\" fill=\"#000000\" fill-rule=\"nonzero\" fill-opacity=\"1\" /><path clip-path=\"url(#clip620)\" d=\"M2325.93 376.085 Q2322.6 376.085 2320.68 377.867 Q2318.78 379.649 2318.78 382.774 Q2318.78 385.899 2320.68 387.682 Q2322.6 389.464 2325.93 389.464 Q2329.26 389.464 2331.19 387.682 Q2333.11 385.876 2333.11 382.774 Q2333.11 379.649 2331.19 377.867 Q2329.29 376.085 2325.93 376.085 M2321.26 374.094 Q2318.25 373.353 2316.56 371.293 Q2314.89 369.233 2314.89 366.27 Q2314.89 362.126 2317.83 359.719 Q2320.79 357.312 2325.93 357.312 Q2331.09 357.312 2334.03 359.719 Q2336.97 362.126 2336.97 366.27 Q2336.97 369.233 2335.28 371.293 Q2333.62 373.353 2330.63 374.094 Q2334.01 374.881 2335.89 377.173 Q2337.78 379.464 2337.78 382.774 Q2337.78 387.798 2334.7 390.483 Q2331.65 393.168 2325.93 393.168 Q2320.21 393.168 2317.14 390.483 Q2314.08 387.798 2314.08 382.774 Q2314.08 379.464 2315.98 377.173 Q2317.88 374.881 2321.26 374.094 M2319.54 366.71 Q2319.54 369.395 2321.21 370.9 Q2322.9 372.404 2325.93 372.404 Q2328.94 372.404 2330.63 370.9 Q2332.34 369.395 2332.34 366.71 Q2332.34 364.025 2330.63 362.52 Q2328.94 361.015 2325.93 361.015 Q2322.9 361.015 2321.21 362.52 Q2319.54 364.025 2319.54 366.71 Z\" fill=\"#000000\" fill-rule=\"nonzero\" fill-opacity=\"1\" /><polyline clip-path=\"url(#clip620)\" style=\"stroke:#000000; stroke-linecap:round; stroke-linejoin:round; stroke-width:4; stroke-opacity:1; fill:none\" points=\"2232.76,378.845 2256.76,378.845 \"/>\n",
       "<path clip-path=\"url(#clip620)\" d=\"M2280.7 227.929 Q2277.09 227.929 2275.26 231.494 Q2273.45 235.036 2273.45 242.165 Q2273.45 249.272 2275.26 252.836 Q2277.09 256.378 2280.7 256.378 Q2284.33 256.378 2286.14 252.836 Q2287.97 249.272 2287.97 242.165 Q2287.97 235.036 2286.14 231.494 Q2284.33 227.929 2280.7 227.929 M2280.7 224.225 Q2286.51 224.225 2289.57 228.832 Q2292.64 233.415 2292.64 242.165 Q2292.64 250.892 2289.57 255.498 Q2286.51 260.082 2280.7 260.082 Q2274.89 260.082 2271.81 255.498 Q2268.76 250.892 2268.76 242.165 Q2268.76 233.415 2271.81 228.832 Q2274.89 224.225 2280.7 224.225 Z\" fill=\"#000000\" fill-rule=\"nonzero\" fill-opacity=\"1\" /><path clip-path=\"url(#clip620)\" d=\"M2300.86 253.531 L2305.75 253.531 L2305.75 259.41 L2300.86 259.41 L2300.86 253.531 Z\" fill=\"#000000\" fill-rule=\"nonzero\" fill-opacity=\"1\" /><path clip-path=\"url(#clip620)\" d=\"M2316.07 258.693 L2316.07 254.434 Q2317.83 255.267 2319.64 255.707 Q2321.44 256.147 2323.18 256.147 Q2327.81 256.147 2330.24 253.045 Q2332.69 249.92 2333.04 243.577 Q2331.7 245.568 2329.64 246.633 Q2327.58 247.698 2325.08 247.698 Q2319.89 247.698 2316.86 244.573 Q2313.85 241.424 2313.85 235.985 Q2313.85 230.661 2317 227.443 Q2320.14 224.225 2325.38 224.225 Q2331.37 224.225 2334.52 228.832 Q2337.69 233.415 2337.69 242.165 Q2337.69 250.336 2333.8 255.221 Q2329.94 260.082 2323.39 260.082 Q2321.63 260.082 2319.82 259.734 Q2318.01 259.387 2316.07 258.693 M2325.38 244.04 Q2328.52 244.04 2330.35 241.887 Q2332.2 239.735 2332.2 235.985 Q2332.2 232.258 2330.35 230.105 Q2328.52 227.929 2325.38 227.929 Q2322.23 227.929 2320.38 230.105 Q2318.55 232.258 2318.55 235.985 Q2318.55 239.735 2320.38 241.887 Q2322.23 244.04 2325.38 244.04 Z\" fill=\"#000000\" fill-rule=\"nonzero\" fill-opacity=\"1\" /><polyline clip-path=\"url(#clip620)\" style=\"stroke:#000000; stroke-linecap:round; stroke-linejoin:round; stroke-width:4; stroke-opacity:1; fill:none\" points=\"2232.76,245.759 2256.76,245.759 \"/>\n",
       "<polyline clip-path=\"url(#clip620)\" style=\"stroke:#000000; stroke-linecap:round; stroke-linejoin:round; stroke-width:4; stroke-opacity:1; fill:none\" points=\"2232.76,1423.18 2232.76,123.472 \"/>\n",
       "</svg>\n"
      ],
      "text/html": [
       "<?xml version=\"1.0\" encoding=\"utf-8\"?>\n",
       "<svg xmlns=\"http://www.w3.org/2000/svg\" xmlns:xlink=\"http://www.w3.org/1999/xlink\" width=\"600\" height=\"400\" viewBox=\"0 0 2400 1600\">\n",
       "<defs>\n",
       "  <clipPath id=\"clip670\">\n",
       "    <rect x=\"0\" y=\"0\" width=\"2400\" height=\"1600\"/>\n",
       "  </clipPath>\n",
       "</defs>\n",
       "<path clip-path=\"url(#clip670)\" d=\"M0 1600 L2400 1600 L2400 0 L0 0  Z\" fill=\"#ffffff\" fill-rule=\"evenodd\" fill-opacity=\"1\"/>\n",
       "<defs>\n",
       "  <clipPath id=\"clip671\">\n",
       "    <rect x=\"480\" y=\"0\" width=\"1681\" height=\"1600\"/>\n",
       "  </clipPath>\n",
       "</defs>\n",
       "<path clip-path=\"url(#clip670)\" d=\"M202.227 1423.18 L2112.76 1423.18 L2112.76 123.472 L202.227 123.472  Z\" fill=\"#ffffff\" fill-rule=\"evenodd\" fill-opacity=\"1\"/>\n",
       "<defs>\n",
       "  <clipPath id=\"clip672\">\n",
       "    <rect x=\"202\" y=\"123\" width=\"1912\" height=\"1301\"/>\n",
       "  </clipPath>\n",
       "</defs>\n",
       "<polyline clip-path=\"url(#clip672)\" style=\"stroke:#000000; stroke-linecap:round; stroke-linejoin:round; stroke-width:2; stroke-opacity:0.1; fill:none\" points=\"488.807,1423.18 488.807,123.472 \"/>\n",
       "<polyline clip-path=\"url(#clip672)\" style=\"stroke:#000000; stroke-linecap:round; stroke-linejoin:round; stroke-width:2; stroke-opacity:0.1; fill:none\" points=\"870.912,1423.18 870.912,123.472 \"/>\n",
       "<polyline clip-path=\"url(#clip672)\" style=\"stroke:#000000; stroke-linecap:round; stroke-linejoin:round; stroke-width:2; stroke-opacity:0.1; fill:none\" points=\"1253.02,1423.18 1253.02,123.472 \"/>\n",
       "<polyline clip-path=\"url(#clip672)\" style=\"stroke:#000000; stroke-linecap:round; stroke-linejoin:round; stroke-width:2; stroke-opacity:0.1; fill:none\" points=\"1635.12,1423.18 1635.12,123.472 \"/>\n",
       "<polyline clip-path=\"url(#clip672)\" style=\"stroke:#000000; stroke-linecap:round; stroke-linejoin:round; stroke-width:2; stroke-opacity:0.1; fill:none\" points=\"2017.23,1423.18 2017.23,123.472 \"/>\n",
       "<polyline clip-path=\"url(#clip672)\" style=\"stroke:#000000; stroke-linecap:round; stroke-linejoin:round; stroke-width:2; stroke-opacity:0.1; fill:none\" points=\"202.227,1228.22 2112.76,1228.22 \"/>\n",
       "<polyline clip-path=\"url(#clip672)\" style=\"stroke:#000000; stroke-linecap:round; stroke-linejoin:round; stroke-width:2; stroke-opacity:0.1; fill:none\" points=\"202.227,968.282 2112.76,968.282 \"/>\n",
       "<polyline clip-path=\"url(#clip672)\" style=\"stroke:#000000; stroke-linecap:round; stroke-linejoin:round; stroke-width:2; stroke-opacity:0.1; fill:none\" points=\"202.227,708.341 2112.76,708.341 \"/>\n",
       "<polyline clip-path=\"url(#clip672)\" style=\"stroke:#000000; stroke-linecap:round; stroke-linejoin:round; stroke-width:2; stroke-opacity:0.1; fill:none\" points=\"202.227,448.399 2112.76,448.399 \"/>\n",
       "<polyline clip-path=\"url(#clip672)\" style=\"stroke:#000000; stroke-linecap:round; stroke-linejoin:round; stroke-width:2; stroke-opacity:0.1; fill:none\" points=\"202.227,188.458 2112.76,188.458 \"/>\n",
       "<polyline clip-path=\"url(#clip670)\" style=\"stroke:#000000; stroke-linecap:round; stroke-linejoin:round; stroke-width:4; stroke-opacity:1; fill:none\" points=\"202.227,1423.18 2112.76,1423.18 \"/>\n",
       "<polyline clip-path=\"url(#clip670)\" style=\"stroke:#000000; stroke-linecap:round; stroke-linejoin:round; stroke-width:4; stroke-opacity:1; fill:none\" points=\"488.807,1423.18 488.807,1404.28 \"/>\n",
       "<polyline clip-path=\"url(#clip670)\" style=\"stroke:#000000; stroke-linecap:round; stroke-linejoin:round; stroke-width:4; stroke-opacity:1; fill:none\" points=\"870.912,1423.18 870.912,1404.28 \"/>\n",
       "<polyline clip-path=\"url(#clip670)\" style=\"stroke:#000000; stroke-linecap:round; stroke-linejoin:round; stroke-width:4; stroke-opacity:1; fill:none\" points=\"1253.02,1423.18 1253.02,1404.28 \"/>\n",
       "<polyline clip-path=\"url(#clip670)\" style=\"stroke:#000000; stroke-linecap:round; stroke-linejoin:round; stroke-width:4; stroke-opacity:1; fill:none\" points=\"1635.12,1423.18 1635.12,1404.28 \"/>\n",
       "<polyline clip-path=\"url(#clip670)\" style=\"stroke:#000000; stroke-linecap:round; stroke-linejoin:round; stroke-width:4; stroke-opacity:1; fill:none\" points=\"2017.23,1423.18 2017.23,1404.28 \"/>\n",
       "<path clip-path=\"url(#clip670)\" d=\"M483.46 1481.64 L499.779 1481.64 L499.779 1485.58 L477.835 1485.58 L477.835 1481.64 Q480.497 1478.89 485.08 1474.26 Q489.686 1469.61 490.867 1468.27 Q493.112 1465.74 493.992 1464.01 Q494.895 1462.25 494.895 1460.56 Q494.895 1457.8 492.95 1456.07 Q491.029 1454.33 487.927 1454.33 Q485.728 1454.33 483.274 1455.09 Q480.844 1455.86 478.066 1457.41 L478.066 1452.69 Q480.89 1451.55 483.344 1450.97 Q485.797 1450.39 487.835 1450.39 Q493.205 1450.39 496.399 1453.08 Q499.594 1455.77 499.594 1460.26 Q499.594 1462.39 498.784 1464.31 Q497.997 1466.2 495.89 1468.8 Q495.311 1469.47 492.209 1472.69 Q489.108 1475.88 483.46 1481.64 Z\" fill=\"#000000\" fill-rule=\"nonzero\" fill-opacity=\"1\" /><path clip-path=\"url(#clip670)\" d=\"M873.922 1455.09 L862.116 1473.54 L873.922 1473.54 L873.922 1455.09 M872.695 1451.02 L878.574 1451.02 L878.574 1473.54 L883.505 1473.54 L883.505 1477.43 L878.574 1477.43 L878.574 1485.58 L873.922 1485.58 L873.922 1477.43 L858.32 1477.43 L858.32 1472.92 L872.695 1451.02 Z\" fill=\"#000000\" fill-rule=\"nonzero\" fill-opacity=\"1\" /><path clip-path=\"url(#clip670)\" d=\"M1253.42 1466.44 Q1250.28 1466.44 1248.42 1468.59 Q1246.59 1470.74 1246.59 1474.49 Q1246.59 1478.22 1248.42 1480.39 Q1250.28 1482.55 1253.42 1482.55 Q1256.57 1482.55 1258.4 1480.39 Q1260.25 1478.22 1260.25 1474.49 Q1260.25 1470.74 1258.4 1468.59 Q1256.57 1466.44 1253.42 1466.44 M1262.71 1451.78 L1262.71 1456.04 Q1260.95 1455.21 1259.14 1454.77 Q1257.36 1454.33 1255.6 1454.33 Q1250.97 1454.33 1248.52 1457.45 Q1246.09 1460.58 1245.74 1466.9 Q1247.1 1464.89 1249.16 1463.82 Q1251.22 1462.73 1253.7 1462.73 Q1258.91 1462.73 1261.92 1465.9 Q1264.95 1469.05 1264.95 1474.49 Q1264.95 1479.82 1261.8 1483.03 Q1258.65 1486.25 1253.42 1486.25 Q1247.43 1486.25 1244.26 1481.67 Q1241.09 1477.06 1241.09 1468.33 Q1241.09 1460.14 1244.97 1455.28 Q1248.86 1450.39 1255.41 1450.39 Q1257.17 1450.39 1258.96 1450.74 Q1260.76 1451.09 1262.71 1451.78 Z\" fill=\"#000000\" fill-rule=\"nonzero\" fill-opacity=\"1\" /><path clip-path=\"url(#clip670)\" d=\"M1635.12 1469.17 Q1631.79 1469.17 1629.87 1470.95 Q1627.97 1472.73 1627.97 1475.86 Q1627.97 1478.98 1629.87 1480.77 Q1631.79 1482.55 1635.12 1482.55 Q1638.46 1482.55 1640.38 1480.77 Q1642.3 1478.96 1642.3 1475.86 Q1642.3 1472.73 1640.38 1470.95 Q1638.48 1469.17 1635.12 1469.17 M1630.45 1467.18 Q1627.44 1466.44 1625.75 1464.38 Q1624.08 1462.32 1624.08 1459.35 Q1624.08 1455.21 1627.02 1452.8 Q1629.98 1450.39 1635.12 1450.39 Q1640.29 1450.39 1643.23 1452.8 Q1646.17 1455.21 1646.17 1459.35 Q1646.17 1462.32 1644.48 1464.38 Q1642.81 1466.44 1639.82 1467.18 Q1643.2 1467.96 1645.08 1470.26 Q1646.98 1472.55 1646.98 1475.86 Q1646.98 1480.88 1643.9 1483.57 Q1640.84 1486.25 1635.12 1486.25 Q1629.41 1486.25 1626.33 1483.57 Q1623.27 1480.88 1623.27 1475.86 Q1623.27 1472.55 1625.17 1470.26 Q1627.07 1467.96 1630.45 1467.18 M1628.73 1459.79 Q1628.73 1462.48 1630.4 1463.98 Q1632.09 1465.49 1635.12 1465.49 Q1638.13 1465.49 1639.82 1463.98 Q1641.54 1462.48 1641.54 1459.79 Q1641.54 1457.11 1639.82 1455.6 Q1638.13 1454.1 1635.12 1454.1 Q1632.09 1454.1 1630.4 1455.6 Q1628.73 1457.11 1628.73 1459.79 Z\" fill=\"#000000\" fill-rule=\"nonzero\" fill-opacity=\"1\" /><path clip-path=\"url(#clip670)\" d=\"M1991.92 1481.64 L1999.56 1481.64 L1999.56 1455.28 L1991.25 1456.95 L1991.25 1452.69 L1999.51 1451.02 L2004.19 1451.02 L2004.19 1481.64 L2011.82 1481.64 L2011.82 1485.58 L1991.92 1485.58 L1991.92 1481.64 Z\" fill=\"#000000\" fill-rule=\"nonzero\" fill-opacity=\"1\" /><path clip-path=\"url(#clip670)\" d=\"M2031.27 1454.1 Q2027.66 1454.1 2025.83 1457.66 Q2024.02 1461.2 2024.02 1468.33 Q2024.02 1475.44 2025.83 1479.01 Q2027.66 1482.55 2031.27 1482.55 Q2034.9 1482.55 2036.71 1479.01 Q2038.54 1475.44 2038.54 1468.33 Q2038.54 1461.2 2036.71 1457.66 Q2034.9 1454.1 2031.27 1454.1 M2031.27 1450.39 Q2037.08 1450.39 2040.13 1455 Q2043.21 1459.58 2043.21 1468.33 Q2043.21 1477.06 2040.13 1481.67 Q2037.08 1486.25 2031.27 1486.25 Q2025.46 1486.25 2022.38 1481.67 Q2019.32 1477.06 2019.32 1468.33 Q2019.32 1459.58 2022.38 1455 Q2025.46 1450.39 2031.27 1450.39 Z\" fill=\"#000000\" fill-rule=\"nonzero\" fill-opacity=\"1\" /><path clip-path=\"url(#clip670)\" d=\"M1064.46 1520.52 L1071.36 1520.52 L1083.17 1538.19 L1095.04 1520.52 L1101.95 1520.52 L1086.67 1543.34 L1102.97 1568.04 L1096.06 1568.04 L1082.69 1547.83 L1069.23 1568.04 L1062.29 1568.04 L1079.26 1542.68 L1064.46 1520.52 Z\" fill=\"#000000\" fill-rule=\"nonzero\" fill-opacity=\"1\" /><path clip-path=\"url(#clip670)\" d=\"M1104.94 1547.58 L1122.1 1547.58 L1122.1 1552.8 L1104.94 1552.8 L1104.94 1547.58 Z\" fill=\"#000000\" fill-rule=\"nonzero\" fill-opacity=\"1\" /><path clip-path=\"url(#clip670)\" d=\"M1147.62 1550.12 Q1140.53 1550.12 1137.79 1551.75 Q1135.05 1553.37 1135.05 1557.29 Q1135.05 1560.4 1137.09 1562.25 Q1139.16 1564.07 1142.69 1564.07 Q1147.56 1564.07 1150.49 1560.63 Q1153.45 1557.16 1153.45 1551.43 L1153.45 1550.12 L1147.62 1550.12 M1159.31 1547.71 L1159.31 1568.04 L1153.45 1568.04 L1153.45 1562.63 Q1151.44 1565.88 1148.45 1567.44 Q1145.46 1568.97 1141.13 1568.97 Q1135.66 1568.97 1132.41 1565.91 Q1129.2 1562.82 1129.2 1557.67 Q1129.2 1551.65 1133.21 1548.6 Q1137.25 1545.54 1145.24 1545.54 L1153.45 1545.54 L1153.45 1544.97 Q1153.45 1540.93 1150.78 1538.73 Q1148.13 1536.5 1143.33 1536.5 Q1140.27 1536.5 1137.38 1537.23 Q1134.48 1537.97 1131.81 1539.43 L1131.81 1534.02 Q1135.02 1532.78 1138.04 1532.17 Q1141.07 1531.54 1143.93 1531.54 Q1151.67 1531.54 1155.49 1535.55 Q1159.31 1539.56 1159.31 1547.71 Z\" fill=\"#000000\" fill-rule=\"nonzero\" fill-opacity=\"1\" /><path clip-path=\"url(#clip670)\" d=\"M1201 1532.4 L1188.11 1549.74 L1201.67 1568.04 L1194.76 1568.04 L1184.39 1554.04 L1174.01 1568.04 L1167.1 1568.04 L1180.95 1549.39 L1168.28 1532.4 L1175.19 1532.4 L1184.64 1545.1 L1194.09 1532.4 L1201 1532.4 Z\" fill=\"#000000\" fill-rule=\"nonzero\" fill-opacity=\"1\" /><path clip-path=\"url(#clip670)\" d=\"M1209.95 1532.4 L1215.8 1532.4 L1215.8 1568.04 L1209.95 1568.04 L1209.95 1532.4 M1209.95 1518.52 L1215.8 1518.52 L1215.8 1525.93 L1209.95 1525.93 L1209.95 1518.52 Z\" fill=\"#000000\" fill-rule=\"nonzero\" fill-opacity=\"1\" /><path clip-path=\"url(#clip670)\" d=\"M1250.78 1533.45 L1250.78 1538.98 Q1248.3 1537.71 1245.62 1537.07 Q1242.95 1536.44 1240.09 1536.44 Q1235.73 1536.44 1233.53 1537.77 Q1231.37 1539.11 1231.37 1541.79 Q1231.37 1543.82 1232.93 1545 Q1234.48 1546.15 1239.2 1547.2 L1241.2 1547.64 Q1247.44 1548.98 1250.05 1551.43 Q1252.69 1553.85 1252.69 1558.21 Q1252.69 1563.17 1248.74 1566.07 Q1244.83 1568.97 1237.95 1568.97 Q1235.09 1568.97 1231.97 1568.39 Q1228.88 1567.85 1225.45 1566.74 L1225.45 1560.69 Q1228.69 1562.38 1231.84 1563.24 Q1234.99 1564.07 1238.08 1564.07 Q1242.22 1564.07 1244.45 1562.66 Q1246.68 1561.23 1246.68 1558.65 Q1246.68 1556.27 1245.05 1554.99 Q1243.46 1553.72 1238.02 1552.54 L1235.98 1552.07 Q1230.54 1550.92 1228.12 1548.56 Q1225.7 1546.18 1225.7 1542.04 Q1225.7 1537.01 1229.27 1534.27 Q1232.83 1531.54 1239.39 1531.54 Q1242.63 1531.54 1245.5 1532.01 Q1248.36 1532.49 1250.78 1533.45 Z\" fill=\"#000000\" fill-rule=\"nonzero\" fill-opacity=\"1\" /><polyline clip-path=\"url(#clip670)\" style=\"stroke:#000000; stroke-linecap:round; stroke-linejoin:round; stroke-width:4; stroke-opacity:1; fill:none\" points=\"202.227,1423.18 202.227,123.472 \"/>\n",
       "<polyline clip-path=\"url(#clip670)\" style=\"stroke:#000000; stroke-linecap:round; stroke-linejoin:round; stroke-width:4; stroke-opacity:1; fill:none\" points=\"202.227,1228.22 219.016,1228.22 \"/>\n",
       "<polyline clip-path=\"url(#clip670)\" style=\"stroke:#000000; stroke-linecap:round; stroke-linejoin:round; stroke-width:4; stroke-opacity:1; fill:none\" points=\"202.227,968.282 219.016,968.282 \"/>\n",
       "<polyline clip-path=\"url(#clip670)\" style=\"stroke:#000000; stroke-linecap:round; stroke-linejoin:round; stroke-width:4; stroke-opacity:1; fill:none\" points=\"202.227,708.341 219.016,708.341 \"/>\n",
       "<polyline clip-path=\"url(#clip670)\" style=\"stroke:#000000; stroke-linecap:round; stroke-linejoin:round; stroke-width:4; stroke-opacity:1; fill:none\" points=\"202.227,448.399 219.016,448.399 \"/>\n",
       "<polyline clip-path=\"url(#clip670)\" style=\"stroke:#000000; stroke-linecap:round; stroke-linejoin:round; stroke-width:4; stroke-opacity:1; fill:none\" points=\"202.227,188.458 219.016,188.458 \"/>\n",
       "<path clip-path=\"url(#clip670)\" d=\"M149.908 1241.57 L166.227 1241.57 L166.227 1245.5 L144.283 1245.5 L144.283 1241.57 Q146.945 1238.81 151.528 1234.18 Q156.135 1229.53 157.315 1228.19 Q159.561 1225.67 160.44 1223.93 Q161.343 1222.17 161.343 1220.48 Q161.343 1217.73 159.399 1215.99 Q157.478 1214.25 154.376 1214.25 Q152.177 1214.25 149.723 1215.02 Q147.292 1215.78 144.515 1217.33 L144.515 1212.61 Q147.339 1211.48 149.792 1210.9 Q152.246 1210.32 154.283 1210.32 Q159.653 1210.32 162.848 1213 Q166.042 1215.69 166.042 1220.18 Q166.042 1222.31 165.232 1224.23 Q164.445 1226.13 162.339 1228.72 Q161.76 1229.39 158.658 1232.61 Q155.556 1235.8 149.908 1241.57 Z\" fill=\"#000000\" fill-rule=\"nonzero\" fill-opacity=\"1\" /><path clip-path=\"url(#clip670)\" d=\"M156.644 955.076 L144.839 973.525 L156.644 973.525 L156.644 955.076 M155.417 951.002 L161.297 951.002 L161.297 973.525 L166.227 973.525 L166.227 977.414 L161.297 977.414 L161.297 985.562 L156.644 985.562 L156.644 977.414 L141.042 977.414 L141.042 972.9 L155.417 951.002 Z\" fill=\"#000000\" fill-rule=\"nonzero\" fill-opacity=\"1\" /><path clip-path=\"url(#clip670)\" d=\"M154.7 706.477 Q151.552 706.477 149.7 708.63 Q147.871 710.783 147.871 714.533 Q147.871 718.26 149.7 720.435 Q151.552 722.588 154.7 722.588 Q157.848 722.588 159.677 720.435 Q161.528 718.26 161.528 714.533 Q161.528 710.783 159.677 708.63 Q157.848 706.477 154.7 706.477 M163.982 691.824 L163.982 696.084 Q162.223 695.25 160.417 694.811 Q158.635 694.371 156.876 694.371 Q152.246 694.371 149.792 697.496 Q147.362 700.621 147.015 706.94 Q148.38 704.926 150.441 703.861 Q152.501 702.773 154.978 702.773 Q160.186 702.773 163.195 705.945 Q166.227 709.093 166.227 714.533 Q166.227 719.857 163.079 723.074 Q159.931 726.292 154.7 726.292 Q148.704 726.292 145.533 721.709 Q142.362 717.102 142.362 708.375 Q142.362 700.181 146.251 695.32 Q150.14 690.436 156.69 690.436 Q158.45 690.436 160.232 690.783 Q162.038 691.13 163.982 691.824 Z\" fill=\"#000000\" fill-rule=\"nonzero\" fill-opacity=\"1\" /><path clip-path=\"url(#clip670)\" d=\"M154.376 449.267 Q151.042 449.267 149.121 451.05 Q147.223 452.832 147.223 455.957 Q147.223 459.082 149.121 460.864 Q151.042 462.647 154.376 462.647 Q157.709 462.647 159.63 460.864 Q161.552 459.059 161.552 455.957 Q161.552 452.832 159.63 451.05 Q157.732 449.267 154.376 449.267 M149.7 447.276 Q146.691 446.536 145.001 444.475 Q143.334 442.415 143.334 439.452 Q143.334 435.309 146.274 432.901 Q149.237 430.494 154.376 430.494 Q159.538 430.494 162.477 432.901 Q165.417 435.309 165.417 439.452 Q165.417 442.415 163.727 444.475 Q162.061 446.536 159.075 447.276 Q162.454 448.063 164.329 450.355 Q166.227 452.647 166.227 455.957 Q166.227 460.98 163.149 463.665 Q160.093 466.35 154.376 466.35 Q148.658 466.35 145.579 463.665 Q142.524 460.98 142.524 455.957 Q142.524 452.647 144.422 450.355 Q146.32 448.063 149.7 447.276 M147.987 439.892 Q147.987 442.577 149.653 444.082 Q151.343 445.587 154.376 445.587 Q157.385 445.587 159.075 444.082 Q160.788 442.577 160.788 439.892 Q160.788 437.207 159.075 435.702 Q157.385 434.198 154.376 434.198 Q151.343 434.198 149.653 435.702 Q147.987 437.207 147.987 439.892 Z\" fill=\"#000000\" fill-rule=\"nonzero\" fill-opacity=\"1\" /><path clip-path=\"url(#clip670)\" d=\"M114.931 201.802 L122.57 201.802 L122.57 175.437 L114.26 177.103 L114.26 172.844 L122.524 171.178 L127.2 171.178 L127.2 201.802 L134.839 201.802 L134.839 205.738 L114.931 205.738 L114.931 201.802 Z\" fill=\"#000000\" fill-rule=\"nonzero\" fill-opacity=\"1\" /><path clip-path=\"url(#clip670)\" d=\"M154.283 174.256 Q150.672 174.256 148.843 177.821 Q147.038 181.363 147.038 188.492 Q147.038 195.599 148.843 199.163 Q150.672 202.705 154.283 202.705 Q157.917 202.705 159.723 199.163 Q161.552 195.599 161.552 188.492 Q161.552 181.363 159.723 177.821 Q157.917 174.256 154.283 174.256 M154.283 170.553 Q160.093 170.553 163.149 175.159 Q166.227 179.742 166.227 188.492 Q166.227 197.219 163.149 201.825 Q160.093 206.409 154.283 206.409 Q148.473 206.409 145.394 201.825 Q142.339 197.219 142.339 188.492 Q142.339 179.742 145.394 175.159 Q148.473 170.553 154.283 170.553 Z\" fill=\"#000000\" fill-rule=\"nonzero\" fill-opacity=\"1\" /><path clip-path=\"url(#clip670)\" d=\"M16.4842 864.897 L16.4842 857.99 L36.0269 844.813 L16.4842 831.731 L16.4842 824.825 L41.3741 841.63 L64.0042 841.63 L64.0042 848.091 L41.3741 848.091 L16.4842 864.897 Z\" fill=\"#000000\" fill-rule=\"nonzero\" fill-opacity=\"1\" /><path clip-path=\"url(#clip670)\" d=\"M43.5384 829.503 L43.5384 812.348 L48.7583 812.348 L48.7583 829.503 L43.5384 829.503 Z\" fill=\"#000000\" fill-rule=\"nonzero\" fill-opacity=\"1\" /><path clip-path=\"url(#clip670)\" d=\"M46.0847 786.821 Q46.0847 793.919 47.7079 796.656 Q49.3312 799.394 53.2461 799.394 Q56.3653 799.394 58.2114 797.357 Q60.0256 795.288 60.0256 791.755 Q60.0256 786.885 56.5881 783.957 Q53.1188 780.997 47.3897 780.997 L46.0847 780.997 L46.0847 786.821 M43.6657 775.14 L64.0042 775.14 L64.0042 780.997 L58.5933 780.997 Q61.8398 783.002 63.3994 785.994 Q64.9272 788.986 64.9272 793.314 Q64.9272 798.789 61.8716 802.035 Q58.7843 805.25 53.6281 805.25 Q47.6125 805.25 44.5569 801.24 Q41.5014 797.197 41.5014 789.208 L41.5014 780.997 L40.9285 780.997 Q36.8862 780.997 34.6901 783.67 Q32.4621 786.312 32.4621 791.118 Q32.4621 794.174 33.1941 797.07 Q33.9262 799.966 35.3903 802.64 L29.9795 802.64 Q28.7381 799.425 28.1334 796.402 Q27.4968 793.378 27.4968 790.513 Q27.4968 782.779 31.5072 778.96 Q35.5176 775.14 43.6657 775.14 Z\" fill=\"#000000\" fill-rule=\"nonzero\" fill-opacity=\"1\" /><path clip-path=\"url(#clip670)\" d=\"M28.3562 733.445 L45.7028 746.335 L64.0042 732.776 L64.0042 739.683 L49.9996 750.059 L64.0042 760.435 L64.0042 767.342 L45.3526 753.497 L28.3562 766.165 L28.3562 759.258 L41.0558 749.805 L28.3562 740.352 L28.3562 733.445 Z\" fill=\"#000000\" fill-rule=\"nonzero\" fill-opacity=\"1\" /><path clip-path=\"url(#clip670)\" d=\"M28.3562 724.501 L28.3562 718.645 L64.0042 718.645 L64.0042 724.501 L28.3562 724.501 M14.479 724.501 L14.479 718.645 L21.895 718.645 L21.895 724.501 L14.479 724.501 Z\" fill=\"#000000\" fill-rule=\"nonzero\" fill-opacity=\"1\" /><path clip-path=\"url(#clip670)\" d=\"M29.4065 683.665 L34.9447 683.665 Q33.6716 686.148 33.035 688.821 Q32.3984 691.495 32.3984 694.359 Q32.3984 698.72 33.7352 700.916 Q35.072 703.08 37.7456 703.08 Q39.7826 703.08 40.9603 701.521 Q42.1061 699.961 43.1565 695.251 L43.6021 693.245 Q44.9389 687.007 47.3897 684.397 Q49.8086 681.755 54.1691 681.755 Q59.1344 681.755 62.0308 685.702 Q64.9272 689.617 64.9272 696.492 Q64.9272 699.356 64.3543 702.476 Q63.8132 705.563 62.6992 709.001 L56.6518 709.001 Q58.3387 705.754 59.198 702.603 Q60.0256 699.452 60.0256 696.365 Q60.0256 692.227 58.6251 689.999 Q57.1929 687.771 54.6147 687.771 Q52.2276 687.771 50.9545 689.394 Q49.6813 690.986 48.5037 696.428 L48.0262 698.465 Q46.8804 703.908 44.5251 706.327 Q42.138 708.746 38.0002 708.746 Q32.9713 708.746 30.2341 705.181 Q27.4968 701.616 27.4968 695.06 Q27.4968 691.813 27.9743 688.949 Q28.4517 686.084 29.4065 683.665 Z\" fill=\"#000000\" fill-rule=\"nonzero\" fill-opacity=\"1\" /><path clip-path=\"url(#clip670)\" d=\"M973.277 12.096 L981.46 12.096 L981.46 36.8875 L1011.19 36.8875 L1011.19 12.096 L1019.38 12.096 L1019.38 72.576 L1011.19 72.576 L1011.19 43.7741 L981.46 43.7741 L981.46 72.576 L973.277 72.576 L973.277 12.096 Z\" fill=\"#000000\" fill-rule=\"nonzero\" fill-opacity=\"1\" /><path clip-path=\"url(#clip670)\" d=\"M1074.14 48.0275 L1074.14 51.6733 L1039.87 51.6733 Q1040.36 59.3701 1044.49 63.421 Q1048.66 67.4314 1056.08 67.4314 Q1060.37 67.4314 1064.38 66.3781 Q1068.43 65.3249 1072.4 63.2184 L1072.4 70.267 Q1068.39 71.9684 1064.18 72.8596 Q1059.97 73.7508 1055.63 73.7508 Q1044.78 73.7508 1038.42 67.4314 Q1032.1 61.1119 1032.1 50.3365 Q1032.1 39.1965 1038.09 32.6746 Q1044.13 26.1121 1054.34 26.1121 Q1063.49 26.1121 1068.8 32.0264 Q1074.14 37.9003 1074.14 48.0275 M1066.69 45.84 Q1066.61 39.7232 1063.25 36.0774 Q1059.93 32.4315 1054.42 32.4315 Q1048.18 32.4315 1044.41 35.9558 Q1040.68 39.4801 1040.12 45.8805 L1066.69 45.84 Z\" fill=\"#000000\" fill-rule=\"nonzero\" fill-opacity=\"1\" /><path clip-path=\"url(#clip670)\" d=\"M1107 49.7694 Q1097.96 49.7694 1094.48 51.8354 Q1091 53.9013 1091 58.8839 Q1091 62.8538 1093.59 65.2034 Q1096.22 67.5124 1100.72 67.5124 Q1106.92 67.5124 1110.64 63.1374 Q1114.41 58.7219 1114.41 51.4303 L1114.41 49.7694 L1107 49.7694 M1121.86 46.6907 L1121.86 72.576 L1114.41 72.576 L1114.41 65.6895 Q1111.86 69.8214 1108.05 71.8063 Q1104.24 73.7508 1098.73 73.7508 Q1091.77 73.7508 1087.63 69.8619 Q1083.54 65.9325 1083.54 59.3701 Q1083.54 51.7138 1088.65 47.825 Q1093.79 43.9361 1103.96 43.9361 L1114.41 43.9361 L1114.41 43.2069 Q1114.41 38.0623 1111.01 35.2672 Q1107.65 32.4315 1101.53 32.4315 Q1097.64 32.4315 1093.95 33.3632 Q1090.27 34.295 1086.86 36.1584 L1086.86 29.2718 Q1090.96 27.692 1094.8 26.9223 Q1098.65 26.1121 1102.3 26.1121 Q1112.14 26.1121 1117 31.2163 Q1121.86 36.3204 1121.86 46.6907 Z\" fill=\"#000000\" fill-rule=\"nonzero\" fill-opacity=\"1\" /><path clip-path=\"url(#clip670)\" d=\"M1144.59 14.324 L1144.59 27.2059 L1159.94 27.2059 L1159.94 32.9987 L1144.59 32.9987 L1144.59 57.6282 Q1144.59 63.1779 1146.09 64.7578 Q1147.63 66.3376 1152.29 66.3376 L1159.94 66.3376 L1159.94 72.576 L1152.29 72.576 Q1143.66 72.576 1140.38 69.3758 Q1137.1 66.1351 1137.1 57.6282 L1137.1 32.9987 L1131.63 32.9987 L1131.63 27.2059 L1137.1 27.2059 L1137.1 14.324 L1144.59 14.324 Z\" fill=\"#000000\" fill-rule=\"nonzero\" fill-opacity=\"1\" /><path clip-path=\"url(#clip670)\" d=\"M1205.07 35.9153 Q1207.86 30.8922 1211.75 28.5022 Q1215.64 26.1121 1220.91 26.1121 Q1228 26.1121 1231.85 31.0947 Q1235.69 36.0368 1235.69 45.1919 L1235.69 72.576 L1228.2 72.576 L1228.2 45.4349 Q1228.2 38.913 1225.89 35.7533 Q1223.58 32.5936 1218.84 32.5936 Q1213.05 32.5936 1209.69 36.4419 Q1206.33 40.2903 1206.33 46.9338 L1206.33 72.576 L1198.83 72.576 L1198.83 45.4349 Q1198.83 38.8725 1196.52 35.7533 Q1194.21 32.5936 1189.39 32.5936 Q1183.68 32.5936 1180.32 36.4824 Q1176.96 40.3308 1176.96 46.9338 L1176.96 72.576 L1169.46 72.576 L1169.46 27.2059 L1176.96 27.2059 L1176.96 34.2544 Q1179.51 30.082 1183.07 28.0971 Q1186.64 26.1121 1191.54 26.1121 Q1196.48 26.1121 1199.92 28.6237 Q1203.41 31.1352 1205.07 35.9153 Z\" fill=\"#000000\" fill-rule=\"nonzero\" fill-opacity=\"1\" /><path clip-path=\"url(#clip670)\" d=\"M1271.18 49.7694 Q1262.15 49.7694 1258.66 51.8354 Q1255.18 53.9013 1255.18 58.8839 Q1255.18 62.8538 1257.77 65.2034 Q1260.4 67.5124 1264.9 67.5124 Q1271.1 67.5124 1274.83 63.1374 Q1278.59 58.7219 1278.59 51.4303 L1278.59 49.7694 L1271.18 49.7694 M1286.05 46.6907 L1286.05 72.576 L1278.59 72.576 L1278.59 65.6895 Q1276.04 69.8214 1272.23 71.8063 Q1268.43 73.7508 1262.92 73.7508 Q1255.95 73.7508 1251.82 69.8619 Q1247.73 65.9325 1247.73 59.3701 Q1247.73 51.7138 1252.83 47.825 Q1257.97 43.9361 1268.14 43.9361 L1278.59 43.9361 L1278.59 43.2069 Q1278.59 38.0623 1275.19 35.2672 Q1271.83 32.4315 1265.71 32.4315 Q1261.82 32.4315 1258.14 33.3632 Q1254.45 34.295 1251.05 36.1584 L1251.05 29.2718 Q1255.14 27.692 1258.99 26.9223 Q1262.84 26.1121 1266.48 26.1121 Q1276.32 26.1121 1281.19 31.2163 Q1286.05 36.3204 1286.05 46.6907 Z\" fill=\"#000000\" fill-rule=\"nonzero\" fill-opacity=\"1\" /><path clip-path=\"url(#clip670)\" d=\"M1308.61 65.7705 L1308.61 89.8329 L1301.12 89.8329 L1301.12 27.2059 L1308.61 27.2059 L1308.61 34.0924 Q1310.96 30.0415 1314.52 28.0971 Q1318.13 26.1121 1323.11 26.1121 Q1331.38 26.1121 1336.52 32.6746 Q1341.71 39.2371 1341.71 49.9314 Q1341.71 60.6258 1336.52 67.1883 Q1331.38 73.7508 1323.11 73.7508 Q1318.13 73.7508 1314.52 71.8063 Q1310.96 69.8214 1308.61 65.7705 M1333.97 49.9314 Q1333.97 41.7081 1330.57 37.0496 Q1327.2 32.3505 1321.29 32.3505 Q1315.38 32.3505 1311.97 37.0496 Q1308.61 41.7081 1308.61 49.9314 Q1308.61 58.1548 1311.97 62.8538 Q1315.38 67.5124 1321.29 67.5124 Q1327.2 67.5124 1330.57 62.8538 Q1333.97 58.1548 1333.97 49.9314 Z\" fill=\"#000000\" fill-rule=\"nonzero\" fill-opacity=\"1\" /><g clip-path=\"url(#clip672)\">\n",
       "<image width=\"1911\" height=\"1300\" xlink:href=\"data:image/png;base64,\n",
       "iVBORw0KGgoAAAANSUhEUgAAB3cAAAUUCAYAAADMWphaAAAgAElEQVR4nOzbvQsgchzHcaeLWzyE\n",
       "RUzyEDeQyaAkAwsTGciEkqSYzoAy2CyKzZ0YFJKSXJE/weKiroweLkndQ8lx/gTjp3f3ev0Fn/HX\n",
       "7933wC1vvHXhErhI/fj0u+sJMPHT+TPrCTDx/CPPrCfAxM+vrxfAxuWfX7WeABMvH/loPQEmjj75\n",
       "8HoCbHz3w3oBTFx66NB6Akxcuh4AAAAAAAAAwP8TdwEAAAAAAAACxF0AAAAAAACAAHEXAAAAAAAA\n",
       "IEDcBQAAAAAAAAgQdwEAAAAAAAACxF0AAAAAAACAAHEXAAAAAAAAIEDcBQAAAAAAAAgQdwEAAAAA\n",
       "AAACxF0AAAAAAACAAHEXAAAAAAAAIEDcBQAAAAAAAAgQdwEAAAAAAAACxF0AAAAAAACAAHEXAAAA\n",
       "AAAAIEDcBQAAAAAAAAgQdwEAAAAAAAACxF0AAAAAAACAAHEXAAAAAAAAIEDcBQAAAAAAAAgQdwEA\n",
       "AAAAAAACxF0AAAAAAACAAHEXAAAAAAAAIEDcBQAAAAAAAAgQdwEAAAAAAAACxF0AAAAAAACAAHEX\n",
       "AAAAAAAAIEDcBQAAAAAAAAgQdwEAAAAAAAACxF0AAAAAAACAAHEXAAAAAAAAIEDcBQAAAAAAAAgQ\n",
       "dwEAAAAAAAACxF0AAAAAAACAAHEXAAAAAAAAIEDcBQAAAAAAAAgQdwEAAAAAAAACxF0AAAAAAACA\n",
       "AHEXAAAAAAAAIEDcBQAAAAAAAAgQdwEAAAAAAAACxF0AAAAAAACAAHEXAAAAAAAAIEDcBQAAAAAA\n",
       "AAgQdwEAAAAAAAACxF0AAAAAAACAAHEXAAAAAAAAIEDcBQAAAAAAAAgQdwEAAAAAAAACxF0AAAAA\n",
       "AACAAHEXAAAAAAAAIEDcBQAAAAAAAAgQdwEAAAAAAAACxF0AAAAAAACAAHEXAAAAAAAAIEDcBQAA\n",
       "AAAAAAgQdwEAAAAAAAACxF0AAAAAAACAAHEXAAAAAAAAIEDcBQAAAAAAAAgQdwEAAAAAAAACxF0A\n",
       "AAAAAACAAHEXAAAAAAAAIEDcBQAAAAAAAAgQdwEAAAAAAAACxF0AAAAAAACAAHEXAAAAAAAAIEDc\n",
       "BQAAAAAAAAgQdwEAAAAAAAACxF0AAAAAAACAAHEXAAAAAAAAIEDcBQAAAAAAAAgQdwEAAAAAAAAC\n",
       "xF0AAAAAAACAAHEXAAAAAAAAIEDcBQAAAAAAAAgQdwEAAAAAAAACxF0AAAAAAACAAHEXAAAAAAAA\n",
       "IEDcBQAAAAAAAAgQdwEAAAAAAAACxF0AAAAAAACAAHEXAAAAAAAAIEDcBQAAAAAAAAgQdwEAAAAA\n",
       "AAACxF0AAAAAAACAAHEXAAAAAAAAIEDcBQAAAAAAAAgQdwEAAAAAAAACxF0AAAAAAACAAHEXAAAA\n",
       "AAAAIEDcBQAAAAAAAAgQdwEAAAAAAAACxF0AAAAAAACAAHEXAAAAAAAAIEDcBQAAAAAAAAgQdwEA\n",
       "AAAAAAACxF0AAAAAAACAAHEXAAAAAAAAIEDcBQAAAAAAAAgQdwEAAAAAAAACxF0AAAAAAACAAHEX\n",
       "AAAAAAAAIEDcBQAAAAAAAAgQdwEAAAAAAAACxF0AAAAAAACAAHEXAAAAAAAAIEDcBQAAAAAAAAgQ\n",
       "dwEAAAAAAAACxF0AAAAAAACAAHEXAAAAAAAAIEDcBQAAAAAAAAgQdwEAAAAAAAACxF0AAAAAAACA\n",
       "AHEXAAAAAAAAIEDcBQAAAAAAAAgQdwEAAAAAAAACxF0AAAAAAACAAHEXAAAAAAAAIEDcBQAAAAAA\n",
       "AAgQdwEAAAAAAAACxF0AAAAAAACAAHEXAAAAAAAAIEDcBQAAAAAAAAgQdwEAAAAAAAACxF0AAAAA\n",
       "AACAAHEXAAAAAAAAIEDcBQAAAAAAAAg4eOO3f603wMzddz2+ngATZ09cs54AE9fd+u96Akyc/uXC\n",
       "egJM3PDpifUEmDhyz2PrCTBx3Wt/rifAxLWv3raeABOvfPzhegJMuNwFAAAAAAAACBB3AQAAAAAA\n",
       "AALEXQAAAAAAAIAAcRcAAAAAAAAgQNwFAAAAAAAACBB3AQAAAAAAAALEXQAAAAAAAIAAcRcAAAAA\n",
       "AAAgQNwFAAAAAAAACBB3AQAAAAAAAALEXQAAAAAAAIAAcRcAAAAAAAAgQNwFAAAAAAAACBB3AQAA\n",
       "AAAAAALEXQAAAAAAAIAAcRcAAAAAAAAgQNwFAAAAAAAACBB3AQAAAAAAAALEXQAAAAAAAIAAcRcA\n",
       "AAAAAAAgQNwFAAAAAAAACBB3AQAAAAAAAALEXQAAAAAAAIAAcRcAAAAAAAAgQNwFAAAAAAAACBB3\n",
       "AQAAAAAAAALEXQAAAAAAAIAAcRcAAAAAAAAgQNwFAAAAAAAACBB3AQAAAAAAAALEXQAAAAAAAIAA\n",
       "cRcAAAAAAAAgQNwFAAAAAAAACBB3AQAAAAAAAALEXQAAAAAAAIAAcRcAAAAAAAAgQNwFAAAAAAAA\n",
       "CBB3AQAAAAAAAALEXQAAAAAAAIAAcRcAAAAAAAAgQNwFAAAAAAAACBB3AQAAAAAAAALEXQAAAAAA\n",
       "AIAAcRcAAAAAAAAgQNwFAAAAAAAACBB3AQAAAAAAAALEXQAAAAAAAIAAcRcAAAAAAAAgQNwFAAAA\n",
       "AAAACBB3AQAAAAAAAALEXQAAAAAAAIAAcRcAAAAAAAAgQNwFAAAAAAAACBB3AQAAAAAAAALEXQAA\n",
       "AAAAAIAAcRcAAAAAAAAgQNwFAAAAAAAACBB3AQAAAAAAAALEXQAAAAAAAIAAcRcAAAAAAAAgQNwF\n",
       "AAAAAAAACBB3AQAAAAAAAALEXQAAAAAAAIAAcRcAAAAAAAAgQNwFAAAAAAAACBB3AQAAAAAAAALE\n",
       "XQAAAAAAAIAAcRcAAAAAAAAgQNwFAAAAAAAACBB3AQAAAAAAAALEXQAAAAAAAIAAcRcAAAAAAAAg\n",
       "QNwFAAAAAAAACBB3AQAAAAAAAALEXQAAAAAAAIAAcRcAAAAAAAAgQNwFAAAAAAAACBB3AQAAAAAA\n",
       "AALEXQAAAAAAAIAAcRcAAAAAAAAgQNwFAAAAAAAACBB3AQAAAAAAAALEXQAAAAAAAIAAcRcAAAAA\n",
       "AAAgQNwFAAAAAAAACBB3AQAAAAAAAALEXQAAAAAAAIAAcRcAAAAAAAAgQNwFAAAAAAAACBB3AQAA\n",
       "AAAAAALEXQAAAAAAAIAAcRcAAAAAAAAgQNwFAAAAAAAACBB3AQAAAAAAAALEXQAAAAAAAIAAcRcA\n",
       "AAAAAAAgQNwFAAAAAAAACBB3AQAAAAAAAALEXQAAAAAAAIAAcRcAAAAAAAAgQNwFAAAAAAAACBB3\n",
       "AQAAAAAAAALEXQAAAAAAAIAAcRcAAAAAAAAgQNwFAAAAAAAACBB3AQAAAAAAAALEXQAAAAAAAIAA\n",
       "cRcAAAAAAAAgQNwFAAAAAAAACBB3AQAAAAAAAALEXQAAAAAAAIAAcRcAAAAAAAAgQNwFAAAAAAAA\n",
       "CBB3AQAAAAAAAALEXQAAAAAAAIAAcRcAAAAAAAAgQNwFAAAAAAAACBB3AQAAAAAAAALEXQAAAAAA\n",
       "AIAAcRcAAAAAAAAgQNwFAAAAAAAACBB3AQAAAAAAAALEXQAAAAAAAIAAcRcAAAAAAAAgQNwFAAAA\n",
       "AAAACBB3AQAAAAAAAALEXQAAAAAAAIAAcRcAAAAAAAAgQNwFAAAAAAAACDhw/KfbL6xHwMpznz29\n",
       "ngATzzz09XoCTHz10n3rCTBx6u7L1hNg4u+r1gtg48RTb68nwMTh919YT4CJm4/+up4AE4feO7Oe\n",
       "ABMudwEAAAAAAAACxF0AAAAAAACAAHEXAAAAAAAAIEDcBQAAAAAAAAgQdwEAAAAAAAACxF0AAAAA\n",
       "AACAAHEXAAAAAAAAIEDcBQAAAAAAAAgQdwEAAAAAAAACxF0AAAAAAACAAHEXAAAAAAAAIEDcBQAA\n",
       "AAAAAAgQdwEAAAAAAAACxF0AAAAAAACAAHEXAAAAAAAAIEDcBQAAAAAAAAgQdwEAAAAAAAACxF0A\n",
       "AAAAAACAAHEXAAAAAAAAIEDcBQAAAAAAAAgQdwEAAAAAAAACxF0AAAAAAACAAHEXAAAAAAAAIEDc\n",
       "BQAAAAAAAAgQdwEAAAAAAAACxF0AAAAAAACAAHEXAAAAAAAAIEDcBQAAAAAAAAgQdwEAAAAAAAAC\n",
       "xF0AAAAAAACAAHEXAAAAAAAAIEDcBQAAAAAAAAgQdwEAAAAAAAACxF0AAAAAAACAAHEXAAAAAAAA\n",
       "IEDcBQAAAAAAAAgQdwEAAAAAAAACxF0AAAAAAACAAHEXAAAAAAAAIEDcBQAAAAAAAAgQdwEAAAAA\n",
       "AAACxF0AAAAAAACAAHEXAAAAAAAAIEDcBQAAAAAAAAgQdwEAAAAAAAACxF0AAAAAAACAAHEXAAAA\n",
       "AAAAIEDcBQAAAAAAAAgQdwEAAAAAAAACxF0AAAAAAACAAHEXAAAAAAAAIEDcBQAAAAAAAAgQdwEA\n",
       "AAAAAAACxF0AAAAAAACAAHEXAAAAAAAAIEDcBQAAAAAAAAgQdwEAAAAAAAACxF0AAAAAAACAAHEX\n",
       "AAAAAAAAIEDcBQAAAAAAAAgQdwEAAAAAAAACxF0AAAAAAACAAHEXAAAAAAAAIEDcBQAAAAAAAAgQ\n",
       "dwEAAAAAAAACxF0AAAAAAACAAHEXAAAAAAAAIEDcBQAAAAAAAAgQdwEAAAAAAAACxF0AAAAAAACA\n",
       "AHEXAAAAAAAAIEDcBQAAAAAAAAgQdwEAAAAAAAACxF0AAAAAAACAAHEXAAAAAAAAIEDcBQAAAAAA\n",
       "AAgQdwEAAAAAAAACxF0AAAAAAACAAHEXAAAAAAAAIEDcBQAAAAAAAAgQdwEAAAAAAAACxF0AAAAA\n",
       "AACAAHEXAAAAAAAAIEDcBQAAAAAAAAgQdwEAAAAAAAACxF0AAAAAAACAAHEXAAAAAAAAIEDcBQAA\n",
       "AAAAAAgQdwEAAAAAAAACxF0AAAAAAACAAHEXAAAAAAAAIEDcBQAAAAAAAAgQdwEAAAAAAAACxF0A\n",
       "AAAAAACAAHEXAAAAAAAAIEDcBQAAAAAAAAgQdwEAAAAAAAACxF0AAAAAAACAAHEXAAAAAAAAIEDc\n",
       "BQAAAAAAAAgQdwEAAAAAAAACxF0AAAAAAACAAHEXAAAAAAAAIEDcBQAAAAAAAAgQdwEAAAAAAAAC\n",
       "xF0AAAAAAACAAHEXAAAAAAAAIEDcBQAAAAAAAAgQdwEAAAAAAAACxF0AAAAAAACAAHEXAAAAAAAA\n",
       "IEDcBQAAAAAAAAgQdwEAAAAAAAACxF0AAAAAAACAAHEXAAAAAAAAIEDcBQAAAAAAAAgQdwEAAAAA\n",
       "AAACxF0AAAAAAACAAHEXAAAAAAAAIEDcBQAAAAAAAAgQdwEAAAAAAAACxF0AAAAAAACAAHEXAAAA\n",
       "AAAAIEDcBQAAAAAAAAgQdwEAAAAAAAACxF0AAAAAAACAAHEXAAAAAAAAIEDcBQAAAAAAAAgQdwEA\n",
       "AAAAAAACDh777d71Bpi56ZNz6wkw8eCj368nwMSxZ+9ZT4CJ668+tZ4AE6dOX7GeABOPPPTEegJM\n",
       "/Hj8nfUEmDj5xNn1BJj44E//PFycXO4CAAAAAAAABIi7AAAAAAAAAAHiLgAAAAAAAECAuAsAAAAA\n",
       "AAAQIO4CAAAAAAAABIi7AAAAAAAAAAHiLgAAAAAAAECAuAsAAAAAAAAQIO4CAAAAAAAABIi7AAAA\n",
       "AAAAAAHiLgAAAAAAAECAuAsAAAAAAAAQIO4CAAAAAAAABIi7AAAAAAAAAAHiLgAAAAAAAECAuAsA\n",
       "AAAAAAAQIO4CAAAAAAAABIi7AAAAAAAAAAHiLgAAAAAAAECAuAsAAAAAAAAQIO4CAAAAAAAABIi7\n",
       "AAAAAAAAAAHiLgAAAAAAAECAuAsAAAAAAAAQIO4CAAAAAAAABIi7AAAAAAAAAAHiLgAAAAAAAECA\n",
       "uAsAAAAAAAAQIO4CAAAAAAAABIi7AAAAAAAAAAHiLgAAAAAAAECAuAsAAAAAAAAQIO4CAAAAAAAA\n",
       "BIi7AAAAAAAAAAHiLgAAAAAAAECAuAsAAAAAAAAQIO4CAAAAAAAABIi7AAAAAAAAAAHiLgAAAAAA\n",
       "AECAuAsAAAAAAAAQIO4CAAAAAAAABIi7AAAAAAAAAAHiLgAAAAAAAECAuAsAAAAAAAAQIO4CAAAA\n",
       "AAAABIi7AAAAAAAAAAHiLgAAAAAAAECAuAsAAAAAAAAQIO4CAAAAAAAABIi7AAAAAAAAAAHiLgAA\n",
       "AAAAAECAuAsAAAAAAAAQIO4CAAAAAAAABIi7AAAAAAAAAAHiLgAAAAAAAECAuAsAAAAAAAAQIO4C\n",
       "AAAAAAAABIi7AAAAAAAAAAHiLgAAAAAAAECAuAsAAAAAAAAQIO4CAAAAAAAABIi7AAAAAAAAAAHi\n",
       "LgAAAAAAAECAuAsAAAAAAAAQIO4CAAAAAAAABIi7AAAAAAAAAAHiLgAAAAAAAECAuAsAAAAAAAAQ\n",
       "IO4CAAAAAAAABIi7AAAAAAAAAAHiLgAAAAAAAECAuAsAAAAAAAAQIO4CAAAAAAAABIi7AAAAAAAA\n",
       "AAHiLgAAAAAAAECAuAsAAAAAAAAQIO4CAAAAAAAABIi7AAAAAAAAAAHiLgAAAAAAAECAuAsAAAAA\n",
       "AAAQIO4CAAAAAAAABIi7AAAAAAAAAAHiLgAAAAAAAECAuAsAAAAAAAAQIO4CAAAAAAAABIi7AAAA\n",
       "AAAAAAHiLgAAAAAAAECAuAsAAAAAAAAQIO4CAAAAAAAABIi7AAAAAAAAAAHiLgAAAAAAAECAuAsA\n",
       "AAAAAAAQIO4CAAAAAAAABIi7AAAAAAAAAAHiLgAAAAAAAECAuAsAAAAAAAAQIO4CAAAAAAAABIi7\n",
       "AAAAAAAAAAHiLgAAAAAAAECAuAsAAAAAAAAQIO4CAAAAAAAABIi7AAAAAAAAAAHiLgAAAAAAAECA\n",
       "uAsAAAAAAAAQIO4CAAAAAAAABIi7AAAAAAAAAAHiLgAAAAAAAECAuAsAAAAAAAAQIO4CAAAAAAAA\n",
       "BIi7AAAAAAAAAAHiLgAAAAAAAECAuAsAAAAAAAAQIO4CAAAAAAAABIi7AAAAAAAAAAHiLgAAAAAA\n",
       "AECAuAsAAAAAAAAQIO4CAAAAAAAABIi7AAAAAAAAAAHiLgAAAAAAAECAuAsAAAAAAAAQIO4CAAAA\n",
       "AAAABIi7AAAAAAAAAAHiLgAAAAAAAECAuAsAAAAAAAAQIO4CAAAAAAAABIi7AAAAAAAAAAHiLgAA\n",
       "AAAAAECAuAsAAAAAAAAQIO4CAAAAAAAABBy4/4E3L6xHwMrvL55bT4CJ1+74Yj0BJr784871BBjx\n",
       "5Ofi9M13h9cTYOPAegBsXPnDwfUEmLj65Pn1BJg4eO6f9QSYcLkLAAAAAAAAECDuAgAAAAAAAASI\n",
       "uwAAAAAAAAAB4i4AAAAAAABAgLgLAAAAAAAAECDuAgAAAAAAAASIuwAAAAAAAAAB4i4AAAAAAABA\n",
       "gLgLAAAAAAAAECDuAgAAAAAAAASIuwAAAAAAAAAB4i4AAAAAAABAgLgLAAAAAAAAECDuAgAAAAAA\n",
       "AASIuwAAAAAAAAAB4i4AAAAAAABAgLgLAAAAAAAAECDuAgAAAAAAAASIuwAAAPzHvt2yilnHcRjn\n",
       "6OGccDygrmgRBIeKqGARFFmZcYggBovVJ1CDbcEgvgRZMA+jQTC6NGSCDyAYfAgWYQZhGAai82V8\n",
       "uTifzyv4xj/3df8AAACAAHEXAAAAAAAAIEDcBQAAAAAAAAgQdwEAAAAAAAACxF0AAAAAAACAAHEX\n",
       "AAAAAAAAIEDcBQAAAAAAAAgQdwEAAAAAAAACxF0AAAAAAACAAHEXAAAAAAAAIEDcBQAAAAAAAAgQ\n",
       "dwEAAAAAAAACxF0AAAAAAACAAHEXAAAAAAAAIEDcBQAAAAAAAAgQdwEAAAAAAAACxF0AAAAAAACA\n",
       "AHEXAAAAAAAAIEDcBQAAAAAAAAgQdwEAAAAAAAACxF0AAAAAAACAAHEXAAAAAAAAIEDcBQAAAAAA\n",
       "AAgQdwEAAAAAAAACxF0AAAAAAACAAHEXAAAAAAAAIEDcBQAAAAAAAAgQdwEAAAAAAAACxF0AAAAA\n",
       "AACAAHEXAAAAAAAAIEDcBQAAAAAAAAgQdwEAAAAAAAACxF0AAAAAAACAAHEXAAAAAAAAIEDcBQAA\n",
       "AAAAAAgQdwEAAAAAAAACxF0AAAAAAACAAHEXAAAAAAAAIEDcBQAAAAAAAAgQdwEAAAAAAAACxF0A\n",
       "AAAAAACAAHEXAAAAAAAAIEDcBQAAAAAAAAgQdwEAAAAAAAACxF0AAAAAAACAAHEXAAAAAAAAIEDc\n",
       "BQAAAAAAAAgQdwEAAAAAAAACxF0AAAAAAACAAHEXAAAAAAAAIEDcBQAAAAAAAAgQdwEAAAAAAAAC\n",
       "xF0AAAAAAACAAHEXAAAAAAAAIEDcBQAAAAAAAAgQdwEAAAAAAAACxF0AAAAAAACAAHEXAAAAAAAA\n",
       "IEDcBQAAAAAAAAgQdwEAAAAAAAACxF0AAAAAAACAAHEXAAAAAAAAIEDcBQAAAAAAAAgQdwEAAAAA\n",
       "AAACxF0AAAAAAACAAHEXAAAAAAAAIEDcBQAAAAAAAAgQdwEAAAAAAAACxF0AAAAAAACAAHEXAAAA\n",
       "AAAAIEDcBQAAAAAAAAgQdwEAAAAAAAACxF0AAAAAAACAAHEXAAAAAAAAIEDcBQAAAAAAAAgQdwEA\n",
       "AAAAAAACxF0AAAAAAACAAHEXAAAAAAAAIEDcBQAAAAAAAAgQdwEAAAAAAAACxF0AAAAAAACAAHEX\n",
       "AAAAAAAAIEDcBQAAAAAAAAgQdwEAAAAAAAACxF0AAAAAAACAAHEXAAAAAAAAIEDcBQAAAAAAAAgQ\n",
       "dwEAAAAAAAACxF0AAAAAAACAAHEXAAAAAAAAIEDcBQAAAAAAAAgQdwEAAAAAAAACxF0AAAAAAACA\n",
       "AHEXAAAAAAAAIEDcBQAAAAAAAAgQdwEAAAAAAAACxF0AAAAAAACAAHEXAAAAAAAAIEDcBQAAAAAA\n",
       "AAgQdwEAAAAAAAACxF0AAAAAAACAAHEXAAAAAAAAIEDcBQAAAAAAAAgQdwEAAAAAAAACxF0AAAAA\n",
       "AACAAHEXAAAAAAAAIEDcBQAAAAAAAAgQdwEAAAAAAAACxF0AAAAAAACAAHEXAAAAAAAAIEDcBQAA\n",
       "AAAAAAg4+PzXp+6sR8DK00c31xNg4uL1t9cTYOLBq8frCTDx+yVPfs6mg/8O1hNg4p5fDtcTYOLf\n",
       "o/UC2Lj92O31BJg4//r36wkw4XIXAAAAAAAAIEDcBQAAAAAAAAgQdwEAAAAAAAACxF0AAAAAAACA\n",
       "AHEXAAAAAAAAIEDcBQAAAAAAAAgQdwEAAAAAAAACxF0AAAAAAACAAHEXAAAAAAAAIEDcBQAAAAAA\n",
       "AAgQdwEAAAAAAAACxF0AAAAAAACAAHEXAAAAAAAAIEDcBQAAAAAAAAgQdwEAAAAAAAACxF0AAAAA\n",
       "AACAAHEXAAAAAAAAIEDcBQAAAAAAAAgQdwEAAAAAAAACxF0AAAAAAACAAHEXAAAAAAAAIEDcBQAA\n",
       "AAAAAAgQdwEAAAAAAAACxF0AAAAAAACAAHEXAAAAAAAAIEDcBQAAAAAAAAgQdwEAAAAAAAACxF0A\n",
       "AAAAAACAAHEXAAAAAAAAIEDcBQAAAAAAAAgQdwEAAAAAAAACxF0AAAAAAACAAHEXAAAAAAAAIEDc\n",
       "BQAAAAAAAAgQdwEAAAAAAAACxF0AAAAAAACAAHEXAAAAAAAAIEDcBQAAAAAAAAgQdwEAAAAAAAAC\n",
       "xF0AAAAAAACAAHEXAAAAAAAAIEDcBQAAAAAAAAgQdwEAAAAAAAACxF0AAAAAAACAAHEXAAAAAAAA\n",
       "IEDcBQAAAAAAAAgQdwEAAAAAAAACxF0AAAAAAACAAHEXAAAAAAAAIEDcBQAAAAAAAAgQdwEAAAAA\n",
       "AAACxF0AAAAAAACAAHEXAAAAAAAAIEDcBQAAAAAAAAgQdwEAAAAAAAACxF0AAAAAAACAAHEXAAAA\n",
       "AAAAIEDcBQAAAAAAAAgQdwEAAAAAAAACxF0AAAAAAACAAHEXAAAAAAAAIEDcBQAAAAAAAAgQdwEA\n",
       "AAAAAAACxF0AAAAAAACAAHEXAAAAAAAAIEDcBQAAAAAAAAgQdwEAAAAAAAACxF0AAAAAAACAAHEX\n",
       "AAAAAAAAIEDcBQAAAAAAAAgQdwEAAAAAAAACxF0AAAAAAACAAHEXAAAAAAAAIEDcBQAAAAAAAAgQ\n",
       "dwEAAAAAAAACxF0AAAAAAACAAHEXAAAAAAAAIEDcBQAAAAAAAAgQdwEAAAAAAAACxF0AAAAAAACA\n",
       "AHEXAAAAAAAAIEDcBQAAAAAAAAgQdwEAAAAAAAACxF0AAAAAAACAAHEXAAAAAAAAIEDcBQAAAAAA\n",
       "AAgQdwEAAAAAAAACxF0AAAAAAACAAHEXAAAAAAAAIEDcBQAAAAAAAAgQdwEAAAAAAAACxF0AAAAA\n",
       "AACAAHEXAAAAAAAAIEDcBQAAAAAAAAgQdwEAAAAAAAACxF0AAAAAAACAAHEXAAAAAAAAIEDcBQAA\n",
       "AAAAAAgQdwEAAAAAAAACxF0AAAAAAACAAHEXAAAAAAAAIEDcBQAAAAAAAAgQdwEAAAAAAAACxF0A\n",
       "AAAAAACAAHEXAAAAAAAAIEDcBQAAAAAAAAgQdwEAAAAAAAACxF0AAAAAAACAAHEXAAAAAAAAIEDc\n",
       "BQAAAAAAAAgQdwEAAAAAAAACxF0AAAAAAACAAHEXAAAAAAAAIEDcBQAAAAAAAAgQdwEAAAAAAAAC\n",
       "xF0AAAAAAACAAHEXAAAAAAAAIEDcBQAAAAAAAAgQdwEAAAAAAAACxF0AAAAAAACAAHEXAAAAAAAA\n",
       "IEDcBQAAAAAAAAgQdwEAAAAAAAACxF0AAAAAAACAAHEXAAAAAAAAIEDcBQAAAAAAAAgQdwEAAAAA\n",
       "AAACxF0AAAAAAACAAHEXAAAAAAAAIODw3N1/rzfAzCsffrCeABPH5w7WE2Di2pVP1hNg4tnLb64n\n",
       "wMSNj66sJ8DE+atvrCfAxIsXvltPgInHT5sfLaAAABS6SURBVP5YT4CJL08eWk+ACZe7AAAAAAAA\n",
       "AAHiLgAAAAAAAECAuAsAAAAAAAAQIO4CAAAAAAAABIi7AAAAAAAAAAHiLgAAAAAAAECAuAsAAAAA\n",
       "AAAQIO4CAAAAAAAABIi7AAAAAAAAAAHiLgAAAAAAAECAuAsAAAAAAAAQIO4CAAAAAAAABIi7AAAA\n",
       "AAAAAAHiLgAAAAAAAECAuAsAAAAAAAAQIO4CAAAAAAAABIi7AAAAAAAAAAHiLgAAAAAAAECAuAsA\n",
       "AAAAAAAQIO4CAAAAAAAABIi7AAAAAAAAAAHiLgAAAAAAAECAuAsAAAAAAAAQIO4CAAAAAAAABIi7\n",
       "AAAAAAAAAAHiLgAAAAAAAECAuAsAAAAAAAAQIO4CAAAAAAAABIi7AAAAAAAAAAHiLgAAAAAAAECA\n",
       "uAsAAAAAAAAQIO4CAAAAAAAABIi7AAAAAAAAAAHiLgAAAAAAAECAuAsAAAAAAAAQIO4CAAAAAAAA\n",
       "BIi7AAAAAAAAAAHiLgAAAAAAAECAuAsAAAAAAAAQIO4CAAAAAAAABIi7AAAAAAAAAAHiLgAAAAAA\n",
       "AECAuAsAAAAAAAAQIO4CAAAAAAAABIi7AAAAAAAAAAHiLgAAAAAAAECAuAsAAAAAAAAQIO4CAAAA\n",
       "AAAABIi7AAAAAAAAAAHiLgAAAAAAAECAuAsAAAAAAAAQIO4CAAAAAAAABIi7AAAAAAAAAAHiLgAA\n",
       "AAAAAECAuAsAAAAAAAAQIO4CAAAAAAAABIi7AAAAAAAAAAHiLgAAAAAAAECAuAsAAAAAAAAQIO4C\n",
       "AAAAAAAABIi7AAAAAAAAAAHiLgAAAAAAAECAuAsAAAAAAAAQIO4CAAAAAAAABIi7AAAAAAAAAAHi\n",
       "LgAAAAAAAECAuAsAAAAAAAAQIO4CAAAAAAAABIi7AAAAAAAAAAHiLgAAAAAAAECAuAsAAAAAAAAQ\n",
       "IO4CAAAAAAAABIi7AAAAAAAAAAHiLgAAAAAAAECAuAsAAAAAAAAQIO4CAAAAAAAABIi7AAAAAAAA\n",
       "AAHiLgAAAAAAAECAuAsAAAAAAAAQIO4CAAAAAAAABIi7AAAAAAAAAAHiLgAAAAAAAECAuAsAAAAA\n",
       "AAAQIO4CAAAAAAAABIi7AAAAAAAAAAHiLgAAAAAAAECAuAsAAAAAAAAQIO4CAAAAAAAABIi7AAAA\n",
       "AAAAAAHiLgAAAAAAAECAuAsAAAAAAAAQIO4CAAAAAAAABIi7AAAAAAAAAAHiLgAAAAAAAECAuAsA\n",
       "AAAAAAAQIO4CAAAAAAAABIi7AAAAAAAAAAHiLgAAAAAAAECAuAsAAAAAAAAQIO4CAAAAAAAABIi7\n",
       "AAAAAAAAAAHiLgAAAAAAAECAuAsAAAAAAAAQIO4CAAAAAAAABIi7AAAAAAAAAAHiLgAAAAAAAECA\n",
       "uAsAAAAAAAAQIO4CAAAAAAAABIi7AAAAAAAAAAHiLgAAAAAAAECAuAsAAAAAAAAQIO4CAAAAAAAA\n",
       "BIi7AAAAAAAAAAHiLgAAAAAAAECAuAsAAAAAAAAQIO4CAAAAAAAABIi7AAAAAAAAAAHiLgAAAAAA\n",
       "AECAuAsAAAAAAAAQIO4CAAAAAAAABIi7AAAAAAAAAAHiLgAAAAAAAECAuAsAAAAAAAAQIO4CAAAA\n",
       "AAAABIi7AAAAAAAAAAHiLgAAAAAAAECAuAsAAAAAAAAQIO4CAAAAAAAABIi7AAAAAAAAAAGHJwf/\n",
       "rDfAzAvv3FhPgIkf33piPQEmXn3p4noCTBzdurOeABOXbz65ngATp4/+tZ4AE9e+eGY9ASa+/nO9\n",
       "ADYeeNibh7PJ5S4AAAAAAABAgLgLAAAAAAAAECDuAgAAAAAAAASIuwAAAAAAAAAB4i4AAAAAAABA\n",
       "gLgLAAAAAAAAECDuAgAAAAAAAASIuwAAAAAAAAAB4i4AAAAAAABAgLgLAAAAAAAAECDuAgAAAAAA\n",
       "AASIuwAAAAAAAAAB4i4AAAAAAABAgLgLAAAAAAAAECDuAgAAAAAAAASIuwAAAAAAAAAB4i4AAAAA\n",
       "AABAgLgLAAAAAAAAECDuAgAAAAAAAASIuwAAAAAAAAAB4i4AAAAAAABAgLgLAAAAAAAAECDuAgAA\n",
       "AAAAAASIuwAAAAAAAAAB4i4AAAAAAABAgLgLAAAAAAAAECDuAgAAAAAAAASIuwAAAAAAAAAB4i4A\n",
       "AAAAAABAgLgLAAAAAAAAECDuAgAAAAAAAASIuwAAAAAAAAAB4i4AAAAAAABAgLgLAAAAAAAAECDu\n",
       "AgAAAAAAAASIuwAAAAAAAAAB4i4AAAAAAABAgLgLAAAAAAAAECDuAgAAAAAAAASIuwAAAAAAAAAB\n",
       "4i4AAAAAAABAgLgLAAAAAAAAECDuAgAAAAAAAASIuwAAAAAAAAAB4i4AAAAAAABAgLgLAAAAAAAA\n",
       "ECDuAgAAAAAAAASIuwAAAAAAAAAB4i4AAAAAAABAgLgLAAAAAAAAECDuAgAAAAAAAASIuwAAAAAA\n",
       "AAAB4i4AAAAAAABAgLgLAAAAAAAAECDuAgAAAAAAAASIuwAAAAAAAAAB4i4AAAAAAABAgLgLAAAA\n",
       "AAAAECDuAgAAAAAAAASIuwAAAAAAAAAB4i4AAAAAAABAgLgLAAAAAAAAECDuAgAAAAAAAASIuwAA\n",
       "AAAAAAAB4i4AAAAAAABAgLgLAAAAAAAAECDuAgAAAAAAAASIuwAAAAAAAAAB4i4AAAAAAABAgLgL\n",
       "AAAAAAAAECDuAgAAAAAAAASIuwAAAAAAAAAB4i4AAAAAAABAgLgLAAAAAAAAECDuAgAAAAAAAASI\n",
       "uwAAAAAAAAAB4i4AAAAAAABAgLgLAAAAAAAAECDuAgAAAAAAAASIuwAAAAAAAAAB4i4AAAAAAABA\n",
       "gLgLAAAAAAAAECDuAgAAAAAAAASIuwAAAAAAAAAB4i4AAAAAAABAgLgLAAAAAAAAECDuAgAAAAAA\n",
       "AASIuwAAAAAAAAAB4i4AAAAAAABAgLgLAAAAAAAAECDuAgAAAAAAAASIuwAAAAAAAAAB4i4AAAAA\n",
       "AABAgLgLAAAAAAAAECDuAgAAAAAAAASIuwAAAAAAAAAB4i4AAAAAAABAgLgLAAAAAAAAECDuAgAA\n",
       "AAAAAASIuwAAAAAAAAAB4i4AAAAAAABAgLgLAAAAAAAAECDuAgAAAAAAAASIuwAAAAAAAAAB4i4A\n",
       "AAAAAABAgLgLAAAAAAAAECDuAgAAAAAAAASIuwAAAAAAAAAB4i4AAAAAAABAgLgLAAAAAAAAECDu\n",
       "AgAAAAAAAASIuwAAAAAAAAAB4i4AAAAAAABAgLgLAAAAAAAAECDuAgAAAAAAAASIuwAAAAAAAAAB\n",
       "4i4AAAAAAABAgLgLAAAAAAAAECDuAgAAAAAAAASIuwAAAAAAAAAB4i4AAAAAAABAgLgLAAAAAAAA\n",
       "ECDuAgAAAAAAAASIuwAAAAAAAAAB4i4AAAAAAABAgLgLAAAAAAAAECDuAgAAAAAAAASIuwAAAAAA\n",
       "AAAB4i4AAAAAAABAwOFrn76/3gAzz136YT0BJn571789nE3337pvPQEm7jo+WE+AiQunP60nwMRn\n",
       "Pz+/ngATj3z8zXoCTJx+de96Aky8/N636wkw4es+AAAAAAAAQIC4CwAAAAAAABAg7gIAAAAAAAAE\n",
       "iLsAAAAAAAAAAeIuAAAAAAAAQIC4CwAAAAAAABAg7gIAAAAAAAAEiLsAAAAAAAAAAeIuAAAAAAAA\n",
       "QIC4CwAAAAAAABAg7gIAAAAAAAAEiLsAAAAAAAAAAeIuAAAAAAAAQIC4CwAAAAAAABAg7gIAAAAA\n",
       "AAAEiLsAAAAAAAAAAeIuAAAAAAAAQIC4CwAAAAAAABAg7gIAAAAAAAAEiLsAAAAAAAAAAeIuAAAA\n",
       "AAAAQIC4CwAAAAAAABAg7gIAAAAAAAAEiLsAAAAAAAAAAeIuAAAAAAAAQIC4CwAAAAAAABAg7gIA\n",
       "AAAAAAAEiLsAAAAAAAAAAeIuAAAAAAAAQIC4CwAAAAAAABAg7gIAAAAAAAAEiLsAAAAAAAAAAeIu\n",
       "AAAAAAAAQIC4CwAAAAAAABAg7gIAAAAAAAAEiLsAAAAAAAAAAeIuAAAAAAAAQIC4CwAAAAAAABAg\n",
       "7gIAAAAAAAAEiLsAAPzfvh2TVAAAUBTlTyZwFizwJxPY4oMRTGABNws4u4kF7ODqIi6CIRQ0xuPC\n",
       "OQnefnkAAAAAQIC4CwAAAAAAABAg7gIAAAAAAAAEiLsAAAAAAAAAAeIuAAAAAAAAQIC4CwAAAAAA\n",
       "ABAg7gIAAAAAAAAEiLsAAAAAAAAAAeIuAAAAAAAAQIC4CwAAAAAAABAg7gIAAAAAAAAEiLsAAAAA\n",
       "AAAAAeIuAAAAAAAAQIC4CwAAAAAAABAg7gIAAAAAAAAEiLsAAAAAAAAAAeIuAAAAAAAAQIC4CwAA\n",
       "AAAAABAg7gIAAAAAAAAEiLsAAAAAAAAAAeIuAAAAAAAAQIC4CwAAAAAAABAg7gIAAAAAAAAEiLsA\n",
       "AAAAAAAAAeIuAAAAAAAAQIC4CwAAAAAAABAg7gIAAAAAAAAEiLsAAAAAAAAAAeIuAAAAAAAAQIC4\n",
       "CwAAAAAAABAg7gIAAAAAAAAEiLsAAAAAAAAAAeIuAAAAAAAAQIC4CwAAAAAAABAg7gIAAAAAAAAE\n",
       "iLsAAAAAAAAAAeIuAAAAAAAAQIC4CwAAAAAAABAg7gIAAAAAAAAEiLsAAAAAAAAAAeIuAAAAAAAA\n",
       "QIC4CwAAAAAAABAg7gIAAAAAAAAEiLsAAAAAAAAAAeIuAAAAAAAAQIC4CwAAAAAAABAg7gIAAAAA\n",
       "AAAEiLsAAAAAAAAAAeIuAAAAAAAAQIC4CwAAAAAAABAg7gIAAAAAAAAEiLsAAAAAAAAAAeIuAAAA\n",
       "AAAAQIC4CwAAAAAAABAg7gIAAAAAAAAEiLsAAAAAAAAAAeIuAAAAAAAAQIC4CwAAAAAAABAg7gIA\n",
       "AAAAAAAEiLsAAAAAAAAAAeIuAAAAAAAAQIC4CwAAAAAAABAg7gIAAAAAAAAEiLsAAAAAAAAAAeIu\n",
       "AAAAAAAAQIC4CwAAAAAAABAg7gIAAAAAAAAEiLsAAAAAAAAAAeIuAAAAAAAAQIC4CwAAAAAAABAg\n",
       "7gIAAAAAAAAEiLsAAAAAAAAAAeIuAAAAAAAAQIC4CwAAAAAAABAg7gIAAAAAAAAEiLsAAAAAAAAA\n",
       "AeIuAAAAAAAAQIC4CwAAAAAAABAg7gIAAAAAAAAEiLsAAAAAAAAAAeIuAAAAAAAAQIC4CwAAAAAA\n",
       "ABAg7gIAAAAAAAAEiLsAAAAAAAAAAeIuAAAAAAAAQIC4CwAAAAAAABAg7gIAAAAAAAAEiLsAAAAA\n",
       "AAAAAeIuAAAAAAAAQIC4CwAAAAAAABBwePk4/q1HwMrD7Wk9ASa+bn7XE2Di8vS2ngATP68X6wkw\n",
       "cbg/X0+AibO77/UEmLg+f19PgImnz6v1BJh4Pj6uJ8CE5y4AAAAAAABAgLgLAAAAAAAAECDuAgAA\n",
       "AAAAAASIuwAAAAAAAAAB4i4AAAAAAABAgLgLAAAAAAAAECDuAgAAAAAAAASIuwAAAAAAAAAB4i4A\n",
       "AAAAAABAgLgLAAAAAAAAECDuAgAAAAAAAASIuwAAAAAAAAAB4i4AAAAAAABAgLgLAAAAAAAAECDu\n",
       "AgAAAAAAAASIuwAAAAAAAAAB4i4AAAAAAABAgLgLAAAAAAAAECDuAgAAAAAAAASIuwAAAAAAAAAB\n",
       "4i4AAAAAAABAgLgLAAAAAAAAECDuAgAAAAAAAASIuwAAAAAAAAAB4i4AAAAAAABAgLgLAAAAAAAA\n",
       "ECDuAgAAAAAAAASIuwAAAAAAAAAB4i4AAAAAAABAgLgLAAAAAAAAECDuAgAAAAAAAASIuwAAAAAA\n",
       "AAAB4i4AAAAAAABAgLgLAAAAAAAAECDuAgAAAAAAAASIuwAAAAAAAAAB4i4AAAAAAABAgLgLAAAA\n",
       "AAAAECDuAgAAAAAAAASIuwAAAAAAAAAB4i4AAAAAAABAgLgLAAAAAAAAECDuAgAAAAAAAASIuwAA\n",
       "AAAAAAAB4i4AAAAAAABAgLgLAAAAAAAAECDuAgAAAAAAAASIuwAAAAAAAAAB4i4AAAAAAABAgLgL\n",
       "AAAAAAAAECDuAgAAAAAAAASIuwAAAAAAAAAB4i4AAAAAAABAgLgLAAAAAAAAECDuAgAAAAAAAASI\n",
       "uwAAAAAAAAAB4i4AAAAAAABAgLgLAAAAAAAAECDuAgAAAAAAAASIuwAAAAAAAAAB4i4AAAAAAABA\n",
       "gLgLAAAAAAAAECDuAgAAAAAAAASIuwAAAAAAAAAB4i4AAAAAAABAgLgLAAAAAAAAECDuAgAAAAAA\n",
       "AASIuwAAAAAAAAAB4i4AAAAAAABAgLgLAAAAAAAAECDuAgAAAAAAAASIuwAAAAAAAAAB4i4AAAAA\n",
       "AABAgLgLAAAAAAAAECDuAgAAAAAAAASIuwAAAAAAAAAB4i4AAAAAAABAgLgLAAAAAAAAECDuAgAA\n",
       "AAAAAASIuwAAAAAAAAAB4i4AAAAAAABAgLgLAAAAAAAAECDuAgAAAAAAAASIuwAAAAAAAAAB4i4A\n",
       "AAAAAABAgLgLAAAAAAAAECDuAgAAAAAAAASIuwAAAAAAAAAB4i4AAAAAAABAgLgLAAAAAAAAECDu\n",
       "AgAAAAAAAASIuwAAAAAAAAAB4i4AAAAAAABAgLgLAAAAAAAAECDuAgAAAAAAAASIuwAAAAAAAAAB\n",
       "4i4AAAAAAABAgLgLAAAAAAAAECDuAgAAAAAAAASIuwAAAAAAAAAB4i4AAAAAAABAgLgLAAAAAAAA\n",
       "ECDuAgAAAAAAAASIuwAAAAAAAAAB4i4AAAAAAABAgLgLAAAAAAAAECDuAgAAAAAAAASIuwAAAAAA\n",
       "AAAB4i4AAAAAAABAgLgLAAAAAAAAECDuAgAAAAAAAASIuwAAAAAAAAAB4i4AAAAAAABAgLgLAAAA\n",
       "AAAAECDuAgAAAAAAAASIuwAAAAAAAAAB4i4AAAAAAABAgLgLAAAAAAAAECDuAgAAAAAAAASIuwAA\n",
       "AAAAAAAB4i4AAAAAAABAgLgLAAAAAAAAECDuAgAAAAAAAASIuwAAAAAAAAAB4i4AAAAAAABAgLgL\n",
       "AAAAAAAAECDuAgAAAAAAAASIuwAAAAAAAAAB4i4AAAAAAABAwD8dx5sGKStDvAAAAABJRU5ErkJg\n",
       "gg==\n",
       "\" transform=\"translate(202, 123)\"/>\n",
       "</g>\n",
       "<defs>\n",
       "  <clipPath id=\"clip673\">\n",
       "    <rect x=\"2160\" y=\"123\" width=\"73\" height=\"1301\"/>\n",
       "  </clipPath>\n",
       "</defs>\n",
       "<g clip-path=\"url(#clip673)\">\n",
       "<image width=\"72\" height=\"1300\" xlink:href=\"data:image/png;base64,\n",
       "iVBORw0KGgoAAAANSUhEUgAAAEgAAAUUCAYAAAB8mVRsAAALH0lEQVR4nO3dy63cSBBFQVJIU8Z/\n",
       "t2QFi7Jg8izZiwgLHg4uqOrqj+7n73/vxf/68/Uf8OsECgIFgYJAYZ73fP03/DQLCgIFgYJAYc7l\n",
       "lcbGgoJAQaAgUJhzOUlvLCgIFAQKAoV5XifpjQUFgYJAQaDgJB0sKAgUBAoChXncSa8sKAgUBAoC\n",
       "hTmuO1YWFAQKAgWBgpN0sKAgUBAoCBTGjfTOgoJAQaAgUPDpjmBBQaAgUBAozPP1X/DjLCgIFAQK\n",
       "AgXXHcGCgkBBoCBQECjM4zpoZUFBoCBQECh4qREsKAgUBAoChXmu++u/4adZUBAoCBQECvO8HtIb\n",
       "CwoCBYGCQGGOk/TKgoJAQaAgUHDdESwoCBQECgKFOa47VhYUBAoCBYGCk3SwoCBQECgIFDykgwUF\n",
       "gYJAQaAw59Voo04QKAgUBApO0sGCgkBBoCBQmEejlTpBoCBQECi47gjqBIGCQEGgIFBwHxQsKAgU\n",
       "BAoChXm81FipEwQKAgWBwhyNVuoEgYJAQaDguiNYUBAoCBQECq47gjpBoCBQECi47gjqBIGCQEGg\n",
       "4CQd1AkCBYGCQMGddLCgIFAQKAgUfNsnqBMECgIFgYLvzQd1gkBBoCBQ8J9ABgsKAgWBgkDBpzuC\n",
       "OkGgIFAQKPh0R1AnCBQECgIFgYJL+6BOECgIFAQK/ivjYEFBoCBQECg4SQd1gkBBoCBQ8EHyoE4Q\n",
       "KAgUBAq+khksKAgUBAoCBSfpoE4QKAgUBApO0sGCgkBBoCBQcJIO6gSBgkBBoODbPkGdIFAQKAgU\n",
       "5rjuWFlQECgIFAQKTtJBnSBQECgIFJykgwUFgYJAQaDgJB3UCQIFgYJAQaDgx02CBQWBgkBBoODH\n",
       "TYI6QaAgUBAoOEkHCwoCBYGCQMFDOlhQECgIFAQKrjuCOkGgIFAQKDhJBwsKAgWBgkDBj5sEdYJA\n",
       "QaAgUPBtn2BBQaAgUBAozOO6Y2VBQaAgUBAouO4I6gSBgkBBoOCNw2BBQaAgUBAouJMOFhQECgIF\n",
       "gYI76WBBQaAgUBAoCBRc2gd1gkBBoCBQcGkfLCgIFAQKAgWX9sGCgkBBoCBQcJIOFhQECgIFgYKH\n",
       "dLCgIFAQKAgUPKSDBQWBgkBBoODTHUGdIFAQKAgUvHEYLCgIFAQKAgXXHcGCgkBBoCBQ8JAOFhQE\n",
       "CgIFgYKHdLCgIFAQKAgU5vWQXllQECgIFAQKAgXvrAYLCgIFgYJAwX1QsKAgUBAoCBQ8pIMFBYGC\n",
       "QEGg4NI+WFAQKAgUBApO0sGCgkBBoCBQ8JAOFhQECgIFgcK8X/8FP86CgkBBoCBQcJIOFhQECgIF\n",
       "gYI3DoMFBYGCQEGg4CQdLCgIFAQKAgUn6WBBQaAgUBAozPHO4cqCgkBBoCBQcJIOFhQECgIFgYJA\n",
       "wb9iwYKCQEGgIFDwzmqwoCBQECgIFHzbJ1hQECgIFAQKrjuCBQWBgkBBoOAhHSwoCBQECgKFed13\n",
       "rCwoCBQECgIFJ+lgQUGgIFAQKHhIBwsKAgWBgkDBdUewoCBQECgIFJykgwUFgYJAQaDgJB0sKAgU\n",
       "BAoChbmcpFcWFAQKAgWBguuOYEFBoCBQECgIFHxvPlhQECgIFAQK7oOCBQWBgkBBoOCd1WBBQaAg\n",
       "UBAozOUhvbKgIFAQKAgUvLMaLCgIFAQKAgUn6WBBQaAgUBAoeOMwWFAQKAgUBAreOAwWFAQKAgWB\n",
       "gpN0sKAgUBAoCBTcSQcLCgIFgYJAwUM6WFAQKAgUBAquO4IFBYGCQEGg4CQdLCgIFAQKAgWBgn/F\n",
       "ggUFgYJAQaDgPihYUBAoCBQECgIFgYJAQaAgUHDdESwoCBQECgIFD+lgQUGgIFAQKMztTnplQUGg\n",
       "IFAQKDhJBwsKAgWBgkDBQzpYUBAoCBQECh7SwYKCQEGgIFDwOelgQUGgIFAQKMztJL2yoCBQECgI\n",
       "FFx3BAsKAgWBgkDBQzpYUBAoCBQECgIF90HBgoJAQaAgUPBSI1hQECgIFAQKPv4SLCgIFAQKAgXX\n",
       "HcGCgkBBoCBQcN0RLCgIFAQKAgUP6WBBQaAgUBAojBvpnQUFgYJAQaDgJB0sKAgUBAoCBQ/pYEFB\n",
       "oCBQECj4dEewoCBQECgIFJykgwUFgYJAQaDgIR0sKAgUBAoCBYGC+6BgQUGgIFAQKPjefLCgIFAQ\n",
       "KAgUnKSDBQWBgkBBoODSPlhQECgIFAQKHtLBgoJAQaAgUHDdESwoCBQECgIFJ+lgQUGgIFAQKHhI\n",
       "BwsKAgWBgkDBdUewoCBQECgIFJykgwUFgYJAQaAgUBAoCBQECgIF1x3BgoJAQaAgUHDdESwoCBQE\n",
       "CgIFgYKXGsGCgkBBoCBQ8FIjWFAQKAgUBAoe0sGCgkBBoCBQcN0RLCgIFAQKAgUn6WBBQaAgUBAo\n",
       "OEkHCwoCBYGCQMFJOlhQECgIFAQKHtLBgoJAQaAgUHDdESwoCBQECgIFJ+lgQUGgIFAQKDhJBwsK\n",
       "AgWBgkDBSTpYUBAoCBQECh7SwYKCQEGgIFAQKMz9+mdsY0FBoCBQECh4qREsKAgUBAoCBe+sBgsK\n",
       "AgWBgkDBSTpYUBAoCBQECk7SwYKCQEGgIFBwkg4WFAQKAgWBgod0sKAgUBAoCBRcdwQLCgIFgYJA\n",
       "wUk6WFAQKAgUBApO0sGCgkBBoCBQcJIOFhQECgIFgYKTdLCgIFAQKAgUnKSDBQWBgkBBoCBQ8AtU\n",
       "wYKCQEGgIFDwUiNYUBAoCBQECi7tgwUFgYJAQaDgJB0sKAgUBAoCBSfpYEFBoCBQECg4SQcLCgIF\n",
       "gYJAwUk6WFAQKAgUBApz+QjeyoKCQEGgIFBwkg4WFAQKAgWBgjvpYEFBoCBQECg4SQcLCgIFgYJA\n",
       "wUk6WFAQKAgUBAp+uyNYUBAoCBQECgIFLzWCBQWBgkBBoDD3+fpP+G0WFAQKAgWBgpN0sKAgUBAo\n",
       "CBRc2gcLCgIFgYJAwUk6WFAQKAgUBAoe0sGCgkBBoCBQ8G2fYEFBoCBQECj4BapgQUGgIFAQKDhJ\n",
       "BwsKAgWBgkBhruMpvbGgIFAQKAgUnKSDBQWBgkBBoODTHcGCgkBBoCBQECj4tk+woCBQECgIFLzU\n",
       "CBYUBAoCBYGCk3SwoCBQECgIFObyM4ErCwoCBYGCQMG3fYIFBYGCQEGg4DOKwYKCQEGgIFBwkg4W\n",
       "FAQKAgWBgk93BAsKAgWBgkDBpzuCBQWBgkBBoODHTYIFBYGCQEGg4I3DYEFBoCBQECh44zBYUBAo\n",
       "CBQECh7SwYKCQEGgIFAQKPhKZrCgIFAQKAgUfPwlWFAQKAgUBArug4IFBYGCQEGg4CEdLCgIFAQK\n",
       "AgV30sGCgkBBoCBQcCcdLCgIFAQKAgXXHcGCgkBBoCBQ8JAOFhQECgIFgYIfNwkWFAQKAgWBgpN0\n",
       "sKAgUBAoCBQ8pIMFBYGCQEGg4CEdLCgIFAQKAoW53UmvLCgIFAQKAgWBgpcawYKCQEGgIFDwkA4W\n",
       "FAQKAgWBgod0sKAgUBAoCBR8kDxYUBAoCBQECk7SwYKCQEGgIFDwkA4WFAQKAgWBwlzHj7luLCgI\n",
       "FAQKAgUn6WBBQaAgUBAozOshvbKgIFAQKAgUfLojWFAQKAgUBApzve6kNxYUBAoCBYGCO+lgQUGg\n",
       "IFAQKLjuCBYUBAoCBYGCQMF9ULCgIFAQKAgUvNQIFhQECgIFgYLPKAYLCgIFgYJAwVcygwUFgYJA\n",
       "QaDg4y/BgoJAQaAgUHCSDhYUBAoCBYGCO+lgQUGgIFAQKPh0R7CgIFAQKAgUfE46WFAQKAgUBArz\n",
       "OkmvLCgIFAQKAgUn6WBBQaAgUBAo+AhesKAgUBAoCBT+Ab5ci8mCk+XpAAAAAElFTkSuQmCC\n",
       "\" transform=\"translate(2161, 123)\"/>\n",
       "</g>\n",
       "<path clip-path=\"url(#clip670)\" d=\"M2280.7 1292.62 Q2277.09 1292.62 2275.26 1296.18 Q2273.45 1299.73 2273.45 1306.85 Q2273.45 1313.96 2275.26 1317.53 Q2277.09 1321.07 2280.7 1321.07 Q2284.33 1321.07 2286.14 1317.53 Q2287.97 1313.96 2287.97 1306.85 Q2287.97 1299.73 2286.14 1296.18 Q2284.33 1292.62 2280.7 1292.62 M2280.7 1288.92 Q2286.51 1288.92 2289.57 1293.52 Q2292.64 1298.1 2292.64 1306.85 Q2292.64 1315.58 2289.57 1320.19 Q2286.51 1324.77 2280.7 1324.77 Q2274.89 1324.77 2271.81 1320.19 Q2268.76 1315.58 2268.76 1306.85 Q2268.76 1298.1 2271.81 1293.52 Q2274.89 1288.92 2280.7 1288.92 Z\" fill=\"#000000\" fill-rule=\"nonzero\" fill-opacity=\"1\" /><path clip-path=\"url(#clip670)\" d=\"M2300.86 1318.22 L2305.75 1318.22 L2305.75 1324.1 L2300.86 1324.1 L2300.86 1318.22 Z\" fill=\"#000000\" fill-rule=\"nonzero\" fill-opacity=\"1\" /><path clip-path=\"url(#clip670)\" d=\"M2316.74 1320.16 L2324.38 1320.16 L2324.38 1293.8 L2316.07 1295.47 L2316.07 1291.21 L2324.33 1289.54 L2329.01 1289.54 L2329.01 1320.16 L2336.65 1320.16 L2336.65 1324.1 L2316.74 1324.1 L2316.74 1320.16 Z\" fill=\"#000000\" fill-rule=\"nonzero\" fill-opacity=\"1\" /><polyline clip-path=\"url(#clip670)\" style=\"stroke:#000000; stroke-linecap:round; stroke-linejoin:round; stroke-width:4; stroke-opacity:1; fill:none\" points=\"2232.76,1310.45 2256.76,1310.45 \"/>\n",
       "<path clip-path=\"url(#clip670)\" d=\"M2280.7 1159.53 Q2277.09 1159.53 2275.26 1163.1 Q2273.45 1166.64 2273.45 1173.77 Q2273.45 1180.88 2275.26 1184.44 Q2277.09 1187.98 2280.7 1187.98 Q2284.33 1187.98 2286.14 1184.44 Q2287.97 1180.88 2287.97 1173.77 Q2287.97 1166.64 2286.14 1163.1 Q2284.33 1159.53 2280.7 1159.53 M2280.7 1155.83 Q2286.51 1155.83 2289.57 1160.44 Q2292.64 1165.02 2292.64 1173.77 Q2292.64 1182.5 2289.57 1187.1 Q2286.51 1191.69 2280.7 1191.69 Q2274.89 1191.69 2271.81 1187.1 Q2268.76 1182.5 2268.76 1173.77 Q2268.76 1165.02 2271.81 1160.44 Q2274.89 1155.83 2280.7 1155.83 Z\" fill=\"#000000\" fill-rule=\"nonzero\" fill-opacity=\"1\" /><path clip-path=\"url(#clip670)\" d=\"M2300.86 1185.13 L2305.75 1185.13 L2305.75 1191.01 L2300.86 1191.01 L2300.86 1185.13 Z\" fill=\"#000000\" fill-rule=\"nonzero\" fill-opacity=\"1\" /><path clip-path=\"url(#clip670)\" d=\"M2319.96 1187.08 L2336.28 1187.08 L2336.28 1191.01 L2314.33 1191.01 L2314.33 1187.08 Q2317 1184.32 2321.58 1179.69 Q2326.19 1175.04 2327.37 1173.7 Q2329.61 1171.18 2330.49 1169.44 Q2331.39 1167.68 2331.39 1165.99 Q2331.39 1163.24 2329.45 1161.5 Q2327.53 1159.76 2324.43 1159.76 Q2322.23 1159.76 2319.77 1160.53 Q2317.34 1161.29 2314.57 1162.84 L2314.57 1158.12 Q2317.39 1156.99 2319.84 1156.41 Q2322.3 1155.83 2324.33 1155.83 Q2329.7 1155.83 2332.9 1158.51 Q2336.09 1161.2 2336.09 1165.69 Q2336.09 1167.82 2335.28 1169.74 Q2334.5 1171.64 2332.39 1174.23 Q2331.81 1174.9 2328.71 1178.12 Q2325.61 1181.31 2319.96 1187.08 Z\" fill=\"#000000\" fill-rule=\"nonzero\" fill-opacity=\"1\" /><polyline clip-path=\"url(#clip670)\" style=\"stroke:#000000; stroke-linecap:round; stroke-linejoin:round; stroke-width:4; stroke-opacity:1; fill:none\" points=\"2232.76,1177.36 2256.76,1177.36 \"/>\n",
       "<path clip-path=\"url(#clip670)\" d=\"M2280.7 1026.45 Q2277.09 1026.45 2275.26 1030.01 Q2273.45 1033.55 2273.45 1040.68 Q2273.45 1047.79 2275.26 1051.35 Q2277.09 1054.9 2280.7 1054.9 Q2284.33 1054.9 2286.14 1051.35 Q2287.97 1047.79 2287.97 1040.68 Q2287.97 1033.55 2286.14 1030.01 Q2284.33 1026.45 2280.7 1026.45 M2280.7 1022.74 Q2286.51 1022.74 2289.57 1027.35 Q2292.64 1031.93 2292.64 1040.68 Q2292.64 1049.41 2289.57 1054.02 Q2286.51 1058.6 2280.7 1058.6 Q2274.89 1058.6 2271.81 1054.02 Q2268.76 1049.41 2268.76 1040.68 Q2268.76 1031.93 2271.81 1027.35 Q2274.89 1022.74 2280.7 1022.74 Z\" fill=\"#000000\" fill-rule=\"nonzero\" fill-opacity=\"1\" /><path clip-path=\"url(#clip670)\" d=\"M2300.86 1052.05 L2305.75 1052.05 L2305.75 1057.93 L2300.86 1057.93 L2300.86 1052.05 Z\" fill=\"#000000\" fill-rule=\"nonzero\" fill-opacity=\"1\" /><path clip-path=\"url(#clip670)\" d=\"M2330.1 1039.29 Q2333.45 1040.01 2335.33 1042.28 Q2337.23 1044.55 2337.23 1047.88 Q2337.23 1053 2333.71 1055.8 Q2330.19 1058.6 2323.71 1058.6 Q2321.53 1058.6 2319.22 1058.16 Q2316.93 1057.74 2314.47 1056.89 L2314.47 1052.37 Q2316.42 1053.51 2318.73 1054.09 Q2321.05 1054.66 2323.57 1054.66 Q2327.97 1054.66 2330.26 1052.93 Q2332.58 1051.19 2332.58 1047.88 Q2332.58 1044.83 2330.42 1043.11 Q2328.29 1041.38 2324.47 1041.38 L2320.45 1041.38 L2320.45 1037.53 L2324.66 1037.53 Q2328.11 1037.53 2329.94 1036.17 Q2331.76 1034.78 2331.76 1032.19 Q2331.76 1029.53 2329.87 1028.11 Q2327.99 1026.68 2324.47 1026.68 Q2322.55 1026.68 2320.35 1027.09 Q2318.15 1027.51 2315.51 1028.39 L2315.51 1024.22 Q2318.18 1023.48 2320.49 1023.11 Q2322.83 1022.74 2324.89 1022.74 Q2330.21 1022.74 2333.32 1025.17 Q2336.42 1027.58 2336.42 1031.7 Q2336.42 1034.57 2334.77 1036.56 Q2333.13 1038.53 2330.1 1039.29 Z\" fill=\"#000000\" fill-rule=\"nonzero\" fill-opacity=\"1\" /><polyline clip-path=\"url(#clip670)\" style=\"stroke:#000000; stroke-linecap:round; stroke-linejoin:round; stroke-width:4; stroke-opacity:1; fill:none\" points=\"2232.76,1044.28 2256.76,1044.28 \"/>\n",
       "<path clip-path=\"url(#clip670)\" d=\"M2280.7 893.36 Q2277.09 893.36 2275.26 896.925 Q2273.45 900.467 2273.45 907.596 Q2273.45 914.703 2275.26 918.267 Q2277.09 921.809 2280.7 921.809 Q2284.33 921.809 2286.14 918.267 Q2287.97 914.703 2287.97 907.596 Q2287.97 900.467 2286.14 896.925 Q2284.33 893.36 2280.7 893.36 M2280.7 889.657 Q2286.51 889.657 2289.57 894.263 Q2292.64 898.846 2292.64 907.596 Q2292.64 916.323 2289.57 920.929 Q2286.51 925.513 2280.7 925.513 Q2274.89 925.513 2271.81 920.929 Q2268.76 916.323 2268.76 907.596 Q2268.76 898.846 2271.81 894.263 Q2274.89 889.657 2280.7 889.657 Z\" fill=\"#000000\" fill-rule=\"nonzero\" fill-opacity=\"1\" /><path clip-path=\"url(#clip670)\" d=\"M2300.86 918.962 L2305.75 918.962 L2305.75 924.842 L2300.86 924.842 L2300.86 918.962 Z\" fill=\"#000000\" fill-rule=\"nonzero\" fill-opacity=\"1\" /><path clip-path=\"url(#clip670)\" d=\"M2328.78 894.356 L2316.97 912.805 L2328.78 912.805 L2328.78 894.356 M2327.55 890.282 L2333.43 890.282 L2333.43 912.805 L2338.36 912.805 L2338.36 916.693 L2333.43 916.693 L2333.43 924.842 L2328.78 924.842 L2328.78 916.693 L2313.18 916.693 L2313.18 912.18 L2327.55 890.282 Z\" fill=\"#000000\" fill-rule=\"nonzero\" fill-opacity=\"1\" /><polyline clip-path=\"url(#clip670)\" style=\"stroke:#000000; stroke-linecap:round; stroke-linejoin:round; stroke-width:4; stroke-opacity:1; fill:none\" points=\"2232.76,911.19 2256.76,911.19 \"/>\n",
       "<path clip-path=\"url(#clip670)\" d=\"M2280.7 760.274 Q2277.09 760.274 2275.26 763.839 Q2273.45 767.38 2273.45 774.51 Q2273.45 781.616 2275.26 785.181 Q2277.09 788.723 2280.7 788.723 Q2284.33 788.723 2286.14 785.181 Q2287.97 781.616 2287.97 774.51 Q2287.97 767.38 2286.14 763.839 Q2284.33 760.274 2280.7 760.274 M2280.7 756.57 Q2286.51 756.57 2289.57 761.177 Q2292.64 765.76 2292.64 774.51 Q2292.64 783.237 2289.57 787.843 Q2286.51 792.427 2280.7 792.427 Q2274.89 792.427 2271.81 787.843 Q2268.76 783.237 2268.76 774.51 Q2268.76 765.76 2271.81 761.177 Q2274.89 756.57 2280.7 756.57 Z\" fill=\"#000000\" fill-rule=\"nonzero\" fill-opacity=\"1\" /><path clip-path=\"url(#clip670)\" d=\"M2300.86 785.876 L2305.75 785.876 L2305.75 791.755 L2300.86 791.755 L2300.86 785.876 Z\" fill=\"#000000\" fill-rule=\"nonzero\" fill-opacity=\"1\" /><path clip-path=\"url(#clip670)\" d=\"M2315.98 757.195 L2334.33 757.195 L2334.33 761.13 L2320.26 761.13 L2320.26 769.603 Q2321.28 769.255 2322.3 769.093 Q2323.32 768.908 2324.33 768.908 Q2330.12 768.908 2333.5 772.079 Q2336.88 775.251 2336.88 780.667 Q2336.88 786.246 2333.41 789.348 Q2329.94 792.427 2323.62 792.427 Q2321.44 792.427 2319.17 792.056 Q2316.93 791.686 2314.52 790.945 L2314.52 786.246 Q2316.6 787.38 2318.83 787.936 Q2321.05 788.491 2323.52 788.491 Q2327.53 788.491 2329.87 786.385 Q2332.2 784.278 2332.2 780.667 Q2332.2 777.056 2329.87 774.95 Q2327.53 772.843 2323.52 772.843 Q2321.65 772.843 2319.77 773.26 Q2317.92 773.677 2315.98 774.556 L2315.98 757.195 Z\" fill=\"#000000\" fill-rule=\"nonzero\" fill-opacity=\"1\" /><polyline clip-path=\"url(#clip670)\" style=\"stroke:#000000; stroke-linecap:round; stroke-linejoin:round; stroke-width:4; stroke-opacity:1; fill:none\" points=\"2232.76,778.104 2256.76,778.104 \"/>\n",
       "<path clip-path=\"url(#clip670)\" d=\"M2280.7 627.188 Q2277.09 627.188 2275.26 630.753 Q2273.45 634.294 2273.45 641.424 Q2273.45 648.53 2275.26 652.095 Q2277.09 655.637 2280.7 655.637 Q2284.33 655.637 2286.14 652.095 Q2287.97 648.53 2287.97 641.424 Q2287.97 634.294 2286.14 630.753 Q2284.33 627.188 2280.7 627.188 M2280.7 623.484 Q2286.51 623.484 2289.57 628.091 Q2292.64 632.674 2292.64 641.424 Q2292.64 650.151 2289.57 654.757 Q2286.51 659.34 2280.7 659.34 Q2274.89 659.34 2271.81 654.757 Q2268.76 650.151 2268.76 641.424 Q2268.76 632.674 2271.81 628.091 Q2274.89 623.484 2280.7 623.484 Z\" fill=\"#000000\" fill-rule=\"nonzero\" fill-opacity=\"1\" /><path clip-path=\"url(#clip670)\" d=\"M2300.86 652.789 L2305.75 652.789 L2305.75 658.669 L2300.86 658.669 L2300.86 652.789 Z\" fill=\"#000000\" fill-rule=\"nonzero\" fill-opacity=\"1\" /><path clip-path=\"url(#clip670)\" d=\"M2326.51 639.526 Q2323.36 639.526 2321.51 641.678 Q2319.68 643.831 2319.68 647.581 Q2319.68 651.308 2321.51 653.484 Q2323.36 655.637 2326.51 655.637 Q2329.66 655.637 2331.49 653.484 Q2333.34 651.308 2333.34 647.581 Q2333.34 643.831 2331.49 641.678 Q2329.66 639.526 2326.51 639.526 M2335.79 624.873 L2335.79 629.132 Q2334.03 628.299 2332.23 627.859 Q2330.45 627.419 2328.69 627.419 Q2324.06 627.419 2321.6 630.544 Q2319.17 633.669 2318.83 639.989 Q2320.19 637.975 2322.25 636.91 Q2324.31 635.822 2326.79 635.822 Q2332 635.822 2335.01 638.993 Q2338.04 642.141 2338.04 647.581 Q2338.04 652.905 2334.89 656.123 Q2331.74 659.34 2326.51 659.34 Q2320.51 659.34 2317.34 654.757 Q2314.17 650.151 2314.17 641.424 Q2314.17 633.229 2318.06 628.368 Q2321.95 623.484 2328.5 623.484 Q2330.26 623.484 2332.04 623.831 Q2333.85 624.179 2335.79 624.873 Z\" fill=\"#000000\" fill-rule=\"nonzero\" fill-opacity=\"1\" /><polyline clip-path=\"url(#clip670)\" style=\"stroke:#000000; stroke-linecap:round; stroke-linejoin:round; stroke-width:4; stroke-opacity:1; fill:none\" points=\"2232.76,645.018 2256.76,645.018 \"/>\n",
       "<path clip-path=\"url(#clip670)\" d=\"M2280.7 494.102 Q2277.09 494.102 2275.26 497.666 Q2273.45 501.208 2273.45 508.338 Q2273.45 515.444 2275.26 519.009 Q2277.09 522.55 2280.7 522.55 Q2284.33 522.55 2286.14 519.009 Q2287.97 515.444 2287.97 508.338 Q2287.97 501.208 2286.14 497.666 Q2284.33 494.102 2280.7 494.102 M2280.7 490.398 Q2286.51 490.398 2289.57 495.004 Q2292.64 499.588 2292.64 508.338 Q2292.64 517.064 2289.57 521.671 Q2286.51 526.254 2280.7 526.254 Q2274.89 526.254 2271.81 521.671 Q2268.76 517.064 2268.76 508.338 Q2268.76 499.588 2271.81 495.004 Q2274.89 490.398 2280.7 490.398 Z\" fill=\"#000000\" fill-rule=\"nonzero\" fill-opacity=\"1\" /><path clip-path=\"url(#clip670)\" d=\"M2300.86 519.703 L2305.75 519.703 L2305.75 525.583 L2300.86 525.583 L2300.86 519.703 Z\" fill=\"#000000\" fill-rule=\"nonzero\" fill-opacity=\"1\" /><path clip-path=\"url(#clip670)\" d=\"M2314.75 491.023 L2336.97 491.023 L2336.97 493.014 L2324.43 525.583 L2319.54 525.583 L2331.35 494.958 L2314.75 494.958 L2314.75 491.023 Z\" fill=\"#000000\" fill-rule=\"nonzero\" fill-opacity=\"1\" /><polyline clip-path=\"url(#clip670)\" style=\"stroke:#000000; stroke-linecap:round; stroke-linejoin:round; stroke-width:4; stroke-opacity:1; fill:none\" points=\"2232.76,511.932 2256.76,511.932 \"/>\n",
       "<path clip-path=\"url(#clip670)\" d=\"M2280.7 361.015 Q2277.09 361.015 2275.26 364.58 Q2273.45 368.122 2273.45 375.251 Q2273.45 382.358 2275.26 385.923 Q2277.09 389.464 2280.7 389.464 Q2284.33 389.464 2286.14 385.923 Q2287.97 382.358 2287.97 375.251 Q2287.97 368.122 2286.14 364.58 Q2284.33 361.015 2280.7 361.015 M2280.7 357.312 Q2286.51 357.312 2289.57 361.918 Q2292.64 366.501 2292.64 375.251 Q2292.64 383.978 2289.57 388.585 Q2286.51 393.168 2280.7 393.168 Q2274.89 393.168 2271.81 388.585 Q2268.76 383.978 2268.76 375.251 Q2268.76 366.501 2271.81 361.918 Q2274.89 357.312 2280.7 357.312 Z\" fill=\"#000000\" fill-rule=\"nonzero\" fill-opacity=\"1\" /><path clip-path=\"url(#clip670)\" d=\"M2300.86 386.617 L2305.75 386.617 L2305.75 392.497 L2300.86 392.497 L2300.86 386.617 Z\" fill=\"#000000\" fill-rule=\"nonzero\" fill-opacity=\"1\" /><path clip-path=\"url(#clip670)\" d=\"M2325.93 376.085 Q2322.6 376.085 2320.68 377.867 Q2318.78 379.649 2318.78 382.774 Q2318.78 385.899 2320.68 387.682 Q2322.6 389.464 2325.93 389.464 Q2329.26 389.464 2331.19 387.682 Q2333.11 385.876 2333.11 382.774 Q2333.11 379.649 2331.19 377.867 Q2329.29 376.085 2325.93 376.085 M2321.26 374.094 Q2318.25 373.353 2316.56 371.293 Q2314.89 369.233 2314.89 366.27 Q2314.89 362.126 2317.83 359.719 Q2320.79 357.312 2325.93 357.312 Q2331.09 357.312 2334.03 359.719 Q2336.97 362.126 2336.97 366.27 Q2336.97 369.233 2335.28 371.293 Q2333.62 373.353 2330.63 374.094 Q2334.01 374.881 2335.89 377.173 Q2337.78 379.464 2337.78 382.774 Q2337.78 387.798 2334.7 390.483 Q2331.65 393.168 2325.93 393.168 Q2320.21 393.168 2317.14 390.483 Q2314.08 387.798 2314.08 382.774 Q2314.08 379.464 2315.98 377.173 Q2317.88 374.881 2321.26 374.094 M2319.54 366.71 Q2319.54 369.395 2321.21 370.9 Q2322.9 372.404 2325.93 372.404 Q2328.94 372.404 2330.63 370.9 Q2332.34 369.395 2332.34 366.71 Q2332.34 364.025 2330.63 362.52 Q2328.94 361.015 2325.93 361.015 Q2322.9 361.015 2321.21 362.52 Q2319.54 364.025 2319.54 366.71 Z\" fill=\"#000000\" fill-rule=\"nonzero\" fill-opacity=\"1\" /><polyline clip-path=\"url(#clip670)\" style=\"stroke:#000000; stroke-linecap:round; stroke-linejoin:round; stroke-width:4; stroke-opacity:1; fill:none\" points=\"2232.76,378.845 2256.76,378.845 \"/>\n",
       "<path clip-path=\"url(#clip670)\" d=\"M2280.7 227.929 Q2277.09 227.929 2275.26 231.494 Q2273.45 235.036 2273.45 242.165 Q2273.45 249.272 2275.26 252.836 Q2277.09 256.378 2280.7 256.378 Q2284.33 256.378 2286.14 252.836 Q2287.97 249.272 2287.97 242.165 Q2287.97 235.036 2286.14 231.494 Q2284.33 227.929 2280.7 227.929 M2280.7 224.225 Q2286.51 224.225 2289.57 228.832 Q2292.64 233.415 2292.64 242.165 Q2292.64 250.892 2289.57 255.498 Q2286.51 260.082 2280.7 260.082 Q2274.89 260.082 2271.81 255.498 Q2268.76 250.892 2268.76 242.165 Q2268.76 233.415 2271.81 228.832 Q2274.89 224.225 2280.7 224.225 Z\" fill=\"#000000\" fill-rule=\"nonzero\" fill-opacity=\"1\" /><path clip-path=\"url(#clip670)\" d=\"M2300.86 253.531 L2305.75 253.531 L2305.75 259.41 L2300.86 259.41 L2300.86 253.531 Z\" fill=\"#000000\" fill-rule=\"nonzero\" fill-opacity=\"1\" /><path clip-path=\"url(#clip670)\" d=\"M2316.07 258.693 L2316.07 254.434 Q2317.83 255.267 2319.64 255.707 Q2321.44 256.147 2323.18 256.147 Q2327.81 256.147 2330.24 253.045 Q2332.69 249.92 2333.04 243.577 Q2331.7 245.568 2329.64 246.633 Q2327.58 247.698 2325.08 247.698 Q2319.89 247.698 2316.86 244.573 Q2313.85 241.424 2313.85 235.985 Q2313.85 230.661 2317 227.443 Q2320.14 224.225 2325.38 224.225 Q2331.37 224.225 2334.52 228.832 Q2337.69 233.415 2337.69 242.165 Q2337.69 250.336 2333.8 255.221 Q2329.94 260.082 2323.39 260.082 Q2321.63 260.082 2319.82 259.734 Q2318.01 259.387 2316.07 258.693 M2325.38 244.04 Q2328.52 244.04 2330.35 241.887 Q2332.2 239.735 2332.2 235.985 Q2332.2 232.258 2330.35 230.105 Q2328.52 227.929 2325.38 227.929 Q2322.23 227.929 2320.38 230.105 Q2318.55 232.258 2318.55 235.985 Q2318.55 239.735 2320.38 241.887 Q2322.23 244.04 2325.38 244.04 Z\" fill=\"#000000\" fill-rule=\"nonzero\" fill-opacity=\"1\" /><polyline clip-path=\"url(#clip670)\" style=\"stroke:#000000; stroke-linecap:round; stroke-linejoin:round; stroke-width:4; stroke-opacity:1; fill:none\" points=\"2232.76,245.759 2256.76,245.759 \"/>\n",
       "<polyline clip-path=\"url(#clip670)\" style=\"stroke:#000000; stroke-linecap:round; stroke-linejoin:round; stroke-width:4; stroke-opacity:1; fill:none\" points=\"2232.76,1423.18 2232.76,123.472 \"/>\n",
       "</svg>\n"
      ]
     },
     "metadata": {},
     "output_type": "display_data"
    }
   ],
   "source": [
    "\n",
    "# Data\n",
    "matrix = rand(10, 10)\n",
    "\n",
    "# Heatmap\n",
    "heatmap(matrix, title=\"Heatmap\", xlabel=\"X-axis\", ylabel=\"Y-axis\", color=:viridis)"
   ]
  },
  {
   "cell_type": "code",
   "execution_count": 84,
   "metadata": {},
   "outputs": [
    {
     "data": {
      "image/png": "[encoded data removed]",
      "image/svg+xml": [
       "<?xml version=\"1.0\" encoding=\"utf-8\"?>\n",
       "<svg xmlns=\"http://www.w3.org/2000/svg\" xmlns:xlink=\"http://www.w3.org/1999/xlink\" width=\"600\" height=\"400\" viewBox=\"0 0 2400 1600\">\n",
       "<defs>\n",
       "  <clipPath id=\"clip710\">\n",
       "    <rect x=\"0\" y=\"0\" width=\"2400\" height=\"1600\"/>\n",
       "  </clipPath>\n",
       "</defs>\n",
       "<path clip-path=\"url(#clip710)\" d=\"M0 1600 L2400 1600 L2400 0 L0 0  Z\" fill=\"#ffffff\" fill-rule=\"evenodd\" fill-opacity=\"1\"/>\n",
       "<defs>\n",
       "  <clipPath id=\"clip711\">\n",
       "    <rect x=\"480\" y=\"0\" width=\"1681\" height=\"1600\"/>\n",
       "  </clipPath>\n",
       "</defs>\n",
       "<path clip-path=\"url(#clip710)\" d=\"M175.445 1423.18 L2352.76 1423.18 L2352.76 123.472 L175.445 123.472  Z\" fill=\"#ffffff\" fill-rule=\"evenodd\" fill-opacity=\"1\"/>\n",
       "<defs>\n",
       "  <clipPath id=\"clip712\">\n",
       "    <rect x=\"175\" y=\"123\" width=\"2178\" height=\"1301\"/>\n",
       "  </clipPath>\n",
       "</defs>\n",
       "<polyline clip-path=\"url(#clip712)\" style=\"stroke:#000000; stroke-linecap:round; stroke-linejoin:round; stroke-width:2; stroke-opacity:0.1; fill:none\" points=\"499.18,1423.18 499.18,123.472 \"/>\n",
       "<polyline clip-path=\"url(#clip712)\" style=\"stroke:#000000; stroke-linecap:round; stroke-linejoin:round; stroke-width:2; stroke-opacity:0.1; fill:none\" points=\"1009.13,1423.18 1009.13,123.472 \"/>\n",
       "<polyline clip-path=\"url(#clip712)\" style=\"stroke:#000000; stroke-linecap:round; stroke-linejoin:round; stroke-width:2; stroke-opacity:0.1; fill:none\" points=\"1519.07,1423.18 1519.07,123.472 \"/>\n",
       "<polyline clip-path=\"url(#clip712)\" style=\"stroke:#000000; stroke-linecap:round; stroke-linejoin:round; stroke-width:2; stroke-opacity:0.1; fill:none\" points=\"2029.02,1423.18 2029.02,123.472 \"/>\n",
       "<polyline clip-path=\"url(#clip712)\" style=\"stroke:#000000; stroke-linecap:round; stroke-linejoin:round; stroke-width:2; stroke-opacity:0.1; fill:none\" points=\"175.445,1423.18 2352.76,1423.18 \"/>\n",
       "<polyline clip-path=\"url(#clip712)\" style=\"stroke:#000000; stroke-linecap:round; stroke-linejoin:round; stroke-width:2; stroke-opacity:0.1; fill:none\" points=\"175.445,1237.51 2352.76,1237.51 \"/>\n",
       "<polyline clip-path=\"url(#clip712)\" style=\"stroke:#000000; stroke-linecap:round; stroke-linejoin:round; stroke-width:2; stroke-opacity:0.1; fill:none\" points=\"175.445,1051.83 2352.76,1051.83 \"/>\n",
       "<polyline clip-path=\"url(#clip712)\" style=\"stroke:#000000; stroke-linecap:round; stroke-linejoin:round; stroke-width:2; stroke-opacity:0.1; fill:none\" points=\"175.445,866.162 2352.76,866.162 \"/>\n",
       "<polyline clip-path=\"url(#clip712)\" style=\"stroke:#000000; stroke-linecap:round; stroke-linejoin:round; stroke-width:2; stroke-opacity:0.1; fill:none\" points=\"175.445,680.49 2352.76,680.49 \"/>\n",
       "<polyline clip-path=\"url(#clip712)\" style=\"stroke:#000000; stroke-linecap:round; stroke-linejoin:round; stroke-width:2; stroke-opacity:0.1; fill:none\" points=\"175.445,494.817 2352.76,494.817 \"/>\n",
       "<polyline clip-path=\"url(#clip712)\" style=\"stroke:#000000; stroke-linecap:round; stroke-linejoin:round; stroke-width:2; stroke-opacity:0.1; fill:none\" points=\"175.445,309.145 2352.76,309.145 \"/>\n",
       "<polyline clip-path=\"url(#clip712)\" style=\"stroke:#000000; stroke-linecap:round; stroke-linejoin:round; stroke-width:2; stroke-opacity:0.1; fill:none\" points=\"175.445,123.472 2352.76,123.472 \"/>\n",
       "<polyline clip-path=\"url(#clip710)\" style=\"stroke:#000000; stroke-linecap:round; stroke-linejoin:round; stroke-width:4; stroke-opacity:1; fill:none\" points=\"175.445,1423.18 2352.76,1423.18 \"/>\n",
       "<polyline clip-path=\"url(#clip710)\" style=\"stroke:#000000; stroke-linecap:round; stroke-linejoin:round; stroke-width:4; stroke-opacity:1; fill:none\" points=\"499.18,1423.18 499.18,1404.28 \"/>\n",
       "<polyline clip-path=\"url(#clip710)\" style=\"stroke:#000000; stroke-linecap:round; stroke-linejoin:round; stroke-width:4; stroke-opacity:1; fill:none\" points=\"1009.13,1423.18 1009.13,1404.28 \"/>\n",
       "<polyline clip-path=\"url(#clip710)\" style=\"stroke:#000000; stroke-linecap:round; stroke-linejoin:round; stroke-width:4; stroke-opacity:1; fill:none\" points=\"1519.07,1423.18 1519.07,1404.28 \"/>\n",
       "<polyline clip-path=\"url(#clip710)\" style=\"stroke:#000000; stroke-linecap:round; stroke-linejoin:round; stroke-width:4; stroke-opacity:1; fill:none\" points=\"2029.02,1423.18 2029.02,1404.28 \"/>\n",
       "<path clip-path=\"url(#clip710)\" d=\"M499.18 1455.63 L492.837 1472.83 L505.546 1472.83 L499.18 1455.63 M496.541 1451.02 L501.842 1451.02 L515.013 1485.58 L510.152 1485.58 L507.004 1476.71 L491.425 1476.71 L488.277 1485.58 L483.347 1485.58 L496.541 1451.02 Z\" fill=\"#000000\" fill-rule=\"nonzero\" fill-opacity=\"1\" /><path clip-path=\"url(#clip710)\" d=\"M1001.55 1469.08 L1001.55 1481.74 L1009.05 1481.74 Q1012.82 1481.74 1014.62 1480.19 Q1016.45 1478.61 1016.45 1475.39 Q1016.45 1472.15 1014.62 1470.63 Q1012.82 1469.08 1009.05 1469.08 L1001.55 1469.08 M1001.55 1454.86 L1001.55 1465.28 L1008.47 1465.28 Q1011.89 1465.28 1013.56 1464.01 Q1015.25 1462.71 1015.25 1460.07 Q1015.25 1457.45 1013.56 1456.16 Q1011.89 1454.86 1008.47 1454.86 L1001.55 1454.86 M996.87 1451.02 L1008.81 1451.02 Q1014.16 1451.02 1017.06 1453.24 Q1019.95 1455.46 1019.95 1459.56 Q1019.95 1462.73 1018.47 1464.61 Q1016.99 1466.48 1014.12 1466.95 Q1017.56 1467.69 1019.46 1470.05 Q1021.38 1472.39 1021.38 1475.9 Q1021.38 1480.53 1018.24 1483.06 Q1015.09 1485.58 1009.28 1485.58 L996.87 1485.58 L996.87 1451.02 Z\" fill=\"#000000\" fill-rule=\"nonzero\" fill-opacity=\"1\" /><path clip-path=\"url(#clip710)\" d=\"M1533.01 1453.68 L1533.01 1458.61 Q1530.65 1456.41 1527.96 1455.33 Q1525.3 1454.24 1522.29 1454.24 Q1516.37 1454.24 1513.22 1457.87 Q1510.07 1461.48 1510.07 1468.33 Q1510.07 1475.16 1513.22 1478.8 Q1516.37 1482.41 1522.29 1482.41 Q1525.3 1482.41 1527.96 1481.32 Q1530.65 1480.23 1533.01 1478.03 L1533.01 1482.92 Q1530.56 1484.58 1527.8 1485.42 Q1525.07 1486.25 1522.01 1486.25 Q1514.17 1486.25 1509.65 1481.46 Q1505.14 1476.64 1505.14 1468.33 Q1505.14 1460 1509.65 1455.21 Q1514.17 1450.39 1522.01 1450.39 Q1525.12 1450.39 1527.85 1451.23 Q1530.6 1452.04 1533.01 1453.68 Z\" fill=\"#000000\" fill-rule=\"nonzero\" fill-opacity=\"1\" /><path clip-path=\"url(#clip710)\" d=\"M2019.17 1454.86 L2019.17 1481.74 L2024.82 1481.74 Q2031.97 1481.74 2035.28 1478.5 Q2038.62 1475.26 2038.62 1468.27 Q2038.62 1461.32 2035.28 1458.1 Q2031.97 1454.86 2024.82 1454.86 L2019.17 1454.86 M2014.5 1451.02 L2024.1 1451.02 Q2034.15 1451.02 2038.85 1455.21 Q2043.55 1459.38 2043.55 1468.27 Q2043.55 1477.2 2038.82 1481.39 Q2034.1 1485.58 2024.1 1485.58 L2014.5 1485.58 L2014.5 1451.02 Z\" fill=\"#000000\" fill-rule=\"nonzero\" fill-opacity=\"1\" /><path clip-path=\"url(#clip710)\" d=\"M1156.35 1524.18 L1156.35 1530.96 Q1153.1 1527.94 1149.41 1526.44 Q1145.75 1524.95 1141.61 1524.95 Q1133.46 1524.95 1129.13 1529.95 Q1124.8 1534.91 1124.8 1544.33 Q1124.8 1553.72 1129.13 1558.72 Q1133.46 1563.68 1141.61 1563.68 Q1145.75 1563.68 1149.41 1562.19 Q1153.1 1560.69 1156.35 1557.67 L1156.35 1564.38 Q1152.97 1566.68 1149.18 1567.82 Q1145.43 1568.97 1141.23 1568.97 Q1130.44 1568.97 1124.23 1562.38 Q1118.02 1555.76 1118.02 1544.33 Q1118.02 1532.87 1124.23 1526.28 Q1130.44 1519.66 1141.23 1519.66 Q1145.49 1519.66 1149.25 1520.81 Q1153.03 1521.92 1156.35 1524.18 Z\" fill=\"#000000\" fill-rule=\"nonzero\" fill-opacity=\"1\" /><path clip-path=\"url(#clip710)\" d=\"M1182.22 1550.12 Q1175.12 1550.12 1172.39 1551.75 Q1169.65 1553.37 1169.65 1557.29 Q1169.65 1560.4 1171.69 1562.25 Q1173.76 1564.07 1177.29 1564.07 Q1182.16 1564.07 1185.09 1560.63 Q1188.05 1557.16 1188.05 1551.43 L1188.05 1550.12 L1182.22 1550.12 M1193.9 1547.71 L1193.9 1568.04 L1188.05 1568.04 L1188.05 1562.63 Q1186.04 1565.88 1183.05 1567.44 Q1180.06 1568.97 1175.73 1568.97 Q1170.25 1568.97 1167.01 1565.91 Q1163.79 1562.82 1163.79 1557.67 Q1163.79 1551.65 1167.8 1548.6 Q1171.85 1545.54 1179.83 1545.54 L1188.05 1545.54 L1188.05 1544.97 Q1188.05 1540.93 1185.37 1538.73 Q1182.73 1536.5 1177.92 1536.5 Q1174.87 1536.5 1171.97 1537.23 Q1169.08 1537.97 1166.4 1539.43 L1166.4 1534.02 Q1169.62 1532.78 1172.64 1532.17 Q1175.66 1531.54 1178.53 1531.54 Q1186.26 1531.54 1190.08 1535.55 Q1193.9 1539.56 1193.9 1547.71 Z\" fill=\"#000000\" fill-rule=\"nonzero\" fill-opacity=\"1\" /><path clip-path=\"url(#clip710)\" d=\"M1211.76 1522.27 L1211.76 1532.4 L1223.82 1532.4 L1223.82 1536.95 L1211.76 1536.95 L1211.76 1556.3 Q1211.76 1560.66 1212.94 1561.9 Q1214.15 1563.14 1217.81 1563.14 L1223.82 1563.14 L1223.82 1568.04 L1217.81 1568.04 Q1211.03 1568.04 1208.45 1565.53 Q1205.87 1562.98 1205.87 1556.3 L1205.87 1536.95 L1201.57 1536.95 L1201.57 1532.4 L1205.87 1532.4 L1205.87 1522.27 L1211.76 1522.27 Z\" fill=\"#000000\" fill-rule=\"nonzero\" fill-opacity=\"1\" /><path clip-path=\"url(#clip710)\" d=\"M1262.02 1548.76 L1262.02 1551.62 L1235.09 1551.62 Q1235.47 1557.67 1238.72 1560.85 Q1242 1564 1247.82 1564 Q1251.19 1564 1254.35 1563.17 Q1257.53 1562.35 1260.65 1560.69 L1260.65 1566.23 Q1257.5 1567.57 1254.19 1568.27 Q1250.88 1568.97 1247.47 1568.97 Q1238.94 1568.97 1233.94 1564 Q1228.98 1559.04 1228.98 1550.57 Q1228.98 1541.82 1233.69 1536.69 Q1238.43 1531.54 1246.45 1531.54 Q1253.64 1531.54 1257.81 1536.18 Q1262.02 1540.8 1262.02 1548.76 M1256.16 1547.04 Q1256.1 1542.23 1253.45 1539.37 Q1250.84 1536.5 1246.52 1536.5 Q1241.61 1536.5 1238.65 1539.27 Q1235.73 1542.04 1235.28 1547.07 L1256.16 1547.04 Z\" fill=\"#000000\" fill-rule=\"nonzero\" fill-opacity=\"1\" /><path clip-path=\"url(#clip710)\" d=\"M1295.09 1549.81 Q1295.09 1543.44 1292.44 1539.94 Q1289.83 1536.44 1285.09 1536.44 Q1280.38 1536.44 1277.74 1539.94 Q1275.13 1543.44 1275.13 1549.81 Q1275.13 1556.14 1277.74 1559.64 Q1280.38 1563.14 1285.09 1563.14 Q1289.83 1563.14 1292.44 1559.64 Q1295.09 1556.14 1295.09 1549.81 M1300.94 1563.62 Q1300.94 1572.72 1296.9 1577.15 Q1292.86 1581.6 1284.52 1581.6 Q1281.43 1581.6 1278.69 1581.13 Q1275.96 1580.68 1273.38 1579.72 L1273.38 1574.03 Q1275.96 1575.43 1278.47 1576.1 Q1280.99 1576.76 1283.6 1576.76 Q1289.36 1576.76 1292.22 1573.74 Q1295.09 1570.75 1295.09 1564.67 L1295.09 1561.77 Q1293.27 1564.92 1290.44 1566.48 Q1287.61 1568.04 1283.66 1568.04 Q1277.1 1568.04 1273.09 1563.05 Q1269.08 1558.05 1269.08 1549.81 Q1269.08 1541.53 1273.09 1536.53 Q1277.1 1531.54 1283.66 1531.54 Q1287.61 1531.54 1290.44 1533.1 Q1293.27 1534.66 1295.09 1537.81 L1295.09 1532.4 L1300.94 1532.4 L1300.94 1563.62 Z\" fill=\"#000000\" fill-rule=\"nonzero\" fill-opacity=\"1\" /><path clip-path=\"url(#clip710)\" d=\"M1326.82 1536.5 Q1322.11 1536.5 1319.37 1540.19 Q1316.63 1543.85 1316.63 1550.25 Q1316.63 1556.65 1319.34 1560.34 Q1322.08 1564 1326.82 1564 Q1331.5 1564 1334.23 1560.31 Q1336.97 1556.62 1336.97 1550.25 Q1336.97 1543.92 1334.23 1540.23 Q1331.5 1536.5 1326.82 1536.5 M1326.82 1531.54 Q1334.46 1531.54 1338.82 1536.5 Q1343.18 1541.47 1343.18 1550.25 Q1343.18 1559 1338.82 1564 Q1334.46 1568.97 1326.82 1568.97 Q1319.15 1568.97 1314.79 1564 Q1310.46 1559 1310.46 1550.25 Q1310.46 1541.47 1314.79 1536.5 Q1319.15 1531.54 1326.82 1531.54 Z\" fill=\"#000000\" fill-rule=\"nonzero\" fill-opacity=\"1\" /><path clip-path=\"url(#clip710)\" d=\"M1373.54 1537.87 Q1372.56 1537.3 1371.38 1537.04 Q1370.23 1536.76 1368.83 1536.76 Q1363.87 1536.76 1361.19 1540 Q1358.55 1543.22 1358.55 1549.27 L1358.55 1568.04 L1352.66 1568.04 L1352.66 1532.4 L1358.55 1532.4 L1358.55 1537.93 Q1360.4 1534.69 1363.36 1533.13 Q1366.32 1531.54 1370.55 1531.54 Q1371.16 1531.54 1371.89 1531.63 Q1372.62 1531.7 1373.51 1531.85 L1373.54 1537.87 Z\" fill=\"#000000\" fill-rule=\"nonzero\" fill-opacity=\"1\" /><path clip-path=\"url(#clip710)\" d=\"M1394.52 1571.35 Q1392.04 1577.72 1389.68 1579.66 Q1387.32 1581.6 1383.38 1581.6 L1378.7 1581.6 L1378.7 1576.7 L1382.14 1576.7 Q1384.56 1576.7 1385.89 1575.56 Q1387.23 1574.41 1388.85 1570.14 L1389.9 1567.47 L1375.48 1532.4 L1381.69 1532.4 L1392.83 1560.28 L1403.97 1532.4 L1410.18 1532.4 L1394.52 1571.35 Z\" fill=\"#000000\" fill-rule=\"nonzero\" fill-opacity=\"1\" /><polyline clip-path=\"url(#clip710)\" style=\"stroke:#000000; stroke-linecap:round; stroke-linejoin:round; stroke-width:4; stroke-opacity:1; fill:none\" points=\"175.445,1423.18 175.445,123.472 \"/>\n",
       "<polyline clip-path=\"url(#clip710)\" style=\"stroke:#000000; stroke-linecap:round; stroke-linejoin:round; stroke-width:4; stroke-opacity:1; fill:none\" points=\"175.445,1423.18 194.343,1423.18 \"/>\n",
       "<polyline clip-path=\"url(#clip710)\" style=\"stroke:#000000; stroke-linecap:round; stroke-linejoin:round; stroke-width:4; stroke-opacity:1; fill:none\" points=\"175.445,1237.51 194.343,1237.51 \"/>\n",
       "<polyline clip-path=\"url(#clip710)\" style=\"stroke:#000000; stroke-linecap:round; stroke-linejoin:round; stroke-width:4; stroke-opacity:1; fill:none\" points=\"175.445,1051.83 194.343,1051.83 \"/>\n",
       "<polyline clip-path=\"url(#clip710)\" style=\"stroke:#000000; stroke-linecap:round; stroke-linejoin:round; stroke-width:4; stroke-opacity:1; fill:none\" points=\"175.445,866.162 194.343,866.162 \"/>\n",
       "<polyline clip-path=\"url(#clip710)\" style=\"stroke:#000000; stroke-linecap:round; stroke-linejoin:round; stroke-width:4; stroke-opacity:1; fill:none\" points=\"175.445,680.49 194.343,680.49 \"/>\n",
       "<polyline clip-path=\"url(#clip710)\" style=\"stroke:#000000; stroke-linecap:round; stroke-linejoin:round; stroke-width:4; stroke-opacity:1; fill:none\" points=\"175.445,494.817 194.343,494.817 \"/>\n",
       "<polyline clip-path=\"url(#clip710)\" style=\"stroke:#000000; stroke-linecap:round; stroke-linejoin:round; stroke-width:4; stroke-opacity:1; fill:none\" points=\"175.445,309.145 194.343,309.145 \"/>\n",
       "<polyline clip-path=\"url(#clip710)\" style=\"stroke:#000000; stroke-linecap:round; stroke-linejoin:round; stroke-width:4; stroke-opacity:1; fill:none\" points=\"175.445,123.472 194.343,123.472 \"/>\n",
       "<path clip-path=\"url(#clip710)\" d=\"M127.501 1408.98 Q123.89 1408.98 122.061 1412.54 Q120.255 1416.08 120.255 1423.21 Q120.255 1430.32 122.061 1433.89 Q123.89 1437.43 127.501 1437.43 Q131.135 1437.43 132.941 1433.89 Q134.769 1430.32 134.769 1423.21 Q134.769 1416.08 132.941 1412.54 Q131.135 1408.98 127.501 1408.98 M127.501 1405.27 Q133.311 1405.27 136.367 1409.88 Q139.445 1414.46 139.445 1423.21 Q139.445 1431.94 136.367 1436.55 Q133.311 1441.13 127.501 1441.13 Q121.691 1441.13 118.612 1436.55 Q115.556 1431.94 115.556 1423.21 Q115.556 1414.46 118.612 1409.88 Q121.691 1405.27 127.501 1405.27 Z\" fill=\"#000000\" fill-rule=\"nonzero\" fill-opacity=\"1\" /><path clip-path=\"url(#clip710)\" d=\"M119.538 1250.85 L127.177 1250.85 L127.177 1224.49 L118.867 1226.15 L118.867 1221.89 L127.13 1220.23 L131.806 1220.23 L131.806 1250.85 L139.445 1250.85 L139.445 1254.79 L119.538 1254.79 L119.538 1250.85 Z\" fill=\"#000000\" fill-rule=\"nonzero\" fill-opacity=\"1\" /><path clip-path=\"url(#clip710)\" d=\"M123.126 1065.18 L139.445 1065.18 L139.445 1069.11 L117.501 1069.11 L117.501 1065.18 Q120.163 1062.43 124.746 1057.8 Q129.353 1053.14 130.533 1051.8 Q132.779 1049.28 133.658 1047.54 Q134.561 1045.78 134.561 1044.09 Q134.561 1041.34 132.617 1039.6 Q130.695 1037.86 127.593 1037.86 Q125.394 1037.86 122.941 1038.63 Q120.51 1039.39 117.732 1040.94 L117.732 1036.22 Q120.556 1035.09 123.01 1034.51 Q125.464 1033.93 127.501 1033.93 Q132.871 1033.93 136.066 1036.61 Q139.26 1039.3 139.26 1043.79 Q139.26 1045.92 138.45 1047.84 Q137.663 1049.74 135.556 1052.33 Q134.978 1053 131.876 1056.22 Q128.774 1059.42 123.126 1065.18 Z\" fill=\"#000000\" fill-rule=\"nonzero\" fill-opacity=\"1\" /><path clip-path=\"url(#clip710)\" d=\"M132.316 864.808 Q135.672 865.526 137.547 867.794 Q139.445 870.063 139.445 873.396 Q139.445 878.512 135.927 881.313 Q132.408 884.114 125.927 884.114 Q123.751 884.114 121.436 883.674 Q119.144 883.257 116.691 882.401 L116.691 877.887 Q118.635 879.021 120.95 879.6 Q123.265 880.178 125.788 880.178 Q130.186 880.178 132.478 878.442 Q134.792 876.706 134.792 873.396 Q134.792 870.34 132.64 868.628 Q130.51 866.891 126.691 866.891 L122.663 866.891 L122.663 863.049 L126.876 863.049 Q130.325 863.049 132.154 861.683 Q133.982 860.294 133.982 857.702 Q133.982 855.04 132.084 853.628 Q130.209 852.192 126.691 852.192 Q124.769 852.192 122.57 852.609 Q120.371 853.026 117.732 853.905 L117.732 849.739 Q120.394 848.998 122.709 848.628 Q125.047 848.257 127.107 848.257 Q132.431 848.257 135.533 850.688 Q138.635 853.095 138.635 857.216 Q138.635 860.086 136.992 862.077 Q135.348 864.044 132.316 864.808 Z\" fill=\"#000000\" fill-rule=\"nonzero\" fill-opacity=\"1\" /><path clip-path=\"url(#clip710)\" d=\"M129.862 667.284 L118.056 685.733 L129.862 685.733 L129.862 667.284 M128.635 663.21 L134.515 663.21 L134.515 685.733 L139.445 685.733 L139.445 689.622 L134.515 689.622 L134.515 697.77 L129.862 697.77 L129.862 689.622 L114.26 689.622 L114.26 685.108 L128.635 663.21 Z\" fill=\"#000000\" fill-rule=\"nonzero\" fill-opacity=\"1\" /><path clip-path=\"url(#clip710)\" d=\"M118.543 477.537 L136.899 477.537 L136.899 481.472 L122.825 481.472 L122.825 489.945 Q123.843 489.597 124.862 489.435 Q125.88 489.25 126.899 489.25 Q132.686 489.25 136.066 492.421 Q139.445 495.593 139.445 501.009 Q139.445 506.588 135.973 509.69 Q132.501 512.768 126.181 512.768 Q124.005 512.768 121.737 512.398 Q119.492 512.028 117.084 511.287 L117.084 506.588 Q119.168 507.722 121.39 508.278 Q123.612 508.833 126.089 508.833 Q130.093 508.833 132.431 506.727 Q134.769 504.62 134.769 501.009 Q134.769 497.398 132.431 495.292 Q130.093 493.185 126.089 493.185 Q124.214 493.185 122.339 493.602 Q120.487 494.019 118.543 494.898 L118.543 477.537 Z\" fill=\"#000000\" fill-rule=\"nonzero\" fill-opacity=\"1\" /><path clip-path=\"url(#clip710)\" d=\"M127.917 307.281 Q124.769 307.281 122.918 309.434 Q121.089 311.587 121.089 315.337 Q121.089 319.064 122.918 321.239 Q124.769 323.392 127.917 323.392 Q131.066 323.392 132.894 321.239 Q134.746 319.064 134.746 315.337 Q134.746 311.587 132.894 309.434 Q131.066 307.281 127.917 307.281 M137.2 292.629 L137.2 296.888 Q135.441 296.054 133.635 295.615 Q131.853 295.175 130.093 295.175 Q125.464 295.175 123.01 298.3 Q120.58 301.425 120.232 307.744 Q121.598 305.73 123.658 304.666 Q125.718 303.578 128.195 303.578 Q133.404 303.578 136.413 306.749 Q139.445 309.897 139.445 315.337 Q139.445 320.661 136.297 323.878 Q133.149 327.096 127.917 327.096 Q121.922 327.096 118.751 322.513 Q115.58 317.906 115.58 309.179 Q115.58 300.985 119.468 296.124 Q123.357 291.24 129.908 291.24 Q131.667 291.24 133.45 291.587 Q135.255 291.934 137.2 292.629 Z\" fill=\"#000000\" fill-rule=\"nonzero\" fill-opacity=\"1\" /><path clip-path=\"url(#clip710)\" d=\"M117.223 106.192 L139.445 106.192 L139.445 108.183 L126.899 140.752 L122.015 140.752 L133.82 110.127 L117.223 110.127 L117.223 106.192 Z\" fill=\"#000000\" fill-rule=\"nonzero\" fill-opacity=\"1\" /><path clip-path=\"url(#clip710)\" d=\"M64.0042 842.696 L16.4842 860.839 L16.4842 854.123 L56.4926 839.068 L16.4842 823.981 L16.4842 817.297 L64.0042 835.408 L64.0042 842.696 Z\" fill=\"#000000\" fill-rule=\"nonzero\" fill-opacity=\"1\" /><path clip-path=\"url(#clip710)\" d=\"M46.0847 799.473 Q46.0847 806.571 47.7079 809.308 Q49.3312 812.045 53.2461 812.045 Q56.3653 812.045 58.2114 810.008 Q60.0256 807.94 60.0256 804.407 Q60.0256 799.537 56.5881 796.609 Q53.1188 793.649 47.3897 793.649 L46.0847 793.649 L46.0847 799.473 M43.6657 787.792 L64.0042 787.792 L64.0042 793.649 L58.5933 793.649 Q61.8398 795.654 63.3994 798.646 Q64.9272 801.637 64.9272 805.966 Q64.9272 811.441 61.8716 814.687 Q58.7843 817.902 53.6281 817.902 Q47.6125 817.902 44.5569 813.891 Q41.5014 809.849 41.5014 801.86 L41.5014 793.649 L40.9285 793.649 Q36.8862 793.649 34.6901 796.322 Q32.4621 798.964 32.4621 803.77 Q32.4621 806.826 33.1941 809.722 Q33.9262 812.618 35.3903 815.292 L29.9795 815.292 Q28.7381 812.077 28.1334 809.054 Q27.4968 806.03 27.4968 803.165 Q27.4968 795.431 31.5072 791.611 Q35.5176 787.792 43.6657 787.792 Z\" fill=\"#000000\" fill-rule=\"nonzero\" fill-opacity=\"1\" /><path clip-path=\"url(#clip710)\" d=\"M14.479 775.729 L14.479 769.873 L64.0042 769.873 L64.0042 775.729 L14.479 775.729 Z\" fill=\"#000000\" fill-rule=\"nonzero\" fill-opacity=\"1\" /><path clip-path=\"url(#clip710)\" d=\"M49.9359 758.223 L28.3562 758.223 L28.3562 752.367 L49.7131 752.367 Q54.7739 752.367 57.3202 750.394 Q59.8346 748.42 59.8346 744.473 Q59.8346 739.731 56.8109 736.994 Q53.7872 734.225 48.5673 734.225 L28.3562 734.225 L28.3562 728.368 L64.0042 728.368 L64.0042 734.225 L58.5296 734.225 Q61.7762 736.357 63.3676 739.19 Q64.9272 741.991 64.9272 745.715 Q64.9272 751.858 61.1078 755.04 Q57.2883 758.223 49.9359 758.223 M27.4968 743.487 L27.4968 743.487 Z\" fill=\"#000000\" fill-rule=\"nonzero\" fill-opacity=\"1\" /><path clip-path=\"url(#clip710)\" d=\"M44.7161 685.813 L47.5806 685.813 L47.5806 712.74 Q53.6281 712.358 56.8109 709.112 Q59.9619 705.834 59.9619 700.009 Q59.9619 696.635 59.1344 693.484 Q58.3069 690.301 56.6518 687.182 L62.1899 687.182 Q63.5267 690.333 64.227 693.643 Q64.9272 696.953 64.9272 700.359 Q64.9272 708.889 59.9619 713.886 Q54.9967 718.851 46.5303 718.851 Q37.7774 718.851 32.6531 714.141 Q27.4968 709.398 27.4968 701.378 Q27.4968 694.184 32.1438 690.015 Q36.7589 685.813 44.7161 685.813 M42.9973 691.67 Q38.1912 691.734 35.3266 694.375 Q32.4621 696.985 32.4621 701.314 Q32.4621 706.216 35.2312 709.176 Q38.0002 712.104 43.0292 712.549 L42.9973 691.67 Z\" fill=\"#000000\" fill-rule=\"nonzero\" fill-opacity=\"1\" /><path clip-path=\"url(#clip710)\" d=\"M1115.05 43.6931 L1115.05 65.8515 L1128.17 65.8515 Q1134.78 65.8515 1137.94 63.1374 Q1141.14 60.3828 1141.14 54.752 Q1141.14 49.0808 1137.94 46.4072 Q1134.78 43.6931 1128.17 43.6931 L1115.05 43.6931 M1115.05 18.8205 L1115.05 37.0496 L1127.16 37.0496 Q1133.16 37.0496 1136.07 34.8216 Q1139.03 32.5531 1139.03 27.935 Q1139.03 23.3575 1136.07 21.089 Q1133.16 18.8205 1127.16 18.8205 L1115.05 18.8205 M1106.86 12.096 L1127.77 12.096 Q1137.12 12.096 1142.19 15.9849 Q1147.25 19.8737 1147.25 27.0438 Q1147.25 32.5936 1144.66 35.8748 Q1142.07 39.156 1137.04 39.9662 Q1143.08 41.2625 1146.4 45.3944 Q1149.76 49.4858 1149.76 55.6432 Q1149.76 63.745 1144.25 68.1605 Q1138.75 72.576 1128.58 72.576 L1106.86 72.576 L1106.86 12.096 Z\" fill=\"#000000\" fill-rule=\"nonzero\" fill-opacity=\"1\" /><path clip-path=\"url(#clip710)\" d=\"M1184.07 49.7694 Q1175.04 49.7694 1171.56 51.8354 Q1168.07 53.9013 1168.07 58.8839 Q1168.07 62.8538 1170.67 65.2034 Q1173.3 67.5124 1177.8 67.5124 Q1183.99 67.5124 1187.72 63.1374 Q1191.49 58.7219 1191.49 51.4303 L1191.49 49.7694 L1184.07 49.7694 M1198.94 46.6907 L1198.94 72.576 L1191.49 72.576 L1191.49 65.6895 Q1188.94 69.8214 1185.13 71.8063 Q1181.32 73.7508 1175.81 73.7508 Q1168.84 73.7508 1164.71 69.8619 Q1160.62 65.9325 1160.62 59.3701 Q1160.62 51.7138 1165.72 47.825 Q1170.87 43.9361 1181.04 43.9361 L1191.49 43.9361 L1191.49 43.2069 Q1191.49 38.0623 1188.09 35.2672 Q1184.72 32.4315 1178.61 32.4315 Q1174.72 32.4315 1171.03 33.3632 Q1167.34 34.295 1163.94 36.1584 L1163.94 29.2718 Q1168.03 27.692 1171.88 26.9223 Q1175.73 26.1121 1179.38 26.1121 Q1189.22 26.1121 1194.08 31.2163 Q1198.94 36.3204 1198.94 46.6907 Z\" fill=\"#000000\" fill-rule=\"nonzero\" fill-opacity=\"1\" /><path clip-path=\"url(#clip710)\" d=\"M1240.59 34.1734 Q1239.33 33.4443 1237.83 33.1202 Q1236.37 32.7556 1234.59 32.7556 Q1228.27 32.7556 1224.87 36.8875 Q1221.51 40.9789 1221.51 48.6757 L1221.51 72.576 L1214.01 72.576 L1214.01 27.2059 L1221.51 27.2059 L1221.51 34.2544 Q1223.85 30.1225 1227.62 28.1376 Q1231.39 26.1121 1236.78 26.1121 Q1237.55 26.1121 1238.48 26.2337 Q1239.41 26.3147 1240.54 26.5172 L1240.59 34.1734 Z\" fill=\"#000000\" fill-rule=\"nonzero\" fill-opacity=\"1\" /><path clip-path=\"url(#clip710)\" d=\"M1283.28 18.8205 L1283.28 41.5461 L1293.57 41.5461 Q1299.28 41.5461 1302.4 38.5889 Q1305.52 35.6318 1305.52 30.163 Q1305.52 24.7348 1302.4 21.7777 Q1299.28 18.8205 1293.57 18.8205 L1283.28 18.8205 M1275.1 12.096 L1293.57 12.096 Q1303.74 12.096 1308.92 16.714 Q1314.15 21.2916 1314.15 30.163 Q1314.15 39.1155 1308.92 43.6931 Q1303.74 48.2706 1293.57 48.2706 L1283.28 48.2706 L1283.28 72.576 L1275.1 72.576 L1275.1 12.096 Z\" fill=\"#000000\" fill-rule=\"nonzero\" fill-opacity=\"1\" /><path clip-path=\"url(#clip710)\" d=\"M1324.8 9.54393 L1332.26 9.54393 L1332.26 72.576 L1324.8 72.576 L1324.8 9.54393 Z\" fill=\"#000000\" fill-rule=\"nonzero\" fill-opacity=\"1\" /><path clip-path=\"url(#clip710)\" d=\"M1365.43 32.4315 Q1359.44 32.4315 1355.95 37.1306 Q1352.47 41.7891 1352.47 49.9314 Q1352.47 58.0738 1355.91 62.7728 Q1359.4 67.4314 1365.43 67.4314 Q1371.39 67.4314 1374.87 62.7323 Q1378.36 58.0333 1378.36 49.9314 Q1378.36 41.8701 1374.87 37.1711 Q1371.39 32.4315 1365.43 32.4315 M1365.43 26.1121 Q1375.16 26.1121 1380.71 32.4315 Q1386.26 38.7509 1386.26 49.9314 Q1386.26 61.0714 1380.71 67.4314 Q1375.16 73.7508 1365.43 73.7508 Q1355.67 73.7508 1350.12 67.4314 Q1344.61 61.0714 1344.61 49.9314 Q1344.61 38.7509 1350.12 32.4315 Q1355.67 26.1121 1365.43 26.1121 Z\" fill=\"#000000\" fill-rule=\"nonzero\" fill-opacity=\"1\" /><path clip-path=\"url(#clip710)\" d=\"M1405.98 14.324 L1405.98 27.2059 L1421.34 27.2059 L1421.34 32.9987 L1405.98 32.9987 L1405.98 57.6282 Q1405.98 63.1779 1407.48 64.7578 Q1409.02 66.3376 1413.68 66.3376 L1421.34 66.3376 L1421.34 72.576 L1413.68 72.576 Q1405.05 72.576 1401.77 69.3758 Q1398.49 66.1351 1398.49 57.6282 L1398.49 32.9987 L1393.02 32.9987 L1393.02 27.2059 L1398.49 27.2059 L1398.49 14.324 L1405.98 14.324 Z\" fill=\"#000000\" fill-rule=\"nonzero\" fill-opacity=\"1\" /><path clip-path=\"url(#clip712)\" d=\"M295.201 494.817 L295.201 1423.18 L703.159 1423.18 L703.159 494.817 L295.201 494.817 L295.201 494.817  Z\" fill=\"#009af9\" fill-rule=\"evenodd\" fill-opacity=\"1\"/>\n",
       "<polyline clip-path=\"url(#clip712)\" style=\"stroke:#000000; stroke-linecap:round; stroke-linejoin:round; stroke-width:4; stroke-opacity:1; fill:none\" points=\"295.201,494.817 295.201,1423.18 703.159,1423.18 703.159,494.817 295.201,494.817 \"/>\n",
       "<path clip-path=\"url(#clip712)\" d=\"M805.148 123.472 L805.148 1423.18 L1213.11 1423.18 L1213.11 123.472 L805.148 123.472 L805.148 123.472  Z\" fill=\"#009af9\" fill-rule=\"evenodd\" fill-opacity=\"1\"/>\n",
       "<polyline clip-path=\"url(#clip712)\" style=\"stroke:#000000; stroke-linecap:round; stroke-linejoin:round; stroke-width:4; stroke-opacity:1; fill:none\" points=\"805.148,123.472 805.148,1423.18 1213.11,1423.18 1213.11,123.472 805.148,123.472 \"/>\n",
       "<path clip-path=\"url(#clip712)\" d=\"M1315.1 866.162 L1315.1 1423.18 L1723.05 1423.18 L1723.05 866.162 L1315.1 866.162 L1315.1 866.162  Z\" fill=\"#009af9\" fill-rule=\"evenodd\" fill-opacity=\"1\"/>\n",
       "<polyline clip-path=\"url(#clip712)\" style=\"stroke:#000000; stroke-linecap:round; stroke-linejoin:round; stroke-width:4; stroke-opacity:1; fill:none\" points=\"1315.1,866.162 1315.1,1423.18 1723.05,1423.18 1723.05,866.162 1315.1,866.162 \"/>\n",
       "<path clip-path=\"url(#clip712)\" d=\"M1825.04 309.145 L1825.04 1423.18 L2233 1423.18 L2233 309.145 L1825.04 309.145 L1825.04 309.145  Z\" fill=\"#009af9\" fill-rule=\"evenodd\" fill-opacity=\"1\"/>\n",
       "<polyline clip-path=\"url(#clip712)\" style=\"stroke:#000000; stroke-linecap:round; stroke-linejoin:round; stroke-width:4; stroke-opacity:1; fill:none\" points=\"1825.04,309.145 1825.04,1423.18 2233,1423.18 2233,309.145 1825.04,309.145 \"/>\n",
       "<circle clip-path=\"url(#clip712)\" style=\"fill:#009af9; stroke:none; fill-opacity:0\" cx=\"499.18\" cy=\"494.817\" r=\"2\"/>\n",
       "<circle clip-path=\"url(#clip712)\" style=\"fill:#009af9; stroke:none; fill-opacity:0\" cx=\"1009.13\" cy=\"123.472\" r=\"2\"/>\n",
       "<circle clip-path=\"url(#clip712)\" style=\"fill:#009af9; stroke:none; fill-opacity:0\" cx=\"1519.07\" cy=\"866.162\" r=\"2\"/>\n",
       "<circle clip-path=\"url(#clip712)\" style=\"fill:#009af9; stroke:none; fill-opacity:0\" cx=\"2029.02\" cy=\"309.145\" r=\"2\"/>\n",
       "</svg>\n"
      ],
      "text/html": [
       "<?xml version=\"1.0\" encoding=\"utf-8\"?>\n",
       "<svg xmlns=\"http://www.w3.org/2000/svg\" xmlns:xlink=\"http://www.w3.org/1999/xlink\" width=\"600\" height=\"400\" viewBox=\"0 0 2400 1600\">\n",
       "<defs>\n",
       "  <clipPath id=\"clip760\">\n",
       "    <rect x=\"0\" y=\"0\" width=\"2400\" height=\"1600\"/>\n",
       "  </clipPath>\n",
       "</defs>\n",
       "<path clip-path=\"url(#clip760)\" d=\"M0 1600 L2400 1600 L2400 0 L0 0  Z\" fill=\"#ffffff\" fill-rule=\"evenodd\" fill-opacity=\"1\"/>\n",
       "<defs>\n",
       "  <clipPath id=\"clip761\">\n",
       "    <rect x=\"480\" y=\"0\" width=\"1681\" height=\"1600\"/>\n",
       "  </clipPath>\n",
       "</defs>\n",
       "<path clip-path=\"url(#clip760)\" d=\"M175.445 1423.18 L2352.76 1423.18 L2352.76 123.472 L175.445 123.472  Z\" fill=\"#ffffff\" fill-rule=\"evenodd\" fill-opacity=\"1\"/>\n",
       "<defs>\n",
       "  <clipPath id=\"clip762\">\n",
       "    <rect x=\"175\" y=\"123\" width=\"2178\" height=\"1301\"/>\n",
       "  </clipPath>\n",
       "</defs>\n",
       "<polyline clip-path=\"url(#clip762)\" style=\"stroke:#000000; stroke-linecap:round; stroke-linejoin:round; stroke-width:2; stroke-opacity:0.1; fill:none\" points=\"499.18,1423.18 499.18,123.472 \"/>\n",
       "<polyline clip-path=\"url(#clip762)\" style=\"stroke:#000000; stroke-linecap:round; stroke-linejoin:round; stroke-width:2; stroke-opacity:0.1; fill:none\" points=\"1009.13,1423.18 1009.13,123.472 \"/>\n",
       "<polyline clip-path=\"url(#clip762)\" style=\"stroke:#000000; stroke-linecap:round; stroke-linejoin:round; stroke-width:2; stroke-opacity:0.1; fill:none\" points=\"1519.07,1423.18 1519.07,123.472 \"/>\n",
       "<polyline clip-path=\"url(#clip762)\" style=\"stroke:#000000; stroke-linecap:round; stroke-linejoin:round; stroke-width:2; stroke-opacity:0.1; fill:none\" points=\"2029.02,1423.18 2029.02,123.472 \"/>\n",
       "<polyline clip-path=\"url(#clip762)\" style=\"stroke:#000000; stroke-linecap:round; stroke-linejoin:round; stroke-width:2; stroke-opacity:0.1; fill:none\" points=\"175.445,1423.18 2352.76,1423.18 \"/>\n",
       "<polyline clip-path=\"url(#clip762)\" style=\"stroke:#000000; stroke-linecap:round; stroke-linejoin:round; stroke-width:2; stroke-opacity:0.1; fill:none\" points=\"175.445,1237.51 2352.76,1237.51 \"/>\n",
       "<polyline clip-path=\"url(#clip762)\" style=\"stroke:#000000; stroke-linecap:round; stroke-linejoin:round; stroke-width:2; stroke-opacity:0.1; fill:none\" points=\"175.445,1051.83 2352.76,1051.83 \"/>\n",
       "<polyline clip-path=\"url(#clip762)\" style=\"stroke:#000000; stroke-linecap:round; stroke-linejoin:round; stroke-width:2; stroke-opacity:0.1; fill:none\" points=\"175.445,866.162 2352.76,866.162 \"/>\n",
       "<polyline clip-path=\"url(#clip762)\" style=\"stroke:#000000; stroke-linecap:round; stroke-linejoin:round; stroke-width:2; stroke-opacity:0.1; fill:none\" points=\"175.445,680.49 2352.76,680.49 \"/>\n",
       "<polyline clip-path=\"url(#clip762)\" style=\"stroke:#000000; stroke-linecap:round; stroke-linejoin:round; stroke-width:2; stroke-opacity:0.1; fill:none\" points=\"175.445,494.817 2352.76,494.817 \"/>\n",
       "<polyline clip-path=\"url(#clip762)\" style=\"stroke:#000000; stroke-linecap:round; stroke-linejoin:round; stroke-width:2; stroke-opacity:0.1; fill:none\" points=\"175.445,309.145 2352.76,309.145 \"/>\n",
       "<polyline clip-path=\"url(#clip762)\" style=\"stroke:#000000; stroke-linecap:round; stroke-linejoin:round; stroke-width:2; stroke-opacity:0.1; fill:none\" points=\"175.445,123.472 2352.76,123.472 \"/>\n",
       "<polyline clip-path=\"url(#clip760)\" style=\"stroke:#000000; stroke-linecap:round; stroke-linejoin:round; stroke-width:4; stroke-opacity:1; fill:none\" points=\"175.445,1423.18 2352.76,1423.18 \"/>\n",
       "<polyline clip-path=\"url(#clip760)\" style=\"stroke:#000000; stroke-linecap:round; stroke-linejoin:round; stroke-width:4; stroke-opacity:1; fill:none\" points=\"499.18,1423.18 499.18,1404.28 \"/>\n",
       "<polyline clip-path=\"url(#clip760)\" style=\"stroke:#000000; stroke-linecap:round; stroke-linejoin:round; stroke-width:4; stroke-opacity:1; fill:none\" points=\"1009.13,1423.18 1009.13,1404.28 \"/>\n",
       "<polyline clip-path=\"url(#clip760)\" style=\"stroke:#000000; stroke-linecap:round; stroke-linejoin:round; stroke-width:4; stroke-opacity:1; fill:none\" points=\"1519.07,1423.18 1519.07,1404.28 \"/>\n",
       "<polyline clip-path=\"url(#clip760)\" style=\"stroke:#000000; stroke-linecap:round; stroke-linejoin:round; stroke-width:4; stroke-opacity:1; fill:none\" points=\"2029.02,1423.18 2029.02,1404.28 \"/>\n",
       "<path clip-path=\"url(#clip760)\" d=\"M499.18 1455.63 L492.837 1472.83 L505.546 1472.83 L499.18 1455.63 M496.541 1451.02 L501.842 1451.02 L515.013 1485.58 L510.152 1485.58 L507.004 1476.71 L491.425 1476.71 L488.277 1485.58 L483.347 1485.58 L496.541 1451.02 Z\" fill=\"#000000\" fill-rule=\"nonzero\" fill-opacity=\"1\" /><path clip-path=\"url(#clip760)\" d=\"M1001.55 1469.08 L1001.55 1481.74 L1009.05 1481.74 Q1012.82 1481.74 1014.62 1480.19 Q1016.45 1478.61 1016.45 1475.39 Q1016.45 1472.15 1014.62 1470.63 Q1012.82 1469.08 1009.05 1469.08 L1001.55 1469.08 M1001.55 1454.86 L1001.55 1465.28 L1008.47 1465.28 Q1011.89 1465.28 1013.56 1464.01 Q1015.25 1462.71 1015.25 1460.07 Q1015.25 1457.45 1013.56 1456.16 Q1011.89 1454.86 1008.47 1454.86 L1001.55 1454.86 M996.87 1451.02 L1008.81 1451.02 Q1014.16 1451.02 1017.06 1453.24 Q1019.95 1455.46 1019.95 1459.56 Q1019.95 1462.73 1018.47 1464.61 Q1016.99 1466.48 1014.12 1466.95 Q1017.56 1467.69 1019.46 1470.05 Q1021.38 1472.39 1021.38 1475.9 Q1021.38 1480.53 1018.24 1483.06 Q1015.09 1485.58 1009.28 1485.58 L996.87 1485.58 L996.87 1451.02 Z\" fill=\"#000000\" fill-rule=\"nonzero\" fill-opacity=\"1\" /><path clip-path=\"url(#clip760)\" d=\"M1533.01 1453.68 L1533.01 1458.61 Q1530.65 1456.41 1527.96 1455.33 Q1525.3 1454.24 1522.29 1454.24 Q1516.37 1454.24 1513.22 1457.87 Q1510.07 1461.48 1510.07 1468.33 Q1510.07 1475.16 1513.22 1478.8 Q1516.37 1482.41 1522.29 1482.41 Q1525.3 1482.41 1527.96 1481.32 Q1530.65 1480.23 1533.01 1478.03 L1533.01 1482.92 Q1530.56 1484.58 1527.8 1485.42 Q1525.07 1486.25 1522.01 1486.25 Q1514.17 1486.25 1509.65 1481.46 Q1505.14 1476.64 1505.14 1468.33 Q1505.14 1460 1509.65 1455.21 Q1514.17 1450.39 1522.01 1450.39 Q1525.12 1450.39 1527.85 1451.23 Q1530.6 1452.04 1533.01 1453.68 Z\" fill=\"#000000\" fill-rule=\"nonzero\" fill-opacity=\"1\" /><path clip-path=\"url(#clip760)\" d=\"M2019.17 1454.86 L2019.17 1481.74 L2024.82 1481.74 Q2031.97 1481.74 2035.28 1478.5 Q2038.62 1475.26 2038.62 1468.27 Q2038.62 1461.32 2035.28 1458.1 Q2031.97 1454.86 2024.82 1454.86 L2019.17 1454.86 M2014.5 1451.02 L2024.1 1451.02 Q2034.15 1451.02 2038.85 1455.21 Q2043.55 1459.38 2043.55 1468.27 Q2043.55 1477.2 2038.82 1481.39 Q2034.1 1485.58 2024.1 1485.58 L2014.5 1485.58 L2014.5 1451.02 Z\" fill=\"#000000\" fill-rule=\"nonzero\" fill-opacity=\"1\" /><path clip-path=\"url(#clip760)\" d=\"M1156.35 1524.18 L1156.35 1530.96 Q1153.1 1527.94 1149.41 1526.44 Q1145.75 1524.95 1141.61 1524.95 Q1133.46 1524.95 1129.13 1529.95 Q1124.8 1534.91 1124.8 1544.33 Q1124.8 1553.72 1129.13 1558.72 Q1133.46 1563.68 1141.61 1563.68 Q1145.75 1563.68 1149.41 1562.19 Q1153.1 1560.69 1156.35 1557.67 L1156.35 1564.38 Q1152.97 1566.68 1149.18 1567.82 Q1145.43 1568.97 1141.23 1568.97 Q1130.44 1568.97 1124.23 1562.38 Q1118.02 1555.76 1118.02 1544.33 Q1118.02 1532.87 1124.23 1526.28 Q1130.44 1519.66 1141.23 1519.66 Q1145.49 1519.66 1149.25 1520.81 Q1153.03 1521.92 1156.35 1524.18 Z\" fill=\"#000000\" fill-rule=\"nonzero\" fill-opacity=\"1\" /><path clip-path=\"url(#clip760)\" d=\"M1182.22 1550.12 Q1175.12 1550.12 1172.39 1551.75 Q1169.65 1553.37 1169.65 1557.29 Q1169.65 1560.4 1171.69 1562.25 Q1173.76 1564.07 1177.29 1564.07 Q1182.16 1564.07 1185.09 1560.63 Q1188.05 1557.16 1188.05 1551.43 L1188.05 1550.12 L1182.22 1550.12 M1193.9 1547.71 L1193.9 1568.04 L1188.05 1568.04 L1188.05 1562.63 Q1186.04 1565.88 1183.05 1567.44 Q1180.06 1568.97 1175.73 1568.97 Q1170.25 1568.97 1167.01 1565.91 Q1163.79 1562.82 1163.79 1557.67 Q1163.79 1551.65 1167.8 1548.6 Q1171.85 1545.54 1179.83 1545.54 L1188.05 1545.54 L1188.05 1544.97 Q1188.05 1540.93 1185.37 1538.73 Q1182.73 1536.5 1177.92 1536.5 Q1174.87 1536.5 1171.97 1537.23 Q1169.08 1537.97 1166.4 1539.43 L1166.4 1534.02 Q1169.62 1532.78 1172.64 1532.17 Q1175.66 1531.54 1178.53 1531.54 Q1186.26 1531.54 1190.08 1535.55 Q1193.9 1539.56 1193.9 1547.71 Z\" fill=\"#000000\" fill-rule=\"nonzero\" fill-opacity=\"1\" /><path clip-path=\"url(#clip760)\" d=\"M1211.76 1522.27 L1211.76 1532.4 L1223.82 1532.4 L1223.82 1536.95 L1211.76 1536.95 L1211.76 1556.3 Q1211.76 1560.66 1212.94 1561.9 Q1214.15 1563.14 1217.81 1563.14 L1223.82 1563.14 L1223.82 1568.04 L1217.81 1568.04 Q1211.03 1568.04 1208.45 1565.53 Q1205.87 1562.98 1205.87 1556.3 L1205.87 1536.95 L1201.57 1536.95 L1201.57 1532.4 L1205.87 1532.4 L1205.87 1522.27 L1211.76 1522.27 Z\" fill=\"#000000\" fill-rule=\"nonzero\" fill-opacity=\"1\" /><path clip-path=\"url(#clip760)\" d=\"M1262.02 1548.76 L1262.02 1551.62 L1235.09 1551.62 Q1235.47 1557.67 1238.72 1560.85 Q1242 1564 1247.82 1564 Q1251.19 1564 1254.35 1563.17 Q1257.53 1562.35 1260.65 1560.69 L1260.65 1566.23 Q1257.5 1567.57 1254.19 1568.27 Q1250.88 1568.97 1247.47 1568.97 Q1238.94 1568.97 1233.94 1564 Q1228.98 1559.04 1228.98 1550.57 Q1228.98 1541.82 1233.69 1536.69 Q1238.43 1531.54 1246.45 1531.54 Q1253.64 1531.54 1257.81 1536.18 Q1262.02 1540.8 1262.02 1548.76 M1256.16 1547.04 Q1256.1 1542.23 1253.45 1539.37 Q1250.84 1536.5 1246.52 1536.5 Q1241.61 1536.5 1238.65 1539.27 Q1235.73 1542.04 1235.28 1547.07 L1256.16 1547.04 Z\" fill=\"#000000\" fill-rule=\"nonzero\" fill-opacity=\"1\" /><path clip-path=\"url(#clip760)\" d=\"M1295.09 1549.81 Q1295.09 1543.44 1292.44 1539.94 Q1289.83 1536.44 1285.09 1536.44 Q1280.38 1536.44 1277.74 1539.94 Q1275.13 1543.44 1275.13 1549.81 Q1275.13 1556.14 1277.74 1559.64 Q1280.38 1563.14 1285.09 1563.14 Q1289.83 1563.14 1292.44 1559.64 Q1295.09 1556.14 1295.09 1549.81 M1300.94 1563.62 Q1300.94 1572.72 1296.9 1577.15 Q1292.86 1581.6 1284.52 1581.6 Q1281.43 1581.6 1278.69 1581.13 Q1275.96 1580.68 1273.38 1579.72 L1273.38 1574.03 Q1275.96 1575.43 1278.47 1576.1 Q1280.99 1576.76 1283.6 1576.76 Q1289.36 1576.76 1292.22 1573.74 Q1295.09 1570.75 1295.09 1564.67 L1295.09 1561.77 Q1293.27 1564.92 1290.44 1566.48 Q1287.61 1568.04 1283.66 1568.04 Q1277.1 1568.04 1273.09 1563.05 Q1269.08 1558.05 1269.08 1549.81 Q1269.08 1541.53 1273.09 1536.53 Q1277.1 1531.54 1283.66 1531.54 Q1287.61 1531.54 1290.44 1533.1 Q1293.27 1534.66 1295.09 1537.81 L1295.09 1532.4 L1300.94 1532.4 L1300.94 1563.62 Z\" fill=\"#000000\" fill-rule=\"nonzero\" fill-opacity=\"1\" /><path clip-path=\"url(#clip760)\" d=\"M1326.82 1536.5 Q1322.11 1536.5 1319.37 1540.19 Q1316.63 1543.85 1316.63 1550.25 Q1316.63 1556.65 1319.34 1560.34 Q1322.08 1564 1326.82 1564 Q1331.5 1564 1334.23 1560.31 Q1336.97 1556.62 1336.97 1550.25 Q1336.97 1543.92 1334.23 1540.23 Q1331.5 1536.5 1326.82 1536.5 M1326.82 1531.54 Q1334.46 1531.54 1338.82 1536.5 Q1343.18 1541.47 1343.18 1550.25 Q1343.18 1559 1338.82 1564 Q1334.46 1568.97 1326.82 1568.97 Q1319.15 1568.97 1314.79 1564 Q1310.46 1559 1310.46 1550.25 Q1310.46 1541.47 1314.79 1536.5 Q1319.15 1531.54 1326.82 1531.54 Z\" fill=\"#000000\" fill-rule=\"nonzero\" fill-opacity=\"1\" /><path clip-path=\"url(#clip760)\" d=\"M1373.54 1537.87 Q1372.56 1537.3 1371.38 1537.04 Q1370.23 1536.76 1368.83 1536.76 Q1363.87 1536.76 1361.19 1540 Q1358.55 1543.22 1358.55 1549.27 L1358.55 1568.04 L1352.66 1568.04 L1352.66 1532.4 L1358.55 1532.4 L1358.55 1537.93 Q1360.4 1534.69 1363.36 1533.13 Q1366.32 1531.54 1370.55 1531.54 Q1371.16 1531.54 1371.89 1531.63 Q1372.62 1531.7 1373.51 1531.85 L1373.54 1537.87 Z\" fill=\"#000000\" fill-rule=\"nonzero\" fill-opacity=\"1\" /><path clip-path=\"url(#clip760)\" d=\"M1394.52 1571.35 Q1392.04 1577.72 1389.68 1579.66 Q1387.32 1581.6 1383.38 1581.6 L1378.7 1581.6 L1378.7 1576.7 L1382.14 1576.7 Q1384.56 1576.7 1385.89 1575.56 Q1387.23 1574.41 1388.85 1570.14 L1389.9 1567.47 L1375.48 1532.4 L1381.69 1532.4 L1392.83 1560.28 L1403.97 1532.4 L1410.18 1532.4 L1394.52 1571.35 Z\" fill=\"#000000\" fill-rule=\"nonzero\" fill-opacity=\"1\" /><polyline clip-path=\"url(#clip760)\" style=\"stroke:#000000; stroke-linecap:round; stroke-linejoin:round; stroke-width:4; stroke-opacity:1; fill:none\" points=\"175.445,1423.18 175.445,123.472 \"/>\n",
       "<polyline clip-path=\"url(#clip760)\" style=\"stroke:#000000; stroke-linecap:round; stroke-linejoin:round; stroke-width:4; stroke-opacity:1; fill:none\" points=\"175.445,1423.18 194.343,1423.18 \"/>\n",
       "<polyline clip-path=\"url(#clip760)\" style=\"stroke:#000000; stroke-linecap:round; stroke-linejoin:round; stroke-width:4; stroke-opacity:1; fill:none\" points=\"175.445,1237.51 194.343,1237.51 \"/>\n",
       "<polyline clip-path=\"url(#clip760)\" style=\"stroke:#000000; stroke-linecap:round; stroke-linejoin:round; stroke-width:4; stroke-opacity:1; fill:none\" points=\"175.445,1051.83 194.343,1051.83 \"/>\n",
       "<polyline clip-path=\"url(#clip760)\" style=\"stroke:#000000; stroke-linecap:round; stroke-linejoin:round; stroke-width:4; stroke-opacity:1; fill:none\" points=\"175.445,866.162 194.343,866.162 \"/>\n",
       "<polyline clip-path=\"url(#clip760)\" style=\"stroke:#000000; stroke-linecap:round; stroke-linejoin:round; stroke-width:4; stroke-opacity:1; fill:none\" points=\"175.445,680.49 194.343,680.49 \"/>\n",
       "<polyline clip-path=\"url(#clip760)\" style=\"stroke:#000000; stroke-linecap:round; stroke-linejoin:round; stroke-width:4; stroke-opacity:1; fill:none\" points=\"175.445,494.817 194.343,494.817 \"/>\n",
       "<polyline clip-path=\"url(#clip760)\" style=\"stroke:#000000; stroke-linecap:round; stroke-linejoin:round; stroke-width:4; stroke-opacity:1; fill:none\" points=\"175.445,309.145 194.343,309.145 \"/>\n",
       "<polyline clip-path=\"url(#clip760)\" style=\"stroke:#000000; stroke-linecap:round; stroke-linejoin:round; stroke-width:4; stroke-opacity:1; fill:none\" points=\"175.445,123.472 194.343,123.472 \"/>\n",
       "<path clip-path=\"url(#clip760)\" d=\"M127.501 1408.98 Q123.89 1408.98 122.061 1412.54 Q120.255 1416.08 120.255 1423.21 Q120.255 1430.32 122.061 1433.89 Q123.89 1437.43 127.501 1437.43 Q131.135 1437.43 132.941 1433.89 Q134.769 1430.32 134.769 1423.21 Q134.769 1416.08 132.941 1412.54 Q131.135 1408.98 127.501 1408.98 M127.501 1405.27 Q133.311 1405.27 136.367 1409.88 Q139.445 1414.46 139.445 1423.21 Q139.445 1431.94 136.367 1436.55 Q133.311 1441.13 127.501 1441.13 Q121.691 1441.13 118.612 1436.55 Q115.556 1431.94 115.556 1423.21 Q115.556 1414.46 118.612 1409.88 Q121.691 1405.27 127.501 1405.27 Z\" fill=\"#000000\" fill-rule=\"nonzero\" fill-opacity=\"1\" /><path clip-path=\"url(#clip760)\" d=\"M119.538 1250.85 L127.177 1250.85 L127.177 1224.49 L118.867 1226.15 L118.867 1221.89 L127.13 1220.23 L131.806 1220.23 L131.806 1250.85 L139.445 1250.85 L139.445 1254.79 L119.538 1254.79 L119.538 1250.85 Z\" fill=\"#000000\" fill-rule=\"nonzero\" fill-opacity=\"1\" /><path clip-path=\"url(#clip760)\" d=\"M123.126 1065.18 L139.445 1065.18 L139.445 1069.11 L117.501 1069.11 L117.501 1065.18 Q120.163 1062.43 124.746 1057.8 Q129.353 1053.14 130.533 1051.8 Q132.779 1049.28 133.658 1047.54 Q134.561 1045.78 134.561 1044.09 Q134.561 1041.34 132.617 1039.6 Q130.695 1037.86 127.593 1037.86 Q125.394 1037.86 122.941 1038.63 Q120.51 1039.39 117.732 1040.94 L117.732 1036.22 Q120.556 1035.09 123.01 1034.51 Q125.464 1033.93 127.501 1033.93 Q132.871 1033.93 136.066 1036.61 Q139.26 1039.3 139.26 1043.79 Q139.26 1045.92 138.45 1047.84 Q137.663 1049.74 135.556 1052.33 Q134.978 1053 131.876 1056.22 Q128.774 1059.42 123.126 1065.18 Z\" fill=\"#000000\" fill-rule=\"nonzero\" fill-opacity=\"1\" /><path clip-path=\"url(#clip760)\" d=\"M132.316 864.808 Q135.672 865.526 137.547 867.794 Q139.445 870.063 139.445 873.396 Q139.445 878.512 135.927 881.313 Q132.408 884.114 125.927 884.114 Q123.751 884.114 121.436 883.674 Q119.144 883.257 116.691 882.401 L116.691 877.887 Q118.635 879.021 120.95 879.6 Q123.265 880.178 125.788 880.178 Q130.186 880.178 132.478 878.442 Q134.792 876.706 134.792 873.396 Q134.792 870.34 132.64 868.628 Q130.51 866.891 126.691 866.891 L122.663 866.891 L122.663 863.049 L126.876 863.049 Q130.325 863.049 132.154 861.683 Q133.982 860.294 133.982 857.702 Q133.982 855.04 132.084 853.628 Q130.209 852.192 126.691 852.192 Q124.769 852.192 122.57 852.609 Q120.371 853.026 117.732 853.905 L117.732 849.739 Q120.394 848.998 122.709 848.628 Q125.047 848.257 127.107 848.257 Q132.431 848.257 135.533 850.688 Q138.635 853.095 138.635 857.216 Q138.635 860.086 136.992 862.077 Q135.348 864.044 132.316 864.808 Z\" fill=\"#000000\" fill-rule=\"nonzero\" fill-opacity=\"1\" /><path clip-path=\"url(#clip760)\" d=\"M129.862 667.284 L118.056 685.733 L129.862 685.733 L129.862 667.284 M128.635 663.21 L134.515 663.21 L134.515 685.733 L139.445 685.733 L139.445 689.622 L134.515 689.622 L134.515 697.77 L129.862 697.77 L129.862 689.622 L114.26 689.622 L114.26 685.108 L128.635 663.21 Z\" fill=\"#000000\" fill-rule=\"nonzero\" fill-opacity=\"1\" /><path clip-path=\"url(#clip760)\" d=\"M118.543 477.537 L136.899 477.537 L136.899 481.472 L122.825 481.472 L122.825 489.945 Q123.843 489.597 124.862 489.435 Q125.88 489.25 126.899 489.25 Q132.686 489.25 136.066 492.421 Q139.445 495.593 139.445 501.009 Q139.445 506.588 135.973 509.69 Q132.501 512.768 126.181 512.768 Q124.005 512.768 121.737 512.398 Q119.492 512.028 117.084 511.287 L117.084 506.588 Q119.168 507.722 121.39 508.278 Q123.612 508.833 126.089 508.833 Q130.093 508.833 132.431 506.727 Q134.769 504.62 134.769 501.009 Q134.769 497.398 132.431 495.292 Q130.093 493.185 126.089 493.185 Q124.214 493.185 122.339 493.602 Q120.487 494.019 118.543 494.898 L118.543 477.537 Z\" fill=\"#000000\" fill-rule=\"nonzero\" fill-opacity=\"1\" /><path clip-path=\"url(#clip760)\" d=\"M127.917 307.281 Q124.769 307.281 122.918 309.434 Q121.089 311.587 121.089 315.337 Q121.089 319.064 122.918 321.239 Q124.769 323.392 127.917 323.392 Q131.066 323.392 132.894 321.239 Q134.746 319.064 134.746 315.337 Q134.746 311.587 132.894 309.434 Q131.066 307.281 127.917 307.281 M137.2 292.629 L137.2 296.888 Q135.441 296.054 133.635 295.615 Q131.853 295.175 130.093 295.175 Q125.464 295.175 123.01 298.3 Q120.58 301.425 120.232 307.744 Q121.598 305.73 123.658 304.666 Q125.718 303.578 128.195 303.578 Q133.404 303.578 136.413 306.749 Q139.445 309.897 139.445 315.337 Q139.445 320.661 136.297 323.878 Q133.149 327.096 127.917 327.096 Q121.922 327.096 118.751 322.513 Q115.58 317.906 115.58 309.179 Q115.58 300.985 119.468 296.124 Q123.357 291.24 129.908 291.24 Q131.667 291.24 133.45 291.587 Q135.255 291.934 137.2 292.629 Z\" fill=\"#000000\" fill-rule=\"nonzero\" fill-opacity=\"1\" /><path clip-path=\"url(#clip760)\" d=\"M117.223 106.192 L139.445 106.192 L139.445 108.183 L126.899 140.752 L122.015 140.752 L133.82 110.127 L117.223 110.127 L117.223 106.192 Z\" fill=\"#000000\" fill-rule=\"nonzero\" fill-opacity=\"1\" /><path clip-path=\"url(#clip760)\" d=\"M64.0042 842.696 L16.4842 860.839 L16.4842 854.123 L56.4926 839.068 L16.4842 823.981 L16.4842 817.297 L64.0042 835.408 L64.0042 842.696 Z\" fill=\"#000000\" fill-rule=\"nonzero\" fill-opacity=\"1\" /><path clip-path=\"url(#clip760)\" d=\"M46.0847 799.473 Q46.0847 806.571 47.7079 809.308 Q49.3312 812.045 53.2461 812.045 Q56.3653 812.045 58.2114 810.008 Q60.0256 807.94 60.0256 804.407 Q60.0256 799.537 56.5881 796.609 Q53.1188 793.649 47.3897 793.649 L46.0847 793.649 L46.0847 799.473 M43.6657 787.792 L64.0042 787.792 L64.0042 793.649 L58.5933 793.649 Q61.8398 795.654 63.3994 798.646 Q64.9272 801.637 64.9272 805.966 Q64.9272 811.441 61.8716 814.687 Q58.7843 817.902 53.6281 817.902 Q47.6125 817.902 44.5569 813.891 Q41.5014 809.849 41.5014 801.86 L41.5014 793.649 L40.9285 793.649 Q36.8862 793.649 34.6901 796.322 Q32.4621 798.964 32.4621 803.77 Q32.4621 806.826 33.1941 809.722 Q33.9262 812.618 35.3903 815.292 L29.9795 815.292 Q28.7381 812.077 28.1334 809.054 Q27.4968 806.03 27.4968 803.165 Q27.4968 795.431 31.5072 791.611 Q35.5176 787.792 43.6657 787.792 Z\" fill=\"#000000\" fill-rule=\"nonzero\" fill-opacity=\"1\" /><path clip-path=\"url(#clip760)\" d=\"M14.479 775.729 L14.479 769.873 L64.0042 769.873 L64.0042 775.729 L14.479 775.729 Z\" fill=\"#000000\" fill-rule=\"nonzero\" fill-opacity=\"1\" /><path clip-path=\"url(#clip760)\" d=\"M49.9359 758.223 L28.3562 758.223 L28.3562 752.367 L49.7131 752.367 Q54.7739 752.367 57.3202 750.394 Q59.8346 748.42 59.8346 744.473 Q59.8346 739.731 56.8109 736.994 Q53.7872 734.225 48.5673 734.225 L28.3562 734.225 L28.3562 728.368 L64.0042 728.368 L64.0042 734.225 L58.5296 734.225 Q61.7762 736.357 63.3676 739.19 Q64.9272 741.991 64.9272 745.715 Q64.9272 751.858 61.1078 755.04 Q57.2883 758.223 49.9359 758.223 M27.4968 743.487 L27.4968 743.487 Z\" fill=\"#000000\" fill-rule=\"nonzero\" fill-opacity=\"1\" /><path clip-path=\"url(#clip760)\" d=\"M44.7161 685.813 L47.5806 685.813 L47.5806 712.74 Q53.6281 712.358 56.8109 709.112 Q59.9619 705.834 59.9619 700.009 Q59.9619 696.635 59.1344 693.484 Q58.3069 690.301 56.6518 687.182 L62.1899 687.182 Q63.5267 690.333 64.227 693.643 Q64.9272 696.953 64.9272 700.359 Q64.9272 708.889 59.9619 713.886 Q54.9967 718.851 46.5303 718.851 Q37.7774 718.851 32.6531 714.141 Q27.4968 709.398 27.4968 701.378 Q27.4968 694.184 32.1438 690.015 Q36.7589 685.813 44.7161 685.813 M42.9973 691.67 Q38.1912 691.734 35.3266 694.375 Q32.4621 696.985 32.4621 701.314 Q32.4621 706.216 35.2312 709.176 Q38.0002 712.104 43.0292 712.549 L42.9973 691.67 Z\" fill=\"#000000\" fill-rule=\"nonzero\" fill-opacity=\"1\" /><path clip-path=\"url(#clip760)\" d=\"M1115.05 43.6931 L1115.05 65.8515 L1128.17 65.8515 Q1134.78 65.8515 1137.94 63.1374 Q1141.14 60.3828 1141.14 54.752 Q1141.14 49.0808 1137.94 46.4072 Q1134.78 43.6931 1128.17 43.6931 L1115.05 43.6931 M1115.05 18.8205 L1115.05 37.0496 L1127.16 37.0496 Q1133.16 37.0496 1136.07 34.8216 Q1139.03 32.5531 1139.03 27.935 Q1139.03 23.3575 1136.07 21.089 Q1133.16 18.8205 1127.16 18.8205 L1115.05 18.8205 M1106.86 12.096 L1127.77 12.096 Q1137.12 12.096 1142.19 15.9849 Q1147.25 19.8737 1147.25 27.0438 Q1147.25 32.5936 1144.66 35.8748 Q1142.07 39.156 1137.04 39.9662 Q1143.08 41.2625 1146.4 45.3944 Q1149.76 49.4858 1149.76 55.6432 Q1149.76 63.745 1144.25 68.1605 Q1138.75 72.576 1128.58 72.576 L1106.86 72.576 L1106.86 12.096 Z\" fill=\"#000000\" fill-rule=\"nonzero\" fill-opacity=\"1\" /><path clip-path=\"url(#clip760)\" d=\"M1184.07 49.7694 Q1175.04 49.7694 1171.56 51.8354 Q1168.07 53.9013 1168.07 58.8839 Q1168.07 62.8538 1170.67 65.2034 Q1173.3 67.5124 1177.8 67.5124 Q1183.99 67.5124 1187.72 63.1374 Q1191.49 58.7219 1191.49 51.4303 L1191.49 49.7694 L1184.07 49.7694 M1198.94 46.6907 L1198.94 72.576 L1191.49 72.576 L1191.49 65.6895 Q1188.94 69.8214 1185.13 71.8063 Q1181.32 73.7508 1175.81 73.7508 Q1168.84 73.7508 1164.71 69.8619 Q1160.62 65.9325 1160.62 59.3701 Q1160.62 51.7138 1165.72 47.825 Q1170.87 43.9361 1181.04 43.9361 L1191.49 43.9361 L1191.49 43.2069 Q1191.49 38.0623 1188.09 35.2672 Q1184.72 32.4315 1178.61 32.4315 Q1174.72 32.4315 1171.03 33.3632 Q1167.34 34.295 1163.94 36.1584 L1163.94 29.2718 Q1168.03 27.692 1171.88 26.9223 Q1175.73 26.1121 1179.38 26.1121 Q1189.22 26.1121 1194.08 31.2163 Q1198.94 36.3204 1198.94 46.6907 Z\" fill=\"#000000\" fill-rule=\"nonzero\" fill-opacity=\"1\" /><path clip-path=\"url(#clip760)\" d=\"M1240.59 34.1734 Q1239.33 33.4443 1237.83 33.1202 Q1236.37 32.7556 1234.59 32.7556 Q1228.27 32.7556 1224.87 36.8875 Q1221.51 40.9789 1221.51 48.6757 L1221.51 72.576 L1214.01 72.576 L1214.01 27.2059 L1221.51 27.2059 L1221.51 34.2544 Q1223.85 30.1225 1227.62 28.1376 Q1231.39 26.1121 1236.78 26.1121 Q1237.55 26.1121 1238.48 26.2337 Q1239.41 26.3147 1240.54 26.5172 L1240.59 34.1734 Z\" fill=\"#000000\" fill-rule=\"nonzero\" fill-opacity=\"1\" /><path clip-path=\"url(#clip760)\" d=\"M1283.28 18.8205 L1283.28 41.5461 L1293.57 41.5461 Q1299.28 41.5461 1302.4 38.5889 Q1305.52 35.6318 1305.52 30.163 Q1305.52 24.7348 1302.4 21.7777 Q1299.28 18.8205 1293.57 18.8205 L1283.28 18.8205 M1275.1 12.096 L1293.57 12.096 Q1303.74 12.096 1308.92 16.714 Q1314.15 21.2916 1314.15 30.163 Q1314.15 39.1155 1308.92 43.6931 Q1303.74 48.2706 1293.57 48.2706 L1283.28 48.2706 L1283.28 72.576 L1275.1 72.576 L1275.1 12.096 Z\" fill=\"#000000\" fill-rule=\"nonzero\" fill-opacity=\"1\" /><path clip-path=\"url(#clip760)\" d=\"M1324.8 9.54393 L1332.26 9.54393 L1332.26 72.576 L1324.8 72.576 L1324.8 9.54393 Z\" fill=\"#000000\" fill-rule=\"nonzero\" fill-opacity=\"1\" /><path clip-path=\"url(#clip760)\" d=\"M1365.43 32.4315 Q1359.44 32.4315 1355.95 37.1306 Q1352.47 41.7891 1352.47 49.9314 Q1352.47 58.0738 1355.91 62.7728 Q1359.4 67.4314 1365.43 67.4314 Q1371.39 67.4314 1374.87 62.7323 Q1378.36 58.0333 1378.36 49.9314 Q1378.36 41.8701 1374.87 37.1711 Q1371.39 32.4315 1365.43 32.4315 M1365.43 26.1121 Q1375.16 26.1121 1380.71 32.4315 Q1386.26 38.7509 1386.26 49.9314 Q1386.26 61.0714 1380.71 67.4314 Q1375.16 73.7508 1365.43 73.7508 Q1355.67 73.7508 1350.12 67.4314 Q1344.61 61.0714 1344.61 49.9314 Q1344.61 38.7509 1350.12 32.4315 Q1355.67 26.1121 1365.43 26.1121 Z\" fill=\"#000000\" fill-rule=\"nonzero\" fill-opacity=\"1\" /><path clip-path=\"url(#clip760)\" d=\"M1405.98 14.324 L1405.98 27.2059 L1421.34 27.2059 L1421.34 32.9987 L1405.98 32.9987 L1405.98 57.6282 Q1405.98 63.1779 1407.48 64.7578 Q1409.02 66.3376 1413.68 66.3376 L1421.34 66.3376 L1421.34 72.576 L1413.68 72.576 Q1405.05 72.576 1401.77 69.3758 Q1398.49 66.1351 1398.49 57.6282 L1398.49 32.9987 L1393.02 32.9987 L1393.02 27.2059 L1398.49 27.2059 L1398.49 14.324 L1405.98 14.324 Z\" fill=\"#000000\" fill-rule=\"nonzero\" fill-opacity=\"1\" /><path clip-path=\"url(#clip762)\" d=\"M295.201 494.817 L295.201 1423.18 L703.159 1423.18 L703.159 494.817 L295.201 494.817 L295.201 494.817  Z\" fill=\"#009af9\" fill-rule=\"evenodd\" fill-opacity=\"1\"/>\n",
       "<polyline clip-path=\"url(#clip762)\" style=\"stroke:#000000; stroke-linecap:round; stroke-linejoin:round; stroke-width:4; stroke-opacity:1; fill:none\" points=\"295.201,494.817 295.201,1423.18 703.159,1423.18 703.159,494.817 295.201,494.817 \"/>\n",
       "<path clip-path=\"url(#clip762)\" d=\"M805.148 123.472 L805.148 1423.18 L1213.11 1423.18 L1213.11 123.472 L805.148 123.472 L805.148 123.472  Z\" fill=\"#009af9\" fill-rule=\"evenodd\" fill-opacity=\"1\"/>\n",
       "<polyline clip-path=\"url(#clip762)\" style=\"stroke:#000000; stroke-linecap:round; stroke-linejoin:round; stroke-width:4; stroke-opacity:1; fill:none\" points=\"805.148,123.472 805.148,1423.18 1213.11,1423.18 1213.11,123.472 805.148,123.472 \"/>\n",
       "<path clip-path=\"url(#clip762)\" d=\"M1315.1 866.162 L1315.1 1423.18 L1723.05 1423.18 L1723.05 866.162 L1315.1 866.162 L1315.1 866.162  Z\" fill=\"#009af9\" fill-rule=\"evenodd\" fill-opacity=\"1\"/>\n",
       "<polyline clip-path=\"url(#clip762)\" style=\"stroke:#000000; stroke-linecap:round; stroke-linejoin:round; stroke-width:4; stroke-opacity:1; fill:none\" points=\"1315.1,866.162 1315.1,1423.18 1723.05,1423.18 1723.05,866.162 1315.1,866.162 \"/>\n",
       "<path clip-path=\"url(#clip762)\" d=\"M1825.04 309.145 L1825.04 1423.18 L2233 1423.18 L2233 309.145 L1825.04 309.145 L1825.04 309.145  Z\" fill=\"#009af9\" fill-rule=\"evenodd\" fill-opacity=\"1\"/>\n",
       "<polyline clip-path=\"url(#clip762)\" style=\"stroke:#000000; stroke-linecap:round; stroke-linejoin:round; stroke-width:4; stroke-opacity:1; fill:none\" points=\"1825.04,309.145 1825.04,1423.18 2233,1423.18 2233,309.145 1825.04,309.145 \"/>\n",
       "<circle clip-path=\"url(#clip762)\" style=\"fill:#009af9; stroke:none; fill-opacity:0\" cx=\"499.18\" cy=\"494.817\" r=\"2\"/>\n",
       "<circle clip-path=\"url(#clip762)\" style=\"fill:#009af9; stroke:none; fill-opacity:0\" cx=\"1009.13\" cy=\"123.472\" r=\"2\"/>\n",
       "<circle clip-path=\"url(#clip762)\" style=\"fill:#009af9; stroke:none; fill-opacity:0\" cx=\"1519.07\" cy=\"866.162\" r=\"2\"/>\n",
       "<circle clip-path=\"url(#clip762)\" style=\"fill:#009af9; stroke:none; fill-opacity:0\" cx=\"2029.02\" cy=\"309.145\" r=\"2\"/>\n",
       "</svg>\n"
      ]
     },
     "metadata": {},
     "output_type": "display_data"
    }
   ],
   "source": [
    "\n",
    "# Data\n",
    "categories = [\"A\", \"B\", \"C\", \"D\"]\n",
    "values = [5, 7, 3, 6]\n",
    "\n",
    "# Bar plot\n",
    "bar(categories, values, title=\"Bar Plot\", xlabel=\"Category\", ylabel=\"Value\", label=\"Values\", legend=false)"
   ]
  },
  {
   "cell_type": "code",
   "execution_count": 87,
   "metadata": {},
   "outputs": [
    {
     "data": {
      "image/png": "[encoded data removed]",
      "image/svg+xml": [
       "<?xml version=\"1.0\" encoding=\"utf-8\"?>\n",
       "<svg xmlns=\"http://www.w3.org/2000/svg\" xmlns:xlink=\"http://www.w3.org/1999/xlink\" width=\"600\" height=\"400\" viewBox=\"0 0 2400 1600\">\n",
       "<defs>\n",
       "  <clipPath id=\"clip980\">\n",
       "    <rect x=\"0\" y=\"0\" width=\"2400\" height=\"1600\"/>\n",
       "  </clipPath>\n",
       "</defs>\n",
       "<path clip-path=\"url(#clip980)\" d=\"M0 1600 L2400 1600 L2400 0 L0 0  Z\" fill=\"#ffffff\" fill-rule=\"evenodd\" fill-opacity=\"1\"/>\n",
       "<defs>\n",
       "  <clipPath id=\"clip981\">\n",
       "    <rect x=\"480\" y=\"0\" width=\"1681\" height=\"1600\"/>\n",
       "  </clipPath>\n",
       "</defs>\n",
       "<path clip-path=\"url(#clip980)\" d=\"M156.598 1486.45 L2352.76 1486.45 L2352.76 47.2441 L156.598 47.2441  Z\" fill=\"#ffffff\" fill-rule=\"evenodd\" fill-opacity=\"1\"/>\n",
       "<defs>\n",
       "  <clipPath id=\"clip982\">\n",
       "    <rect x=\"156\" y=\"47\" width=\"2197\" height=\"1440\"/>\n",
       "  </clipPath>\n",
       "</defs>\n",
       "<polyline clip-path=\"url(#clip982)\" style=\"stroke:#000000; stroke-linecap:round; stroke-linejoin:round; stroke-width:2; stroke-opacity:0.1; fill:none\" points=\"448.959,1486.45 448.959,47.2441 \"/>\n",
       "<polyline clip-path=\"url(#clip982)\" style=\"stroke:#000000; stroke-linecap:round; stroke-linejoin:round; stroke-width:2; stroke-opacity:0.1; fill:none\" points=\"909.369,1486.45 909.369,47.2441 \"/>\n",
       "<polyline clip-path=\"url(#clip982)\" style=\"stroke:#000000; stroke-linecap:round; stroke-linejoin:round; stroke-width:2; stroke-opacity:0.1; fill:none\" points=\"1369.78,1486.45 1369.78,47.2441 \"/>\n",
       "<polyline clip-path=\"url(#clip982)\" style=\"stroke:#000000; stroke-linecap:round; stroke-linejoin:round; stroke-width:2; stroke-opacity:0.1; fill:none\" points=\"1830.19,1486.45 1830.19,47.2441 \"/>\n",
       "<polyline clip-path=\"url(#clip982)\" style=\"stroke:#000000; stroke-linecap:round; stroke-linejoin:round; stroke-width:2; stroke-opacity:0.1; fill:none\" points=\"2290.6,1486.45 2290.6,47.2441 \"/>\n",
       "<polyline clip-path=\"url(#clip982)\" style=\"stroke:#000000; stroke-linecap:round; stroke-linejoin:round; stroke-width:2; stroke-opacity:0.1; fill:none\" points=\"156.598,1463.01 2352.76,1463.01 \"/>\n",
       "<polyline clip-path=\"url(#clip982)\" style=\"stroke:#000000; stroke-linecap:round; stroke-linejoin:round; stroke-width:2; stroke-opacity:0.1; fill:none\" points=\"156.598,1172.99 2352.76,1172.99 \"/>\n",
       "<polyline clip-path=\"url(#clip982)\" style=\"stroke:#000000; stroke-linecap:round; stroke-linejoin:round; stroke-width:2; stroke-opacity:0.1; fill:none\" points=\"156.598,882.981 2352.76,882.981 \"/>\n",
       "<polyline clip-path=\"url(#clip982)\" style=\"stroke:#000000; stroke-linecap:round; stroke-linejoin:round; stroke-width:2; stroke-opacity:0.1; fill:none\" points=\"156.598,592.968 2352.76,592.968 \"/>\n",
       "<polyline clip-path=\"url(#clip982)\" style=\"stroke:#000000; stroke-linecap:round; stroke-linejoin:round; stroke-width:2; stroke-opacity:0.1; fill:none\" points=\"156.598,302.954 2352.76,302.954 \"/>\n",
       "<polyline clip-path=\"url(#clip980)\" style=\"stroke:#000000; stroke-linecap:round; stroke-linejoin:round; stroke-width:4; stroke-opacity:1; fill:none\" points=\"156.598,1486.45 2352.76,1486.45 \"/>\n",
       "<polyline clip-path=\"url(#clip980)\" style=\"stroke:#000000; stroke-linecap:round; stroke-linejoin:round; stroke-width:4; stroke-opacity:1; fill:none\" points=\"448.959,1486.45 448.959,1467.55 \"/>\n",
       "<polyline clip-path=\"url(#clip980)\" style=\"stroke:#000000; stroke-linecap:round; stroke-linejoin:round; stroke-width:4; stroke-opacity:1; fill:none\" points=\"909.369,1486.45 909.369,1467.55 \"/>\n",
       "<polyline clip-path=\"url(#clip980)\" style=\"stroke:#000000; stroke-linecap:round; stroke-linejoin:round; stroke-width:4; stroke-opacity:1; fill:none\" points=\"1369.78,1486.45 1369.78,1467.55 \"/>\n",
       "<polyline clip-path=\"url(#clip980)\" style=\"stroke:#000000; stroke-linecap:round; stroke-linejoin:round; stroke-width:4; stroke-opacity:1; fill:none\" points=\"1830.19,1486.45 1830.19,1467.55 \"/>\n",
       "<polyline clip-path=\"url(#clip980)\" style=\"stroke:#000000; stroke-linecap:round; stroke-linejoin:round; stroke-width:4; stroke-opacity:1; fill:none\" points=\"2290.6,1486.45 2290.6,1467.55 \"/>\n",
       "<path clip-path=\"url(#clip980)\" d=\"M443.612 1544.91 L459.931 1544.91 L459.931 1548.85 L437.987 1548.85 L437.987 1544.91 Q440.649 1542.16 445.232 1537.53 Q449.838 1532.88 451.019 1531.53 Q453.264 1529.01 454.144 1527.27 Q455.047 1525.51 455.047 1523.82 Q455.047 1521.07 453.102 1519.33 Q451.181 1517.6 448.079 1517.6 Q445.88 1517.6 443.426 1518.36 Q440.996 1519.13 438.218 1520.68 L438.218 1515.95 Q441.042 1514.82 443.496 1514.24 Q445.95 1513.66 447.987 1513.66 Q453.357 1513.66 456.551 1516.35 Q459.746 1519.03 459.746 1523.52 Q459.746 1525.65 458.936 1527.57 Q458.149 1529.47 456.042 1532.07 Q455.463 1532.74 452.362 1535.95 Q449.26 1539.15 443.612 1544.91 Z\" fill=\"#000000\" fill-rule=\"nonzero\" fill-opacity=\"1\" /><path clip-path=\"url(#clip980)\" d=\"M912.379 1518.36 L900.573 1536.81 L912.379 1536.81 L912.379 1518.36 M911.152 1514.29 L917.031 1514.29 L917.031 1536.81 L921.962 1536.81 L921.962 1540.7 L917.031 1540.7 L917.031 1548.85 L912.379 1548.85 L912.379 1540.7 L896.777 1540.7 L896.777 1536.19 L911.152 1514.29 Z\" fill=\"#000000\" fill-rule=\"nonzero\" fill-opacity=\"1\" /><path clip-path=\"url(#clip980)\" d=\"M1370.18 1529.7 Q1367.04 1529.7 1365.18 1531.86 Q1363.36 1534.01 1363.36 1537.76 Q1363.36 1541.49 1365.18 1543.66 Q1367.04 1545.82 1370.18 1545.82 Q1373.33 1545.82 1375.16 1543.66 Q1377.01 1541.49 1377.01 1537.76 Q1377.01 1534.01 1375.16 1531.86 Q1373.33 1529.7 1370.18 1529.7 M1379.47 1515.05 L1379.47 1519.31 Q1377.71 1518.48 1375.9 1518.04 Q1374.12 1517.6 1372.36 1517.6 Q1367.73 1517.6 1365.28 1520.72 Q1362.85 1523.85 1362.5 1530.17 Q1363.87 1528.15 1365.93 1527.09 Q1367.99 1526 1370.46 1526 Q1375.67 1526 1378.68 1529.17 Q1381.71 1532.32 1381.71 1537.76 Q1381.71 1543.08 1378.56 1546.3 Q1375.42 1549.52 1370.18 1549.52 Q1364.19 1549.52 1361.02 1544.94 Q1357.85 1540.33 1357.85 1531.6 Q1357.85 1523.41 1361.74 1518.55 Q1365.62 1513.66 1372.18 1513.66 Q1373.93 1513.66 1375.72 1514.01 Q1377.52 1514.36 1379.47 1515.05 Z\" fill=\"#000000\" fill-rule=\"nonzero\" fill-opacity=\"1\" /><path clip-path=\"url(#clip980)\" d=\"M1830.19 1532.44 Q1826.86 1532.44 1824.94 1534.22 Q1823.04 1536 1823.04 1539.13 Q1823.04 1542.25 1824.94 1544.03 Q1826.86 1545.82 1830.19 1545.82 Q1833.52 1545.82 1835.44 1544.03 Q1837.37 1542.23 1837.37 1539.13 Q1837.37 1536 1835.44 1534.22 Q1833.55 1532.44 1830.19 1532.44 M1825.51 1530.45 Q1822.5 1529.7 1820.82 1527.64 Q1819.15 1525.58 1819.15 1522.62 Q1819.15 1518.48 1822.09 1516.07 Q1825.05 1513.66 1830.19 1513.66 Q1835.35 1513.66 1838.29 1516.07 Q1841.23 1518.48 1841.23 1522.62 Q1841.23 1525.58 1839.54 1527.64 Q1837.88 1529.7 1834.89 1530.45 Q1838.27 1531.23 1840.14 1533.52 Q1842.04 1535.82 1842.04 1539.13 Q1842.04 1544.15 1838.96 1546.83 Q1835.91 1549.52 1830.19 1549.52 Q1824.47 1549.52 1821.39 1546.83 Q1818.34 1544.15 1818.34 1539.13 Q1818.34 1535.82 1820.24 1533.52 Q1822.13 1531.23 1825.51 1530.45 M1823.8 1523.06 Q1823.8 1525.75 1825.47 1527.25 Q1827.16 1528.76 1830.19 1528.76 Q1833.2 1528.76 1834.89 1527.25 Q1836.6 1525.75 1836.6 1523.06 Q1836.6 1520.38 1834.89 1518.87 Q1833.2 1517.37 1830.19 1517.37 Q1827.16 1517.37 1825.47 1518.87 Q1823.8 1520.38 1823.8 1523.06 Z\" fill=\"#000000\" fill-rule=\"nonzero\" fill-opacity=\"1\" /><path clip-path=\"url(#clip980)\" d=\"M2265.29 1544.91 L2272.93 1544.91 L2272.93 1518.55 L2264.62 1520.21 L2264.62 1515.95 L2272.88 1514.29 L2277.56 1514.29 L2277.56 1544.91 L2285.2 1544.91 L2285.2 1548.85 L2265.29 1548.85 L2265.29 1544.91 Z\" fill=\"#000000\" fill-rule=\"nonzero\" fill-opacity=\"1\" /><path clip-path=\"url(#clip980)\" d=\"M2304.64 1517.37 Q2301.03 1517.37 2299.2 1520.93 Q2297.39 1524.47 2297.39 1531.6 Q2297.39 1538.71 2299.2 1542.27 Q2301.03 1545.82 2304.64 1545.82 Q2308.27 1545.82 2310.08 1542.27 Q2311.91 1538.71 2311.91 1531.6 Q2311.91 1524.47 2310.08 1520.93 Q2308.27 1517.37 2304.64 1517.37 M2304.64 1513.66 Q2310.45 1513.66 2313.51 1518.27 Q2316.58 1522.85 2316.58 1531.6 Q2316.58 1540.33 2313.51 1544.94 Q2310.45 1549.52 2304.64 1549.52 Q2298.83 1549.52 2295.75 1544.94 Q2292.7 1540.33 2292.7 1531.6 Q2292.7 1522.85 2295.75 1518.27 Q2298.83 1513.66 2304.64 1513.66 Z\" fill=\"#000000\" fill-rule=\"nonzero\" fill-opacity=\"1\" /><polyline clip-path=\"url(#clip980)\" style=\"stroke:#000000; stroke-linecap:round; stroke-linejoin:round; stroke-width:4; stroke-opacity:1; fill:none\" points=\"156.598,1486.45 156.598,47.2441 \"/>\n",
       "<polyline clip-path=\"url(#clip980)\" style=\"stroke:#000000; stroke-linecap:round; stroke-linejoin:round; stroke-width:4; stroke-opacity:1; fill:none\" points=\"156.598,1463.01 175.496,1463.01 \"/>\n",
       "<polyline clip-path=\"url(#clip980)\" style=\"stroke:#000000; stroke-linecap:round; stroke-linejoin:round; stroke-width:4; stroke-opacity:1; fill:none\" points=\"156.598,1172.99 175.496,1172.99 \"/>\n",
       "<polyline clip-path=\"url(#clip980)\" style=\"stroke:#000000; stroke-linecap:round; stroke-linejoin:round; stroke-width:4; stroke-opacity:1; fill:none\" points=\"156.598,882.981 175.496,882.981 \"/>\n",
       "<polyline clip-path=\"url(#clip980)\" style=\"stroke:#000000; stroke-linecap:round; stroke-linejoin:round; stroke-width:4; stroke-opacity:1; fill:none\" points=\"156.598,592.968 175.496,592.968 \"/>\n",
       "<polyline clip-path=\"url(#clip980)\" style=\"stroke:#000000; stroke-linecap:round; stroke-linejoin:round; stroke-width:4; stroke-opacity:1; fill:none\" points=\"156.598,302.954 175.496,302.954 \"/>\n",
       "<path clip-path=\"url(#clip980)\" d=\"M63.4226 1448.81 Q59.8115 1448.81 57.9828 1452.37 Q56.1773 1455.91 56.1773 1463.04 Q56.1773 1470.15 57.9828 1473.71 Q59.8115 1477.26 63.4226 1477.26 Q67.0569 1477.26 68.8624 1473.71 Q70.6911 1470.15 70.6911 1463.04 Q70.6911 1455.91 68.8624 1452.37 Q67.0569 1448.81 63.4226 1448.81 M63.4226 1445.1 Q69.2328 1445.1 72.2883 1449.71 Q75.367 1454.29 75.367 1463.04 Q75.367 1471.77 72.2883 1476.38 Q69.2328 1480.96 63.4226 1480.96 Q57.6125 1480.96 54.5338 1476.38 Q51.4782 1471.77 51.4782 1463.04 Q51.4782 1454.29 54.5338 1449.71 Q57.6125 1445.1 63.4226 1445.1 Z\" fill=\"#000000\" fill-rule=\"nonzero\" fill-opacity=\"1\" /><path clip-path=\"url(#clip980)\" d=\"M83.5845 1474.41 L88.4688 1474.41 L88.4688 1480.29 L83.5845 1480.29 L83.5845 1474.41 Z\" fill=\"#000000\" fill-rule=\"nonzero\" fill-opacity=\"1\" /><path clip-path=\"url(#clip980)\" d=\"M108.654 1448.81 Q105.043 1448.81 103.214 1452.37 Q101.409 1455.91 101.409 1463.04 Q101.409 1470.15 103.214 1473.71 Q105.043 1477.26 108.654 1477.26 Q112.288 1477.26 114.094 1473.71 Q115.922 1470.15 115.922 1463.04 Q115.922 1455.91 114.094 1452.37 Q112.288 1448.81 108.654 1448.81 M108.654 1445.1 Q114.464 1445.1 117.52 1449.71 Q120.598 1454.29 120.598 1463.04 Q120.598 1471.77 117.52 1476.38 Q114.464 1480.96 108.654 1480.96 Q102.844 1480.96 99.765 1476.38 Q96.7095 1471.77 96.7095 1463.04 Q96.7095 1454.29 99.765 1449.71 Q102.844 1445.1 108.654 1445.1 Z\" fill=\"#000000\" fill-rule=\"nonzero\" fill-opacity=\"1\" /><path clip-path=\"url(#clip980)\" d=\"M65.0198 1158.79 Q61.4087 1158.79 59.58 1162.36 Q57.7745 1165.9 57.7745 1173.03 Q57.7745 1180.14 59.58 1183.7 Q61.4087 1187.24 65.0198 1187.24 Q68.6541 1187.24 70.4596 1183.7 Q72.2883 1180.14 72.2883 1173.03 Q72.2883 1165.9 70.4596 1162.36 Q68.6541 1158.79 65.0198 1158.79 M65.0198 1155.09 Q70.83 1155.09 73.8855 1159.7 Q76.9642 1164.28 76.9642 1173.03 Q76.9642 1181.76 73.8855 1186.36 Q70.83 1190.95 65.0198 1190.95 Q59.2097 1190.95 56.131 1186.36 Q53.0754 1181.76 53.0754 1173.03 Q53.0754 1164.28 56.131 1159.7 Q59.2097 1155.09 65.0198 1155.09 Z\" fill=\"#000000\" fill-rule=\"nonzero\" fill-opacity=\"1\" /><path clip-path=\"url(#clip980)\" d=\"M85.1818 1184.39 L90.066 1184.39 L90.066 1190.27 L85.1818 1190.27 L85.1818 1184.39 Z\" fill=\"#000000\" fill-rule=\"nonzero\" fill-opacity=\"1\" /><path clip-path=\"url(#clip980)\" d=\"M104.279 1186.34 L120.598 1186.34 L120.598 1190.27 L98.6539 1190.27 L98.6539 1186.34 Q101.316 1183.58 105.899 1178.95 Q110.506 1174.3 111.686 1172.96 Q113.932 1170.44 114.811 1168.7 Q115.714 1166.94 115.714 1165.25 Q115.714 1162.5 113.77 1160.76 Q111.848 1159.02 108.746 1159.02 Q106.547 1159.02 104.094 1159.79 Q101.663 1160.55 98.8854 1162.1 L98.8854 1157.38 Q101.709 1156.25 104.163 1155.67 Q106.617 1155.09 108.654 1155.09 Q114.024 1155.09 117.219 1157.77 Q120.413 1160.46 120.413 1164.95 Q120.413 1167.08 119.603 1169 Q118.816 1170.9 116.709 1173.49 Q116.131 1174.16 113.029 1177.38 Q109.927 1180.58 104.279 1186.34 Z\" fill=\"#000000\" fill-rule=\"nonzero\" fill-opacity=\"1\" /><path clip-path=\"url(#clip980)\" d=\"M62.9365 868.78 Q59.3254 868.78 57.4967 872.345 Q55.6912 875.886 55.6912 883.016 Q55.6912 890.122 57.4967 893.687 Q59.3254 897.229 62.9365 897.229 Q66.5707 897.229 68.3763 893.687 Q70.205 890.122 70.205 883.016 Q70.205 875.886 68.3763 872.345 Q66.5707 868.78 62.9365 868.78 M62.9365 865.076 Q68.7467 865.076 71.8022 869.682 Q74.8809 874.266 74.8809 883.016 Q74.8809 891.743 71.8022 896.349 Q68.7467 900.932 62.9365 900.932 Q57.1264 900.932 54.0477 896.349 Q50.9921 891.743 50.9921 883.016 Q50.9921 874.266 54.0477 869.682 Q57.1264 865.076 62.9365 865.076 Z\" fill=\"#000000\" fill-rule=\"nonzero\" fill-opacity=\"1\" /><path clip-path=\"url(#clip980)\" d=\"M83.0984 894.381 L87.9827 894.381 L87.9827 900.261 L83.0984 900.261 L83.0984 894.381 Z\" fill=\"#000000\" fill-rule=\"nonzero\" fill-opacity=\"1\" /><path clip-path=\"url(#clip980)\" d=\"M111.015 869.775 L99.2095 888.224 L111.015 888.224 L111.015 869.775 M109.788 865.701 L115.668 865.701 L115.668 888.224 L120.598 888.224 L120.598 892.113 L115.668 892.113 L115.668 900.261 L111.015 900.261 L111.015 892.113 L95.4132 892.113 L95.4132 887.599 L109.788 865.701 Z\" fill=\"#000000\" fill-rule=\"nonzero\" fill-opacity=\"1\" /><path clip-path=\"url(#clip980)\" d=\"M63.2606 578.766 Q59.6495 578.766 57.8208 582.331 Q56.0152 585.873 56.0152 593.002 Q56.0152 600.109 57.8208 603.674 Q59.6495 607.215 63.2606 607.215 Q66.8948 607.215 68.7004 603.674 Q70.5291 600.109 70.5291 593.002 Q70.5291 585.873 68.7004 582.331 Q66.8948 578.766 63.2606 578.766 M63.2606 575.063 Q69.0707 575.063 72.1263 579.669 Q75.205 584.252 75.205 593.002 Q75.205 601.729 72.1263 606.336 Q69.0707 610.919 63.2606 610.919 Q57.4504 610.919 54.3717 606.336 Q51.3162 601.729 51.3162 593.002 Q51.3162 584.252 54.3717 579.669 Q57.4504 575.063 63.2606 575.063 Z\" fill=\"#000000\" fill-rule=\"nonzero\" fill-opacity=\"1\" /><path clip-path=\"url(#clip980)\" d=\"M83.4225 604.368 L88.3067 604.368 L88.3067 610.248 L83.4225 610.248 L83.4225 604.368 Z\" fill=\"#000000\" fill-rule=\"nonzero\" fill-opacity=\"1\" /><path clip-path=\"url(#clip980)\" d=\"M109.071 591.104 Q105.922 591.104 104.071 593.257 Q102.242 595.41 102.242 599.16 Q102.242 602.887 104.071 605.063 Q105.922 607.215 109.071 607.215 Q112.219 607.215 114.047 605.063 Q115.899 602.887 115.899 599.16 Q115.899 595.41 114.047 593.257 Q112.219 591.104 109.071 591.104 M118.353 576.452 L118.353 580.711 Q116.594 579.878 114.788 579.438 Q113.006 578.998 111.246 578.998 Q106.617 578.998 104.163 582.123 Q101.733 585.248 101.385 591.567 Q102.751 589.553 104.811 588.489 Q106.871 587.401 109.348 587.401 Q114.557 587.401 117.566 590.572 Q120.598 593.72 120.598 599.16 Q120.598 604.484 117.45 607.701 Q114.302 610.919 109.071 610.919 Q103.075 610.919 99.9039 606.336 Q96.7326 601.729 96.7326 593.002 Q96.7326 584.808 100.621 579.947 Q104.51 575.063 111.061 575.063 Q112.82 575.063 114.603 575.41 Q116.408 575.757 118.353 576.452 Z\" fill=\"#000000\" fill-rule=\"nonzero\" fill-opacity=\"1\" /><path clip-path=\"url(#clip980)\" d=\"M63.5152 288.753 Q59.9041 288.753 58.0754 292.318 Q56.2699 295.86 56.2699 302.989 Q56.2699 310.096 58.0754 313.66 Q59.9041 317.202 63.5152 317.202 Q67.1494 317.202 68.955 313.66 Q70.7837 310.096 70.7837 302.989 Q70.7837 295.86 68.955 292.318 Q67.1494 288.753 63.5152 288.753 M63.5152 285.049 Q69.3254 285.049 72.3809 289.656 Q75.4596 294.239 75.4596 302.989 Q75.4596 311.716 72.3809 316.322 Q69.3254 320.906 63.5152 320.906 Q57.7051 320.906 54.6264 316.322 Q51.5708 311.716 51.5708 302.989 Q51.5708 294.239 54.6264 289.656 Q57.7051 285.049 63.5152 285.049 Z\" fill=\"#000000\" fill-rule=\"nonzero\" fill-opacity=\"1\" /><path clip-path=\"url(#clip980)\" d=\"M83.6771 314.355 L88.5614 314.355 L88.5614 320.234 L83.6771 320.234 L83.6771 314.355 Z\" fill=\"#000000\" fill-rule=\"nonzero\" fill-opacity=\"1\" /><path clip-path=\"url(#clip980)\" d=\"M108.746 303.822 Q105.413 303.822 103.492 305.605 Q101.594 307.387 101.594 310.512 Q101.594 313.637 103.492 315.42 Q105.413 317.202 108.746 317.202 Q112.08 317.202 114.001 315.42 Q115.922 313.614 115.922 310.512 Q115.922 307.387 114.001 305.605 Q112.103 303.822 108.746 303.822 M104.071 301.832 Q101.061 301.091 99.3715 299.031 Q97.7048 296.971 97.7048 294.008 Q97.7048 289.864 100.645 287.457 Q103.608 285.049 108.746 285.049 Q113.908 285.049 116.848 287.457 Q119.788 289.864 119.788 294.008 Q119.788 296.971 118.098 299.031 Q116.432 301.091 113.445 301.832 Q116.825 302.619 118.7 304.91 Q120.598 307.202 120.598 310.512 Q120.598 315.535 117.52 318.221 Q114.464 320.906 108.746 320.906 Q103.029 320.906 99.9502 318.221 Q96.8947 315.535 96.8947 310.512 Q96.8947 307.202 98.7928 304.91 Q100.691 302.619 104.071 301.832 M102.358 294.448 Q102.358 297.133 104.024 298.637 Q105.714 300.142 108.746 300.142 Q111.756 300.142 113.445 298.637 Q115.158 297.133 115.158 294.448 Q115.158 291.762 113.445 290.258 Q111.756 288.753 108.746 288.753 Q105.714 288.753 104.024 290.258 Q102.358 291.762 102.358 294.448 Z\" fill=\"#000000\" fill-rule=\"nonzero\" fill-opacity=\"1\" /><polyline clip-path=\"url(#clip982)\" style=\"stroke:#009af9; stroke-linecap:round; stroke-linejoin:round; stroke-width:8; stroke-opacity:1; fill:none\" points=\"218.754,1294.52 448.959,926.87 679.164,632.299 909.369,1160.08 1139.57,687.581 1369.78,390.716 1599.98,1195.24 1830.19,1243.78 2060.4,1110.45 2290.6,208.508 \"/>\n",
       "<polyline clip-path=\"url(#clip982)\" style=\"stroke:#e26f46; stroke-linecap:round; stroke-linejoin:round; stroke-width:8; stroke-opacity:1; fill:none\" stroke-dasharray=\"32, 20\" points=\"218.754,1411.69 448.959,927.584 679.164,331.453 909.369,1033.17 1139.57,87.9763 1369.78,337.679 1599.98,900.85 1830.19,226.172 2060.4,1445.72 2290.6,1361.38 \"/>\n",
       "<path clip-path=\"url(#clip980)\" d=\"M229.803 250.738 L584.419 250.738 L584.419 95.2176 L229.803 95.2176  Z\" fill=\"#ffffff\" fill-rule=\"evenodd\" fill-opacity=\"1\"/>\n",
       "<polyline clip-path=\"url(#clip980)\" style=\"stroke:#000000; stroke-linecap:round; stroke-linejoin:round; stroke-width:4; stroke-opacity:1; fill:none\" points=\"229.803,250.738 584.419,250.738 584.419,95.2176 229.803,95.2176 229.803,250.738 \"/>\n",
       "<polyline clip-path=\"url(#clip980)\" style=\"stroke:#009af9; stroke-linecap:round; stroke-linejoin:round; stroke-width:8; stroke-opacity:1; fill:none\" points=\"254.205,147.058 400.616,147.058 \"/>\n",
       "<path clip-path=\"url(#clip980)\" d=\"M425.018 129.778 L429.693 129.778 L429.693 160.402 L446.522 160.402 L446.522 164.338 L425.018 164.338 L425.018 129.778 Z\" fill=\"#000000\" fill-rule=\"nonzero\" fill-opacity=\"1\" /><path clip-path=\"url(#clip980)\" d=\"M451.244 138.412 L455.503 138.412 L455.503 164.338 L451.244 164.338 L451.244 138.412 M451.244 128.319 L455.503 128.319 L455.503 133.713 L451.244 133.713 L451.244 128.319 Z\" fill=\"#000000\" fill-rule=\"nonzero\" fill-opacity=\"1\" /><path clip-path=\"url(#clip980)\" d=\"M485.966 148.689 L485.966 164.338 L481.707 164.338 L481.707 148.828 Q481.707 145.148 480.272 143.319 Q478.837 141.49 475.966 141.49 Q472.517 141.49 470.527 143.69 Q468.536 145.889 468.536 149.685 L468.536 164.338 L464.253 164.338 L464.253 138.412 L468.536 138.412 L468.536 142.44 Q470.064 140.102 472.124 138.944 Q474.207 137.787 476.915 137.787 Q481.383 137.787 483.675 140.565 Q485.966 143.319 485.966 148.689 Z\" fill=\"#000000\" fill-rule=\"nonzero\" fill-opacity=\"1\" /><path clip-path=\"url(#clip980)\" d=\"M516.637 150.31 L516.637 152.393 L497.054 152.393 Q497.332 156.791 499.693 159.106 Q502.077 161.398 506.313 161.398 Q508.767 161.398 511.059 160.796 Q513.374 160.194 515.642 158.99 L515.642 163.018 Q513.35 163.99 510.943 164.5 Q508.536 165.009 506.059 165.009 Q499.855 165.009 496.221 161.398 Q492.61 157.787 492.61 151.629 Q492.61 145.264 496.036 141.537 Q499.485 137.787 505.318 137.787 Q510.549 137.787 513.582 141.166 Q516.637 144.523 516.637 150.31 M512.378 149.06 Q512.332 145.565 510.411 143.481 Q508.512 141.398 505.364 141.398 Q501.8 141.398 499.647 143.412 Q497.517 145.426 497.193 149.083 L512.378 149.06 Z\" fill=\"#000000\" fill-rule=\"nonzero\" fill-opacity=\"1\" /><path clip-path=\"url(#clip980)\" d=\"M540.109 160.402 L547.748 160.402 L547.748 134.037 L539.438 135.703 L539.438 131.444 L547.702 129.778 L552.378 129.778 L552.378 160.402 L560.017 160.402 L560.017 164.338 L540.109 164.338 L540.109 160.402 Z\" fill=\"#000000\" fill-rule=\"nonzero\" fill-opacity=\"1\" /><polyline clip-path=\"url(#clip980)\" style=\"stroke:#e26f46; stroke-linecap:round; stroke-linejoin:round; stroke-width:8; stroke-opacity:1; fill:none\" stroke-dasharray=\"32, 20\" points=\"254.205,198.898 400.616,198.898 \"/>\n",
       "<path clip-path=\"url(#clip980)\" d=\"M425.018 181.618 L429.693 181.618 L429.693 212.242 L446.522 212.242 L446.522 216.178 L425.018 216.178 L425.018 181.618 Z\" fill=\"#000000\" fill-rule=\"nonzero\" fill-opacity=\"1\" /><path clip-path=\"url(#clip980)\" d=\"M451.244 190.252 L455.503 190.252 L455.503 216.178 L451.244 216.178 L451.244 190.252 M451.244 180.159 L455.503 180.159 L455.503 185.553 L451.244 185.553 L451.244 180.159 Z\" fill=\"#000000\" fill-rule=\"nonzero\" fill-opacity=\"1\" /><path clip-path=\"url(#clip980)\" d=\"M485.966 200.529 L485.966 216.178 L481.707 216.178 L481.707 200.668 Q481.707 196.988 480.272 195.159 Q478.837 193.33 475.966 193.33 Q472.517 193.33 470.527 195.53 Q468.536 197.729 468.536 201.525 L468.536 216.178 L464.253 216.178 L464.253 190.252 L468.536 190.252 L468.536 194.28 Q470.064 191.942 472.124 190.784 Q474.207 189.627 476.915 189.627 Q481.383 189.627 483.675 192.405 Q485.966 195.159 485.966 200.529 Z\" fill=\"#000000\" fill-rule=\"nonzero\" fill-opacity=\"1\" /><path clip-path=\"url(#clip980)\" d=\"M516.637 202.15 L516.637 204.233 L497.054 204.233 Q497.332 208.631 499.693 210.946 Q502.077 213.238 506.313 213.238 Q508.767 213.238 511.059 212.636 Q513.374 212.034 515.642 210.83 L515.642 214.858 Q513.35 215.83 510.943 216.34 Q508.536 216.849 506.059 216.849 Q499.855 216.849 496.221 213.238 Q492.61 209.627 492.61 203.469 Q492.61 197.104 496.036 193.377 Q499.485 189.627 505.318 189.627 Q510.549 189.627 513.582 193.006 Q516.637 196.363 516.637 202.15 M512.378 200.9 Q512.332 197.405 510.411 195.321 Q508.512 193.238 505.364 193.238 Q501.8 193.238 499.647 195.252 Q497.517 197.266 497.193 200.923 L512.378 200.9 Z\" fill=\"#000000\" fill-rule=\"nonzero\" fill-opacity=\"1\" /><path clip-path=\"url(#clip980)\" d=\"M543.327 212.242 L559.646 212.242 L559.646 216.178 L537.702 216.178 L537.702 212.242 Q540.364 209.488 544.947 204.858 Q549.554 200.205 550.734 198.863 Q552.98 196.34 553.859 194.604 Q554.762 192.844 554.762 191.155 Q554.762 188.4 552.818 186.664 Q550.896 184.928 547.795 184.928 Q545.596 184.928 543.142 185.692 Q540.711 186.455 537.934 188.006 L537.934 183.284 Q540.758 182.15 543.211 181.571 Q545.665 180.993 547.702 180.993 Q553.072 180.993 556.267 183.678 Q559.461 186.363 559.461 190.854 Q559.461 192.983 558.651 194.905 Q557.864 196.803 555.758 199.395 Q555.179 200.067 552.077 203.284 Q548.975 206.479 543.327 212.242 Z\" fill=\"#000000\" fill-rule=\"nonzero\" fill-opacity=\"1\" /></svg>\n"
      ],
      "text/html": [
       "<?xml version=\"1.0\" encoding=\"utf-8\"?>\n",
       "<svg xmlns=\"http://www.w3.org/2000/svg\" xmlns:xlink=\"http://www.w3.org/1999/xlink\" width=\"600\" height=\"400\" viewBox=\"0 0 2400 1600\">\n",
       "<defs>\n",
       "  <clipPath id=\"clip030\">\n",
       "    <rect x=\"0\" y=\"0\" width=\"2400\" height=\"1600\"/>\n",
       "  </clipPath>\n",
       "</defs>\n",
       "<path clip-path=\"url(#clip030)\" d=\"M0 1600 L2400 1600 L2400 0 L0 0  Z\" fill=\"#ffffff\" fill-rule=\"evenodd\" fill-opacity=\"1\"/>\n",
       "<defs>\n",
       "  <clipPath id=\"clip031\">\n",
       "    <rect x=\"480\" y=\"0\" width=\"1681\" height=\"1600\"/>\n",
       "  </clipPath>\n",
       "</defs>\n",
       "<path clip-path=\"url(#clip030)\" d=\"M156.598 1486.45 L2352.76 1486.45 L2352.76 47.2441 L156.598 47.2441  Z\" fill=\"#ffffff\" fill-rule=\"evenodd\" fill-opacity=\"1\"/>\n",
       "<defs>\n",
       "  <clipPath id=\"clip032\">\n",
       "    <rect x=\"156\" y=\"47\" width=\"2197\" height=\"1440\"/>\n",
       "  </clipPath>\n",
       "</defs>\n",
       "<polyline clip-path=\"url(#clip032)\" style=\"stroke:#000000; stroke-linecap:round; stroke-linejoin:round; stroke-width:2; stroke-opacity:0.1; fill:none\" points=\"448.959,1486.45 448.959,47.2441 \"/>\n",
       "<polyline clip-path=\"url(#clip032)\" style=\"stroke:#000000; stroke-linecap:round; stroke-linejoin:round; stroke-width:2; stroke-opacity:0.1; fill:none\" points=\"909.369,1486.45 909.369,47.2441 \"/>\n",
       "<polyline clip-path=\"url(#clip032)\" style=\"stroke:#000000; stroke-linecap:round; stroke-linejoin:round; stroke-width:2; stroke-opacity:0.1; fill:none\" points=\"1369.78,1486.45 1369.78,47.2441 \"/>\n",
       "<polyline clip-path=\"url(#clip032)\" style=\"stroke:#000000; stroke-linecap:round; stroke-linejoin:round; stroke-width:2; stroke-opacity:0.1; fill:none\" points=\"1830.19,1486.45 1830.19,47.2441 \"/>\n",
       "<polyline clip-path=\"url(#clip032)\" style=\"stroke:#000000; stroke-linecap:round; stroke-linejoin:round; stroke-width:2; stroke-opacity:0.1; fill:none\" points=\"2290.6,1486.45 2290.6,47.2441 \"/>\n",
       "<polyline clip-path=\"url(#clip032)\" style=\"stroke:#000000; stroke-linecap:round; stroke-linejoin:round; stroke-width:2; stroke-opacity:0.1; fill:none\" points=\"156.598,1463.01 2352.76,1463.01 \"/>\n",
       "<polyline clip-path=\"url(#clip032)\" style=\"stroke:#000000; stroke-linecap:round; stroke-linejoin:round; stroke-width:2; stroke-opacity:0.1; fill:none\" points=\"156.598,1172.99 2352.76,1172.99 \"/>\n",
       "<polyline clip-path=\"url(#clip032)\" style=\"stroke:#000000; stroke-linecap:round; stroke-linejoin:round; stroke-width:2; stroke-opacity:0.1; fill:none\" points=\"156.598,882.981 2352.76,882.981 \"/>\n",
       "<polyline clip-path=\"url(#clip032)\" style=\"stroke:#000000; stroke-linecap:round; stroke-linejoin:round; stroke-width:2; stroke-opacity:0.1; fill:none\" points=\"156.598,592.968 2352.76,592.968 \"/>\n",
       "<polyline clip-path=\"url(#clip032)\" style=\"stroke:#000000; stroke-linecap:round; stroke-linejoin:round; stroke-width:2; stroke-opacity:0.1; fill:none\" points=\"156.598,302.954 2352.76,302.954 \"/>\n",
       "<polyline clip-path=\"url(#clip030)\" style=\"stroke:#000000; stroke-linecap:round; stroke-linejoin:round; stroke-width:4; stroke-opacity:1; fill:none\" points=\"156.598,1486.45 2352.76,1486.45 \"/>\n",
       "<polyline clip-path=\"url(#clip030)\" style=\"stroke:#000000; stroke-linecap:round; stroke-linejoin:round; stroke-width:4; stroke-opacity:1; fill:none\" points=\"448.959,1486.45 448.959,1467.55 \"/>\n",
       "<polyline clip-path=\"url(#clip030)\" style=\"stroke:#000000; stroke-linecap:round; stroke-linejoin:round; stroke-width:4; stroke-opacity:1; fill:none\" points=\"909.369,1486.45 909.369,1467.55 \"/>\n",
       "<polyline clip-path=\"url(#clip030)\" style=\"stroke:#000000; stroke-linecap:round; stroke-linejoin:round; stroke-width:4; stroke-opacity:1; fill:none\" points=\"1369.78,1486.45 1369.78,1467.55 \"/>\n",
       "<polyline clip-path=\"url(#clip030)\" style=\"stroke:#000000; stroke-linecap:round; stroke-linejoin:round; stroke-width:4; stroke-opacity:1; fill:none\" points=\"1830.19,1486.45 1830.19,1467.55 \"/>\n",
       "<polyline clip-path=\"url(#clip030)\" style=\"stroke:#000000; stroke-linecap:round; stroke-linejoin:round; stroke-width:4; stroke-opacity:1; fill:none\" points=\"2290.6,1486.45 2290.6,1467.55 \"/>\n",
       "<path clip-path=\"url(#clip030)\" d=\"M443.612 1544.91 L459.931 1544.91 L459.931 1548.85 L437.987 1548.85 L437.987 1544.91 Q440.649 1542.16 445.232 1537.53 Q449.838 1532.88 451.019 1531.53 Q453.264 1529.01 454.144 1527.27 Q455.047 1525.51 455.047 1523.82 Q455.047 1521.07 453.102 1519.33 Q451.181 1517.6 448.079 1517.6 Q445.88 1517.6 443.426 1518.36 Q440.996 1519.13 438.218 1520.68 L438.218 1515.95 Q441.042 1514.82 443.496 1514.24 Q445.95 1513.66 447.987 1513.66 Q453.357 1513.66 456.551 1516.35 Q459.746 1519.03 459.746 1523.52 Q459.746 1525.65 458.936 1527.57 Q458.149 1529.47 456.042 1532.07 Q455.463 1532.74 452.362 1535.95 Q449.26 1539.15 443.612 1544.91 Z\" fill=\"#000000\" fill-rule=\"nonzero\" fill-opacity=\"1\" /><path clip-path=\"url(#clip030)\" d=\"M912.379 1518.36 L900.573 1536.81 L912.379 1536.81 L912.379 1518.36 M911.152 1514.29 L917.031 1514.29 L917.031 1536.81 L921.962 1536.81 L921.962 1540.7 L917.031 1540.7 L917.031 1548.85 L912.379 1548.85 L912.379 1540.7 L896.777 1540.7 L896.777 1536.19 L911.152 1514.29 Z\" fill=\"#000000\" fill-rule=\"nonzero\" fill-opacity=\"1\" /><path clip-path=\"url(#clip030)\" d=\"M1370.18 1529.7 Q1367.04 1529.7 1365.18 1531.86 Q1363.36 1534.01 1363.36 1537.76 Q1363.36 1541.49 1365.18 1543.66 Q1367.04 1545.82 1370.18 1545.82 Q1373.33 1545.82 1375.16 1543.66 Q1377.01 1541.49 1377.01 1537.76 Q1377.01 1534.01 1375.16 1531.86 Q1373.33 1529.7 1370.18 1529.7 M1379.47 1515.05 L1379.47 1519.31 Q1377.71 1518.48 1375.9 1518.04 Q1374.12 1517.6 1372.36 1517.6 Q1367.73 1517.6 1365.28 1520.72 Q1362.85 1523.85 1362.5 1530.17 Q1363.87 1528.15 1365.93 1527.09 Q1367.99 1526 1370.46 1526 Q1375.67 1526 1378.68 1529.17 Q1381.71 1532.32 1381.71 1537.76 Q1381.71 1543.08 1378.56 1546.3 Q1375.42 1549.52 1370.18 1549.52 Q1364.19 1549.52 1361.02 1544.94 Q1357.85 1540.33 1357.85 1531.6 Q1357.85 1523.41 1361.74 1518.55 Q1365.62 1513.66 1372.18 1513.66 Q1373.93 1513.66 1375.72 1514.01 Q1377.52 1514.36 1379.47 1515.05 Z\" fill=\"#000000\" fill-rule=\"nonzero\" fill-opacity=\"1\" /><path clip-path=\"url(#clip030)\" d=\"M1830.19 1532.44 Q1826.86 1532.44 1824.94 1534.22 Q1823.04 1536 1823.04 1539.13 Q1823.04 1542.25 1824.94 1544.03 Q1826.86 1545.82 1830.19 1545.82 Q1833.52 1545.82 1835.44 1544.03 Q1837.37 1542.23 1837.37 1539.13 Q1837.37 1536 1835.44 1534.22 Q1833.55 1532.44 1830.19 1532.44 M1825.51 1530.45 Q1822.5 1529.7 1820.82 1527.64 Q1819.15 1525.58 1819.15 1522.62 Q1819.15 1518.48 1822.09 1516.07 Q1825.05 1513.66 1830.19 1513.66 Q1835.35 1513.66 1838.29 1516.07 Q1841.23 1518.48 1841.23 1522.62 Q1841.23 1525.58 1839.54 1527.64 Q1837.88 1529.7 1834.89 1530.45 Q1838.27 1531.23 1840.14 1533.52 Q1842.04 1535.82 1842.04 1539.13 Q1842.04 1544.15 1838.96 1546.83 Q1835.91 1549.52 1830.19 1549.52 Q1824.47 1549.52 1821.39 1546.83 Q1818.34 1544.15 1818.34 1539.13 Q1818.34 1535.82 1820.24 1533.52 Q1822.13 1531.23 1825.51 1530.45 M1823.8 1523.06 Q1823.8 1525.75 1825.47 1527.25 Q1827.16 1528.76 1830.19 1528.76 Q1833.2 1528.76 1834.89 1527.25 Q1836.6 1525.75 1836.6 1523.06 Q1836.6 1520.38 1834.89 1518.87 Q1833.2 1517.37 1830.19 1517.37 Q1827.16 1517.37 1825.47 1518.87 Q1823.8 1520.38 1823.8 1523.06 Z\" fill=\"#000000\" fill-rule=\"nonzero\" fill-opacity=\"1\" /><path clip-path=\"url(#clip030)\" d=\"M2265.29 1544.91 L2272.93 1544.91 L2272.93 1518.55 L2264.62 1520.21 L2264.62 1515.95 L2272.88 1514.29 L2277.56 1514.29 L2277.56 1544.91 L2285.2 1544.91 L2285.2 1548.85 L2265.29 1548.85 L2265.29 1544.91 Z\" fill=\"#000000\" fill-rule=\"nonzero\" fill-opacity=\"1\" /><path clip-path=\"url(#clip030)\" d=\"M2304.64 1517.37 Q2301.03 1517.37 2299.2 1520.93 Q2297.39 1524.47 2297.39 1531.6 Q2297.39 1538.71 2299.2 1542.27 Q2301.03 1545.82 2304.64 1545.82 Q2308.27 1545.82 2310.08 1542.27 Q2311.91 1538.71 2311.91 1531.6 Q2311.91 1524.47 2310.08 1520.93 Q2308.27 1517.37 2304.64 1517.37 M2304.64 1513.66 Q2310.45 1513.66 2313.51 1518.27 Q2316.58 1522.85 2316.58 1531.6 Q2316.58 1540.33 2313.51 1544.94 Q2310.45 1549.52 2304.64 1549.52 Q2298.83 1549.52 2295.75 1544.94 Q2292.7 1540.33 2292.7 1531.6 Q2292.7 1522.85 2295.75 1518.27 Q2298.83 1513.66 2304.64 1513.66 Z\" fill=\"#000000\" fill-rule=\"nonzero\" fill-opacity=\"1\" /><polyline clip-path=\"url(#clip030)\" style=\"stroke:#000000; stroke-linecap:round; stroke-linejoin:round; stroke-width:4; stroke-opacity:1; fill:none\" points=\"156.598,1486.45 156.598,47.2441 \"/>\n",
       "<polyline clip-path=\"url(#clip030)\" style=\"stroke:#000000; stroke-linecap:round; stroke-linejoin:round; stroke-width:4; stroke-opacity:1; fill:none\" points=\"156.598,1463.01 175.496,1463.01 \"/>\n",
       "<polyline clip-path=\"url(#clip030)\" style=\"stroke:#000000; stroke-linecap:round; stroke-linejoin:round; stroke-width:4; stroke-opacity:1; fill:none\" points=\"156.598,1172.99 175.496,1172.99 \"/>\n",
       "<polyline clip-path=\"url(#clip030)\" style=\"stroke:#000000; stroke-linecap:round; stroke-linejoin:round; stroke-width:4; stroke-opacity:1; fill:none\" points=\"156.598,882.981 175.496,882.981 \"/>\n",
       "<polyline clip-path=\"url(#clip030)\" style=\"stroke:#000000; stroke-linecap:round; stroke-linejoin:round; stroke-width:4; stroke-opacity:1; fill:none\" points=\"156.598,592.968 175.496,592.968 \"/>\n",
       "<polyline clip-path=\"url(#clip030)\" style=\"stroke:#000000; stroke-linecap:round; stroke-linejoin:round; stroke-width:4; stroke-opacity:1; fill:none\" points=\"156.598,302.954 175.496,302.954 \"/>\n",
       "<path clip-path=\"url(#clip030)\" d=\"M63.4226 1448.81 Q59.8115 1448.81 57.9828 1452.37 Q56.1773 1455.91 56.1773 1463.04 Q56.1773 1470.15 57.9828 1473.71 Q59.8115 1477.26 63.4226 1477.26 Q67.0569 1477.26 68.8624 1473.71 Q70.6911 1470.15 70.6911 1463.04 Q70.6911 1455.91 68.8624 1452.37 Q67.0569 1448.81 63.4226 1448.81 M63.4226 1445.1 Q69.2328 1445.1 72.2883 1449.71 Q75.367 1454.29 75.367 1463.04 Q75.367 1471.77 72.2883 1476.38 Q69.2328 1480.96 63.4226 1480.96 Q57.6125 1480.96 54.5338 1476.38 Q51.4782 1471.77 51.4782 1463.04 Q51.4782 1454.29 54.5338 1449.71 Q57.6125 1445.1 63.4226 1445.1 Z\" fill=\"#000000\" fill-rule=\"nonzero\" fill-opacity=\"1\" /><path clip-path=\"url(#clip030)\" d=\"M83.5845 1474.41 L88.4688 1474.41 L88.4688 1480.29 L83.5845 1480.29 L83.5845 1474.41 Z\" fill=\"#000000\" fill-rule=\"nonzero\" fill-opacity=\"1\" /><path clip-path=\"url(#clip030)\" d=\"M108.654 1448.81 Q105.043 1448.81 103.214 1452.37 Q101.409 1455.91 101.409 1463.04 Q101.409 1470.15 103.214 1473.71 Q105.043 1477.26 108.654 1477.26 Q112.288 1477.26 114.094 1473.71 Q115.922 1470.15 115.922 1463.04 Q115.922 1455.91 114.094 1452.37 Q112.288 1448.81 108.654 1448.81 M108.654 1445.1 Q114.464 1445.1 117.52 1449.71 Q120.598 1454.29 120.598 1463.04 Q120.598 1471.77 117.52 1476.38 Q114.464 1480.96 108.654 1480.96 Q102.844 1480.96 99.765 1476.38 Q96.7095 1471.77 96.7095 1463.04 Q96.7095 1454.29 99.765 1449.71 Q102.844 1445.1 108.654 1445.1 Z\" fill=\"#000000\" fill-rule=\"nonzero\" fill-opacity=\"1\" /><path clip-path=\"url(#clip030)\" d=\"M65.0198 1158.79 Q61.4087 1158.79 59.58 1162.36 Q57.7745 1165.9 57.7745 1173.03 Q57.7745 1180.14 59.58 1183.7 Q61.4087 1187.24 65.0198 1187.24 Q68.6541 1187.24 70.4596 1183.7 Q72.2883 1180.14 72.2883 1173.03 Q72.2883 1165.9 70.4596 1162.36 Q68.6541 1158.79 65.0198 1158.79 M65.0198 1155.09 Q70.83 1155.09 73.8855 1159.7 Q76.9642 1164.28 76.9642 1173.03 Q76.9642 1181.76 73.8855 1186.36 Q70.83 1190.95 65.0198 1190.95 Q59.2097 1190.95 56.131 1186.36 Q53.0754 1181.76 53.0754 1173.03 Q53.0754 1164.28 56.131 1159.7 Q59.2097 1155.09 65.0198 1155.09 Z\" fill=\"#000000\" fill-rule=\"nonzero\" fill-opacity=\"1\" /><path clip-path=\"url(#clip030)\" d=\"M85.1818 1184.39 L90.066 1184.39 L90.066 1190.27 L85.1818 1190.27 L85.1818 1184.39 Z\" fill=\"#000000\" fill-rule=\"nonzero\" fill-opacity=\"1\" /><path clip-path=\"url(#clip030)\" d=\"M104.279 1186.34 L120.598 1186.34 L120.598 1190.27 L98.6539 1190.27 L98.6539 1186.34 Q101.316 1183.58 105.899 1178.95 Q110.506 1174.3 111.686 1172.96 Q113.932 1170.44 114.811 1168.7 Q115.714 1166.94 115.714 1165.25 Q115.714 1162.5 113.77 1160.76 Q111.848 1159.02 108.746 1159.02 Q106.547 1159.02 104.094 1159.79 Q101.663 1160.55 98.8854 1162.1 L98.8854 1157.38 Q101.709 1156.25 104.163 1155.67 Q106.617 1155.09 108.654 1155.09 Q114.024 1155.09 117.219 1157.77 Q120.413 1160.46 120.413 1164.95 Q120.413 1167.08 119.603 1169 Q118.816 1170.9 116.709 1173.49 Q116.131 1174.16 113.029 1177.38 Q109.927 1180.58 104.279 1186.34 Z\" fill=\"#000000\" fill-rule=\"nonzero\" fill-opacity=\"1\" /><path clip-path=\"url(#clip030)\" d=\"M62.9365 868.78 Q59.3254 868.78 57.4967 872.345 Q55.6912 875.886 55.6912 883.016 Q55.6912 890.122 57.4967 893.687 Q59.3254 897.229 62.9365 897.229 Q66.5707 897.229 68.3763 893.687 Q70.205 890.122 70.205 883.016 Q70.205 875.886 68.3763 872.345 Q66.5707 868.78 62.9365 868.78 M62.9365 865.076 Q68.7467 865.076 71.8022 869.682 Q74.8809 874.266 74.8809 883.016 Q74.8809 891.743 71.8022 896.349 Q68.7467 900.932 62.9365 900.932 Q57.1264 900.932 54.0477 896.349 Q50.9921 891.743 50.9921 883.016 Q50.9921 874.266 54.0477 869.682 Q57.1264 865.076 62.9365 865.076 Z\" fill=\"#000000\" fill-rule=\"nonzero\" fill-opacity=\"1\" /><path clip-path=\"url(#clip030)\" d=\"M83.0984 894.381 L87.9827 894.381 L87.9827 900.261 L83.0984 900.261 L83.0984 894.381 Z\" fill=\"#000000\" fill-rule=\"nonzero\" fill-opacity=\"1\" /><path clip-path=\"url(#clip030)\" d=\"M111.015 869.775 L99.2095 888.224 L111.015 888.224 L111.015 869.775 M109.788 865.701 L115.668 865.701 L115.668 888.224 L120.598 888.224 L120.598 892.113 L115.668 892.113 L115.668 900.261 L111.015 900.261 L111.015 892.113 L95.4132 892.113 L95.4132 887.599 L109.788 865.701 Z\" fill=\"#000000\" fill-rule=\"nonzero\" fill-opacity=\"1\" /><path clip-path=\"url(#clip030)\" d=\"M63.2606 578.766 Q59.6495 578.766 57.8208 582.331 Q56.0152 585.873 56.0152 593.002 Q56.0152 600.109 57.8208 603.674 Q59.6495 607.215 63.2606 607.215 Q66.8948 607.215 68.7004 603.674 Q70.5291 600.109 70.5291 593.002 Q70.5291 585.873 68.7004 582.331 Q66.8948 578.766 63.2606 578.766 M63.2606 575.063 Q69.0707 575.063 72.1263 579.669 Q75.205 584.252 75.205 593.002 Q75.205 601.729 72.1263 606.336 Q69.0707 610.919 63.2606 610.919 Q57.4504 610.919 54.3717 606.336 Q51.3162 601.729 51.3162 593.002 Q51.3162 584.252 54.3717 579.669 Q57.4504 575.063 63.2606 575.063 Z\" fill=\"#000000\" fill-rule=\"nonzero\" fill-opacity=\"1\" /><path clip-path=\"url(#clip030)\" d=\"M83.4225 604.368 L88.3067 604.368 L88.3067 610.248 L83.4225 610.248 L83.4225 604.368 Z\" fill=\"#000000\" fill-rule=\"nonzero\" fill-opacity=\"1\" /><path clip-path=\"url(#clip030)\" d=\"M109.071 591.104 Q105.922 591.104 104.071 593.257 Q102.242 595.41 102.242 599.16 Q102.242 602.887 104.071 605.063 Q105.922 607.215 109.071 607.215 Q112.219 607.215 114.047 605.063 Q115.899 602.887 115.899 599.16 Q115.899 595.41 114.047 593.257 Q112.219 591.104 109.071 591.104 M118.353 576.452 L118.353 580.711 Q116.594 579.878 114.788 579.438 Q113.006 578.998 111.246 578.998 Q106.617 578.998 104.163 582.123 Q101.733 585.248 101.385 591.567 Q102.751 589.553 104.811 588.489 Q106.871 587.401 109.348 587.401 Q114.557 587.401 117.566 590.572 Q120.598 593.72 120.598 599.16 Q120.598 604.484 117.45 607.701 Q114.302 610.919 109.071 610.919 Q103.075 610.919 99.9039 606.336 Q96.7326 601.729 96.7326 593.002 Q96.7326 584.808 100.621 579.947 Q104.51 575.063 111.061 575.063 Q112.82 575.063 114.603 575.41 Q116.408 575.757 118.353 576.452 Z\" fill=\"#000000\" fill-rule=\"nonzero\" fill-opacity=\"1\" /><path clip-path=\"url(#clip030)\" d=\"M63.5152 288.753 Q59.9041 288.753 58.0754 292.318 Q56.2699 295.86 56.2699 302.989 Q56.2699 310.096 58.0754 313.66 Q59.9041 317.202 63.5152 317.202 Q67.1494 317.202 68.955 313.66 Q70.7837 310.096 70.7837 302.989 Q70.7837 295.86 68.955 292.318 Q67.1494 288.753 63.5152 288.753 M63.5152 285.049 Q69.3254 285.049 72.3809 289.656 Q75.4596 294.239 75.4596 302.989 Q75.4596 311.716 72.3809 316.322 Q69.3254 320.906 63.5152 320.906 Q57.7051 320.906 54.6264 316.322 Q51.5708 311.716 51.5708 302.989 Q51.5708 294.239 54.6264 289.656 Q57.7051 285.049 63.5152 285.049 Z\" fill=\"#000000\" fill-rule=\"nonzero\" fill-opacity=\"1\" /><path clip-path=\"url(#clip030)\" d=\"M83.6771 314.355 L88.5614 314.355 L88.5614 320.234 L83.6771 320.234 L83.6771 314.355 Z\" fill=\"#000000\" fill-rule=\"nonzero\" fill-opacity=\"1\" /><path clip-path=\"url(#clip030)\" d=\"M108.746 303.822 Q105.413 303.822 103.492 305.605 Q101.594 307.387 101.594 310.512 Q101.594 313.637 103.492 315.42 Q105.413 317.202 108.746 317.202 Q112.08 317.202 114.001 315.42 Q115.922 313.614 115.922 310.512 Q115.922 307.387 114.001 305.605 Q112.103 303.822 108.746 303.822 M104.071 301.832 Q101.061 301.091 99.3715 299.031 Q97.7048 296.971 97.7048 294.008 Q97.7048 289.864 100.645 287.457 Q103.608 285.049 108.746 285.049 Q113.908 285.049 116.848 287.457 Q119.788 289.864 119.788 294.008 Q119.788 296.971 118.098 299.031 Q116.432 301.091 113.445 301.832 Q116.825 302.619 118.7 304.91 Q120.598 307.202 120.598 310.512 Q120.598 315.535 117.52 318.221 Q114.464 320.906 108.746 320.906 Q103.029 320.906 99.9502 318.221 Q96.8947 315.535 96.8947 310.512 Q96.8947 307.202 98.7928 304.91 Q100.691 302.619 104.071 301.832 M102.358 294.448 Q102.358 297.133 104.024 298.637 Q105.714 300.142 108.746 300.142 Q111.756 300.142 113.445 298.637 Q115.158 297.133 115.158 294.448 Q115.158 291.762 113.445 290.258 Q111.756 288.753 108.746 288.753 Q105.714 288.753 104.024 290.258 Q102.358 291.762 102.358 294.448 Z\" fill=\"#000000\" fill-rule=\"nonzero\" fill-opacity=\"1\" /><polyline clip-path=\"url(#clip032)\" style=\"stroke:#009af9; stroke-linecap:round; stroke-linejoin:round; stroke-width:8; stroke-opacity:1; fill:none\" points=\"218.754,1294.52 448.959,926.87 679.164,632.299 909.369,1160.08 1139.57,687.581 1369.78,390.716 1599.98,1195.24 1830.19,1243.78 2060.4,1110.45 2290.6,208.508 \"/>\n",
       "<polyline clip-path=\"url(#clip032)\" style=\"stroke:#e26f46; stroke-linecap:round; stroke-linejoin:round; stroke-width:8; stroke-opacity:1; fill:none\" stroke-dasharray=\"32, 20\" points=\"218.754,1411.69 448.959,927.584 679.164,331.453 909.369,1033.17 1139.57,87.9763 1369.78,337.679 1599.98,900.85 1830.19,226.172 2060.4,1445.72 2290.6,1361.38 \"/>\n",
       "<path clip-path=\"url(#clip030)\" d=\"M229.803 250.738 L584.419 250.738 L584.419 95.2176 L229.803 95.2176  Z\" fill=\"#ffffff\" fill-rule=\"evenodd\" fill-opacity=\"1\"/>\n",
       "<polyline clip-path=\"url(#clip030)\" style=\"stroke:#000000; stroke-linecap:round; stroke-linejoin:round; stroke-width:4; stroke-opacity:1; fill:none\" points=\"229.803,250.738 584.419,250.738 584.419,95.2176 229.803,95.2176 229.803,250.738 \"/>\n",
       "<polyline clip-path=\"url(#clip030)\" style=\"stroke:#009af9; stroke-linecap:round; stroke-linejoin:round; stroke-width:8; stroke-opacity:1; fill:none\" points=\"254.205,147.058 400.616,147.058 \"/>\n",
       "<path clip-path=\"url(#clip030)\" d=\"M425.018 129.778 L429.693 129.778 L429.693 160.402 L446.522 160.402 L446.522 164.338 L425.018 164.338 L425.018 129.778 Z\" fill=\"#000000\" fill-rule=\"nonzero\" fill-opacity=\"1\" /><path clip-path=\"url(#clip030)\" d=\"M451.244 138.412 L455.503 138.412 L455.503 164.338 L451.244 164.338 L451.244 138.412 M451.244 128.319 L455.503 128.319 L455.503 133.713 L451.244 133.713 L451.244 128.319 Z\" fill=\"#000000\" fill-rule=\"nonzero\" fill-opacity=\"1\" /><path clip-path=\"url(#clip030)\" d=\"M485.966 148.689 L485.966 164.338 L481.707 164.338 L481.707 148.828 Q481.707 145.148 480.272 143.319 Q478.837 141.49 475.966 141.49 Q472.517 141.49 470.527 143.69 Q468.536 145.889 468.536 149.685 L468.536 164.338 L464.253 164.338 L464.253 138.412 L468.536 138.412 L468.536 142.44 Q470.064 140.102 472.124 138.944 Q474.207 137.787 476.915 137.787 Q481.383 137.787 483.675 140.565 Q485.966 143.319 485.966 148.689 Z\" fill=\"#000000\" fill-rule=\"nonzero\" fill-opacity=\"1\" /><path clip-path=\"url(#clip030)\" d=\"M516.637 150.31 L516.637 152.393 L497.054 152.393 Q497.332 156.791 499.693 159.106 Q502.077 161.398 506.313 161.398 Q508.767 161.398 511.059 160.796 Q513.374 160.194 515.642 158.99 L515.642 163.018 Q513.35 163.99 510.943 164.5 Q508.536 165.009 506.059 165.009 Q499.855 165.009 496.221 161.398 Q492.61 157.787 492.61 151.629 Q492.61 145.264 496.036 141.537 Q499.485 137.787 505.318 137.787 Q510.549 137.787 513.582 141.166 Q516.637 144.523 516.637 150.31 M512.378 149.06 Q512.332 145.565 510.411 143.481 Q508.512 141.398 505.364 141.398 Q501.8 141.398 499.647 143.412 Q497.517 145.426 497.193 149.083 L512.378 149.06 Z\" fill=\"#000000\" fill-rule=\"nonzero\" fill-opacity=\"1\" /><path clip-path=\"url(#clip030)\" d=\"M540.109 160.402 L547.748 160.402 L547.748 134.037 L539.438 135.703 L539.438 131.444 L547.702 129.778 L552.378 129.778 L552.378 160.402 L560.017 160.402 L560.017 164.338 L540.109 164.338 L540.109 160.402 Z\" fill=\"#000000\" fill-rule=\"nonzero\" fill-opacity=\"1\" /><polyline clip-path=\"url(#clip030)\" style=\"stroke:#e26f46; stroke-linecap:round; stroke-linejoin:round; stroke-width:8; stroke-opacity:1; fill:none\" stroke-dasharray=\"32, 20\" points=\"254.205,198.898 400.616,198.898 \"/>\n",
       "<path clip-path=\"url(#clip030)\" d=\"M425.018 181.618 L429.693 181.618 L429.693 212.242 L446.522 212.242 L446.522 216.178 L425.018 216.178 L425.018 181.618 Z\" fill=\"#000000\" fill-rule=\"nonzero\" fill-opacity=\"1\" /><path clip-path=\"url(#clip030)\" d=\"M451.244 190.252 L455.503 190.252 L455.503 216.178 L451.244 216.178 L451.244 190.252 M451.244 180.159 L455.503 180.159 L455.503 185.553 L451.244 185.553 L451.244 180.159 Z\" fill=\"#000000\" fill-rule=\"nonzero\" fill-opacity=\"1\" /><path clip-path=\"url(#clip030)\" d=\"M485.966 200.529 L485.966 216.178 L481.707 216.178 L481.707 200.668 Q481.707 196.988 480.272 195.159 Q478.837 193.33 475.966 193.33 Q472.517 193.33 470.527 195.53 Q468.536 197.729 468.536 201.525 L468.536 216.178 L464.253 216.178 L464.253 190.252 L468.536 190.252 L468.536 194.28 Q470.064 191.942 472.124 190.784 Q474.207 189.627 476.915 189.627 Q481.383 189.627 483.675 192.405 Q485.966 195.159 485.966 200.529 Z\" fill=\"#000000\" fill-rule=\"nonzero\" fill-opacity=\"1\" /><path clip-path=\"url(#clip030)\" d=\"M516.637 202.15 L516.637 204.233 L497.054 204.233 Q497.332 208.631 499.693 210.946 Q502.077 213.238 506.313 213.238 Q508.767 213.238 511.059 212.636 Q513.374 212.034 515.642 210.83 L515.642 214.858 Q513.35 215.83 510.943 216.34 Q508.536 216.849 506.059 216.849 Q499.855 216.849 496.221 213.238 Q492.61 209.627 492.61 203.469 Q492.61 197.104 496.036 193.377 Q499.485 189.627 505.318 189.627 Q510.549 189.627 513.582 193.006 Q516.637 196.363 516.637 202.15 M512.378 200.9 Q512.332 197.405 510.411 195.321 Q508.512 193.238 505.364 193.238 Q501.8 193.238 499.647 195.252 Q497.517 197.266 497.193 200.923 L512.378 200.9 Z\" fill=\"#000000\" fill-rule=\"nonzero\" fill-opacity=\"1\" /><path clip-path=\"url(#clip030)\" d=\"M543.327 212.242 L559.646 212.242 L559.646 216.178 L537.702 216.178 L537.702 212.242 Q540.364 209.488 544.947 204.858 Q549.554 200.205 550.734 198.863 Q552.98 196.34 553.859 194.604 Q554.762 192.844 554.762 191.155 Q554.762 188.4 552.818 186.664 Q550.896 184.928 547.795 184.928 Q545.596 184.928 543.142 185.692 Q540.711 186.455 537.934 188.006 L537.934 183.284 Q540.758 182.15 543.211 181.571 Q545.665 180.993 547.702 180.993 Q553.072 180.993 556.267 183.678 Q559.461 186.363 559.461 190.854 Q559.461 192.983 558.651 194.905 Q557.864 196.803 555.758 199.395 Q555.179 200.067 552.077 203.284 Q548.975 206.479 543.327 212.242 Z\" fill=\"#000000\" fill-rule=\"nonzero\" fill-opacity=\"1\" /></svg>\n"
      ]
     },
     "metadata": {},
     "output_type": "display_data"
    }
   ],
   "source": [
    "\n",
    "# Data\n",
    "x = 1:10\n",
    "y1 = rand(10)\n",
    "y2 = rand(10)\n",
    "\n",
    "# Multiple plots\n",
    "plot(x, y1, label=\"Line 1\", lw=2)\n",
    "plot!(x, y2, label=\"Line 2\", lw=2, linestyle=:dash)"
   ]
  },
  {
   "cell_type": "markdown",
   "metadata": {},
   "source": [
    "plots y plots!?"
   ]
  },
  {
   "cell_type": "code",
   "execution_count": 89,
   "metadata": {},
   "outputs": [
    {
     "name": "stdout",
     "output_type": "stream",
     "text": [
      "[1, 2, 3, 4]\n"
     ]
    }
   ],
   "source": [
    "# Usando push!\n",
    "arr = [1, 2, 3]\n",
    "push!(arr, 4)\n",
    "println(arr)  # Output: [1, 2, 3, 4]"
   ]
  },
  {
   "cell_type": "code",
   "execution_count": 90,
   "metadata": {},
   "outputs": [
    {
     "name": "stdout",
     "output_type": "stream",
     "text": [
      "[3, 1, 2]\n",
      "[1, 2, 3]\n",
      "[1, 2, 3]\n"
     ]
    }
   ],
   "source": [
    "# Usando sort\n",
    "arr = [3, 1, 2]\n",
    "sorted_arr = sort(arr)\n",
    "println(arr)         # Output: [3, 1, 2]\n",
    "println(sorted_arr)  # Output: [1, 2, 3]\n",
    "\n",
    "# Usando sort!\n",
    "sort!(arr)\n",
    "println(arr)  # Output: [1, 2, 3]"
   ]
  },
  {
   "cell_type": "code",
   "execution_count": 91,
   "metadata": {},
   "outputs": [
    {
     "name": "stdout",
     "output_type": "stream",
     "text": [
      "[1, 2, 3]\n",
      "[3, 2, 1]\n",
      "[3, 2, 1]\n"
     ]
    }
   ],
   "source": [
    "# Usando reverse\n",
    "arr = [1, 2, 3]\n",
    "reversed_arr = reverse(arr)\n",
    "println(arr)         # Output: [1, 2, 3]\n",
    "println(reversed_arr)  # Output: [3, 2, 1]\n",
    "\n",
    "# Usando reverse!\n",
    "reverse!(arr)\n",
    "println(arr)  # Output: [3, 2, 1]"
   ]
  },
  {
   "cell_type": "markdown",
   "metadata": {},
   "source": [
    "## Ejercicios:"
   ]
  },
  {
   "cell_type": "markdown",
   "metadata": {},
   "source": [
    "__Ejercicio 1:__ Crear un vector aleatorio de 20 entradas usando la función ``rand`` y luego ordenarlo utilizando ``sort!``, y luego reordenarlo en orden decreciente con ``reverse!``. Luego, haga una copia de ese vector y asegurese de que la copia no esta referenciada al vector original.\n",
    "\n",
    "__Ejercicio 2:__ Crear una rutina que calcule las raíces de la siguiente ecuación trascendental (como función de $A$ y con una tolerancia $\\epsilon$, es decir, que el cambio entre el último y penúltimo resultado sea igual o menor a $\\epsilon$):\n",
    "$$x \\tan(x)=\\sqrt{A-x^2},$$\n",
    "esta ecuación tiene interes en la física cuántica de particulas en una dimensión, en particular, sus soluciones estan directamente relacionadas con las eigenenergias del _pozo finito cuadrado_, y el número de soluciones posibles es precisamente el número de estados _ligados_ que caben en el pozo.\n",
    "\n",
    "* Usar varias condiciones iniciales $x_0$ para encontrar todas las raíces en un rango considerable (Por ejemplo entre -10 y 10).\n",
    "* Graficar la función y las raíces encontradas.\n",
    "\n",
    "__Ejercicio 3:__ Crear una rutina que busque raíces de cualquier función, usando el método de Newton. Para la parte de la derivada utilice la derivada numérica. La función entonces debe depender de la diferencia finíta que utilicen.\n",
    "* ¿El método converge a las raíz? (pruebe con varias funciones, tales como $x^2-4$, etc.)\n",
    "* Para analizar el punto anterior, estudie la convergencia para varias condiciones iniciales y grafique en cuantos pasos se llega a la raíz dada una tolerancia $\\epsilon$ y respecto a la diferencia finita utilizada. Es decir, grafique $N(\\Delta x)$ donde $N$ es el número de pasos necesarios para llegar a la raíz, $\\Delta x$ es la diferencia finita. Puede hacerlo para cada condición inicial o calcular el promedio.\n",
    "\n",
    "__Ejercicio 4:__ En el ejercico anterior, dada la diferencia finíta, nos vemos obligados a evaluar la función una vez más solo para calcular la derivada. Consideremos ahora cambiar la diferencia finíta por $\\Delta x=x_n-x_{n-1}$. Ahora ya no tenemos el parámetro libre de la diferencia finíta. Simplifique la expresión a iterar y haga una rutina que calcule las raíces de una función dada con este nuevo método y compare la convergencia con el método de Newton."
   ]
  }
 ],
 "metadata": {
  "kernelspec": {
   "display_name": "Julia 1.11.3",
   "language": "julia",
   "name": "julia-1.11"
  },
  "language_info": {
   "file_extension": ".jl",
   "mimetype": "application/julia",
   "name": "julia",
   "version": "1.11.3"
  },
  "latex_envs": {
   "bibliofile": "biblio.bib",
   "cite_by": "apalike",
   "current_citInitial": 1,
   "eqLabelWithNumbers": true,
   "eqNumInitial": 0
  }
 },
 "nbformat": 4,
 "nbformat_minor": 1
}
