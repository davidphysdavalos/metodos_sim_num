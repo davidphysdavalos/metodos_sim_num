{
 "cells": [
  {
   "cell_type": "markdown",
   "metadata": {},
   "source": [
    "# Modulos en Julia (librerias)"
   ]
  },
  {
   "cell_type": "markdown",
   "metadata": {},
   "source": [
    "Para mayor información consulten la documentación: https://docs.julialang.org/en/v1/manual/documentation/"
   ]
  },
  {
   "cell_type": "code",
   "execution_count": 2,
   "metadata": {},
   "outputs": [
    {
     "data": {
      "text/plain": [
       "Main.herramientas"
      ]
     },
     "metadata": {},
     "output_type": "display_data"
    }
   ],
   "source": [
    "__precompile__() # Este comando es para que julia precompile el paquete\n",
    "\n",
    "module herramientas\n",
    "\n",
    "export original_integer, base_2\n",
    "\n",
    "@doc \"original integer input: list of binary digits output: integer\"\n",
    "function original_integer(list)\n",
    "    return parse(Int, join(list); base=2)\n",
    "end\n",
    "\n",
    "@doc \"base_2 input: integer and pad optional output: list of binary digits\"\n",
    "function base_2(integer; pad= nothing)\n",
    "    if pad == nothing\n",
    "        return reverse(digits(integer, base = 2))\n",
    "    else\n",
    "        return reverse(digits(integer, base = 2, pad = pad))\n",
    "    end\n",
    "end\n",
    "\n",
    "end"
   ]
  },
  {
   "cell_type": "markdown",
   "metadata": {},
   "source": [
    "Accediendo a la documentación:"
   ]
  },
  {
   "cell_type": "code",
   "execution_count": 3,
   "metadata": {},
   "outputs": [
    {
     "data": {
      "text/latex": [
       "base\\_2 input: integer and pad optional output: list of binary digits\n",
       "\n"
      ],
      "text/markdown": [
       "base_2 input: integer and pad optional output: list of binary digits\n"
      ],
      "text/plain": [
       "  base_2 input: integer and pad optional output: list of binary digits"
      ]
     },
     "metadata": {},
     "output_type": "display_data"
    }
   ],
   "source": [
    "@doc herramientas.base_2"
   ]
  },
  {
   "cell_type": "code",
   "execution_count": 4,
   "metadata": {},
   "outputs": [
    {
     "data": {
      "text/latex": [
       "original integer input: list of binary digits output: integer\n",
       "\n"
      ],
      "text/markdown": [
       "original integer input: list of binary digits output: integer\n"
      ],
      "text/plain": [
       "  original integer input: list of binary digits output: integer"
      ]
     },
     "metadata": {},
     "output_type": "display_data"
    }
   ],
   "source": [
    "@doc herramientas.original_integer"
   ]
  },
  {
   "cell_type": "markdown",
   "metadata": {},
   "source": [
    "Al evaluar la celda donde está el módulo, de acuerdo a la documentación, estamos obteniendo el comportamiento de `import`"
   ]
  },
  {
   "cell_type": "code",
   "execution_count": 5,
   "metadata": {},
   "outputs": [
    {
     "name": "stderr",
     "output_type": "stream",
     "text": [
      "WARNING: replacing module herramientas.\n"
     ]
    }
   ],
   "source": [
    "include(\"herramientas.jl\")\n",
    "import .herramientas"
   ]
  },
  {
   "cell_type": "code",
   "execution_count": 6,
   "metadata": {},
   "outputs": [
    {
     "data": {
      "text/plain": [
       "base_2 (generic function with 1 method)"
      ]
     },
     "metadata": {},
     "output_type": "display_data"
    }
   ],
   "source": [
    "herramientas.base_2"
   ]
  },
  {
   "cell_type": "markdown",
   "metadata": {},
   "source": [
    "Para ver como funciona `using` debemos hacer la libreria propiamente en su propio archivo."
   ]
  },
  {
   "cell_type": "code",
   "execution_count": 7,
   "metadata": {},
   "outputs": [
    {
     "name": "stderr",
     "output_type": "stream",
     "text": [
      "WARNING: replacing module herramientas.\n"
     ]
    }
   ],
   "source": [
    "include(\"herramientas.jl\") # Necesario para hacerle saber a Julia que el archivo existe. Hay formas de automatizar esto.\n",
    "using .herramientas"
   ]
  },
  {
   "cell_type": "code",
   "execution_count": 8,
   "metadata": {},
   "outputs": [
    {
     "data": {
      "text/latex": [
       "custom\\_unique input: list output: list with unique elements. This function aims to correct the behavior of unique that selects -0.0 and 0.0 as different numbers\n",
       "\n"
      ],
      "text/markdown": [
       "custom_unique input: list output: list with unique elements. This function aims to correct the behavior of unique that selects -0.0 and 0.0 as different numbers\n"
      ],
      "text/plain": [
       "  custom_unique input: list output: list with unique elements. This function\n",
       "  aims to correct the behavior of unique that selects -0.0 and 0.0 as\n",
       "  different numbers"
      ]
     },
     "metadata": {},
     "output_type": "display_data"
    }
   ],
   "source": [
    "@doc custom_unique"
   ]
  },
  {
   "cell_type": "code",
   "execution_count": 9,
   "metadata": {},
   "outputs": [
    {
     "data": {
      "text/plain": [
       "2-element Vector{Any}:\n",
       " 1\n",
       " 0"
      ]
     },
     "metadata": {},
     "output_type": "display_data"
    }
   ],
   "source": [
    "custom_unique([1,1,0])"
   ]
  },
  {
   "cell_type": "code",
   "execution_count": 10,
   "metadata": {},
   "outputs": [
    {
     "data": {
      "text/latex": [
       "original integer input: list of binary digits output: integer\n",
       "\n"
      ],
      "text/markdown": [
       "original integer input: list of binary digits output: integer\n"
      ],
      "text/plain": [
       "  original integer input: list of binary digits output: integer"
      ]
     },
     "metadata": {},
     "output_type": "display_data"
    }
   ],
   "source": [
    "@doc original_integer"
   ]
  },
  {
   "cell_type": "code",
   "execution_count": 11,
   "metadata": {},
   "outputs": [
    {
     "ename": "UndefVarError",
     "evalue": "UndefVarError: `is_approx_equal` not defined in `Main`\nSuggestion: check for spelling errors or missing imports.",
     "output_type": "error",
     "traceback": [
      "UndefVarError: `is_approx_equal` not defined in `Main`\n",
      "Suggestion: check for spelling errors or missing imports.\n",
      "\n",
      "Stacktrace:\n",
      " [1] macro expansion\n",
      "   @ show.jl:1232 [inlined]\n",
      " [2] top-level scope\n",
      "   @ ~/Escritorio/Maestria/Proyectos/clases/metodos_sim_num/clases/jl_notebook_cell_df34fa98e69747e1a8f8a730347b8e2f_X20sZmlsZQ==.jl:1"
     ]
    }
   ],
   "source": [
    "@show is_approx_equal"
   ]
  },
  {
   "cell_type": "code",
   "execution_count": 12,
   "metadata": {},
   "outputs": [
    {
     "name": "stdout",
     "output_type": "stream",
     "text": [
      "herramientas.is_approx_equal = Main.herramientas.is_approx_equal\n"
     ]
    },
    {
     "data": {
      "text/plain": [
       "is_approx_equal (generic function with 1 method)"
      ]
     },
     "metadata": {},
     "output_type": "display_data"
    }
   ],
   "source": [
    "@show herramientas.is_approx_equal"
   ]
  },
  {
   "cell_type": "markdown",
   "metadata": {},
   "source": [
    "Cabe señalar que `import` deja el _workspace_ limpio, ya que lo que hace es importar solo hace disponible el modulo"
   ]
  },
  {
   "cell_type": "markdown",
   "metadata": {},
   "source": [
    "## Hacer disponibles las librerias desde cualquier lugar."
   ]
  },
  {
   "cell_type": "markdown",
   "metadata": {},
   "source": [
    "Para hacer disponibles sus librerias desde cualquier lugar de la máquina usando ``using``, basta con añadir en la carpeta de configuración de Julia (en Linux ``~/.julia/config/) el archivo ``startup.jl``. Si la carpeta no existe, la pueden crear. Dentro de ``startup.jl`` hay que poner una linea para agregar la carpeta donde se encuentran sus módulos a ``LOAD_PATH``, por ejemplo: ``push!(LOAD_PATH,\"/home/david/libs/julia/\")``"
   ]
  },
  {
   "cell_type": "markdown",
   "metadata": {},
   "source": [
    "# Uso de tipos"
   ]
  },
  {
   "cell_type": "markdown",
   "metadata": {},
   "source": [
    "A continuación vemos un uso común de los tipos, en los que creamos rutinas eficientes para cada tipo sobrecargando el mismo nombre. Dependiendo del tipo, Julia usa una u otra rutina."
   ]
  },
  {
   "cell_type": "code",
   "execution_count": 13,
   "metadata": {},
   "outputs": [
    {
     "data": {
      "text/plain": [
       "ejemplito (generic function with 2 methods)"
      ]
     },
     "metadata": {},
     "output_type": "display_data"
    }
   ],
   "source": [
    "function ejemplito(x::Int)\n",
    "    print(\"$x is an integer\")\n",
    "end\n",
    "\n",
    "function ejemplito(x::AbstractFloat)\n",
    "    print(\"$x is an float\")\n",
    "end"
   ]
  },
  {
   "cell_type": "code",
   "execution_count": 14,
   "metadata": {},
   "outputs": [
    {
     "name": "stdout",
     "output_type": "stream",
     "text": [
      "1 is an integer"
     ]
    }
   ],
   "source": [
    "ejemplito(1)"
   ]
  },
  {
   "cell_type": "code",
   "execution_count": 15,
   "metadata": {},
   "outputs": [
    {
     "name": "stdout",
     "output_type": "stream",
     "text": [
      "1.0 is an float"
     ]
    }
   ],
   "source": [
    "ejemplito(1.0)"
   ]
  },
  {
   "cell_type": "markdown",
   "metadata": {},
   "source": [
    "También es posible especificar el tipo de salida"
   ]
  },
  {
   "cell_type": "code",
   "execution_count": 16,
   "metadata": {},
   "outputs": [
    {
     "data": {
      "text/plain": [
       "sum_two_vectors (generic function with 1 method)"
      ]
     },
     "metadata": {},
     "output_type": "display_data"
    }
   ],
   "source": [
    "function sum_two_vectors(a::Vector{ComplexF64}, b::Vector{ComplexF64}):: Vector{ComplexF64}\n",
    "        if length(a) != length(b)\n",
    "        throw(ArgumentError(\"Vectors must be of the same length\"))\n",
    "    end\n",
    "    return a + b\n",
    "end"
   ]
  },
  {
   "cell_type": "code",
   "execution_count": 17,
   "metadata": {},
   "outputs": [
    {
     "data": {
      "text/plain": [
       "3-element Vector{ComplexF64}:\n",
       " 1.0 + 1.0im\n",
       " 2.0 + 0.0im\n",
       " 3.0 + 0.0im"
      ]
     },
     "metadata": {},
     "output_type": "display_data"
    }
   ],
   "source": [
    "[1.0 + 1.0im ,2,3]"
   ]
  },
  {
   "cell_type": "code",
   "execution_count": 18,
   "metadata": {},
   "outputs": [
    {
     "data": {
      "text/plain": [
       "3-element Vector{ComplexF64}:\n",
       " 5.0 + 0.0im\n",
       " 7.0 + 0.0im\n",
       " 9.0 + 0.0im"
      ]
     },
     "metadata": {},
     "output_type": "display_data"
    }
   ],
   "source": [
    "sum_two_vectors([1.0 + 0.0im ,2,3], [4.0,5,6+0.0im])"
   ]
  },
  {
   "cell_type": "markdown",
   "metadata": {},
   "source": [
    "Sin embargo, como vimos en clase, observese lo siguiente:"
   ]
  },
  {
   "cell_type": "code",
   "execution_count": 19,
   "metadata": {},
   "outputs": [
    {
     "ename": "MethodError",
     "evalue": "MethodError: no method matching sum_two_vectors(::Vector{Float64}, ::Vector{Float64})\nThe function `sum_two_vectors` exists, but no method is defined for this combination of argument types.\n\nClosest candidates are:\n  sum_two_vectors(!Matched::Vector{ComplexF64}, !Matched::Vector{ComplexF64})\n   @ Main ~/Escritorio/Maestria/Proyectos/clases/metodos_sim_num/clases/jl_notebook_cell_df34fa98e69747e1a8f8a730347b8e2f_X34sZmlsZQ==.jl:1\n",
     "output_type": "error",
     "traceback": [
      "MethodError: no method matching sum_two_vectors(::Vector{Float64}, ::Vector{Float64})\n",
      "The function `sum_two_vectors` exists, but no method is defined for this combination of argument types.\n",
      "\n",
      "Closest candidates are:\n",
      "  sum_two_vectors(!Matched::Vector{ComplexF64}, !Matched::Vector{ComplexF64})\n",
      "   @ Main ~/Escritorio/Maestria/Proyectos/clases/metodos_sim_num/clases/jl_notebook_cell_df34fa98e69747e1a8f8a730347b8e2f_X34sZmlsZQ==.jl:1\n",
      "\n",
      "\n",
      "Stacktrace:\n",
      " [1] top-level scope\n",
      "   @ ~/Escritorio/Maestria/Proyectos/clases/metodos_sim_num/clases/jl_notebook_cell_df34fa98e69747e1a8f8a730347b8e2f_X41sZmlsZQ==.jl:1"
     ]
    }
   ],
   "source": [
    "sum_two_vectors([1.0 ,2,3], [4.0,5,6])"
   ]
  },
  {
   "cell_type": "markdown",
   "metadata": {},
   "source": [
    "__Nota:__ Incluso usando flotantes, si no son explicitamente complejos, el método falla. En clase vimos como hacer una función que reciba vectores donde las entradas son de cualquier tipo. Esto es útil si solo nos interesa diferenciar entre vectores y matrices"
   ]
  },
  {
   "cell_type": "code",
   "execution_count": 20,
   "metadata": {},
   "outputs": [
    {
     "data": {
      "text/plain": [
       "sum_two_vectors (generic function with 2 methods)"
      ]
     },
     "metadata": {},
     "output_type": "display_data"
    }
   ],
   "source": [
    "function sum_two_vectors(a::Vector{T}, b::Vector{T})::Vector{T} where T\n",
    "    if length(a) != length(b)\n",
    "        throw(ArgumentError(\"Vectors must be of the same length\"))\n",
    "    end\n",
    "    return a + b\n",
    "end"
   ]
  },
  {
   "cell_type": "markdown",
   "metadata": {},
   "source": [
    "Entonces ya funciona con cualquier tipo:"
   ]
  },
  {
   "cell_type": "code",
   "execution_count": 21,
   "metadata": {},
   "outputs": [
    {
     "data": {
      "text/plain": [
       "3-element Vector{Int64}:\n",
       " 5\n",
       " 7\n",
       " 9"
      ]
     },
     "metadata": {},
     "output_type": "display_data"
    }
   ],
   "source": [
    "sum_two_vectors([1,2,3], [4,5,6])"
   ]
  },
  {
   "cell_type": "markdown",
   "metadata": {},
   "source": [
    "# Paralelización"
   ]
  },
  {
   "cell_type": "markdown",
   "metadata": {},
   "source": [
    "## Vectorización"
   ]
  },
  {
   "cell_type": "markdown",
   "metadata": {},
   "source": [
    "A lo largo del curso ya utilizamos vectorización como método para hacer muchas operaciones eficientemente, con el operador ``broadcasting``, por ejemplos ``arreglo^.2``, donde dejamos que Julia maneje de forma eficiente las operaciones sobre el arreglo."
   ]
  },
  {
   "cell_type": "markdown",
   "metadata": {},
   "source": [
    "## Usando más de un hilo (Multi-Threads)"
   ]
  },
  {
   "cell_type": "markdown",
   "metadata": {},
   "source": [
    "Por defecto Julia usa un hilo."
   ]
  },
  {
   "cell_type": "code",
   "execution_count": 3,
   "metadata": {},
   "outputs": [
    {
     "data": {
      "text/plain": [
       "1"
      ]
     },
     "metadata": {},
     "output_type": "display_data"
    }
   ],
   "source": [
    "Threads.nthreads()"
   ]
  },
  {
   "cell_type": "markdown",
   "metadata": {},
   "source": [
    "Pero podemos cambiar la configuración de vs code para aumentar el número"
   ]
  },
  {
   "attachments": {
    "image.png": {
     "image/png": "[encoded data removed]"
    }
   },
   "cell_type": "markdown",
   "metadata": {},
   "source": [
    "![image.png](attachment:image.png)"
   ]
  },
  {
   "cell_type": "code",
   "execution_count": 1,
   "metadata": {},
   "outputs": [
    {
     "data": {
      "text/plain": [
       "4"
      ]
     },
     "metadata": {},
     "output_type": "display_data"
    }
   ],
   "source": [
    "Threads.nthreads()"
   ]
  },
  {
   "cell_type": "code",
   "execution_count": 2,
   "metadata": {},
   "outputs": [
    {
     "data": {
      "text/plain": [
       "10-element Vector{Float64}:\n",
       " 4.0\n",
       " 4.0\n",
       " 4.0\n",
       " 3.0\n",
       " 3.0\n",
       " 3.0\n",
       " 2.0\n",
       " 2.0\n",
       " 1.0\n",
       " 1.0"
      ]
     },
     "metadata": {},
     "output_type": "display_data"
    }
   ],
   "source": [
    "a = zeros(10)\n",
    "Threads.@threads for i = 1:10\n",
    "    a[i] = Threads.threadid()\n",
    "end\n",
    "a"
   ]
  },
  {
   "cell_type": "code",
   "execution_count": 4,
   "metadata": {},
   "outputs": [
    {
     "data": {
      "text/plain": [
       "500000500000"
      ]
     },
     "metadata": {},
     "output_type": "display_data"
    }
   ],
   "source": [
    "function sum_single(a)\n",
    "        s = 0\n",
    "        for i in a\n",
    "            s += i\n",
    "        end\n",
    "        s\n",
    "end\n",
    "\n",
    "sum_single(1:1_000_000)"
   ]
  },
  {
   "cell_type": "code",
   "execution_count": 5,
   "metadata": {},
   "outputs": [
    {
     "data": {
      "text/plain": [
       "220921992378"
      ]
     },
     "metadata": {},
     "output_type": "display_data"
    }
   ],
   "source": [
    "function sum_multi_bad(a)\n",
    "           s = 0\n",
    "           Threads.@threads for i in a\n",
    "               s += i\n",
    "           end\n",
    "           s\n",
    "       end\n",
    "\n",
    "sum_multi_bad(1:1_000_000) # Sufre de \"data race\""
   ]
  },
  {
   "cell_type": "code",
   "execution_count": 21,
   "metadata": {},
   "outputs": [
    {
     "data": {
      "text/plain": [
       "Base.Iterators.PartitionIterator{Vector{Float64}}([4.0, 4.0, 4.0, 3.0, 3.0, 3.0, 2.0, 2.0, 1.0, 1.0], 2)"
      ]
     },
     "metadata": {},
     "output_type": "display_data"
    }
   ],
   "source": [
    "chunks = Iterators.partition(a, length(a) ÷ Threads.nthreads())"
   ]
  },
  {
   "cell_type": "code",
   "execution_count": 23,
   "metadata": {},
   "outputs": [
    {
     "data": {
      "text/plain": [
       "10-element Vector{Float64}:\n",
       " 4.0\n",
       " 4.0\n",
       " 4.0\n",
       " 3.0\n",
       " 3.0\n",
       " 3.0\n",
       " 2.0\n",
       " 2.0\n",
       " 1.0\n",
       " 1.0"
      ]
     },
     "metadata": {},
     "output_type": "display_data"
    }
   ],
   "source": [
    "a"
   ]
  },
  {
   "cell_type": "code",
   "execution_count": 22,
   "metadata": {},
   "outputs": [
    {
     "name": "stdout",
     "output_type": "stream",
     "text": [
      "[4.0, 4.0][4.0, 3.0][3.0, 3.0][2.0, 2.0][1.0, 1.0]"
     ]
    }
   ],
   "source": [
    "for i in chunks\n",
    "    print(i)\n",
    "end"
   ]
  },
  {
   "cell_type": "markdown",
   "metadata": {},
   "source": [
    "Antes de continuar, veamos nueva sintaxis:"
   ]
  },
  {
   "cell_type": "code",
   "execution_count": 10,
   "metadata": {},
   "outputs": [
    {
     "name": "stdout",
     "output_type": "stream",
     "text": [
      "[1, 4, 9]\n"
     ]
    }
   ],
   "source": [
    "result = map([1, 2, 3]) do x\n",
    "    x^2\n",
    "end\n",
    "println(result)  # Output: [1, 4, 9]"
   ]
  },
  {
   "cell_type": "markdown",
   "metadata": {},
   "source": [
    "Es equivalente a:"
   ]
  },
  {
   "cell_type": "code",
   "execution_count": 11,
   "metadata": {},
   "outputs": [
    {
     "name": "stdout",
     "output_type": "stream",
     "text": [
      "[1, 4, 9]"
     ]
    }
   ],
   "source": [
    "map(x->x^2, [1, 2, 3])|>print"
   ]
  },
  {
   "cell_type": "markdown",
   "metadata": {},
   "source": [
    "Sin embargo la forma de arriba parece sufrir menos errores cuando la función tiene un decorador"
   ]
  },
  {
   "cell_type": "code",
   "execution_count": 61,
   "metadata": {},
   "outputs": [
    {
     "data": {
      "text/plain": [
       "55"
      ]
     },
     "metadata": {},
     "output_type": "display_data"
    }
   ],
   "source": [
    "sum = 0\n",
    "    for i in 1:10\n",
    "        sum += i\n",
    "    end\n",
    "sum"
   ]
  },
  {
   "cell_type": "code",
   "execution_count": 34,
   "metadata": {},
   "outputs": [
    {
     "data": {
      "text/plain": [
       "5"
      ]
     },
     "metadata": {},
     "output_type": "display_data"
    }
   ],
   "source": [
    "sum_single([2,3])"
   ]
  },
  {
   "cell_type": "code",
   "execution_count": 12,
   "metadata": {},
   "outputs": [
    {
     "name": "stdout",
     "output_type": "stream",
     "text": [
      "Task[Task (runnable, started) @0x00007b3d43d40970, Task (done) @0x00007b3d43d40b00, Task (runnable, started) @0x00007b3d43d40c90, Task (done) @0x00007b3d43d40e20]"
     ]
    },
    {
     "data": {
      "text/plain": [
       "500000500000"
      ]
     },
     "metadata": {},
     "output_type": "display_data"
    }
   ],
   "source": [
    "function sum_multi_good(a)\n",
    "           chunks = Iterators.partition(a, length(a) ÷ Threads.nthreads())\n",
    "           tasks = map(chunks) do chunk\n",
    "               Threads.@spawn sum_single(chunk)\n",
    "           end\n",
    "           print(tasks)\n",
    "           chunk_sums = fetch.(tasks)\n",
    "           return sum_single(chunk_sums)\n",
    "end\n",
    "\n",
    "sum_multi_good(1:1_000_000)\n"
   ]
  },
  {
   "cell_type": "code",
   "execution_count": 2,
   "metadata": {},
   "outputs": [],
   "source": [
    "using quantum"
   ]
  },
  {
   "cell_type": "code",
   "execution_count": 1,
   "metadata": {},
   "outputs": [
    {
     "data": {
      "text/plain": [
       "apply_multiqubit_gate_multi_thread (generic function with 1 method)"
      ]
     },
     "metadata": {},
     "output_type": "display_data"
    }
   ],
   "source": [
    "function apply_multiqubit_gate_multi_thread(state::Vector{T}, gate, target) where T\n",
    "    new_state = copy(state)\n",
    "    dim_target = size(gate)[1]\n",
    "    dim_untouched = length(state) ÷ dim_target |> Int\n",
    "\n",
    "    Threads.@threads for index_untouched in 0:dim_untouched-1\n",
    "        pos = [merge_two_integers(index_target, index_untouched, target) + 1 for index_target in 0:dim_target-1]\n",
    "        new_state[pos] = gate * new_state[pos]\n",
    "    end\n",
    "\n",
    "    return new_state\n",
    "end"
   ]
  },
  {
   "cell_type": "code",
   "execution_count": 6,
   "metadata": {},
   "outputs": [
    {
     "data": {
      "text/plain": [
       "10-element Vector{Tuple{Number, Number}}:\n",
       " (2, 1)\n",
       " (2, 4)\n",
       " (2, 9)\n",
       " (4, 16)\n",
       " (4, 25)\n",
       " (4, 36)\n",
       " (3, 49)\n",
       " (3, 64)\n",
       " (1, 81)\n",
       " (1, 100)"
      ]
     },
     "metadata": {},
     "output_type": "display_data"
    }
   ],
   "source": [
    "proc = Vector{Tuple{Number, Number}}(undef, 10)\n",
    "Threads.@threads for i in 1:10\n",
    "    #push!(proc,(Threads.threadid(), i^2))\n",
    "    proc[i]=(Threads.threadid(), i^2)\n",
    "end\n",
    "proc"
   ]
  },
  {
   "cell_type": "code",
   "execution_count": 5,
   "metadata": {},
   "outputs": [
    {
     "data": {
      "text/plain": [
       "16-element Vector{ComplexF64}:\n",
       " 0.0 + 0.0im\n",
       " 0.0 + 0.0im\n",
       " 0.0 + 0.0im\n",
       " 0.0 + 0.0im\n",
       " 0.0 + 0.0im\n",
       " 0.0 + 0.0im\n",
       " 0.0 + 0.0im\n",
       " 0.0 + 0.0im\n",
       " 0.0 + 0.0im\n",
       " 0.0 + 0.0im\n",
       " 0.0 + 0.0im\n",
       " 0.0 + 0.0im\n",
       " 0.0 + 0.0im\n",
       " 0.0 + 0.0im\n",
       " 0.0 + 0.0im\n",
       " 0.0 + 0.0im"
      ]
     },
     "metadata": {},
     "output_type": "display_data"
    }
   ],
   "source": [
    "state = random_state(16)\n",
    "apply_multiqubit_gate_multi_thread(state, sigmas[1],1) - apply_multiqubit_gate(state, sigmas[1],1)"
   ]
  },
  {
   "cell_type": "markdown",
   "metadata": {},
   "source": [
    "Favor de checar la documentación para ver como se usan los multi-threads: https://docs.julialang.org/en/v1/manual/multi-threading/#man-multithreading"
   ]
  },
  {
   "cell_type": "markdown",
   "metadata": {},
   "source": [
    "## Usando muchos procesos (Multi-Processing)"
   ]
  },
  {
   "cell_type": "code",
   "execution_count": 2,
   "metadata": {},
   "outputs": [],
   "source": [
    "using Distributed"
   ]
  },
  {
   "cell_type": "code",
   "execution_count": 8,
   "metadata": {},
   "outputs": [
    {
     "data": {
      "text/plain": [
       "1"
      ]
     },
     "metadata": {},
     "output_type": "display_data"
    }
   ],
   "source": [
    "nprocs() # numero de procesos"
   ]
  },
  {
   "cell_type": "code",
   "execution_count": 14,
   "metadata": {},
   "outputs": [
    {
     "data": {
      "text/plain": [
       "2-element Vector{Int64}:\n",
       " 2\n",
       " 3"
      ]
     },
     "metadata": {},
     "output_type": "display_data"
    }
   ],
   "source": [
    "workers()"
   ]
  },
  {
   "cell_type": "code",
   "execution_count": 15,
   "metadata": {},
   "outputs": [
    {
     "data": {
      "text/plain": [
       "5"
      ]
     },
     "metadata": {},
     "output_type": "display_data"
    }
   ],
   "source": [
    "# add workers\n",
    "addprocs(2) # agregar 2 workers, cuidado, si lo vuelven a correr, se añaden otros dos\n",
    "nprocs() # numero de procesos"
   ]
  },
  {
   "cell_type": "code",
   "execution_count": 16,
   "metadata": {},
   "outputs": [
    {
     "data": {
      "text/plain": [
       "4-element Vector{Int64}:\n",
       " 2\n",
       " 3\n",
       " 4\n",
       " 5"
      ]
     },
     "metadata": {},
     "output_type": "display_data"
    }
   ],
   "source": [
    "workers()"
   ]
  },
  {
   "cell_type": "code",
   "execution_count": 18,
   "metadata": {},
   "outputs": [
    {
     "name": "stderr",
     "output_type": "stream",
     "text": [
      "┌ Warning: rmprocs: process 1 not removed\n",
      "└ @ Distributed /home/david/.julia/juliaup/julia-1.11.5+0.x64.linux.gnu/share/julia/stdlib/v1.11/Distributed/src/cluster.jl:1049\n"
     ]
    },
    {
     "data": {
      "text/plain": [
       "1"
      ]
     },
     "metadata": {},
     "output_type": "display_data"
    }
   ],
   "source": [
    "# remove all workers expect the main\n",
    "rmprocs(workers()) # remove all workers expect the main\n",
    "nprocs() # numero de procesos"
   ]
  },
  {
   "cell_type": "code",
   "execution_count": 22,
   "metadata": {},
   "outputs": [
    {
     "data": {
      "text/plain": [
       "Task (done) @0x000073af09f9a270"
      ]
     },
     "metadata": {},
     "output_type": "display_data"
    }
   ],
   "source": [
    "rmprocs(workers())"
   ]
  },
  {
   "cell_type": "code",
   "execution_count": 5,
   "metadata": {},
   "outputs": [
    {
     "name": "stderr",
     "output_type": "stream",
     "text": [
      "┌ Warning: rmprocs: process 1 not removed\n",
      "└ @ Distributed /home/david/.julia/juliaup/julia-1.11.5+0.x64.linux.gnu/share/julia/stdlib/v1.11/Distributed/src/cluster.jl:1049\n"
     ]
    },
    {
     "data": {
      "text/plain": [
       "5"
      ]
     },
     "metadata": {},
     "output_type": "display_data"
    }
   ],
   "source": [
    "# add workers\n",
    "rmprocs(workers())\n",
    "addprocs(4) # agregar 4 workers, cuidado, si lo vuelven a correr, se añaden otros dos\n",
    "nprocs() # numero de procesos"
   ]
  },
  {
   "cell_type": "markdown",
   "metadata": {},
   "source": [
    "Loops utilizando varios procesos, se utilizan arreglos compartidos para permitir que varios procesos accedan al mismo vector."
   ]
  },
  {
   "cell_type": "code",
   "execution_count": 8,
   "metadata": {},
   "outputs": [
    {
     "data": {
      "text/plain": [
       "Task (runnable, started) @0x000074387a0d4c90"
      ]
     },
     "metadata": {},
     "output_type": "display_data"
    }
   ],
   "source": [
    "@everywhere using SharedArrays\n",
    "\n",
    "a = SharedArray{Float64}(10)\n",
    "@distributed for i = 1:10\n",
    "    a[i] = myid()\n",
    "end"
   ]
  },
  {
   "cell_type": "code",
   "execution_count": 9,
   "metadata": {},
   "outputs": [
    {
     "data": {
      "text/plain": [
       "10-element SharedVector{Float64}:\n",
       " 3.0\n",
       " 3.0\n",
       " 3.0\n",
       " 4.0\n",
       " 4.0\n",
       " 4.0\n",
       " 5.0\n",
       " 5.0\n",
       " 2.0\n",
       " 2.0"
      ]
     },
     "metadata": {},
     "output_type": "display_data"
    }
   ],
   "source": [
    "a"
   ]
  },
  {
   "cell_type": "markdown",
   "metadata": {},
   "source": [
    "También existe parallel map en Distributed:"
   ]
  },
  {
   "cell_type": "code",
   "execution_count": 10,
   "metadata": {},
   "outputs": [],
   "source": [
    "using LinearAlgebra"
   ]
  },
  {
   "cell_type": "code",
   "execution_count": 12,
   "metadata": {},
   "outputs": [],
   "source": [
    "M = Matrix{Float64}[rand(10,10) for i = 1:10];\n",
    "\n",
    "singular_values = pmap(svdvals, M);"
   ]
  },
  {
   "cell_type": "code",
   "execution_count": 13,
   "metadata": {},
   "outputs": [
    {
     "data": {
      "text/plain": [
       "10-element Vector{Vector{Float64}}:\n",
       " [5.371796088912782, 1.4902083071784837, 1.273632491388602, 1.1407768816455777, 1.0135294820156346, 0.8726740140879344, 0.4730254895770353, 0.3348051796024388, 0.2304967950241368, 0.1545105814525584]\n",
       " [5.289518643585148, 1.3688623415011456, 1.1497285229949106, 1.003912074710329, 0.8127688579215477, 0.6207684925700976, 0.5020155359480039, 0.3605286922526644, 0.2927835697752153, 0.23773818184784612]\n",
       " [5.629980593387088, 1.237237002498428, 1.1882763265729588, 1.0716807044921204, 0.8940932650200057, 0.6748881501176585, 0.5043640880392224, 0.3671252139514715, 0.1470648218806359, 0.07378129914857072]\n",
       " [5.590547386217717, 1.452711482053013, 1.2539405709883276, 1.121757679607183, 0.7251192913323378, 0.5619870677358195, 0.4114781118026853, 0.24086139413730798, 0.1105484043173538, 0.050951747147417764]\n",
       " [5.158182546598711, 1.4802309398667484, 1.2720539281799592, 1.0582306571750786, 0.8484814926836581, 0.7789160277182511, 0.5818008143469464, 0.5612826477162751, 0.29565980427826966, 0.08468881737539434]\n",
       " [4.887980499053627, 1.4435627495719185, 1.2924623318069715, 1.2233761815934907, 0.9547577006063904, 0.8649562680952814, 0.6343589956952917, 0.2796103537328193, 0.2067295226960908, 0.08239010400405626]\n",
       " [5.028804228332295, 1.7451500204819317, 1.263853587311424, 1.12861840770005, 0.9076717796639222, 0.7386420893568476, 0.42357886512776993, 0.28843581788377354, 0.17847480017974926, 0.022027256364126828]\n",
       " [5.138216611927691, 1.5542157640940688, 1.2202470722069905, 1.1140981990569585, 0.9771831281250333, 0.8773140468845932, 0.688803502885578, 0.6145541603233714, 0.1415943974768012, 0.02747855495979083]\n",
       " [5.495112367318741, 1.4510934372185718, 1.3223678099867984, 1.0663528447252333, 0.7427835405595545, 0.6956073891601812, 0.6161781882194975, 0.37019412049115774, 0.112615372792323, 0.02669459661126961]\n",
       " [5.37807657403561, 1.703680911422807, 1.4413208145701215, 1.1700317758195582, 0.8571482254725372, 0.551474634752833, 0.48502259198172887, 0.4560458530330385, 0.030667158640531957, 0.02197909543605687]"
      ]
     },
     "metadata": {},
     "output_type": "display_data"
    }
   ],
   "source": [
    "singular_values"
   ]
  },
  {
   "cell_type": "markdown",
   "metadata": {},
   "source": [
    "Una de las diferencias entre ``Threads`` y ``Distributed`` es que el primero comparte la memoria y el segundo no. Además, los procesos se pueden distribuir entre máquinas, mientras que los hilos no."
   ]
  },
  {
   "cell_type": "markdown",
   "metadata": {},
   "source": [
    "Como definir el workspace para trabajar con multiples procesos?"
   ]
  },
  {
   "cell_type": "code",
   "execution_count": 14,
   "metadata": {},
   "outputs": [],
   "source": [
    "@everywhere using quantum"
   ]
  },
  {
   "cell_type": "markdown",
   "metadata": {},
   "source": [
    "O por bloques:"
   ]
  },
  {
   "cell_type": "code",
   "execution_count": 17,
   "metadata": {},
   "outputs": [],
   "source": [
    "@everywhere begin\n",
    "    using quantum\n",
    "    using LinearAlgebra\n",
    "    using SharedArrays\n",
    "    function test_parallel(a)\n",
    "        return a^2\n",
    "    end\n",
    "end"
   ]
  },
  {
   "cell_type": "code",
   "execution_count": 20,
   "metadata": {},
   "outputs": [
    {
     "name": "stdout",
     "output_type": "stream",
     "text": [
      "      From worker 4:\tWorker 4 is running\n",
      "      From worker 4:\t16\n",
      "      From worker 4:\tWorker 4 is running\n",
      "      From worker 4:\t25\n",
      "      From worker 4:\tWorker 4 is running\n",
      "      From worker 4:\t36\n",
      "      From worker 3:\tWorker 3 is running\n",
      "      From worker 3:\t1\n",
      "      From worker 3:\tWorker 3 is running\n",
      "      From worker 3:\t4\n",
      "      From worker 3:\tWorker 3 is running\n",
      "      From worker 3:\t9\n",
      "      From worker 2:\tWorker 2 is running\n",
      "      From worker 2:\t81\n",
      "      From worker 2:\tWorker 2 is running\n",
      "      From worker 2:\t100\n",
      "      From worker 5:\tWorker 5 is running\n",
      "      From worker 5:\t49\n",
      "      From worker 5:\tWorker 5 is running\n",
      "      From worker 5:\t64\n"
     ]
    },
    {
     "data": {
      "text/plain": [
       "Task (done) @0x000074387a90cc90"
      ]
     },
     "metadata": {},
     "output_type": "display_data"
    }
   ],
   "source": [
    "@sync @distributed for i in 1:10\n",
    "    println(\"Worker $(myid()) is running\")\n",
    "    println(test_parallel(i))\n",
    "end"
   ]
  },
  {
   "cell_type": "markdown",
   "metadata": {},
   "source": [
    "Ejemplo simple:"
   ]
  },
  {
   "cell_type": "code",
   "execution_count": 28,
   "metadata": {},
   "outputs": [
    {
     "data": {
      "text/plain": [
       "10-element SharedVector{Float64}:\n",
       " 0.0\n",
       " 0.0\n",
       " 0.0\n",
       " 0.0\n",
       " 0.0\n",
       " 0.0\n",
       " 0.0\n",
       " 0.0\n",
       " 0.0\n",
       " 0.0"
      ]
     },
     "metadata": {},
     "output_type": "display_data"
    }
   ],
   "source": [
    "# Crear un arreglo compartido\n",
    "a = SharedArray{Float64}(10)\n",
    "\n",
    "@distributed for i = 1:10\n",
    "    a[i] = i\n",
    "end\n",
    "a"
   ]
  },
  {
   "cell_type": "markdown",
   "metadata": {},
   "source": [
    "El problema aquí es que el macro no espera a que todas las tareas terminen, esto se resuelve con el macro ``@sync``"
   ]
  },
  {
   "cell_type": "code",
   "execution_count": 29,
   "metadata": {},
   "outputs": [
    {
     "data": {
      "text/plain": [
       "10-element SharedVector{Float64}:\n",
       "  1.0\n",
       "  2.0\n",
       "  3.0\n",
       "  4.0\n",
       "  5.0\n",
       "  6.0\n",
       "  7.0\n",
       "  8.0\n",
       "  9.0\n",
       " 10.0"
      ]
     },
     "metadata": {},
     "output_type": "display_data"
    }
   ],
   "source": [
    "# Crear un arreglo compartido\n",
    "a = SharedArray{Float64}(10)\n",
    "\n",
    "@sync @distributed for i = 1:10\n",
    "    a[i] = i\n",
    "end\n",
    "a"
   ]
  },
  {
   "cell_type": "code",
   "execution_count": 30,
   "metadata": {},
   "outputs": [
    {
     "data": {
      "text/plain": [
       "10-element SharedVector{Float64}:\n",
       "  1.0\n",
       "  2.0\n",
       "  3.0\n",
       "  4.0\n",
       "  5.0\n",
       "  6.0\n",
       "  7.0\n",
       "  8.0\n",
       "  9.0\n",
       " 10.0"
      ]
     },
     "metadata": {},
     "output_type": "display_data"
    }
   ],
   "source": [
    "a = SharedArray{Float64}(10)\n",
    "\n",
    "# Usar pmap para asignar valores\n",
    "pmap(i -> (a[i] = i), 1:10)\n",
    "\n",
    "a"
   ]
  },
  {
   "cell_type": "markdown",
   "metadata": {},
   "source": [
    "Distributed es bastante útil también cuando lidiamos con el problema de hacer el mismo proceso multiples veces. Por ejemplo, si queremos propagar muchos estados diferentes con la misma dinámica. En ese caso, de hecho conviene que cada proceso tenga su propia memoria."
   ]
  },
  {
   "cell_type": "markdown",
   "metadata": {},
   "source": [
    "Otro ejemplo, esta vez utilizando reductores"
   ]
  },
  {
   "cell_type": "code",
   "execution_count": 31,
   "metadata": {},
   "outputs": [
    {
     "data": {
      "text/plain": [
       "5050"
      ]
     },
     "metadata": {},
     "output_type": "display_data"
    }
   ],
   "source": [
    "result = @distributed (+) for i in 1:100\n",
    "    i\n",
    "end\n",
    "\n",
    "result"
   ]
  },
  {
   "cell_type": "code",
   "execution_count": 33,
   "metadata": {},
   "outputs": [
    {
     "data": {
      "text/plain": [
       "100-element Vector{Tuple{Int64, Int64}}:\n",
       " (2, 1)\n",
       " (2, 2)\n",
       " (2, 3)\n",
       " (2, 4)\n",
       " (2, 5)\n",
       " (2, 6)\n",
       " (2, 7)\n",
       " (2, 8)\n",
       " (2, 9)\n",
       " (2, 10)\n",
       " ⋮\n",
       " (5, 92)\n",
       " (5, 93)\n",
       " (5, 94)\n",
       " (5, 95)\n",
       " (5, 96)\n",
       " (5, 97)\n",
       " (5, 98)\n",
       " (5, 99)\n",
       " (5, 100)"
      ]
     },
     "metadata": {},
     "output_type": "display_data"
    }
   ],
   "source": [
    "result = @distributed (vcat) for i in 1:100\n",
    "    (myid(), i)\n",
    "end\n",
    "\n",
    "result"
   ]
  },
  {
   "cell_type": "code",
   "execution_count": 36,
   "metadata": {},
   "outputs": [
    {
     "data": {
      "text/plain": [
       "200-element Vector{Any}:\n",
       " 2\n",
       "  [1, 2]\n",
       " 2\n",
       "  [2, 3]\n",
       " 2\n",
       "  [3, 4]\n",
       " 2\n",
       "  [4, 5]\n",
       " 2\n",
       "  [5, 6]\n",
       " ⋮\n",
       "  [96, 97]\n",
       " 5\n",
       "  [97, 98]\n",
       " 5\n",
       "  [98, 99]\n",
       " 5\n",
       "  [99, 100]\n",
       " 5\n",
       "  [100, 101]"
      ]
     },
     "metadata": {},
     "output_type": "display_data"
    }
   ],
   "source": [
    "result = @distributed (vcat) for i in 1:100\n",
    "    [myid(), [i, i+1]]\n",
    "end\n",
    "\n",
    "result"
   ]
  },
  {
   "cell_type": "code",
   "execution_count": 118,
   "metadata": {},
   "outputs": [
    {
     "data": {
      "text/plain": [
       "8-element Vector{Int64}:\n",
       "  4\n",
       "  5\n",
       "  6\n",
       "  7\n",
       "  8\n",
       "  9\n",
       " 10\n",
       " 11"
      ]
     },
     "metadata": {},
     "output_type": "display_data"
    }
   ],
   "source": [
    "workers()"
   ]
  },
  {
   "cell_type": "code",
   "execution_count": 41,
   "metadata": {},
   "outputs": [
    {
     "data": {
      "text/plain": [
       "10-element Vector{Int64}:\n",
       " 2\n",
       " 3\n",
       " 4\n",
       " 5\n",
       " 4\n",
       " 5\n",
       " 5\n",
       " 5\n",
       " 4\n",
       " 4"
      ]
     },
     "metadata": {},
     "output_type": "display_data"
    }
   ],
   "source": [
    "pmap(x->myid(), 1:10)"
   ]
  },
  {
   "cell_type": "code",
   "execution_count": null,
   "metadata": {},
   "outputs": [],
   "source": []
  }
 ],
 "metadata": {
  "kernelspec": {
   "display_name": "Julia 1.11.5",
   "language": "julia",
   "name": "julia-1.11"
  },
  "language_info": {
   "file_extension": ".jl",
   "mimetype": "application/julia",
   "name": "julia",
   "version": "1.11.5"
  }
 },
 "nbformat": 4,
 "nbformat_minor": 2
}
